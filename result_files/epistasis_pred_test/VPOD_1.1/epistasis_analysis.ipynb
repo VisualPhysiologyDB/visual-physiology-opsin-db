{
 "cells": [
  {
   "cell_type": "code",
   "execution_count": 67,
   "metadata": {},
   "outputs": [],
   "source": [
    "from deepBreaks.preprocessing import read_data\n",
    "import pandas as pd\n",
    "\n",
    "EpitestFileName = f\"epistasis_full_test_results_xgb.csv\"\n",
    "\n",
    "WdstestFileName = f\"wds_itr_test_results.csv\"\n",
    "WTtestFileName = f\"wt_all_muts_pred_results.csv\"\n",
    "\n",
    "epi_test = read_data(EpitestFileName, seq_type = None, is_main=False)\n",
    "wds_test = read_data(WdstestFileName, seq_type = None, is_main=False)\n",
    "wt_test = read_data(WTtestFileName, seq_type = None, is_main=False)"
   ]
  },
  {
   "cell_type": "code",
   "execution_count": 50,
   "metadata": {},
   "outputs": [],
   "source": [
    "epi_acc_list = epi_test.Accession.to_list()\n",
    "\n",
    "epi_test = epi_test.set_index(epi_test['Accession'])\n",
    "epi_test = epi_test.drop(columns='Accession')\n",
    "\n",
    "wds_test = wds_test.set_index(wds_test['Accession'])\n",
    "wds_test = wds_test.drop(columns='Accession')\n",
    "wds_test = wds_test.loc[epi_acc_list]\n",
    "\n",
    "wt_test = wt_test.set_index(wt_test['Accession'])\n",
    "wt_test = wt_test.drop(columns='Accession')\n",
    "wt_test = wt_test.loc[epi_acc_list]"
   ]
  },
  {
   "cell_type": "code",
   "execution_count": 51,
   "metadata": {},
   "outputs": [],
   "source": [
    "epi_test['Sqr_Err'] = epi_test['Difference']**2\n",
    "wds_test['Sqr_Err'] = wds_test['Difference']**2\n",
    "wt_test['Sqr_Err'] = wt_test['Difference']**2\n",
    "\n",
    "epi_test = epi_test.sort_values('Accession')\n",
    "wds_test = wds_test.sort_values('Accession')\n",
    "wt_test = wt_test.sort_values('Accession')"
   ]
  },
  {
   "cell_type": "code",
   "execution_count": 38,
   "metadata": {},
   "outputs": [
    {
     "data": {
      "image/png": "[encoded data removed]",
      "text/plain": [
       "<Figure size 640x480 with 1 Axes>"
      ]
     },
     "metadata": {},
     "output_type": "display_data"
    }
   ],
   "source": [
    "\n",
    "import matplotlib.pyplot as plt\n",
    "import scipy.stats as st\n",
    "# ... (your existing code to calculate errors_model1 and errors_model2)\n",
    "\n",
    "# Histogram\n",
    "plt.hist(abs(wds_test['Difference']), bins=20, alpha=0.6, label='WDS_Model', color='blue')\n",
    "plt.hist(abs(epi_test['Difference']), bins=20, alpha=0.9, label='WDS_EpiRmv_Model', color='purple')\n",
    "plt.hist(abs(wt_test['Difference']), bins=20, alpha=0.8, label='WT_Model', color='orange')\n",
    "plt.xlabel('Prediction Error')\n",
    "plt.ylabel('Frequency')\n",
    "plt.legend()\n",
    "plt.title('Histogram of Prediction Errors')\n",
    "plt.show()"
   ]
  },
  {
   "cell_type": "code",
   "execution_count": 39,
   "metadata": {},
   "outputs": [
    {
     "name": "stdout",
     "output_type": "stream",
     "text": [
      "Wilcoxn Signed-Rank Test on ALL Mutant Data\n",
      "Wilcoxon Test: Statistic = 1523.0 p-value = 9.488099012356298e-07 \n",
      "\n",
      "Median of WDS-Model Square-Error = 21.5nm\n",
      "Mean of WDS-Model Square-Error (MSE) = 156.0 // Root Mean Square Error (RMSE) = 12.5nm\n",
      "\n",
      "Median of WT-Model Square-Error = 53.6nm\n",
      "Mean of WDS-Model Square-Error (MSE) = 441.0 // Root Mean Square Error (RMSE) = 21.0nm\n"
     ]
    }
   ],
   "source": [
    "import scipy.stats as st\n",
    "import statistics\n",
    "\n",
    "# Perform Wilcoxn Signed-Rank Test on Epistasic Mutant Data [WDS vs. WT]\n",
    "print(\"Wilcoxn Signed-Rank Test on Epistasic Mutant Data [WDS vs. WT]\")\n",
    "\n",
    "statistic, p_value = st.wilcoxon(wds_test['Sqr_Err'], wt_test['Sqr_Err'], alternative='less')\n",
    "print(\"Wilcoxon Test: Statistic =\", statistic, \"p-value =\", p_value, \"\\n\")\n",
    "\n",
    "print(f\"Median of WDS-Model Square-Error = {statistics.median(wds_test['Sqr_Err']):.1f}nm\\nMean of WDS-Model Square-Error (MSE) = {statistics.mean(wds_test['Sqr_Err']):.1f} // Root Mean Square Error (RMSE) = {statistics.sqrt(statistics.mean(wds_test['Sqr_Err'])):.1f}nm\\n\")\n",
    "print(f\"Median of WT-Model Square-Error = {statistics.median(wt_test['Sqr_Err']):.1f}nm\\nMean of WDS-Model Square-Error (MSE) = {statistics.mean(wt_test['Sqr_Err']):.1f} // Root Mean Square Error (RMSE) = {statistics.sqrt(statistics.mean(wt_test['Sqr_Err'])):.1f}nm\")"
   ]
  },
  {
   "cell_type": "code",
   "execution_count": 45,
   "metadata": {},
   "outputs": [
    {
     "name": "stdout",
     "output_type": "stream",
     "text": [
      "Wilcoxn Signed-Rank Test on Epistasic Mutant Data [WDS vs. EpiRmv-WDS]\n",
      "Wilcoxon Test: Statistic = 3076.0 p-value = 0.7983560716613722 \n",
      "\n",
      "Median of WDS-Model Square-Error = 21.5nm\n",
      "Mean of WDS-Model Square-Error (MSE) = 156.0 // Root Mean Square Error (RMSE) = 12.5nm\n",
      "\n",
      "Median of EpiRmv-WDS-Model Square-Error = 21.6nm\n",
      "Mean of EpiRmv-Model Square-Error (MSE) = 149.3 // Root Mean Square Error (RMSE) = 12.2nm\n"
     ]
    }
   ],
   "source": [
    "import scipy.stats as st\n",
    "import statistics\n",
    "\n",
    "# Perform Wilcoxn Signed-Rank Test on Epistasic Mutant Data [WDS vs. EpiRmv-WDS]\n",
    "print(\"Wilcoxn Signed-Rank Test on Epistasic Mutant Data [WDS vs. EpiRmv-WDS]\")\n",
    "\n",
    "statistic, p_value = st.wilcoxon(epi_test['Sqr_Err'], wds_test['Sqr_Err'], alternative='two-sided')\n",
    "print(\"Wilcoxon Test: Statistic =\", statistic, \"p-value =\", p_value, \"\\n\")\n",
    "\n",
    "print(f\"Median of WDS-Model Square-Error = {statistics.median(wds_test['Sqr_Err']):.1f}nm\\nMean of WDS-Model Square-Error (MSE) = {statistics.mean(wds_test['Sqr_Err']):.1f} // Root Mean Square Error (RMSE) = {statistics.sqrt(statistics.mean(wds_test['Sqr_Err'])):.1f}nm\\n\")\n",
    "print(f\"Median of EpiRmv-WDS-Model Square-Error = {statistics.median(epi_test['Sqr_Err']):.1f}nm\\nMean of EpiRmv-Model Square-Error (MSE) = {statistics.mean(epi_test['Sqr_Err']):.1f} // Root Mean Square Error (RMSE) = {statistics.sqrt(statistics.mean(epi_test['Sqr_Err'])):.1f}nm\")"
   ]
  },
  {
   "cell_type": "code",
   "execution_count": 48,
   "metadata": {},
   "outputs": [
    {
     "name": "stdout",
     "output_type": "stream",
     "text": [
      "Wilcoxn Signed-Rank Test on Epistasic Mutant Data [WT vs. EpiRmv-WDS]\n",
      "Wilcoxon Test: Statistic = 1558.0 p-value = 1.5625403684790498e-06 \n",
      "\n",
      "Median of WT-Model Square-Error = 53.6nm\n",
      "Mean of WT-Model Square-Error (MSE) = 441.0 // Root Mean Square Error (RMSE) = 21.0nm\n",
      "\n",
      "Median of EpiRmv-WDS-Model Square-Error = 21.6nm\n",
      "Mean of EpiRmv-Model Square-Error (MSE) = 149.3 // Root Mean Square Error (RMSE) = 12.2nm\n"
     ]
    }
   ],
   "source": [
    "import scipy.stats as st\n",
    "import statistics\n",
    "\n",
    "# Perform Wilcoxn Signed-Rank Test on Epistasic Mutant Data [WT vs. EpiRmv-WDS]\n",
    "print(\"Wilcoxn Signed-Rank Test on Epistasic Mutant Data [WT vs. EpiRmv-WDS]\")\n",
    "\n",
    "statistic, p_value = st.wilcoxon(epi_test['Sqr_Err'], wt_test['Sqr_Err'], alternative='less')\n",
    "print(\"Wilcoxon Test: Statistic =\", statistic, \"p-value =\", p_value, \"\\n\")\n",
    "\n",
    "print(f\"Median of WT-Model Square-Error = {statistics.median(wt_test['Sqr_Err']):.1f}nm\\nMean of WT-Model Square-Error (MSE) = {statistics.mean(wt_test['Sqr_Err']):.1f} // Root Mean Square Error (RMSE) = {statistics.sqrt(statistics.mean(wt_test['Sqr_Err'])):.1f}nm\\n\")\n",
    "print(f\"Median of EpiRmv-WDS-Model Square-Error = {statistics.median(epi_test['Sqr_Err']):.1f}nm\\nMean of EpiRmv-Model Square-Error (MSE) = {statistics.mean(epi_test['Sqr_Err']):.1f} // Root Mean Square Error (RMSE) = {statistics.sqrt(statistics.mean(epi_test['Sqr_Err'])):.1f}nm\")"
   ]
  },
  {
   "cell_type": "code",
   "execution_count": 74,
   "metadata": {},
   "outputs": [
    {
     "data": {
      "text/plain": [
       "(18, 16)"
      ]
     },
     "execution_count": 74,
     "metadata": {},
     "output_type": "execute_result"
    }
   ],
   "source": [
    "epi_test = epi_test[abs(epi_test['Difference']) <= 1]\n",
    "epi_test.shape"
   ]
  },
  {
   "cell_type": "code",
   "execution_count": 69,
   "metadata": {},
   "outputs": [
    {
     "data": {
      "text/html": [
       "<div>\n",
       "<style scoped>\n",
       "    .dataframe tbody tr th:only-of-type {\n",
       "        vertical-align: middle;\n",
       "    }\n",
       "\n",
       "    .dataframe tbody tr th {\n",
       "        vertical-align: top;\n",
       "    }\n",
       "\n",
       "    .dataframe thead th {\n",
       "        text-align: right;\n",
       "    }\n",
       "</style>\n",
       "<table border=\"1\" class=\"dataframe\">\n",
       "  <thead>\n",
       "    <tr style=\"text-align: right;\">\n",
       "      <th></th>\n",
       "      <th>Species</th>\n",
       "      <th>Phylum</th>\n",
       "      <th>Opsin_Family</th>\n",
       "      <th>Accession</th>\n",
       "      <th>Mutations</th>\n",
       "      <th>Lambda_Max</th>\n",
       "      <th>Prediction</th>\n",
       "      <th>Difference</th>\n",
       "      <th>WT_Lmax</th>\n",
       "      <th>Abs_Diff</th>\n",
       "      <th>Pred_Shift</th>\n",
       "      <th>additive_exp_shift</th>\n",
       "      <th>Shift_Diff</th>\n",
       "      <th>Colors</th>\n",
       "      <th>EdgeColors</th>\n",
       "      <th>mutant_type</th>\n",
       "    </tr>\n",
       "  </thead>\n",
       "  <tbody>\n",
       "    <tr>\n",
       "      <th>S195</th>\n",
       "      <td>Danio_rerio</td>\n",
       "      <td>Chordata</td>\n",
       "      <td>Rh2</td>\n",
       "      <td>AB087805.2_L46F_I49C_S94T_V111A_M112I</td>\n",
       "      <td>L46F, I49C, S94T, V111A, M112I</td>\n",
       "      <td>472.0</td>\n",
       "      <td>470.089761</td>\n",
       "      <td>1.910239</td>\n",
       "      <td>467</td>\n",
       "      <td>5.0</td>\n",
       "      <td>3.089761</td>\n",
       "      <td>9</td>\n",
       "      <td>5.910239</td>\n",
       "      <td>#f0f0f0</td>\n",
       "      <td>#c9c9c9</td>\n",
       "      <td>Multiple Mutations</td>\n",
       "    </tr>\n",
       "    <tr>\n",
       "      <th>S194</th>\n",
       "      <td>Danio_rerio</td>\n",
       "      <td>Chordata</td>\n",
       "      <td>Rh2</td>\n",
       "      <td>AB087805.2_S94T_V111A_M112I</td>\n",
       "      <td>S94T, V111A, M112I</td>\n",
       "      <td>471.0</td>\n",
       "      <td>470.583981</td>\n",
       "      <td>0.416019</td>\n",
       "      <td>467</td>\n",
       "      <td>4.0</td>\n",
       "      <td>3.583981</td>\n",
       "      <td>2</td>\n",
       "      <td>1.583981</td>\n",
       "      <td>#f0f0f0</td>\n",
       "      <td>#c9c9c9</td>\n",
       "      <td>Multiple Mutations</td>\n",
       "    </tr>\n",
       "    <tr>\n",
       "      <th>S823</th>\n",
       "      <td>Anolis_carolinensis</td>\n",
       "      <td>Chordata</td>\n",
       "      <td>SWS2</td>\n",
       "      <td>AF133907_I46F_V49I_G164A</td>\n",
       "      <td>I46F,V49I,G164A</td>\n",
       "      <td>438.0</td>\n",
       "      <td>438.987588</td>\n",
       "      <td>-0.987588</td>\n",
       "      <td>437</td>\n",
       "      <td>1.0</td>\n",
       "      <td>1.987588</td>\n",
       "      <td>5</td>\n",
       "      <td>3.012412</td>\n",
       "      <td>#f0f0f0</td>\n",
       "      <td>#c9c9c9</td>\n",
       "      <td>Multiple Mutations</td>\n",
       "    </tr>\n",
       "    <tr>\n",
       "      <th>S1030</th>\n",
       "      <td>Homo_sapiens</td>\n",
       "      <td>Chordata</td>\n",
       "      <td>LWS</td>\n",
       "      <td>AH005296.2_A180S,A285T</td>\n",
       "      <td>A180S,A285T</td>\n",
       "      <td>546.0</td>\n",
       "      <td>547.751909</td>\n",
       "      <td>-1.751909</td>\n",
       "      <td>532</td>\n",
       "      <td>14.0</td>\n",
       "      <td>15.751909</td>\n",
       "      <td>12</td>\n",
       "      <td>3.751909</td>\n",
       "      <td>#f0f0f0</td>\n",
       "      <td>#762a83</td>\n",
       "      <td>Multiple Mutations</td>\n",
       "    </tr>\n",
       "    <tr>\n",
       "      <th>S1008</th>\n",
       "      <td>Homo_sapiens</td>\n",
       "      <td>Chordata</td>\n",
       "      <td>LWS</td>\n",
       "      <td>AH005296.2_A180S,F277Y,A285T</td>\n",
       "      <td>A180S,F277Y,A285T</td>\n",
       "      <td>555.0</td>\n",
       "      <td>556.467417</td>\n",
       "      <td>-1.467416</td>\n",
       "      <td>532</td>\n",
       "      <td>23.0</td>\n",
       "      <td>24.467416</td>\n",
       "      <td>18</td>\n",
       "      <td>6.467416</td>\n",
       "      <td>#f0f0f0</td>\n",
       "      <td>#762a83</td>\n",
       "      <td>Multiple Mutations</td>\n",
       "    </tr>\n",
       "  </tbody>\n",
       "</table>\n",
       "</div>"
      ],
      "text/plain": [
       "                   Species    Phylum Opsin_Family  \\\n",
       "S195           Danio_rerio  Chordata          Rh2   \n",
       "S194           Danio_rerio  Chordata          Rh2   \n",
       "S823   Anolis_carolinensis  Chordata         SWS2   \n",
       "S1030         Homo_sapiens  Chordata          LWS   \n",
       "S1008         Homo_sapiens  Chordata          LWS   \n",
       "\n",
       "                                   Accession                       Mutations  \\\n",
       "S195   AB087805.2_L46F_I49C_S94T_V111A_M112I  L46F, I49C, S94T, V111A, M112I   \n",
       "S194             AB087805.2_S94T_V111A_M112I              S94T, V111A, M112I   \n",
       "S823                AF133907_I46F_V49I_G164A                 I46F,V49I,G164A   \n",
       "S1030                 AH005296.2_A180S,A285T                     A180S,A285T   \n",
       "S1008           AH005296.2_A180S,F277Y,A285T               A180S,F277Y,A285T   \n",
       "\n",
       "       Lambda_Max  Prediction  Difference  WT_Lmax  Abs_Diff  Pred_Shift  \\\n",
       "S195        472.0  470.089761    1.910239      467       5.0    3.089761   \n",
       "S194        471.0  470.583981    0.416019      467       4.0    3.583981   \n",
       "S823        438.0  438.987588   -0.987588      437       1.0    1.987588   \n",
       "S1030       546.0  547.751909   -1.751909      532      14.0   15.751909   \n",
       "S1008       555.0  556.467417   -1.467416      532      23.0   24.467416   \n",
       "\n",
       "       additive_exp_shift  Shift_Diff   Colors EdgeColors         mutant_type  \n",
       "S195                    9    5.910239  #f0f0f0    #c9c9c9  Multiple Mutations  \n",
       "S194                    2    1.583981  #f0f0f0    #c9c9c9  Multiple Mutations  \n",
       "S823                    5    3.012412  #f0f0f0    #c9c9c9  Multiple Mutations  \n",
       "S1030                  12    3.751909  #f0f0f0    #762a83  Multiple Mutations  \n",
       "S1008                  18    6.467416  #f0f0f0    #762a83  Multiple Mutations  "
      ]
     },
     "execution_count": 69,
     "metadata": {},
     "output_type": "execute_result"
    }
   ],
   "source": [
    "epi_test.head()"
   ]
  },
  {
   "cell_type": "code",
   "execution_count": 70,
   "metadata": {},
   "outputs": [
    {
     "data": {
      "text/plain": [
       "(55, 16)"
      ]
     },
     "execution_count": 70,
     "metadata": {},
     "output_type": "execute_result"
    }
   ],
   "source": [
    "epi_test = epi_test[abs(epi_test['Shift_Diff']) > 1]\n",
    "epi_test.shape"
   ]
  },
  {
   "cell_type": "code",
   "execution_count": 76,
   "metadata": {},
   "outputs": [
    {
     "data": {
      "text/html": [
       "<div>\n",
       "<style scoped>\n",
       "    .dataframe tbody tr th:only-of-type {\n",
       "        vertical-align: middle;\n",
       "    }\n",
       "\n",
       "    .dataframe tbody tr th {\n",
       "        vertical-align: top;\n",
       "    }\n",
       "\n",
       "    .dataframe thead th {\n",
       "        text-align: right;\n",
       "    }\n",
       "</style>\n",
       "<table border=\"1\" class=\"dataframe\">\n",
       "  <thead>\n",
       "    <tr style=\"text-align: right;\">\n",
       "      <th></th>\n",
       "      <th>Species</th>\n",
       "      <th>Phylum</th>\n",
       "      <th>Opsin_Family</th>\n",
       "      <th>Accession</th>\n",
       "      <th>Mutations</th>\n",
       "      <th>Lambda_Max</th>\n",
       "      <th>Prediction</th>\n",
       "      <th>Difference</th>\n",
       "      <th>WT_Lmax</th>\n",
       "      <th>Abs_Diff</th>\n",
       "      <th>Pred_Shift</th>\n",
       "      <th>additive_exp_shift</th>\n",
       "      <th>Shift_Diff</th>\n",
       "      <th>Colors</th>\n",
       "      <th>EdgeColors</th>\n",
       "      <th>mutant_type</th>\n",
       "    </tr>\n",
       "  </thead>\n",
       "  <tbody>\n",
       "    <tr>\n",
       "      <th>S194</th>\n",
       "      <td>Danio_rerio</td>\n",
       "      <td>Chordata</td>\n",
       "      <td>Rh2</td>\n",
       "      <td>AB087805.2_S94T_V111A_M112I</td>\n",
       "      <td>S94T, V111A, M112I</td>\n",
       "      <td>471.0</td>\n",
       "      <td>470.583981</td>\n",
       "      <td>0.416019</td>\n",
       "      <td>467</td>\n",
       "      <td>4.0</td>\n",
       "      <td>3.583981</td>\n",
       "      <td>2</td>\n",
       "      <td>1.583981</td>\n",
       "      <td>#f0f0f0</td>\n",
       "      <td>#c9c9c9</td>\n",
       "      <td>Multiple Mutations</td>\n",
       "    </tr>\n",
       "    <tr>\n",
       "      <th>S823</th>\n",
       "      <td>Anolis_carolinensis</td>\n",
       "      <td>Chordata</td>\n",
       "      <td>SWS2</td>\n",
       "      <td>AF133907_I46F_V49I_G164A</td>\n",
       "      <td>I46F,V49I,G164A</td>\n",
       "      <td>438.0</td>\n",
       "      <td>438.987588</td>\n",
       "      <td>-0.987588</td>\n",
       "      <td>437</td>\n",
       "      <td>1.0</td>\n",
       "      <td>1.987588</td>\n",
       "      <td>5</td>\n",
       "      <td>3.012412</td>\n",
       "      <td>#f0f0f0</td>\n",
       "      <td>#c9c9c9</td>\n",
       "      <td>Multiple Mutations</td>\n",
       "    </tr>\n",
       "    <tr>\n",
       "      <th>S1019</th>\n",
       "      <td>Homo_sapiens</td>\n",
       "      <td>Chordata</td>\n",
       "      <td>LWS</td>\n",
       "      <td>AH005296.2_A180S,T230I,F277Y,A285T,F309Y</td>\n",
       "      <td>A180S,T230I,F277Y,A285T,F309Y</td>\n",
       "      <td>558.0</td>\n",
       "      <td>558.914701</td>\n",
       "      <td>-0.914701</td>\n",
       "      <td>532</td>\n",
       "      <td>26.0</td>\n",
       "      <td>26.914701</td>\n",
       "      <td>18</td>\n",
       "      <td>8.914701</td>\n",
       "      <td>#f0f0f0</td>\n",
       "      <td>#762a83</td>\n",
       "      <td>Multiple Mutations</td>\n",
       "    </tr>\n",
       "    <tr>\n",
       "      <th>S1018</th>\n",
       "      <td>Homo_sapiens</td>\n",
       "      <td>Chordata</td>\n",
       "      <td>LWS</td>\n",
       "      <td>AH005296.2_A180S,T230I,S233A,F277Y,A285T,F309Y</td>\n",
       "      <td>A180S,T230I,S233A,F277Y,A285T,F309Y</td>\n",
       "      <td>560.0</td>\n",
       "      <td>559.077834</td>\n",
       "      <td>0.922166</td>\n",
       "      <td>532</td>\n",
       "      <td>28.0</td>\n",
       "      <td>27.077834</td>\n",
       "      <td>19</td>\n",
       "      <td>8.077834</td>\n",
       "      <td>#f0f0f0</td>\n",
       "      <td>#762a83</td>\n",
       "      <td>Multiple Mutations</td>\n",
       "    </tr>\n",
       "    <tr>\n",
       "      <th>S1031</th>\n",
       "      <td>Homo_sapiens</td>\n",
       "      <td>Chordata</td>\n",
       "      <td>LWS</td>\n",
       "      <td>AH005296.2_F277Y,A285T</td>\n",
       "      <td>F277Y,A285T</td>\n",
       "      <td>550.0</td>\n",
       "      <td>550.736699</td>\n",
       "      <td>-0.736699</td>\n",
       "      <td>532</td>\n",
       "      <td>18.0</td>\n",
       "      <td>18.736699</td>\n",
       "      <td>16</td>\n",
       "      <td>2.736699</td>\n",
       "      <td>#f0f0f0</td>\n",
       "      <td>#762a83</td>\n",
       "      <td>Multiple Mutations</td>\n",
       "    </tr>\n",
       "  </tbody>\n",
       "</table>\n",
       "</div>"
      ],
      "text/plain": [
       "                   Species    Phylum Opsin_Family  \\\n",
       "S194           Danio_rerio  Chordata          Rh2   \n",
       "S823   Anolis_carolinensis  Chordata         SWS2   \n",
       "S1019         Homo_sapiens  Chordata          LWS   \n",
       "S1018         Homo_sapiens  Chordata          LWS   \n",
       "S1031         Homo_sapiens  Chordata          LWS   \n",
       "\n",
       "                                            Accession  \\\n",
       "S194                      AB087805.2_S94T_V111A_M112I   \n",
       "S823                         AF133907_I46F_V49I_G164A   \n",
       "S1019        AH005296.2_A180S,T230I,F277Y,A285T,F309Y   \n",
       "S1018  AH005296.2_A180S,T230I,S233A,F277Y,A285T,F309Y   \n",
       "S1031                          AH005296.2_F277Y,A285T   \n",
       "\n",
       "                                 Mutations  Lambda_Max  Prediction  \\\n",
       "S194                    S94T, V111A, M112I       471.0  470.583981   \n",
       "S823                       I46F,V49I,G164A       438.0  438.987588   \n",
       "S1019        A180S,T230I,F277Y,A285T,F309Y       558.0  558.914701   \n",
       "S1018  A180S,T230I,S233A,F277Y,A285T,F309Y       560.0  559.077834   \n",
       "S1031                          F277Y,A285T       550.0  550.736699   \n",
       "\n",
       "       Difference  WT_Lmax  Abs_Diff  Pred_Shift  additive_exp_shift  \\\n",
       "S194     0.416019      467       4.0    3.583981                   2   \n",
       "S823    -0.987588      437       1.0    1.987588                   5   \n",
       "S1019   -0.914701      532      26.0   26.914701                  18   \n",
       "S1018    0.922166      532      28.0   27.077834                  19   \n",
       "S1031   -0.736699      532      18.0   18.736699                  16   \n",
       "\n",
       "       Shift_Diff   Colors EdgeColors         mutant_type  \n",
       "S194     1.583981  #f0f0f0    #c9c9c9  Multiple Mutations  \n",
       "S823     3.012412  #f0f0f0    #c9c9c9  Multiple Mutations  \n",
       "S1019    8.914701  #f0f0f0    #762a83  Multiple Mutations  \n",
       "S1018    8.077834  #f0f0f0    #762a83  Multiple Mutations  \n",
       "S1031    2.736699  #f0f0f0    #762a83  Multiple Mutations  "
      ]
     },
     "execution_count": 76,
     "metadata": {},
     "output_type": "execute_result"
    }
   ],
   "source": [
    "epi_test.head()"
   ]
  },
  {
   "cell_type": "code",
   "execution_count": 75,
   "metadata": {},
   "outputs": [
    {
     "data": {
      "text/plain": [
       "<matplotlib.collections.PathCollection at 0x2b68aa5b400>"
      ]
     },
     "execution_count": 75,
     "metadata": {},
     "output_type": "execute_result"
    },
    {
     "data": {
      "image/png": "[encoded data removed]",
      "text/plain": [
       "<Figure size 640x480 with 1 Axes>"
      ]
     },
     "metadata": {},
     "output_type": "display_data"
    }
   ],
   "source": [
    "plt.scatter(epi_test['Abs_Diff'], abs(epi_test['Difference']))\n"
   ]
  }
 ],
 "metadata": {
  "kernelspec": {
   "display_name": "deepBreaks",
   "language": "python",
   "name": "python3"
  },
  "language_info": {
   "codemirror_mode": {
    "name": "ipython",
    "version": 3
   },
   "file_extension": ".py",
   "mimetype": "text/x-python",
   "name": "python",
   "nbconvert_exporter": "python",
   "pygments_lexer": "ipython3",
   "version": "3.9.17"
  }
 },
 "nbformat": 4,
 "nbformat_minor": 2
}
