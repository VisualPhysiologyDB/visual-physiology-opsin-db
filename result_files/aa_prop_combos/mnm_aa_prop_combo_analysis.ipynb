{
 "cells": [
  {
   "cell_type": "code",
   "execution_count": 1,
   "metadata": {},
   "outputs": [],
   "source": [
    "import os\n",
    "import re\n",
    "import datetime\n",
    "import time\n",
    "import json\n",
    "import pandas as pd\n",
    "import numpy as np"
   ]
  },
  {
   "cell_type": "markdown",
   "metadata": {},
   "source": [
    "## <font color=#c51b8a>Amino Acid Property Analysis: (Part 1)</font> \n",
    "### A pre-grid-search analysis of the best amino acid properties combinations for training ML models on different opsin datasets...  "
   ]
  },
  {
   "cell_type": "code",
   "execution_count": 4,
   "metadata": {},
   "outputs": [],
   "source": [
    "report_dir = './vpod_1.2/aa_prop_combos_mnm_analysis_2025-03-10_12-48-09'"
   ]
  },
  {
   "cell_type": "markdown",
   "metadata": {},
   "source": [
    "### <font color=#c994c7>Whole Dataset (WDS)</font>"
   ]
  },
  {
   "cell_type": "code",
   "execution_count": 7,
   "metadata": {},
   "outputs": [
    {
     "data": {
      "application/vnd.microsoft.datawrangler.viewer.v0+json": {
       "columns": [
        {
         "name": "index",
         "rawType": "int64",
         "type": "integer"
        },
        {
         "name": "Dataset",
         "rawType": "object",
         "type": "string"
        },
        {
         "name": "Props_Used",
         "rawType": "object",
         "type": "string"
        },
        {
         "name": "Model",
         "rawType": "object",
         "type": "string"
        },
        {
         "name": "R2",
         "rawType": "float64",
         "type": "float"
        },
        {
         "name": "MAE",
         "rawType": "float64",
         "type": "float"
        },
        {
         "name": "MAPE",
         "rawType": "float64",
         "type": "float"
        },
        {
         "name": "MSE",
         "rawType": "float64",
         "type": "float"
        },
        {
         "name": "RMSE",
         "rawType": "float64",
         "type": "float"
        }
       ],
       "conversionMethod": "pd.DataFrame",
       "ref": "f136adc7-c9e2-4b12-b95f-a435f53249fb",
       "rows": [
        [
         "0",
         "wds_mnm",
         "H1_",
         "rf",
         "0.966493331027994",
         "5.828355640901529",
         "0.0127627830719994",
         "123.17067303943313",
         "10.969838463241254"
        ],
        [
         "1",
         "wds_mnm",
         "H1_",
         "xgb",
         "0.9596844006415802",
         "6.161644056262345",
         "0.0134526347517091",
         "148.04531878190306",
         "11.971937683332367"
        ],
        [
         "2",
         "wds_mnm",
         "H1_",
         "gbr",
         "0.9572647666626328",
         "7.848281358115225",
         "0.0173718060216974",
         "155.3689670280854",
         "12.372930960848718"
        ],
        [
         "3",
         "wds_mnm",
         "H1_",
         "BayesianRidge",
         "0.9407112001226248",
         "10.34526843850808",
         "0.0231329292301443",
         "216.2584917309376",
         "14.635952781156172"
        ],
        [
         "4",
         "wds_mnm",
         "H2_",
         "rf",
         "0.965513595037932",
         "6.069675718405721",
         "0.013257143985193",
         "126.4510718892838",
         "11.107524223713575"
        ]
       ],
       "shape": {
        "columns": 8,
        "rows": 5
       }
      },
      "text/html": [
       "<div>\n",
       "<style scoped>\n",
       "    .dataframe tbody tr th:only-of-type {\n",
       "        vertical-align: middle;\n",
       "    }\n",
       "\n",
       "    .dataframe tbody tr th {\n",
       "        vertical-align: top;\n",
       "    }\n",
       "\n",
       "    .dataframe thead th {\n",
       "        text-align: right;\n",
       "    }\n",
       "</style>\n",
       "<table border=\"1\" class=\"dataframe\">\n",
       "  <thead>\n",
       "    <tr style=\"text-align: right;\">\n",
       "      <th></th>\n",
       "      <th>Dataset</th>\n",
       "      <th>Props_Used</th>\n",
       "      <th>Model</th>\n",
       "      <th>R2</th>\n",
       "      <th>MAE</th>\n",
       "      <th>MAPE</th>\n",
       "      <th>MSE</th>\n",
       "      <th>RMSE</th>\n",
       "    </tr>\n",
       "  </thead>\n",
       "  <tbody>\n",
       "    <tr>\n",
       "      <th>0</th>\n",
       "      <td>wds_mnm</td>\n",
       "      <td>H1_</td>\n",
       "      <td>rf</td>\n",
       "      <td>0.966493</td>\n",
       "      <td>5.828356</td>\n",
       "      <td>0.012763</td>\n",
       "      <td>123.170673</td>\n",
       "      <td>10.969838</td>\n",
       "    </tr>\n",
       "    <tr>\n",
       "      <th>1</th>\n",
       "      <td>wds_mnm</td>\n",
       "      <td>H1_</td>\n",
       "      <td>xgb</td>\n",
       "      <td>0.959684</td>\n",
       "      <td>6.161644</td>\n",
       "      <td>0.013453</td>\n",
       "      <td>148.045319</td>\n",
       "      <td>11.971938</td>\n",
       "    </tr>\n",
       "    <tr>\n",
       "      <th>2</th>\n",
       "      <td>wds_mnm</td>\n",
       "      <td>H1_</td>\n",
       "      <td>gbr</td>\n",
       "      <td>0.957265</td>\n",
       "      <td>7.848281</td>\n",
       "      <td>0.017372</td>\n",
       "      <td>155.368967</td>\n",
       "      <td>12.372931</td>\n",
       "    </tr>\n",
       "    <tr>\n",
       "      <th>3</th>\n",
       "      <td>wds_mnm</td>\n",
       "      <td>H1_</td>\n",
       "      <td>BayesianRidge</td>\n",
       "      <td>0.940711</td>\n",
       "      <td>10.345268</td>\n",
       "      <td>0.023133</td>\n",
       "      <td>216.258492</td>\n",
       "      <td>14.635953</td>\n",
       "    </tr>\n",
       "    <tr>\n",
       "      <th>4</th>\n",
       "      <td>wds_mnm</td>\n",
       "      <td>H2_</td>\n",
       "      <td>rf</td>\n",
       "      <td>0.965514</td>\n",
       "      <td>6.069676</td>\n",
       "      <td>0.013257</td>\n",
       "      <td>126.451072</td>\n",
       "      <td>11.107524</td>\n",
       "    </tr>\n",
       "  </tbody>\n",
       "</table>\n",
       "</div>"
      ],
      "text/plain": [
       "   Dataset Props_Used          Model        R2        MAE      MAPE  \\\n",
       "0  wds_mnm        H1_             rf  0.966493   5.828356  0.012763   \n",
       "1  wds_mnm        H1_            xgb  0.959684   6.161644  0.013453   \n",
       "2  wds_mnm        H1_            gbr  0.957265   7.848281  0.017372   \n",
       "3  wds_mnm        H1_  BayesianRidge  0.940711  10.345268  0.023133   \n",
       "4  wds_mnm        H2_             rf  0.965514   6.069676  0.013257   \n",
       "\n",
       "          MSE       RMSE  \n",
       "0  123.170673  10.969838  \n",
       "1  148.045319  11.971938  \n",
       "2  155.368967  12.372931  \n",
       "3  216.258492  14.635953  \n",
       "4  126.451072  11.107524  "
      ]
     },
     "execution_count": 7,
     "metadata": {},
     "output_type": "execute_result"
    }
   ],
   "source": [
    "wds_file = f'{report_dir}/wds_mnm_aa_prop_combos_results.csv'\n",
    "wds_df = pd.read_csv(wds_file)\n",
    "wds_df.head()"
   ]
  },
  {
   "cell_type": "code",
   "execution_count": 8,
   "metadata": {},
   "outputs": [
    {
     "data": {
      "application/vnd.microsoft.datawrangler.viewer.v0+json": {
       "columns": [
        {
         "name": "index",
         "rawType": "int64",
         "type": "integer"
        },
        {
         "name": "Dataset",
         "rawType": "object",
         "type": "string"
        },
        {
         "name": "Props_Used",
         "rawType": "object",
         "type": "string"
        },
        {
         "name": "Model",
         "rawType": "object",
         "type": "string"
        },
        {
         "name": "R2",
         "rawType": "float64",
         "type": "float"
        },
        {
         "name": "MAE",
         "rawType": "float64",
         "type": "float"
        },
        {
         "name": "MAPE",
         "rawType": "float64",
         "type": "float"
        },
        {
         "name": "MSE",
         "rawType": "float64",
         "type": "float"
        },
        {
         "name": "RMSE",
         "rawType": "float64",
         "type": "float"
        },
        {
         "name": "Ranked_By",
         "rawType": "object",
         "type": "string"
        }
       ],
       "conversionMethod": "pd.DataFrame",
       "ref": "1b97bfed-6d3f-4910-bb33-ff5a099ad39a",
       "rows": [
        [
         "0",
         "wds_mnm",
         "H2_NCI_MASS_",
         "rf",
         "0.9678610930807334",
         "5.724481820960712",
         "0.0124949877173849",
         "117.6741937080777",
         "10.692379939162596",
         "R2"
        ],
        [
         "1",
         "wds_mnm",
         "P1_NCI_MASS_",
         "rf",
         "0.9678493412522148",
         "5.801478524835295",
         "0.0126783658190506",
         "117.8601705778475",
         "10.696163699856154",
         "R2"
        ],
        [
         "2",
         "wds_mnm",
         "H2_H3_P2_MASS_",
         "xgb",
         "0.9678476083352824",
         "5.687739585333806",
         "0.0124036281777596",
         "118.48244674629784",
         "10.757487320433611",
         "R2"
        ],
        [
         "3",
         "wds_mnm",
         "H2_H3_NCI_MASS_",
         "rf",
         "0.967846750218524",
         "5.729064197482562",
         "0.0125119612310984",
         "117.66799973505456",
         "10.698527785027624",
         "R2"
        ],
        [
         "4",
         "wds_mnm",
         "H2_P2_V_MASS_SCT_",
         "xgb",
         "0.9678293416349424",
         "5.627071332031151",
         "0.0122785476195747",
         "118.52650585106936",
         "10.70711508431189",
         "R2"
        ]
       ],
       "shape": {
        "columns": 9,
        "rows": 5
       }
      },
      "text/html": [
       "<div>\n",
       "<style scoped>\n",
       "    .dataframe tbody tr th:only-of-type {\n",
       "        vertical-align: middle;\n",
       "    }\n",
       "\n",
       "    .dataframe tbody tr th {\n",
       "        vertical-align: top;\n",
       "    }\n",
       "\n",
       "    .dataframe thead th {\n",
       "        text-align: right;\n",
       "    }\n",
       "</style>\n",
       "<table border=\"1\" class=\"dataframe\">\n",
       "  <thead>\n",
       "    <tr style=\"text-align: right;\">\n",
       "      <th></th>\n",
       "      <th>Dataset</th>\n",
       "      <th>Props_Used</th>\n",
       "      <th>Model</th>\n",
       "      <th>R2</th>\n",
       "      <th>MAE</th>\n",
       "      <th>MAPE</th>\n",
       "      <th>MSE</th>\n",
       "      <th>RMSE</th>\n",
       "      <th>Ranked_By</th>\n",
       "    </tr>\n",
       "  </thead>\n",
       "  <tbody>\n",
       "    <tr>\n",
       "      <th>0</th>\n",
       "      <td>wds_mnm</td>\n",
       "      <td>H2_NCI_MASS_</td>\n",
       "      <td>rf</td>\n",
       "      <td>0.967861</td>\n",
       "      <td>5.724482</td>\n",
       "      <td>0.012495</td>\n",
       "      <td>117.674194</td>\n",
       "      <td>10.692380</td>\n",
       "      <td>R2</td>\n",
       "    </tr>\n",
       "    <tr>\n",
       "      <th>1</th>\n",
       "      <td>wds_mnm</td>\n",
       "      <td>P1_NCI_MASS_</td>\n",
       "      <td>rf</td>\n",
       "      <td>0.967849</td>\n",
       "      <td>5.801479</td>\n",
       "      <td>0.012678</td>\n",
       "      <td>117.860171</td>\n",
       "      <td>10.696164</td>\n",
       "      <td>R2</td>\n",
       "    </tr>\n",
       "    <tr>\n",
       "      <th>2</th>\n",
       "      <td>wds_mnm</td>\n",
       "      <td>H2_H3_P2_MASS_</td>\n",
       "      <td>xgb</td>\n",
       "      <td>0.967848</td>\n",
       "      <td>5.687740</td>\n",
       "      <td>0.012404</td>\n",
       "      <td>118.482447</td>\n",
       "      <td>10.757487</td>\n",
       "      <td>R2</td>\n",
       "    </tr>\n",
       "    <tr>\n",
       "      <th>3</th>\n",
       "      <td>wds_mnm</td>\n",
       "      <td>H2_H3_NCI_MASS_</td>\n",
       "      <td>rf</td>\n",
       "      <td>0.967847</td>\n",
       "      <td>5.729064</td>\n",
       "      <td>0.012512</td>\n",
       "      <td>117.668000</td>\n",
       "      <td>10.698528</td>\n",
       "      <td>R2</td>\n",
       "    </tr>\n",
       "    <tr>\n",
       "      <th>4</th>\n",
       "      <td>wds_mnm</td>\n",
       "      <td>H2_P2_V_MASS_SCT_</td>\n",
       "      <td>xgb</td>\n",
       "      <td>0.967829</td>\n",
       "      <td>5.627071</td>\n",
       "      <td>0.012279</td>\n",
       "      <td>118.526506</td>\n",
       "      <td>10.707115</td>\n",
       "      <td>R2</td>\n",
       "    </tr>\n",
       "  </tbody>\n",
       "</table>\n",
       "</div>"
      ],
      "text/plain": [
       "   Dataset         Props_Used Model        R2       MAE      MAPE         MSE  \\\n",
       "0  wds_mnm       H2_NCI_MASS_    rf  0.967861  5.724482  0.012495  117.674194   \n",
       "1  wds_mnm       P1_NCI_MASS_    rf  0.967849  5.801479  0.012678  117.860171   \n",
       "2  wds_mnm     H2_H3_P2_MASS_   xgb  0.967848  5.687740  0.012404  118.482447   \n",
       "3  wds_mnm    H2_H3_NCI_MASS_    rf  0.967847  5.729064  0.012512  117.668000   \n",
       "4  wds_mnm  H2_P2_V_MASS_SCT_   xgb  0.967829  5.627071  0.012279  118.526506   \n",
       "\n",
       "        RMSE Ranked_By  \n",
       "0  10.692380        R2  \n",
       "1  10.696164        R2  \n",
       "2  10.757487        R2  \n",
       "3  10.698528        R2  \n",
       "4  10.707115        R2  "
      ]
     },
     "execution_count": 8,
     "metadata": {},
     "output_type": "execute_result"
    }
   ],
   "source": [
    "wds_df_filtered = wds_df.copy()\n",
    "wds_df_filtered.sort_values('R2',ascending=False,inplace=True)\n",
    "wds_df_filtered.reset_index(inplace=True, drop=True)\n",
    "wds_df_filtered['Ranked_By'] = 'R2'\n",
    "wds_df_filtered.head()"
   ]
  },
  {
   "cell_type": "code",
   "execution_count": 9,
   "metadata": {},
   "outputs": [
    {
     "data": {
      "application/vnd.microsoft.datawrangler.viewer.v0+json": {
       "columns": [
        {
         "name": "index",
         "rawType": "int64",
         "type": "integer"
        },
        {
         "name": "Dataset",
         "rawType": "object",
         "type": "string"
        },
        {
         "name": "Props_Used",
         "rawType": "object",
         "type": "string"
        },
        {
         "name": "Model",
         "rawType": "object",
         "type": "string"
        },
        {
         "name": "R2",
         "rawType": "float64",
         "type": "float"
        },
        {
         "name": "MAE",
         "rawType": "float64",
         "type": "float"
        },
        {
         "name": "MAPE",
         "rawType": "float64",
         "type": "float"
        },
        {
         "name": "MSE",
         "rawType": "float64",
         "type": "float"
        },
        {
         "name": "RMSE",
         "rawType": "float64",
         "type": "float"
        },
        {
         "name": "Ranked_By",
         "rawType": "object",
         "type": "string"
        }
       ],
       "conversionMethod": "pd.DataFrame",
       "ref": "b179449d-9473-48b9-b785-6211d03dc8d2",
       "rows": [
        [
         "0",
         "wds_mnm",
         "H2_NCI_MASS_SASA_",
         "xgb",
         "0.9676090369753756",
         "5.608073663282764",
         "0.0122009041622177",
         "119.01409327596808",
         "10.71789628912209",
         "MAE"
        ],
        [
         "1",
         "wds_mnm",
         "H2_P2_V_MASS_SCT_",
         "xgb",
         "0.9678293416349424",
         "5.627071332031151",
         "0.0122785476195747",
         "118.52650585106936",
         "10.70711508431189",
         "MAE"
        ],
        [
         "2",
         "wds_mnm",
         "H2_NCI_MASS_",
         "xgb",
         "0.9661683822786392",
         "5.671011839371838",
         "0.0123483317791711",
         "124.94356751096362",
         "10.98877764916933",
         "MAE"
        ],
        [
         "3",
         "wds_mnm",
         "H2_P2_V_SCT_",
         "xgb",
         "0.9653752217594732",
         "5.672699892477519",
         "0.0123746942994944",
         "127.7103010642658",
         "11.133987875084712",
         "MAE"
        ],
        [
         "4",
         "wds_mnm",
         "H2_P2_NCI_MASS_SASA_",
         "xgb",
         "0.9668987798149866",
         "5.676725684989929",
         "0.0123624415154267",
         "121.48312271752586",
         "10.83624529343677",
         "MAE"
        ]
       ],
       "shape": {
        "columns": 9,
        "rows": 5
       }
      },
      "text/html": [
       "<div>\n",
       "<style scoped>\n",
       "    .dataframe tbody tr th:only-of-type {\n",
       "        vertical-align: middle;\n",
       "    }\n",
       "\n",
       "    .dataframe tbody tr th {\n",
       "        vertical-align: top;\n",
       "    }\n",
       "\n",
       "    .dataframe thead th {\n",
       "        text-align: right;\n",
       "    }\n",
       "</style>\n",
       "<table border=\"1\" class=\"dataframe\">\n",
       "  <thead>\n",
       "    <tr style=\"text-align: right;\">\n",
       "      <th></th>\n",
       "      <th>Dataset</th>\n",
       "      <th>Props_Used</th>\n",
       "      <th>Model</th>\n",
       "      <th>R2</th>\n",
       "      <th>MAE</th>\n",
       "      <th>MAPE</th>\n",
       "      <th>MSE</th>\n",
       "      <th>RMSE</th>\n",
       "      <th>Ranked_By</th>\n",
       "    </tr>\n",
       "  </thead>\n",
       "  <tbody>\n",
       "    <tr>\n",
       "      <th>0</th>\n",
       "      <td>wds_mnm</td>\n",
       "      <td>H2_NCI_MASS_SASA_</td>\n",
       "      <td>xgb</td>\n",
       "      <td>0.967609</td>\n",
       "      <td>5.608074</td>\n",
       "      <td>0.012201</td>\n",
       "      <td>119.014093</td>\n",
       "      <td>10.717896</td>\n",
       "      <td>MAE</td>\n",
       "    </tr>\n",
       "    <tr>\n",
       "      <th>1</th>\n",
       "      <td>wds_mnm</td>\n",
       "      <td>H2_P2_V_MASS_SCT_</td>\n",
       "      <td>xgb</td>\n",
       "      <td>0.967829</td>\n",
       "      <td>5.627071</td>\n",
       "      <td>0.012279</td>\n",
       "      <td>118.526506</td>\n",
       "      <td>10.707115</td>\n",
       "      <td>MAE</td>\n",
       "    </tr>\n",
       "    <tr>\n",
       "      <th>2</th>\n",
       "      <td>wds_mnm</td>\n",
       "      <td>H2_NCI_MASS_</td>\n",
       "      <td>xgb</td>\n",
       "      <td>0.966168</td>\n",
       "      <td>5.671012</td>\n",
       "      <td>0.012348</td>\n",
       "      <td>124.943568</td>\n",
       "      <td>10.988778</td>\n",
       "      <td>MAE</td>\n",
       "    </tr>\n",
       "    <tr>\n",
       "      <th>3</th>\n",
       "      <td>wds_mnm</td>\n",
       "      <td>H2_P2_V_SCT_</td>\n",
       "      <td>xgb</td>\n",
       "      <td>0.965375</td>\n",
       "      <td>5.672700</td>\n",
       "      <td>0.012375</td>\n",
       "      <td>127.710301</td>\n",
       "      <td>11.133988</td>\n",
       "      <td>MAE</td>\n",
       "    </tr>\n",
       "    <tr>\n",
       "      <th>4</th>\n",
       "      <td>wds_mnm</td>\n",
       "      <td>H2_P2_NCI_MASS_SASA_</td>\n",
       "      <td>xgb</td>\n",
       "      <td>0.966899</td>\n",
       "      <td>5.676726</td>\n",
       "      <td>0.012362</td>\n",
       "      <td>121.483123</td>\n",
       "      <td>10.836245</td>\n",
       "      <td>MAE</td>\n",
       "    </tr>\n",
       "  </tbody>\n",
       "</table>\n",
       "</div>"
      ],
      "text/plain": [
       "   Dataset            Props_Used Model        R2       MAE      MAPE  \\\n",
       "0  wds_mnm     H2_NCI_MASS_SASA_   xgb  0.967609  5.608074  0.012201   \n",
       "1  wds_mnm     H2_P2_V_MASS_SCT_   xgb  0.967829  5.627071  0.012279   \n",
       "2  wds_mnm          H2_NCI_MASS_   xgb  0.966168  5.671012  0.012348   \n",
       "3  wds_mnm          H2_P2_V_SCT_   xgb  0.965375  5.672700  0.012375   \n",
       "4  wds_mnm  H2_P2_NCI_MASS_SASA_   xgb  0.966899  5.676726  0.012362   \n",
       "\n",
       "          MSE       RMSE Ranked_By  \n",
       "0  119.014093  10.717896       MAE  \n",
       "1  118.526506  10.707115       MAE  \n",
       "2  124.943568  10.988778       MAE  \n",
       "3  127.710301  11.133988       MAE  \n",
       "4  121.483123  10.836245       MAE  "
      ]
     },
     "execution_count": 9,
     "metadata": {},
     "output_type": "execute_result"
    }
   ],
   "source": [
    "wds_df_filtered2 = wds_df.copy()\n",
    "wds_df_filtered2.sort_values('MAE',ascending=True,inplace=True)\n",
    "wds_df_filtered2.reset_index(inplace=True, drop=True)\n",
    "wds_df_filtered2['Ranked_By'] = 'MAE'\n",
    "wds_df_filtered2.head()"
   ]
  },
  {
   "cell_type": "code",
   "execution_count": 10,
   "metadata": {},
   "outputs": [],
   "source": [
    "top_mnm_aa_prop_df = pd.concat([wds_df_filtered[0:5], wds_df_filtered2[0:5]], ignore_index=True)"
   ]
  },
  {
   "cell_type": "markdown",
   "metadata": {},
   "source": [
    "### <font color=#c994c7>Wild-Type Dataset (WT)</font>"
   ]
  },
  {
   "cell_type": "code",
   "execution_count": 11,
   "metadata": {},
   "outputs": [
    {
     "data": {
      "application/vnd.microsoft.datawrangler.viewer.v0+json": {
       "columns": [
        {
         "name": "index",
         "rawType": "int64",
         "type": "integer"
        },
        {
         "name": "Dataset",
         "rawType": "object",
         "type": "string"
        },
        {
         "name": "Props_Used",
         "rawType": "object",
         "type": "string"
        },
        {
         "name": "Model",
         "rawType": "object",
         "type": "string"
        },
        {
         "name": "R2",
         "rawType": "float64",
         "type": "float"
        },
        {
         "name": "MAE",
         "rawType": "float64",
         "type": "float"
        },
        {
         "name": "MAPE",
         "rawType": "float64",
         "type": "float"
        },
        {
         "name": "MSE",
         "rawType": "float64",
         "type": "float"
        },
        {
         "name": "RMSE",
         "rawType": "float64",
         "type": "float"
        }
       ],
       "conversionMethod": "pd.DataFrame",
       "ref": "6fd39274-d187-4b20-9cb9-83a03a869bc6",
       "rows": [
        [
         "0",
         "wt_mnm",
         "H1_",
         "rf",
         "0.9507366589938008",
         "7.327905057365195",
         "0.0155309322589492",
         "148.5737262455594",
         "11.992237707088517"
        ],
        [
         "1",
         "wt_mnm",
         "H1_",
         "gbr",
         "0.9475690955596652",
         "8.277377147180163",
         "0.0175328684173934",
         "158.20185664819596",
         "12.403675752858357"
        ],
        [
         "2",
         "wt_mnm",
         "H1_",
         "xgb",
         "0.944906615702474",
         "7.537731358564592",
         "0.0160027738441902",
         "167.4150620961527",
         "12.659047141242796"
        ],
        [
         "3",
         "wt_mnm",
         "H1_",
         "BayesianRidge",
         "0.9293971586730766",
         "10.43586638930123",
         "0.0222611221086418",
         "212.13459082174205",
         "14.485420307158371"
        ],
        [
         "4",
         "wt_mnm",
         "H2_",
         "rf",
         "0.9518391364473372",
         "7.474509930117999",
         "0.0158153124603433",
         "147.11515279017425",
         "11.86440849155068"
        ]
       ],
       "shape": {
        "columns": 8,
        "rows": 5
       }
      },
      "text/html": [
       "<div>\n",
       "<style scoped>\n",
       "    .dataframe tbody tr th:only-of-type {\n",
       "        vertical-align: middle;\n",
       "    }\n",
       "\n",
       "    .dataframe tbody tr th {\n",
       "        vertical-align: top;\n",
       "    }\n",
       "\n",
       "    .dataframe thead th {\n",
       "        text-align: right;\n",
       "    }\n",
       "</style>\n",
       "<table border=\"1\" class=\"dataframe\">\n",
       "  <thead>\n",
       "    <tr style=\"text-align: right;\">\n",
       "      <th></th>\n",
       "      <th>Dataset</th>\n",
       "      <th>Props_Used</th>\n",
       "      <th>Model</th>\n",
       "      <th>R2</th>\n",
       "      <th>MAE</th>\n",
       "      <th>MAPE</th>\n",
       "      <th>MSE</th>\n",
       "      <th>RMSE</th>\n",
       "    </tr>\n",
       "  </thead>\n",
       "  <tbody>\n",
       "    <tr>\n",
       "      <th>0</th>\n",
       "      <td>wt_mnm</td>\n",
       "      <td>H1_</td>\n",
       "      <td>rf</td>\n",
       "      <td>0.950737</td>\n",
       "      <td>7.327905</td>\n",
       "      <td>0.015531</td>\n",
       "      <td>148.573726</td>\n",
       "      <td>11.992238</td>\n",
       "    </tr>\n",
       "    <tr>\n",
       "      <th>1</th>\n",
       "      <td>wt_mnm</td>\n",
       "      <td>H1_</td>\n",
       "      <td>gbr</td>\n",
       "      <td>0.947569</td>\n",
       "      <td>8.277377</td>\n",
       "      <td>0.017533</td>\n",
       "      <td>158.201857</td>\n",
       "      <td>12.403676</td>\n",
       "    </tr>\n",
       "    <tr>\n",
       "      <th>2</th>\n",
       "      <td>wt_mnm</td>\n",
       "      <td>H1_</td>\n",
       "      <td>xgb</td>\n",
       "      <td>0.944907</td>\n",
       "      <td>7.537731</td>\n",
       "      <td>0.016003</td>\n",
       "      <td>167.415062</td>\n",
       "      <td>12.659047</td>\n",
       "    </tr>\n",
       "    <tr>\n",
       "      <th>3</th>\n",
       "      <td>wt_mnm</td>\n",
       "      <td>H1_</td>\n",
       "      <td>BayesianRidge</td>\n",
       "      <td>0.929397</td>\n",
       "      <td>10.435866</td>\n",
       "      <td>0.022261</td>\n",
       "      <td>212.134591</td>\n",
       "      <td>14.485420</td>\n",
       "    </tr>\n",
       "    <tr>\n",
       "      <th>4</th>\n",
       "      <td>wt_mnm</td>\n",
       "      <td>H2_</td>\n",
       "      <td>rf</td>\n",
       "      <td>0.951839</td>\n",
       "      <td>7.474510</td>\n",
       "      <td>0.015815</td>\n",
       "      <td>147.115153</td>\n",
       "      <td>11.864408</td>\n",
       "    </tr>\n",
       "  </tbody>\n",
       "</table>\n",
       "</div>"
      ],
      "text/plain": [
       "  Dataset Props_Used          Model        R2        MAE      MAPE  \\\n",
       "0  wt_mnm        H1_             rf  0.950737   7.327905  0.015531   \n",
       "1  wt_mnm        H1_            gbr  0.947569   8.277377  0.017533   \n",
       "2  wt_mnm        H1_            xgb  0.944907   7.537731  0.016003   \n",
       "3  wt_mnm        H1_  BayesianRidge  0.929397  10.435866  0.022261   \n",
       "4  wt_mnm        H2_             rf  0.951839   7.474510  0.015815   \n",
       "\n",
       "          MSE       RMSE  \n",
       "0  148.573726  11.992238  \n",
       "1  158.201857  12.403676  \n",
       "2  167.415062  12.659047  \n",
       "3  212.134591  14.485420  \n",
       "4  147.115153  11.864408  "
      ]
     },
     "execution_count": 11,
     "metadata": {},
     "output_type": "execute_result"
    }
   ],
   "source": [
    "wt_file = f'{report_dir}/wt_mnm_aa_prop_combos_results.csv'\n",
    "wt_df = pd.read_csv(wt_file)\n",
    "wt_df.head()"
   ]
  },
  {
   "cell_type": "code",
   "execution_count": 12,
   "metadata": {},
   "outputs": [
    {
     "data": {
      "application/vnd.microsoft.datawrangler.viewer.v0+json": {
       "columns": [
        {
         "name": "index",
         "rawType": "int64",
         "type": "integer"
        },
        {
         "name": "Dataset",
         "rawType": "object",
         "type": "string"
        },
        {
         "name": "Props_Used",
         "rawType": "object",
         "type": "string"
        },
        {
         "name": "Model",
         "rawType": "object",
         "type": "string"
        },
        {
         "name": "R2",
         "rawType": "float64",
         "type": "float"
        },
        {
         "name": "MAE",
         "rawType": "float64",
         "type": "float"
        },
        {
         "name": "MAPE",
         "rawType": "float64",
         "type": "float"
        },
        {
         "name": "MSE",
         "rawType": "float64",
         "type": "float"
        },
        {
         "name": "RMSE",
         "rawType": "float64",
         "type": "float"
        },
        {
         "name": "Ranked_By",
         "rawType": "object",
         "type": "string"
        }
       ],
       "conversionMethod": "pd.DataFrame",
       "ref": "fb8b872e-d62f-4f95-90e8-f286fb7af48e",
       "rows": [
        [
         "0",
         "wt_mnm",
         "H2_P1_NCI_SASA_PKB_",
         "rf",
         "0.9566133910511578",
         "7.091058781647381",
         "0.0149777712370696",
         "131.24526849986222",
         "11.254194343251118",
         "R2"
        ],
        [
         "1",
         "wt_mnm",
         "H1_H2_H3_NCI_MASS_PKA_",
         "rf",
         "0.9564809753023712",
         "7.049048816842964",
         "0.0148734857883242",
         "131.44629557236289",
         "11.294313782824783",
         "R2"
        ],
        [
         "2",
         "wt_mnm",
         "H1_P2_V_MASS_SASA_PKA_",
         "xgb",
         "0.9564616985973782",
         "6.755902701966491",
         "0.0142685505142646",
         "130.95656945362538",
         "11.2864449435596",
         "R2"
        ],
        [
         "3",
         "wt_mnm",
         "H1_H2_H3_PKA_",
         "rf",
         "0.9564439465914522",
         "7.101091414251345",
         "0.0150256807471606",
         "131.3038989500153",
         "11.299984748095351",
         "R2"
        ],
        [
         "4",
         "wt_mnm",
         "H2_P1_NCI_MASS_SASA_PKB_",
         "rf",
         "0.9564058421355158",
         "7.035764094270694",
         "0.0148808919932187",
         "131.8891771953854",
         "11.280033715495945",
         "R2"
        ]
       ],
       "shape": {
        "columns": 9,
        "rows": 5
       }
      },
      "text/html": [
       "<div>\n",
       "<style scoped>\n",
       "    .dataframe tbody tr th:only-of-type {\n",
       "        vertical-align: middle;\n",
       "    }\n",
       "\n",
       "    .dataframe tbody tr th {\n",
       "        vertical-align: top;\n",
       "    }\n",
       "\n",
       "    .dataframe thead th {\n",
       "        text-align: right;\n",
       "    }\n",
       "</style>\n",
       "<table border=\"1\" class=\"dataframe\">\n",
       "  <thead>\n",
       "    <tr style=\"text-align: right;\">\n",
       "      <th></th>\n",
       "      <th>Dataset</th>\n",
       "      <th>Props_Used</th>\n",
       "      <th>Model</th>\n",
       "      <th>R2</th>\n",
       "      <th>MAE</th>\n",
       "      <th>MAPE</th>\n",
       "      <th>MSE</th>\n",
       "      <th>RMSE</th>\n",
       "      <th>Ranked_By</th>\n",
       "    </tr>\n",
       "  </thead>\n",
       "  <tbody>\n",
       "    <tr>\n",
       "      <th>0</th>\n",
       "      <td>wt_mnm</td>\n",
       "      <td>H2_P1_NCI_SASA_PKB_</td>\n",
       "      <td>rf</td>\n",
       "      <td>0.956613</td>\n",
       "      <td>7.091059</td>\n",
       "      <td>0.014978</td>\n",
       "      <td>131.245268</td>\n",
       "      <td>11.254194</td>\n",
       "      <td>R2</td>\n",
       "    </tr>\n",
       "    <tr>\n",
       "      <th>1</th>\n",
       "      <td>wt_mnm</td>\n",
       "      <td>H1_H2_H3_NCI_MASS_PKA_</td>\n",
       "      <td>rf</td>\n",
       "      <td>0.956481</td>\n",
       "      <td>7.049049</td>\n",
       "      <td>0.014873</td>\n",
       "      <td>131.446296</td>\n",
       "      <td>11.294314</td>\n",
       "      <td>R2</td>\n",
       "    </tr>\n",
       "    <tr>\n",
       "      <th>2</th>\n",
       "      <td>wt_mnm</td>\n",
       "      <td>H1_P2_V_MASS_SASA_PKA_</td>\n",
       "      <td>xgb</td>\n",
       "      <td>0.956462</td>\n",
       "      <td>6.755903</td>\n",
       "      <td>0.014269</td>\n",
       "      <td>130.956569</td>\n",
       "      <td>11.286445</td>\n",
       "      <td>R2</td>\n",
       "    </tr>\n",
       "    <tr>\n",
       "      <th>3</th>\n",
       "      <td>wt_mnm</td>\n",
       "      <td>H1_H2_H3_PKA_</td>\n",
       "      <td>rf</td>\n",
       "      <td>0.956444</td>\n",
       "      <td>7.101091</td>\n",
       "      <td>0.015026</td>\n",
       "      <td>131.303899</td>\n",
       "      <td>11.299985</td>\n",
       "      <td>R2</td>\n",
       "    </tr>\n",
       "    <tr>\n",
       "      <th>4</th>\n",
       "      <td>wt_mnm</td>\n",
       "      <td>H2_P1_NCI_MASS_SASA_PKB_</td>\n",
       "      <td>rf</td>\n",
       "      <td>0.956406</td>\n",
       "      <td>7.035764</td>\n",
       "      <td>0.014881</td>\n",
       "      <td>131.889177</td>\n",
       "      <td>11.280034</td>\n",
       "      <td>R2</td>\n",
       "    </tr>\n",
       "  </tbody>\n",
       "</table>\n",
       "</div>"
      ],
      "text/plain": [
       "  Dataset                Props_Used Model        R2       MAE      MAPE  \\\n",
       "0  wt_mnm       H2_P1_NCI_SASA_PKB_    rf  0.956613  7.091059  0.014978   \n",
       "1  wt_mnm    H1_H2_H3_NCI_MASS_PKA_    rf  0.956481  7.049049  0.014873   \n",
       "2  wt_mnm    H1_P2_V_MASS_SASA_PKA_   xgb  0.956462  6.755903  0.014269   \n",
       "3  wt_mnm             H1_H2_H3_PKA_    rf  0.956444  7.101091  0.015026   \n",
       "4  wt_mnm  H2_P1_NCI_MASS_SASA_PKB_    rf  0.956406  7.035764  0.014881   \n",
       "\n",
       "          MSE       RMSE Ranked_By  \n",
       "0  131.245268  11.254194        R2  \n",
       "1  131.446296  11.294314        R2  \n",
       "2  130.956569  11.286445        R2  \n",
       "3  131.303899  11.299985        R2  \n",
       "4  131.889177  11.280034        R2  "
      ]
     },
     "execution_count": 12,
     "metadata": {},
     "output_type": "execute_result"
    }
   ],
   "source": [
    "wt_df_filtered = wt_df.copy()\n",
    "wt_df_filtered.sort_values('R2',ascending=False,inplace=True)\n",
    "wt_df_filtered.reset_index(inplace=True, drop=True)\n",
    "wt_df_filtered['Ranked_By'] = 'R2'\n",
    "wt_df_filtered.head()"
   ]
  },
  {
   "cell_type": "code",
   "execution_count": 13,
   "metadata": {},
   "outputs": [
    {
     "data": {
      "application/vnd.microsoft.datawrangler.viewer.v0+json": {
       "columns": [
        {
         "name": "index",
         "rawType": "int64",
         "type": "integer"
        },
        {
         "name": "Dataset",
         "rawType": "object",
         "type": "string"
        },
        {
         "name": "Props_Used",
         "rawType": "object",
         "type": "string"
        },
        {
         "name": "Model",
         "rawType": "object",
         "type": "string"
        },
        {
         "name": "R2",
         "rawType": "float64",
         "type": "float"
        },
        {
         "name": "MAE",
         "rawType": "float64",
         "type": "float"
        },
        {
         "name": "MAPE",
         "rawType": "float64",
         "type": "float"
        },
        {
         "name": "MSE",
         "rawType": "float64",
         "type": "float"
        },
        {
         "name": "RMSE",
         "rawType": "float64",
         "type": "float"
        },
        {
         "name": "Ranked_By",
         "rawType": "object",
         "type": "string"
        }
       ],
       "conversionMethod": "pd.DataFrame",
       "ref": "ff036af6-dfce-4d6e-a60d-60d143ab2abb",
       "rows": [
        [
         "0",
         "wt_mnm",
         "H1_P2_V_MASS_SASA_PKA_",
         "xgb",
         "0.9564616985973782",
         "6.755902701966491",
         "0.0142685505142646",
         "130.95656945362538",
         "11.2864449435596",
         "MAE"
        ],
        [
         "1",
         "wt_mnm",
         "H1_H2_SASA_PKA_",
         "xgb",
         "0.95603562785318",
         "6.870606184905623",
         "0.0143989700382453",
         "131.88873462776934",
         "11.316416435669725",
         "MAE"
        ],
        [
         "2",
         "wt_mnm",
         "H1_P2_V_SASA_PKA_",
         "xgb",
         "0.9541612723099168",
         "6.877227827498888",
         "0.014469261207615",
         "137.15178724537088",
         "11.539039134019848",
         "MAE"
        ],
        [
         "3",
         "wt_mnm",
         "H1_MASS_SASA_PKA_",
         "xgb",
         "0.955787852591346",
         "6.885814270231629",
         "0.014489612147847",
         "133.65467622386907",
         "11.3748649327457",
         "MAE"
        ],
        [
         "4",
         "wt_mnm",
         "H2_V_MASS_PKA_",
         "xgb",
         "0.9542535414591096",
         "6.90649759773391",
         "0.0145176127773758",
         "137.62360470881012",
         "11.489862458974148",
         "MAE"
        ]
       ],
       "shape": {
        "columns": 9,
        "rows": 5
       }
      },
      "text/html": [
       "<div>\n",
       "<style scoped>\n",
       "    .dataframe tbody tr th:only-of-type {\n",
       "        vertical-align: middle;\n",
       "    }\n",
       "\n",
       "    .dataframe tbody tr th {\n",
       "        vertical-align: top;\n",
       "    }\n",
       "\n",
       "    .dataframe thead th {\n",
       "        text-align: right;\n",
       "    }\n",
       "</style>\n",
       "<table border=\"1\" class=\"dataframe\">\n",
       "  <thead>\n",
       "    <tr style=\"text-align: right;\">\n",
       "      <th></th>\n",
       "      <th>Dataset</th>\n",
       "      <th>Props_Used</th>\n",
       "      <th>Model</th>\n",
       "      <th>R2</th>\n",
       "      <th>MAE</th>\n",
       "      <th>MAPE</th>\n",
       "      <th>MSE</th>\n",
       "      <th>RMSE</th>\n",
       "      <th>Ranked_By</th>\n",
       "    </tr>\n",
       "  </thead>\n",
       "  <tbody>\n",
       "    <tr>\n",
       "      <th>0</th>\n",
       "      <td>wt_mnm</td>\n",
       "      <td>H1_P2_V_MASS_SASA_PKA_</td>\n",
       "      <td>xgb</td>\n",
       "      <td>0.956462</td>\n",
       "      <td>6.755903</td>\n",
       "      <td>0.014269</td>\n",
       "      <td>130.956569</td>\n",
       "      <td>11.286445</td>\n",
       "      <td>MAE</td>\n",
       "    </tr>\n",
       "    <tr>\n",
       "      <th>1</th>\n",
       "      <td>wt_mnm</td>\n",
       "      <td>H1_H2_SASA_PKA_</td>\n",
       "      <td>xgb</td>\n",
       "      <td>0.956036</td>\n",
       "      <td>6.870606</td>\n",
       "      <td>0.014399</td>\n",
       "      <td>131.888735</td>\n",
       "      <td>11.316416</td>\n",
       "      <td>MAE</td>\n",
       "    </tr>\n",
       "    <tr>\n",
       "      <th>2</th>\n",
       "      <td>wt_mnm</td>\n",
       "      <td>H1_P2_V_SASA_PKA_</td>\n",
       "      <td>xgb</td>\n",
       "      <td>0.954161</td>\n",
       "      <td>6.877228</td>\n",
       "      <td>0.014469</td>\n",
       "      <td>137.151787</td>\n",
       "      <td>11.539039</td>\n",
       "      <td>MAE</td>\n",
       "    </tr>\n",
       "    <tr>\n",
       "      <th>3</th>\n",
       "      <td>wt_mnm</td>\n",
       "      <td>H1_MASS_SASA_PKA_</td>\n",
       "      <td>xgb</td>\n",
       "      <td>0.955788</td>\n",
       "      <td>6.885814</td>\n",
       "      <td>0.014490</td>\n",
       "      <td>133.654676</td>\n",
       "      <td>11.374865</td>\n",
       "      <td>MAE</td>\n",
       "    </tr>\n",
       "    <tr>\n",
       "      <th>4</th>\n",
       "      <td>wt_mnm</td>\n",
       "      <td>H2_V_MASS_PKA_</td>\n",
       "      <td>xgb</td>\n",
       "      <td>0.954254</td>\n",
       "      <td>6.906498</td>\n",
       "      <td>0.014518</td>\n",
       "      <td>137.623605</td>\n",
       "      <td>11.489862</td>\n",
       "      <td>MAE</td>\n",
       "    </tr>\n",
       "  </tbody>\n",
       "</table>\n",
       "</div>"
      ],
      "text/plain": [
       "  Dataset              Props_Used Model        R2       MAE      MAPE  \\\n",
       "0  wt_mnm  H1_P2_V_MASS_SASA_PKA_   xgb  0.956462  6.755903  0.014269   \n",
       "1  wt_mnm         H1_H2_SASA_PKA_   xgb  0.956036  6.870606  0.014399   \n",
       "2  wt_mnm       H1_P2_V_SASA_PKA_   xgb  0.954161  6.877228  0.014469   \n",
       "3  wt_mnm       H1_MASS_SASA_PKA_   xgb  0.955788  6.885814  0.014490   \n",
       "4  wt_mnm          H2_V_MASS_PKA_   xgb  0.954254  6.906498  0.014518   \n",
       "\n",
       "          MSE       RMSE Ranked_By  \n",
       "0  130.956569  11.286445       MAE  \n",
       "1  131.888735  11.316416       MAE  \n",
       "2  137.151787  11.539039       MAE  \n",
       "3  133.654676  11.374865       MAE  \n",
       "4  137.623605  11.489862       MAE  "
      ]
     },
     "execution_count": 13,
     "metadata": {},
     "output_type": "execute_result"
    }
   ],
   "source": [
    "wt_df_filtered2 = wt_df.copy()\n",
    "wt_df_filtered2.sort_values('MAE',ascending=True,inplace=True)\n",
    "wt_df_filtered2.reset_index(inplace=True, drop=True)\n",
    "wt_df_filtered2['Ranked_By'] = 'MAE'\n",
    "wt_df_filtered2.head()"
   ]
  },
  {
   "cell_type": "code",
   "execution_count": 14,
   "metadata": {},
   "outputs": [],
   "source": [
    "top_mnm_aa_prop_df = pd.concat([top_mnm_aa_prop_df, wt_df_filtered[0:5], wt_df_filtered2[0:5]], ignore_index=True)"
   ]
  },
  {
   "cell_type": "markdown",
   "metadata": {},
   "source": [
    "### <font color=#c994c7>Vertebrate Dataset (Vert)</font>"
   ]
  },
  {
   "cell_type": "code",
   "execution_count": 15,
   "metadata": {},
   "outputs": [
    {
     "data": {
      "application/vnd.microsoft.datawrangler.viewer.v0+json": {
       "columns": [
        {
         "name": "index",
         "rawType": "int64",
         "type": "integer"
        },
        {
         "name": "Dataset",
         "rawType": "object",
         "type": "string"
        },
        {
         "name": "Props_Used",
         "rawType": "object",
         "type": "string"
        },
        {
         "name": "Model",
         "rawType": "object",
         "type": "string"
        },
        {
         "name": "R2",
         "rawType": "float64",
         "type": "float"
        },
        {
         "name": "MAE",
         "rawType": "float64",
         "type": "float"
        },
        {
         "name": "MAPE",
         "rawType": "float64",
         "type": "float"
        },
        {
         "name": "MSE",
         "rawType": "float64",
         "type": "float"
        },
        {
         "name": "RMSE",
         "rawType": "float64",
         "type": "float"
        }
       ],
       "conversionMethod": "pd.DataFrame",
       "ref": "7af73bdb-28b2-48df-b508-7734bad6a152",
       "rows": [
        [
         "0",
         "vert_mnm",
         "H1_",
         "xgb",
         "0.9770568982764544",
         "5.350206777244738",
         "0.0117939666774349",
         "84.82871479483205",
         "9.029258778389936"
        ],
        [
         "1",
         "vert_mnm",
         "H1_",
         "gbr",
         "0.976691563242002",
         "5.535380924418904",
         "0.0121910866933933",
         "86.45428263800218",
         "9.120135478707976"
        ],
        [
         "2",
         "vert_mnm",
         "H2_",
         "xgb",
         "0.9798539419598424",
         "5.328838129406529",
         "0.0117164065865755",
         "74.59159804154197",
         "8.529833359740973"
        ],
        [
         "3",
         "vert_mnm",
         "H2_",
         "gbr",
         "0.979263325379417",
         "5.54736598178336",
         "0.012195582719793",
         "77.0911896788026",
         "8.63083602922418"
        ],
        [
         "4",
         "vert_mnm",
         "H3_",
         "xgb",
         "0.969876593731968",
         "6.353458589045703",
         "0.0145690418914697",
         "111.7894717130245",
         "10.47279467552409"
        ]
       ],
       "shape": {
        "columns": 8,
        "rows": 5
       }
      },
      "text/html": [
       "<div>\n",
       "<style scoped>\n",
       "    .dataframe tbody tr th:only-of-type {\n",
       "        vertical-align: middle;\n",
       "    }\n",
       "\n",
       "    .dataframe tbody tr th {\n",
       "        vertical-align: top;\n",
       "    }\n",
       "\n",
       "    .dataframe thead th {\n",
       "        text-align: right;\n",
       "    }\n",
       "</style>\n",
       "<table border=\"1\" class=\"dataframe\">\n",
       "  <thead>\n",
       "    <tr style=\"text-align: right;\">\n",
       "      <th></th>\n",
       "      <th>Dataset</th>\n",
       "      <th>Props_Used</th>\n",
       "      <th>Model</th>\n",
       "      <th>R2</th>\n",
       "      <th>MAE</th>\n",
       "      <th>MAPE</th>\n",
       "      <th>MSE</th>\n",
       "      <th>RMSE</th>\n",
       "    </tr>\n",
       "  </thead>\n",
       "  <tbody>\n",
       "    <tr>\n",
       "      <th>0</th>\n",
       "      <td>vert_mnm</td>\n",
       "      <td>H1_</td>\n",
       "      <td>xgb</td>\n",
       "      <td>0.977057</td>\n",
       "      <td>5.350207</td>\n",
       "      <td>0.011794</td>\n",
       "      <td>84.828715</td>\n",
       "      <td>9.029259</td>\n",
       "    </tr>\n",
       "    <tr>\n",
       "      <th>1</th>\n",
       "      <td>vert_mnm</td>\n",
       "      <td>H1_</td>\n",
       "      <td>gbr</td>\n",
       "      <td>0.976692</td>\n",
       "      <td>5.535381</td>\n",
       "      <td>0.012191</td>\n",
       "      <td>86.454283</td>\n",
       "      <td>9.120135</td>\n",
       "    </tr>\n",
       "    <tr>\n",
       "      <th>2</th>\n",
       "      <td>vert_mnm</td>\n",
       "      <td>H2_</td>\n",
       "      <td>xgb</td>\n",
       "      <td>0.979854</td>\n",
       "      <td>5.328838</td>\n",
       "      <td>0.011716</td>\n",
       "      <td>74.591598</td>\n",
       "      <td>8.529833</td>\n",
       "    </tr>\n",
       "    <tr>\n",
       "      <th>3</th>\n",
       "      <td>vert_mnm</td>\n",
       "      <td>H2_</td>\n",
       "      <td>gbr</td>\n",
       "      <td>0.979263</td>\n",
       "      <td>5.547366</td>\n",
       "      <td>0.012196</td>\n",
       "      <td>77.091190</td>\n",
       "      <td>8.630836</td>\n",
       "    </tr>\n",
       "    <tr>\n",
       "      <th>4</th>\n",
       "      <td>vert_mnm</td>\n",
       "      <td>H3_</td>\n",
       "      <td>xgb</td>\n",
       "      <td>0.969877</td>\n",
       "      <td>6.353459</td>\n",
       "      <td>0.014569</td>\n",
       "      <td>111.789472</td>\n",
       "      <td>10.472795</td>\n",
       "    </tr>\n",
       "  </tbody>\n",
       "</table>\n",
       "</div>"
      ],
      "text/plain": [
       "    Dataset Props_Used Model        R2       MAE      MAPE         MSE  \\\n",
       "0  vert_mnm        H1_   xgb  0.977057  5.350207  0.011794   84.828715   \n",
       "1  vert_mnm        H1_   gbr  0.976692  5.535381  0.012191   86.454283   \n",
       "2  vert_mnm        H2_   xgb  0.979854  5.328838  0.011716   74.591598   \n",
       "3  vert_mnm        H2_   gbr  0.979263  5.547366  0.012196   77.091190   \n",
       "4  vert_mnm        H3_   xgb  0.969877  6.353459  0.014569  111.789472   \n",
       "\n",
       "        RMSE  \n",
       "0   9.029259  \n",
       "1   9.120135  \n",
       "2   8.529833  \n",
       "3   8.630836  \n",
       "4  10.472795  "
      ]
     },
     "execution_count": 15,
     "metadata": {},
     "output_type": "execute_result"
    }
   ],
   "source": [
    "vert_file = f'{report_dir}/vert_mnm_aa_prop_combos_results.csv'\n",
    "vert_df = pd.read_csv(vert_file)\n",
    "vert_df.head()"
   ]
  },
  {
   "cell_type": "code",
   "execution_count": 16,
   "metadata": {},
   "outputs": [
    {
     "data": {
      "application/vnd.microsoft.datawrangler.viewer.v0+json": {
       "columns": [
        {
         "name": "index",
         "rawType": "int64",
         "type": "integer"
        },
        {
         "name": "Dataset",
         "rawType": "object",
         "type": "string"
        },
        {
         "name": "Props_Used",
         "rawType": "object",
         "type": "string"
        },
        {
         "name": "Model",
         "rawType": "object",
         "type": "string"
        },
        {
         "name": "R2",
         "rawType": "float64",
         "type": "float"
        },
        {
         "name": "MAE",
         "rawType": "float64",
         "type": "float"
        },
        {
         "name": "MAPE",
         "rawType": "float64",
         "type": "float"
        },
        {
         "name": "MSE",
         "rawType": "float64",
         "type": "float"
        },
        {
         "name": "RMSE",
         "rawType": "float64",
         "type": "float"
        },
        {
         "name": "Ranked_By",
         "rawType": "object",
         "type": "string"
        }
       ],
       "conversionMethod": "pd.DataFrame",
       "ref": "8f26807b-7f15-473d-b4f2-1acd2c6c0284",
       "rows": [
        [
         "0",
         "vert_mnm",
         "H3_P2_MASS_SCT_PKB_",
         "xgb",
         "0.9848696950054874",
         "4.268384359723836",
         "0.00946177759723",
         "56.23208330043286",
         "7.314086007347531",
         "R2"
        ],
        [
         "1",
         "vert_mnm",
         "H3_P2_SCT_PKA_PKB_",
         "xgb",
         "0.9847641743607484",
         "4.290903529097728",
         "0.0095224195121037",
         "56.30263926008856",
         "7.314899161619382",
         "R2"
        ],
        [
         "2",
         "vert_mnm",
         "SASA_SCT_PKB_",
         "xgb",
         "0.9847255798189734",
         "4.285697003254915",
         "0.0094951201055731",
         "56.38228525421455",
         "7.346054099516325",
         "R2"
        ],
        [
         "3",
         "vert_mnm",
         "V_SCT_PKB_",
         "gbr",
         "0.9847150313239",
         "4.53632484278744",
         "0.0100519765548637",
         "56.689946391960746",
         "7.393930904454355",
         "R2"
        ],
        [
         "4",
         "vert_mnm",
         "P2_MASS_SCT_PKB_",
         "xgb",
         "0.9847081307163964",
         "4.341446477142965",
         "0.0095928485843916",
         "56.6605347693196",
         "7.364090408441486",
         "R2"
        ]
       ],
       "shape": {
        "columns": 9,
        "rows": 5
       }
      },
      "text/html": [
       "<div>\n",
       "<style scoped>\n",
       "    .dataframe tbody tr th:only-of-type {\n",
       "        vertical-align: middle;\n",
       "    }\n",
       "\n",
       "    .dataframe tbody tr th {\n",
       "        vertical-align: top;\n",
       "    }\n",
       "\n",
       "    .dataframe thead th {\n",
       "        text-align: right;\n",
       "    }\n",
       "</style>\n",
       "<table border=\"1\" class=\"dataframe\">\n",
       "  <thead>\n",
       "    <tr style=\"text-align: right;\">\n",
       "      <th></th>\n",
       "      <th>Dataset</th>\n",
       "      <th>Props_Used</th>\n",
       "      <th>Model</th>\n",
       "      <th>R2</th>\n",
       "      <th>MAE</th>\n",
       "      <th>MAPE</th>\n",
       "      <th>MSE</th>\n",
       "      <th>RMSE</th>\n",
       "      <th>Ranked_By</th>\n",
       "    </tr>\n",
       "  </thead>\n",
       "  <tbody>\n",
       "    <tr>\n",
       "      <th>0</th>\n",
       "      <td>vert_mnm</td>\n",
       "      <td>H3_P2_MASS_SCT_PKB_</td>\n",
       "      <td>xgb</td>\n",
       "      <td>0.984870</td>\n",
       "      <td>4.268384</td>\n",
       "      <td>0.009462</td>\n",
       "      <td>56.232083</td>\n",
       "      <td>7.314086</td>\n",
       "      <td>R2</td>\n",
       "    </tr>\n",
       "    <tr>\n",
       "      <th>1</th>\n",
       "      <td>vert_mnm</td>\n",
       "      <td>H3_P2_SCT_PKA_PKB_</td>\n",
       "      <td>xgb</td>\n",
       "      <td>0.984764</td>\n",
       "      <td>4.290904</td>\n",
       "      <td>0.009522</td>\n",
       "      <td>56.302639</td>\n",
       "      <td>7.314899</td>\n",
       "      <td>R2</td>\n",
       "    </tr>\n",
       "    <tr>\n",
       "      <th>2</th>\n",
       "      <td>vert_mnm</td>\n",
       "      <td>SASA_SCT_PKB_</td>\n",
       "      <td>xgb</td>\n",
       "      <td>0.984726</td>\n",
       "      <td>4.285697</td>\n",
       "      <td>0.009495</td>\n",
       "      <td>56.382285</td>\n",
       "      <td>7.346054</td>\n",
       "      <td>R2</td>\n",
       "    </tr>\n",
       "    <tr>\n",
       "      <th>3</th>\n",
       "      <td>vert_mnm</td>\n",
       "      <td>V_SCT_PKB_</td>\n",
       "      <td>gbr</td>\n",
       "      <td>0.984715</td>\n",
       "      <td>4.536325</td>\n",
       "      <td>0.010052</td>\n",
       "      <td>56.689946</td>\n",
       "      <td>7.393931</td>\n",
       "      <td>R2</td>\n",
       "    </tr>\n",
       "    <tr>\n",
       "      <th>4</th>\n",
       "      <td>vert_mnm</td>\n",
       "      <td>P2_MASS_SCT_PKB_</td>\n",
       "      <td>xgb</td>\n",
       "      <td>0.984708</td>\n",
       "      <td>4.341446</td>\n",
       "      <td>0.009593</td>\n",
       "      <td>56.660535</td>\n",
       "      <td>7.364090</td>\n",
       "      <td>R2</td>\n",
       "    </tr>\n",
       "  </tbody>\n",
       "</table>\n",
       "</div>"
      ],
      "text/plain": [
       "    Dataset           Props_Used Model        R2       MAE      MAPE  \\\n",
       "0  vert_mnm  H3_P2_MASS_SCT_PKB_   xgb  0.984870  4.268384  0.009462   \n",
       "1  vert_mnm   H3_P2_SCT_PKA_PKB_   xgb  0.984764  4.290904  0.009522   \n",
       "2  vert_mnm        SASA_SCT_PKB_   xgb  0.984726  4.285697  0.009495   \n",
       "3  vert_mnm           V_SCT_PKB_   gbr  0.984715  4.536325  0.010052   \n",
       "4  vert_mnm     P2_MASS_SCT_PKB_   xgb  0.984708  4.341446  0.009593   \n",
       "\n",
       "         MSE      RMSE Ranked_By  \n",
       "0  56.232083  7.314086        R2  \n",
       "1  56.302639  7.314899        R2  \n",
       "2  56.382285  7.346054        R2  \n",
       "3  56.689946  7.393931        R2  \n",
       "4  56.660535  7.364090        R2  "
      ]
     },
     "execution_count": 16,
     "metadata": {},
     "output_type": "execute_result"
    }
   ],
   "source": [
    "vert_df_filtered = vert_df.copy()\n",
    "vert_df_filtered.sort_values('R2',ascending=False,inplace=True)\n",
    "vert_df_filtered.reset_index(inplace=True, drop=True)\n",
    "vert_df_filtered['Ranked_By'] = 'R2'\n",
    "vert_df_filtered.head()"
   ]
  },
  {
   "cell_type": "code",
   "execution_count": 17,
   "metadata": {},
   "outputs": [
    {
     "data": {
      "application/vnd.microsoft.datawrangler.viewer.v0+json": {
       "columns": [
        {
         "name": "index",
         "rawType": "int64",
         "type": "integer"
        },
        {
         "name": "Dataset",
         "rawType": "object",
         "type": "string"
        },
        {
         "name": "Props_Used",
         "rawType": "object",
         "type": "string"
        },
        {
         "name": "Model",
         "rawType": "object",
         "type": "string"
        },
        {
         "name": "R2",
         "rawType": "float64",
         "type": "float"
        },
        {
         "name": "MAE",
         "rawType": "float64",
         "type": "float"
        },
        {
         "name": "MAPE",
         "rawType": "float64",
         "type": "float"
        },
        {
         "name": "MSE",
         "rawType": "float64",
         "type": "float"
        },
        {
         "name": "RMSE",
         "rawType": "float64",
         "type": "float"
        },
        {
         "name": "Ranked_By",
         "rawType": "object",
         "type": "string"
        }
       ],
       "conversionMethod": "pd.DataFrame",
       "ref": "ed5eacaf-ffcd-4908-9245-41a97182747c",
       "rows": [
        [
         "0",
         "vert_mnm",
         "H3_P2_MASS_SCT_PKB_",
         "xgb",
         "0.9848696950054874",
         "4.268384359723836",
         "0.00946177759723",
         "56.23208330043286",
         "7.314086007347531",
         "MAE"
        ],
        [
         "1",
         "vert_mnm",
         "H2_H3_P2_V_SASA_SCT_",
         "xgb",
         "0.9839134028300364",
         "4.271485256263277",
         "0.0095106322556047",
         "59.66312911475849",
         "7.549439068378828",
         "MAE"
        ],
        [
         "2",
         "vert_mnm",
         "H3_V_SCT_PKB_",
         "xgb",
         "0.9846013606095316",
         "4.280831632689393",
         "0.0095237539783529",
         "57.16237394204286",
         "7.37216760344972",
         "MAE"
        ],
        [
         "3",
         "vert_mnm",
         "SASA_SCT_PKB_",
         "xgb",
         "0.9847255798189734",
         "4.285697003254915",
         "0.0094951201055731",
         "56.38228525421455",
         "7.346054099516325",
         "MAE"
        ],
        [
         "4",
         "vert_mnm",
         "H3_V_SASA_SCT_PKA_",
         "xgb",
         "0.98470068210983",
         "4.289048284222561",
         "0.0094794718506838",
         "56.42077621155615",
         "7.338084417989651",
         "MAE"
        ]
       ],
       "shape": {
        "columns": 9,
        "rows": 5
       }
      },
      "text/html": [
       "<div>\n",
       "<style scoped>\n",
       "    .dataframe tbody tr th:only-of-type {\n",
       "        vertical-align: middle;\n",
       "    }\n",
       "\n",
       "    .dataframe tbody tr th {\n",
       "        vertical-align: top;\n",
       "    }\n",
       "\n",
       "    .dataframe thead th {\n",
       "        text-align: right;\n",
       "    }\n",
       "</style>\n",
       "<table border=\"1\" class=\"dataframe\">\n",
       "  <thead>\n",
       "    <tr style=\"text-align: right;\">\n",
       "      <th></th>\n",
       "      <th>Dataset</th>\n",
       "      <th>Props_Used</th>\n",
       "      <th>Model</th>\n",
       "      <th>R2</th>\n",
       "      <th>MAE</th>\n",
       "      <th>MAPE</th>\n",
       "      <th>MSE</th>\n",
       "      <th>RMSE</th>\n",
       "      <th>Ranked_By</th>\n",
       "    </tr>\n",
       "  </thead>\n",
       "  <tbody>\n",
       "    <tr>\n",
       "      <th>0</th>\n",
       "      <td>vert_mnm</td>\n",
       "      <td>H3_P2_MASS_SCT_PKB_</td>\n",
       "      <td>xgb</td>\n",
       "      <td>0.984870</td>\n",
       "      <td>4.268384</td>\n",
       "      <td>0.009462</td>\n",
       "      <td>56.232083</td>\n",
       "      <td>7.314086</td>\n",
       "      <td>MAE</td>\n",
       "    </tr>\n",
       "    <tr>\n",
       "      <th>1</th>\n",
       "      <td>vert_mnm</td>\n",
       "      <td>H2_H3_P2_V_SASA_SCT_</td>\n",
       "      <td>xgb</td>\n",
       "      <td>0.983913</td>\n",
       "      <td>4.271485</td>\n",
       "      <td>0.009511</td>\n",
       "      <td>59.663129</td>\n",
       "      <td>7.549439</td>\n",
       "      <td>MAE</td>\n",
       "    </tr>\n",
       "    <tr>\n",
       "      <th>2</th>\n",
       "      <td>vert_mnm</td>\n",
       "      <td>H3_V_SCT_PKB_</td>\n",
       "      <td>xgb</td>\n",
       "      <td>0.984601</td>\n",
       "      <td>4.280832</td>\n",
       "      <td>0.009524</td>\n",
       "      <td>57.162374</td>\n",
       "      <td>7.372168</td>\n",
       "      <td>MAE</td>\n",
       "    </tr>\n",
       "    <tr>\n",
       "      <th>3</th>\n",
       "      <td>vert_mnm</td>\n",
       "      <td>SASA_SCT_PKB_</td>\n",
       "      <td>xgb</td>\n",
       "      <td>0.984726</td>\n",
       "      <td>4.285697</td>\n",
       "      <td>0.009495</td>\n",
       "      <td>56.382285</td>\n",
       "      <td>7.346054</td>\n",
       "      <td>MAE</td>\n",
       "    </tr>\n",
       "    <tr>\n",
       "      <th>4</th>\n",
       "      <td>vert_mnm</td>\n",
       "      <td>H3_V_SASA_SCT_PKA_</td>\n",
       "      <td>xgb</td>\n",
       "      <td>0.984701</td>\n",
       "      <td>4.289048</td>\n",
       "      <td>0.009479</td>\n",
       "      <td>56.420776</td>\n",
       "      <td>7.338084</td>\n",
       "      <td>MAE</td>\n",
       "    </tr>\n",
       "  </tbody>\n",
       "</table>\n",
       "</div>"
      ],
      "text/plain": [
       "    Dataset            Props_Used Model        R2       MAE      MAPE  \\\n",
       "0  vert_mnm   H3_P2_MASS_SCT_PKB_   xgb  0.984870  4.268384  0.009462   \n",
       "1  vert_mnm  H2_H3_P2_V_SASA_SCT_   xgb  0.983913  4.271485  0.009511   \n",
       "2  vert_mnm         H3_V_SCT_PKB_   xgb  0.984601  4.280832  0.009524   \n",
       "3  vert_mnm         SASA_SCT_PKB_   xgb  0.984726  4.285697  0.009495   \n",
       "4  vert_mnm    H3_V_SASA_SCT_PKA_   xgb  0.984701  4.289048  0.009479   \n",
       "\n",
       "         MSE      RMSE Ranked_By  \n",
       "0  56.232083  7.314086       MAE  \n",
       "1  59.663129  7.549439       MAE  \n",
       "2  57.162374  7.372168       MAE  \n",
       "3  56.382285  7.346054       MAE  \n",
       "4  56.420776  7.338084       MAE  "
      ]
     },
     "execution_count": 17,
     "metadata": {},
     "output_type": "execute_result"
    }
   ],
   "source": [
    "vert_df_filtered2= vert_df.copy()\n",
    "vert_df_filtered2.sort_values('MAE',ascending=True,inplace=True)\n",
    "vert_df_filtered2.reset_index(inplace=True, drop=True)\n",
    "vert_df_filtered2['Ranked_By'] = 'MAE'\n",
    "vert_df_filtered2.head()"
   ]
  },
  {
   "cell_type": "code",
   "execution_count": 18,
   "metadata": {},
   "outputs": [],
   "source": [
    "top_mnm_aa_prop_df = pd.concat([top_mnm_aa_prop_df, vert_df_filtered[0:5], vert_df_filtered2[0:5]], ignore_index=True)"
   ]
  },
  {
   "cell_type": "markdown",
   "metadata": {},
   "source": [
    "### <font color=#c994c7>Wild-Type Vertebrates Dataset (WT-Vert)</font>"
   ]
  },
  {
   "cell_type": "code",
   "execution_count": 19,
   "metadata": {},
   "outputs": [
    {
     "data": {
      "application/vnd.microsoft.datawrangler.viewer.v0+json": {
       "columns": [
        {
         "name": "index",
         "rawType": "int64",
         "type": "integer"
        },
        {
         "name": "Dataset",
         "rawType": "object",
         "type": "string"
        },
        {
         "name": "Props_Used",
         "rawType": "object",
         "type": "string"
        },
        {
         "name": "Model",
         "rawType": "object",
         "type": "string"
        },
        {
         "name": "R2",
         "rawType": "float64",
         "type": "float"
        },
        {
         "name": "MAE",
         "rawType": "float64",
         "type": "float"
        },
        {
         "name": "MAPE",
         "rawType": "float64",
         "type": "float"
        },
        {
         "name": "MSE",
         "rawType": "float64",
         "type": "float"
        },
        {
         "name": "RMSE",
         "rawType": "float64",
         "type": "float"
        }
       ],
       "conversionMethod": "pd.DataFrame",
       "ref": "2d2c9db2-3404-49d2-b4b8-fa83018bce1a",
       "rows": [
        [
         "0",
         "wt_vert_mnm",
         "H1_",
         "gbr",
         "0.9791246981350716",
         "4.808670442783861",
         "0.0102506201786947",
         "54.171985089053976",
         "7.205791134622217"
        ],
        [
         "1",
         "wt_vert_mnm",
         "H1_",
         "xgb",
         "0.97728681821205",
         "4.659490569452113",
         "0.0097549215719597",
         "58.6088141274004",
         "7.373146509243616"
        ],
        [
         "2",
         "wt_vert_mnm",
         "H2_",
         "xgb",
         "0.982558807770732",
         "4.404908567299645",
         "0.0092509775706761",
         "46.01975673543839",
         "6.675892682074749"
        ],
        [
         "3",
         "wt_vert_mnm",
         "H2_",
         "gbr",
         "0.9806419819072756",
         "4.828223827654397",
         "0.0102259230978692",
         "50.40223703037752",
         "6.975626551600676"
        ],
        [
         "4",
         "wt_vert_mnm",
         "H3_",
         "gbr",
         "0.9748438814417668",
         "5.635713372753384",
         "0.0120669084152342",
         "66.4144803799364",
         "8.082826697567635"
        ]
       ],
       "shape": {
        "columns": 8,
        "rows": 5
       }
      },
      "text/html": [
       "<div>\n",
       "<style scoped>\n",
       "    .dataframe tbody tr th:only-of-type {\n",
       "        vertical-align: middle;\n",
       "    }\n",
       "\n",
       "    .dataframe tbody tr th {\n",
       "        vertical-align: top;\n",
       "    }\n",
       "\n",
       "    .dataframe thead th {\n",
       "        text-align: right;\n",
       "    }\n",
       "</style>\n",
       "<table border=\"1\" class=\"dataframe\">\n",
       "  <thead>\n",
       "    <tr style=\"text-align: right;\">\n",
       "      <th></th>\n",
       "      <th>Dataset</th>\n",
       "      <th>Props_Used</th>\n",
       "      <th>Model</th>\n",
       "      <th>R2</th>\n",
       "      <th>MAE</th>\n",
       "      <th>MAPE</th>\n",
       "      <th>MSE</th>\n",
       "      <th>RMSE</th>\n",
       "    </tr>\n",
       "  </thead>\n",
       "  <tbody>\n",
       "    <tr>\n",
       "      <th>0</th>\n",
       "      <td>wt_vert_mnm</td>\n",
       "      <td>H1_</td>\n",
       "      <td>gbr</td>\n",
       "      <td>0.979125</td>\n",
       "      <td>4.808670</td>\n",
       "      <td>0.010251</td>\n",
       "      <td>54.171985</td>\n",
       "      <td>7.205791</td>\n",
       "    </tr>\n",
       "    <tr>\n",
       "      <th>1</th>\n",
       "      <td>wt_vert_mnm</td>\n",
       "      <td>H1_</td>\n",
       "      <td>xgb</td>\n",
       "      <td>0.977287</td>\n",
       "      <td>4.659491</td>\n",
       "      <td>0.009755</td>\n",
       "      <td>58.608814</td>\n",
       "      <td>7.373147</td>\n",
       "    </tr>\n",
       "    <tr>\n",
       "      <th>2</th>\n",
       "      <td>wt_vert_mnm</td>\n",
       "      <td>H2_</td>\n",
       "      <td>xgb</td>\n",
       "      <td>0.982559</td>\n",
       "      <td>4.404909</td>\n",
       "      <td>0.009251</td>\n",
       "      <td>46.019757</td>\n",
       "      <td>6.675893</td>\n",
       "    </tr>\n",
       "    <tr>\n",
       "      <th>3</th>\n",
       "      <td>wt_vert_mnm</td>\n",
       "      <td>H2_</td>\n",
       "      <td>gbr</td>\n",
       "      <td>0.980642</td>\n",
       "      <td>4.828224</td>\n",
       "      <td>0.010226</td>\n",
       "      <td>50.402237</td>\n",
       "      <td>6.975627</td>\n",
       "    </tr>\n",
       "    <tr>\n",
       "      <th>4</th>\n",
       "      <td>wt_vert_mnm</td>\n",
       "      <td>H3_</td>\n",
       "      <td>gbr</td>\n",
       "      <td>0.974844</td>\n",
       "      <td>5.635713</td>\n",
       "      <td>0.012067</td>\n",
       "      <td>66.414480</td>\n",
       "      <td>8.082827</td>\n",
       "    </tr>\n",
       "  </tbody>\n",
       "</table>\n",
       "</div>"
      ],
      "text/plain": [
       "       Dataset Props_Used Model        R2       MAE      MAPE        MSE  \\\n",
       "0  wt_vert_mnm        H1_   gbr  0.979125  4.808670  0.010251  54.171985   \n",
       "1  wt_vert_mnm        H1_   xgb  0.977287  4.659491  0.009755  58.608814   \n",
       "2  wt_vert_mnm        H2_   xgb  0.982559  4.404909  0.009251  46.019757   \n",
       "3  wt_vert_mnm        H2_   gbr  0.980642  4.828224  0.010226  50.402237   \n",
       "4  wt_vert_mnm        H3_   gbr  0.974844  5.635713  0.012067  66.414480   \n",
       "\n",
       "       RMSE  \n",
       "0  7.205791  \n",
       "1  7.373147  \n",
       "2  6.675893  \n",
       "3  6.975627  \n",
       "4  8.082827  "
      ]
     },
     "execution_count": 19,
     "metadata": {},
     "output_type": "execute_result"
    }
   ],
   "source": [
    "wt_vert_file = f'{report_dir}/wt_vert_mnm_aa_prop_combos_results.csv'\n",
    "wt_vert_df = pd.read_csv(wt_vert_file)\n",
    "wt_vert_df.head()"
   ]
  },
  {
   "cell_type": "code",
   "execution_count": 20,
   "metadata": {},
   "outputs": [
    {
     "data": {
      "application/vnd.microsoft.datawrangler.viewer.v0+json": {
       "columns": [
        {
         "name": "index",
         "rawType": "int64",
         "type": "integer"
        },
        {
         "name": "Dataset",
         "rawType": "object",
         "type": "string"
        },
        {
         "name": "Props_Used",
         "rawType": "object",
         "type": "string"
        },
        {
         "name": "Model",
         "rawType": "object",
         "type": "string"
        },
        {
         "name": "R2",
         "rawType": "float64",
         "type": "float"
        },
        {
         "name": "MAE",
         "rawType": "float64",
         "type": "float"
        },
        {
         "name": "MAPE",
         "rawType": "float64",
         "type": "float"
        },
        {
         "name": "MSE",
         "rawType": "float64",
         "type": "float"
        },
        {
         "name": "RMSE",
         "rawType": "float64",
         "type": "float"
        },
        {
         "name": "Ranked_By",
         "rawType": "object",
         "type": "string"
        }
       ],
       "conversionMethod": "pd.DataFrame",
       "ref": "2068193a-a4c5-4946-8f80-bff64604c2bb",
       "rows": [
        [
         "0",
         "wt_vert_mnm",
         "H2_H3_PKB_",
         "xgb",
         "0.9847778995276538",
         "4.2069057453212455",
         "0.0087916072893319",
         "39.68286284528197",
         "6.178713776388141",
         "R2"
        ],
        [
         "1",
         "wt_vert_mnm",
         "H2_P2_PKB_",
         "xgb",
         "0.9847478843313938",
         "4.287569872125184",
         "0.0089701964902434",
         "40.0095703517556",
         "6.232934398354656",
         "R2"
        ],
        [
         "2",
         "wt_vert_mnm",
         "P1_NCI_PKB_",
         "xgb",
         "0.9847102137406284",
         "4.281992793698599",
         "0.0090407599563163",
         "39.97226651606152",
         "6.280174296764914",
         "R2"
        ],
        [
         "3",
         "wt_vert_mnm",
         "H2_MASS_PKB_",
         "xgb",
         "0.9844950329719214",
         "4.254941247231715",
         "0.0089054279171267",
         "40.36597378950631",
         "6.289299386063879",
         "R2"
        ],
        [
         "4",
         "wt_vert_mnm",
         "H2_H3_P2_PKB_",
         "xgb",
         "0.9844280166537712",
         "4.271105438446768",
         "0.0089397337002471",
         "40.83587795335961",
         "6.290368922479821",
         "R2"
        ]
       ],
       "shape": {
        "columns": 9,
        "rows": 5
       }
      },
      "text/html": [
       "<div>\n",
       "<style scoped>\n",
       "    .dataframe tbody tr th:only-of-type {\n",
       "        vertical-align: middle;\n",
       "    }\n",
       "\n",
       "    .dataframe tbody tr th {\n",
       "        vertical-align: top;\n",
       "    }\n",
       "\n",
       "    .dataframe thead th {\n",
       "        text-align: right;\n",
       "    }\n",
       "</style>\n",
       "<table border=\"1\" class=\"dataframe\">\n",
       "  <thead>\n",
       "    <tr style=\"text-align: right;\">\n",
       "      <th></th>\n",
       "      <th>Dataset</th>\n",
       "      <th>Props_Used</th>\n",
       "      <th>Model</th>\n",
       "      <th>R2</th>\n",
       "      <th>MAE</th>\n",
       "      <th>MAPE</th>\n",
       "      <th>MSE</th>\n",
       "      <th>RMSE</th>\n",
       "      <th>Ranked_By</th>\n",
       "    </tr>\n",
       "  </thead>\n",
       "  <tbody>\n",
       "    <tr>\n",
       "      <th>0</th>\n",
       "      <td>wt_vert_mnm</td>\n",
       "      <td>H2_H3_PKB_</td>\n",
       "      <td>xgb</td>\n",
       "      <td>0.984778</td>\n",
       "      <td>4.206906</td>\n",
       "      <td>0.008792</td>\n",
       "      <td>39.682863</td>\n",
       "      <td>6.178714</td>\n",
       "      <td>R2</td>\n",
       "    </tr>\n",
       "    <tr>\n",
       "      <th>1</th>\n",
       "      <td>wt_vert_mnm</td>\n",
       "      <td>H2_P2_PKB_</td>\n",
       "      <td>xgb</td>\n",
       "      <td>0.984748</td>\n",
       "      <td>4.287570</td>\n",
       "      <td>0.008970</td>\n",
       "      <td>40.009570</td>\n",
       "      <td>6.232934</td>\n",
       "      <td>R2</td>\n",
       "    </tr>\n",
       "    <tr>\n",
       "      <th>2</th>\n",
       "      <td>wt_vert_mnm</td>\n",
       "      <td>P1_NCI_PKB_</td>\n",
       "      <td>xgb</td>\n",
       "      <td>0.984710</td>\n",
       "      <td>4.281993</td>\n",
       "      <td>0.009041</td>\n",
       "      <td>39.972267</td>\n",
       "      <td>6.280174</td>\n",
       "      <td>R2</td>\n",
       "    </tr>\n",
       "    <tr>\n",
       "      <th>3</th>\n",
       "      <td>wt_vert_mnm</td>\n",
       "      <td>H2_MASS_PKB_</td>\n",
       "      <td>xgb</td>\n",
       "      <td>0.984495</td>\n",
       "      <td>4.254941</td>\n",
       "      <td>0.008905</td>\n",
       "      <td>40.365974</td>\n",
       "      <td>6.289299</td>\n",
       "      <td>R2</td>\n",
       "    </tr>\n",
       "    <tr>\n",
       "      <th>4</th>\n",
       "      <td>wt_vert_mnm</td>\n",
       "      <td>H2_H3_P2_PKB_</td>\n",
       "      <td>xgb</td>\n",
       "      <td>0.984428</td>\n",
       "      <td>4.271105</td>\n",
       "      <td>0.008940</td>\n",
       "      <td>40.835878</td>\n",
       "      <td>6.290369</td>\n",
       "      <td>R2</td>\n",
       "    </tr>\n",
       "  </tbody>\n",
       "</table>\n",
       "</div>"
      ],
      "text/plain": [
       "       Dataset     Props_Used Model        R2       MAE      MAPE        MSE  \\\n",
       "0  wt_vert_mnm     H2_H3_PKB_   xgb  0.984778  4.206906  0.008792  39.682863   \n",
       "1  wt_vert_mnm     H2_P2_PKB_   xgb  0.984748  4.287570  0.008970  40.009570   \n",
       "2  wt_vert_mnm    P1_NCI_PKB_   xgb  0.984710  4.281993  0.009041  39.972267   \n",
       "3  wt_vert_mnm   H2_MASS_PKB_   xgb  0.984495  4.254941  0.008905  40.365974   \n",
       "4  wt_vert_mnm  H2_H3_P2_PKB_   xgb  0.984428  4.271105  0.008940  40.835878   \n",
       "\n",
       "       RMSE Ranked_By  \n",
       "0  6.178714        R2  \n",
       "1  6.232934        R2  \n",
       "2  6.280174        R2  \n",
       "3  6.289299        R2  \n",
       "4  6.290369        R2  "
      ]
     },
     "execution_count": 20,
     "metadata": {},
     "output_type": "execute_result"
    }
   ],
   "source": [
    "wt_vert_df_filtered = wt_vert_df.copy()\n",
    "wt_vert_df_filtered.sort_values('R2',ascending=False,inplace=True)\n",
    "wt_vert_df_filtered.reset_index(inplace=True, drop=True)\n",
    "wt_vert_df_filtered['Ranked_By'] = 'R2'\n",
    "wt_vert_df_filtered.head()"
   ]
  },
  {
   "cell_type": "code",
   "execution_count": 21,
   "metadata": {},
   "outputs": [
    {
     "data": {
      "application/vnd.microsoft.datawrangler.viewer.v0+json": {
       "columns": [
        {
         "name": "index",
         "rawType": "int64",
         "type": "integer"
        },
        {
         "name": "Dataset",
         "rawType": "object",
         "type": "string"
        },
        {
         "name": "Props_Used",
         "rawType": "object",
         "type": "string"
        },
        {
         "name": "Model",
         "rawType": "object",
         "type": "string"
        },
        {
         "name": "R2",
         "rawType": "float64",
         "type": "float"
        },
        {
         "name": "MAE",
         "rawType": "float64",
         "type": "float"
        },
        {
         "name": "MAPE",
         "rawType": "float64",
         "type": "float"
        },
        {
         "name": "MSE",
         "rawType": "float64",
         "type": "float"
        },
        {
         "name": "RMSE",
         "rawType": "float64",
         "type": "float"
        },
        {
         "name": "Ranked_By",
         "rawType": "object",
         "type": "string"
        }
       ],
       "conversionMethod": "pd.DataFrame",
       "ref": "17ef6c85-8e75-4510-b134-2a36ed42b49f",
       "rows": [
        [
         "0",
         "wt_vert_mnm",
         "H2_H3_V_PKB_",
         "xgb",
         "0.9841764918756764",
         "4.205598286133883",
         "0.0087975803682348",
         "41.32871771972027",
         "6.30506867371915",
         "MAE"
        ],
        [
         "1",
         "wt_vert_mnm",
         "H2_H3_PKB_",
         "xgb",
         "0.9847778995276538",
         "4.2069057453212455",
         "0.0087916072893319",
         "39.68286284528197",
         "6.178713776388141",
         "MAE"
        ],
        [
         "2",
         "wt_vert_mnm",
         "H1_H3_PKB_",
         "xgb",
         "0.9840439229089452",
         "4.219248227595864",
         "0.0088372014793774",
         "40.94985072483924",
         "6.280616085305531",
         "MAE"
        ],
        [
         "3",
         "wt_vert_mnm",
         "H1_PKB_",
         "xgb",
         "0.9842320079702034",
         "4.225035585264452",
         "0.0088589613964846",
         "40.52823808335606",
         "6.251465505878228",
         "MAE"
        ],
        [
         "4",
         "wt_vert_mnm",
         "H2_H3_SASA_PKB_",
         "xgb",
         "0.9842822607361844",
         "4.234096389382005",
         "0.0088998154881476",
         "41.26599407607426",
         "6.313335561581157",
         "MAE"
        ]
       ],
       "shape": {
        "columns": 9,
        "rows": 5
       }
      },
      "text/html": [
       "<div>\n",
       "<style scoped>\n",
       "    .dataframe tbody tr th:only-of-type {\n",
       "        vertical-align: middle;\n",
       "    }\n",
       "\n",
       "    .dataframe tbody tr th {\n",
       "        vertical-align: top;\n",
       "    }\n",
       "\n",
       "    .dataframe thead th {\n",
       "        text-align: right;\n",
       "    }\n",
       "</style>\n",
       "<table border=\"1\" class=\"dataframe\">\n",
       "  <thead>\n",
       "    <tr style=\"text-align: right;\">\n",
       "      <th></th>\n",
       "      <th>Dataset</th>\n",
       "      <th>Props_Used</th>\n",
       "      <th>Model</th>\n",
       "      <th>R2</th>\n",
       "      <th>MAE</th>\n",
       "      <th>MAPE</th>\n",
       "      <th>MSE</th>\n",
       "      <th>RMSE</th>\n",
       "      <th>Ranked_By</th>\n",
       "    </tr>\n",
       "  </thead>\n",
       "  <tbody>\n",
       "    <tr>\n",
       "      <th>0</th>\n",
       "      <td>wt_vert_mnm</td>\n",
       "      <td>H2_H3_V_PKB_</td>\n",
       "      <td>xgb</td>\n",
       "      <td>0.984176</td>\n",
       "      <td>4.205598</td>\n",
       "      <td>0.008798</td>\n",
       "      <td>41.328718</td>\n",
       "      <td>6.305069</td>\n",
       "      <td>MAE</td>\n",
       "    </tr>\n",
       "    <tr>\n",
       "      <th>1</th>\n",
       "      <td>wt_vert_mnm</td>\n",
       "      <td>H2_H3_PKB_</td>\n",
       "      <td>xgb</td>\n",
       "      <td>0.984778</td>\n",
       "      <td>4.206906</td>\n",
       "      <td>0.008792</td>\n",
       "      <td>39.682863</td>\n",
       "      <td>6.178714</td>\n",
       "      <td>MAE</td>\n",
       "    </tr>\n",
       "    <tr>\n",
       "      <th>2</th>\n",
       "      <td>wt_vert_mnm</td>\n",
       "      <td>H1_H3_PKB_</td>\n",
       "      <td>xgb</td>\n",
       "      <td>0.984044</td>\n",
       "      <td>4.219248</td>\n",
       "      <td>0.008837</td>\n",
       "      <td>40.949851</td>\n",
       "      <td>6.280616</td>\n",
       "      <td>MAE</td>\n",
       "    </tr>\n",
       "    <tr>\n",
       "      <th>3</th>\n",
       "      <td>wt_vert_mnm</td>\n",
       "      <td>H1_PKB_</td>\n",
       "      <td>xgb</td>\n",
       "      <td>0.984232</td>\n",
       "      <td>4.225036</td>\n",
       "      <td>0.008859</td>\n",
       "      <td>40.528238</td>\n",
       "      <td>6.251466</td>\n",
       "      <td>MAE</td>\n",
       "    </tr>\n",
       "    <tr>\n",
       "      <th>4</th>\n",
       "      <td>wt_vert_mnm</td>\n",
       "      <td>H2_H3_SASA_PKB_</td>\n",
       "      <td>xgb</td>\n",
       "      <td>0.984282</td>\n",
       "      <td>4.234096</td>\n",
       "      <td>0.008900</td>\n",
       "      <td>41.265994</td>\n",
       "      <td>6.313336</td>\n",
       "      <td>MAE</td>\n",
       "    </tr>\n",
       "  </tbody>\n",
       "</table>\n",
       "</div>"
      ],
      "text/plain": [
       "       Dataset       Props_Used Model        R2       MAE      MAPE  \\\n",
       "0  wt_vert_mnm     H2_H3_V_PKB_   xgb  0.984176  4.205598  0.008798   \n",
       "1  wt_vert_mnm       H2_H3_PKB_   xgb  0.984778  4.206906  0.008792   \n",
       "2  wt_vert_mnm       H1_H3_PKB_   xgb  0.984044  4.219248  0.008837   \n",
       "3  wt_vert_mnm          H1_PKB_   xgb  0.984232  4.225036  0.008859   \n",
       "4  wt_vert_mnm  H2_H3_SASA_PKB_   xgb  0.984282  4.234096  0.008900   \n",
       "\n",
       "         MSE      RMSE Ranked_By  \n",
       "0  41.328718  6.305069       MAE  \n",
       "1  39.682863  6.178714       MAE  \n",
       "2  40.949851  6.280616       MAE  \n",
       "3  40.528238  6.251466       MAE  \n",
       "4  41.265994  6.313336       MAE  "
      ]
     },
     "execution_count": 21,
     "metadata": {},
     "output_type": "execute_result"
    }
   ],
   "source": [
    "wt_vert_df_filtered2 = wt_vert_df.copy()\n",
    "wt_vert_df_filtered2.sort_values('MAE',ascending=True,inplace=True)\n",
    "wt_vert_df_filtered2.reset_index(inplace=True, drop=True)\n",
    "wt_vert_df_filtered2['Ranked_By'] = 'MAE'\n",
    "wt_vert_df_filtered2.head()"
   ]
  },
  {
   "cell_type": "code",
   "execution_count": 22,
   "metadata": {},
   "outputs": [],
   "source": [
    "top_mnm_aa_prop_df = pd.concat([top_mnm_aa_prop_df, wt_vert_df_filtered[0:5], wt_vert_df_filtered2[0:5]], ignore_index=True)"
   ]
  },
  {
   "cell_type": "markdown",
   "metadata": {},
   "source": [
    "### <font color=#c994c7>Invertebrate Dataset (Inv)</font>\n"
   ]
  },
  {
   "cell_type": "code",
   "execution_count": 23,
   "metadata": {},
   "outputs": [
    {
     "data": {
      "application/vnd.microsoft.datawrangler.viewer.v0+json": {
       "columns": [
        {
         "name": "index",
         "rawType": "int64",
         "type": "integer"
        },
        {
         "name": "Dataset",
         "rawType": "object",
         "type": "string"
        },
        {
         "name": "Props_Used",
         "rawType": "object",
         "type": "string"
        },
        {
         "name": "Model",
         "rawType": "object",
         "type": "string"
        },
        {
         "name": "R2",
         "rawType": "float64",
         "type": "float"
        },
        {
         "name": "MAE",
         "rawType": "float64",
         "type": "float"
        },
        {
         "name": "MAPE",
         "rawType": "float64",
         "type": "float"
        },
        {
         "name": "MSE",
         "rawType": "float64",
         "type": "float"
        },
        {
         "name": "RMSE",
         "rawType": "float64",
         "type": "float"
        }
       ],
       "conversionMethod": "pd.DataFrame",
       "ref": "08c4608d-33b3-4cd9-8c71-dc83cabfcacd",
       "rows": [
        [
         "0",
         "inv_mnm",
         "H1_",
         "gbr",
         "0.900928306972161",
         "11.287741742617946",
         "0.0241872992894556",
         "352.5139986756556",
         "17.71704809713034"
        ],
        [
         "1",
         "inv_mnm",
         "H1_",
         "xgb",
         "0.8915244895302887",
         "11.896959637385544",
         "0.0256570607747307",
         "385.3102366895353",
         "18.6715025186022"
        ],
        [
         "2",
         "inv_mnm",
         "H2_",
         "gbr",
         "0.8972677606363815",
         "11.49192973601114",
         "0.0246141793940855",
         "365.60509409189865",
         "18.013855070331278"
        ],
        [
         "3",
         "inv_mnm",
         "H2_",
         "xgb",
         "0.8906567298396343",
         "11.889348704348327",
         "0.0256461202226574",
         "393.32936526808345",
         "18.919183607552974"
        ],
        [
         "4",
         "inv_mnm",
         "H3_",
         "gbr",
         "0.8784714980437446",
         "12.842779409030069",
         "0.0274227920293023",
         "416.57819889792137",
         "19.36567114023087"
        ]
       ],
       "shape": {
        "columns": 8,
        "rows": 5
       }
      },
      "text/html": [
       "<div>\n",
       "<style scoped>\n",
       "    .dataframe tbody tr th:only-of-type {\n",
       "        vertical-align: middle;\n",
       "    }\n",
       "\n",
       "    .dataframe tbody tr th {\n",
       "        vertical-align: top;\n",
       "    }\n",
       "\n",
       "    .dataframe thead th {\n",
       "        text-align: right;\n",
       "    }\n",
       "</style>\n",
       "<table border=\"1\" class=\"dataframe\">\n",
       "  <thead>\n",
       "    <tr style=\"text-align: right;\">\n",
       "      <th></th>\n",
       "      <th>Dataset</th>\n",
       "      <th>Props_Used</th>\n",
       "      <th>Model</th>\n",
       "      <th>R2</th>\n",
       "      <th>MAE</th>\n",
       "      <th>MAPE</th>\n",
       "      <th>MSE</th>\n",
       "      <th>RMSE</th>\n",
       "    </tr>\n",
       "  </thead>\n",
       "  <tbody>\n",
       "    <tr>\n",
       "      <th>0</th>\n",
       "      <td>inv_mnm</td>\n",
       "      <td>H1_</td>\n",
       "      <td>gbr</td>\n",
       "      <td>0.900928</td>\n",
       "      <td>11.287742</td>\n",
       "      <td>0.024187</td>\n",
       "      <td>352.513999</td>\n",
       "      <td>17.717048</td>\n",
       "    </tr>\n",
       "    <tr>\n",
       "      <th>1</th>\n",
       "      <td>inv_mnm</td>\n",
       "      <td>H1_</td>\n",
       "      <td>xgb</td>\n",
       "      <td>0.891524</td>\n",
       "      <td>11.896960</td>\n",
       "      <td>0.025657</td>\n",
       "      <td>385.310237</td>\n",
       "      <td>18.671503</td>\n",
       "    </tr>\n",
       "    <tr>\n",
       "      <th>2</th>\n",
       "      <td>inv_mnm</td>\n",
       "      <td>H2_</td>\n",
       "      <td>gbr</td>\n",
       "      <td>0.897268</td>\n",
       "      <td>11.491930</td>\n",
       "      <td>0.024614</td>\n",
       "      <td>365.605094</td>\n",
       "      <td>18.013855</td>\n",
       "    </tr>\n",
       "    <tr>\n",
       "      <th>3</th>\n",
       "      <td>inv_mnm</td>\n",
       "      <td>H2_</td>\n",
       "      <td>xgb</td>\n",
       "      <td>0.890657</td>\n",
       "      <td>11.889349</td>\n",
       "      <td>0.025646</td>\n",
       "      <td>393.329365</td>\n",
       "      <td>18.919184</td>\n",
       "    </tr>\n",
       "    <tr>\n",
       "      <th>4</th>\n",
       "      <td>inv_mnm</td>\n",
       "      <td>H3_</td>\n",
       "      <td>gbr</td>\n",
       "      <td>0.878471</td>\n",
       "      <td>12.842779</td>\n",
       "      <td>0.027423</td>\n",
       "      <td>416.578199</td>\n",
       "      <td>19.365671</td>\n",
       "    </tr>\n",
       "  </tbody>\n",
       "</table>\n",
       "</div>"
      ],
      "text/plain": [
       "   Dataset Props_Used Model        R2        MAE      MAPE         MSE  \\\n",
       "0  inv_mnm        H1_   gbr  0.900928  11.287742  0.024187  352.513999   \n",
       "1  inv_mnm        H1_   xgb  0.891524  11.896960  0.025657  385.310237   \n",
       "2  inv_mnm        H2_   gbr  0.897268  11.491930  0.024614  365.605094   \n",
       "3  inv_mnm        H2_   xgb  0.890657  11.889349  0.025646  393.329365   \n",
       "4  inv_mnm        H3_   gbr  0.878471  12.842779  0.027423  416.578199   \n",
       "\n",
       "        RMSE  \n",
       "0  17.717048  \n",
       "1  18.671503  \n",
       "2  18.013855  \n",
       "3  18.919184  \n",
       "4  19.365671  "
      ]
     },
     "execution_count": 23,
     "metadata": {},
     "output_type": "execute_result"
    }
   ],
   "source": [
    "inv_file = f'{report_dir}/inv_mnm_aa_prop_combos_results.csv'\n",
    "inv_df = pd.read_csv(inv_file)\n",
    "inv_df.head()"
   ]
  },
  {
   "cell_type": "code",
   "execution_count": 24,
   "metadata": {},
   "outputs": [
    {
     "data": {
      "application/vnd.microsoft.datawrangler.viewer.v0+json": {
       "columns": [
        {
         "name": "index",
         "rawType": "int64",
         "type": "integer"
        },
        {
         "name": "Dataset",
         "rawType": "object",
         "type": "string"
        },
        {
         "name": "Props_Used",
         "rawType": "object",
         "type": "string"
        },
        {
         "name": "Model",
         "rawType": "object",
         "type": "string"
        },
        {
         "name": "R2",
         "rawType": "float64",
         "type": "float"
        },
        {
         "name": "MAE",
         "rawType": "float64",
         "type": "float"
        },
        {
         "name": "MAPE",
         "rawType": "float64",
         "type": "float"
        },
        {
         "name": "MSE",
         "rawType": "float64",
         "type": "float"
        },
        {
         "name": "RMSE",
         "rawType": "float64",
         "type": "float"
        },
        {
         "name": "Ranked_By",
         "rawType": "object",
         "type": "string"
        }
       ],
       "conversionMethod": "pd.DataFrame",
       "ref": "4de12701-65d2-453d-965a-0b2331a23740",
       "rows": [
        [
         "0",
         "inv_mnm",
         "H1_P1_SCT_",
         "gbr",
         "0.9048078131670012",
         "10.94402301348717",
         "0.0233925814322338",
         "337.22343147937306",
         "17.25965385698389",
         "R2"
        ],
        [
         "1",
         "inv_mnm",
         "H1_P1_V_SCT_PKA_",
         "gbr",
         "0.9046117005996588",
         "10.891637455563147",
         "0.0232542509712462",
         "337.5049694888635",
         "17.33971373360207",
         "R2"
        ],
        [
         "2",
         "inv_mnm",
         "H1_H3_P1_P2_MASS_SCT_",
         "gbr",
         "0.9045121995175434",
         "10.977209884621049",
         "0.0234529120037419",
         "337.7725877969747",
         "17.294429694179144",
         "R2"
        ],
        [
         "3",
         "inv_mnm",
         "H1_P1_MASS_SCT_",
         "gbr",
         "0.904241869596594",
         "11.015463299550811",
         "0.0235302883497633",
         "339.1774281552363",
         "17.351120909400674",
         "R2"
        ],
        [
         "4",
         "inv_mnm",
         "H1_H3_P1_MASS_",
         "gbr",
         "0.9042118461266",
         "11.017101825786307",
         "0.0235146973133181",
         "340.2544316517274",
         "17.356303371979976",
         "R2"
        ]
       ],
       "shape": {
        "columns": 9,
        "rows": 5
       }
      },
      "text/html": [
       "<div>\n",
       "<style scoped>\n",
       "    .dataframe tbody tr th:only-of-type {\n",
       "        vertical-align: middle;\n",
       "    }\n",
       "\n",
       "    .dataframe tbody tr th {\n",
       "        vertical-align: top;\n",
       "    }\n",
       "\n",
       "    .dataframe thead th {\n",
       "        text-align: right;\n",
       "    }\n",
       "</style>\n",
       "<table border=\"1\" class=\"dataframe\">\n",
       "  <thead>\n",
       "    <tr style=\"text-align: right;\">\n",
       "      <th></th>\n",
       "      <th>Dataset</th>\n",
       "      <th>Props_Used</th>\n",
       "      <th>Model</th>\n",
       "      <th>R2</th>\n",
       "      <th>MAE</th>\n",
       "      <th>MAPE</th>\n",
       "      <th>MSE</th>\n",
       "      <th>RMSE</th>\n",
       "      <th>Ranked_By</th>\n",
       "    </tr>\n",
       "  </thead>\n",
       "  <tbody>\n",
       "    <tr>\n",
       "      <th>0</th>\n",
       "      <td>inv_mnm</td>\n",
       "      <td>H1_P1_SCT_</td>\n",
       "      <td>gbr</td>\n",
       "      <td>0.904808</td>\n",
       "      <td>10.944023</td>\n",
       "      <td>0.023393</td>\n",
       "      <td>337.223431</td>\n",
       "      <td>17.259654</td>\n",
       "      <td>R2</td>\n",
       "    </tr>\n",
       "    <tr>\n",
       "      <th>1</th>\n",
       "      <td>inv_mnm</td>\n",
       "      <td>H1_P1_V_SCT_PKA_</td>\n",
       "      <td>gbr</td>\n",
       "      <td>0.904612</td>\n",
       "      <td>10.891637</td>\n",
       "      <td>0.023254</td>\n",
       "      <td>337.504969</td>\n",
       "      <td>17.339714</td>\n",
       "      <td>R2</td>\n",
       "    </tr>\n",
       "    <tr>\n",
       "      <th>2</th>\n",
       "      <td>inv_mnm</td>\n",
       "      <td>H1_H3_P1_P2_MASS_SCT_</td>\n",
       "      <td>gbr</td>\n",
       "      <td>0.904512</td>\n",
       "      <td>10.977210</td>\n",
       "      <td>0.023453</td>\n",
       "      <td>337.772588</td>\n",
       "      <td>17.294430</td>\n",
       "      <td>R2</td>\n",
       "    </tr>\n",
       "    <tr>\n",
       "      <th>3</th>\n",
       "      <td>inv_mnm</td>\n",
       "      <td>H1_P1_MASS_SCT_</td>\n",
       "      <td>gbr</td>\n",
       "      <td>0.904242</td>\n",
       "      <td>11.015463</td>\n",
       "      <td>0.023530</td>\n",
       "      <td>339.177428</td>\n",
       "      <td>17.351121</td>\n",
       "      <td>R2</td>\n",
       "    </tr>\n",
       "    <tr>\n",
       "      <th>4</th>\n",
       "      <td>inv_mnm</td>\n",
       "      <td>H1_H3_P1_MASS_</td>\n",
       "      <td>gbr</td>\n",
       "      <td>0.904212</td>\n",
       "      <td>11.017102</td>\n",
       "      <td>0.023515</td>\n",
       "      <td>340.254432</td>\n",
       "      <td>17.356303</td>\n",
       "      <td>R2</td>\n",
       "    </tr>\n",
       "  </tbody>\n",
       "</table>\n",
       "</div>"
      ],
      "text/plain": [
       "   Dataset             Props_Used Model        R2        MAE      MAPE  \\\n",
       "0  inv_mnm             H1_P1_SCT_   gbr  0.904808  10.944023  0.023393   \n",
       "1  inv_mnm       H1_P1_V_SCT_PKA_   gbr  0.904612  10.891637  0.023254   \n",
       "2  inv_mnm  H1_H3_P1_P2_MASS_SCT_   gbr  0.904512  10.977210  0.023453   \n",
       "3  inv_mnm        H1_P1_MASS_SCT_   gbr  0.904242  11.015463  0.023530   \n",
       "4  inv_mnm         H1_H3_P1_MASS_   gbr  0.904212  11.017102  0.023515   \n",
       "\n",
       "          MSE       RMSE Ranked_By  \n",
       "0  337.223431  17.259654        R2  \n",
       "1  337.504969  17.339714        R2  \n",
       "2  337.772588  17.294430        R2  \n",
       "3  339.177428  17.351121        R2  \n",
       "4  340.254432  17.356303        R2  "
      ]
     },
     "execution_count": 24,
     "metadata": {},
     "output_type": "execute_result"
    }
   ],
   "source": [
    "inv_df_filtered = inv_df.copy()\n",
    "inv_df_filtered.sort_values('R2',ascending=False,inplace=True)\n",
    "inv_df_filtered.reset_index(inplace=True, drop=True)\n",
    "inv_df_filtered['Ranked_By'] = 'R2'\n",
    "inv_df_filtered.head()"
   ]
  },
  {
   "cell_type": "code",
   "execution_count": 25,
   "metadata": {},
   "outputs": [
    {
     "data": {
      "application/vnd.microsoft.datawrangler.viewer.v0+json": {
       "columns": [
        {
         "name": "index",
         "rawType": "int64",
         "type": "integer"
        },
        {
         "name": "Dataset",
         "rawType": "object",
         "type": "string"
        },
        {
         "name": "Props_Used",
         "rawType": "object",
         "type": "string"
        },
        {
         "name": "Model",
         "rawType": "object",
         "type": "string"
        },
        {
         "name": "R2",
         "rawType": "float64",
         "type": "float"
        },
        {
         "name": "MAE",
         "rawType": "float64",
         "type": "float"
        },
        {
         "name": "MAPE",
         "rawType": "float64",
         "type": "float"
        },
        {
         "name": "MSE",
         "rawType": "float64",
         "type": "float"
        },
        {
         "name": "RMSE",
         "rawType": "float64",
         "type": "float"
        },
        {
         "name": "Ranked_By",
         "rawType": "object",
         "type": "string"
        }
       ],
       "conversionMethod": "pd.DataFrame",
       "ref": "37804ff6-cadf-46c6-ae0f-474e826f4bf4",
       "rows": [
        [
         "0",
         "inv_mnm",
         "H1_P1_V_SCT_PKA_",
         "gbr",
         "0.9046117005996588",
         "10.891637455563147",
         "0.0232542509712462",
         "337.5049694888635",
         "17.33971373360207",
         "MAE"
        ],
        [
         "1",
         "inv_mnm",
         "H1_H2_P1_V_MASS_",
         "gbr",
         "0.903493946738804",
         "10.915856058063673",
         "0.0232628318383476",
         "339.5543425376115",
         "17.378694983126273",
         "MAE"
        ],
        [
         "2",
         "inv_mnm",
         "H1_P1_SCT_",
         "gbr",
         "0.9048078131670012",
         "10.94402301348717",
         "0.0233925814322338",
         "337.22343147937306",
         "17.25965385698389",
         "MAE"
        ],
        [
         "3",
         "inv_mnm",
         "H1_H2_P1_SASA_",
         "gbr",
         "0.9036334967805674",
         "10.948422803493369",
         "0.0234163840229522",
         "343.57041337163344",
         "17.38548049128149",
         "MAE"
        ],
        [
         "4",
         "inv_mnm",
         "H1_H2_P1_V_SCT_",
         "gbr",
         "0.9023829031002938",
         "10.962536101247554",
         "0.023383631462655",
         "345.7423011378385",
         "17.516576793182182",
         "MAE"
        ]
       ],
       "shape": {
        "columns": 9,
        "rows": 5
       }
      },
      "text/html": [
       "<div>\n",
       "<style scoped>\n",
       "    .dataframe tbody tr th:only-of-type {\n",
       "        vertical-align: middle;\n",
       "    }\n",
       "\n",
       "    .dataframe tbody tr th {\n",
       "        vertical-align: top;\n",
       "    }\n",
       "\n",
       "    .dataframe thead th {\n",
       "        text-align: right;\n",
       "    }\n",
       "</style>\n",
       "<table border=\"1\" class=\"dataframe\">\n",
       "  <thead>\n",
       "    <tr style=\"text-align: right;\">\n",
       "      <th></th>\n",
       "      <th>Dataset</th>\n",
       "      <th>Props_Used</th>\n",
       "      <th>Model</th>\n",
       "      <th>R2</th>\n",
       "      <th>MAE</th>\n",
       "      <th>MAPE</th>\n",
       "      <th>MSE</th>\n",
       "      <th>RMSE</th>\n",
       "      <th>Ranked_By</th>\n",
       "    </tr>\n",
       "  </thead>\n",
       "  <tbody>\n",
       "    <tr>\n",
       "      <th>0</th>\n",
       "      <td>inv_mnm</td>\n",
       "      <td>H1_P1_V_SCT_PKA_</td>\n",
       "      <td>gbr</td>\n",
       "      <td>0.904612</td>\n",
       "      <td>10.891637</td>\n",
       "      <td>0.023254</td>\n",
       "      <td>337.504969</td>\n",
       "      <td>17.339714</td>\n",
       "      <td>MAE</td>\n",
       "    </tr>\n",
       "    <tr>\n",
       "      <th>1</th>\n",
       "      <td>inv_mnm</td>\n",
       "      <td>H1_H2_P1_V_MASS_</td>\n",
       "      <td>gbr</td>\n",
       "      <td>0.903494</td>\n",
       "      <td>10.915856</td>\n",
       "      <td>0.023263</td>\n",
       "      <td>339.554343</td>\n",
       "      <td>17.378695</td>\n",
       "      <td>MAE</td>\n",
       "    </tr>\n",
       "    <tr>\n",
       "      <th>2</th>\n",
       "      <td>inv_mnm</td>\n",
       "      <td>H1_P1_SCT_</td>\n",
       "      <td>gbr</td>\n",
       "      <td>0.904808</td>\n",
       "      <td>10.944023</td>\n",
       "      <td>0.023393</td>\n",
       "      <td>337.223431</td>\n",
       "      <td>17.259654</td>\n",
       "      <td>MAE</td>\n",
       "    </tr>\n",
       "    <tr>\n",
       "      <th>3</th>\n",
       "      <td>inv_mnm</td>\n",
       "      <td>H1_H2_P1_SASA_</td>\n",
       "      <td>gbr</td>\n",
       "      <td>0.903633</td>\n",
       "      <td>10.948423</td>\n",
       "      <td>0.023416</td>\n",
       "      <td>343.570413</td>\n",
       "      <td>17.385480</td>\n",
       "      <td>MAE</td>\n",
       "    </tr>\n",
       "    <tr>\n",
       "      <th>4</th>\n",
       "      <td>inv_mnm</td>\n",
       "      <td>H1_H2_P1_V_SCT_</td>\n",
       "      <td>gbr</td>\n",
       "      <td>0.902383</td>\n",
       "      <td>10.962536</td>\n",
       "      <td>0.023384</td>\n",
       "      <td>345.742301</td>\n",
       "      <td>17.516577</td>\n",
       "      <td>MAE</td>\n",
       "    </tr>\n",
       "  </tbody>\n",
       "</table>\n",
       "</div>"
      ],
      "text/plain": [
       "   Dataset        Props_Used Model        R2        MAE      MAPE         MSE  \\\n",
       "0  inv_mnm  H1_P1_V_SCT_PKA_   gbr  0.904612  10.891637  0.023254  337.504969   \n",
       "1  inv_mnm  H1_H2_P1_V_MASS_   gbr  0.903494  10.915856  0.023263  339.554343   \n",
       "2  inv_mnm        H1_P1_SCT_   gbr  0.904808  10.944023  0.023393  337.223431   \n",
       "3  inv_mnm    H1_H2_P1_SASA_   gbr  0.903633  10.948423  0.023416  343.570413   \n",
       "4  inv_mnm   H1_H2_P1_V_SCT_   gbr  0.902383  10.962536  0.023384  345.742301   \n",
       "\n",
       "        RMSE Ranked_By  \n",
       "0  17.339714       MAE  \n",
       "1  17.378695       MAE  \n",
       "2  17.259654       MAE  \n",
       "3  17.385480       MAE  \n",
       "4  17.516577       MAE  "
      ]
     },
     "execution_count": 25,
     "metadata": {},
     "output_type": "execute_result"
    }
   ],
   "source": [
    "inv_df_filtered2 = inv_df.copy()\n",
    "inv_df_filtered2.sort_values('MAE',ascending=True,inplace=True)\n",
    "inv_df_filtered2.reset_index(inplace=True, drop=True)\n",
    "inv_df_filtered2['Ranked_By'] = 'MAE'\n",
    "inv_df_filtered2.head()"
   ]
  },
  {
   "cell_type": "code",
   "execution_count": 26,
   "metadata": {},
   "outputs": [],
   "source": [
    "top_mnm_aa_prop_df = pd.concat([top_mnm_aa_prop_df, inv_df_filtered[0:5], inv_df_filtered2[0:5]], ignore_index=True)"
   ]
  },
  {
   "cell_type": "code",
   "execution_count": 28,
   "metadata": {},
   "outputs": [],
   "source": [
    "top_mnm_aa_prop_df.to_csv(f'{report_dir}/top_mnm_aa_props_all_datasets.csv')"
   ]
  },
  {
   "cell_type": "markdown",
   "metadata": {},
   "source": [
    "## <font color=#c51b8a>Amino Acid Property Analysis: (Part 2)</font> \n",
    "### A post-grid-search analysis of the best amino acid properties combinations for training ML models on different opsin datasets...  "
   ]
  },
  {
   "cell_type": "code",
   "execution_count": null,
   "metadata": {},
   "outputs": [],
   "source": [
    "import os\n",
    "import re\n",
    "import datetime\n",
    "import time\n",
    "import json\n",
    "import pandas as pd\n",
    "import numpy as np"
   ]
  },
  {
   "cell_type": "markdown",
   "metadata": {},
   "source": [
    "### This is actually less of an analysis, and more just a way to see the final results of the aa_prop grid-search.\n",
    "- Note - only one group of aa-properties, one model algorythm and one set of model parameters is chosen for each dataset in the end."
   ]
  },
  {
   "cell_type": "code",
   "execution_count": null,
   "metadata": {},
   "outputs": [],
   "source": [
    "report_dir = './vpod_1.2/aa_prop_combos_analysis_2024-12-16_16-57-42'"
   ]
  },
  {
   "cell_type": "code",
   "execution_count": null,
   "metadata": {},
   "outputs": [
    {
     "data": {
      "application/vnd.microsoft.datawrangler.viewer.v0+json": {
       "columns": [
        {
         "name": "index",
         "rawType": "int64",
         "type": "integer"
        },
        {
         "name": "Dataset",
         "rawType": "object",
         "type": "string"
        },
        {
         "name": "Props_Used",
         "rawType": "object",
         "type": "string"
        },
        {
         "name": "best_gs_model",
         "rawType": "object",
         "type": "string"
        },
        {
         "name": "best_gs_r2",
         "rawType": "float64",
         "type": "float"
        },
        {
         "name": "best_gs_params",
         "rawType": "object",
         "type": "string"
        }
       ],
       "conversionMethod": "pd.DataFrame",
       "ref": "651601d1-1c01-4c6c-a155-d0350e6f85ef",
       "rows": [
        [
         "0",
         "wds",
         "H1_H2_H3_P1_P2_V_SASA_SCT_PKA_PKB_",
         "gbr",
         "0.9688362369860076",
         "{'gbr__learning_rate': 0.2, 'gbr__max_depth': 3, 'gbr__max_features': 'log2', 'gbr__n_estimators': 800}"
        ],
        [
         "1",
         "wt",
         "H1_H3_P1_NCI_PKA_",
         "gbr",
         "0.9393060576713632",
         "{'gbr__learning_rate': 0.1, 'gbr__max_depth': 3, 'gbr__max_features': 'log2', 'gbr__n_estimators': 800}"
        ],
        [
         "2",
         "vert",
         "H2_H3_NCI_SCT_PKB_",
         "xgb",
         "0.9810474048971491",
         "{'xgb__colsample_bytree': 1.0, 'xgb__gamma': 0, 'xgb__learning_rate': 0.1, 'xgb__max_depth': 5, 'xgb__n_estimators': 200, 'xgb__reg_alpha': 0.1, 'xgb__reg_lambda': 0.1, 'xgb__subsample': 1.0}"
        ],
        [
         "3",
         "wt_vert",
         "H2_P2_V_MASS_",
         "gbr",
         "0.9799108660033524",
         "{'gbr__learning_rate': 0.1, 'gbr__max_depth': 3, 'gbr__max_features': None, 'gbr__n_estimators': 300}"
        ],
        [
         "4",
         "inv",
         "H1_H3_",
         "gbr",
         "0.8390230316215483",
         "{'gbr__learning_rate': 0.01, 'gbr__max_depth': 3, 'gbr__max_features': None, 'gbr__n_estimators': 500}"
        ]
       ],
       "shape": {
        "columns": 5,
        "rows": 5
       }
      },
      "text/html": [
       "<div>\n",
       "<style scoped>\n",
       "    .dataframe tbody tr th:only-of-type {\n",
       "        vertical-align: middle;\n",
       "    }\n",
       "\n",
       "    .dataframe tbody tr th {\n",
       "        vertical-align: top;\n",
       "    }\n",
       "\n",
       "    .dataframe thead th {\n",
       "        text-align: right;\n",
       "    }\n",
       "</style>\n",
       "<table border=\"1\" class=\"dataframe\">\n",
       "  <thead>\n",
       "    <tr style=\"text-align: right;\">\n",
       "      <th></th>\n",
       "      <th>Dataset</th>\n",
       "      <th>Props_Used</th>\n",
       "      <th>best_gs_model</th>\n",
       "      <th>best_gs_r2</th>\n",
       "      <th>best_gs_params</th>\n",
       "    </tr>\n",
       "  </thead>\n",
       "  <tbody>\n",
       "    <tr>\n",
       "      <th>0</th>\n",
       "      <td>wds</td>\n",
       "      <td>H1_H2_H3_P1_P2_V_SASA_SCT_PKA_PKB_</td>\n",
       "      <td>gbr</td>\n",
       "      <td>0.968836</td>\n",
       "      <td>{'gbr__learning_rate': 0.2, 'gbr__max_depth': ...</td>\n",
       "    </tr>\n",
       "    <tr>\n",
       "      <th>1</th>\n",
       "      <td>wt</td>\n",
       "      <td>H1_H3_P1_NCI_PKA_</td>\n",
       "      <td>gbr</td>\n",
       "      <td>0.939306</td>\n",
       "      <td>{'gbr__learning_rate': 0.1, 'gbr__max_depth': ...</td>\n",
       "    </tr>\n",
       "    <tr>\n",
       "      <th>2</th>\n",
       "      <td>vert</td>\n",
       "      <td>H2_H3_NCI_SCT_PKB_</td>\n",
       "      <td>xgb</td>\n",
       "      <td>0.981047</td>\n",
       "      <td>{'xgb__colsample_bytree': 1.0, 'xgb__gamma': 0...</td>\n",
       "    </tr>\n",
       "    <tr>\n",
       "      <th>3</th>\n",
       "      <td>wt_vert</td>\n",
       "      <td>H2_P2_V_MASS_</td>\n",
       "      <td>gbr</td>\n",
       "      <td>0.979911</td>\n",
       "      <td>{'gbr__learning_rate': 0.1, 'gbr__max_depth': ...</td>\n",
       "    </tr>\n",
       "    <tr>\n",
       "      <th>4</th>\n",
       "      <td>inv</td>\n",
       "      <td>H1_H3_</td>\n",
       "      <td>gbr</td>\n",
       "      <td>0.839023</td>\n",
       "      <td>{'gbr__learning_rate': 0.01, 'gbr__max_depth':...</td>\n",
       "    </tr>\n",
       "  </tbody>\n",
       "</table>\n",
       "</div>"
      ],
      "text/plain": [
       "   Dataset                          Props_Used best_gs_model  best_gs_r2  \\\n",
       "0      wds  H1_H2_H3_P1_P2_V_SASA_SCT_PKA_PKB_           gbr    0.968836   \n",
       "1       wt                   H1_H3_P1_NCI_PKA_           gbr    0.939306   \n",
       "2     vert                  H2_H3_NCI_SCT_PKB_           xgb    0.981047   \n",
       "3  wt_vert                       H2_P2_V_MASS_           gbr    0.979911   \n",
       "4      inv                              H1_H3_           gbr    0.839023   \n",
       "\n",
       "                                      best_gs_params  \n",
       "0  {'gbr__learning_rate': 0.2, 'gbr__max_depth': ...  \n",
       "1  {'gbr__learning_rate': 0.1, 'gbr__max_depth': ...  \n",
       "2  {'xgb__colsample_bytree': 1.0, 'xgb__gamma': 0...  \n",
       "3  {'gbr__learning_rate': 0.1, 'gbr__max_depth': ...  \n",
       "4  {'gbr__learning_rate': 0.01, 'gbr__max_depth':...  "
      ]
     },
     "execution_count": 123,
     "metadata": {},
     "output_type": "execute_result"
    }
   ],
   "source": [
    "top_mnm_aa_prop_file = f'{report_dir}/filtered_top_mnm_aa_props_all_datasets_gs.csv'\n",
    "top_mnm_aa_prop_df = pd.read_csv(top_mnm_aa_prop_file, index_col=0)\n",
    "top_mnm_aa_prop_df"
   ]
  }
 ],
 "metadata": {
  "kernelspec": {
   "display_name": "deepBreaks",
   "language": "python",
   "name": "python3"
  },
  "language_info": {
   "codemirror_mode": {
    "name": "ipython",
    "version": 3
   },
   "file_extension": ".py",
   "mimetype": "text/x-python",
   "name": "python",
   "nbconvert_exporter": "python",
   "pygments_lexer": "ipython3",
   "version": "3.9.17"
  }
 },
 "nbformat": 4,
 "nbformat_minor": 2
}
