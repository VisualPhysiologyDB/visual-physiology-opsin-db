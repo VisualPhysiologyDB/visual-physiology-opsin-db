{
 "cells": [
  {
   "cell_type": "code",
   "execution_count": 7,
   "metadata": {},
   "outputs": [],
   "source": [
    "import pandas as pd\n",
    "import seaborn as sns\n",
    "import matplotlib.pyplot as plt\n",
    "from statistics import mean\n"
   ]
  },
  {
   "cell_type": "code",
   "execution_count": 17,
   "metadata": {},
   "outputs": [],
   "source": [
    "report_dir = 'e:/safra/Documents/GitHub/visual-physiology-opsin-db/result_files/phylo_weighted_cv'\n",
    "atts_of_intrst = ['R2', 'MAE']\n",
    "relation_handeling_methods = ['leave_out']\n",
    "percentile_list = [1,5,11,21]"
   ]
  },
  {
   "cell_type": "code",
   "execution_count": 14,
   "metadata": {},
   "outputs": [
    {
     "data": {
      "application/vnd.microsoft.datawrangler.viewer.v0+json": {
       "columns": [
        {
         "name": "index",
         "rawType": "int64",
         "type": "integer"
        },
        {
         "name": "Tree",
         "rawType": "object",
         "type": "string"
        },
        {
         "name": "Relation_Handling",
         "rawType": "object",
         "type": "string"
        },
        {
         "name": "N_Folds",
         "rawType": "int64",
         "type": "integer"
        },
        {
         "name": "Model",
         "rawType": "object",
         "type": "string"
        },
        {
         "name": "Threshold",
         "rawType": "int64",
         "type": "integer"
        },
        {
         "name": "R2",
         "rawType": "float64",
         "type": "float"
        },
        {
         "name": "MAE",
         "rawType": "float64",
         "type": "float"
        },
        {
         "name": "MAPE",
         "rawType": "float64",
         "type": "float"
        },
        {
         "name": "MSE",
         "rawType": "float64",
         "type": "float"
        },
        {
         "name": "RMSE",
         "rawType": "float64",
         "type": "float"
        }
       ],
       "conversionMethod": "pd.DataFrame",
       "ref": "305e4593-4b4f-4122-9046-4b241ceb6b2b",
       "rows": [
        [
         "0",
         "wt_vpod_1.2_LG_F_R7.treefile",
         "leave_out",
         "5",
         "gbr",
         "1",
         "0.918240266",
         "10.02106767",
         "0.021794377",
         "269.7417665",
         "16.2284668"
        ],
        [
         "1",
         "wt_vpod_1.2_LG_F_R7.treefile",
         "leave_out",
         "5",
         "xgb",
         "1",
         "0.903777991",
         "10.06868019",
         "0.021886059",
         "326.3087342",
         "17.10663639"
        ],
        [
         "2",
         "wt_vpod_1.2_LG_F_R7.treefile",
         "leave_out",
         "5",
         "BayesianRidge",
         "1",
         "0.899020388",
         "10.89382185",
         "0.024053218",
         "342.5468877",
         "17.38615262"
        ],
        [
         "3",
         "wt_vpod_1.2_LG_F_R7.treefile",
         "leave_out",
         "5",
         "rf",
         "1",
         "0.895095132",
         "10.32636301",
         "0.022821497",
         "347.0286004",
         "18.05782084"
        ],
        [
         "4",
         "wt_vpod_1.2_LG_F_R7.treefile",
         "leave_out",
         "5",
         "lgbm",
         "1",
         "0.89405895",
         "10.88197515",
         "0.023939581",
         "353.4336433",
         "18.12282903"
        ]
       ],
       "shape": {
        "columns": 10,
        "rows": 5
       }
      },
      "text/html": [
       "<div>\n",
       "<style scoped>\n",
       "    .dataframe tbody tr th:only-of-type {\n",
       "        vertical-align: middle;\n",
       "    }\n",
       "\n",
       "    .dataframe tbody tr th {\n",
       "        vertical-align: top;\n",
       "    }\n",
       "\n",
       "    .dataframe thead th {\n",
       "        text-align: right;\n",
       "    }\n",
       "</style>\n",
       "<table border=\"1\" class=\"dataframe\">\n",
       "  <thead>\n",
       "    <tr style=\"text-align: right;\">\n",
       "      <th></th>\n",
       "      <th>Tree</th>\n",
       "      <th>Relation_Handling</th>\n",
       "      <th>N_Folds</th>\n",
       "      <th>Model</th>\n",
       "      <th>Threshold</th>\n",
       "      <th>R2</th>\n",
       "      <th>MAE</th>\n",
       "      <th>MAPE</th>\n",
       "      <th>MSE</th>\n",
       "      <th>RMSE</th>\n",
       "    </tr>\n",
       "  </thead>\n",
       "  <tbody>\n",
       "    <tr>\n",
       "      <th>0</th>\n",
       "      <td>wt_vpod_1.2_LG_F_R7.treefile</td>\n",
       "      <td>leave_out</td>\n",
       "      <td>5</td>\n",
       "      <td>gbr</td>\n",
       "      <td>1</td>\n",
       "      <td>0.918240</td>\n",
       "      <td>10.021068</td>\n",
       "      <td>0.021794</td>\n",
       "      <td>269.741766</td>\n",
       "      <td>16.228467</td>\n",
       "    </tr>\n",
       "    <tr>\n",
       "      <th>1</th>\n",
       "      <td>wt_vpod_1.2_LG_F_R7.treefile</td>\n",
       "      <td>leave_out</td>\n",
       "      <td>5</td>\n",
       "      <td>xgb</td>\n",
       "      <td>1</td>\n",
       "      <td>0.903778</td>\n",
       "      <td>10.068680</td>\n",
       "      <td>0.021886</td>\n",
       "      <td>326.308734</td>\n",
       "      <td>17.106636</td>\n",
       "    </tr>\n",
       "    <tr>\n",
       "      <th>2</th>\n",
       "      <td>wt_vpod_1.2_LG_F_R7.treefile</td>\n",
       "      <td>leave_out</td>\n",
       "      <td>5</td>\n",
       "      <td>BayesianRidge</td>\n",
       "      <td>1</td>\n",
       "      <td>0.899020</td>\n",
       "      <td>10.893822</td>\n",
       "      <td>0.024053</td>\n",
       "      <td>342.546888</td>\n",
       "      <td>17.386153</td>\n",
       "    </tr>\n",
       "    <tr>\n",
       "      <th>3</th>\n",
       "      <td>wt_vpod_1.2_LG_F_R7.treefile</td>\n",
       "      <td>leave_out</td>\n",
       "      <td>5</td>\n",
       "      <td>rf</td>\n",
       "      <td>1</td>\n",
       "      <td>0.895095</td>\n",
       "      <td>10.326363</td>\n",
       "      <td>0.022821</td>\n",
       "      <td>347.028600</td>\n",
       "      <td>18.057821</td>\n",
       "    </tr>\n",
       "    <tr>\n",
       "      <th>4</th>\n",
       "      <td>wt_vpod_1.2_LG_F_R7.treefile</td>\n",
       "      <td>leave_out</td>\n",
       "      <td>5</td>\n",
       "      <td>lgbm</td>\n",
       "      <td>1</td>\n",
       "      <td>0.894059</td>\n",
       "      <td>10.881975</td>\n",
       "      <td>0.023940</td>\n",
       "      <td>353.433643</td>\n",
       "      <td>18.122829</td>\n",
       "    </tr>\n",
       "  </tbody>\n",
       "</table>\n",
       "</div>"
      ],
      "text/plain": [
       "                           Tree Relation_Handling  N_Folds          Model  \\\n",
       "0  wt_vpod_1.2_LG_F_R7.treefile         leave_out        5            gbr   \n",
       "1  wt_vpod_1.2_LG_F_R7.treefile         leave_out        5            xgb   \n",
       "2  wt_vpod_1.2_LG_F_R7.treefile         leave_out        5  BayesianRidge   \n",
       "3  wt_vpod_1.2_LG_F_R7.treefile         leave_out        5             rf   \n",
       "4  wt_vpod_1.2_LG_F_R7.treefile         leave_out        5           lgbm   \n",
       "\n",
       "   Threshold        R2        MAE      MAPE         MSE       RMSE  \n",
       "0          1  0.918240  10.021068  0.021794  269.741766  16.228467  \n",
       "1          1  0.903778  10.068680  0.021886  326.308734  17.106636  \n",
       "2          1  0.899020  10.893822  0.024053  342.546888  17.386153  \n",
       "3          1  0.895095  10.326363  0.022821  347.028600  18.057821  \n",
       "4          1  0.894059  10.881975  0.023940  353.433643  18.122829  "
      ]
     },
     "execution_count": 14,
     "metadata": {},
     "output_type": "execute_result"
    }
   ],
   "source": [
    "wt_pre_gs_results_df = pd.read_csv(f\"{report_dir}/one_hot_encoded/pre_grid_search/wt_vpod_1.2_LG_F_R7_phylo_cv_2024-08-21_18-35-49/wt_vpod_1.2_one_hot_LG_F_R7_phylo_cv_results.csv\")\n",
    "wt_pre_gs_results_df.head()"
   ]
  },
  {
   "cell_type": "code",
   "execution_count": 34,
   "metadata": {},
   "outputs": [
    {
     "name": "stdout",
     "output_type": "stream",
     "text": [
      "WT Model, One-Hot Encoded, Non-GS-Optimized\n",
      "\n",
      "1% Threhsold, R2=0.9006365376666667, MAE=9.802330214666666\n",
      "5% Threhsold, R2=0.8840247130000001, MAE=11.143396365666666\n",
      "11% Threhsold, R2=0.8438000518333333, MAE=13.643581785\n",
      "21% Threhsold, R2=0.8201844411666667, MAE=15.941244528333334\n"
     ]
    }
   ],
   "source": [
    "model_filtered_df = wt_pre_gs_results_df[wt_pre_gs_results_df['Relation_Handling']=='leave_out']\n",
    "model_filtered_df = model_filtered_df[model_filtered_df['Model']=='xgb']\n",
    "\n",
    "print(f'WT Model, One-Hot Encoded, Non-GS-Optimized\\n') \n",
    "for percentile in percentile_list:\n",
    "    filtered_df = model_filtered_df[model_filtered_df['Threshold']==percentile]\n",
    "    mean_r2 = mean(filtered_df['R2'])\n",
    "    mean_mae = mean(filtered_df['MAE'])\n",
    "    print(f'{percentile}% Threhsold, R2={mean_r2}, MAE={mean_mae}')\n"
   ]
  },
  {
   "cell_type": "code",
   "execution_count": 23,
   "metadata": {},
   "outputs": [
    {
     "data": {
      "application/vnd.microsoft.datawrangler.viewer.v0+json": {
       "columns": [
        {
         "name": "index",
         "rawType": "int64",
         "type": "integer"
        },
        {
         "name": "Tree",
         "rawType": "object",
         "type": "string"
        },
        {
         "name": "Relation_Handling",
         "rawType": "object",
         "type": "string"
        },
        {
         "name": "N_Folds",
         "rawType": "int64",
         "type": "integer"
        },
        {
         "name": "Model",
         "rawType": "object",
         "type": "string"
        },
        {
         "name": "Threshold",
         "rawType": "int64",
         "type": "integer"
        },
        {
         "name": "R2",
         "rawType": "float64",
         "type": "float"
        },
        {
         "name": "MAE",
         "rawType": "float64",
         "type": "float"
        },
        {
         "name": "MAPE",
         "rawType": "float64",
         "type": "float"
        },
        {
         "name": "MSE",
         "rawType": "float64",
         "type": "float"
        },
        {
         "name": "RMSE",
         "rawType": "float64",
         "type": "float"
        }
       ],
       "conversionMethod": "pd.DataFrame",
       "ref": "27c27ecf-f080-4add-87ba-2aea90c72769",
       "rows": [
        [
         "0",
         "wt_vpod_1.2_LG_F_R7.treefile",
         "leave_out",
         "5",
         "xgb",
         "1",
         "0.9205706619338844",
         "9.505892116989887",
         "0.0207304439747566",
         "262.44662908681426",
         "15.93004318762801"
        ],
        [
         "1",
         "wt_vpod_1.2_LG_F_R7.treefile",
         "leave_out",
         "5",
         "rf",
         "1",
         "0.9076258653271786",
         "9.703586085383282",
         "0.0216212605717719",
         "313.7036191735723",
         "16.67384471001762"
        ],
        [
         "2",
         "wt_vpod_1.2_LG_F_R7.treefile",
         "leave_out",
         "5",
         "gbr",
         "1",
         "0.9069314440645592",
         "9.567888868684246",
         "0.0210996214684392",
         "315.90377940044107",
         "16.742992864636008"
        ],
        [
         "3",
         "wt_vpod_1.2_LG_F_R7.treefile",
         "leave_out",
         "5",
         "BayesianRidge",
         "1",
         "0.8989495351221601",
         "10.857941305858358",
         "0.0239784148632178",
         "342.9247681928858",
         "17.386165487717687"
        ],
        [
         "4",
         "wt_vpod_1.2_LG_F_R7.treefile",
         "leave_out",
         "5",
         "xgb",
         "3",
         "0.915282496210568",
         "9.924603348301885",
         "0.0216070935834909",
         "275.0605838923914",
         "15.77987608654604"
        ]
       ],
       "shape": {
        "columns": 10,
        "rows": 5
       }
      },
      "text/html": [
       "<div>\n",
       "<style scoped>\n",
       "    .dataframe tbody tr th:only-of-type {\n",
       "        vertical-align: middle;\n",
       "    }\n",
       "\n",
       "    .dataframe tbody tr th {\n",
       "        vertical-align: top;\n",
       "    }\n",
       "\n",
       "    .dataframe thead th {\n",
       "        text-align: right;\n",
       "    }\n",
       "</style>\n",
       "<table border=\"1\" class=\"dataframe\">\n",
       "  <thead>\n",
       "    <tr style=\"text-align: right;\">\n",
       "      <th></th>\n",
       "      <th>Tree</th>\n",
       "      <th>Relation_Handling</th>\n",
       "      <th>N_Folds</th>\n",
       "      <th>Model</th>\n",
       "      <th>Threshold</th>\n",
       "      <th>R2</th>\n",
       "      <th>MAE</th>\n",
       "      <th>MAPE</th>\n",
       "      <th>MSE</th>\n",
       "      <th>RMSE</th>\n",
       "    </tr>\n",
       "  </thead>\n",
       "  <tbody>\n",
       "    <tr>\n",
       "      <th>0</th>\n",
       "      <td>wt_vpod_1.2_LG_F_R7.treefile</td>\n",
       "      <td>leave_out</td>\n",
       "      <td>5</td>\n",
       "      <td>xgb</td>\n",
       "      <td>1</td>\n",
       "      <td>0.920571</td>\n",
       "      <td>9.505892</td>\n",
       "      <td>0.020730</td>\n",
       "      <td>262.446629</td>\n",
       "      <td>15.930043</td>\n",
       "    </tr>\n",
       "    <tr>\n",
       "      <th>1</th>\n",
       "      <td>wt_vpod_1.2_LG_F_R7.treefile</td>\n",
       "      <td>leave_out</td>\n",
       "      <td>5</td>\n",
       "      <td>rf</td>\n",
       "      <td>1</td>\n",
       "      <td>0.907626</td>\n",
       "      <td>9.703586</td>\n",
       "      <td>0.021621</td>\n",
       "      <td>313.703619</td>\n",
       "      <td>16.673845</td>\n",
       "    </tr>\n",
       "    <tr>\n",
       "      <th>2</th>\n",
       "      <td>wt_vpod_1.2_LG_F_R7.treefile</td>\n",
       "      <td>leave_out</td>\n",
       "      <td>5</td>\n",
       "      <td>gbr</td>\n",
       "      <td>1</td>\n",
       "      <td>0.906931</td>\n",
       "      <td>9.567889</td>\n",
       "      <td>0.021100</td>\n",
       "      <td>315.903779</td>\n",
       "      <td>16.742993</td>\n",
       "    </tr>\n",
       "    <tr>\n",
       "      <th>3</th>\n",
       "      <td>wt_vpod_1.2_LG_F_R7.treefile</td>\n",
       "      <td>leave_out</td>\n",
       "      <td>5</td>\n",
       "      <td>BayesianRidge</td>\n",
       "      <td>1</td>\n",
       "      <td>0.898950</td>\n",
       "      <td>10.857941</td>\n",
       "      <td>0.023978</td>\n",
       "      <td>342.924768</td>\n",
       "      <td>17.386165</td>\n",
       "    </tr>\n",
       "    <tr>\n",
       "      <th>4</th>\n",
       "      <td>wt_vpod_1.2_LG_F_R7.treefile</td>\n",
       "      <td>leave_out</td>\n",
       "      <td>5</td>\n",
       "      <td>xgb</td>\n",
       "      <td>3</td>\n",
       "      <td>0.915282</td>\n",
       "      <td>9.924603</td>\n",
       "      <td>0.021607</td>\n",
       "      <td>275.060584</td>\n",
       "      <td>15.779876</td>\n",
       "    </tr>\n",
       "  </tbody>\n",
       "</table>\n",
       "</div>"
      ],
      "text/plain": [
       "                           Tree Relation_Handling  N_Folds          Model  \\\n",
       "0  wt_vpod_1.2_LG_F_R7.treefile         leave_out        5            xgb   \n",
       "1  wt_vpod_1.2_LG_F_R7.treefile         leave_out        5             rf   \n",
       "2  wt_vpod_1.2_LG_F_R7.treefile         leave_out        5            gbr   \n",
       "3  wt_vpod_1.2_LG_F_R7.treefile         leave_out        5  BayesianRidge   \n",
       "4  wt_vpod_1.2_LG_F_R7.treefile         leave_out        5            xgb   \n",
       "\n",
       "   Threshold        R2        MAE      MAPE         MSE       RMSE  \n",
       "0          1  0.920571   9.505892  0.020730  262.446629  15.930043  \n",
       "1          1  0.907626   9.703586  0.021621  313.703619  16.673845  \n",
       "2          1  0.906931   9.567889  0.021100  315.903779  16.742993  \n",
       "3          1  0.898950  10.857941  0.023978  342.924768  17.386165  \n",
       "4          3  0.915282   9.924603  0.021607  275.060584  15.779876  "
      ]
     },
     "execution_count": 23,
     "metadata": {},
     "output_type": "execute_result"
    }
   ],
   "source": [
    "# Load the results file\n",
    "wt_post_gs_results_df = pd.read_csv(f\"{report_dir}/one_hot_encoded/post_grid_search/wt_vpod_1.2_LG_F_R7_phylo_cv_2025-03-19_20-11-06/wt_vpod_1.2_one_hot_gs_LG_F_R7_phylo_cv_results.csv\")\n",
    "wt_post_gs_results_df.head()"
   ]
  },
  {
   "cell_type": "code",
   "execution_count": 33,
   "metadata": {},
   "outputs": [
    {
     "name": "stdout",
     "output_type": "stream",
     "text": [
      "WT Model, One-Hot Encoded, GS-Optimized\n",
      "\n",
      "1% Threhsold, R2=0.9141034577630418, MAE=9.513150505229182\n",
      "5% Threhsold, R2=0.8979094859686924, MAE=10.8418124794323\n",
      "11% Threhsold, R2=0.8635142054718482, MAE=12.992391448807181\n",
      "21% Threhsold, R2=0.8437522863922557, MAE=14.883036380184087\n"
     ]
    }
   ],
   "source": [
    "model_filtered_df = wt_post_gs_results_df[wt_post_gs_results_df['Relation_Handling']=='leave_out']\n",
    "model_filtered_df = model_filtered_df[model_filtered_df['Model']=='xgb']\n",
    "\n",
    "print(f'WT Model, One-Hot Encoded, GS-Optimized\\n') \n",
    "for percentile in percentile_list:\n",
    "    filtered_df = model_filtered_df[model_filtered_df['Threshold']==percentile]\n",
    "    mean_r2 = mean(filtered_df['R2'])\n",
    "    mean_mae = mean(filtered_df['MAE'])\n",
    "    print(f'{percentile}% Threhsold, R2={mean_r2}, MAE={mean_mae}')"
   ]
  },
  {
   "cell_type": "code",
   "execution_count": 25,
   "metadata": {},
   "outputs": [
    {
     "data": {
      "application/vnd.microsoft.datawrangler.viewer.v0+json": {
       "columns": [
        {
         "name": "index",
         "rawType": "int64",
         "type": "integer"
        },
        {
         "name": "Tree",
         "rawType": "object",
         "type": "string"
        },
        {
         "name": "Relation_Handling",
         "rawType": "object",
         "type": "string"
        },
        {
         "name": "N_Folds",
         "rawType": "int64",
         "type": "integer"
        },
        {
         "name": "Model",
         "rawType": "object",
         "type": "string"
        },
        {
         "name": "Threshold",
         "rawType": "int64",
         "type": "integer"
        },
        {
         "name": "R2",
         "rawType": "float64",
         "type": "float"
        },
        {
         "name": "MAE",
         "rawType": "float64",
         "type": "float"
        },
        {
         "name": "MAPE",
         "rawType": "float64",
         "type": "float"
        },
        {
         "name": "MSE",
         "rawType": "float64",
         "type": "float"
        },
        {
         "name": "RMSE",
         "rawType": "float64",
         "type": "float"
        }
       ],
       "conversionMethod": "pd.DataFrame",
       "ref": "731eaadf-d632-4b78-b6b0-111a373820ff",
       "rows": [
        [
         "0",
         "wt_vpod_1.2_LG_F_R7.treefile",
         "leave_out",
         "5",
         "et",
         "1",
         "0.8928313753634379",
         "9.77459185870974",
         "0.0214273517015118",
         "365.0980785313801",
         "18.008016898586156"
        ],
        [
         "1",
         "wt_vpod_1.2_LG_F_R7.treefile",
         "leave_out",
         "5",
         "xgb",
         "1",
         "0.8877970687714185",
         "9.96572415339083",
         "0.0221735881059151",
         "373.8359353437123",
         "18.80838858859344"
        ],
        [
         "2",
         "wt_vpod_1.2_LG_F_R7.treefile",
         "leave_out",
         "5",
         "Adaboost",
         "1",
         "0.8867410239785706",
         "12.568078204026772",
         "0.0274507295172622",
         "383.6540925973863",
         "18.649518915783982"
        ],
        [
         "3",
         "wt_vpod_1.2_LG_F_R7.treefile",
         "leave_out",
         "5",
         "lgbm",
         "1",
         "0.884570675665087",
         "10.329159704338275",
         "0.0231164062101088",
         "391.39039960243616",
         "18.529036222390925"
        ],
        [
         "4",
         "wt_vpod_1.2_LG_F_R7.treefile",
         "leave_out",
         "5",
         "gbr",
         "1",
         "0.8795781942792976",
         "10.495119558434652",
         "0.0229787994779437",
         "405.28169209260057",
         "19.174376133716244"
        ]
       ],
       "shape": {
        "columns": 10,
        "rows": 5
       }
      },
      "text/html": [
       "<div>\n",
       "<style scoped>\n",
       "    .dataframe tbody tr th:only-of-type {\n",
       "        vertical-align: middle;\n",
       "    }\n",
       "\n",
       "    .dataframe tbody tr th {\n",
       "        vertical-align: top;\n",
       "    }\n",
       "\n",
       "    .dataframe thead th {\n",
       "        text-align: right;\n",
       "    }\n",
       "</style>\n",
       "<table border=\"1\" class=\"dataframe\">\n",
       "  <thead>\n",
       "    <tr style=\"text-align: right;\">\n",
       "      <th></th>\n",
       "      <th>Tree</th>\n",
       "      <th>Relation_Handling</th>\n",
       "      <th>N_Folds</th>\n",
       "      <th>Model</th>\n",
       "      <th>Threshold</th>\n",
       "      <th>R2</th>\n",
       "      <th>MAE</th>\n",
       "      <th>MAPE</th>\n",
       "      <th>MSE</th>\n",
       "      <th>RMSE</th>\n",
       "    </tr>\n",
       "  </thead>\n",
       "  <tbody>\n",
       "    <tr>\n",
       "      <th>0</th>\n",
       "      <td>wt_vpod_1.2_LG_F_R7.treefile</td>\n",
       "      <td>leave_out</td>\n",
       "      <td>5</td>\n",
       "      <td>et</td>\n",
       "      <td>1</td>\n",
       "      <td>0.892831</td>\n",
       "      <td>9.774592</td>\n",
       "      <td>0.021427</td>\n",
       "      <td>365.098079</td>\n",
       "      <td>18.008017</td>\n",
       "    </tr>\n",
       "    <tr>\n",
       "      <th>1</th>\n",
       "      <td>wt_vpod_1.2_LG_F_R7.treefile</td>\n",
       "      <td>leave_out</td>\n",
       "      <td>5</td>\n",
       "      <td>xgb</td>\n",
       "      <td>1</td>\n",
       "      <td>0.887797</td>\n",
       "      <td>9.965724</td>\n",
       "      <td>0.022174</td>\n",
       "      <td>373.835935</td>\n",
       "      <td>18.808389</td>\n",
       "    </tr>\n",
       "    <tr>\n",
       "      <th>2</th>\n",
       "      <td>wt_vpod_1.2_LG_F_R7.treefile</td>\n",
       "      <td>leave_out</td>\n",
       "      <td>5</td>\n",
       "      <td>Adaboost</td>\n",
       "      <td>1</td>\n",
       "      <td>0.886741</td>\n",
       "      <td>12.568078</td>\n",
       "      <td>0.027451</td>\n",
       "      <td>383.654093</td>\n",
       "      <td>18.649519</td>\n",
       "    </tr>\n",
       "    <tr>\n",
       "      <th>3</th>\n",
       "      <td>wt_vpod_1.2_LG_F_R7.treefile</td>\n",
       "      <td>leave_out</td>\n",
       "      <td>5</td>\n",
       "      <td>lgbm</td>\n",
       "      <td>1</td>\n",
       "      <td>0.884571</td>\n",
       "      <td>10.329160</td>\n",
       "      <td>0.023116</td>\n",
       "      <td>391.390400</td>\n",
       "      <td>18.529036</td>\n",
       "    </tr>\n",
       "    <tr>\n",
       "      <th>4</th>\n",
       "      <td>wt_vpod_1.2_LG_F_R7.treefile</td>\n",
       "      <td>leave_out</td>\n",
       "      <td>5</td>\n",
       "      <td>gbr</td>\n",
       "      <td>1</td>\n",
       "      <td>0.879578</td>\n",
       "      <td>10.495120</td>\n",
       "      <td>0.022979</td>\n",
       "      <td>405.281692</td>\n",
       "      <td>19.174376</td>\n",
       "    </tr>\n",
       "  </tbody>\n",
       "</table>\n",
       "</div>"
      ],
      "text/plain": [
       "                           Tree Relation_Handling  N_Folds     Model  \\\n",
       "0  wt_vpod_1.2_LG_F_R7.treefile         leave_out        5        et   \n",
       "1  wt_vpod_1.2_LG_F_R7.treefile         leave_out        5       xgb   \n",
       "2  wt_vpod_1.2_LG_F_R7.treefile         leave_out        5  Adaboost   \n",
       "3  wt_vpod_1.2_LG_F_R7.treefile         leave_out        5      lgbm   \n",
       "4  wt_vpod_1.2_LG_F_R7.treefile         leave_out        5       gbr   \n",
       "\n",
       "   Threshold        R2        MAE      MAPE         MSE       RMSE  \n",
       "0          1  0.892831   9.774592  0.021427  365.098079  18.008017  \n",
       "1          1  0.887797   9.965724  0.022174  373.835935  18.808389  \n",
       "2          1  0.886741  12.568078  0.027451  383.654093  18.649519  \n",
       "3          1  0.884571  10.329160  0.023116  391.390400  18.529036  \n",
       "4          1  0.879578  10.495120  0.022979  405.281692  19.174376  "
      ]
     },
     "execution_count": 25,
     "metadata": {},
     "output_type": "execute_result"
    }
   ],
   "source": [
    "# Load the results file\n",
    "wt_aap_pre_gs_results_df = pd.read_csv(f\"{report_dir}/aa_prop_encoded/pre_grid_search/wt_vpod_1.2_LG_F_R7_phylo_cv_2025-05-06_13-46-51/wt_vpod_1.2_LG_F_R7_phylo_cv_results.csv\") # Replace with your actual file name\n",
    "wt_aap_pre_gs_results_df.head()"
   ]
  },
  {
   "cell_type": "code",
   "execution_count": 32,
   "metadata": {},
   "outputs": [
    {
     "name": "stdout",
     "output_type": "stream",
     "text": [
      "WT Model, AA-Prop Encoded, Non-GS-Optimized\n",
      "\n",
      "1% Threhsold, R2=0.8789360914588686, MAE=10.637807824609778\n",
      "5% Threhsold, R2=0.871048369244888, MAE=11.707238627441045\n",
      "11% Threhsold, R2=0.8597078183706047, MAE=13.647243809681408\n",
      "21% Threhsold, R2=0.8133144521373996, MAE=15.976435904563832\n"
     ]
    }
   ],
   "source": [
    "model_filtered_df = wt_aap_pre_gs_results_df[wt_aap_pre_gs_results_df['Relation_Handling']=='leave_out']\n",
    "model_filtered_df = model_filtered_df[model_filtered_df['Model']=='gbr']\n",
    "\n",
    "print(f'WT Model, AA-Prop Encoded, Non-GS-Optimized\\n') \n",
    "for percentile in percentile_list:\n",
    "    filtered_df = model_filtered_df[model_filtered_df['Threshold']==percentile]\n",
    "    mean_r2 = mean(filtered_df['R2'])\n",
    "    mean_mae = mean(filtered_df['MAE'])\n",
    "    print(f'{percentile}% Threhsold, R2={mean_r2}, MAE={mean_mae}')"
   ]
  },
  {
   "cell_type": "code",
   "execution_count": 27,
   "metadata": {},
   "outputs": [
    {
     "data": {
      "application/vnd.microsoft.datawrangler.viewer.v0+json": {
       "columns": [
        {
         "name": "index",
         "rawType": "int64",
         "type": "integer"
        },
        {
         "name": "Tree",
         "rawType": "object",
         "type": "string"
        },
        {
         "name": "Relation_Handling",
         "rawType": "object",
         "type": "string"
        },
        {
         "name": "N_Folds",
         "rawType": "int64",
         "type": "integer"
        },
        {
         "name": "Model",
         "rawType": "object",
         "type": "string"
        },
        {
         "name": "Threshold",
         "rawType": "int64",
         "type": "integer"
        },
        {
         "name": "R2",
         "rawType": "float64",
         "type": "float"
        },
        {
         "name": "MAE",
         "rawType": "float64",
         "type": "float"
        },
        {
         "name": "MAPE",
         "rawType": "float64",
         "type": "float"
        },
        {
         "name": "MSE",
         "rawType": "float64",
         "type": "float"
        },
        {
         "name": "RMSE",
         "rawType": "float64",
         "type": "float"
        }
       ],
       "conversionMethod": "pd.DataFrame",
       "ref": "1e931de3-5a2d-462b-b930-421000ae539b",
       "rows": [
        [
         "0",
         "wt_vpod_1.2_LG_F_R7.treefile",
         "leave_out",
         "5",
         "gbr",
         "1",
         "0.9241456719097704",
         "8.873132129025517",
         "0.0194437839842185",
         "254.06798153470092",
         "15.65428353014435"
        ],
        [
         "1",
         "wt_vpod_1.2_LG_F_R7.treefile",
         "leave_out",
         "5",
         "gbr",
         "3",
         "0.9147194713724784",
         "9.707945056502504",
         "0.0212969400055262",
         "281.1071108517364",
         "15.86234419252948"
        ],
        [
         "2",
         "wt_vpod_1.2_LG_F_R7.treefile",
         "leave_out",
         "5",
         "gbr",
         "5",
         "0.9075853211916468",
         "10.814115038858214",
         "0.0239526893129535",
         "315.6860463720629",
         "16.875367631440092"
        ],
        [
         "3",
         "wt_vpod_1.2_LG_F_R7.treefile",
         "leave_out",
         "5",
         "gbr",
         "7",
         "0.8865101220812599",
         "11.51403110054596",
         "0.0258750991813379",
         "395.6382122476227",
         "18.80344731770658"
        ],
        [
         "4",
         "wt_vpod_1.2_LG_F_R7.treefile",
         "leave_out",
         "5",
         "gbr",
         "9",
         "0.8693718730660764",
         "12.388917267263768",
         "0.0276990372960498",
         "447.2168159195959",
         "19.97872781014028"
        ]
       ],
       "shape": {
        "columns": 10,
        "rows": 5
       }
      },
      "text/html": [
       "<div>\n",
       "<style scoped>\n",
       "    .dataframe tbody tr th:only-of-type {\n",
       "        vertical-align: middle;\n",
       "    }\n",
       "\n",
       "    .dataframe tbody tr th {\n",
       "        vertical-align: top;\n",
       "    }\n",
       "\n",
       "    .dataframe thead th {\n",
       "        text-align: right;\n",
       "    }\n",
       "</style>\n",
       "<table border=\"1\" class=\"dataframe\">\n",
       "  <thead>\n",
       "    <tr style=\"text-align: right;\">\n",
       "      <th></th>\n",
       "      <th>Tree</th>\n",
       "      <th>Relation_Handling</th>\n",
       "      <th>N_Folds</th>\n",
       "      <th>Model</th>\n",
       "      <th>Threshold</th>\n",
       "      <th>R2</th>\n",
       "      <th>MAE</th>\n",
       "      <th>MAPE</th>\n",
       "      <th>MSE</th>\n",
       "      <th>RMSE</th>\n",
       "    </tr>\n",
       "  </thead>\n",
       "  <tbody>\n",
       "    <tr>\n",
       "      <th>0</th>\n",
       "      <td>wt_vpod_1.2_LG_F_R7.treefile</td>\n",
       "      <td>leave_out</td>\n",
       "      <td>5</td>\n",
       "      <td>gbr</td>\n",
       "      <td>1</td>\n",
       "      <td>0.924146</td>\n",
       "      <td>8.873132</td>\n",
       "      <td>0.019444</td>\n",
       "      <td>254.067982</td>\n",
       "      <td>15.654284</td>\n",
       "    </tr>\n",
       "    <tr>\n",
       "      <th>1</th>\n",
       "      <td>wt_vpod_1.2_LG_F_R7.treefile</td>\n",
       "      <td>leave_out</td>\n",
       "      <td>5</td>\n",
       "      <td>gbr</td>\n",
       "      <td>3</td>\n",
       "      <td>0.914719</td>\n",
       "      <td>9.707945</td>\n",
       "      <td>0.021297</td>\n",
       "      <td>281.107111</td>\n",
       "      <td>15.862344</td>\n",
       "    </tr>\n",
       "    <tr>\n",
       "      <th>2</th>\n",
       "      <td>wt_vpod_1.2_LG_F_R7.treefile</td>\n",
       "      <td>leave_out</td>\n",
       "      <td>5</td>\n",
       "      <td>gbr</td>\n",
       "      <td>5</td>\n",
       "      <td>0.907585</td>\n",
       "      <td>10.814115</td>\n",
       "      <td>0.023953</td>\n",
       "      <td>315.686046</td>\n",
       "      <td>16.875368</td>\n",
       "    </tr>\n",
       "    <tr>\n",
       "      <th>3</th>\n",
       "      <td>wt_vpod_1.2_LG_F_R7.treefile</td>\n",
       "      <td>leave_out</td>\n",
       "      <td>5</td>\n",
       "      <td>gbr</td>\n",
       "      <td>7</td>\n",
       "      <td>0.886510</td>\n",
       "      <td>11.514031</td>\n",
       "      <td>0.025875</td>\n",
       "      <td>395.638212</td>\n",
       "      <td>18.803447</td>\n",
       "    </tr>\n",
       "    <tr>\n",
       "      <th>4</th>\n",
       "      <td>wt_vpod_1.2_LG_F_R7.treefile</td>\n",
       "      <td>leave_out</td>\n",
       "      <td>5</td>\n",
       "      <td>gbr</td>\n",
       "      <td>9</td>\n",
       "      <td>0.869372</td>\n",
       "      <td>12.388917</td>\n",
       "      <td>0.027699</td>\n",
       "      <td>447.216816</td>\n",
       "      <td>19.978728</td>\n",
       "    </tr>\n",
       "  </tbody>\n",
       "</table>\n",
       "</div>"
      ],
      "text/plain": [
       "                           Tree Relation_Handling  N_Folds Model  Threshold  \\\n",
       "0  wt_vpod_1.2_LG_F_R7.treefile         leave_out        5   gbr          1   \n",
       "1  wt_vpod_1.2_LG_F_R7.treefile         leave_out        5   gbr          3   \n",
       "2  wt_vpod_1.2_LG_F_R7.treefile         leave_out        5   gbr          5   \n",
       "3  wt_vpod_1.2_LG_F_R7.treefile         leave_out        5   gbr          7   \n",
       "4  wt_vpod_1.2_LG_F_R7.treefile         leave_out        5   gbr          9   \n",
       "\n",
       "         R2        MAE      MAPE         MSE       RMSE  \n",
       "0  0.924146   8.873132  0.019444  254.067982  15.654284  \n",
       "1  0.914719   9.707945  0.021297  281.107111  15.862344  \n",
       "2  0.907585  10.814115  0.023953  315.686046  16.875368  \n",
       "3  0.886510  11.514031  0.025875  395.638212  18.803447  \n",
       "4  0.869372  12.388917  0.027699  447.216816  19.978728  "
      ]
     },
     "execution_count": 27,
     "metadata": {},
     "output_type": "execute_result"
    }
   ],
   "source": [
    "# Load the results file\n",
    "wt_aap_post_gs_results_df = pd.read_csv(f\"{report_dir}/aa_prop_encoded/post_grid_search/wt_vpod_1.2_LG_F_R7_phylo_cv_2025-05-06_22-19-08/wt_vpod_1.2_LG_F_R7_phylo_cv_results.csv\") # Replace with your actual file name\n",
    "wt_aap_post_gs_results_df.head()"
   ]
  },
  {
   "cell_type": "code",
   "execution_count": 31,
   "metadata": {},
   "outputs": [
    {
     "name": "stdout",
     "output_type": "stream",
     "text": [
      "WT Model, AA-Prop Encoded, GS-Optimized\n",
      "\n",
      "1% Threhsold, R2=0.9197308798651321, MAE=8.875176152500888\n",
      "5% Threhsold, R2=0.9047644932856703, MAE=10.201154952329905\n",
      "11% Threhsold, R2=0.8878775117584201, MAE=12.001579639807193\n",
      "21% Threhsold, R2=0.8611399653753135, MAE=13.522454059839724\n"
     ]
    }
   ],
   "source": [
    "model_filtered_df = wt_aap_post_gs_results_df[wt_aap_post_gs_results_df['Relation_Handling']=='leave_out']\n",
    "model_filtered_df = model_filtered_df[model_filtered_df['Model']=='gbr']\n",
    "\n",
    "print(f'WT Model, AA-Prop Encoded, GS-Optimized\\n') \n",
    "for percentile in percentile_list:\n",
    "    filtered_df = model_filtered_df[model_filtered_df['Threshold']==percentile]\n",
    "    mean_r2 = mean(filtered_df['R2'])\n",
    "    mean_mae = mean(filtered_df['MAE'])\n",
    "    print(f'{percentile}% Threhsold, R2={mean_r2}, MAE={mean_mae}')"
   ]
  },
  {
   "cell_type": "markdown",
   "metadata": {},
   "source": [
    "MNM Analysis"
   ]
  },
  {
   "cell_type": "code",
   "execution_count": 35,
   "metadata": {},
   "outputs": [
    {
     "data": {
      "application/vnd.microsoft.datawrangler.viewer.v0+json": {
       "columns": [
        {
         "name": "index",
         "rawType": "int64",
         "type": "integer"
        },
        {
         "name": "Tree",
         "rawType": "object",
         "type": "string"
        },
        {
         "name": "Relation_Handling",
         "rawType": "object",
         "type": "string"
        },
        {
         "name": "N_Folds",
         "rawType": "int64",
         "type": "integer"
        },
        {
         "name": "Model",
         "rawType": "object",
         "type": "string"
        },
        {
         "name": "Threshold",
         "rawType": "int64",
         "type": "integer"
        },
        {
         "name": "R2",
         "rawType": "float64",
         "type": "float"
        },
        {
         "name": "MAE",
         "rawType": "float64",
         "type": "float"
        },
        {
         "name": "MAPE",
         "rawType": "float64",
         "type": "float"
        },
        {
         "name": "MSE",
         "rawType": "float64",
         "type": "float"
        },
        {
         "name": "RMSE",
         "rawType": "float64",
         "type": "float"
        }
       ],
       "conversionMethod": "pd.DataFrame",
       "ref": "51b14154-3751-4bfa-b921-ae0f96c93446",
       "rows": [
        [
         "0",
         "wt_mnm_aligned_VPOD_1.2_het.fasta.treefile",
         "leave_out",
         "5",
         "gbr",
         "1",
         "0.9454464331655228",
         "8.609217632367615",
         "0.0182724614070877",
         "177.20456627089172",
         "13.206212778764913"
        ],
        [
         "1",
         "wt_mnm_aligned_VPOD_1.2_het.fasta.treefile",
         "leave_out",
         "5",
         "rf",
         "1",
         "0.9352314507296174",
         "8.43541670203993",
         "0.0179993456279833",
         "208.11713125104225",
         "14.184023002951731"
        ],
        [
         "2",
         "wt_mnm_aligned_VPOD_1.2_het.fasta.treefile",
         "leave_out",
         "5",
         "xgb",
         "1",
         "0.9311215521089492",
         "8.40909792487167",
         "0.0179083397022328",
         "219.98961706417737",
         "14.66638294864016"
        ],
        [
         "3",
         "wt_mnm_aligned_VPOD_1.2_het.fasta.treefile",
         "leave_out",
         "5",
         "gbr",
         "3",
         "0.9374868423198855",
         "9.515989746975135",
         "0.0204123170042006",
         "201.7539464275797",
         "13.962397360215856"
        ],
        [
         "4",
         "wt_mnm_aligned_VPOD_1.2_het.fasta.treefile",
         "leave_out",
         "5",
         "rf",
         "3",
         "0.9284591033902514",
         "9.58431756108225",
         "0.0208109384950929",
         "231.9386270486648",
         "14.646291050713591"
        ]
       ],
       "shape": {
        "columns": 10,
        "rows": 5
       }
      },
      "text/html": [
       "<div>\n",
       "<style scoped>\n",
       "    .dataframe tbody tr th:only-of-type {\n",
       "        vertical-align: middle;\n",
       "    }\n",
       "\n",
       "    .dataframe tbody tr th {\n",
       "        vertical-align: top;\n",
       "    }\n",
       "\n",
       "    .dataframe thead th {\n",
       "        text-align: right;\n",
       "    }\n",
       "</style>\n",
       "<table border=\"1\" class=\"dataframe\">\n",
       "  <thead>\n",
       "    <tr style=\"text-align: right;\">\n",
       "      <th></th>\n",
       "      <th>Tree</th>\n",
       "      <th>Relation_Handling</th>\n",
       "      <th>N_Folds</th>\n",
       "      <th>Model</th>\n",
       "      <th>Threshold</th>\n",
       "      <th>R2</th>\n",
       "      <th>MAE</th>\n",
       "      <th>MAPE</th>\n",
       "      <th>MSE</th>\n",
       "      <th>RMSE</th>\n",
       "    </tr>\n",
       "  </thead>\n",
       "  <tbody>\n",
       "    <tr>\n",
       "      <th>0</th>\n",
       "      <td>wt_mnm_aligned_VPOD_1.2_het.fasta.treefile</td>\n",
       "      <td>leave_out</td>\n",
       "      <td>5</td>\n",
       "      <td>gbr</td>\n",
       "      <td>1</td>\n",
       "      <td>0.945446</td>\n",
       "      <td>8.609218</td>\n",
       "      <td>0.018272</td>\n",
       "      <td>177.204566</td>\n",
       "      <td>13.206213</td>\n",
       "    </tr>\n",
       "    <tr>\n",
       "      <th>1</th>\n",
       "      <td>wt_mnm_aligned_VPOD_1.2_het.fasta.treefile</td>\n",
       "      <td>leave_out</td>\n",
       "      <td>5</td>\n",
       "      <td>rf</td>\n",
       "      <td>1</td>\n",
       "      <td>0.935231</td>\n",
       "      <td>8.435417</td>\n",
       "      <td>0.017999</td>\n",
       "      <td>208.117131</td>\n",
       "      <td>14.184023</td>\n",
       "    </tr>\n",
       "    <tr>\n",
       "      <th>2</th>\n",
       "      <td>wt_mnm_aligned_VPOD_1.2_het.fasta.treefile</td>\n",
       "      <td>leave_out</td>\n",
       "      <td>5</td>\n",
       "      <td>xgb</td>\n",
       "      <td>1</td>\n",
       "      <td>0.931122</td>\n",
       "      <td>8.409098</td>\n",
       "      <td>0.017908</td>\n",
       "      <td>219.989617</td>\n",
       "      <td>14.666383</td>\n",
       "    </tr>\n",
       "    <tr>\n",
       "      <th>3</th>\n",
       "      <td>wt_mnm_aligned_VPOD_1.2_het.fasta.treefile</td>\n",
       "      <td>leave_out</td>\n",
       "      <td>5</td>\n",
       "      <td>gbr</td>\n",
       "      <td>3</td>\n",
       "      <td>0.937487</td>\n",
       "      <td>9.515990</td>\n",
       "      <td>0.020412</td>\n",
       "      <td>201.753946</td>\n",
       "      <td>13.962397</td>\n",
       "    </tr>\n",
       "    <tr>\n",
       "      <th>4</th>\n",
       "      <td>wt_mnm_aligned_VPOD_1.2_het.fasta.treefile</td>\n",
       "      <td>leave_out</td>\n",
       "      <td>5</td>\n",
       "      <td>rf</td>\n",
       "      <td>3</td>\n",
       "      <td>0.928459</td>\n",
       "      <td>9.584318</td>\n",
       "      <td>0.020811</td>\n",
       "      <td>231.938627</td>\n",
       "      <td>14.646291</td>\n",
       "    </tr>\n",
       "  </tbody>\n",
       "</table>\n",
       "</div>"
      ],
      "text/plain": [
       "                                         Tree Relation_Handling  N_Folds  \\\n",
       "0  wt_mnm_aligned_VPOD_1.2_het.fasta.treefile         leave_out        5   \n",
       "1  wt_mnm_aligned_VPOD_1.2_het.fasta.treefile         leave_out        5   \n",
       "2  wt_mnm_aligned_VPOD_1.2_het.fasta.treefile         leave_out        5   \n",
       "3  wt_mnm_aligned_VPOD_1.2_het.fasta.treefile         leave_out        5   \n",
       "4  wt_mnm_aligned_VPOD_1.2_het.fasta.treefile         leave_out        5   \n",
       "\n",
       "  Model  Threshold        R2       MAE      MAPE         MSE       RMSE  \n",
       "0   gbr          1  0.945446  8.609218  0.018272  177.204566  13.206213  \n",
       "1    rf          1  0.935231  8.435417  0.017999  208.117131  14.184023  \n",
       "2   xgb          1  0.931122  8.409098  0.017908  219.989617  14.666383  \n",
       "3   gbr          3  0.937487  9.515990  0.020412  201.753946  13.962397  \n",
       "4    rf          3  0.928459  9.584318  0.020811  231.938627  14.646291  "
      ]
     },
     "execution_count": 35,
     "metadata": {},
     "output_type": "execute_result"
    }
   ],
   "source": [
    "wt_mnm_pre_gs_results_df = pd.read_csv(f\"{report_dir}/one_hot_encoded/pre_grid_search/wt_mnm_aligned_VPOD_1.2_het_phylo_cv_2025-03-12_18-57-08/wt_mnm_aligned_VPOD_1.2_het_phylo_cv_results.csv\") # Replace with your actual file name\n",
    "wt_mnm_pre_gs_results_df.head()"
   ]
  },
  {
   "cell_type": "code",
   "execution_count": 46,
   "metadata": {},
   "outputs": [
    {
     "name": "stdout",
     "output_type": "stream",
     "text": [
      "WT-MNM Model, One-Hot Encoded, Non-GS-Optimized\n",
      "\n",
      "1% Threhsold, R2=0.9506509967899087, MAE=8.266422553674593\n",
      "5% Threhsold, R2=0.9333294214227449, MAE=9.844954635993485\n",
      "11% Threhsold, R2=0.9164942250563861, MAE=10.849377194180002\n",
      "21% Threhsold, R2=0.8455996993574414, MAE=12.187761643465361\n"
     ]
    }
   ],
   "source": [
    "model_filtered_df = wt_mnm_pre_gs_results_df[wt_mnm_pre_gs_results_df['Relation_Handling']=='leave_out']\n",
    "model_filtered_df = model_filtered_df[model_filtered_df['Model']=='gbr']\n",
    "\n",
    "print(f'WT-MNM Model, One-Hot Encoded, Non-GS-Optimized\\n') \n",
    "for percentile in percentile_list:\n",
    "    filtered_df = model_filtered_df[model_filtered_df['Threshold']==percentile]\n",
    "    mean_r2 = mean(filtered_df['R2'])\n",
    "    mean_mae = mean(filtered_df['MAE'])\n",
    "    print(f'{percentile}% Threhsold, R2={mean_r2}, MAE={mean_mae}')"
   ]
  },
  {
   "cell_type": "code",
   "execution_count": 39,
   "metadata": {},
   "outputs": [
    {
     "data": {
      "application/vnd.microsoft.datawrangler.viewer.v0+json": {
       "columns": [
        {
         "name": "index",
         "rawType": "int64",
         "type": "integer"
        },
        {
         "name": "Tree",
         "rawType": "object",
         "type": "string"
        },
        {
         "name": "Relation_Handling",
         "rawType": "object",
         "type": "string"
        },
        {
         "name": "N_Folds",
         "rawType": "int64",
         "type": "integer"
        },
        {
         "name": "Model",
         "rawType": "object",
         "type": "string"
        },
        {
         "name": "Threshold",
         "rawType": "int64",
         "type": "integer"
        },
        {
         "name": "R2",
         "rawType": "float64",
         "type": "float"
        },
        {
         "name": "MAE",
         "rawType": "float64",
         "type": "float"
        },
        {
         "name": "MAPE",
         "rawType": "float64",
         "type": "float"
        },
        {
         "name": "MSE",
         "rawType": "float64",
         "type": "float"
        },
        {
         "name": "RMSE",
         "rawType": "float64",
         "type": "float"
        }
       ],
       "conversionMethod": "pd.DataFrame",
       "ref": "1e815dc6-13c9-4969-beb5-84918e3817a5",
       "rows": [
        [
         "0",
         "wt_mnm_aligned_VPOD_1.2_het.fasta.treefile",
         "leave_out",
         "5",
         "gbr",
         "1",
         "0.9613355477549554",
         "7.224693204987517",
         "0.015379932785941",
         "125.54559203483566",
         "10.962805824844004"
        ],
        [
         "1",
         "wt_mnm_aligned_VPOD_1.2_het.fasta.treefile",
         "leave_out",
         "5",
         "xgb",
         "1",
         "0.9535292839530768",
         "7.886965367255288",
         "0.0166944964595188",
         "152.39808908633285",
         "12.249057352126547"
        ],
        [
         "2",
         "wt_mnm_aligned_VPOD_1.2_het.fasta.treefile",
         "leave_out",
         "5",
         "gbr",
         "3",
         "0.9506737325250152",
         "8.199232669593886",
         "0.0176029971583678",
         "160.0675947870922",
         "12.300859441489626"
        ],
        [
         "3",
         "wt_mnm_aligned_VPOD_1.2_het.fasta.treefile",
         "leave_out",
         "5",
         "xgb",
         "3",
         "0.9426978847836124",
         "9.134121620091433",
         "0.0195247671248952",
         "185.27595776321667",
         "13.407853253496274"
        ],
        [
         "4",
         "wt_mnm_aligned_VPOD_1.2_het.fasta.treefile",
         "leave_out",
         "5",
         "gbr",
         "5",
         "0.942191638662129",
         "9.2288863612099",
         "0.019928169181663",
         "185.7579685903799",
         "13.253953744017815"
        ]
       ],
       "shape": {
        "columns": 10,
        "rows": 5
       }
      },
      "text/html": [
       "<div>\n",
       "<style scoped>\n",
       "    .dataframe tbody tr th:only-of-type {\n",
       "        vertical-align: middle;\n",
       "    }\n",
       "\n",
       "    .dataframe tbody tr th {\n",
       "        vertical-align: top;\n",
       "    }\n",
       "\n",
       "    .dataframe thead th {\n",
       "        text-align: right;\n",
       "    }\n",
       "</style>\n",
       "<table border=\"1\" class=\"dataframe\">\n",
       "  <thead>\n",
       "    <tr style=\"text-align: right;\">\n",
       "      <th></th>\n",
       "      <th>Tree</th>\n",
       "      <th>Relation_Handling</th>\n",
       "      <th>N_Folds</th>\n",
       "      <th>Model</th>\n",
       "      <th>Threshold</th>\n",
       "      <th>R2</th>\n",
       "      <th>MAE</th>\n",
       "      <th>MAPE</th>\n",
       "      <th>MSE</th>\n",
       "      <th>RMSE</th>\n",
       "    </tr>\n",
       "  </thead>\n",
       "  <tbody>\n",
       "    <tr>\n",
       "      <th>0</th>\n",
       "      <td>wt_mnm_aligned_VPOD_1.2_het.fasta.treefile</td>\n",
       "      <td>leave_out</td>\n",
       "      <td>5</td>\n",
       "      <td>gbr</td>\n",
       "      <td>1</td>\n",
       "      <td>0.961336</td>\n",
       "      <td>7.224693</td>\n",
       "      <td>0.015380</td>\n",
       "      <td>125.545592</td>\n",
       "      <td>10.962806</td>\n",
       "    </tr>\n",
       "    <tr>\n",
       "      <th>1</th>\n",
       "      <td>wt_mnm_aligned_VPOD_1.2_het.fasta.treefile</td>\n",
       "      <td>leave_out</td>\n",
       "      <td>5</td>\n",
       "      <td>xgb</td>\n",
       "      <td>1</td>\n",
       "      <td>0.953529</td>\n",
       "      <td>7.886965</td>\n",
       "      <td>0.016694</td>\n",
       "      <td>152.398089</td>\n",
       "      <td>12.249057</td>\n",
       "    </tr>\n",
       "    <tr>\n",
       "      <th>2</th>\n",
       "      <td>wt_mnm_aligned_VPOD_1.2_het.fasta.treefile</td>\n",
       "      <td>leave_out</td>\n",
       "      <td>5</td>\n",
       "      <td>gbr</td>\n",
       "      <td>3</td>\n",
       "      <td>0.950674</td>\n",
       "      <td>8.199233</td>\n",
       "      <td>0.017603</td>\n",
       "      <td>160.067595</td>\n",
       "      <td>12.300859</td>\n",
       "    </tr>\n",
       "    <tr>\n",
       "      <th>3</th>\n",
       "      <td>wt_mnm_aligned_VPOD_1.2_het.fasta.treefile</td>\n",
       "      <td>leave_out</td>\n",
       "      <td>5</td>\n",
       "      <td>xgb</td>\n",
       "      <td>3</td>\n",
       "      <td>0.942698</td>\n",
       "      <td>9.134122</td>\n",
       "      <td>0.019525</td>\n",
       "      <td>185.275958</td>\n",
       "      <td>13.407853</td>\n",
       "    </tr>\n",
       "    <tr>\n",
       "      <th>4</th>\n",
       "      <td>wt_mnm_aligned_VPOD_1.2_het.fasta.treefile</td>\n",
       "      <td>leave_out</td>\n",
       "      <td>5</td>\n",
       "      <td>gbr</td>\n",
       "      <td>5</td>\n",
       "      <td>0.942192</td>\n",
       "      <td>9.228886</td>\n",
       "      <td>0.019928</td>\n",
       "      <td>185.757969</td>\n",
       "      <td>13.253954</td>\n",
       "    </tr>\n",
       "  </tbody>\n",
       "</table>\n",
       "</div>"
      ],
      "text/plain": [
       "                                         Tree Relation_Handling  N_Folds  \\\n",
       "0  wt_mnm_aligned_VPOD_1.2_het.fasta.treefile         leave_out        5   \n",
       "1  wt_mnm_aligned_VPOD_1.2_het.fasta.treefile         leave_out        5   \n",
       "2  wt_mnm_aligned_VPOD_1.2_het.fasta.treefile         leave_out        5   \n",
       "3  wt_mnm_aligned_VPOD_1.2_het.fasta.treefile         leave_out        5   \n",
       "4  wt_mnm_aligned_VPOD_1.2_het.fasta.treefile         leave_out        5   \n",
       "\n",
       "  Model  Threshold        R2       MAE      MAPE         MSE       RMSE  \n",
       "0   gbr          1  0.961336  7.224693  0.015380  125.545592  10.962806  \n",
       "1   xgb          1  0.953529  7.886965  0.016694  152.398089  12.249057  \n",
       "2   gbr          3  0.950674  8.199233  0.017603  160.067595  12.300859  \n",
       "3   xgb          3  0.942698  9.134122  0.019525  185.275958  13.407853  \n",
       "4   gbr          5  0.942192  9.228886  0.019928  185.757969  13.253954  "
      ]
     },
     "execution_count": 39,
     "metadata": {},
     "output_type": "execute_result"
    }
   ],
   "source": [
    "wt_mnm_post_gs_results_df = pd.read_csv(f\"{report_dir}/one_hot_encoded/post_grid_search/wt_mnm_aligned_VPOD_1.2_het_phylo_cv_2025-03-18_19-36-44/wt_mnm_aligned_VPOD_1.2_het_phylo_cv_results.csv\") # Replace with your actual file name\n",
    "wt_mnm_post_gs_results_df.head()"
   ]
  },
  {
   "cell_type": "code",
   "execution_count": 50,
   "metadata": {},
   "outputs": [
    {
     "name": "stdout",
     "output_type": "stream",
     "text": [
      "WT-MNM Model, One-Hot Encoded, GS-Optimized\n",
      "\n",
      "1% Threhsold, R2=0.9626930094413404, MAE=6.913074115094805\n",
      "5% Threhsold, R2=0.9483600951455231, MAE=8.416366173750006\n",
      "11% Threhsold, R2=0.9242473517251083, MAE=10.016380010529563\n",
      "21% Threhsold, R2=0.8642611203794222, MAE=11.160053743573052\n"
     ]
    }
   ],
   "source": [
    "model_filtered_df = wt_mnm_post_gs_results_df[wt_mnm_post_gs_results_df['Relation_Handling']=='leave_out']\n",
    "model_filtered_df = model_filtered_df[model_filtered_df['Model']=='gbr']\n",
    "\n",
    "print(f'WT-MNM Model, One-Hot Encoded, GS-Optimized\\n') \n",
    "for percentile in percentile_list:\n",
    "    filtered_df = model_filtered_df[model_filtered_df['Threshold']==percentile]\n",
    "    mean_r2 = mean(filtered_df['R2'])\n",
    "    mean_mae = mean(filtered_df['MAE'])\n",
    "    print(f'{percentile}% Threhsold, R2={mean_r2}, MAE={mean_mae}')"
   ]
  },
  {
   "cell_type": "code",
   "execution_count": 42,
   "metadata": {},
   "outputs": [
    {
     "data": {
      "application/vnd.microsoft.datawrangler.viewer.v0+json": {
       "columns": [
        {
         "name": "index",
         "rawType": "int64",
         "type": "integer"
        },
        {
         "name": "Tree",
         "rawType": "object",
         "type": "string"
        },
        {
         "name": "Relation_Handling",
         "rawType": "object",
         "type": "string"
        },
        {
         "name": "N_Folds",
         "rawType": "int64",
         "type": "integer"
        },
        {
         "name": "Model",
         "rawType": "object",
         "type": "string"
        },
        {
         "name": "Threshold",
         "rawType": "int64",
         "type": "integer"
        },
        {
         "name": "R2",
         "rawType": "float64",
         "type": "float"
        },
        {
         "name": "MAE",
         "rawType": "float64",
         "type": "float"
        },
        {
         "name": "MAPE",
         "rawType": "float64",
         "type": "float"
        },
        {
         "name": "MSE",
         "rawType": "float64",
         "type": "float"
        },
        {
         "name": "RMSE",
         "rawType": "float64",
         "type": "float"
        }
       ],
       "conversionMethod": "pd.DataFrame",
       "ref": "5937e77c-1058-4b97-95f3-157eb1f36eb2",
       "rows": [
        [
         "0",
         "wt_mnm_aligned_VPOD_1.2_het.fasta.treefile",
         "leave_out",
         "5",
         "rf",
         "1",
         "0.951542598767484",
         "7.91275850110505",
         "0.0167128861313558",
         "157.33999939940674",
         "12.350893983862903"
        ],
        [
         "1",
         "wt_mnm_aligned_VPOD_1.2_het.fasta.treefile",
         "leave_out",
         "5",
         "gbr",
         "1",
         "0.9495312097596802",
         "8.19388557704908",
         "0.0172555196967403",
         "164.69255925717056",
         "12.78296494395552"
        ],
        [
         "2",
         "wt_mnm_aligned_VPOD_1.2_het.fasta.treefile",
         "leave_out",
         "5",
         "xgb",
         "1",
         "0.941499795889828",
         "8.195046042259266",
         "0.017465406900332",
         "191.20758390932585",
         "13.674262739557076"
        ],
        [
         "3",
         "wt_mnm_aligned_VPOD_1.2_het.fasta.treefile",
         "leave_out",
         "5",
         "gbr",
         "3",
         "0.9450575778676557",
         "8.965848378909502",
         "0.0190825976452089",
         "177.41533581618688",
         "13.06292716462942"
        ],
        [
         "4",
         "wt_mnm_aligned_VPOD_1.2_het.fasta.treefile",
         "leave_out",
         "5",
         "rf",
         "3",
         "0.9385441542083416",
         "9.340127773207504",
         "0.0200285717500129",
         "198.18558580514397",
         "13.791367705711275"
        ]
       ],
       "shape": {
        "columns": 10,
        "rows": 5
       }
      },
      "text/html": [
       "<div>\n",
       "<style scoped>\n",
       "    .dataframe tbody tr th:only-of-type {\n",
       "        vertical-align: middle;\n",
       "    }\n",
       "\n",
       "    .dataframe tbody tr th {\n",
       "        vertical-align: top;\n",
       "    }\n",
       "\n",
       "    .dataframe thead th {\n",
       "        text-align: right;\n",
       "    }\n",
       "</style>\n",
       "<table border=\"1\" class=\"dataframe\">\n",
       "  <thead>\n",
       "    <tr style=\"text-align: right;\">\n",
       "      <th></th>\n",
       "      <th>Tree</th>\n",
       "      <th>Relation_Handling</th>\n",
       "      <th>N_Folds</th>\n",
       "      <th>Model</th>\n",
       "      <th>Threshold</th>\n",
       "      <th>R2</th>\n",
       "      <th>MAE</th>\n",
       "      <th>MAPE</th>\n",
       "      <th>MSE</th>\n",
       "      <th>RMSE</th>\n",
       "    </tr>\n",
       "  </thead>\n",
       "  <tbody>\n",
       "    <tr>\n",
       "      <th>0</th>\n",
       "      <td>wt_mnm_aligned_VPOD_1.2_het.fasta.treefile</td>\n",
       "      <td>leave_out</td>\n",
       "      <td>5</td>\n",
       "      <td>rf</td>\n",
       "      <td>1</td>\n",
       "      <td>0.951543</td>\n",
       "      <td>7.912759</td>\n",
       "      <td>0.016713</td>\n",
       "      <td>157.339999</td>\n",
       "      <td>12.350894</td>\n",
       "    </tr>\n",
       "    <tr>\n",
       "      <th>1</th>\n",
       "      <td>wt_mnm_aligned_VPOD_1.2_het.fasta.treefile</td>\n",
       "      <td>leave_out</td>\n",
       "      <td>5</td>\n",
       "      <td>gbr</td>\n",
       "      <td>1</td>\n",
       "      <td>0.949531</td>\n",
       "      <td>8.193886</td>\n",
       "      <td>0.017256</td>\n",
       "      <td>164.692559</td>\n",
       "      <td>12.782965</td>\n",
       "    </tr>\n",
       "    <tr>\n",
       "      <th>2</th>\n",
       "      <td>wt_mnm_aligned_VPOD_1.2_het.fasta.treefile</td>\n",
       "      <td>leave_out</td>\n",
       "      <td>5</td>\n",
       "      <td>xgb</td>\n",
       "      <td>1</td>\n",
       "      <td>0.941500</td>\n",
       "      <td>8.195046</td>\n",
       "      <td>0.017465</td>\n",
       "      <td>191.207584</td>\n",
       "      <td>13.674263</td>\n",
       "    </tr>\n",
       "    <tr>\n",
       "      <th>3</th>\n",
       "      <td>wt_mnm_aligned_VPOD_1.2_het.fasta.treefile</td>\n",
       "      <td>leave_out</td>\n",
       "      <td>5</td>\n",
       "      <td>gbr</td>\n",
       "      <td>3</td>\n",
       "      <td>0.945058</td>\n",
       "      <td>8.965848</td>\n",
       "      <td>0.019083</td>\n",
       "      <td>177.415336</td>\n",
       "      <td>13.062927</td>\n",
       "    </tr>\n",
       "    <tr>\n",
       "      <th>4</th>\n",
       "      <td>wt_mnm_aligned_VPOD_1.2_het.fasta.treefile</td>\n",
       "      <td>leave_out</td>\n",
       "      <td>5</td>\n",
       "      <td>rf</td>\n",
       "      <td>3</td>\n",
       "      <td>0.938544</td>\n",
       "      <td>9.340128</td>\n",
       "      <td>0.020029</td>\n",
       "      <td>198.185586</td>\n",
       "      <td>13.791368</td>\n",
       "    </tr>\n",
       "  </tbody>\n",
       "</table>\n",
       "</div>"
      ],
      "text/plain": [
       "                                         Tree Relation_Handling  N_Folds  \\\n",
       "0  wt_mnm_aligned_VPOD_1.2_het.fasta.treefile         leave_out        5   \n",
       "1  wt_mnm_aligned_VPOD_1.2_het.fasta.treefile         leave_out        5   \n",
       "2  wt_mnm_aligned_VPOD_1.2_het.fasta.treefile         leave_out        5   \n",
       "3  wt_mnm_aligned_VPOD_1.2_het.fasta.treefile         leave_out        5   \n",
       "4  wt_mnm_aligned_VPOD_1.2_het.fasta.treefile         leave_out        5   \n",
       "\n",
       "  Model  Threshold        R2       MAE      MAPE         MSE       RMSE  \n",
       "0    rf          1  0.951543  7.912759  0.016713  157.339999  12.350894  \n",
       "1   gbr          1  0.949531  8.193886  0.017256  164.692559  12.782965  \n",
       "2   xgb          1  0.941500  8.195046  0.017465  191.207584  13.674263  \n",
       "3   gbr          3  0.945058  8.965848  0.019083  177.415336  13.062927  \n",
       "4    rf          3  0.938544  9.340128  0.020029  198.185586  13.791368  "
      ]
     },
     "execution_count": 42,
     "metadata": {},
     "output_type": "execute_result"
    }
   ],
   "source": [
    "wt_mnm_aap_pre_gs_results_df = pd.read_csv(f\"{report_dir}/aa_prop_encoded/pre_grid_search/wt_mnm_aligned_VPOD_1.2_het_phylo_cv_2025-04-16_14-57-51/wt_mnm_aligned_VPOD_1.2_het_phylo_cv_results.csv\") # Replace with your actual file name\n",
    "wt_mnm_aap_pre_gs_results_df.head()"
   ]
  },
  {
   "cell_type": "code",
   "execution_count": 51,
   "metadata": {},
   "outputs": [
    {
     "name": "stdout",
     "output_type": "stream",
     "text": [
      "WT-MNM Model, AA-Prop Encoded, Non-GS-Optimized\n",
      "\n",
      "1% Threhsold, R2=0.9554458313284733, MAE=7.791578736206191\n",
      "5% Threhsold, R2=0.9409950849317319, MAE=9.32289023663859\n",
      "11% Threhsold, R2=0.9207761453342977, MAE=10.489150892572853\n",
      "21% Threhsold, R2=0.8580216904911883, MAE=11.409922174117913\n"
     ]
    }
   ],
   "source": [
    "model_filtered_df = wt_mnm_aap_pre_gs_results_df[wt_mnm_aap_pre_gs_results_df['Relation_Handling']=='leave_out']\n",
    "model_filtered_df = model_filtered_df[model_filtered_df['Model']=='gbr']\n",
    "\n",
    "print(f'WT-MNM Model, AA-Prop Encoded, Non-GS-Optimized\\n') \n",
    "for percentile in percentile_list:\n",
    "    filtered_df = model_filtered_df[model_filtered_df['Threshold']==percentile]\n",
    "    mean_r2 = mean(filtered_df['R2'])\n",
    "    mean_mae = mean(filtered_df['MAE'])\n",
    "    print(f'{percentile}% Threhsold, R2={mean_r2}, MAE={mean_mae}')"
   ]
  },
  {
   "cell_type": "code",
   "execution_count": 44,
   "metadata": {},
   "outputs": [
    {
     "data": {
      "application/vnd.microsoft.datawrangler.viewer.v0+json": {
       "columns": [
        {
         "name": "index",
         "rawType": "int64",
         "type": "integer"
        },
        {
         "name": "Tree",
         "rawType": "object",
         "type": "string"
        },
        {
         "name": "Relation_Handling",
         "rawType": "object",
         "type": "string"
        },
        {
         "name": "N_Folds",
         "rawType": "int64",
         "type": "integer"
        },
        {
         "name": "Model",
         "rawType": "object",
         "type": "string"
        },
        {
         "name": "Threshold",
         "rawType": "int64",
         "type": "integer"
        },
        {
         "name": "R2",
         "rawType": "float64",
         "type": "float"
        },
        {
         "name": "MAE",
         "rawType": "float64",
         "type": "float"
        },
        {
         "name": "MAPE",
         "rawType": "float64",
         "type": "float"
        },
        {
         "name": "MSE",
         "rawType": "float64",
         "type": "float"
        },
        {
         "name": "RMSE",
         "rawType": "float64",
         "type": "float"
        }
       ],
       "conversionMethod": "pd.DataFrame",
       "ref": "09b4e6ec-211a-41be-bee2-6230640300cd",
       "rows": [
        [
         "0",
         "wt_mnm_aligned_VPOD_1.2_het.fasta.treefile",
         "leave_out",
         "5",
         "gbr",
         "1",
         "0.959579737965104",
         "7.3088854798997875",
         "0.0153943958480677",
         "132.9701735722238",
         "11.429032561816005"
        ],
        [
         "1",
         "wt_mnm_aligned_VPOD_1.2_het.fasta.treefile",
         "leave_out",
         "5",
         "gbr",
         "3",
         "0.9475426165717584",
         "8.196066331853867",
         "0.0174184992253219",
         "169.81599051224603",
         "12.669746968930896"
        ],
        [
         "2",
         "wt_mnm_aligned_VPOD_1.2_het.fasta.treefile",
         "leave_out",
         "5",
         "gbr",
         "5",
         "0.9362785582247252",
         "9.17820844122601",
         "0.0197468268473124",
         "202.685452952252",
         "13.594898609787752"
        ],
        [
         "3",
         "wt_mnm_aligned_VPOD_1.2_het.fasta.treefile",
         "leave_out",
         "5",
         "gbr",
         "7",
         "0.9374718340706883",
         "8.915576740604692",
         "0.0191632246969608",
         "191.4193513112296",
         "13.321122470476968"
        ],
        [
         "4",
         "wt_mnm_aligned_VPOD_1.2_het.fasta.treefile",
         "leave_out",
         "5",
         "gbr",
         "9",
         "0.9128158720768872",
         "10.356915084043576",
         "0.0220846461105532",
         "255.35533990994605",
         "15.477940248523902"
        ]
       ],
       "shape": {
        "columns": 10,
        "rows": 5
       }
      },
      "text/html": [
       "<div>\n",
       "<style scoped>\n",
       "    .dataframe tbody tr th:only-of-type {\n",
       "        vertical-align: middle;\n",
       "    }\n",
       "\n",
       "    .dataframe tbody tr th {\n",
       "        vertical-align: top;\n",
       "    }\n",
       "\n",
       "    .dataframe thead th {\n",
       "        text-align: right;\n",
       "    }\n",
       "</style>\n",
       "<table border=\"1\" class=\"dataframe\">\n",
       "  <thead>\n",
       "    <tr style=\"text-align: right;\">\n",
       "      <th></th>\n",
       "      <th>Tree</th>\n",
       "      <th>Relation_Handling</th>\n",
       "      <th>N_Folds</th>\n",
       "      <th>Model</th>\n",
       "      <th>Threshold</th>\n",
       "      <th>R2</th>\n",
       "      <th>MAE</th>\n",
       "      <th>MAPE</th>\n",
       "      <th>MSE</th>\n",
       "      <th>RMSE</th>\n",
       "    </tr>\n",
       "  </thead>\n",
       "  <tbody>\n",
       "    <tr>\n",
       "      <th>0</th>\n",
       "      <td>wt_mnm_aligned_VPOD_1.2_het.fasta.treefile</td>\n",
       "      <td>leave_out</td>\n",
       "      <td>5</td>\n",
       "      <td>gbr</td>\n",
       "      <td>1</td>\n",
       "      <td>0.959580</td>\n",
       "      <td>7.308885</td>\n",
       "      <td>0.015394</td>\n",
       "      <td>132.970174</td>\n",
       "      <td>11.429033</td>\n",
       "    </tr>\n",
       "    <tr>\n",
       "      <th>1</th>\n",
       "      <td>wt_mnm_aligned_VPOD_1.2_het.fasta.treefile</td>\n",
       "      <td>leave_out</td>\n",
       "      <td>5</td>\n",
       "      <td>gbr</td>\n",
       "      <td>3</td>\n",
       "      <td>0.947543</td>\n",
       "      <td>8.196066</td>\n",
       "      <td>0.017418</td>\n",
       "      <td>169.815991</td>\n",
       "      <td>12.669747</td>\n",
       "    </tr>\n",
       "    <tr>\n",
       "      <th>2</th>\n",
       "      <td>wt_mnm_aligned_VPOD_1.2_het.fasta.treefile</td>\n",
       "      <td>leave_out</td>\n",
       "      <td>5</td>\n",
       "      <td>gbr</td>\n",
       "      <td>5</td>\n",
       "      <td>0.936279</td>\n",
       "      <td>9.178208</td>\n",
       "      <td>0.019747</td>\n",
       "      <td>202.685453</td>\n",
       "      <td>13.594899</td>\n",
       "    </tr>\n",
       "    <tr>\n",
       "      <th>3</th>\n",
       "      <td>wt_mnm_aligned_VPOD_1.2_het.fasta.treefile</td>\n",
       "      <td>leave_out</td>\n",
       "      <td>5</td>\n",
       "      <td>gbr</td>\n",
       "      <td>7</td>\n",
       "      <td>0.937472</td>\n",
       "      <td>8.915577</td>\n",
       "      <td>0.019163</td>\n",
       "      <td>191.419351</td>\n",
       "      <td>13.321122</td>\n",
       "    </tr>\n",
       "    <tr>\n",
       "      <th>4</th>\n",
       "      <td>wt_mnm_aligned_VPOD_1.2_het.fasta.treefile</td>\n",
       "      <td>leave_out</td>\n",
       "      <td>5</td>\n",
       "      <td>gbr</td>\n",
       "      <td>9</td>\n",
       "      <td>0.912816</td>\n",
       "      <td>10.356915</td>\n",
       "      <td>0.022085</td>\n",
       "      <td>255.355340</td>\n",
       "      <td>15.477940</td>\n",
       "    </tr>\n",
       "  </tbody>\n",
       "</table>\n",
       "</div>"
      ],
      "text/plain": [
       "                                         Tree Relation_Handling  N_Folds  \\\n",
       "0  wt_mnm_aligned_VPOD_1.2_het.fasta.treefile         leave_out        5   \n",
       "1  wt_mnm_aligned_VPOD_1.2_het.fasta.treefile         leave_out        5   \n",
       "2  wt_mnm_aligned_VPOD_1.2_het.fasta.treefile         leave_out        5   \n",
       "3  wt_mnm_aligned_VPOD_1.2_het.fasta.treefile         leave_out        5   \n",
       "4  wt_mnm_aligned_VPOD_1.2_het.fasta.treefile         leave_out        5   \n",
       "\n",
       "  Model  Threshold        R2        MAE      MAPE         MSE       RMSE  \n",
       "0   gbr          1  0.959580   7.308885  0.015394  132.970174  11.429033  \n",
       "1   gbr          3  0.947543   8.196066  0.017418  169.815991  12.669747  \n",
       "2   gbr          5  0.936279   9.178208  0.019747  202.685453  13.594899  \n",
       "3   gbr          7  0.937472   8.915577  0.019163  191.419351  13.321122  \n",
       "4   gbr          9  0.912816  10.356915  0.022085  255.355340  15.477940  "
      ]
     },
     "execution_count": 44,
     "metadata": {},
     "output_type": "execute_result"
    }
   ],
   "source": [
    "wt_mnm_aap_post_gs_results_df = pd.read_csv(f\"{report_dir}/aa_prop_encoded/post_grid_search/wt_mnm_aligned_VPOD_1.2_het_phylo_cv_2025-04-16_19-45-55/wt_mnm_aligned_VPOD_1.2_het_phylo_cv_results.csv\") # Replace with your actual file name\n",
    "wt_mnm_aap_post_gs_results_df.head()"
   ]
  },
  {
   "cell_type": "code",
   "execution_count": 52,
   "metadata": {},
   "outputs": [
    {
     "name": "stdout",
     "output_type": "stream",
     "text": [
      "WT-MNM Model, AA-Prop Encoded, GS-Optimized\n",
      "\n",
      "1% Threhsold, R2=0.965284441721368, MAE=6.684398551689484\n",
      "5% Threhsold, R2=0.9499919211400456, MAE=8.192190207416497\n",
      "11% Threhsold, R2=0.9303023215098397, MAE=9.576245593308649\n",
      "21% Threhsold, R2=0.8845408571283542, MAE=10.318253913518138\n"
     ]
    }
   ],
   "source": [
    "model_filtered_df = wt_mnm_aap_post_gs_results_df[wt_mnm_aap_post_gs_results_df['Relation_Handling']=='leave_out']\n",
    "model_filtered_df = model_filtered_df[model_filtered_df['Model']=='gbr']\n",
    "\n",
    "print(f'WT-MNM Model, AA-Prop Encoded, GS-Optimized\\n') \n",
    "for percentile in percentile_list:\n",
    "    filtered_df = model_filtered_df[model_filtered_df['Threshold']==percentile]\n",
    "    mean_r2 = mean(filtered_df['R2'])\n",
    "    mean_mae = mean(filtered_df['MAE'])\n",
    "    print(f'{percentile}% Threhsold, R2={mean_r2}, MAE={mean_mae}')"
   ]
  }
 ],
 "metadata": {
  "kernelspec": {
   "display_name": "deepBreaks",
   "language": "python",
   "name": "python3"
  },
  "language_info": {
   "codemirror_mode": {
    "name": "ipython",
    "version": 3
   },
   "file_extension": ".py",
   "mimetype": "text/x-python",
   "name": "python",
   "nbconvert_exporter": "python",
   "pygments_lexer": "ipython3",
   "version": "3.9.17"
  }
 },
 "nbformat": 4,
 "nbformat_minor": 2
}
