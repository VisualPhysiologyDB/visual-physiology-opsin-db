{
 "cells": [
  {
   "cell_type": "code",
   "execution_count": null,
   "metadata": {},
   "outputs": [],
   "source": [
    "import pandas as pd\n",
    "import seaborn as sns\n",
    "import matplotlib.pyplot as plt"
   ]
  },
  {
   "cell_type": "code",
   "execution_count": null,
   "metadata": {},
   "outputs": [],
   "source": [
    "def compare_phylo_cv_results(ds,encoding_method,pre_gs_results_df,post_gs_results_df,atts_of_intrst,models_to_keep=None,max_threshold=100, suffix='gs'):\n",
    "    \n",
    "    if models_to_keep != None:\n",
    "        post_gs_results_df = post_gs_results_df[post_gs_results_df['Model'].isin(models_to_keep)]\n",
    "    else:\n",
    "        models_to_keep = post_gs_results_df['Model'].unique()\n",
    "    \n",
    "    post_gs_results_df_copy = post_gs_results_df.copy()\n",
    "    post_gs_results_df_copy['Model'] = post_gs_results_df_copy['Model'] + '_' + suffix\n",
    "    \n",
    "    for attr in atts_of_intrst:\n",
    "        \n",
    "        # Group by `Relation_Handling` and `Model`, calculate the mean of `R2`, and reset the index\n",
    "        model_att = pre_gs_results_df[pre_gs_results_df['Model'].isin(models_to_keep)]\n",
    "        model_att = pd.concat([model_att,post_gs_results_df_copy],ignore_index=True)\n",
    "        model_att = model_att[model_att['Threshold']<=max_threshold]\n",
    "        # Get unique relation handling methods\n",
    "        relation_handling_methods = model_att['Relation_Handling'].unique()\n",
    "\n",
    "        for method in relation_handling_methods:\n",
    "            # Filter for 'leave_out' method and drop NaN values\n",
    "            method_df = model_att[model_att['Relation_Handling'] == method].dropna(subset=attr)\n",
    "            #method_df = method_df[method_df['Model'] != 'lr']\n",
    "\n",
    "            # Create the plot using Seaborn\n",
    "            plt.figure(figsize=(16, 8))  # Increase width for better clarity\n",
    "            sns.lineplot(data=method_df, x='Threshold', y=attr, hue='Model')\n",
    "\n",
    "            # Add labels and title with larger font size\n",
    "            plt.xlabel(f'Percentile Threshold\\n(Using \"{method}\" Threshold Handling)', fontsize=20)\n",
    "            plt.ylabel(attr, fontsize=20)\n",
    "            plt.xticks(fontsize=20)\n",
    "            plt.yticks(fontsize=20)\n",
    "\n",
    "            # Place the legend in the bottom left corner\n",
    "            plt.legend(loc='lower left', fontsize=16)\n",
    "\n",
    "            # Show the plot\n",
    "            plt.tight_layout()\n",
    "\n",
    "            # Save the figure as an SVG file\n",
    "            plt.savefig(f'./{ds}_{encoding_method}_pre_v_post_gs_analysis_{attr}_{method}_handling_performance_trend.svg', format='svg')  # You can change the filename if needed\n",
    "\n",
    "            plt.show()\n",
    "            \n",
    "            for model_type in models_to_keep:\n",
    "                temp_list = [model_type,f'{model_type}_{suffix}']\n",
    "                model_df = method_df[method_df['Model'].isin(temp_list)]\n",
    "\n",
    "                # Create the plot using Seaborn\n",
    "                plt.figure(figsize=(16, 8))  # Increase width for better clarity\n",
    "                sns.lineplot(data=model_df, x='Threshold', y=attr, hue='Model')\n",
    "\n",
    "                # Add labels and title with larger font size\n",
    "                plt.xlabel(f'Percentile Threshold\\n(Using \"{method}\" Threshold Handling)', fontsize=20)\n",
    "                plt.ylabel(attr, fontsize=20)\n",
    "                plt.xticks(fontsize=20)\n",
    "                plt.yticks(fontsize=20)\n",
    "\n",
    "                # Place the legend in the bottom left corner\n",
    "                plt.legend(loc='lower left', fontsize=16)\n",
    "\n",
    "                # Show the plot\n",
    "                plt.tight_layout()\n",
    "\n",
    "                # Save the figure as an SVG file\n",
    "                plt.savefig(f'./{ds}_{encoding_method}_{model_type}_pre_v_post_gs_analysis_{attr}_{method}_handling_performance_trend.svg', format='svg')  # You can change the filename if needed\n",
    "\n",
    "                plt.show()"
   ]
  },
  {
   "cell_type": "code",
   "execution_count": null,
   "metadata": {},
   "outputs": [],
   "source": [
    "report_dir = 'e:/safra/Documents/GitHub/visual-physiology-opsin-db/result_files/phylo_weighted_cv'\n",
    "atts_of_intrst = ['R2', 'MAE', 'MAPE', 'MSE', 'RMSE']"
   ]
  },
  {
   "cell_type": "code",
   "execution_count": null,
   "metadata": {},
   "outputs": [],
   "source": [
    "wt_pre_gs_results_df = pd.read_csv(f\"{report_dir}/one_hot_encoded/pre_grid_search/wt_vpod_1.2_LG_F_R7_phylo_cv_2024-08-21_18-35-49/wt_vpod_1.2_one_hot_LG_F_R7_phylo_cv_results.csv\") # Replace with your actual file name\n",
    "wt_pre_gs_results_df.head()"
   ]
  },
  {
   "cell_type": "code",
   "execution_count": null,
   "metadata": {},
   "outputs": [],
   "source": [
    "# Load the results file\n",
    "wt_post_gs_results_df = pd.read_csv(f\"{report_dir}/one_hot_encoded/post_grid_search/wt_vpod_1.2_LG_F_R7_phylo_cv_2025-03-19_20-11-06/wt_vpod_1.2_one_hot_gs_LG_F_R7_phylo_cv_results.csv\") # Replace with your actual file name\n",
    "wt_post_gs_results_df.head()"
   ]
  },
  {
   "cell_type": "code",
   "execution_count": null,
   "metadata": {},
   "outputs": [],
   "source": [
    "# Load the results file\n",
    "encoding_method = 'onehot'\n",
    "compare_phylo_cv_results('wt',encoding_method,wt_pre_gs_results_df,wt_post_gs_results_df,atts_of_intrst,max_threshold=50)"
   ]
  },
  {
   "cell_type": "code",
   "execution_count": null,
   "metadata": {},
   "outputs": [],
   "source": [
    "# Load the results file\n",
    "wt_vert_pre_gs_results_df = pd.read_csv(f\"{report_dir}/one_hot_encoded/pre_grid_search/wt_vert_vpod_1.2_LG_F_R6_phylo_cv_2024-08-26_18-18-20/wt_vert_vpod_1.2_LG_F_R6_phylo_cv_results.csv\") # Replace with your actual file name\n",
    "wt_vert_pre_gs_results_df.head()"
   ]
  },
  {
   "cell_type": "code",
   "execution_count": null,
   "metadata": {},
   "outputs": [],
   "source": [
    "# Load the results file\n",
    "wt_vert_post_gs_results_df = pd.read_csv(f\"{report_dir}/one_hot_encoded/post_grid_search/wt_vert_vpod_1.2_LG_F_R6_phylo_cv_2025-03-19_20-10-57/wt_vert_vpod_1.2_LG_F_R6_phylo_cv_results.csv\") # Replace with your actual file name\n",
    "wt_vert_post_gs_results_df.head()"
   ]
  },
  {
   "cell_type": "code",
   "execution_count": null,
   "metadata": {},
   "outputs": [],
   "source": [
    "models_to_keep = ['gbr','xgb','rf','BayesianRidge']\n",
    "compare_phylo_cv_results('wt_vert',encoding_method,wt_vert_pre_gs_results_df,wt_vert_post_gs_results_df,atts_of_intrst,models_to_keep,max_threshold=35)"
   ]
  },
  {
   "cell_type": "code",
   "execution_count": null,
   "metadata": {},
   "outputs": [],
   "source": [
    "# Load the results file\n",
    "wt_aap_pre_gs_results_df = pd.read_csv(f\"{report_dir}/aa_prop_encoded/pre_grid_search/wt_vpod_1.2_LG_F_R7_phylo_cv_2025-03-23_19-11-21/wt_vpod_1.2_LG_F_R7_phylo_cv_results.csv\") # Replace with your actual file name\n",
    "wt_aap_pre_gs_results_df.head()"
   ]
  },
  {
   "cell_type": "code",
   "execution_count": null,
   "metadata": {},
   "outputs": [],
   "source": [
    "# Load the results file\n",
    "wt_aap_post_gs_results_df = pd.read_csv(f\"{report_dir}/aa_prop_encoded/post_grid_search/wt_vpod_1.2_LG_F_R7_phylo_cv_2025-03-23_18-48-16/wt_vpod_1.2_LG_F_R7_phylo_cv_results.csv\") # Replace with your actual file name\n",
    "wt_aap_post_gs_results_df.head()"
   ]
  },
  {
   "cell_type": "code",
   "execution_count": null,
   "metadata": {},
   "outputs": [],
   "source": [
    "encoding_method='aaprop'\n",
    "models_to_keep = ['gbr','xgb','rf']\n",
    "compare_phylo_cv_results('wt',encoding_method,wt_aap_pre_gs_results_df,wt_aap_post_gs_results_df,atts_of_intrst,models_to_keep,max_threshold=50)"
   ]
  },
  {
   "cell_type": "code",
   "execution_count": null,
   "metadata": {},
   "outputs": [],
   "source": [
    "encoding_method='aaprop_vs_onehot_pre_gs'\n",
    "models_to_keep = ['gbr']\n",
    "compare_phylo_cv_results('wt',encoding_method,wt_post_gs_results_df,wt_aap_post_gs_results_df,atts_of_intrst,models_to_keep,max_threshold=50, suffix='aaprop')"
   ]
  },
  {
   "cell_type": "markdown",
   "metadata": {},
   "source": [
    "MNM Analysis"
   ]
  },
  {
   "cell_type": "code",
   "execution_count": null,
   "metadata": {},
   "outputs": [],
   "source": [
    "wt_mnm_pre_gs_results_df = pd.read_csv(f\"{report_dir}/one_hot_encoded/pre_grid_search/wt_mnm_aligned_VPOD_1.2_het_phylo_cv_2025-03-12_18-57-08/wt_mnm_aligned_VPOD_1.2_het_phylo_cv_results.csv\") # Replace with your actual file name\n",
    "wt_mnm_pre_gs_results_df.head()"
   ]
  },
  {
   "cell_type": "code",
   "execution_count": null,
   "metadata": {},
   "outputs": [],
   "source": [
    "wt_mnm_post_gs_results_df = pd.read_csv(f\"{report_dir}/one_hot_encoded/post_grid_search/wt_mnm_aligned_VPOD_1.2_het_phylo_cv_2025-03-18_19-36-44/wt_mnm_aligned_VPOD_1.2_het_phylo_cv_results.csv\") # Replace with your actual file name\n",
    "wt_mnm_post_gs_results_df.head()"
   ]
  },
  {
   "cell_type": "code",
   "execution_count": null,
   "metadata": {},
   "outputs": [],
   "source": [
    "encoding_method='onehot'\n",
    "models_to_keep = ['gbr']\n",
    "compare_phylo_cv_results('wt_mnm',encoding_method,wt_mnm_pre_gs_results_df,wt_mnm_post_gs_results_df,atts_of_intrst,models_to_keep,max_threshold=50)"
   ]
  },
  {
   "cell_type": "code",
   "execution_count": null,
   "metadata": {},
   "outputs": [],
   "source": [
    "wt_mnm_aap_pre_gs_results_df = pd.read_csv(f\"{report_dir}/aa_prop_encoded/pre_grid_search/wt_mnm_aligned_VPOD_1.2_het_phylo_cv_2025-04-16_14-57-51/wt_mnm_aligned_VPOD_1.2_het_phylo_cv_results.csv\") # Replace with your actual file name\n",
    "wt_mnm_aap_pre_gs_results_df.head()"
   ]
  },
  {
   "cell_type": "code",
   "execution_count": null,
   "metadata": {},
   "outputs": [],
   "source": [
    "wt_mnm_aap_post_gs_results_df = pd.read_csv(f\"{report_dir}/aa_prop_encoded/post_grid_search/wt_mnm_aligned_VPOD_1.2_het_phylo_cv_2025-04-16_19-45-55/wt_mnm_aligned_VPOD_1.2_het_phylo_cv_results.csv\") # Replace with your actual file name\n",
    "wt_mnm_aap_post_gs_results_df.head()"
   ]
  },
  {
   "cell_type": "code",
   "execution_count": null,
   "metadata": {},
   "outputs": [],
   "source": [
    "encoding_method='aaprop'\n",
    "models_to_keep = ['gbr']\n",
    "compare_phylo_cv_results('wt_mnm',encoding_method,wt_mnm_aap_pre_gs_results_df,wt_mnm_aap_post_gs_results_df,atts_of_intrst,models_to_keep,max_threshold=50)"
   ]
  },
  {
   "cell_type": "markdown",
   "metadata": {},
   "source": [
    "aa_prop vs. one-hot mnm"
   ]
  },
  {
   "cell_type": "code",
   "execution_count": null,
   "metadata": {},
   "outputs": [],
   "source": [
    "encoding_method='aaprop_vs_onehot'\n",
    "models_to_keep = ['gbr']\n",
    "compare_phylo_cv_results('wt_mnm',encoding_method,wt_mnm_post_gs_results_df,wt_mnm_aap_post_gs_results_df,atts_of_intrst,models_to_keep,max_threshold=50, suffix='aaprop')"
   ]
  },
  {
   "cell_type": "markdown",
   "metadata": {},
   "source": [
    "mnm vs. het"
   ]
  },
  {
   "cell_type": "code",
   "execution_count": null,
   "metadata": {},
   "outputs": [],
   "source": [
    "encoding_method='aaprop_mnm_v_het'\n",
    "models_to_keep = ['gbr']\n",
    "compare_phylo_cv_results('wt_mnm_v_wt',encoding_method,wt_aap_post_gs_results_df,wt_mnm_aap_post_gs_results_df,atts_of_intrst,models_to_keep,max_threshold=50, suffix='mnm')"
   ]
  }
 ],
 "metadata": {
  "kernelspec": {
   "display_name": "deepBreaks",
   "language": "python",
   "name": "python3"
  },
  "language_info": {
   "codemirror_mode": {
    "name": "ipython",
    "version": 3
   },
   "file_extension": ".py",
   "mimetype": "text/x-python",
   "name": "python",
   "nbconvert_exporter": "python",
   "pygments_lexer": "ipython3",
   "version": "3.9.17"
  }
 },
 "nbformat": 4,
 "nbformat_minor": 2
}
