{
 "cells": [
  {
   "cell_type": "code",
   "execution_count": null,
   "metadata": {},
   "outputs": [],
   "source": [
    "from deepBreaks.preprocessing import read_data\n",
    "from sklearn.metrics import r2_score, mean_absolute_error\n",
    "import pandas as pd\n"
   ]
  },
  {
   "cell_type": "code",
   "execution_count": 175,
   "metadata": {},
   "outputs": [],
   "source": [
    "wrk_dir = \"./vpod_1.2_data_splits_2025-02-28_15-51-04\"\n",
    "MutMetaFileName = f\"{wrk_dir}/mut_meta.tsv\"\n",
    "aapTestFileName = \"./optics_on_aa_prop_wt_mut_test_2025-03-24_20-23-29/mut_predictions.tsv\"\n",
    "ohTestFileName = f\"./optics_on_vpod_muts_oh_2024-12-09_13-22-49/vpod_mut_predictions.tsv\"\n",
    "#aapTestFileName = \"./optics_on_aa_prop_wt_mnm_mut_test_2025-04-21_21-01-08/mut_predictions.tsv\"\n",
    "#ohTestFileName = f\"./optics_on_one_hot_wt_mnm_mut_test_2025-03-24_16-22-03/mut_predictions.tsv\"\n",
    "mut_meta = read_data(MutMetaFileName, seq_type = None, is_main=False)\n",
    "mut_meta = mut_meta.drop('Bovine')\n",
    "\n",
    "aap_test = read_data(aapTestFileName, seq_type = None, is_main=False)\n",
    "oh_test = read_data(ohTestFileName, seq_type = None, is_main=False)"
   ]
  },
  {
   "cell_type": "code",
   "execution_count": 176,
   "metadata": {},
   "outputs": [
    {
     "data": {
      "application/vnd.microsoft.datawrangler.viewer.v0+json": {
       "columns": [
        {
         "name": "Seq_Id",
         "rawType": "object",
         "type": "string"
        },
        {
         "name": "Lambda_Max",
         "rawType": "float64",
         "type": "float"
        },
        {
         "name": "Species",
         "rawType": "object",
         "type": "string"
        },
        {
         "name": "Opsin_Family",
         "rawType": "object",
         "type": "string"
        },
        {
         "name": "Phylum",
         "rawType": "object",
         "type": "string"
        },
        {
         "name": "Class",
         "rawType": "object",
         "type": "string"
        },
        {
         "name": "Accession",
         "rawType": "object",
         "type": "string"
        },
        {
         "name": "Mutations",
         "rawType": "object",
         "type": "string"
        },
        {
         "name": "Protein",
         "rawType": "object",
         "type": "string"
        },
        {
         "name": "RefId",
         "rawType": "float64",
         "type": "float"
        }
       ],
       "conversionMethod": "pd.DataFrame",
       "ref": "f9110e2c-ad3c-4679-bfff-fe5c56fabf99",
       "rows": [
        [
         "M1",
         "503.8",
         "Tachyglossus_aculeatus",
         "Rh1",
         "Chordata",
         "Mammalia",
         "JX103830_N83D",
         "N83D",
         "MNGTEGQDFYIPMSNKTGIVRSPFEYPQYYLAEPWQYSVLAAYMFMLIMLGFPINFLTLYVTIQHKKLRTPLNYILLNLAFADHFMVLGGFTTTLYTSLHGYFVFGPTGCNIEGFFATLGGEIALWSLVVLAIERYIVVCKPMSNFRFGENHAIMGVTFTWIMALACAFPPLVGWSRYIPEGMQCSCGIDYYTLKPEVNNESFVIYMFVVHFTIPMTIIFFCYGRLVFTVKEAAAQQQESATTQKAEKEVTRMVIIMVIAFLICWVPYASVAFYIFTHQGSNFGPIFMTAPAFFAKSSAIYNPVIYIMMNKQFRNCMLTTICCGKNPLGDDEASATASKTEQSSVSTSQVSPA",
         "116.0"
        ],
        [
         "M2",
         "498.0",
         "Tachyglossus_aculeatus",
         "Rh1",
         "Chordata",
         "Mammalia",
         "JX103830_T158A",
         "T158A",
         "MNGTEGQDFYIPMSNKTGIVRSPFEYPQYYLAEPWQYSVLAAYMFMLIMLGFPINFLTLYVTIQHKKLRTPLNYILLNLAFANHFMVLGGFTTTLYTSLHGYFVFGPTGCNIEGFFATLGGEIALWSLVVLAIERYIVVCKPMSNFRFGENHAIMGVAFTWIMALACAFPPLVGWSRYIPEGMQCSCGIDYYTLKPEVNNESFVIYMFVVHFTIPMTIIFFCYGRLVFTVKEAAAQQQESATTQKAEKEVTRMVIIMVIAFLICWVPYASVAFYIFTHQGSNFGPIFMTAPAFFAKSSAIYNPVIYIMMNKQFRNCMLTTICCGKNPLGDDEASATASKTEQSSVSTSQVSPA",
         "116.0"
        ],
        [
         "M3",
         "499.4",
         "Tachyglossus_aculeatus",
         "Rh1",
         "Chordata",
         "Mammalia",
         "JX103830_F169A",
         "F169A",
         "MNGTEGQDFYIPMSNKTGIVRSPFEYPQYYLAEPWQYSVLAAYMFMLIMLGFPINFLTLYVTIQHKKLRTPLNYILLNLAFANHFMVLGGFTTTLYTSLHGYFVFGPTGCNIEGFFATLGGEIALWSLVVLAIERYIVVCKPMSNFRFGENHAIMGVTFTWIMALACAAPPLVGWSRYIPEGMQCSCGIDYYTLKPEVNNESFVIYMFVVHFTIPMTIIFFCYGRLVFTVKEAAAQQQESATTQKAEKEVTRMVIIMVIAFLICWVPYASVAFYIFTHQGSNFGPIFMTAPAFFAKSSAIYNPVIYIMMNKQFRNCMLTTICCGKNPLGDDEASATASKTEQSSVSTSQVSPA",
         "116.0"
        ],
        [
         "M4",
         "501.5",
         "Bos_taurus",
         "Rh1",
         "Chordata",
         "Mammalia",
         "NM_001014890_D83G",
         "D83G",
         "MNGTEGPNFYVPFSNKTGVVRSPFEAPQYYLAEPWQFSMLAAYMFLLIMLGFPINFLTLYVTVQHKKLRTPLNYILLNLAVAGLFMVFGGFTTTLYTSLHGYFVFGPTGCNLEGFFATLGGEIALWSLVVLAIERYVVVCKPMSNFRFGENHAIMGVAFTWVMALACAAPPLVGWSRYIPEGMQCSCGIDYYTPHEETNNESFVIYMFVVHFIIPLIVIFFCYGQLVFTVKEAAAQQQESATTQKAEKEVTRMVIIMVIAFLICWLPYAGVAFYIFTHQGSDFGPIFMTIPAFFAKTSAVYNPVIYIMMNKQFRNCMVTTLCCGKNPLGDDEASTTVSKTETSQVAPA",
         "117.0"
        ],
        [
         "M5",
         "493.8333333333333",
         "Bos_taurus",
         "Rh1",
         "Chordata",
         "Mammalia",
         "NM_001014890_D83N",
         "D83N",
         "MNGTEGPNFYVPFSNKTGVVRSPFEAPQYYLAEPWQFSMLAAYMFLLIMLGFPINFLTLYVTVQHKKLRTPLNYILLNLAVANLFMVFGGFTTTLYTSLHGYFVFGPTGCNLEGFFATLGGEIALWSLVVLAIERYVVVCKPMSNFRFGENHAIMGVAFTWVMALACAAPPLVGWSRYIPEGMQCSCGIDYYTPHEETNNESFVIYMFVVHFIIPLIVIFFCYGQLVFTVKEAAAQQQESATTQKAEKEVTRMVIIMVIAFLICWLPYAGVAFYIFTHQGSDFGPIFMTIPAFFAKTSAVYNPVIYIMMNKQFRNCMVTTLCCGKNPLGDDEASTTVSKTETSQVAPA",
         "117.0"
        ]
       ],
       "shape": {
        "columns": 9,
        "rows": 5
       }
      },
      "text/html": [
       "<div>\n",
       "<style scoped>\n",
       "    .dataframe tbody tr th:only-of-type {\n",
       "        vertical-align: middle;\n",
       "    }\n",
       "\n",
       "    .dataframe tbody tr th {\n",
       "        vertical-align: top;\n",
       "    }\n",
       "\n",
       "    .dataframe thead th {\n",
       "        text-align: right;\n",
       "    }\n",
       "</style>\n",
       "<table border=\"1\" class=\"dataframe\">\n",
       "  <thead>\n",
       "    <tr style=\"text-align: right;\">\n",
       "      <th></th>\n",
       "      <th>Lambda_Max</th>\n",
       "      <th>Species</th>\n",
       "      <th>Opsin_Family</th>\n",
       "      <th>Phylum</th>\n",
       "      <th>Class</th>\n",
       "      <th>Accession</th>\n",
       "      <th>Mutations</th>\n",
       "      <th>Protein</th>\n",
       "      <th>RefId</th>\n",
       "    </tr>\n",
       "    <tr>\n",
       "      <th>Seq_Id</th>\n",
       "      <th></th>\n",
       "      <th></th>\n",
       "      <th></th>\n",
       "      <th></th>\n",
       "      <th></th>\n",
       "      <th></th>\n",
       "      <th></th>\n",
       "      <th></th>\n",
       "      <th></th>\n",
       "    </tr>\n",
       "  </thead>\n",
       "  <tbody>\n",
       "    <tr>\n",
       "      <th>M1</th>\n",
       "      <td>503.800000</td>\n",
       "      <td>Tachyglossus_aculeatus</td>\n",
       "      <td>Rh1</td>\n",
       "      <td>Chordata</td>\n",
       "      <td>Mammalia</td>\n",
       "      <td>JX103830_N83D</td>\n",
       "      <td>N83D</td>\n",
       "      <td>MNGTEGQDFYIPMSNKTGIVRSPFEYPQYYLAEPWQYSVLAAYMFM...</td>\n",
       "      <td>116.0</td>\n",
       "    </tr>\n",
       "    <tr>\n",
       "      <th>M2</th>\n",
       "      <td>498.000000</td>\n",
       "      <td>Tachyglossus_aculeatus</td>\n",
       "      <td>Rh1</td>\n",
       "      <td>Chordata</td>\n",
       "      <td>Mammalia</td>\n",
       "      <td>JX103830_T158A</td>\n",
       "      <td>T158A</td>\n",
       "      <td>MNGTEGQDFYIPMSNKTGIVRSPFEYPQYYLAEPWQYSVLAAYMFM...</td>\n",
       "      <td>116.0</td>\n",
       "    </tr>\n",
       "    <tr>\n",
       "      <th>M3</th>\n",
       "      <td>499.400000</td>\n",
       "      <td>Tachyglossus_aculeatus</td>\n",
       "      <td>Rh1</td>\n",
       "      <td>Chordata</td>\n",
       "      <td>Mammalia</td>\n",
       "      <td>JX103830_F169A</td>\n",
       "      <td>F169A</td>\n",
       "      <td>MNGTEGQDFYIPMSNKTGIVRSPFEYPQYYLAEPWQYSVLAAYMFM...</td>\n",
       "      <td>116.0</td>\n",
       "    </tr>\n",
       "    <tr>\n",
       "      <th>M4</th>\n",
       "      <td>501.500000</td>\n",
       "      <td>Bos_taurus</td>\n",
       "      <td>Rh1</td>\n",
       "      <td>Chordata</td>\n",
       "      <td>Mammalia</td>\n",
       "      <td>NM_001014890_D83G</td>\n",
       "      <td>D83G</td>\n",
       "      <td>MNGTEGPNFYVPFSNKTGVVRSPFEAPQYYLAEPWQFSMLAAYMFL...</td>\n",
       "      <td>117.0</td>\n",
       "    </tr>\n",
       "    <tr>\n",
       "      <th>M5</th>\n",
       "      <td>493.833333</td>\n",
       "      <td>Bos_taurus</td>\n",
       "      <td>Rh1</td>\n",
       "      <td>Chordata</td>\n",
       "      <td>Mammalia</td>\n",
       "      <td>NM_001014890_D83N</td>\n",
       "      <td>D83N</td>\n",
       "      <td>MNGTEGPNFYVPFSNKTGVVRSPFEAPQYYLAEPWQFSMLAAYMFL...</td>\n",
       "      <td>117.0</td>\n",
       "    </tr>\n",
       "  </tbody>\n",
       "</table>\n",
       "</div>"
      ],
      "text/plain": [
       "        Lambda_Max                 Species Opsin_Family    Phylum     Class  \\\n",
       "Seq_Id                                                                        \n",
       "M1      503.800000  Tachyglossus_aculeatus          Rh1  Chordata  Mammalia   \n",
       "M2      498.000000  Tachyglossus_aculeatus          Rh1  Chordata  Mammalia   \n",
       "M3      499.400000  Tachyglossus_aculeatus          Rh1  Chordata  Mammalia   \n",
       "M4      501.500000              Bos_taurus          Rh1  Chordata  Mammalia   \n",
       "M5      493.833333              Bos_taurus          Rh1  Chordata  Mammalia   \n",
       "\n",
       "                Accession Mutations  \\\n",
       "Seq_Id                                \n",
       "M1          JX103830_N83D      N83D   \n",
       "M2         JX103830_T158A     T158A   \n",
       "M3         JX103830_F169A     F169A   \n",
       "M4      NM_001014890_D83G      D83G   \n",
       "M5      NM_001014890_D83N      D83N   \n",
       "\n",
       "                                                  Protein  RefId  \n",
       "Seq_Id                                                            \n",
       "M1      MNGTEGQDFYIPMSNKTGIVRSPFEYPQYYLAEPWQYSVLAAYMFM...  116.0  \n",
       "M2      MNGTEGQDFYIPMSNKTGIVRSPFEYPQYYLAEPWQYSVLAAYMFM...  116.0  \n",
       "M3      MNGTEGQDFYIPMSNKTGIVRSPFEYPQYYLAEPWQYSVLAAYMFM...  116.0  \n",
       "M4      MNGTEGPNFYVPFSNKTGVVRSPFEAPQYYLAEPWQFSMLAAYMFL...  117.0  \n",
       "M5      MNGTEGPNFYVPFSNKTGVVRSPFEAPQYYLAEPWQFSMLAAYMFL...  117.0  "
      ]
     },
     "execution_count": 176,
     "metadata": {},
     "output_type": "execute_result"
    }
   ],
   "source": [
    "mut_meta.head()"
   ]
  },
  {
   "cell_type": "code",
   "execution_count": 177,
   "metadata": {},
   "outputs": [],
   "source": [
    "aap_test['Abs_Err'] = abs(mut_meta['Lambda_Max']-aap_test['Prediction_Medians'])\n",
    "oh_test['Abs_Err'] = abs(mut_meta['Lambda_Max']-oh_test['Prediction_Medians'])\n",
    "\n",
    "aap_test['Sqr_Err'] = aap_test['Abs_Err']**2\n",
    "oh_test['Sqr_Err'] = oh_test['Abs_Err']**2"
   ]
  },
  {
   "cell_type": "code",
   "execution_count": 178,
   "metadata": {},
   "outputs": [
    {
     "data": {
      "application/vnd.microsoft.datawrangler.viewer.v0+json": {
       "columns": [
        {
         "name": "Names",
         "rawType": "object",
         "type": "string"
        },
        {
         "name": "Single_Prediction",
         "rawType": "float64",
         "type": "float"
        },
        {
         "name": "Prediction_Means",
         "rawType": "float64",
         "type": "float"
        },
        {
         "name": "Prediction_Medians",
         "rawType": "float64",
         "type": "float"
        },
        {
         "name": "Prediction_Lower_Bounds",
         "rawType": "float64",
         "type": "float"
        },
        {
         "name": "Prediction_Upper_Bounds",
         "rawType": "float64",
         "type": "float"
        },
        {
         "name": "Std_Deviation",
         "rawType": "float64",
         "type": "float"
        },
        {
         "name": "%Identity_Nearest_VPOD_Sequence",
         "rawType": "object",
         "type": "string"
        },
        {
         "name": "Sequence_Length",
         "rawType": "int64",
         "type": "integer"
        },
        {
         "name": "Lmax_Hex_Color",
         "rawType": "object",
         "type": "string"
        },
        {
         "name": "Abs_Err",
         "rawType": "float64",
         "type": "float"
        },
        {
         "name": "Sqr_Err",
         "rawType": "float64",
         "type": "float"
        }
       ],
       "conversionMethod": "pd.DataFrame",
       "ref": "8ea16ecf-7e45-4138-905c-8f83f88a6492",
       "rows": [
        [
         "M1",
         "499.8",
         "498.2",
         "498.6",
         "493.0",
         "500.1",
         "1.7",
         "-",
         "353",
         "#00ffa7",
         "5.199999999999989",
         "27.039999999999882"
        ],
        [
         "M2",
         "498.4",
         "496.9",
         "497.5",
         "492.6",
         "498.6",
         "1.5",
         "-",
         "353",
         "#00ffb6",
         "0.5",
         "0.25"
        ],
        [
         "M3",
         "497.8",
         "497.7",
         "498.2",
         "493.1",
         "499.9",
         "1.6",
         "-",
         "353",
         "#00ffad",
         "1.1999999999999886",
         "1.4399999999999726"
        ],
        [
         "M4",
         "499.3",
         "498.7",
         "498.8",
         "494.5",
         "502.3",
         "1.6",
         "-",
         "348",
         "#00ffa2",
         "2.6999999999999886",
         "7.289999999999939"
        ],
        [
         "M5",
         "499.3",
         "498.6",
         "498.7",
         "494.4",
         "502.3",
         "1.6",
         "-",
         "348",
         "#00ffa3",
         "4.866666666666674",
         "23.68444444444452"
        ]
       ],
       "shape": {
        "columns": 11,
        "rows": 5
       }
      },
      "text/html": [
       "<div>\n",
       "<style scoped>\n",
       "    .dataframe tbody tr th:only-of-type {\n",
       "        vertical-align: middle;\n",
       "    }\n",
       "\n",
       "    .dataframe tbody tr th {\n",
       "        vertical-align: top;\n",
       "    }\n",
       "\n",
       "    .dataframe thead th {\n",
       "        text-align: right;\n",
       "    }\n",
       "</style>\n",
       "<table border=\"1\" class=\"dataframe\">\n",
       "  <thead>\n",
       "    <tr style=\"text-align: right;\">\n",
       "      <th></th>\n",
       "      <th>Single_Prediction</th>\n",
       "      <th>Prediction_Means</th>\n",
       "      <th>Prediction_Medians</th>\n",
       "      <th>Prediction_Lower_Bounds</th>\n",
       "      <th>Prediction_Upper_Bounds</th>\n",
       "      <th>Std_Deviation</th>\n",
       "      <th>%Identity_Nearest_VPOD_Sequence</th>\n",
       "      <th>Sequence_Length</th>\n",
       "      <th>Lmax_Hex_Color</th>\n",
       "      <th>Abs_Err</th>\n",
       "      <th>Sqr_Err</th>\n",
       "    </tr>\n",
       "    <tr>\n",
       "      <th>Names</th>\n",
       "      <th></th>\n",
       "      <th></th>\n",
       "      <th></th>\n",
       "      <th></th>\n",
       "      <th></th>\n",
       "      <th></th>\n",
       "      <th></th>\n",
       "      <th></th>\n",
       "      <th></th>\n",
       "      <th></th>\n",
       "      <th></th>\n",
       "    </tr>\n",
       "  </thead>\n",
       "  <tbody>\n",
       "    <tr>\n",
       "      <th>M1</th>\n",
       "      <td>499.8</td>\n",
       "      <td>498.2</td>\n",
       "      <td>498.6</td>\n",
       "      <td>493.0</td>\n",
       "      <td>500.1</td>\n",
       "      <td>1.7</td>\n",
       "      <td>-</td>\n",
       "      <td>353</td>\n",
       "      <td>#00ffa7</td>\n",
       "      <td>5.200000</td>\n",
       "      <td>27.040000</td>\n",
       "    </tr>\n",
       "    <tr>\n",
       "      <th>M2</th>\n",
       "      <td>498.4</td>\n",
       "      <td>496.9</td>\n",
       "      <td>497.5</td>\n",
       "      <td>492.6</td>\n",
       "      <td>498.6</td>\n",
       "      <td>1.5</td>\n",
       "      <td>-</td>\n",
       "      <td>353</td>\n",
       "      <td>#00ffb6</td>\n",
       "      <td>0.500000</td>\n",
       "      <td>0.250000</td>\n",
       "    </tr>\n",
       "    <tr>\n",
       "      <th>M3</th>\n",
       "      <td>497.8</td>\n",
       "      <td>497.7</td>\n",
       "      <td>498.2</td>\n",
       "      <td>493.1</td>\n",
       "      <td>499.9</td>\n",
       "      <td>1.6</td>\n",
       "      <td>-</td>\n",
       "      <td>353</td>\n",
       "      <td>#00ffad</td>\n",
       "      <td>1.200000</td>\n",
       "      <td>1.440000</td>\n",
       "    </tr>\n",
       "    <tr>\n",
       "      <th>M4</th>\n",
       "      <td>499.3</td>\n",
       "      <td>498.7</td>\n",
       "      <td>498.8</td>\n",
       "      <td>494.5</td>\n",
       "      <td>502.3</td>\n",
       "      <td>1.6</td>\n",
       "      <td>-</td>\n",
       "      <td>348</td>\n",
       "      <td>#00ffa2</td>\n",
       "      <td>2.700000</td>\n",
       "      <td>7.290000</td>\n",
       "    </tr>\n",
       "    <tr>\n",
       "      <th>M5</th>\n",
       "      <td>499.3</td>\n",
       "      <td>498.6</td>\n",
       "      <td>498.7</td>\n",
       "      <td>494.4</td>\n",
       "      <td>502.3</td>\n",
       "      <td>1.6</td>\n",
       "      <td>-</td>\n",
       "      <td>348</td>\n",
       "      <td>#00ffa3</td>\n",
       "      <td>4.866667</td>\n",
       "      <td>23.684444</td>\n",
       "    </tr>\n",
       "  </tbody>\n",
       "</table>\n",
       "</div>"
      ],
      "text/plain": [
       "       Single_Prediction  Prediction_Means  Prediction_Medians  \\\n",
       "Names                                                            \n",
       "M1                 499.8             498.2               498.6   \n",
       "M2                 498.4             496.9               497.5   \n",
       "M3                 497.8             497.7               498.2   \n",
       "M4                 499.3             498.7               498.8   \n",
       "M5                 499.3             498.6               498.7   \n",
       "\n",
       "       Prediction_Lower_Bounds  Prediction_Upper_Bounds  Std_Deviation  \\\n",
       "Names                                                                    \n",
       "M1                       493.0                    500.1            1.7   \n",
       "M2                       492.6                    498.6            1.5   \n",
       "M3                       493.1                    499.9            1.6   \n",
       "M4                       494.5                    502.3            1.6   \n",
       "M5                       494.4                    502.3            1.6   \n",
       "\n",
       "      %Identity_Nearest_VPOD_Sequence  Sequence_Length Lmax_Hex_Color  \\\n",
       "Names                                                                   \n",
       "M1                                  -              353        #00ffa7   \n",
       "M2                                  -              353        #00ffb6   \n",
       "M3                                  -              353        #00ffad   \n",
       "M4                                  -              348        #00ffa2   \n",
       "M5                                  -              348        #00ffa3   \n",
       "\n",
       "        Abs_Err    Sqr_Err  \n",
       "Names                       \n",
       "M1     5.200000  27.040000  \n",
       "M2     0.500000   0.250000  \n",
       "M3     1.200000   1.440000  \n",
       "M4     2.700000   7.290000  \n",
       "M5     4.866667  23.684444  "
      ]
     },
     "execution_count": 178,
     "metadata": {},
     "output_type": "execute_result"
    }
   ],
   "source": [
    "aap_test.head()"
   ]
  },
  {
   "cell_type": "code",
   "execution_count": 179,
   "metadata": {},
   "outputs": [
    {
     "data": {
      "application/vnd.microsoft.datawrangler.viewer.v0+json": {
       "columns": [
        {
         "name": "Names",
         "rawType": "object",
         "type": "string"
        },
        {
         "name": "Single_Prediction",
         "rawType": "float64",
         "type": "float"
        },
        {
         "name": "Prediction_Means",
         "rawType": "float64",
         "type": "float"
        },
        {
         "name": "Prediction_Medians",
         "rawType": "float64",
         "type": "float"
        },
        {
         "name": "Prediction_Lower_Bounds",
         "rawType": "float64",
         "type": "float"
        },
        {
         "name": "Prediction_Upper_Bounds",
         "rawType": "float64",
         "type": "float"
        },
        {
         "name": "Std_Deviation",
         "rawType": "float64",
         "type": "float"
        },
        {
         "name": "%Identity_Nearest_VPOD_Sequence",
         "rawType": "object",
         "type": "string"
        },
        {
         "name": "Sequence_Length",
         "rawType": "int64",
         "type": "integer"
        },
        {
         "name": "Lmax_Hex_Color",
         "rawType": "object",
         "type": "string"
        },
        {
         "name": "Abs_Err",
         "rawType": "float64",
         "type": "float"
        },
        {
         "name": "Sqr_Err",
         "rawType": "float64",
         "type": "float"
        }
       ],
       "conversionMethod": "pd.DataFrame",
       "ref": "dddcc221-dd98-49fe-bece-d655deeab9f4",
       "rows": [
        [
         "M1",
         "498.1",
         "498.1",
         "498.1",
         "494.5",
         "501.1",
         "1.5",
         "-",
         "358",
         "#00ffa8",
         "5.699999999999989",
         "32.48999999999987"
        ],
        [
         "M2",
         "498.1",
         "497.7",
         "497.9",
         "493.6",
         "499.9",
         "1.5",
         "-",
         "358",
         "#00ffad",
         "0.10000000000002274",
         "0.010000000000004547"
        ],
        [
         "M3",
         "498.1",
         "497.8",
         "498.1",
         "493.3",
         "500.1",
         "1.5",
         "-",
         "358",
         "#00ffac",
         "1.2999999999999545",
         "1.6899999999998818"
        ],
        [
         "M4",
         "500.9",
         "500.0",
         "500.0",
         "495.9",
         "504.4",
         "1.8",
         "-",
         "353",
         "#00ff92",
         "1.5",
         "2.25"
        ],
        [
         "M5",
         "500.9",
         "499.6",
         "499.7",
         "494.1",
         "503.8",
         "2.2",
         "-",
         "353",
         "#00ff97",
         "5.866666666666674",
         "34.417777777777864"
        ]
       ],
       "shape": {
        "columns": 11,
        "rows": 5
       }
      },
      "text/html": [
       "<div>\n",
       "<style scoped>\n",
       "    .dataframe tbody tr th:only-of-type {\n",
       "        vertical-align: middle;\n",
       "    }\n",
       "\n",
       "    .dataframe tbody tr th {\n",
       "        vertical-align: top;\n",
       "    }\n",
       "\n",
       "    .dataframe thead th {\n",
       "        text-align: right;\n",
       "    }\n",
       "</style>\n",
       "<table border=\"1\" class=\"dataframe\">\n",
       "  <thead>\n",
       "    <tr style=\"text-align: right;\">\n",
       "      <th></th>\n",
       "      <th>Single_Prediction</th>\n",
       "      <th>Prediction_Means</th>\n",
       "      <th>Prediction_Medians</th>\n",
       "      <th>Prediction_Lower_Bounds</th>\n",
       "      <th>Prediction_Upper_Bounds</th>\n",
       "      <th>Std_Deviation</th>\n",
       "      <th>%Identity_Nearest_VPOD_Sequence</th>\n",
       "      <th>Sequence_Length</th>\n",
       "      <th>Lmax_Hex_Color</th>\n",
       "      <th>Abs_Err</th>\n",
       "      <th>Sqr_Err</th>\n",
       "    </tr>\n",
       "    <tr>\n",
       "      <th>Names</th>\n",
       "      <th></th>\n",
       "      <th></th>\n",
       "      <th></th>\n",
       "      <th></th>\n",
       "      <th></th>\n",
       "      <th></th>\n",
       "      <th></th>\n",
       "      <th></th>\n",
       "      <th></th>\n",
       "      <th></th>\n",
       "      <th></th>\n",
       "    </tr>\n",
       "  </thead>\n",
       "  <tbody>\n",
       "    <tr>\n",
       "      <th>M1</th>\n",
       "      <td>498.1</td>\n",
       "      <td>498.1</td>\n",
       "      <td>498.1</td>\n",
       "      <td>494.5</td>\n",
       "      <td>501.1</td>\n",
       "      <td>1.5</td>\n",
       "      <td>-</td>\n",
       "      <td>358</td>\n",
       "      <td>#00ffa8</td>\n",
       "      <td>5.700000</td>\n",
       "      <td>32.490000</td>\n",
       "    </tr>\n",
       "    <tr>\n",
       "      <th>M2</th>\n",
       "      <td>498.1</td>\n",
       "      <td>497.7</td>\n",
       "      <td>497.9</td>\n",
       "      <td>493.6</td>\n",
       "      <td>499.9</td>\n",
       "      <td>1.5</td>\n",
       "      <td>-</td>\n",
       "      <td>358</td>\n",
       "      <td>#00ffad</td>\n",
       "      <td>0.100000</td>\n",
       "      <td>0.010000</td>\n",
       "    </tr>\n",
       "    <tr>\n",
       "      <th>M3</th>\n",
       "      <td>498.1</td>\n",
       "      <td>497.8</td>\n",
       "      <td>498.1</td>\n",
       "      <td>493.3</td>\n",
       "      <td>500.1</td>\n",
       "      <td>1.5</td>\n",
       "      <td>-</td>\n",
       "      <td>358</td>\n",
       "      <td>#00ffac</td>\n",
       "      <td>1.300000</td>\n",
       "      <td>1.690000</td>\n",
       "    </tr>\n",
       "    <tr>\n",
       "      <th>M4</th>\n",
       "      <td>500.9</td>\n",
       "      <td>500.0</td>\n",
       "      <td>500.0</td>\n",
       "      <td>495.9</td>\n",
       "      <td>504.4</td>\n",
       "      <td>1.8</td>\n",
       "      <td>-</td>\n",
       "      <td>353</td>\n",
       "      <td>#00ff92</td>\n",
       "      <td>1.500000</td>\n",
       "      <td>2.250000</td>\n",
       "    </tr>\n",
       "    <tr>\n",
       "      <th>M5</th>\n",
       "      <td>500.9</td>\n",
       "      <td>499.6</td>\n",
       "      <td>499.7</td>\n",
       "      <td>494.1</td>\n",
       "      <td>503.8</td>\n",
       "      <td>2.2</td>\n",
       "      <td>-</td>\n",
       "      <td>353</td>\n",
       "      <td>#00ff97</td>\n",
       "      <td>5.866667</td>\n",
       "      <td>34.417778</td>\n",
       "    </tr>\n",
       "  </tbody>\n",
       "</table>\n",
       "</div>"
      ],
      "text/plain": [
       "       Single_Prediction  Prediction_Means  Prediction_Medians  \\\n",
       "Names                                                            \n",
       "M1                 498.1             498.1               498.1   \n",
       "M2                 498.1             497.7               497.9   \n",
       "M3                 498.1             497.8               498.1   \n",
       "M4                 500.9             500.0               500.0   \n",
       "M5                 500.9             499.6               499.7   \n",
       "\n",
       "       Prediction_Lower_Bounds  Prediction_Upper_Bounds  Std_Deviation  \\\n",
       "Names                                                                    \n",
       "M1                       494.5                    501.1            1.5   \n",
       "M2                       493.6                    499.9            1.5   \n",
       "M3                       493.3                    500.1            1.5   \n",
       "M4                       495.9                    504.4            1.8   \n",
       "M5                       494.1                    503.8            2.2   \n",
       "\n",
       "      %Identity_Nearest_VPOD_Sequence  Sequence_Length Lmax_Hex_Color  \\\n",
       "Names                                                                   \n",
       "M1                                  -              358        #00ffa8   \n",
       "M2                                  -              358        #00ffad   \n",
       "M3                                  -              358        #00ffac   \n",
       "M4                                  -              353        #00ff92   \n",
       "M5                                  -              353        #00ff97   \n",
       "\n",
       "        Abs_Err    Sqr_Err  \n",
       "Names                       \n",
       "M1     5.700000  32.490000  \n",
       "M2     0.100000   0.010000  \n",
       "M3     1.300000   1.690000  \n",
       "M4     1.500000   2.250000  \n",
       "M5     5.866667  34.417778  "
      ]
     },
     "execution_count": 179,
     "metadata": {},
     "output_type": "execute_result"
    }
   ],
   "source": [
    "oh_test.head()"
   ]
  },
  {
   "cell_type": "code",
   "execution_count": 180,
   "metadata": {},
   "outputs": [
    {
     "name": "stdout",
     "output_type": "stream",
     "text": [
      "AA-Prop R2 = 0.9202524047215236 // Mean Absolute Error (MAE) = 10.428414010232192\n"
     ]
    }
   ],
   "source": [
    "aaprop_r2 = r2_score(mut_meta['Lambda_Max'], aap_test['Prediction_Medians'])\n",
    "aaprop_mae = mean_absolute_error(mut_meta['Lambda_Max'], aap_test['Prediction_Medians'])\n",
    "print(f'AA-Prop R2 = {aaprop_r2} // Mean Absolute Error (MAE) = {aaprop_mae}')"
   ]
  },
  {
   "cell_type": "code",
   "execution_count": 181,
   "metadata": {},
   "outputs": [
    {
     "name": "stdout",
     "output_type": "stream",
     "text": [
      "One-Hot R2 = 0.9232127634868784 // Mean Absolute Error (MAE) = 9.641046831955926\n"
     ]
    }
   ],
   "source": [
    "onehot_r2 = r2_score(mut_meta['Lambda_Max'], oh_test['Prediction_Medians'])\n",
    "onehot_mae = mean_absolute_error(mut_meta['Lambda_Max'], oh_test['Prediction_Medians'])\n",
    "\n",
    "print(f'One-Hot R2 = {onehot_r2} // Mean Absolute Error (MAE) = {onehot_mae}')"
   ]
  },
  {
   "cell_type": "code",
   "execution_count": 182,
   "metadata": {},
   "outputs": [
    {
     "data": {
      "image/png": "[encoded data removed]",
      "text/plain": [
       "<Figure size 640x480 with 1 Axes>"
      ]
     },
     "metadata": {},
     "output_type": "display_data"
    },
    {
     "name": "stdout",
     "output_type": "stream",
     "text": [
      "Shapiro-Wilk Test for AA-Prop Errors: statistic = 0.627007624757413 p-value = 2.838666388248448e-39\n",
      "Shapiro-Wilk Test for One-Hot Errors: statistic = 0.5947382274265339 p-value = 1.9056307360666813e-40\n",
      "Anderson Test for AA-Prop Errors: statistic = 84.67593665342065\n",
      "Anderson Test for One-Hot Errors: statistic = 95.24854751041812\n",
      "Critical Values are: [0.573 0.653 0.783 0.914 1.087]\n"
     ]
    }
   ],
   "source": [
    "\n",
    "import matplotlib.pyplot as plt\n",
    "import scipy.stats as st\n",
    "\n",
    "# Histogram\n",
    "plt.hist(aap_test['Abs_Err'], bins=20, alpha=0.4, label='AA_Prop_Model', color='#41b6c4')\n",
    "#plt.hist(abs(vert_test['Abs_Err']), bins=20, alpha=0.6, label='Vert_Model')\n",
    "plt.hist(oh_test['Abs_Err'], bins=20, alpha=0.8, label='One_Hot_Model', color='orange')\n",
    "plt.xlabel('Prediction Error')\n",
    "plt.ylabel('Frequency')\n",
    "plt.legend()\n",
    "plt.title('Histogram of Prediction Errors')\n",
    "plt.show()\n",
    "\n",
    "# Shapiro-Wilk Test for Normal Distribution\n",
    "statistic, p_value = st.shapiro(abs(aap_test['Abs_Err']))\n",
    "print(\"Shapiro-Wilk Test for AA-Prop Errors: statistic =\", statistic, \"p-value =\", p_value)\n",
    "#statistic, p_value = st.shapiro(abs(vert_test['Abs_Err']))\n",
    "#print(\"Shapiro-Wilk Test for Vert-Model Errors: statistic =\", statistic, \"p-value =\", p_value)\n",
    "statistic, p_value = st.shapiro(abs(oh_test['Abs_Err']))\n",
    "print(\"Shapiro-Wilk Test for One-Hot Errors: statistic =\", statistic, \"p-value =\", p_value)\n",
    "\n",
    "# Anderson Test for Normal Distribution\n",
    "res = st.anderson(abs(aap_test['Abs_Err']))\n",
    "print(\"Anderson Test for AA-Prop Errors: statistic =\", res.statistic)\n",
    "res = st.anderson(abs(oh_test['Abs_Err']))\n",
    "print(\"Anderson Test for One-Hot Errors: statistic =\", res.statistic)\n",
    "\n",
    "print(f\"Critical Values are: {res.critical_values}\")"
   ]
  },
  {
   "cell_type": "code",
   "execution_count": 187,
   "metadata": {},
   "outputs": [
    {
     "name": "stdout",
     "output_type": "stream",
     "text": [
      "Wilcoxn Signed-Rank Test on ALL Mutant Data\n",
      "Wilcoxon Test: Statistic = 206804.5 p-value = 0.9999403498943409 \n",
      "\n",
      "Median of AA-Prop Square-Error = 33.6nm\n",
      "Mean of AA-Prop Square-Error (MSE) = 328.4 // Root Mean Square Error (RMSE) = 18.1nm\n",
      "\n",
      "Median of One-Hot Square-Error = 24.0nm\n",
      "Mean of One-Hot Square-Error (MSE) = 316.2 // Root Mean Square Error (RMSE) = 17.8nm\n"
     ]
    }
   ],
   "source": [
    "import scipy.stats as st\n",
    "import statistics\n",
    "\n",
    "# Perform Wilcoxn Signed-Rank Test on ALL Mutant Data\n",
    "print(\"Wilcoxn Signed-Rank Test on ALL Mutant Data\")\n",
    "\n",
    "statistic, p_value = st.wilcoxon(aap_test['Sqr_Err'], oh_test['Sqr_Err'], alternative='less', zero_method=\"pratt\")\n",
    "print(\"Wilcoxon Test: Statistic =\", statistic, \"p-value =\", p_value, \"\\n\")\n",
    "\n",
    "print(f\"Median of AA-Prop Square-Error = {statistics.median(aap_test['Sqr_Err']):.1f}nm\\nMean of AA-Prop Square-Error (MSE) = {statistics.mean(aap_test['Sqr_Err']):.1f} // Root Mean Square Error (RMSE) = {statistics.sqrt(statistics.mean(aap_test['Sqr_Err'])):.1f}nm\\n\")\n",
    "print(f\"Median of One-Hot Square-Error = {statistics.median(oh_test['Sqr_Err']):.1f}nm\\nMean of One-Hot Square-Error (MSE) = {statistics.mean(oh_test['Sqr_Err']):.1f} // Root Mean Square Error (RMSE) = {statistics.sqrt(statistics.mean(oh_test['Sqr_Err'])):.1f}nm\")"
   ]
  },
  {
   "cell_type": "code",
   "execution_count": 184,
   "metadata": {},
   "outputs": [
    {
     "name": "stderr",
     "output_type": "stream",
     "text": [
      "C:\\Users\\safra\\AppData\\Local\\Temp\\ipykernel_31228\\2268608123.py:52: FutureWarning: Series.__getitem__ treating keys as positions is deprecated. In a future version, integer keys will always be treated as labels (consistent with DataFrame behavior). To access a value by position, use `ser.iloc[pos]`\n",
      "  max_val = max([d[idx] for d in data]) # Find the maximum value in each plot\n"
     ]
    },
    {
     "data": {
      "image/png": "[encoded data removed]",
      "text/plain": [
       "<Figure size 1000x600 with 1 Axes>"
      ]
     },
     "metadata": {},
     "output_type": "display_data"
    },
    {
     "data": {
      "text/plain": [
       "<Figure size 640x480 with 0 Axes>"
      ]
     },
     "metadata": {},
     "output_type": "display_data"
    }
   ],
   "source": [
    "import ptitprince as pt\n",
    "import seaborn as sns\n",
    "import matplotlib.pyplot as plt\n",
    "import pandas as pd\n",
    "import numpy as np\n",
    "\n",
    "\n",
    "fig, ax = plt.subplots(figsize=(10, 6))\n",
    "\n",
    "#palette = sns.color_palette(\"Set2\")\n",
    "palette = ['orange', '#41b6c4']\n",
    "data=[abs(aap_test['Abs_Err']), abs(oh_test['Abs_Err'])]\n",
    "model_names = [\"AA-Prop Model\", \"One-Hot Model\"]\n",
    "\n",
    "\n",
    "# Boxplot data\n",
    "bp = ax.boxplot(data, patch_artist = True, vert = False, showcaps= False, showfliers= False, widths=0.1)\n",
    "\n",
    "# Change to the desired color and add transparency\n",
    "for patch, color in zip(bp['boxes'], palette):\n",
    "    patch.set_facecolor(color)\n",
    "    patch.set_alpha(0.8)\n",
    "for median in bp['medians']:\n",
    "    median.set_color('black')\n",
    "\n",
    "\n",
    "# Violinplot data\n",
    "vp = ax.violinplot(dataset = data,\n",
    "                     showmeans=False, showextrema=False, showmedians=False, vert = False, widths= 0.8)\n",
    "for idx, b in enumerate(vp['bodies']):\n",
    "    # Get the center of the plot\n",
    "    m = np.mean(b.get_paths()[0].vertices[:, 0])\n",
    "    # Modify it so we only see the upper half of the violin plot\n",
    "    b.get_paths()[0].vertices[:, 1] = np.clip(b.get_paths()[0].vertices[:, 1], idx+1, idx+2)\n",
    "    # Change to the desired color\n",
    "    b.set_color(palette[idx])\n",
    "    b.set_alpha(0.6)\n",
    "\n",
    "# Scatterplot data\n",
    "for idx, features in enumerate(data):\n",
    "    # Add jitter effect so the features do not overlap on the y-axis\n",
    "    y = np.full(len(features), idx + .8)\n",
    "    idxs = np.arange(len(y))\n",
    "    out = y.astype(float)\n",
    "    out.flat[idxs] += np.random.uniform(low=-.08, high=.08, size=len(idxs))\n",
    "    y = out\n",
    "    plt.scatter(features, y, s=5, c=palette[idx])\n",
    "\n",
    "# Annotate with model names to the right of the plot\n",
    "top_max = 0\n",
    "for idx, model_name in enumerate(model_names):\n",
    "    max_val = max([d[idx] for d in data]) # Find the maximum value in each plot\n",
    "    if max_val > top_max:\n",
    "        top_max = max_val\n",
    "for idx, model_name in enumerate(model_names):\n",
    "    ax.text((max_val+1)*30, idx + 1.3, model_name, va='center')\n",
    "\n",
    "# Customize axis labels\n",
    "plt.rcParams['font.family'] = 'Century Gothic'\n",
    "plt.yticks([])\n",
    "plt.ylabel('Predictor', fontsize = 15)\n",
    "plt.xlabel('Abs. Error (nm)', fontsize = 15)\n",
    "\n",
    "plt.tight_layout()\n",
    "#save file\n",
    "fileout = 'mut_test_err_rain_plt.png'\n",
    "plt.savefig(fileout, format = 'png', dpi = 300)\n",
    "fileout = 'mut_test_err_rain_plt.svg'\n",
    "plt.savefig(fileout, format='svg', bbox_inches='tight')\n",
    "plt.show()\n",
    "plt.clf()\n",
    "plt.show()"
   ]
  },
  {
   "cell_type": "code",
   "execution_count": 185,
   "metadata": {},
   "outputs": [
    {
     "name": "stderr",
     "output_type": "stream",
     "text": [
      "C:\\Users\\safra\\AppData\\Local\\Temp\\ipykernel_31228\\705800888.py:52: FutureWarning: Series.__getitem__ treating keys as positions is deprecated. In a future version, integer keys will always be treated as labels (consistent with DataFrame behavior). To access a value by position, use `ser.iloc[pos]`\n",
      "  max_val = max([d[idx] for d in data]) # Find the maximum value in each plot\n"
     ]
    },
    {
     "data": {
      "image/png": "[encoded data removed]",
      "text/plain": [
       "<Figure size 1000x600 with 1 Axes>"
      ]
     },
     "metadata": {},
     "output_type": "display_data"
    },
    {
     "data": {
      "text/plain": [
       "<Figure size 640x480 with 0 Axes>"
      ]
     },
     "metadata": {},
     "output_type": "display_data"
    }
   ],
   "source": [
    "import ptitprince as pt\n",
    "import seaborn as sns\n",
    "import matplotlib.pyplot as plt\n",
    "import pandas as pd\n",
    "import numpy as np\n",
    "\n",
    "\n",
    "fig, ax = plt.subplots(figsize=(10, 6))\n",
    "\n",
    "#palette = sns.color_palette(\"Set2\")\n",
    "palette = ['orange','#41b6c4','purple']\n",
    "data=[aap_test['Abs_Err']-oh_test['Abs_Err']]\n",
    "model_names = [\"AA-Prop vs. One-Hot\"]\n",
    "\n",
    "\n",
    "# Boxplot data\n",
    "bp = ax.boxplot(data, patch_artist = True, vert = False, showcaps= False, showfliers= False, widths=0.1)\n",
    "\n",
    "# Change to the desired color and add transparency\n",
    "for patch, color in zip(bp['boxes'], palette):\n",
    "    patch.set_facecolor(color)\n",
    "    patch.set_alpha(0.8)\n",
    "for median in bp['medians']:\n",
    "    median.set_color('black')\n",
    "\n",
    "\n",
    "# Violinplot data\n",
    "vp = ax.violinplot(dataset = data,\n",
    "                     showmeans=False, showextrema=False, showmedians=False, vert = False, widths= 0.8)\n",
    "for idx, b in enumerate(vp['bodies']):\n",
    "    # Get the center of the plot\n",
    "    m = np.mean(b.get_paths()[0].vertices[:, 0])\n",
    "    # Modify it so we only see the upper half of the violin plot\n",
    "    b.get_paths()[0].vertices[:, 1] = np.clip(b.get_paths()[0].vertices[:, 1], idx+1, idx+2)\n",
    "    # Change to the desired color\n",
    "    b.set_color(palette[idx])\n",
    "    b.set_alpha(0.6)\n",
    "\n",
    "# Scatterplot data\n",
    "for idx, features in enumerate(data):\n",
    "    # Add jitter effect so the features do not overlap on the y-axis\n",
    "    y = np.full(len(features), idx + .8)\n",
    "    idxs = np.arange(len(y))\n",
    "    out = y.astype(float)\n",
    "    out.flat[idxs] += np.random.uniform(low=-.08, high=.08, size=len(idxs))\n",
    "    y = out\n",
    "    plt.scatter(features, y, s=5, c=palette[idx])\n",
    "\n",
    "# Annotate with model names to the right of the plot\n",
    "top_max = 0\n",
    "for idx, model_name in enumerate(model_names):\n",
    "    max_val = max([d[idx] for d in data]) # Find the maximum value in each plot\n",
    "    if max_val > top_max:\n",
    "        top_max = max_val\n",
    "for idx, model_name in enumerate(model_names):\n",
    "    ax.text((-max_val-0.1)*30, idx + 1.3, model_name, va='center', fontsize = 15)\n",
    "\n",
    "# Customize axis labels\n",
    "plt.rcParams['font.family'] = 'Century Gothic'\n",
    "#plt.yticks([1, 2, 3], [\"WDS-epi-Predictions\", \"WT-Predictions\", \"Additive-Predictions\"])\n",
    "plt.yticks([])\n",
    "plt.ylabel('Predictors Compared', fontsize = 15)\n",
    "plt.xlabel('Abs. Error Diffs. (nm)', fontsize = 15)\n",
    "\n",
    "\n",
    "plt.tight_layout()\n",
    "#save file\n",
    "fileout = 'mut_test_comp_err_rain_plt.png'\n",
    "plt.savefig(fileout, format = 'png', dpi = 300)\n",
    "fileout = 'mut_test_comp_err_rain_plt.svg'\n",
    "plt.savefig(fileout, format='svg', bbox_inches='tight')\n",
    "plt.show()\n",
    "plt.clf()\n",
    "plt.show()"
   ]
  }
 ],
 "metadata": {
  "kernelspec": {
   "display_name": "deepBreaks_env_6_11_24",
   "language": "python",
   "name": "python3"
  },
  "language_info": {
   "codemirror_mode": {
    "name": "ipython",
    "version": 3
   },
   "file_extension": ".py",
   "mimetype": "text/x-python",
   "name": "python",
   "nbconvert_exporter": "python",
   "pygments_lexer": "ipython3",
   "version": "3.9.19"
  }
 },
 "nbformat": 4,
 "nbformat_minor": 2
}
