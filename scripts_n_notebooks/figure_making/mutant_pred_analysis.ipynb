{
 "cells": [
  {
   "cell_type": "code",
   "execution_count": 1,
   "metadata": {},
   "outputs": [],
   "source": [
    "from deepBreaks.preprocessing import read_data\n",
    "import pandas as pd\n",
    "\n",
    "WdstestFileName = f\"wds_itr_test_results.csv\"\n",
    "VerttestFileName = f\"vert_itr_test_results.csv\"\n",
    "WTtestFileName = f\"wt_all_muts_pred_results.csv\"\n",
    "\n",
    "wds_test = read_data(WdstestFileName, seq_type = None, is_main=False)\n",
    "vert_test = read_data(VerttestFileName, seq_type = None, is_main=False)\n",
    "wt_test = read_data(WTtestFileName, seq_type = None, is_main=False)"
   ]
  },
  {
   "cell_type": "code",
   "execution_count": 2,
   "metadata": {},
   "outputs": [],
   "source": [
    "wds_test['Sqr_Err'] = wds_test['Difference']**2\n",
    "vert_test['Sqr_Err'] = vert_test['Difference']**2\n",
    "wt_test['Sqr_Err'] = wt_test['Difference']**2\n",
    "\n",
    "wds_test = wds_test.sort_values('Accession')\n",
    "vert_test = vert_test.sort_values('Accession')\n",
    "wt_test = wt_test.sort_values('Accession')"
   ]
  },
  {
   "cell_type": "code",
   "execution_count": 15,
   "metadata": {},
   "outputs": [
    {
     "data": {
      "image/png": "[encoded data removed]",
      "text/plain": [
       "<Figure size 640x480 with 1 Axes>"
      ]
     },
     "metadata": {},
     "output_type": "display_data"
    },
    {
     "name": "stdout",
     "output_type": "stream",
     "text": [
      "Shapiro-Wilk Test for WDS-Model Errors: statistic = 0.5535789132118225 p-value = 4.298469026331733e-40\n",
      "Shapiro-Wilk Test for WT-Model Errors: statistic = 0.6239717602729797 p-value = 1.0416006188676827e-37\n",
      "Anderson Test for WDS-Model Errors: statistic = 93.92014114817766\n",
      "Anderson Test for WT-Model Errors: statistic = 86.06121443823088\n",
      "Critical Values are: [0.573 0.653 0.783 0.913 1.086]\n"
     ]
    }
   ],
   "source": [
    "\n",
    "import matplotlib.pyplot as plt\n",
    "import scipy.stats as st\n",
    "# ... (your existing code to calculate errors_model1 and errors_model2)\n",
    "\n",
    "# Histogram\n",
    "plt.hist(abs(wds_test['Difference']), bins=20, alpha=0.4, label='WDS_Model', color='#41b6c4')\n",
    "#plt.hist(abs(vert_test['Difference']), bins=20, alpha=0.6, label='Vert_Model')\n",
    "plt.hist(abs(wt_test['Difference']), bins=20, alpha=0.8, label='WT_Model', color='orange')\n",
    "plt.xlabel('Prediction Error')\n",
    "plt.ylabel('Frequency')\n",
    "plt.legend()\n",
    "plt.title('Histogram of Prediction Errors')\n",
    "plt.show()\n",
    "\n",
    "# Shapiro-Wilk Test for Normal Distribution\n",
    "statistic, p_value = st.shapiro(abs(wds_test['Difference']))\n",
    "print(\"Shapiro-Wilk Test for WDS-Model Errors: statistic =\", statistic, \"p-value =\", p_value)\n",
    "#statistic, p_value = st.shapiro(abs(vert_test['Difference']))\n",
    "#print(\"Shapiro-Wilk Test for Vert-Model Errors: statistic =\", statistic, \"p-value =\", p_value)\n",
    "statistic, p_value = st.shapiro(abs(wt_test['Difference']))\n",
    "print(\"Shapiro-Wilk Test for WT-Model Errors: statistic =\", statistic, \"p-value =\", p_value)\n",
    "\n",
    "# Anderson Test for Normal Distribution\n",
    "res = st.anderson(abs(wds_test['Difference']))\n",
    "print(\"Anderson Test for WDS-Model Errors: statistic =\", res.statistic)\n",
    "res = st.anderson(abs(wt_test['Difference']))\n",
    "print(\"Anderson Test for WT-Model Errors: statistic =\", res.statistic)\n",
    "\n",
    "print(f\"Critical Values are: {res.critical_values}\")"
   ]
  },
  {
   "cell_type": "code",
   "execution_count": 34,
   "metadata": {},
   "outputs": [
    {
     "name": "stdout",
     "output_type": "stream",
     "text": [
      "Wilcoxn Signed-Rank Test on ALL Mutant Data\n",
      "Wilcoxon Test: Statistic = 87309.0 p-value = 9.961106150284884e-22 \n",
      "\n",
      "Median of WDS-Model Square-Error = 10.5nm\n",
      "Mean of WDS-Model Square-Error (MSE) = 157.9 // Root Mean Square Error (RMSE) = 12.6nm\n",
      "\n",
      "Median of WT-Model Square-Error = 28.5nm\n",
      "Mean of WDS-Model Square-Error (MSE) = 310.3 // Root Mean Square Error (RMSE) = 17.6nm\n"
     ]
    }
   ],
   "source": [
    "import scipy.stats as st\n",
    "import statistics\n",
    "\n",
    "# Perform Wilcoxn Signed-Rank Test on ALL Mutant Data\n",
    "print(\"Wilcoxn Signed-Rank Test on ALL Mutant Data\")\n",
    "\n",
    "statistic, p_value = st.wilcoxon(wds_test['Sqr_Err'], wt_test['Sqr_Err'], alternative='less')\n",
    "print(\"Wilcoxon Test: Statistic =\", statistic, \"p-value =\", p_value, \"\\n\")\n",
    "\n",
    "print(f\"Median of WDS-Model Square-Error = {statistics.median(wds_test['Sqr_Err']):.1f}nm\\nMean of WDS-Model Square-Error (MSE) = {statistics.mean(wds_test['Sqr_Err']):.1f} // Root Mean Square Error (RMSE) = {statistics.sqrt(statistics.mean(wds_test['Sqr_Err'])):.1f}nm\\n\")\n",
    "print(f\"Median of WT-Model Square-Error = {statistics.median(wt_test['Sqr_Err']):.1f}nm\\nMean of WDS-Model Square-Error (MSE) = {statistics.mean(wt_test['Sqr_Err']):.1f} // Root Mean Square Error (RMSE) = {statistics.sqrt(statistics.mean(wt_test['Sqr_Err'])):.1f}nm\")"
   ]
  },
  {
   "cell_type": "code",
   "execution_count": 35,
   "metadata": {},
   "outputs": [],
   "source": [
    "wds_lrgshift_test = wds_test[wds_test['EdgeColors'] == '#762a83']\n",
    "wt_lrgshift_test = wt_test[wt_test['Edge_Colors'] == '#762a83']"
   ]
  },
  {
   "cell_type": "code",
   "execution_count": 36,
   "metadata": {},
   "outputs": [
    {
     "name": "stdout",
     "output_type": "stream",
     "text": [
      "Wilcoxn Signed-Rank Test on LARGE-SHIFT (>10nm) Mutant Data\n",
      "Wilcoxon Test: Statistic = 10802.0 p-value = 2.887467622944963e-25 \n",
      "\n",
      "Median of WDS-Model Square-Error = 20.1nm\n",
      "Mean of WDS-Model Square-Error (MSE) = 289.2 // Root Mean Square Error (RMSE) = 17.0nm\n",
      "\n",
      "Median of WT-Model Square-Error = 105.0nm\n",
      "Mean of WDS-Model Square-Error (MSE) = 585.1 // Root Mean Square Error (RMSE) = 24.2nm\n"
     ]
    }
   ],
   "source": [
    "# Perform Wilcoxn Signed-Rank Test on LARGE-SHIFT (>10nm) Mutant Data\n",
    "print(\"Wilcoxn Signed-Rank Test on LARGE-SHIFT (>10nm) Mutant Data\")\n",
    "\n",
    "statistic, p_value = st.wilcoxon(wds_lrgshift_test['Sqr_Err'], wt_lrgshift_test['Sqr_Err'], alternative='less')\n",
    "print(\"Wilcoxon Test: Statistic =\", statistic, \"p-value =\", p_value, \"\\n\")\n",
    "\n",
    "print(f\"Median of WDS-Model Square-Error = {statistics.median(wds_lrgshift_test['Sqr_Err']):.1f}nm\\nMean of WDS-Model Square-Error (MSE) = {statistics.mean(wds_lrgshift_test['Sqr_Err']):.1f} // Root Mean Square Error (RMSE) = {statistics.sqrt(statistics.mean(wds_lrgshift_test['Sqr_Err'])):.1f}nm\\n\")\n",
    "print(f\"Median of WT-Model Square-Error = {statistics.median(wt_lrgshift_test['Sqr_Err']):.1f}nm\\nMean of WDS-Model Square-Error (MSE) = {statistics.mean(wt_lrgshift_test['Sqr_Err']):.1f} // Root Mean Square Error (RMSE) = {statistics.sqrt(statistics.mean(wt_lrgshift_test['Sqr_Err'])):.1f}nm\")"
   ]
  },
  {
   "cell_type": "code",
   "execution_count": 53,
   "metadata": {},
   "outputs": [],
   "source": [
    "wds_verts_test = wds_lrgshift_test[wds_lrgshift_test[\"Phylum\"] == 'Chordata']\n",
    "wt_verts_test = wt_lrgshift_test[wt_lrgshift_test[\"Phylum\"] == 'Chordata']\n"
   ]
  },
  {
   "cell_type": "code",
   "execution_count": 54,
   "metadata": {},
   "outputs": [
    {
     "name": "stdout",
     "output_type": "stream",
     "text": [
      "Wilcoxn Signed-Rank Test on LARGE-SHIFT (>10nm) Vertebrate Mutant Data\n",
      "Wilcoxon Test: Statistic = 7976.0 p-value = 4.742997846725659e-21 \n",
      "\n",
      "Median of WDS-Model Square-Error = 15.1nm\n",
      "Mean of WDS-Model Square-Error (MSE) = 177.7 // Root Mean Square Error (RMSE) = 13.3nm\n",
      "\n",
      "Median of WT-Model Square-Error = 95.8nm\n",
      "Mean of WT-Model Square-Error (MSE) = 336.1 // Root Mean Square Error (RMSE) = 18.3nm\n"
     ]
    }
   ],
   "source": [
    "# Perform Wilcoxn Signed-Rank Test on LARGE-SHIFT (>10nm) Vertebrate Mutant Data\n",
    "print(\"Wilcoxn Signed-Rank Test on LARGE-SHIFT (>10nm) Vertebrate Mutant Data\")\n",
    "\n",
    "statistic, p_value = st.wilcoxon(wds_verts_test['Sqr_Err'], wt_verts_test['Sqr_Err'], alternative='less')\n",
    "print(\"Wilcoxon Test: Statistic =\", statistic, \"p-value =\", p_value, \"\\n\")\n",
    "\n",
    "print(f\"Median of WDS-Model Square-Error = {statistics.median(wds_verts_test['Sqr_Err']):.1f}nm\\nMean of WDS-Model Square-Error (MSE) = {statistics.mean(wds_verts_test['Sqr_Err']):.1f} // Root Mean Square Error (RMSE) = {statistics.sqrt(statistics.mean(wds_verts_test['Sqr_Err'])):.1f}nm\\n\")\n",
    "print(f\"Median of WT-Model Square-Error = {statistics.median(wt_verts_test['Sqr_Err']):.1f}nm\\nMean of WT-Model Square-Error (MSE) = {statistics.mean(wt_verts_test['Sqr_Err']):.1f} // Root Mean Square Error (RMSE) = {statistics.sqrt(statistics.mean(wt_verts_test['Sqr_Err'])):.1f}nm\")"
   ]
  },
  {
   "cell_type": "code",
   "execution_count": 45,
   "metadata": {},
   "outputs": [],
   "source": [
    "wds_inverts_test = wds_lrgshift_test[wds_lrgshift_test[\"Phylum\"] != 'Chordata']\n",
    "wt_inverts_test = wt_lrgshift_test[wt_lrgshift_test[\"Phylum\"] != 'Chordata']"
   ]
  },
  {
   "cell_type": "code",
   "execution_count": 51,
   "metadata": {},
   "outputs": [
    {
     "name": "stdout",
     "output_type": "stream",
     "text": [
      "Wilcoxn Signed-Rank Test on LARGE-SHIFT (>10nm) Invertebrate Mutant Data\n",
      "Wilcoxon Test: Statistic = 222.0 p-value = 6.245430592352851e-06 \n",
      "\n",
      "Median of WDS-Model Square-Error = 77.4nm\n",
      "Mean of WDS-Model Square-Error (MSE) = 905.9 // Root Mean Square Error (RMSE) = 30.1nm\n",
      "\n",
      "Median of WT-Model Square-Error = 140.4nm\n",
      "Mean of WT-Model Square-Error (MSE) = 1961.7 // Root Mean Square Error (RMSE) = 44.3nm\n"
     ]
    }
   ],
   "source": [
    "# Wilcoxn Signed-Rank Test on LARGE-SHIFT (>10nm) Invertebrate Mutant Data\n",
    "print(\"Wilcoxn Signed-Rank Test on LARGE-SHIFT (>10nm) Invertebrate Mutant Data\")\n",
    "\n",
    "statistic, p_value = st.wilcoxon(wds_inverts_test['Sqr_Err'], wt_inverts_test['Sqr_Err'], alternative='less')\n",
    "print(\"Wilcoxon Test: Statistic =\", statistic, \"p-value =\", p_value, \"\\n\")\n",
    "\n",
    "print(f\"Median of WDS-Model Square-Error = {statistics.median(wds_inverts_test['Sqr_Err']):.1f}nm\\nMean of WDS-Model Square-Error (MSE) = {statistics.mean(wds_inverts_test['Sqr_Err']):.1f} // Root Mean Square Error (RMSE) = {statistics.sqrt(statistics.mean(wds_inverts_test['Sqr_Err'])):.1f}nm\\n\")\n",
    "print(f\"Median of WT-Model Square-Error = {statistics.median(wt_inverts_test['Sqr_Err']):.1f}nm\\nMean of WT-Model Square-Error (MSE) = {statistics.mean(wt_inverts_test['Sqr_Err']):.1f} // Root Mean Square Error (RMSE) = {statistics.sqrt(statistics.mean(wt_inverts_test['Sqr_Err'])):.1f}nm\")"
   ]
  },
  {
   "cell_type": "code",
   "execution_count": 55,
   "metadata": {},
   "outputs": [],
   "source": [
    "wds_verts_test = wds_test[wds_test[\"Phylum\"] == 'Chordata']"
   ]
  },
  {
   "cell_type": "code",
   "execution_count": 59,
   "metadata": {},
   "outputs": [
    {
     "name": "stdout",
     "output_type": "stream",
     "text": [
      "Wilcoxn Signed-Rank Test on ALL Vertebrate Mutant Data\n",
      "Wilcoxon Test: Statistic = 96648.0 p-value = 0.024322216344366054 \n",
      "\n",
      "Median of WDS-Model Square-Error = 9.4nm\n",
      "Mean of WDS-Model Square-Error (MSE) = 101.4 // Root Mean Square Error (RMSE) = 10.1nm\n",
      "\n",
      "Median of Vert-Model Square-Error = 11.0nm\n",
      "Mean of Vert-Model Square-Error (MSE) = 116.9 // Root Mean Square Error (RMSE) = 10.8nm\n"
     ]
    }
   ],
   "source": [
    "# Perform Wilcoxn Signed-Rank Test on ALL Vert Mutant Data [WDS vs. Vert Model]\n",
    "print(\"Wilcoxn Signed-Rank Test on ALL Vertebrate Mutant Data\")\n",
    "\n",
    "statistic, p_value = st.wilcoxon(wds_verts_test['Sqr_Err'], vert_test['Sqr_Err'], alternative='less')\n",
    "print(\"Wilcoxon Test: Statistic =\", statistic, \"p-value =\", p_value, \"\\n\")\n",
    "\n",
    "print(f\"Median of WDS-Model Square-Error = {statistics.median(wds_verts_test['Sqr_Err']):.1f}nm\\nMean of WDS-Model Square-Error (MSE) = {statistics.mean(wds_verts_test['Sqr_Err']):.1f} // Root Mean Square Error (RMSE) = {statistics.sqrt(statistics.mean(wds_verts_test['Sqr_Err'])):.1f}nm\\n\")\n",
    "print(f\"Median of Vert-Model Square-Error = {statistics.median(vert_test['Sqr_Err']):.1f}nm\\nMean of Vert-Model Square-Error (MSE) = {statistics.mean(vert_test['Sqr_Err']):.1f} // Root Mean Square Error (RMSE) = {statistics.sqrt(statistics.mean(vert_test['Sqr_Err'])):.1f}nm\")"
   ]
  },
  {
   "cell_type": "code",
   "execution_count": 57,
   "metadata": {},
   "outputs": [],
   "source": [
    "wds_verts_lrgshifts_test = wds_verts_test[wds_verts_test['EdgeColors'] == '#762a83']\n",
    "vert_lrgshifts_test = vert_test[vert_test['EdgeColors'] == '#762a83']"
   ]
  },
  {
   "cell_type": "code",
   "execution_count": 60,
   "metadata": {},
   "outputs": [
    {
     "name": "stdout",
     "output_type": "stream",
     "text": [
      "Wilcoxn Signed-Rank Test on LARGE-SHIFT (>10nm) Vertebrate Mutant Data\n",
      "Wilcoxon Test: Statistic = 18769.0 p-value = 0.02832884021263523 \n",
      "\n",
      "Median of WDS-Model Square-Error = 15.1nm\n",
      "Mean of WDS-Model Square-Error (MSE) = 177.7 // Root Mean Square Error (RMSE) = 13.3nm\n",
      "\n",
      "Median of Vert-Model Square-Error = 24.2nm\n",
      "Mean of Vert-Model Square-Error (MSE) = 219.0 // Root Mean Square Error (RMSE) = 14.8nm\n"
     ]
    }
   ],
   "source": [
    "# Perform Wilcoxn Signed-Rank Test on LARGE-SHIFT (>10nm) Vert Mutant Data [WDS vs. Vert Model]\n",
    "print(\"Wilcoxn Signed-Rank Test on LARGE-SHIFT (>10nm) Vertebrate Mutant Data\")\n",
    "\n",
    "statistic, p_value = st.wilcoxon(wds_verts_lrgshifts_test['Sqr_Err'], vert_lrgshifts_test['Sqr_Err'], alternative='less')\n",
    "print(\"Wilcoxon Test: Statistic =\", statistic, \"p-value =\", p_value, \"\\n\")\n",
    "\n",
    "print(f\"Median of WDS-Model Square-Error = {statistics.median(wds_verts_lrgshifts_test['Sqr_Err']):.1f}nm\\nMean of WDS-Model Square-Error (MSE) = {statistics.mean(wds_verts_lrgshifts_test['Sqr_Err']):.1f} // Root Mean Square Error (RMSE) = {statistics.sqrt(statistics.mean(wds_verts_lrgshifts_test['Sqr_Err'])):.1f}nm\\n\")\n",
    "print(f\"Median of Vert-Model Square-Error = {statistics.median(vert_lrgshifts_test['Sqr_Err']):.1f}nm\\nMean of Vert-Model Square-Error (MSE) = {statistics.mean(vert_lrgshifts_test['Sqr_Err']):.1f} // Root Mean Square Error (RMSE) = {statistics.sqrt(statistics.mean(vert_lrgshifts_test['Sqr_Err'])):.1f}nm\")"
   ]
  }
 ],
 "metadata": {
  "kernelspec": {
   "display_name": "deepBreaks",
   "language": "python",
   "name": "python3"
  },
  "language_info": {
   "codemirror_mode": {
    "name": "ipython",
    "version": 3
   },
   "file_extension": ".py",
   "mimetype": "text/x-python",
   "name": "python",
   "nbconvert_exporter": "python",
   "pygments_lexer": "ipython3",
   "version": "3.9.17"
  }
 },
 "nbformat": 4,
 "nbformat_minor": 2
}
