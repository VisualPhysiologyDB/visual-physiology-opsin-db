{
 "cells": [
  {
   "cell_type": "code",
   "execution_count": 1,
   "metadata": {},
   "outputs": [],
   "source": [
    "import numpy as np\n",
    "import pandas as pd\n",
    "from Bio import Phylo\n",
    "from sklearn.cluster import AgglomerativeClustering\n",
    "from scipy.spatial.distance import squareform, pdist, cdist\n",
    "import random\n",
    "from sklearn.neighbors import kneighbors_graph\n",
    "import matplotlib.pyplot as plt\n",
    "import seaborn as sns\n",
    "\n",
    "\n",
    "\n",
    "def get_dist_matrix_from_tree(tree_file):\n",
    "    \"\"\"\n",
    "    Performs phylogenetic block k-fold cross-validation.\n",
    "\n",
    "    Args:\n",
    "        tree_file (str): Path to the phylogenetic tree file (Newick format).\n",
    "        fold_list (list): List of the number of folds to test.\n",
    "\n",
    "    Returns:\n",
    "        list: List of dictionaries, each containing fold assignments and distance metrics.\n",
    "    \"\"\"\n",
    "\n",
    "    # Load phylogenetic tree\n",
    "    tree = Phylo.read(tree_file, \"newick\")\n",
    "    # Get tip names\n",
    "    tip_names = [terminal.name for terminal in tree.get_terminals()]\n",
    "    #dist_matrix = tree.distance_matrix().values\n",
    "\n",
    "    #Create distance matrix from the tree\n",
    "    dist_matrix = np.zeros((len(tree.get_terminals()), len(tree.get_terminals())))\n",
    "    for i, terminal1 in enumerate(tree.get_terminals()):\n",
    "        for j, terminal2 in enumerate(tree.get_terminals()):\n",
    "            if i < j:  # Only calculate upper triangle to avoid redundancy\n",
    "                dist_matrix[i, j] = tree.distance(terminal1, terminal2)\n",
    "                dist_matrix[j, i] = dist_matrix[i, j]  # Mirror for symmetry\n",
    "    \n",
    "    #tips_for_tr = []\n",
    "    #for names in tip_names:\n",
    "    #    tips_for_tr.append(f'd_{names}')\n",
    "    #print(tips_for_tr)\n",
    "    dist_df =  pd.DataFrame(dist_matrix, index=tip_names, columns=tip_names)\n",
    "\n",
    "            \n",
    "    return dist_df, dist_matrix, tip_names\n"
   ]
  },
  {
   "cell_type": "code",
   "execution_count": 2,
   "metadata": {},
   "outputs": [],
   "source": [
    "tree_file = \"./opsin_wt_tree/vpod_1.1_wt/wt_aligned_VPOD_1.1_het.fasta.treefile\"\n",
    "dist_df, dist_matrix, tip_names = get_dist_matrix_from_tree(tree_file)"
   ]
  },
  {
   "cell_type": "code",
   "execution_count": 13,
   "metadata": {},
   "outputs": [],
   "source": [
    "import numpy as np\n",
    "\n",
    "def phylogenetic_clustering(distance_matrix, n_initial_bins, distance_threshold):\n",
    "    \"\"\"\n",
    "    Clusters terminal leaves of a phylogenetic tree into bins based on distance.\n",
    "\n",
    "    Args:\n",
    "        distance_matrix: A square numpy array representing pairwise distances.\n",
    "        n_initial_bins: The number of initial bins to create with the most distant points.\n",
    "        distance_threshold: The minimum allowable distance for bin assignment.\n",
    "\n",
    "    Returns:\n",
    "        A numpy array of class assignments (bin numbers) for each terminal leaf.\n",
    "    \"\"\"\n",
    "\n",
    "    n_leaves = distance_matrix.shape[0]\n",
    "    class_assignments = np.full(n_leaves, -1, dtype=int)  # Initialize as -1 (unassigned)\n",
    "    upper_triangle_indices = np.triu_indices_from(distance_matrix, k=1)\n",
    "    print(f'This is the upper triangle:\\n{upper_triangle_indices}')\n",
    "    # 1. Initialize Bins with Most Distant Points:\n",
    "    initial_points = np.unravel_index(np.argsort(distance_matrix[upper_triangle_indices], axis=None)[-n_initial_bins:], distance_matrix.shape)\n",
    "    print(f'These are the intial points: {initial_points}')\n",
    "    print(f'This is the length of the intial points: {len(initial_points)}')\n",
    "\n",
    "    for i, (idx1, idx2) in enumerate(zip(*initial_points)):\n",
    "        class_assignments[idx1] = i\n",
    "        class_assignments[idx2] = i\n",
    "\n",
    "    # 2. Iteratively Add Points to Bins:\n",
    "    unassigned_leaves = np.where(class_assignments == -1)[0]\n",
    "    print(f'These are the unassigned leaves: {unassigned_leaves}')\n",
    "    print(f'This is the length of unassigned leaves: {len(unassigned_leaves)}')\n",
    "\n",
    "    for leaf_idx in unassigned_leaves:\n",
    "        mean_distances = [np.mean(distance_matrix[leaf_idx, class_assignments == bin_num])\n",
    "                          for bin_num in range(n_initial_bins)]\n",
    "        \n",
    "        # Find best bin (highest mean distance above threshold)\n",
    "        best_bin = np.argmax(mean_distances)\n",
    "        if mean_distances[best_bin] >= distance_threshold:\n",
    "            # Check individual distances within the best bin\n",
    "            if all(distance_matrix[leaf_idx, class_assignments == best_bin] >= distance_threshold):\n",
    "                class_assignments[leaf_idx] = best_bin\n",
    "            else:\n",
    "                # Try next best bin until a suitable bin is found or none exist\n",
    "                sorted_bins = np.argsort(mean_distances)[::-1]  # Descending order\n",
    "                for bin_idx in sorted_bins[1:]:  # Skip the already checked best bin\n",
    "                    if all(distance_matrix[leaf_idx, class_assignments == bin_idx] >= distance_threshold):\n",
    "                        class_assignments[leaf_idx] = bin_idx\n",
    "                        break\n",
    "\n",
    "    return class_assignments\n"
   ]
  },
  {
   "cell_type": "code",
   "execution_count": 22,
   "metadata": {},
   "outputs": [],
   "source": [
    "import numpy as np\n",
    "\n",
    "def phylogenetic_clustering(distance_matrix, n_initial_bins, distance_threshold):\n",
    "    \n",
    "    \"\"\"\n",
    "    Clusters terminal leaves of a phylogenetic tree into bins based on distance,\n",
    "    prioritizing phylogenetic relationships.\n",
    "\n",
    "    Args:\n",
    "        distance_matrix: A square numpy array representing pairwise distances.\n",
    "        n_initial_bins: The number of initial bins to create with the most distant points.\n",
    "        distance_threshold: The minimum allowable distance for bin assignment.\n",
    "\n",
    "    Returns:\n",
    "        A numpy array of class assignments (bin numbers) for each terminal leaf.\n",
    "    \"\"\"\n",
    "\n",
    "    n_leaves = distance_matrix.shape[0]\n",
    "    class_assignments = np.full(n_leaves, -1, dtype=int)  # Initialize as -1 (unassigned)\n",
    "\n",
    "    # 1. Initialize Bins with Most Distant Points:\n",
    "    initial_points = farthest_points(distance_matrix=distance_matrix , k=n_initial_bins)\n",
    "    print(f'These are the intial points: {initial_points}')\n",
    "    print(f'This is the length of the intial points: {len(initial_points)}')\n",
    "\n",
    "    for i, idx in enumerate(initial_points):\n",
    "        class_assignments[idx] = i\n",
    "\n",
    "    # 2. Iteratively Add Points to Bins:\n",
    "    unassigned_leaves = np.where(class_assignments == -1)[0]\n",
    "    print(f'These are the unassigned leaves: {unassigned_leaves}')\n",
    "    print(f'This is the length of unassigned leaves: {len(unassigned_leaves)}')\n",
    "\n",
    "    for leaf_idx in unassigned_leaves:\n",
    "        mean_distances = [np.mean(distance_matrix[leaf_idx, class_assignments == bin_num])\n",
    "                          for bin_num in range(n_initial_bins)]\n",
    "        \n",
    "        # Find best bin (highest mean distance above threshold)\n",
    "        best_bin = np.argmax(mean_distances)\n",
    "        if mean_distances[best_bin] >= distance_threshold:\n",
    "            # Check individual distances within the best bin\n",
    "            if all(distance_matrix[leaf_idx, class_assignments == best_bin] >= distance_threshold):\n",
    "                class_assignments[leaf_idx] = best_bin\n",
    "            else:\n",
    "                # Try next best bin until a suitable bin is found or none exist\n",
    "                sorted_bins = np.argsort(mean_distances)[::-1]  # Descending order\n",
    "                for bin_idx in sorted_bins[1:]:  # Skip the already checked best bin\n",
    "                    if all(distance_matrix[leaf_idx, class_assignments == bin_idx] >= distance_threshold):\n",
    "                        class_assignments[leaf_idx] = bin_idx\n",
    "                        break\n",
    "\n",
    "    return class_assignments\n"
   ]
  },
  {
   "cell_type": "code",
   "execution_count": 4,
   "metadata": {},
   "outputs": [],
   "source": [
    "def percentile_threshold(distance_matrix, percentile=5):\n",
    "    \"\"\"Calculates a distance threshold based on a given percentile of pairwise distances.\"\"\"\n",
    "    distances = distance_matrix[np.triu_indices_from(distance_matrix, k=1)]  # Extract upper triangle\n",
    "    return np.percentile(distances, percentile)\n"
   ]
  },
  {
   "cell_type": "code",
   "execution_count": 10,
   "metadata": {},
   "outputs": [],
   "source": [
    "def mean_std_threshold(distance_matrix, std_dev_factor=1.5):\n",
    "    \"\"\"Calculates a distance threshold based on mean and standard deviation of pairwise distances.\"\"\"\n",
    "    distances = distance_matrix[np.triu_indices_from(distance_matrix, k=1)]\n",
    "    mean_distance = np.mean(distances)\n",
    "    std_dev = np.std(distances)\n",
    "    return mean_distance - std_dev_factor * std_dev\n"
   ]
  },
  {
   "cell_type": "code",
   "execution_count": 23,
   "metadata": {},
   "outputs": [],
   "source": [
    "def tree_diameter_threshold(distance_matrix, fraction=0.05):\n",
    "    \"\"\"\n",
    "    Calculates a distance threshold based on a fraction of the tree's diameter.\n",
    "\n",
    "    Args:\n",
    "        distance_matrix: A square numpy array representing pairwise distances.\n",
    "        fraction: The fraction of the tree diameter to use as the threshold. Default is 0.5.\n",
    "\n",
    "    Returns:\n",
    "        The calculated distance threshold.\n",
    "    \"\"\"\n",
    "    tree_diameter = np.max(distance_matrix)  # The maximum distance in the matrix is the diameter\n",
    "    threshold = fraction * tree_diameter\n",
    "    return threshold"
   ]
  },
  {
   "cell_type": "code",
   "execution_count": 5,
   "metadata": {},
   "outputs": [
    {
     "data": {
      "text/plain": [
       "0.2500477849"
      ]
     },
     "execution_count": 5,
     "metadata": {},
     "output_type": "execute_result"
    }
   ],
   "source": [
    "percentile_dist_threshold = percentile_threshold(dist_matrix)\n",
    "percentile_dist_threshold"
   ]
  },
  {
   "cell_type": "code",
   "execution_count": 12,
   "metadata": {},
   "outputs": [
    {
     "data": {
      "text/plain": [
       "-0.1295097867664987"
      ]
     },
     "execution_count": 12,
     "metadata": {},
     "output_type": "execute_result"
    }
   ],
   "source": [
    "mean_std_threshold = mean_std_threshold(dist_matrix)\n",
    "mean_std_threshold"
   ]
  },
  {
   "cell_type": "code",
   "execution_count": 24,
   "metadata": {},
   "outputs": [
    {
     "data": {
      "text/plain": [
       "0.30027326624500006"
      ]
     },
     "execution_count": 24,
     "metadata": {},
     "output_type": "execute_result"
    }
   ],
   "source": [
    "tree_diameter_threshold = tree_diameter_threshold(dist_matrix)\n",
    "tree_diameter_threshold"
   ]
  },
  {
   "cell_type": "code",
   "execution_count": 23,
   "metadata": {},
   "outputs": [
    {
     "name": "stdout",
     "output_type": "stream",
     "text": [
      "These are the intial points: [174, 65, 157, 173, 177, 68, 175, 164, 302, 150]\n",
      "This is the length of the intial points: 10\n",
      "These are the unassigned leaves: [  0   1   2   3   4   5   6   7   8   9  10  11  12  13  14  15  16  17\n",
      "  18  19  20  21  22  23  24  25  26  27  28  29  30  31  32  33  34  35\n",
      "  36  37  38  39  40  41  42  43  44  45  46  47  48  49  50  51  52  53\n",
      "  54  55  56  57  58  59  60  61  62  63  64  66  67  69  70  71  72  73\n",
      "  74  75  76  77  78  79  80  81  82  83  84  85  86  87  88  89  90  91\n",
      "  92  93  94  95  96  97  98  99 100 101 102 103 104 105 106 107 108 109\n",
      " 110 111 112 113 114 115 116 117 118 119 120 121 122 123 124 125 126 127\n",
      " 128 129 130 131 132 133 134 135 136 137 138 139 140 141 142 143 144 145\n",
      " 146 147 148 149 151 152 153 154 155 156 158 159 160 161 162 163 165 166\n",
      " 167 168 169 170 171 172 176 178 179 180 181 182 183 184 185 186 187 188\n",
      " 189 190 191 192 193 194 195 196 197 198 199 200 201 202 203 204 205 206\n",
      " 207 208 209 210 211 212 213 214 215 216 217 218 219 220 221 222 223 224\n",
      " 225 226 227 228 229 230 231 232 233 234 235 236 237 238 239 240 241 242\n",
      " 243 244 245 246 247 248 249 250 251 252 253 254 255 256 257 258 259 260\n",
      " 261 262 263 264 265 266 267 268 269 270 271 272 273 274 275 276 277 278\n",
      " 279 280 281 282 283 284 285 286 287 288 289 290 291 292 293 294 295 296\n",
      " 297 298 299 300 301 303 304 305 306 307 308 309 310 311 312 313 314 315\n",
      " 316 317 318 319 320 321 322 323 324 325 326 327 328 329 330 331 332 333\n",
      " 334 335 336 337 338 339 340 341 342 343 344 345 346 347 348 349 350 351\n",
      " 352 353 354 355 356 357 358 359 360 361]\n",
      "This is the length of unassigned leaves: 352\n"
     ]
    }
   ],
   "source": [
    "n_initial_bins = 10 \n",
    "phylo_folds = phylogenetic_clustering(distance_matrix=dist_matrix, n_initial_bins=n_initial_bins, distance_threshold=percentile_dist_threshold)"
   ]
  },
  {
   "cell_type": "code",
   "execution_count": 24,
   "metadata": {},
   "outputs": [
    {
     "data": {
      "text/plain": [
       "array([ 2,  7,  3,  0,  6,  9,  4,  2,  8,  1,  5, -1,  6,  9,  7,  4, -1,\n",
       "       -1, -1,  3,  1, -1, -1, -1, -1, -1,  0,  2, -1, -1, -1,  5, -1, -1,\n",
       "       -1,  8, -1, -1, -1, -1, -1, -1, -1, -1, -1, -1, -1, -1, -1,  2,  7,\n",
       "        3,  6,  0,  9,  4,  7,  6, -1, -1, -1, -1, -1, -1, -1,  1,  3,  0,\n",
       "        5,  9,  0,  3,  4,  7,  6,  9,  2,  3,  0,  7,  1,  5,  4,  9,  6,\n",
       "        0,  3,  7,  2,  9,  6,  4,  1,  5,  8, -1, -1, -1, -1, -1, -1, -1,\n",
       "       -1, -1, -1,  0,  3, -1, -1, -1,  7,  9,  6,  2,  4,  0,  3,  7,  1,\n",
       "        5,  8,  3, -1, -1, -1,  9,  6,  2,  0,  4,  7,  1,  9,  0,  6,  5,\n",
       "        1,  8,  4,  3,  7,  2,  0,  6,  9,  4,  3,  1,  7,  5,  9,  0,  6,\n",
       "        9,  2,  8,  0,  2,  6,  4,  9,  5,  1,  3,  7,  7,  0,  6,  8,  9,\n",
       "        4,  3,  2,  3,  0,  6,  5,  4,  6,  5,  6,  5,  0,  6,  8,  4,  5,\n",
       "        3,  9,  6,  0,  2,  1,  4,  3,  6,  9,  0,  5,  7,  8,  6,  4,  2,\n",
       "        0,  3,  1,  9,  5,  7,  6,  8, -1, -1, -1, -1,  0,  3,  4,  9,  2,\n",
       "        6,  5,  1,  7,  9,  8, -1, -1, -1, -1,  0,  3, -1, -1,  4,  6,  0,\n",
       "        5,  6,  4,  9,  3,  2,  0,  1,  7,  6,  8,  5,  9,  3,  4,  0,  6,\n",
       "        2,  7,  5,  0,  9,  3,  1,  4,  6,  5,  0,  6,  4,  8,  3,  9,  2,\n",
       "        0,  6,  5,  1,  7,  3,  9,  4,  6,  0,  5,  2,  7,  0,  1,  8, -1,\n",
       "        6,  3,  9,  4,  5,  0,  2,  7,  1,  8, -1, -1, -1,  8, -1, -1, -1,\n",
       "       -1, -1,  6,  3,  9,  4,  0,  5,  2,  3,  9,  4,  7,  1,  8, -1,  0,\n",
       "       -1, -1,  6, -1, -1,  6,  3,  9,  0,  4,  8,  0,  2,  9,  4,  6,  3,\n",
       "        7,  1,  0,  9, -1, -1, -1, -1, -1, -1,  3,  0,  7,  9, -1,  6,  4,\n",
       "        8,  1, -1, -1, -1])"
      ]
     },
     "execution_count": 24,
     "metadata": {},
     "output_type": "execute_result"
    }
   ],
   "source": [
    "phylo_folds"
   ]
  },
  {
   "cell_type": "code",
   "execution_count": 25,
   "metadata": {},
   "outputs": [
    {
     "name": "stdout",
     "output_type": "stream",
     "text": [
      "[85 37 21 22 31 29 24 37 25 19 32]\n"
     ]
    }
   ],
   "source": [
    "unique_classes, class_counts = np.unique(phylo_folds, return_counts=True)\n",
    "print(class_counts)"
   ]
  },
  {
   "cell_type": "code",
   "execution_count": 21,
   "metadata": {},
   "outputs": [],
   "source": [
    "import numpy as np\n",
    "\n",
    "def farthest_points(distance_matrix, k=10):\n",
    "    n = distance_matrix.shape[0]\n",
    "\n",
    "    # Calculate average distances (initially to all points)\n",
    "    avg_distances = np.mean(distance_matrix, axis=1) \n",
    "    \n",
    "    # Initialize cluster (here, we start with the point with max avg distance)\n",
    "    point_list = [np.argmax(avg_distances)]\n",
    "    \n",
    "    while len(point_list) < k:\n",
    "        # Find the point with the highest average distance to existing cluster members\n",
    "        max_avg_dist = -1\n",
    "        best_point = -1\n",
    "        for i in range(n):\n",
    "            if i in point_list:\n",
    "                continue\n",
    "            avg_dist_to_cluster = np.mean(distance_matrix[i, point_list])\n",
    "            if avg_dist_to_cluster > max_avg_dist:\n",
    "                max_avg_dist = avg_dist_to_cluster\n",
    "                best_point = i\n",
    "        \n",
    "        # Add the best point to the cluster\n",
    "        point_list.append(best_point)\n",
    "\n",
    "    return point_list"
   ]
  },
  {
   "cell_type": "code",
   "execution_count": 20,
   "metadata": {},
   "outputs": [
    {
     "name": "stdout",
     "output_type": "stream",
     "text": [
      "[174, 65, 157, 173, 177, 68, 175, 164, 302, 150]\n"
     ]
    }
   ],
   "source": [
    "# Example usage (assuming you have a distance_matrix)\n",
    "farthest_10 = farthest_points(distance_matrix=dist_matrix, k=10)\n",
    "print(farthest_10) "
   ]
  },
  {
   "cell_type": "code",
   "execution_count": null,
   "metadata": {},
   "outputs": [],
   "source": [
    "import numpy as np\n",
    "import pandas as pd\n",
    "from Bio import Phylo\n",
    "from sklearn.cluster import AgglomerativeClustering\n",
    "from scipy.spatial.distance import squareform, pdist, cdist\n",
    "import random\n",
    "from sklearn.neighbors import kneighbors_graph\n",
    "import matplotlib.pyplot as plt\n",
    "import seaborn as sns\n",
    "\n",
    "\n",
    "\n",
    "def block_k_fold_cv(tree_file, fold_list, linkage=\"complete\"):\n",
    "    \"\"\"\n",
    "    Performs phylogenetic block k-fold cross-validation.\n",
    "\n",
    "    Args:\n",
    "        tree_file (str): Path to the phylogenetic tree file (Newick format).\n",
    "        fold_list (list): List of the number of folds to test.\n",
    "\n",
    "    Returns:\n",
    "        list: List of dictionaries, each containing fold assignments and distance metrics.\n",
    "    \"\"\"\n",
    "\n",
    "    # Load phylogenetic tree\n",
    "    tree = Phylo.read(tree_file, \"newick\")\n",
    "    # Get tip names\n",
    "    tip_names = [terminal.name for terminal in tree.get_terminals()]\n",
    "    #dist_matrix = tree.distance_matrix().values\n",
    "\n",
    "    #Create distance matrix from the tree\n",
    "    dist_matrix = np.zeros((len(tree.get_terminals()), len(tree.get_terminals())))\n",
    "    for i, terminal1 in enumerate(tree.get_terminals()):\n",
    "        for j, terminal2 in enumerate(tree.get_terminals()):\n",
    "            if i < j:  # Only calculate upper triangle to avoid redundancy\n",
    "                dist_matrix[i, j] = tree.distance(terminal1, terminal2)\n",
    "                dist_matrix[j, i] = dist_matrix[i, j]  # Mirror for symmetry\n",
    "    \n",
    "    cnct_matrix = create_connectivity_matrix(tree)\n",
    "    connectivity = kneighbors_graph(cnct_matrix, n_neighbors=5, include_self=True, mode='connectivity')\n",
    "\n",
    "    results = []\n",
    "\n",
    "    for n_folds in fold_list:\n",
    "        # Cluster-based fold assignment\n",
    "        clustering = AgglomerativeClustering(n_clusters=n_folds, metric ='precomputed', linkage=linkage, compute_distances=True, connectivity=connectivity).fit(dist_matrix)        \n",
    "        block_fold = clustering.labels_\n",
    "        unique_labels, cluster_sizes = np.unique(block_fold, return_counts= True)\n",
    "        print(len(clustering.children_))\n",
    "        # Reorder the distance matrix based on the clustering result\n",
    "        #reordered_dist_matrix = dist_matrix[clustering.children_ - 1, :][:, clustering.children_ - 1] \n",
    "        #plt.figure(figsize=(10, 7))\n",
    "        #sns.heatmap(reordered_dist_matrix, cmap=\"YlGnBu\", cbar_kws={'label': 'Distance'})\n",
    "        #plt.title('Reordered Distance Matrix')\n",
    "        #plt.show()\n",
    "\n",
    "        # Create dictionary to map tip names to fold assignments\n",
    "        tip_to_fold = dict(zip(tip_names, block_fold))\n",
    "        \n",
    "        cluster_dict = {}\n",
    "        for index, class_label in enumerate(block_fold):\n",
    "            if class_label not in cluster_dict:\n",
    "                cluster_dict[class_label] = []\n",
    "            cluster_dict[class_label].append(index)\n",
    "        sorted_keys = sorted(cluster_dict.keys())\n",
    "        cluster_dict = {key: cluster_dict[key] for key in sorted_keys}\n",
    "        cluster_indices = []    \n",
    "        for values in cluster_dict.values():\n",
    "            cluster_indices.append(values)\n",
    "        target_size = len(tip_to_fold.keys()) // n_folds\n",
    "        print(f\"Targe Size = {target_size}\")\n",
    "        for x, cluster in enumerate(cluster_sizes):\n",
    "            print(f\"Cluster {x}: {cluster} members\")\n",
    "        over_represented_clusters = [i for i, size in enumerate(cluster_sizes) if size > target_size]\n",
    "        print(f\"Over-Represented Clusters = {over_represented_clusters}\")\n",
    "        under_represented_clusters = [i for i, size in enumerate(cluster_sizes) if size < target_size]\n",
    "        print(f\"Under-Represented Clusters = {under_represented_clusters}\")\n",
    "        \n",
    "        # Reassign members from over-represented clusters to under-represented clusters\n",
    "        for over_cluster in over_represented_clusters:\n",
    "            print(f\"Target Over-Represented Cluster = {over_cluster}\")\n",
    "            print(f\"Here are the elements of the Target Over-represented Cluster = {cluster_indices[over_cluster]}\")\n",
    "            #cluster_indices[over_cluster] = random.shuffle(cluster_indices[over_cluster])\n",
    "            #print(f\"Here are the elements of the Target Over-represented Cluster Now Shuffled = {cluster_indices[over_cluster]}\")\n",
    "\n",
    "            for index in cluster_indices[over_cluster]:\n",
    "                print(f\"Target index is {index} - which should be {tip_names[index]}\")\n",
    "                #distances to nearest point per cluster\n",
    "                point_distances = []\n",
    "                #Index for the closest points per cluster \n",
    "                point_indexes = []\n",
    "                for under_cluster in under_represented_clusters:      \n",
    "                    #start here - need to use cluster_indices         \n",
    "                        print(f\"Target Under-Represented Cluster = {over_cluster}\")\n",
    "                        print(f\"Here are the elements of the Target Under-represented Cluster = {cluster_indices[under_cluster]}\")\n",
    "                        point_index = cluster_indices[under_cluster]\n",
    "                        distances_to_index = [dist_matrix[index, ci] for ci in point_index]\n",
    "                        dist_check = [tree.distance(tip_names[index], tip_names[ci]) for ci in point_index]\n",
    "                        for i in range(len(distances_to_index)):\n",
    "                            if dist_check[i] != distances_to_index[i]:\n",
    "                                print(f\"Distance {i} is {dist_check[i]} and {distances_to_index[i]}\")\n",
    "                                raise Exception(\"The indexes being compared do not align with the tree\")\n",
    "                        min_dist = min(distances_to_index)\n",
    "                        point_distances.append(min_dist)\n",
    "                        point_indexes.append(under_cluster)\n",
    "                  \n",
    "                # Return the minimum distance to the nearest centroid\n",
    "                print(f\"Here are is the list of point distances for {index}: {point_distances} \\n And the list of corresponding clusters: {point_indexes}\")\n",
    "                min_distance = min(point_distances)\n",
    "                print(f\"Here is the minimum distance: {min_distance}\")\n",
    "                target = point_distances.index(min_distance)\n",
    "                print(f\"Here is the closest cluster: {point_indexes[target]}\")\n",
    "                closest_under_cluster = point_indexes[target]\n",
    "                block_fold[index] = closest_under_cluster\n",
    "                cluster_sizes[over_cluster] -= 1\n",
    "                cluster_sizes[closest_under_cluster] += 1\n",
    "                for x, cluster in enumerate(cluster_sizes):\n",
    "                    print(f\"Cluster {x}: {cluster} members\")\n",
    "\n",
    "                for under_rep in under_represented_clusters:\n",
    "                    if cluster_sizes[under_rep] >= target_size:\n",
    "                        under_represented_clusters.remove(under_rep)\n",
    "                if len(under_represented_clusters) == 0:\n",
    "                    break\n",
    "                if cluster_sizes[over_cluster] == target_size:\n",
    "                    break\n",
    "            if len(under_represented_clusters) == 0:\n",
    "                break\n",
    "                     \n",
    "        # Update dictionary to map tip names to fold assignments\n",
    "        tip_to_fold = dict(zip(tip_names, block_fold))\n",
    "            \n",
    "        results.append({\"n_folds\": n_folds, \"block_fold\": block_fold, \"tip_to_fold\": tip_to_fold})\n",
    "            \n",
    "    return results, dist_matrix\n"
   ]
  }
 ],
 "metadata": {
  "kernelspec": {
   "display_name": "deepBreaks",
   "language": "python",
   "name": "python3"
  },
  "language_info": {
   "codemirror_mode": {
    "name": "ipython",
    "version": 3
   },
   "file_extension": ".py",
   "mimetype": "text/x-python",
   "name": "python",
   "nbconvert_exporter": "python",
   "pygments_lexer": "ipython3",
   "version": "3.9.17"
  }
 },
 "nbformat": 4,
 "nbformat_minor": 2
}
