{
 "cells": [
  {
   "cell_type": "markdown",
   "metadata": {},
   "source": [
    "# <font color=#c51b8a>VPOD 'Mine-n-Match':</font>\n",
    "## <font color=#c994c7>Part 1 Objective</font> - Use Species Names from Microspectrophotemetry Data Sheet to Query NCBI for All Related Opsin Sequences  "
   ]
  },
  {
   "cell_type": "code",
   "execution_count": 1,
   "metadata": {},
   "outputs": [],
   "source": [
    "import os\n",
    "import re\n",
    "import datetime\n",
    "import time\n",
    "import pandas as pd\n",
    "import numpy as np\n",
    "from deepBreaks.preprocessing import read_data\n",
    "from Bio import Entrez, SeqIO\n",
    "email = 'sethfrazer@ucsb.edu'"
   ]
  },
  {
   "cell_type": "code",
   "execution_count": 2,
   "metadata": {},
   "outputs": [],
   "source": [
    "from mnm_scripts.mine_n_match_functions import ncbi_fetch_opsins, merge_accessory_dbs, fasta_to_dataframe"
   ]
  },
  {
   "cell_type": "markdown",
   "metadata": {},
   "source": [
    "## <font color=#c51b8a>Load data-tables with all of the species and Lambda Max data from accessory lmax databases</font> "
   ]
  },
  {
   "cell_type": "markdown",
   "metadata": {},
   "source": [
    "### <font color=#c994c7>VPOD Single Cell Microspectrophotmetry (SCP) Datatable </font>\n",
    "### In this case our dataframe does not have full species name in one column so we must create a list by directly combining the genus and species names. Then filter to create a list of all unique species names \n"
   ]
  },
  {
   "cell_type": "code",
   "execution_count": 3,
   "metadata": {},
   "outputs": [],
   "source": [
    "report_dir = './data_sources/lmax'\n",
    "species_list = []\n",
    "df_list = []"
   ]
  },
  {
   "cell_type": "code",
   "execution_count": 4,
   "metadata": {},
   "outputs": [
    {
     "data": {
      "text/html": [
       "<div>\n",
       "<style scoped>\n",
       "    .dataframe tbody tr th:only-of-type {\n",
       "        vertical-align: middle;\n",
       "    }\n",
       "\n",
       "    .dataframe tbody tr th {\n",
       "        vertical-align: top;\n",
       "    }\n",
       "\n",
       "    .dataframe thead th {\n",
       "        text-align: right;\n",
       "    }\n",
       "</style>\n",
       "<table border=\"1\" class=\"dataframe\">\n",
       "  <thead>\n",
       "    <tr style=\"text-align: right;\">\n",
       "      <th></th>\n",
       "      <th>Genus</th>\n",
       "      <th>Species</th>\n",
       "      <th>phylum</th>\n",
       "      <th>CellType</th>\n",
       "      <th>CellSubType</th>\n",
       "      <th>LambdaMax</th>\n",
       "      <th>error</th>\n",
       "      <th>Chromophore</th>\n",
       "      <th>Stage</th>\n",
       "      <th>useable</th>\n",
       "      <th>expid</th>\n",
       "      <th>opsinid</th>\n",
       "      <th>refid</th>\n",
       "      <th>Notes</th>\n",
       "      <th>Unnamed: 15</th>\n",
       "      <th>isGenusInHetero</th>\n",
       "      <th>isSpeciesInHetero</th>\n",
       "      <th>isInHetero</th>\n",
       "      <th>isVert</th>\n",
       "      <th>Full_Species</th>\n",
       "    </tr>\n",
       "    <tr>\n",
       "      <th>maxid</th>\n",
       "      <th></th>\n",
       "      <th></th>\n",
       "      <th></th>\n",
       "      <th></th>\n",
       "      <th></th>\n",
       "      <th></th>\n",
       "      <th></th>\n",
       "      <th></th>\n",
       "      <th></th>\n",
       "      <th></th>\n",
       "      <th></th>\n",
       "      <th></th>\n",
       "      <th></th>\n",
       "      <th></th>\n",
       "      <th></th>\n",
       "      <th></th>\n",
       "      <th></th>\n",
       "      <th></th>\n",
       "      <th></th>\n",
       "      <th></th>\n",
       "    </tr>\n",
       "  </thead>\n",
       "  <tbody>\n",
       "    <tr>\n",
       "      <th>1</th>\n",
       "      <td>Acipenser</td>\n",
       "      <td>transmontanus</td>\n",
       "      <td>Chordata</td>\n",
       "      <td>rod</td>\n",
       "      <td>NaN</td>\n",
       "      <td>540.0</td>\n",
       "      <td>NaN</td>\n",
       "      <td>NaN</td>\n",
       "      <td>adult</td>\n",
       "      <td>1.0</td>\n",
       "      <td>NaN</td>\n",
       "      <td>463</td>\n",
       "      <td>30</td>\n",
       "      <td>partial cds but is rod opsin</td>\n",
       "      <td>NaN</td>\n",
       "      <td>NaN</td>\n",
       "      <td>NaN</td>\n",
       "      <td>0</td>\n",
       "      <td>1.0</td>\n",
       "      <td>Acipenser transmontanus</td>\n",
       "    </tr>\n",
       "    <tr>\n",
       "      <th>2</th>\n",
       "      <td>Acipenser</td>\n",
       "      <td>transmontanus</td>\n",
       "      <td>Chordata</td>\n",
       "      <td>cone</td>\n",
       "      <td>NaN</td>\n",
       "      <td>464.0</td>\n",
       "      <td>NaN</td>\n",
       "      <td>NaN</td>\n",
       "      <td>adult</td>\n",
       "      <td>0.0</td>\n",
       "      <td>NaN</td>\n",
       "      <td>0</td>\n",
       "      <td>30</td>\n",
       "      <td>NaN</td>\n",
       "      <td>NaN</td>\n",
       "      <td>NaN</td>\n",
       "      <td>NaN</td>\n",
       "      <td>0</td>\n",
       "      <td>NaN</td>\n",
       "      <td>Acipenser transmontanus</td>\n",
       "    </tr>\n",
       "    <tr>\n",
       "      <th>3</th>\n",
       "      <td>Acipenser</td>\n",
       "      <td>transmontanus</td>\n",
       "      <td>Chordata</td>\n",
       "      <td>cone</td>\n",
       "      <td>NaN</td>\n",
       "      <td>531.0</td>\n",
       "      <td>NaN</td>\n",
       "      <td>NaN</td>\n",
       "      <td>adult</td>\n",
       "      <td>0.0</td>\n",
       "      <td>NaN</td>\n",
       "      <td>0</td>\n",
       "      <td>30</td>\n",
       "      <td>NaN</td>\n",
       "      <td>NaN</td>\n",
       "      <td>NaN</td>\n",
       "      <td>NaN</td>\n",
       "      <td>0</td>\n",
       "      <td>NaN</td>\n",
       "      <td>Acipenser transmontanus</td>\n",
       "    </tr>\n",
       "    <tr>\n",
       "      <th>4</th>\n",
       "      <td>Acipenser</td>\n",
       "      <td>transmontanus</td>\n",
       "      <td>Chordata</td>\n",
       "      <td>cone</td>\n",
       "      <td>NaN</td>\n",
       "      <td>605.0</td>\n",
       "      <td>NaN</td>\n",
       "      <td>NaN</td>\n",
       "      <td>adult</td>\n",
       "      <td>0.0</td>\n",
       "      <td>NaN</td>\n",
       "      <td>0</td>\n",
       "      <td>30</td>\n",
       "      <td>NaN</td>\n",
       "      <td>NaN</td>\n",
       "      <td>NaN</td>\n",
       "      <td>NaN</td>\n",
       "      <td>0</td>\n",
       "      <td>NaN</td>\n",
       "      <td>Acipenser transmontanus</td>\n",
       "    </tr>\n",
       "    <tr>\n",
       "      <th>5</th>\n",
       "      <td>Acipenser</td>\n",
       "      <td>medirostris</td>\n",
       "      <td>Chordata</td>\n",
       "      <td>rod</td>\n",
       "      <td>NaN</td>\n",
       "      <td>540.0</td>\n",
       "      <td>NaN</td>\n",
       "      <td>NaN</td>\n",
       "      <td>adult</td>\n",
       "      <td>0.0</td>\n",
       "      <td>NaN</td>\n",
       "      <td>0</td>\n",
       "      <td>43</td>\n",
       "      <td>NaN</td>\n",
       "      <td>NaN</td>\n",
       "      <td>NaN</td>\n",
       "      <td>NaN</td>\n",
       "      <td>0</td>\n",
       "      <td>NaN</td>\n",
       "      <td>Acipenser medirostris</td>\n",
       "    </tr>\n",
       "  </tbody>\n",
       "</table>\n",
       "</div>"
      ],
      "text/plain": [
       "           Genus        Species    phylum CellType CellSubType  LambdaMax  \\\n",
       "maxid                                                                       \n",
       "1      Acipenser  transmontanus  Chordata      rod         NaN      540.0   \n",
       "2      Acipenser  transmontanus  Chordata     cone         NaN      464.0   \n",
       "3      Acipenser  transmontanus  Chordata     cone         NaN      531.0   \n",
       "4      Acipenser  transmontanus  Chordata     cone         NaN      605.0   \n",
       "5      Acipenser    medirostris  Chordata      rod         NaN      540.0   \n",
       "\n",
       "      error Chromophore  Stage  useable  expid opsinid refid  \\\n",
       "maxid                                                          \n",
       "1       NaN         NaN  adult      1.0    NaN     463    30   \n",
       "2       NaN         NaN  adult      0.0    NaN       0    30   \n",
       "3       NaN         NaN  adult      0.0    NaN       0    30   \n",
       "4       NaN         NaN  adult      0.0    NaN       0    30   \n",
       "5       NaN         NaN  adult      0.0    NaN       0    43   \n",
       "\n",
       "                              Notes Unnamed: 15  isGenusInHetero  \\\n",
       "maxid                                                              \n",
       "1      partial cds but is rod opsin         NaN              NaN   \n",
       "2                               NaN         NaN              NaN   \n",
       "3                               NaN         NaN              NaN   \n",
       "4                               NaN         NaN              NaN   \n",
       "5                               NaN         NaN              NaN   \n",
       "\n",
       "       isSpeciesInHetero  isInHetero  isVert             Full_Species  \n",
       "maxid                                                                  \n",
       "1                    NaN           0     1.0  Acipenser transmontanus  \n",
       "2                    NaN           0     NaN  Acipenser transmontanus  \n",
       "3                    NaN           0     NaN  Acipenser transmontanus  \n",
       "4                    NaN           0     NaN  Acipenser transmontanus  \n",
       "5                    NaN           0     NaN    Acipenser medirostris  "
      ]
     },
     "execution_count": 4,
     "metadata": {},
     "output_type": "execute_result"
    }
   ],
   "source": [
    "scp_file = f'{report_dir}/vpod/scp_raw.tsv'\n",
    "scp_df = pd.read_csv(scp_file, index_col=0, sep='\\t')\n",
    "scp_df['Full_Species'] = (scp_df['Genus'] + ' ' + scp_df['Species']).to_list()\n",
    "df_list.append(scp_df)\n",
    "scp_df.head()"
   ]
  },
  {
   "cell_type": "code",
   "execution_count": 5,
   "metadata": {},
   "outputs": [],
   "source": [
    "species_list+=scp_df['Full_Species'].to_list()"
   ]
  },
  {
   "cell_type": "markdown",
   "metadata": {},
   "source": [
    "### <font color=#c994c7>Longcore - 'Animal Photopigments' Datatable</font>\n",
    "\n",
    "### In this next case our dataframe has the full species name in one column so we can create a list directly and filter to create a list of all unique species names\n"
   ]
  },
  {
   "cell_type": "code",
   "execution_count": 6,
   "metadata": {},
   "outputs": [
    {
     "data": {
      "text/html": [
       "<div>\n",
       "<style scoped>\n",
       "    .dataframe tbody tr th:only-of-type {\n",
       "        vertical-align: middle;\n",
       "    }\n",
       "\n",
       "    .dataframe tbody tr th {\n",
       "        vertical-align: top;\n",
       "    }\n",
       "\n",
       "    .dataframe thead th {\n",
       "        text-align: right;\n",
       "    }\n",
       "</style>\n",
       "<table border=\"1\" class=\"dataframe\">\n",
       "  <thead>\n",
       "    <tr style=\"text-align: right;\">\n",
       "      <th></th>\n",
       "      <th>Phylum</th>\n",
       "      <th>Class</th>\n",
       "      <th>Order</th>\n",
       "      <th>Family</th>\n",
       "      <th>Full_Species</th>\n",
       "      <th>Type</th>\n",
       "      <th>LambdaMax</th>\n",
       "      <th>Band</th>\n",
       "      <th>Oil</th>\n",
       "      <th>Nocturnal Activity</th>\n",
       "      <th>Diurnal Activity</th>\n",
       "      <th>Reference</th>\n",
       "    </tr>\n",
       "    <tr>\n",
       "      <th>longcore_id</th>\n",
       "      <th></th>\n",
       "      <th></th>\n",
       "      <th></th>\n",
       "      <th></th>\n",
       "      <th></th>\n",
       "      <th></th>\n",
       "      <th></th>\n",
       "      <th></th>\n",
       "      <th></th>\n",
       "      <th></th>\n",
       "      <th></th>\n",
       "      <th></th>\n",
       "    </tr>\n",
       "  </thead>\n",
       "  <tbody>\n",
       "    <tr>\n",
       "      <th>0</th>\n",
       "      <td>Arthropoda</td>\n",
       "      <td>Arachnida</td>\n",
       "      <td>Aranae</td>\n",
       "      <td>Araneidae</td>\n",
       "      <td>Argiope amoena</td>\n",
       "      <td>NaN</td>\n",
       "      <td>360</td>\n",
       "      <td>NaN</td>\n",
       "      <td>NaN</td>\n",
       "      <td>Y</td>\n",
       "      <td>Y</td>\n",
       "      <td>Yamashita &amp; Tateda 1978</td>\n",
       "    </tr>\n",
       "    <tr>\n",
       "      <th>1</th>\n",
       "      <td>Arthropoda</td>\n",
       "      <td>Arachnida</td>\n",
       "      <td>Aranae</td>\n",
       "      <td>Araneidae</td>\n",
       "      <td>Argiope amoena</td>\n",
       "      <td>NaN</td>\n",
       "      <td>490</td>\n",
       "      <td>NaN</td>\n",
       "      <td>NaN</td>\n",
       "      <td>Y</td>\n",
       "      <td>Y</td>\n",
       "      <td>Yamashita &amp; Tateda 1978</td>\n",
       "    </tr>\n",
       "    <tr>\n",
       "      <th>2</th>\n",
       "      <td>Arthropoda</td>\n",
       "      <td>Arachnida</td>\n",
       "      <td>Aranae</td>\n",
       "      <td>Araneidae</td>\n",
       "      <td>Argiope amoena</td>\n",
       "      <td>NaN</td>\n",
       "      <td>540</td>\n",
       "      <td>NaN</td>\n",
       "      <td>NaN</td>\n",
       "      <td>Y</td>\n",
       "      <td>Y</td>\n",
       "      <td>Yamashita &amp; Tateda 1978</td>\n",
       "    </tr>\n",
       "    <tr>\n",
       "      <th>3</th>\n",
       "      <td>Arthropoda</td>\n",
       "      <td>Arachnida</td>\n",
       "      <td>Aranae</td>\n",
       "      <td>Araneidae</td>\n",
       "      <td>Argiope bruennichi</td>\n",
       "      <td>NaN</td>\n",
       "      <td>360</td>\n",
       "      <td>NaN</td>\n",
       "      <td>NaN</td>\n",
       "      <td>Y</td>\n",
       "      <td>Y</td>\n",
       "      <td>Yamashita &amp; Tateda 1978</td>\n",
       "    </tr>\n",
       "    <tr>\n",
       "      <th>4</th>\n",
       "      <td>Arthropoda</td>\n",
       "      <td>Arachnida</td>\n",
       "      <td>Aranae</td>\n",
       "      <td>Araneidae</td>\n",
       "      <td>Argiope bruennichi</td>\n",
       "      <td>NaN</td>\n",
       "      <td>490</td>\n",
       "      <td>NaN</td>\n",
       "      <td>NaN</td>\n",
       "      <td>Y</td>\n",
       "      <td>Y</td>\n",
       "      <td>Yamashita &amp; Tateda 1978</td>\n",
       "    </tr>\n",
       "  </tbody>\n",
       "</table>\n",
       "</div>"
      ],
      "text/plain": [
       "                 Phylum      Class   Order     Family        Full_Species  \\\n",
       "longcore_id                                                                 \n",
       "0            Arthropoda  Arachnida  Aranae  Araneidae      Argiope amoena   \n",
       "1            Arthropoda  Arachnida  Aranae  Araneidae      Argiope amoena   \n",
       "2            Arthropoda  Arachnida  Aranae  Araneidae      Argiope amoena   \n",
       "3            Arthropoda  Arachnida  Aranae  Araneidae  Argiope bruennichi   \n",
       "4            Arthropoda  Arachnida  Aranae  Araneidae  Argiope bruennichi   \n",
       "\n",
       "            Type  LambdaMax Band  Oil Nocturnal Activity Diurnal Activity  \\\n",
       "longcore_id                                                                 \n",
       "0            NaN        360  NaN  NaN                  Y                Y   \n",
       "1            NaN        490  NaN  NaN                  Y                Y   \n",
       "2            NaN        540  NaN  NaN                  Y                Y   \n",
       "3            NaN        360  NaN  NaN                  Y                Y   \n",
       "4            NaN        490  NaN  NaN                  Y                Y   \n",
       "\n",
       "                           Reference  \n",
       "longcore_id                           \n",
       "0            Yamashita & Tateda 1978  \n",
       "1            Yamashita & Tateda 1978  \n",
       "2            Yamashita & Tateda 1978  \n",
       "3            Yamashita & Tateda 1978  \n",
       "4            Yamashita & Tateda 1978  "
      ]
     },
     "execution_count": 6,
     "metadata": {},
     "output_type": "execute_result"
    }
   ],
   "source": [
    "longcore_file = f'{report_dir}/longcore_data/AnimalPhotopigmentsV1_1.csv'\n",
    "longcore_df = pd.read_csv(longcore_file, index_col=0)\n",
    "df_list.append(longcore_df)\n",
    "longcore_df.head()"
   ]
  },
  {
   "cell_type": "code",
   "execution_count": 7,
   "metadata": {},
   "outputs": [],
   "source": [
    "species_list+=longcore_df['Full_Species'].to_list()"
   ]
  },
  {
   "cell_type": "markdown",
   "metadata": {},
   "source": [
    "### <font color=#c994c7>Murphy and Westerman Datatable</font>"
   ]
  },
  {
   "cell_type": "code",
   "execution_count": 8,
   "metadata": {},
   "outputs": [
    {
     "data": {
      "text/html": [
       "<div>\n",
       "<style scoped>\n",
       "    .dataframe tbody tr th:only-of-type {\n",
       "        vertical-align: middle;\n",
       "    }\n",
       "\n",
       "    .dataframe tbody tr th {\n",
       "        vertical-align: top;\n",
       "    }\n",
       "\n",
       "    .dataframe thead th {\n",
       "        text-align: right;\n",
       "    }\n",
       "</style>\n",
       "<table border=\"1\" class=\"dataframe\">\n",
       "  <thead>\n",
       "    <tr style=\"text-align: right;\">\n",
       "      <th></th>\n",
       "      <th>Full_Species</th>\n",
       "      <th>LambdaMax</th>\n",
       "      <th>SD</th>\n",
       "      <th>N</th>\n",
       "      <th>refid</th>\n",
       "      <th>Lineage</th>\n",
       "    </tr>\n",
       "    <tr>\n",
       "      <th>murwes_id</th>\n",
       "      <th></th>\n",
       "      <th></th>\n",
       "      <th></th>\n",
       "      <th></th>\n",
       "      <th></th>\n",
       "      <th></th>\n",
       "    </tr>\n",
       "  </thead>\n",
       "  <tbody>\n",
       "    <tr>\n",
       "      <th>0</th>\n",
       "      <td>Aglais urticae</td>\n",
       "      <td>360.0</td>\n",
       "      <td>–</td>\n",
       "      <td>†</td>\n",
       "      <td>[1]</td>\n",
       "      <td>Arthropod</td>\n",
       "    </tr>\n",
       "    <tr>\n",
       "      <th>1</th>\n",
       "      <td>Agraulis vanillae</td>\n",
       "      <td>370.0</td>\n",
       "      <td>–</td>\n",
       "      <td>†</td>\n",
       "      <td>[2]</td>\n",
       "      <td>Arthropod</td>\n",
       "    </tr>\n",
       "    <tr>\n",
       "      <th>2</th>\n",
       "      <td>Alima pacifica</td>\n",
       "      <td>467.0</td>\n",
       "      <td>–</td>\n",
       "      <td>5</td>\n",
       "      <td>[4]</td>\n",
       "      <td>Arthropod</td>\n",
       "    </tr>\n",
       "    <tr>\n",
       "      <th>3</th>\n",
       "      <td>Antheraea polyphemus</td>\n",
       "      <td>355.0</td>\n",
       "      <td>–</td>\n",
       "      <td>20</td>\n",
       "      <td>[5]</td>\n",
       "      <td>Arthropod</td>\n",
       "    </tr>\n",
       "    <tr>\n",
       "      <th>4</th>\n",
       "      <td>Apodemia mormo</td>\n",
       "      <td>556.0</td>\n",
       "      <td>–</td>\n",
       "      <td>†</td>\n",
       "      <td>[3]</td>\n",
       "      <td>Arthropod</td>\n",
       "    </tr>\n",
       "  </tbody>\n",
       "</table>\n",
       "</div>"
      ],
      "text/plain": [
       "                   Full_Species  LambdaMax SD   N refid    Lineage\n",
       "murwes_id                                                         \n",
       "0                Aglais urticae      360.0  –   †   [1]  Arthropod\n",
       "1             Agraulis vanillae      370.0  –   †   [2]  Arthropod\n",
       "2                Alima pacifica      467.0  –   5   [4]  Arthropod\n",
       "3          Antheraea polyphemus      355.0  –  20   [5]  Arthropod\n",
       "4                Apodemia mormo      556.0  –   †   [3]  Arthropod"
      ]
     },
     "execution_count": 8,
     "metadata": {},
     "output_type": "execute_result"
    }
   ],
   "source": [
    "murphy_westerman_file = f'{report_dir}/murphy_westerman/Murphy and Westerman.csv'\n",
    "murphy_westerman_df = pd.read_csv(murphy_westerman_file, index_col=0)\n",
    "df_list.append(murphy_westerman_df)\n",
    "murphy_westerman_df.head()"
   ]
  },
  {
   "cell_type": "code",
   "execution_count": 9,
   "metadata": {},
   "outputs": [],
   "source": [
    "species_list+=murphy_westerman_df['Full_Species'].to_list()"
   ]
  },
  {
   "cell_type": "markdown",
   "metadata": {},
   "source": [
    "### <font color=#c994c7>Caves 'Fish' Datatable</font>"
   ]
  },
  {
   "cell_type": "code",
   "execution_count": 10,
   "metadata": {},
   "outputs": [
    {
     "data": {
      "text/html": [
       "<div>\n",
       "<style scoped>\n",
       "    .dataframe tbody tr th:only-of-type {\n",
       "        vertical-align: middle;\n",
       "    }\n",
       "\n",
       "    .dataframe tbody tr th {\n",
       "        vertical-align: top;\n",
       "    }\n",
       "\n",
       "    .dataframe thead th {\n",
       "        text-align: right;\n",
       "    }\n",
       "</style>\n",
       "<table border=\"1\" class=\"dataframe\">\n",
       "  <thead>\n",
       "    <tr style=\"text-align: right;\">\n",
       "      <th></th>\n",
       "      <th>Family</th>\n",
       "      <th>Genus</th>\n",
       "      <th>Species</th>\n",
       "      <th>LambdaMax</th>\n",
       "      <th>refid</th>\n",
       "      <th>Full_Species</th>\n",
       "    </tr>\n",
       "    <tr>\n",
       "      <th>caves_id</th>\n",
       "      <th></th>\n",
       "      <th></th>\n",
       "      <th></th>\n",
       "      <th></th>\n",
       "      <th></th>\n",
       "      <th></th>\n",
       "    </tr>\n",
       "  </thead>\n",
       "  <tbody>\n",
       "    <tr>\n",
       "      <th>0</th>\n",
       "      <td>Acipenseridae</td>\n",
       "      <td>Acipenser</td>\n",
       "      <td>baerii</td>\n",
       "      <td>549</td>\n",
       "      <td>[22]</td>\n",
       "      <td>Acipenser baerii</td>\n",
       "    </tr>\n",
       "    <tr>\n",
       "      <th>1</th>\n",
       "      <td>Acipenseridae</td>\n",
       "      <td>Acipenser</td>\n",
       "      <td>medirostrus</td>\n",
       "      <td>540</td>\n",
       "      <td>[60]</td>\n",
       "      <td>Acipenser medirostrus</td>\n",
       "    </tr>\n",
       "    <tr>\n",
       "      <th>2</th>\n",
       "      <td>Acipenseridae</td>\n",
       "      <td>Acipenser</td>\n",
       "      <td>ruthenus</td>\n",
       "      <td>545</td>\n",
       "      <td>[21]</td>\n",
       "      <td>Acipenser ruthenus</td>\n",
       "    </tr>\n",
       "    <tr>\n",
       "      <th>3</th>\n",
       "      <td>Acipenseridae</td>\n",
       "      <td>Acipenser</td>\n",
       "      <td>transmontanus</td>\n",
       "      <td>540</td>\n",
       "      <td>[39] ; [58]</td>\n",
       "      <td>Acipenser transmontanus</td>\n",
       "    </tr>\n",
       "    <tr>\n",
       "      <th>4</th>\n",
       "      <td>Acipenseridae</td>\n",
       "      <td>Scaphirhynchus</td>\n",
       "      <td>albus</td>\n",
       "      <td>538</td>\n",
       "      <td>[60]</td>\n",
       "      <td>Scaphirhynchus albus</td>\n",
       "    </tr>\n",
       "  </tbody>\n",
       "</table>\n",
       "</div>"
      ],
      "text/plain": [
       "                 Family           Genus        Species  LambdaMax  \\\n",
       "caves_id                                                            \n",
       "0         Acipenseridae       Acipenser         baerii        549   \n",
       "1         Acipenseridae       Acipenser    medirostrus        540   \n",
       "2         Acipenseridae       Acipenser       ruthenus        545   \n",
       "3         Acipenseridae       Acipenser  transmontanus        540   \n",
       "4         Acipenseridae  Scaphirhynchus          albus        538   \n",
       "\n",
       "                refid             Full_Species  \n",
       "caves_id                                        \n",
       "0                [22]         Acipenser baerii  \n",
       "1                [60]    Acipenser medirostrus  \n",
       "2                [21]       Acipenser ruthenus  \n",
       "3         [39] ; [58]  Acipenser transmontanus  \n",
       "4                [60]     Scaphirhynchus albus  "
      ]
     },
     "execution_count": 10,
     "metadata": {},
     "output_type": "execute_result"
    }
   ],
   "source": [
    "caves_fish_db_file = f'{report_dir}/caves/caves_fish_db.csv'\n",
    "caves_df = pd.read_csv(caves_fish_db_file, index_col=0)\n",
    "caves_df['Full_Species'] = (caves_df['Genus'] + ' ' + caves_df['Species']).to_list()\n",
    "df_list.append(caves_df)\n",
    "caves_df.head()"
   ]
  },
  {
   "cell_type": "code",
   "execution_count": 11,
   "metadata": {},
   "outputs": [],
   "source": [
    "species_list+=caves_df['Full_Species'].to_list()"
   ]
  },
  {
   "cell_type": "markdown",
   "metadata": {},
   "source": [
    "### <font color=#c994c7>Morgan Porter's Datatables</font>"
   ]
  },
  {
   "cell_type": "code",
   "execution_count": 12,
   "metadata": {},
   "outputs": [
    {
     "data": {
      "text/html": [
       "<div>\n",
       "<style scoped>\n",
       "    .dataframe tbody tr th:only-of-type {\n",
       "        vertical-align: middle;\n",
       "    }\n",
       "\n",
       "    .dataframe tbody tr th {\n",
       "        vertical-align: top;\n",
       "    }\n",
       "\n",
       "    .dataframe thead th {\n",
       "        text-align: right;\n",
       "    }\n",
       "</style>\n",
       "<table border=\"1\" class=\"dataframe\">\n",
       "  <thead>\n",
       "    <tr style=\"text-align: right;\">\n",
       "      <th></th>\n",
       "      <th>Full_Species</th>\n",
       "      <th>Habitat</th>\n",
       "      <th>method</th>\n",
       "      <th>LambdaMax</th>\n",
       "      <th>Reference</th>\n",
       "      <th>Accession</th>\n",
       "    </tr>\n",
       "    <tr>\n",
       "      <th>porter2005_id</th>\n",
       "      <th></th>\n",
       "      <th></th>\n",
       "      <th></th>\n",
       "      <th></th>\n",
       "      <th></th>\n",
       "      <th></th>\n",
       "    </tr>\n",
       "  </thead>\n",
       "  <tbody>\n",
       "    <tr>\n",
       "      <th>0</th>\n",
       "      <td>Artemia salina</td>\n",
       "      <td>NaN</td>\n",
       "      <td>EON</td>\n",
       "      <td>410</td>\n",
       "      <td>(Hertel 1972)</td>\n",
       "      <td>NaN</td>\n",
       "    </tr>\n",
       "    <tr>\n",
       "      <th>1</th>\n",
       "      <td>Daphnia magna</td>\n",
       "      <td>NaN</td>\n",
       "      <td>VC</td>\n",
       "      <td>348, 434, 525, 608</td>\n",
       "      <td>(Smith and Macagno 1990)</td>\n",
       "      <td>NaN</td>\n",
       "    </tr>\n",
       "    <tr>\n",
       "      <th>2</th>\n",
       "      <td>Acartia tonsa</td>\n",
       "      <td>NaN</td>\n",
       "      <td>BP</td>\n",
       "      <td>450-520</td>\n",
       "      <td>(Stearns and Forward 1984)</td>\n",
       "      <td>NaN</td>\n",
       "    </tr>\n",
       "    <tr>\n",
       "      <th>3</th>\n",
       "      <td>Balanus amphitrite</td>\n",
       "      <td>NaN</td>\n",
       "      <td>ERG</td>\n",
       "      <td>532</td>\n",
       "      <td>(Hillman et al. 1973)</td>\n",
       "      <td>NaN</td>\n",
       "    </tr>\n",
       "    <tr>\n",
       "      <th>4</th>\n",
       "      <td>Balanus amphitrite</td>\n",
       "      <td>NaN</td>\n",
       "      <td>MSP</td>\n",
       "      <td>532</td>\n",
       "      <td>(Minke and Kirschfield 1978)</td>\n",
       "      <td>NaN</td>\n",
       "    </tr>\n",
       "  </tbody>\n",
       "</table>\n",
       "</div>"
      ],
      "text/plain": [
       "                     Full_Species Habitat method           LambdaMax  \\\n",
       "porter2005_id                                                          \n",
       "0                  Artemia salina     NaN    EON                 410   \n",
       "1                   Daphnia magna     NaN     VC  348, 434, 525, 608   \n",
       "2                   Acartia tonsa     NaN     BP             450-520   \n",
       "3              Balanus amphitrite     NaN    ERG                 532   \n",
       "4              Balanus amphitrite     NaN    MSP                 532   \n",
       "\n",
       "                                  Reference Accession  \n",
       "porter2005_id                                          \n",
       "0                             (Hertel 1972)       NaN  \n",
       "1                  (Smith and Macagno 1990)       NaN  \n",
       "2                (Stearns and Forward 1984)       NaN  \n",
       "3                     (Hillman et al. 1973)       NaN  \n",
       "4              (Minke and Kirschfield 1978)       NaN  "
      ]
     },
     "execution_count": 12,
     "metadata": {},
     "output_type": "execute_result"
    }
   ],
   "source": [
    "porter_file1 = f'{report_dir}/megan_porter/megan_porter_extract_clean_2005.csv'\n",
    "porter_df1 = pd.read_csv(porter_file1, index_col=0)\n",
    "porter_df2 = pd.read_csv(f'{report_dir}/megan_porter/porter_2006_table1_clean.tsv', sep='\\t', index_col=0)\n",
    "df_list.append(porter_df1)\n",
    "df_list.append(porter_df2)\n",
    "porter_df1.head()"
   ]
  },
  {
   "cell_type": "code",
   "execution_count": 13,
   "metadata": {},
   "outputs": [
    {
     "data": {
      "text/html": [
       "<div>\n",
       "<style scoped>\n",
       "    .dataframe tbody tr th:only-of-type {\n",
       "        vertical-align: middle;\n",
       "    }\n",
       "\n",
       "    .dataframe tbody tr th {\n",
       "        vertical-align: top;\n",
       "    }\n",
       "\n",
       "    .dataframe thead th {\n",
       "        text-align: right;\n",
       "    }\n",
       "</style>\n",
       "<table border=\"1\" class=\"dataframe\">\n",
       "  <thead>\n",
       "    <tr style=\"text-align: right;\">\n",
       "      <th></th>\n",
       "      <th>Full_Species</th>\n",
       "      <th>Accession</th>\n",
       "      <th>LambdaMax</th>\n",
       "      <th>Reference</th>\n",
       "    </tr>\n",
       "    <tr>\n",
       "      <th>porter2006_id</th>\n",
       "      <th></th>\n",
       "      <th></th>\n",
       "      <th></th>\n",
       "      <th></th>\n",
       "    </tr>\n",
       "  </thead>\n",
       "  <tbody>\n",
       "    <tr>\n",
       "      <th>0</th>\n",
       "      <td>Loligo forbesii</td>\n",
       "      <td>X56788</td>\n",
       "      <td>494</td>\n",
       "      <td>Morris et al. (1993)</td>\n",
       "    </tr>\n",
       "    <tr>\n",
       "      <th>1</th>\n",
       "      <td>Loligo pealii</td>\n",
       "      <td>AY450853</td>\n",
       "      <td>493</td>\n",
       "      <td>Brown PK and Brown PS (1958), Hubbard and St G...</td>\n",
       "    </tr>\n",
       "    <tr>\n",
       "      <th>2</th>\n",
       "      <td>Loligo subulata</td>\n",
       "      <td>Z49108</td>\n",
       "      <td>499</td>\n",
       "      <td>Morris et al. (1993)</td>\n",
       "    </tr>\n",
       "    <tr>\n",
       "      <th>3</th>\n",
       "      <td>Sepia officinalis</td>\n",
       "      <td>AF000947</td>\n",
       "      <td>492</td>\n",
       "      <td>Brown PK and Brown PS (1958)</td>\n",
       "    </tr>\n",
       "    <tr>\n",
       "      <th>4</th>\n",
       "      <td>Todarodes pacificus</td>\n",
       "      <td>X70498</td>\n",
       "      <td>480</td>\n",
       "      <td>Naito et al. (1981)</td>\n",
       "    </tr>\n",
       "  </tbody>\n",
       "</table>\n",
       "</div>"
      ],
      "text/plain": [
       "                      Full_Species Accession LambdaMax  \\\n",
       "porter2006_id                                            \n",
       "0                  Loligo forbesii    X56788       494   \n",
       "1                    Loligo pealii  AY450853       493   \n",
       "2                  Loligo subulata    Z49108       499   \n",
       "3                Sepia officinalis  AF000947       492   \n",
       "4              Todarodes pacificus    X70498       480   \n",
       "\n",
       "                                                       Reference  \n",
       "porter2006_id                                                     \n",
       "0                                           Morris et al. (1993)  \n",
       "1              Brown PK and Brown PS (1958), Hubbard and St G...  \n",
       "2                                           Morris et al. (1993)  \n",
       "3                                   Brown PK and Brown PS (1958)  \n",
       "4                                            Naito et al. (1981)  "
      ]
     },
     "execution_count": 13,
     "metadata": {},
     "output_type": "execute_result"
    }
   ],
   "source": [
    "porter_df2.head()"
   ]
  },
  {
   "cell_type": "code",
   "execution_count": 14,
   "metadata": {},
   "outputs": [],
   "source": [
    "species_list += (porter_df1['Full_Species'].to_list() + porter_df2['Full_Species'].to_list())"
   ]
  },
  {
   "cell_type": "markdown",
   "metadata": {},
   "source": [
    "### <font color=#c994c7>Merge Accessory Lambda Max Databases</font>"
   ]
  },
  {
   "cell_type": "code",
   "execution_count": 15,
   "metadata": {},
   "outputs": [
    {
     "data": {
      "text/html": [
       "<div>\n",
       "<style scoped>\n",
       "    .dataframe tbody tr th:only-of-type {\n",
       "        vertical-align: middle;\n",
       "    }\n",
       "\n",
       "    .dataframe tbody tr th {\n",
       "        vertical-align: top;\n",
       "    }\n",
       "\n",
       "    .dataframe thead th {\n",
       "        text-align: right;\n",
       "    }\n",
       "</style>\n",
       "<table border=\"1\" class=\"dataframe\">\n",
       "  <thead>\n",
       "    <tr style=\"text-align: right;\">\n",
       "      <th></th>\n",
       "      <th>Full_Species</th>\n",
       "      <th>Accession</th>\n",
       "      <th>maxid</th>\n",
       "      <th>longcore_id</th>\n",
       "      <th>murwes_id</th>\n",
       "      <th>caves_id</th>\n",
       "      <th>porter2005_id</th>\n",
       "      <th>porter2006_id</th>\n",
       "      <th>LambdaMax</th>\n",
       "    </tr>\n",
       "    <tr>\n",
       "      <th>comp_db_id</th>\n",
       "      <th></th>\n",
       "      <th></th>\n",
       "      <th></th>\n",
       "      <th></th>\n",
       "      <th></th>\n",
       "      <th></th>\n",
       "      <th></th>\n",
       "      <th></th>\n",
       "      <th></th>\n",
       "    </tr>\n",
       "  </thead>\n",
       "  <tbody>\n",
       "    <tr>\n",
       "      <th>0</th>\n",
       "      <td>Drosophila melanogaster</td>\n",
       "      <td>Z86118</td>\n",
       "      <td>NaN</td>\n",
       "      <td>NaN</td>\n",
       "      <td>NaN</td>\n",
       "      <td>NaN</td>\n",
       "      <td>NaN</td>\n",
       "      <td>42</td>\n",
       "      <td>508.0</td>\n",
       "    </tr>\n",
       "    <tr>\n",
       "      <th>1</th>\n",
       "      <td>Loligo subulata</td>\n",
       "      <td>Z49108</td>\n",
       "      <td>NaN</td>\n",
       "      <td>NaN</td>\n",
       "      <td>NaN</td>\n",
       "      <td>NaN</td>\n",
       "      <td>NaN</td>\n",
       "      <td>2</td>\n",
       "      <td>499.0</td>\n",
       "    </tr>\n",
       "    <tr>\n",
       "      <th>2</th>\n",
       "      <td>Schistocerca gregaria</td>\n",
       "      <td>X80072</td>\n",
       "      <td>NaN</td>\n",
       "      <td>NaN</td>\n",
       "      <td>NaN</td>\n",
       "      <td>NaN</td>\n",
       "      <td>NaN</td>\n",
       "      <td>46</td>\n",
       "      <td>430.0</td>\n",
       "    </tr>\n",
       "    <tr>\n",
       "      <th>3</th>\n",
       "      <td>Schistocerca gregaria</td>\n",
       "      <td>X80071</td>\n",
       "      <td>NaN</td>\n",
       "      <td>NaN</td>\n",
       "      <td>NaN</td>\n",
       "      <td>NaN</td>\n",
       "      <td>NaN</td>\n",
       "      <td>39</td>\n",
       "      <td>520.0</td>\n",
       "    </tr>\n",
       "    <tr>\n",
       "      <th>4</th>\n",
       "      <td>Sphodromantis sp.</td>\n",
       "      <td>X71665</td>\n",
       "      <td>NaN</td>\n",
       "      <td>NaN</td>\n",
       "      <td>NaN</td>\n",
       "      <td>NaN</td>\n",
       "      <td>NaN</td>\n",
       "      <td>40</td>\n",
       "      <td>515.0</td>\n",
       "    </tr>\n",
       "  </tbody>\n",
       "</table>\n",
       "</div>"
      ],
      "text/plain": [
       "                       Full_Species Accession maxid longcore_id murwes_id  \\\n",
       "comp_db_id                                                                  \n",
       "0           Drosophila melanogaster    Z86118   NaN         NaN       NaN   \n",
       "1                   Loligo subulata    Z49108   NaN         NaN       NaN   \n",
       "2             Schistocerca gregaria    X80072   NaN         NaN       NaN   \n",
       "3             Schistocerca gregaria    X80071   NaN         NaN       NaN   \n",
       "4                 Sphodromantis sp.    X71665   NaN         NaN       NaN   \n",
       "\n",
       "           caves_id porter2005_id porter2006_id  LambdaMax  \n",
       "comp_db_id                                                  \n",
       "0               NaN           NaN            42      508.0  \n",
       "1               NaN           NaN             2      499.0  \n",
       "2               NaN           NaN            46      430.0  \n",
       "3               NaN           NaN            39      520.0  \n",
       "4               NaN           NaN            40      515.0  "
      ]
     },
     "execution_count": 15,
     "metadata": {},
     "output_type": "execute_result"
    }
   ],
   "source": [
    "# Call the function to merge all the species, lambdamax, and potential accession information into one dataframe\n",
    "merged_df = merge_accessory_dbs(df_list, report_dir)\n",
    "merged_df.head()"
   ]
  },
  {
   "cell_type": "code",
   "execution_count": 16,
   "metadata": {},
   "outputs": [
    {
     "data": {
      "text/plain": [
       "(3470, 9)"
      ]
     },
     "execution_count": 16,
     "metadata": {},
     "output_type": "execute_result"
    }
   ],
   "source": [
    "merged_df.shape"
   ]
  },
  {
   "cell_type": "markdown",
   "metadata": {},
   "source": [
    "### <font color=#c994c7>All unique species names have been extracted from accessory databases. Now we iteratively query NCBI for opsins from each species.</font>"
   ]
  },
  {
   "cell_type": "code",
   "execution_count": 17,
   "metadata": {},
   "outputs": [
    {
     "data": {
      "text/plain": [
       "4098"
      ]
     },
     "execution_count": 17,
     "metadata": {},
     "output_type": "execute_result"
    }
   ],
   "source": [
    "len(species_list)"
   ]
  },
  {
   "cell_type": "code",
   "execution_count": 18,
   "metadata": {},
   "outputs": [
    {
     "data": {
      "text/plain": [
       "1289"
      ]
     },
     "execution_count": 18,
     "metadata": {},
     "output_type": "execute_result"
    }
   ],
   "source": [
    "species_list = list(set(species_list))\n",
    "len(species_list)"
   ]
  },
  {
   "cell_type": "markdown",
   "metadata": {},
   "source": [
    "## <font color=#c51b8a>Run NCBI Query Mining Process</font>"
   ]
  },
  {
   "cell_type": "code",
   "execution_count": null,
   "metadata": {},
   "outputs": [
    {
     "name": "stdout",
     "output_type": "stream",
     "text": [
      "Creating Job Directory\n",
      "Saving Species Query List to Text\n",
      "Constructing Taxon Dictionary, Including Species Synonyms\n",
      "\n",
      "Taxon Dictionary Complete!\n",
      "\n",
      "Starting Queries to NCBI for Opsin Sequences\n",
      "\n"
     ]
    },
    {
     "name": "stderr",
     "output_type": "stream",
     "text": [
      "  0% (0 of 10) |                         | Elapsed Time: 0:00:00 ETA:  --:--:--\n",
      " 10% (1 of 10) |##                       | Elapsed Time: 0:00:01 ETA:   0:00:12\n",
      " 20% (2 of 10) |#####                    | Elapsed Time: 0:00:02 ETA:   0:00:11\n",
      " 30% (3 of 10) |#######                  | Elapsed Time: 0:00:04 ETA:   0:00:09\n",
      " 40% (4 of 10) |##########               | Elapsed Time: 0:00:05 ETA:   0:00:08\n",
      " 50% (5 of 10) |############             | Elapsed Time: 0:00:06 ETA:   0:00:06\n",
      " 60% (6 of 10) |###############          | Elapsed Time: 0:00:08 ETA:   0:00:05\n",
      " 70% (7 of 10) |#################        | Elapsed Time: 0:00:36 ETA:   0:00:15\n",
      " 80% (8 of 10) |####################     | Elapsed Time: 0:00:37 ETA:   0:00:09\n",
      " 90% (9 of 10) |######################   | Elapsed Time: 0:00:39 ETA:   0:00:04\n",
      "100% (10 of 10) |########################| Elapsed Time: 0:00:39 Time:  0:00:39\n",
      "100% (10 of 10) |########################| Elapsed Time: 0:00:39 Time:  0:00:39\n"
     ]
    },
    {
     "name": "stdout",
     "output_type": "stream",
     "text": [
      "NCBI Queries Complete!\n",
      "Now Extracting and Formatting Results For DataFrame...\n",
      "\n",
      "DataFrame Formatted and Saved to CSV file for future use :)\n",
      "\n",
      "FASTA File Saved...\n",
      "\n",
      "Saving txt file with names of species that retrieved no results for opsins...\n",
      "\n"
     ]
    }
   ],
   "source": [
    "ncbi_query_df, query_report_dir = ncbi_fetch_opsins(email=email, job_label='mnm_on_all_dbs', out='mnm_on_all_dbs', species_list=species_list)"
   ]
  },
  {
   "cell_type": "markdown",
   "metadata": {},
   "source": [
    "## <font color=#c51b8a>Load Accessory Opsin Sequence Databases</font> "
   ]
  },
  {
   "cell_type": "markdown",
   "metadata": {},
   "source": [
    "### <font color=#c994c7>Load Previous MnM Data</font>"
   ]
  },
  {
   "cell_type": "code",
   "execution_count": 33,
   "metadata": {},
   "outputs": [
    {
     "data": {
      "text/html": [
       "<div>\n",
       "<style scoped>\n",
       "    .dataframe tbody tr th:only-of-type {\n",
       "        vertical-align: middle;\n",
       "    }\n",
       "\n",
       "    .dataframe tbody tr th {\n",
       "        vertical-align: top;\n",
       "    }\n",
       "\n",
       "    .dataframe thead th {\n",
       "        text-align: right;\n",
       "    }\n",
       "</style>\n",
       "<table border=\"1\" class=\"dataframe\">\n",
       "  <thead>\n",
       "    <tr style=\"text-align: right;\">\n",
       "      <th></th>\n",
       "      <th>Accession</th>\n",
       "      <th>Phylum</th>\n",
       "      <th>Subphylum</th>\n",
       "      <th>Class</th>\n",
       "      <th>Genus</th>\n",
       "      <th>Species</th>\n",
       "      <th>Full_Species</th>\n",
       "      <th>Protein</th>\n",
       "      <th>Gene_Description</th>\n",
       "      <th>Species_Synonym_Used</th>\n",
       "    </tr>\n",
       "  </thead>\n",
       "  <tbody>\n",
       "    <tr>\n",
       "      <th>0</th>\n",
       "      <td>XM_068951327.1</td>\n",
       "      <td>Chordata</td>\n",
       "      <td>Craniata</td>\n",
       "      <td>Aves</td>\n",
       "      <td>Struthio</td>\n",
       "      <td>camelus</td>\n",
       "      <td>Struthio camelus</td>\n",
       "      <td>MTRAEPRDVPALLLAATGGGSLLLLQPGFTTEEDTVLAAAGDRLVP...</td>\n",
       "      <td>PREDICTED: Struthio camelus vertebrate ancient...</td>\n",
       "      <td>NA</td>\n",
       "    </tr>\n",
       "    <tr>\n",
       "      <th>1</th>\n",
       "      <td>XM_068951326.1</td>\n",
       "      <td>Chordata</td>\n",
       "      <td>Craniata</td>\n",
       "      <td>Aves</td>\n",
       "      <td>Struthio</td>\n",
       "      <td>camelus</td>\n",
       "      <td>Struthio camelus</td>\n",
       "      <td>MTRAEPRDVPALLLAATGGGSLLLLQPGFTTEEDTVLAAAGDRLVP...</td>\n",
       "      <td>PREDICTED: Struthio camelus vertebrate ancient...</td>\n",
       "      <td>NA</td>\n",
       "    </tr>\n",
       "    <tr>\n",
       "      <th>2</th>\n",
       "      <td>XM_009685983.2</td>\n",
       "      <td>Chordata</td>\n",
       "      <td>Craniata</td>\n",
       "      <td>Aves</td>\n",
       "      <td>Struthio</td>\n",
       "      <td>camelus</td>\n",
       "      <td>Struthio camelus</td>\n",
       "      <td>MHGMTQKPMPTNERTCLLEPQQSRSLQTPANIFIINLAISDLLMSI...</td>\n",
       "      <td>PREDICTED: Struthio camelus opsin 4 (OPN4), tr...</td>\n",
       "      <td>NA</td>\n",
       "    </tr>\n",
       "    <tr>\n",
       "      <th>3</th>\n",
       "      <td>XM_009685977.2</td>\n",
       "      <td>Chordata</td>\n",
       "      <td>Craniata</td>\n",
       "      <td>Aves</td>\n",
       "      <td>Struthio</td>\n",
       "      <td>camelus</td>\n",
       "      <td>Struthio camelus</td>\n",
       "      <td>MNSQPIQRGISCSSEDPSCTKIVESLNAWNDSEANAYKRADLPLRA...</td>\n",
       "      <td>PREDICTED: Struthio camelus opsin 4 (OPN4), tr...</td>\n",
       "      <td>NA</td>\n",
       "    </tr>\n",
       "    <tr>\n",
       "      <th>4</th>\n",
       "      <td>XM_009685968.2</td>\n",
       "      <td>Chordata</td>\n",
       "      <td>Craniata</td>\n",
       "      <td>Aves</td>\n",
       "      <td>Struthio</td>\n",
       "      <td>camelus</td>\n",
       "      <td>Struthio camelus</td>\n",
       "      <td>MNSQPIQRGISCSSEDPSCTKIVESLNAWNDSEANAYKRADLPLRA...</td>\n",
       "      <td>PREDICTED: Struthio camelus opsin 4 (OPN4), tr...</td>\n",
       "      <td>NA</td>\n",
       "    </tr>\n",
       "  </tbody>\n",
       "</table>\n",
       "</div>"
      ],
      "text/plain": [
       "        Accession    Phylum Subphylum Class     Genus  Species  \\\n",
       "0  XM_068951327.1  Chordata  Craniata  Aves  Struthio  camelus   \n",
       "1  XM_068951326.1  Chordata  Craniata  Aves  Struthio  camelus   \n",
       "2  XM_009685983.2  Chordata  Craniata  Aves  Struthio  camelus   \n",
       "3  XM_009685977.2  Chordata  Craniata  Aves  Struthio  camelus   \n",
       "4  XM_009685968.2  Chordata  Craniata  Aves  Struthio  camelus   \n",
       "\n",
       "       Full_Species                                            Protein  \\\n",
       "0  Struthio camelus  MTRAEPRDVPALLLAATGGGSLLLLQPGFTTEEDTVLAAAGDRLVP...   \n",
       "1  Struthio camelus  MTRAEPRDVPALLLAATGGGSLLLLQPGFTTEEDTVLAAAGDRLVP...   \n",
       "2  Struthio camelus  MHGMTQKPMPTNERTCLLEPQQSRSLQTPANIFIINLAISDLLMSI...   \n",
       "3  Struthio camelus  MNSQPIQRGISCSSEDPSCTKIVESLNAWNDSEANAYKRADLPLRA...   \n",
       "4  Struthio camelus  MNSQPIQRGISCSSEDPSCTKIVESLNAWNDSEANAYKRADLPLRA...   \n",
       "\n",
       "                                    Gene_Description Species_Synonym_Used  \n",
       "0  PREDICTED: Struthio camelus vertebrate ancient...                   NA  \n",
       "1  PREDICTED: Struthio camelus vertebrate ancient...                   NA  \n",
       "2  PREDICTED: Struthio camelus opsin 4 (OPN4), tr...                   NA  \n",
       "3  PREDICTED: Struthio camelus opsin 4 (OPN4), tr...                   NA  \n",
       "4  PREDICTED: Struthio camelus opsin 4 (OPN4), tr...                   NA  "
      ]
     },
     "execution_count": 33,
     "metadata": {},
     "output_type": "execute_result"
    }
   ],
   "source": [
    "#ncbi_query_file = f'{query_report_dir}/mnm_on_all_dbs_ncbi_q_data_cleaned.csv'\n",
    "#ncbi_query_file = f'mnm_data/mnm_on_mnm_on_all_dbs_2024-12-10_23-31-03/mnm_on_all_dbs_ncbi_q_data_cleaned.csv'\n",
    "#ncbi_query_df = pd.read_csv(ncbi_query_file)\n",
    "ncbi_query_df.drop_duplicates(subset=['Full_Species', 'Protein'],  keep='first', inplace=True)\n",
    "ncbi_query_df.reset_index(drop=True, inplace=True)\n",
    "ncbi_sp_list = ncbi_query_df['Full_Species'].to_list()\n",
    "ncbi_prot_list = ncbi_query_df['Protein'].to_list()\n",
    "ncbi_query_df.head()"
   ]
  },
  {
   "cell_type": "code",
   "execution_count": 34,
   "metadata": {},
   "outputs": [
    {
     "data": {
      "text/plain": [
       "(17, 10)"
      ]
     },
     "execution_count": 34,
     "metadata": {},
     "output_type": "execute_result"
    }
   ],
   "source": [
    "ncbi_query_df.shape"
   ]
  },
  {
   "cell_type": "code",
   "execution_count": 103,
   "metadata": {},
   "outputs": [],
   "source": [
    "report_dir2 = './data_sources/seqs'\n",
    "sequence_list = []\n",
    "acc_list = []\n",
    "db_sp_list = []\n",
    "prot_descriptions = []\n",
    "source_list = []"
   ]
  },
  {
   "cell_type": "markdown",
   "metadata": {},
   "source": [
    "### <font color=#c994c7>Bilaterian Animal Opsins: Ramirez et al 2016</font>"
   ]
  },
  {
   "cell_type": "code",
   "execution_count": null,
   "metadata": {},
   "outputs": [],
   "source": [
    "ramirez_file = f'{report_dir2}/bilaterian_animal_ops/Supplemental_Table_T1_cleaned.csv'\n",
    "ramirez_df = pd.read_csv(ramirez_file)\n",
    "ramirez_df.head()"
   ]
  },
  {
   "cell_type": "code",
   "execution_count": null,
   "metadata": {},
   "outputs": [],
   "source": [
    "ramirez_df.shape"
   ]
  },
  {
   "cell_type": "code",
   "execution_count": null,
   "metadata": {},
   "outputs": [],
   "source": [
    "ramirez_df_filtered = ramirez_df[ramirez_df['Organism'].isin(species_list)]\n",
    "ramirez_df_filtered['raw_seqs'] = ramirez_df_filtered['aligned_seqs'].str.replace('-', '')\n",
    "prot_len_list = []\n",
    "for prot in ramirez_df_filtered['raw_seqs']:\n",
    "    prot_len = len(prot)\n",
    "    prot_len_list.append(prot_len)\n",
    "ramirez_df_filtered['prot_len'] = prot_len_list\n",
    "ramirez_df_filtered = ramirez_df_filtered[ramirez_df_filtered['prot_len']>320].reset_index(drop=True)\n",
    "ramirez_df_filtered.head()"
   ]
  },
  {
   "cell_type": "code",
   "execution_count": null,
   "metadata": {},
   "outputs": [],
   "source": [
    "ramirez_df_filtered.shape"
   ]
  },
  {
   "cell_type": "code",
   "execution_count": null,
   "metadata": {},
   "outputs": [],
   "source": [
    "len(set(ramirez_df_filtered['Organism'].to_list()))"
   ]
  },
  {
   "cell_type": "code",
   "execution_count": null,
   "metadata": {},
   "outputs": [],
   "source": [
    "ramirez_df_filtered2 = ramirez_df_filtered[~ramirez_df_filtered['raw_seqs'].isin(ncbi_prot_list)]\n",
    "ramirez_df_filtered2['source'] = 'Ramirez et al 2016'\n",
    "ramirez_df_filtered2.shape"
   ]
  },
  {
   "cell_type": "code",
   "execution_count": null,
   "metadata": {},
   "outputs": [],
   "source": [
    "ramirez_df_filtered2.to_csv(f'{report_dir2}/bilaterian_animal_ops/Supplemental_Table_T1_filtered.csv')\n",
    "len(set(ramirez_df_filtered2['raw_seqs'].to_list()))"
   ]
  },
  {
   "cell_type": "code",
   "execution_count": 105,
   "metadata": {},
   "outputs": [],
   "source": [
    "sequence_list += ramirez_df_filtered2['raw_seqs'].to_list()\n",
    "acc_list += ramirez_df_filtered2['gene_ID'].to_list()\n",
    "db_sp_list += ramirez_df_filtered2['Organism'].to_list()\n",
    "prot_descriptions += ramirez_df_filtered2['Protein names'].to_list()\n",
    "source_list += ramirez_df_filtered2['source'].to_list()"
   ]
  },
  {
   "cell_type": "markdown",
   "metadata": {},
   "source": [
    "### <font color=#c994c7>Crustacean Conundrums: Palecanda et al 2022</font>"
   ]
  },
  {
   "cell_type": "code",
   "execution_count": null,
   "metadata": {},
   "outputs": [],
   "source": [
    "palecanda_file = f'{report_dir2}/crustacean_conundrums/rstb20210289_si_003.csv'\n",
    "palecanda_df = pd.read_csv(palecanda_file)\n",
    "palecanda_df.head()"
   ]
  },
  {
   "cell_type": "code",
   "execution_count": null,
   "metadata": {},
   "outputs": [],
   "source": [
    "palecanda_df.shape"
   ]
  },
  {
   "cell_type": "code",
   "execution_count": null,
   "metadata": {},
   "outputs": [],
   "source": [
    "palecanda_df_filtered = palecanda_df[palecanda_df['Genus species'].isin(species_list)].reset_index(drop=True)\n",
    "#palecanda_df_filtered['raw_seqs'] = palecanda_df_filtered['aligned_seqs'].str.replace('-', '')\n",
    "prot_len_list = []\n",
    "for prot in palecanda_df_filtered['Protein Sequence']:\n",
    "    prot_len = len(prot)\n",
    "    prot_len_list.append(prot_len)\n",
    "palecanda_df_filtered['prot_len'] = prot_len_list\n",
    "palecanda_df_filtered = palecanda_df_filtered[palecanda_df_filtered['prot_len']>320].reset_index(drop=True)\n",
    "\n",
    "palecanda_df_filtered.head()"
   ]
  },
  {
   "cell_type": "code",
   "execution_count": null,
   "metadata": {},
   "outputs": [],
   "source": [
    "palecanda_df_filtered.shape"
   ]
  },
  {
   "cell_type": "code",
   "execution_count": null,
   "metadata": {},
   "outputs": [],
   "source": [
    "len(set(palecanda_df_filtered['Genus species'].to_list()))"
   ]
  },
  {
   "cell_type": "code",
   "execution_count": null,
   "metadata": {},
   "outputs": [],
   "source": [
    "palecanda_df_filtered2 = palecanda_df_filtered[~palecanda_df_filtered['Protein Sequence'].isin(ncbi_prot_list)]\n",
    "palecanda_df_filtered2['source'] = 'Palecanda et al 2022'\n",
    "palecanda_df_filtered2.shape"
   ]
  },
  {
   "cell_type": "code",
   "execution_count": null,
   "metadata": {},
   "outputs": [],
   "source": [
    "palecanda_df_filtered2.to_csv(f'{report_dir2}/crustacean_conundrums/palecanda_2022_filtered_seq_data.csv')\n",
    "len(set(palecanda_df_filtered2['Protein Sequence'].to_list()))"
   ]
  },
  {
   "cell_type": "code",
   "execution_count": 111,
   "metadata": {},
   "outputs": [],
   "source": [
    "sequence_list += palecanda_df_filtered2['Protein Sequence'].to_list()\n",
    "acc_list += palecanda_df_filtered2['Transcript ID'].to_list()\n",
    "db_sp_list += palecanda_df_filtered2['Genus species'].to_list()\n",
    "prot_descriptions += palecanda_df_filtered2['Opsin Type'].to_list()\n",
    "source_list += palecanda_df_filtered2['source'].to_list()"
   ]
  },
  {
   "cell_type": "markdown",
   "metadata": {},
   "source": [
    "### <font color=#c994c7>Ray-Finned Fish Opsin DB: Policarpo et al 2024</font>"
   ]
  },
  {
   "cell_type": "code",
   "execution_count": 76,
   "metadata": {},
   "outputs": [],
   "source": [
    "ray_finned_fasta_file = f'{report_dir2}/ray_finned_fish/mined_alignments/Complete_opsins.aln.txt'\n",
    "ray_finned_df = fasta_to_dataframe(ray_finned_fasta_file)"
   ]
  },
  {
   "cell_type": "code",
   "execution_count": null,
   "metadata": {},
   "outputs": [],
   "source": [
    "ray_finned_df"
   ]
  },
  {
   "cell_type": "code",
   "execution_count": 78,
   "metadata": {},
   "outputs": [],
   "source": [
    "ray_finned_df.to_csv(f'{report_dir2}/ray_finned_fish/mined_alignments/extracted_fish_ops.csv')"
   ]
  },
  {
   "cell_type": "code",
   "execution_count": null,
   "metadata": {},
   "outputs": [],
   "source": [
    "ray_finned_df_filtered = ray_finned_df[ray_finned_df['species_name'].isin(species_list)].reset_index(drop=True)\n",
    "ray_finned_df_filtered.shape"
   ]
  },
  {
   "cell_type": "code",
   "execution_count": null,
   "metadata": {},
   "outputs": [],
   "source": [
    "ray_finned_df_filtered2 = ray_finned_df_filtered[~ray_finned_df_filtered['sequence'].isin(ncbi_prot_list)].reset_index(drop=True)\n",
    "ray_finned_df_filtered2.shape"
   ]
  },
  {
   "cell_type": "code",
   "execution_count": null,
   "metadata": {},
   "outputs": [],
   "source": [
    "ray_finned_df_filtered3 = ray_finned_df_filtered2[ray_finned_df_filtered2['seq_length'] > 320].reset_index(drop=True)\n",
    "ray_finned_df_filtered3['source'] = 'Policarpo et al 2024'\n",
    "ray_finned_df_filtered3.shape"
   ]
  },
  {
   "cell_type": "code",
   "execution_count": 115,
   "metadata": {},
   "outputs": [],
   "source": [
    "ray_finned_df_filtered3.to_csv(f'{report_dir2}/ray_finned_fish/mined_alignments/extracted_fish_ops_filtered.csv')"
   ]
  },
  {
   "cell_type": "code",
   "execution_count": 116,
   "metadata": {},
   "outputs": [],
   "source": [
    "sequence_list += ray_finned_df_filtered3['sequence'].to_list()\n",
    "acc_list += ray_finned_df_filtered3['accession'].to_list()\n",
    "db_sp_list += ray_finned_df_filtered3['species_name'].to_list()\n",
    "prot_descriptions += ray_finned_df_filtered3['opsin_type'].to_list()\n",
    "source_list += ray_finned_df_filtered3['source'].to_list()"
   ]
  },
  {
   "cell_type": "code",
   "execution_count": 146,
   "metadata": {},
   "outputs": [],
   "source": [
    "gn_list = []\n",
    "sp_list = []\n",
    "for sp in db_sp_list:\n",
    "#    print(sp)\n",
    "    gn_list.append(sp.split(' ', 1)[0])\n",
    "    sp_list.append(sp.split(' ', 1)[1])"
   ]
  },
  {
   "cell_type": "markdown",
   "metadata": {},
   "source": [
    "### <font color=#c994c7>MATEdb2: Martínez-Redondo et. al. 2024</font>\n",
    "For now I have no pipeline set up to extract sequences from the assembled transcriptomes but this may be coming in the future"
   ]
  },
  {
   "cell_type": "code",
   "execution_count": null,
   "metadata": {},
   "outputs": [],
   "source": [
    "matedb2_links_file = f'{report_dir2}/matedb2/Table_S1_cleaned.csv'\n",
    "matedb2_links_df = pd.read_csv(matedb2_links_file)\n",
    "matedb2_links_df.head()"
   ]
  },
  {
   "cell_type": "code",
   "execution_count": null,
   "metadata": {},
   "outputs": [],
   "source": [
    "matedb2_links_df.shape"
   ]
  },
  {
   "cell_type": "code",
   "execution_count": null,
   "metadata": {},
   "outputs": [],
   "source": [
    "matedb2_links_filtered = matedb2_links_df[matedb2_links_df['SCIENTIFIC NAME'].isin(species_list)].reset_index(drop=True)\n",
    "matedb2_links_filtered.head()"
   ]
  },
  {
   "cell_type": "code",
   "execution_count": null,
   "metadata": {},
   "outputs": [],
   "source": [
    "matedb2_links_filtered.shape"
   ]
  },
  {
   "cell_type": "code",
   "execution_count": null,
   "metadata": {},
   "outputs": [],
   "source": [
    "matedb2_links_filtered2 = matedb2_links_filtered[~matedb2_links_filtered['SCIENTIFIC NAME'].isin(ncbi_sp_list)]\n",
    "matedb2_links_filtered2.shape"
   ]
  },
  {
   "cell_type": "markdown",
   "metadata": {},
   "source": [
    "### <font color=#c994c7>Create Merged Dataframe From All Accessory Opsin Sequence DBs</font>"
   ]
  },
  {
   "cell_type": "code",
   "execution_count": null,
   "metadata": {},
   "outputs": [],
   "source": [
    "#make a merged df of all the accessory seq dbs, filter out reedundant datapoints, then append to the end of the NCBI query sheet?\n",
    "data = {'Accession': acc_list, 'Genus': gn_list, 'Species': sp_list, 'Full_Species': db_sp_list, 'Gene_Description': prot_descriptions, 'Protein' : sequence_list, 'source' : source_list} \n",
    "acc_seq_db_df = pd.DataFrame(data)\n",
    "acc_seq_db_df.head()"
   ]
  },
  {
   "cell_type": "code",
   "execution_count": null,
   "metadata": {},
   "outputs": [],
   "source": [
    "acc_seq_db_df.shape"
   ]
  },
  {
   "cell_type": "code",
   "execution_count": null,
   "metadata": {},
   "outputs": [],
   "source": [
    "acc_seq_db_df_filtered = acc_seq_db_df.copy()\n",
    "acc_seq_db_df_filtered.drop_duplicates(subset=['Full_Species', 'Protein'],  keep='first', inplace=True)\n",
    "acc_seq_db_df_filtered.shape"
   ]
  },
  {
   "cell_type": "code",
   "execution_count": null,
   "metadata": {},
   "outputs": [],
   "source": [
    "len(set(acc_seq_db_df_filtered['Full_Species'].to_list()))"
   ]
  },
  {
   "cell_type": "code",
   "execution_count": 149,
   "metadata": {},
   "outputs": [],
   "source": [
    "acc_seq_db_df_filtered.to_csv(f'{report_dir2}/vpod_comp_accessory_seq_dbs.csv')"
   ]
  },
  {
   "cell_type": "code",
   "execution_count": null,
   "metadata": {},
   "outputs": [],
   "source": [
    "acc_seq_db_df_filtered2 = acc_seq_db_df_filtered[~acc_seq_db_df_filtered['Protein'].isin(ncbi_prot_list)]\n",
    "acc_seq_db_df_filtered2.shape"
   ]
  },
  {
   "cell_type": "markdown",
   "metadata": {},
   "source": [
    "### <font color=#c994c7>Merge the Formated Accessory Sequence DBs w/the Mined NCBI Data</font>"
   ]
  },
  {
   "cell_type": "code",
   "execution_count": null,
   "metadata": {},
   "outputs": [],
   "source": [
    "ncbi_query_df.head()"
   ]
  },
  {
   "cell_type": "code",
   "execution_count": null,
   "metadata": {},
   "outputs": [],
   "source": [
    "acc_seq_db_df_filtered.drop(columns='source', inplace =True)\n",
    "acc_seq_db_df_filtered.head()"
   ]
  },
  {
   "cell_type": "code",
   "execution_count": null,
   "metadata": {},
   "outputs": [],
   "source": [
    "final_query_df = pd.concat([ncbi_query_df, acc_seq_db_df_filtered]).reset_index(drop = True)\n",
    "final_query_df.to_csv(f'{query_report_dir}/ncbi_q_merged_w_acc_seq_db.csv')\n",
    "#final_query_df.to_csv('mnm_data/mnm_on_mnm_on_all_dbs_2024-12-10_23-31-03/ncbi_q_merged_w_acc_seq_db.csv')\n",
    "final_query_df.head()"
   ]
  },
  {
   "cell_type": "code",
   "execution_count": null,
   "metadata": {},
   "outputs": [],
   "source": [
    "final_query_df.shape"
   ]
  },
  {
   "cell_type": "code",
   "execution_count": 156,
   "metadata": {},
   "outputs": [],
   "source": [
    "fasta_file = f'mnm_data/mnm_on_mnm_on_all_dbs_2024-12-10_23-31-03/mined_and_acc_seqs.fasta'\n",
    "with open(fasta_file, 'w') as f:\n",
    "    for id, seq in zip(final_query_df['Accession'], final_query_df['Protein']):\n",
    "        f.write(f'>{id}\\n{seq}\\n')"
   ]
  },
  {
   "cell_type": "markdown",
   "metadata": {},
   "source": [
    "## <font color=#c994c7>Part 2 Objective</font> - Match sequence to it's closest MSP value based on OPTICS predictions\n",
    "\n",
    "We'll need to...\n",
    "\n",
    "- Query OPTICS with all the sequence data [bootstrap enabled]\n",
    "- Extract Predictions\n",
    "- Match to closest MSP value species-by-species [will need a list of the unique species names] // Match to MaxId as the foreign key"
   ]
  },
  {
   "cell_type": "code",
   "execution_count": 1,
   "metadata": {},
   "outputs": [],
   "source": [
    "import os\n",
    "import time \n",
    "import datetime\n",
    "import warnings\n",
    "import pandas as pd\n",
    "from deepBreaks.preprocessing import read_data\n",
    "from mnm_scripts.mine_n_match_functions_old import mine_n_match, post_process_matching, get_prots_from_acc\n",
    "\n",
    "warnings.filterwarnings(\"ignore\")\n",
    "warnings.simplefilter(\"ignore\")"
   ]
  },
  {
   "cell_type": "code",
   "execution_count": null,
   "metadata": {},
   "outputs": [],
   "source": [
    "report_dir = 'mnm_data/mnm_on_mnm_on_all_dbs_2024-12-10_23-31-03' #re-define the report directory if needed\n",
    "ncbi_q_file = f'./{report_dir}/mnm_on_all_dbs_ncbi_q_data_cleaned.csv'\n",
    "ncbi = pd.read_csv(ncbi_q_file)\n",
    "ncbi.head()"
   ]
  },
  {
   "cell_type": "code",
   "execution_count": null,
   "metadata": {},
   "outputs": [],
   "source": [
    "ncbi.shape"
   ]
  },
  {
   "cell_type": "code",
   "execution_count": null,
   "metadata": {},
   "outputs": [],
   "source": [
    "# Example use for OPTICS\n",
    "# python optics_predictions.py -in msp_mined_seqs.fasta -rd mined_msp_seqs -out mined_seq_predictions.tsv -m wildtype -e aa_prop -b True -ir msp_mined_seq_blastp_report.tsv -r bovine -s False -bsv msp_bs_viz.pdf\n",
    "pred_dir = 'e:/safra/Documents/GitHub/optics/prediction_outputs/mnm_opsins/optics_on_all_dbs_2024-12-12_11-49-37'\n",
    "optics_pred_file = f'{pred_dir}/all_dbs_predictions.tsv'\n",
    "optics = pd.read_csv(optics_pred_file, sep='\\t')\n",
    "\n",
    "optics.head()"
   ]
  },
  {
   "cell_type": "code",
   "execution_count": null,
   "metadata": {},
   "outputs": [],
   "source": [
    "optics.shape"
   ]
  },
  {
   "cell_type": "code",
   "execution_count": null,
   "metadata": {},
   "outputs": [],
   "source": [
    "source_file = './data_sources/lmax/cleaned_vpod_comp_accessory_dbs_2024-12-17_14-17-46.csv'\n",
    "comp_db = pd.read_csv(source_file)\n",
    "comp_db.head()"
   ]
  },
  {
   "cell_type": "code",
   "execution_count": null,
   "metadata": {},
   "outputs": [],
   "source": [
    "final_err_filtered_df = mine_n_match(report_dir, source_file, ncbi_q_file, optics_pred_file, out='vpod_acc_dbs', err_filter = 15)"
   ]
  },
  {
   "cell_type": "code",
   "execution_count": null,
   "metadata": {},
   "outputs": [],
   "source": [
    "final_err_filtered_df.head()"
   ]
  },
  {
   "cell_type": "code",
   "execution_count": null,
   "metadata": {},
   "outputs": [],
   "source": [
    "final_err_filtered_df.shape"
   ]
  }
 ],
 "metadata": {
  "kernelspec": {
   "display_name": "deepBreaks",
   "language": "python",
   "name": "python3"
  },
  "language_info": {
   "codemirror_mode": {
    "name": "ipython",
    "version": 3
   },
   "file_extension": ".py",
   "mimetype": "text/x-python",
   "name": "python",
   "nbconvert_exporter": "python",
   "pygments_lexer": "ipython3",
   "version": "3.9.17"
  },
  "orig_nbformat": 4
 },
 "nbformat": 4,
 "nbformat_minor": 2
}
