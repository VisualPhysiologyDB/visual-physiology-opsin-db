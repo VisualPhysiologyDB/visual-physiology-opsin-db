{
 "cells": [
  {
   "cell_type": "markdown",
   "metadata": {},
   "source": [
    "# <font color=#c51b8a>VPOD 'Mine-n-Match':</font>\n",
    "## <font color=#c994c7>Part 1 Objective</font> - Use Species Names from Microspectrophotemetry Data Sheet to Query NCBI for All Related Opsin Sequences  "
   ]
  },
  {
   "cell_type": "code",
   "execution_count": 1,
   "metadata": {},
   "outputs": [],
   "source": [
    "import os\n",
    "import re\n",
    "import datetime\n",
    "import time\n",
    "import pandas as pd\n",
    "from deepBreaks.preprocessing import read_data\n",
    "from Bio import Entrez, SeqIO\n",
    "email = 'sethfrazer@ucsb.edu'"
   ]
  },
  {
   "cell_type": "code",
   "execution_count": 2,
   "metadata": {},
   "outputs": [],
   "source": [
    "from mnm_scripts.mine_n_match_functions import ncbi_fetch_opsins, merge_accessory_dbs"
   ]
  },
  {
   "cell_type": "markdown",
   "metadata": {},
   "source": [
    "## <font color=#c51b8a>Load data-tables with all of the species and sequence data from accessory lmax databases</font> "
   ]
  },
  {
   "cell_type": "markdown",
   "metadata": {},
   "source": [
    "### <font color=#c994c7>VPOD Single Cell Microspectrophotmetry (SCP) Datatable </font>\n",
    "### In this case our dataframe does not have full species name in one column so we must create a list by directly combining the genus and species names. Then filter to create a list of all unique species names \n"
   ]
  },
  {
   "cell_type": "code",
   "execution_count": 14,
   "metadata": {},
   "outputs": [],
   "source": [
    "report_dir = './data_sources/lmax'\n",
    "species_list = []\n",
    "df_list = []"
   ]
  },
  {
   "cell_type": "code",
   "execution_count": null,
   "metadata": {},
   "outputs": [],
   "source": [
    "scp_file = f'{report_dir}/vpod/scp_raw.tsv'\n",
    "scp_df = pd.read_csv(scp_file, index_col=0, sep='\\t')\n",
    "scp_df['Full_Species'] = (scp_df['Genus'] + ' ' + scp_df['Species']).to_list()\n",
    "df_list.append(scp_df)\n",
    "scp_df.head()"
   ]
  },
  {
   "cell_type": "code",
   "execution_count": 16,
   "metadata": {},
   "outputs": [],
   "source": [
    "species_list+=scp_df['Full_Species'].to_list()"
   ]
  },
  {
   "cell_type": "markdown",
   "metadata": {},
   "source": [
    "### <font color=#c994c7>Longcore - 'Animal Photopigments' Datatable</font>\n",
    "\n",
    "### In this next case our dataframe has the full species name in one column so we can create a list directly and filter to create a list of all unique species names\n"
   ]
  },
  {
   "cell_type": "code",
   "execution_count": null,
   "metadata": {},
   "outputs": [],
   "source": [
    "longcore_file = f'{report_dir}/longcore_data/AnimalPhotopigmentsV1_1.csv'\n",
    "longcore_df = pd.read_csv(longcore_file, index_col=0)\n",
    "df_list.append(longcore_df)\n",
    "longcore_df.head()"
   ]
  },
  {
   "cell_type": "code",
   "execution_count": 18,
   "metadata": {},
   "outputs": [],
   "source": [
    "species_list+=longcore_df['Full_Species'].to_list()"
   ]
  },
  {
   "cell_type": "markdown",
   "metadata": {},
   "source": [
    "### <font color=#c994c7>Murphy and Westerman Datatable</font>"
   ]
  },
  {
   "cell_type": "code",
   "execution_count": null,
   "metadata": {},
   "outputs": [],
   "source": [
    "murphy_westerman_file = f'{report_dir}/murphy_westerman/Murphy and Westerman.csv'\n",
    "murphy_westerman_df = pd.read_csv(murphy_westerman_file, index_col=0)\n",
    "df_list.append(murphy_westerman_df)\n",
    "murphy_westerman_df.head()"
   ]
  },
  {
   "cell_type": "code",
   "execution_count": 9,
   "metadata": {},
   "outputs": [],
   "source": [
    "species_list+=murphy_westerman_df['Full_Species'].to_list()"
   ]
  },
  {
   "cell_type": "markdown",
   "metadata": {},
   "source": [
    "### <font color=#c994c7>Caves 'Fish' Datatable</font>"
   ]
  },
  {
   "cell_type": "code",
   "execution_count": null,
   "metadata": {},
   "outputs": [],
   "source": [
    "caves_fish_db_file = f'{report_dir}/caves/caves_fish_db.csv'\n",
    "caves_df = pd.read_csv(caves_fish_db_file, index_col=0)\n",
    "caves_df['Full_Species'] = (caves_df['Genus'] + ' ' + caves_df['Species']).to_list()\n",
    "df_list.append(caves_df)\n",
    "caves_df.head()"
   ]
  },
  {
   "cell_type": "code",
   "execution_count": 11,
   "metadata": {},
   "outputs": [],
   "source": [
    "species_list+=caves_df['Full_Species'].to_list()"
   ]
  },
  {
   "cell_type": "markdown",
   "metadata": {},
   "source": [
    "### <font color=#c994c7>Morgan Porter's Datatables</font>"
   ]
  },
  {
   "cell_type": "code",
   "execution_count": null,
   "metadata": {},
   "outputs": [],
   "source": [
    "porter_file1 = f'{report_dir}/megan_porter/megan_porter_extract_clean_2005.csv'\n",
    "porter_df1 = pd.read_csv(porter_file1, index_col=0)\n",
    "porter_df2 = pd.read_csv(f'{report_dir}/megan_porter/porter_2006_table1_clean.tsv', sep='\\t', index_col=0)\n",
    "df_list.append(porter_df1)\n",
    "df_list.append(porter_df2)\n",
    "porter_df1.head()"
   ]
  },
  {
   "cell_type": "code",
   "execution_count": null,
   "metadata": {},
   "outputs": [],
   "source": [
    "porter_df2.head()"
   ]
  },
  {
   "cell_type": "code",
   "execution_count": 14,
   "metadata": {},
   "outputs": [],
   "source": [
    "species_list += (porter_df1['Full_Species'].to_list() + porter_df2['Full_Species'].to_list())"
   ]
  },
  {
   "cell_type": "markdown",
   "metadata": {},
   "source": [
    "### <font color=#c994c7>Merge Accessory Databases</font>"
   ]
  },
  {
   "cell_type": "code",
   "execution_count": null,
   "metadata": {},
   "outputs": [],
   "source": [
    "# Call the function to merge all the species, lambdamax, and potential accession information into one dataframe\n",
    "merged_df = merge_accessory_dbs(df_list, report_dir)\n",
    "merged_df.head()"
   ]
  },
  {
   "cell_type": "code",
   "execution_count": null,
   "metadata": {},
   "outputs": [],
   "source": [
    "merged_df.shape"
   ]
  },
  {
   "cell_type": "markdown",
   "metadata": {},
   "source": [
    "### <font color=#c994c7>All unique species names have been extracted from accessory databases. Now we iteratively query NCBI for opsins from each species.</font>"
   ]
  },
  {
   "cell_type": "code",
   "execution_count": null,
   "metadata": {},
   "outputs": [],
   "source": [
    "len(species_list)"
   ]
  },
  {
   "cell_type": "code",
   "execution_count": null,
   "metadata": {},
   "outputs": [],
   "source": [
    "species_list = list(set(species_list))\n",
    "len(species_list)"
   ]
  },
  {
   "cell_type": "code",
   "execution_count": null,
   "metadata": {},
   "outputs": [],
   "source": [
    "ncbi_query_df = ncbi_fetch_opsins(email, job_label='mnm_on_all_dbs', out='mnm_on_all_dbs', species_list=species_list)"
   ]
  },
  {
   "cell_type": "code",
   "execution_count": null,
   "metadata": {},
   "outputs": [],
   "source": [
    "ncbi_query_df.head()"
   ]
  },
  {
   "cell_type": "code",
   "execution_count": null,
   "metadata": {},
   "outputs": [],
   "source": [
    "ncbi_query_df.shape"
   ]
  },
  {
   "cell_type": "markdown",
   "metadata": {},
   "source": [
    "## <font color=#c994c7>Part 2 Objective</font> - Match sequence to it's closest MSP value based on OPTICS predictions\n",
    "\n",
    "We'll need to...\n",
    "\n",
    "- Query OPTICS with all the sequence data [bootstrap enabled]\n",
    "- Extract Predictions\n",
    "- Match to closest MSP value species-by-species [will need a list of the unique species names] // Match to MaxId as the foreign key"
   ]
  },
  {
   "cell_type": "code",
   "execution_count": 1,
   "metadata": {},
   "outputs": [],
   "source": [
    "import os\n",
    "import time \n",
    "import datetime\n",
    "import warnings\n",
    "import pandas as pd\n",
    "from deepBreaks.preprocessing import read_data\n",
    "from mnm_scripts.mine_n_match_functions_old import mine_n_match, post_process_matching, get_prots_from_acc\n",
    "\n",
    "warnings.filterwarnings(\"ignore\")\n",
    "warnings.simplefilter(\"ignore\")"
   ]
  },
  {
   "cell_type": "code",
   "execution_count": 2,
   "metadata": {},
   "outputs": [
    {
     "data": {
      "text/html": [
       "<div>\n",
       "<style scoped>\n",
       "    .dataframe tbody tr th:only-of-type {\n",
       "        vertical-align: middle;\n",
       "    }\n",
       "\n",
       "    .dataframe tbody tr th {\n",
       "        vertical-align: top;\n",
       "    }\n",
       "\n",
       "    .dataframe thead th {\n",
       "        text-align: right;\n",
       "    }\n",
       "</style>\n",
       "<table border=\"1\" class=\"dataframe\">\n",
       "  <thead>\n",
       "    <tr style=\"text-align: right;\">\n",
       "      <th></th>\n",
       "      <th>Accession</th>\n",
       "      <th>Genus</th>\n",
       "      <th>Species</th>\n",
       "      <th>Full_Species</th>\n",
       "      <th>Protein</th>\n",
       "      <th>Gene_Description</th>\n",
       "    </tr>\n",
       "  </thead>\n",
       "  <tbody>\n",
       "    <tr>\n",
       "      <th>0</th>\n",
       "      <td>MN519158.1</td>\n",
       "      <td>Carcharhinus</td>\n",
       "      <td>melanopterus</td>\n",
       "      <td>Carcharhinus melanopterus</td>\n",
       "      <td>MNGTEGENFYVPFSNKTGVVRSPFEYPQYYLAEPWQFSIIAAYVFL...</td>\n",
       "      <td>Carcharhinus melanopterus isolate U16228 green...</td>\n",
       "    </tr>\n",
       "    <tr>\n",
       "      <th>1</th>\n",
       "      <td>MN519147.1</td>\n",
       "      <td>Carcharhinus</td>\n",
       "      <td>melanopterus</td>\n",
       "      <td>Carcharhinus melanopterus</td>\n",
       "      <td>MNGTEGENFYVPMSNKTGVVRSPFEYSQHYLAEPWMFSVLTAYMFF...</td>\n",
       "      <td>Carcharhinus melanopterus isolate CL4386 rhodo...</td>\n",
       "    </tr>\n",
       "    <tr>\n",
       "      <th>2</th>\n",
       "      <td>XM_022258443.2</td>\n",
       "      <td>Pieris</td>\n",
       "      <td>rapae</td>\n",
       "      <td>Pieris rapae</td>\n",
       "      <td>MMQITKIILILIPIIVPCDNSVTNELDIKCVKKSVLTKVYCTNLVR...</td>\n",
       "      <td>PREDICTED: Pieris rapae opsin, ultraviolet-sen...</td>\n",
       "    </tr>\n",
       "    <tr>\n",
       "      <th>3</th>\n",
       "      <td>AB208675.1</td>\n",
       "      <td>Pieris</td>\n",
       "      <td>rapae</td>\n",
       "      <td>Pieris rapae</td>\n",
       "      <td>MFDTVNATADGGAIAYAFKMVSSEVQENMLGFNIPPEHQDLVHEHW...</td>\n",
       "      <td>Pieris rapae PrB mRNA for opsin, complete cds</td>\n",
       "    </tr>\n",
       "    <tr>\n",
       "      <th>4</th>\n",
       "      <td>AB208674.1</td>\n",
       "      <td>Pieris</td>\n",
       "      <td>rapae</td>\n",
       "      <td>Pieris rapae</td>\n",
       "      <td>MELNYTAGDPIAFPFKMVSGEVQQHMLGWNIPAEHQGLVHEHWRQF...</td>\n",
       "      <td>Pieris rapae PrV mRNA for opsin, complete cds</td>\n",
       "    </tr>\n",
       "  </tbody>\n",
       "</table>\n",
       "</div>"
      ],
      "text/plain": [
       "        Accession         Genus       Species               Full_Species  \\\n",
       "0      MN519158.1  Carcharhinus  melanopterus  Carcharhinus melanopterus   \n",
       "1      MN519147.1  Carcharhinus  melanopterus  Carcharhinus melanopterus   \n",
       "2  XM_022258443.2        Pieris         rapae               Pieris rapae   \n",
       "3      AB208675.1        Pieris         rapae               Pieris rapae   \n",
       "4      AB208674.1        Pieris         rapae               Pieris rapae   \n",
       "\n",
       "                                             Protein  \\\n",
       "0  MNGTEGENFYVPFSNKTGVVRSPFEYPQYYLAEPWQFSIIAAYVFL...   \n",
       "1  MNGTEGENFYVPMSNKTGVVRSPFEYSQHYLAEPWMFSVLTAYMFF...   \n",
       "2  MMQITKIILILIPIIVPCDNSVTNELDIKCVKKSVLTKVYCTNLVR...   \n",
       "3  MFDTVNATADGGAIAYAFKMVSSEVQENMLGFNIPPEHQDLVHEHW...   \n",
       "4  MELNYTAGDPIAFPFKMVSGEVQQHMLGWNIPAEHQGLVHEHWRQF...   \n",
       "\n",
       "                                    Gene_Description  \n",
       "0  Carcharhinus melanopterus isolate U16228 green...  \n",
       "1  Carcharhinus melanopterus isolate CL4386 rhodo...  \n",
       "2  PREDICTED: Pieris rapae opsin, ultraviolet-sen...  \n",
       "3      Pieris rapae PrB mRNA for opsin, complete cds  \n",
       "4      Pieris rapae PrV mRNA for opsin, complete cds  "
      ]
     },
     "execution_count": 2,
     "metadata": {},
     "output_type": "execute_result"
    }
   ],
   "source": [
    "report_dir = 'mnm_data/mnm_on_mnm_on_all_dbs_2024-12-10_23-31-03' #re-define the report directory if needed\n",
    "ncbi_q_file = f'./{report_dir}/mnm_on_all_dbs_ncbi_q_data_cleaned.csv'\n",
    "ncbi = pd.read_csv(ncbi_q_file)\n",
    "ncbi.head()"
   ]
  },
  {
   "cell_type": "code",
   "execution_count": 3,
   "metadata": {},
   "outputs": [
    {
     "data": {
      "text/plain": [
       "(3359, 6)"
      ]
     },
     "execution_count": 3,
     "metadata": {},
     "output_type": "execute_result"
    }
   ],
   "source": [
    "ncbi.shape"
   ]
  },
  {
   "cell_type": "code",
   "execution_count": 3,
   "metadata": {},
   "outputs": [
    {
     "data": {
      "text/html": [
       "<div>\n",
       "<style scoped>\n",
       "    .dataframe tbody tr th:only-of-type {\n",
       "        vertical-align: middle;\n",
       "    }\n",
       "\n",
       "    .dataframe tbody tr th {\n",
       "        vertical-align: top;\n",
       "    }\n",
       "\n",
       "    .dataframe thead th {\n",
       "        text-align: right;\n",
       "    }\n",
       "</style>\n",
       "<table border=\"1\" class=\"dataframe\">\n",
       "  <thead>\n",
       "    <tr style=\"text-align: right;\">\n",
       "      <th></th>\n",
       "      <th>Names</th>\n",
       "      <th>Single_Prediction</th>\n",
       "      <th>Prediction_Means</th>\n",
       "      <th>Prediction_Medians</th>\n",
       "      <th>Prediction_Lower_Bounds</th>\n",
       "      <th>Prediction_Upper_Bounds</th>\n",
       "      <th>Std_Deviation</th>\n",
       "      <th>%Identity_Nearest_VPOD_Sequence</th>\n",
       "      <th>Sequence_Length</th>\n",
       "      <th>Lmax_Hex_Color</th>\n",
       "    </tr>\n",
       "  </thead>\n",
       "  <tbody>\n",
       "    <tr>\n",
       "      <th>0</th>\n",
       "      <td>MN519158.1</td>\n",
       "      <td>514.1</td>\n",
       "      <td>514.8</td>\n",
       "      <td>515.9</td>\n",
       "      <td>495.4</td>\n",
       "      <td>529.0</td>\n",
       "      <td>10.8</td>\n",
       "      <td>81.408</td>\n",
       "      <td>367</td>\n",
       "      <td>#1eff00</td>\n",
       "    </tr>\n",
       "    <tr>\n",
       "      <th>1</th>\n",
       "      <td>MN519147.1</td>\n",
       "      <td>490.0</td>\n",
       "      <td>499.7</td>\n",
       "      <td>500.0</td>\n",
       "      <td>491.0</td>\n",
       "      <td>506.6</td>\n",
       "      <td>4.0</td>\n",
       "      <td>89.266</td>\n",
       "      <td>367</td>\n",
       "      <td>#00ff96</td>\n",
       "    </tr>\n",
       "    <tr>\n",
       "      <th>2</th>\n",
       "      <td>XM_022258443.2</td>\n",
       "      <td>385.6</td>\n",
       "      <td>428.1</td>\n",
       "      <td>429.6</td>\n",
       "      <td>369.9</td>\n",
       "      <td>476.4</td>\n",
       "      <td>29.3</td>\n",
       "      <td>50.0</td>\n",
       "      <td>565</td>\n",
       "      <td>#3e00e2</td>\n",
       "    </tr>\n",
       "    <tr>\n",
       "      <th>3</th>\n",
       "      <td>AB208675.1</td>\n",
       "      <td>446.2</td>\n",
       "      <td>445.3</td>\n",
       "      <td>446.4</td>\n",
       "      <td>428.6</td>\n",
       "      <td>456.2</td>\n",
       "      <td>6.9</td>\n",
       "      <td>99.737</td>\n",
       "      <td>393</td>\n",
       "      <td>#002aff</td>\n",
       "    </tr>\n",
       "    <tr>\n",
       "      <th>4</th>\n",
       "      <td>AB208674.1</td>\n",
       "      <td>422.3</td>\n",
       "      <td>423.9</td>\n",
       "      <td>421.0</td>\n",
       "      <td>419.1</td>\n",
       "      <td>450.8</td>\n",
       "      <td>8.1</td>\n",
       "      <td>99.733</td>\n",
       "      <td>388</td>\n",
       "      <td>#4b00d8</td>\n",
       "    </tr>\n",
       "  </tbody>\n",
       "</table>\n",
       "</div>"
      ],
      "text/plain": [
       "            Names  Single_Prediction  Prediction_Means  Prediction_Medians  \\\n",
       "0      MN519158.1              514.1             514.8               515.9   \n",
       "1      MN519147.1              490.0             499.7               500.0   \n",
       "2  XM_022258443.2              385.6             428.1               429.6   \n",
       "3      AB208675.1              446.2             445.3               446.4   \n",
       "4      AB208674.1              422.3             423.9               421.0   \n",
       "\n",
       "   Prediction_Lower_Bounds  Prediction_Upper_Bounds  Std_Deviation  \\\n",
       "0                    495.4                    529.0           10.8   \n",
       "1                    491.0                    506.6            4.0   \n",
       "2                    369.9                    476.4           29.3   \n",
       "3                    428.6                    456.2            6.9   \n",
       "4                    419.1                    450.8            8.1   \n",
       "\n",
       "  %Identity_Nearest_VPOD_Sequence  Sequence_Length Lmax_Hex_Color  \n",
       "0                          81.408              367        #1eff00  \n",
       "1                          89.266              367        #00ff96  \n",
       "2                            50.0              565        #3e00e2  \n",
       "3                          99.737              393        #002aff  \n",
       "4                          99.733              388        #4b00d8  "
      ]
     },
     "execution_count": 3,
     "metadata": {},
     "output_type": "execute_result"
    }
   ],
   "source": [
    "# Example use for OPTICS\n",
    "# python optics_predictions.py -in msp_mined_seqs.fasta -rd mined_msp_seqs -out mined_seq_predictions.tsv -m wildtype -e aa_prop -b True -ir msp_mined_seq_blastp_report.tsv -r bovine -s False -bsv msp_bs_viz.pdf\n",
    "pred_dir = 'e:/safra/Documents/GitHub/optics/prediction_outputs/mnm_opsins/optics_on_all_dbs_2024-12-12_11-49-37'\n",
    "optics_pred_file = f'{pred_dir}/all_dbs_predictions.tsv'\n",
    "optics = pd.read_csv(optics_pred_file, sep='\\t')\n",
    "\n",
    "optics.head()"
   ]
  },
  {
   "cell_type": "code",
   "execution_count": 5,
   "metadata": {},
   "outputs": [
    {
     "data": {
      "text/plain": [
       "(3359, 10)"
      ]
     },
     "execution_count": 5,
     "metadata": {},
     "output_type": "execute_result"
    }
   ],
   "source": [
    "optics.shape"
   ]
  },
  {
   "cell_type": "code",
   "execution_count": 4,
   "metadata": {},
   "outputs": [
    {
     "data": {
      "text/html": [
       "<div>\n",
       "<style scoped>\n",
       "    .dataframe tbody tr th:only-of-type {\n",
       "        vertical-align: middle;\n",
       "    }\n",
       "\n",
       "    .dataframe tbody tr th {\n",
       "        vertical-align: top;\n",
       "    }\n",
       "\n",
       "    .dataframe thead th {\n",
       "        text-align: right;\n",
       "    }\n",
       "</style>\n",
       "<table border=\"1\" class=\"dataframe\">\n",
       "  <thead>\n",
       "    <tr style=\"text-align: right;\">\n",
       "      <th></th>\n",
       "      <th>comp_db_id</th>\n",
       "      <th>Full_Species</th>\n",
       "      <th>Accession</th>\n",
       "      <th>maxid</th>\n",
       "      <th>longcore_id</th>\n",
       "      <th>murwes_id</th>\n",
       "      <th>caves_id</th>\n",
       "      <th>porter2005_id</th>\n",
       "      <th>porter2006_id</th>\n",
       "      <th>LambdaMax</th>\n",
       "    </tr>\n",
       "  </thead>\n",
       "  <tbody>\n",
       "    <tr>\n",
       "      <th>0</th>\n",
       "      <td>0</td>\n",
       "      <td>Drosophila melanogaster</td>\n",
       "      <td>Z86118</td>\n",
       "      <td>NaN</td>\n",
       "      <td>NaN</td>\n",
       "      <td>NaN</td>\n",
       "      <td>NaN</td>\n",
       "      <td>NaN</td>\n",
       "      <td>42.0</td>\n",
       "      <td>508.0</td>\n",
       "    </tr>\n",
       "    <tr>\n",
       "      <th>1</th>\n",
       "      <td>1</td>\n",
       "      <td>Loligo subulata</td>\n",
       "      <td>Z49108</td>\n",
       "      <td>NaN</td>\n",
       "      <td>NaN</td>\n",
       "      <td>NaN</td>\n",
       "      <td>NaN</td>\n",
       "      <td>NaN</td>\n",
       "      <td>2.0</td>\n",
       "      <td>499.0</td>\n",
       "    </tr>\n",
       "    <tr>\n",
       "      <th>2</th>\n",
       "      <td>2</td>\n",
       "      <td>Schistocerca gregaria</td>\n",
       "      <td>X80072</td>\n",
       "      <td>NaN</td>\n",
       "      <td>NaN</td>\n",
       "      <td>NaN</td>\n",
       "      <td>NaN</td>\n",
       "      <td>NaN</td>\n",
       "      <td>46.0</td>\n",
       "      <td>430.0</td>\n",
       "    </tr>\n",
       "    <tr>\n",
       "      <th>3</th>\n",
       "      <td>3</td>\n",
       "      <td>Schistocerca gregaria</td>\n",
       "      <td>X80071</td>\n",
       "      <td>NaN</td>\n",
       "      <td>NaN</td>\n",
       "      <td>NaN</td>\n",
       "      <td>NaN</td>\n",
       "      <td>NaN</td>\n",
       "      <td>39.0</td>\n",
       "      <td>520.0</td>\n",
       "    </tr>\n",
       "    <tr>\n",
       "      <th>4</th>\n",
       "      <td>4</td>\n",
       "      <td>Sphodromantis sp.</td>\n",
       "      <td>X71665</td>\n",
       "      <td>NaN</td>\n",
       "      <td>NaN</td>\n",
       "      <td>NaN</td>\n",
       "      <td>NaN</td>\n",
       "      <td>NaN</td>\n",
       "      <td>40.0</td>\n",
       "      <td>515.0</td>\n",
       "    </tr>\n",
       "  </tbody>\n",
       "</table>\n",
       "</div>"
      ],
      "text/plain": [
       "   comp_db_id             Full_Species Accession  maxid  longcore_id  \\\n",
       "0           0  Drosophila melanogaster    Z86118    NaN          NaN   \n",
       "1           1          Loligo subulata    Z49108    NaN          NaN   \n",
       "2           2    Schistocerca gregaria    X80072    NaN          NaN   \n",
       "3           3    Schistocerca gregaria    X80071    NaN          NaN   \n",
       "4           4        Sphodromantis sp.    X71665    NaN          NaN   \n",
       "\n",
       "   murwes_id  caves_id  porter2005_id  porter2006_id  LambdaMax  \n",
       "0        NaN       NaN            NaN           42.0      508.0  \n",
       "1        NaN       NaN            NaN            2.0      499.0  \n",
       "2        NaN       NaN            NaN           46.0      430.0  \n",
       "3        NaN       NaN            NaN           39.0      520.0  \n",
       "4        NaN       NaN            NaN           40.0      515.0  "
      ]
     },
     "execution_count": 4,
     "metadata": {},
     "output_type": "execute_result"
    }
   ],
   "source": [
    "source_file = './data_sources/lmax/cleaned_vpod_comp_accessory_dbs_2024-12-17_14-17-46.csv'\n",
    "comp_db = pd.read_csv(source_file)\n",
    "comp_db.head()"
   ]
  },
  {
   "cell_type": "code",
   "execution_count": 14,
   "metadata": {},
   "outputs": [
    {
     "data": {
      "text/plain": [
       "Full_Species     Neomysis americana\n",
       "Accession         DQ852592–DQ852598\n",
       "maxid                           NaN\n",
       "longcore_id                     NaN\n",
       "murwes_id                       NaN\n",
       "caves_id                        NaN\n",
       "porter2005_id                   NaN\n",
       "porter2006_id                  18.0\n",
       "LambdaMax                     520.0\n",
       "Name: 21, dtype: object"
      ]
     },
     "execution_count": 14,
     "metadata": {},
     "output_type": "execute_result"
    }
   ],
   "source": [
    "comp_db.iloc[21]"
   ]
  },
  {
   "cell_type": "code",
   "execution_count": 5,
   "metadata": {},
   "outputs": [
    {
     "name": "stdout",
     "output_type": "stream",
     "text": [
      "There were 0 unmatched species\n"
     ]
    }
   ],
   "source": [
    "final_err_filtered_df = mine_n_match(report_dir, source_file, ncbi_q_file, optics_pred_file, out='vpod_acc_dbs', err_filter = 15)"
   ]
  },
  {
   "cell_type": "code",
   "execution_count": 6,
   "metadata": {},
   "outputs": [
    {
     "data": {
      "text/html": [
       "<div>\n",
       "<style scoped>\n",
       "    .dataframe tbody tr th:only-of-type {\n",
       "        vertical-align: middle;\n",
       "    }\n",
       "\n",
       "    .dataframe tbody tr th {\n",
       "        vertical-align: top;\n",
       "    }\n",
       "\n",
       "    .dataframe thead th {\n",
       "        text-align: right;\n",
       "    }\n",
       "</style>\n",
       "<table border=\"1\" class=\"dataframe\">\n",
       "  <thead>\n",
       "    <tr style=\"text-align: right;\">\n",
       "      <th></th>\n",
       "      <th>Accession</th>\n",
       "      <th>Genus</th>\n",
       "      <th>Species</th>\n",
       "      <th>%Identity_Nearest_VPOD_Sequence</th>\n",
       "      <th>prediction_value</th>\n",
       "      <th>LambdaMax</th>\n",
       "      <th>abs_diff</th>\n",
       "      <th>comp_db_id</th>\n",
       "      <th>Protein</th>\n",
       "      <th>Gene_Description</th>\n",
       "      <th>Notes</th>\n",
       "    </tr>\n",
       "    <tr>\n",
       "      <th>mnm_id</th>\n",
       "      <th></th>\n",
       "      <th></th>\n",
       "      <th></th>\n",
       "      <th></th>\n",
       "      <th></th>\n",
       "      <th></th>\n",
       "      <th></th>\n",
       "      <th></th>\n",
       "      <th></th>\n",
       "      <th></th>\n",
       "      <th></th>\n",
       "    </tr>\n",
       "  </thead>\n",
       "  <tbody>\n",
       "    <tr>\n",
       "      <th>0</th>\n",
       "      <td>XM_034071738.1</td>\n",
       "      <td>Melopsittacus</td>\n",
       "      <td>undulatus</td>\n",
       "      <td>92.437</td>\n",
       "      <td>558.7</td>\n",
       "      <td>566.0</td>\n",
       "      <td>7.3</td>\n",
       "      <td>2683</td>\n",
       "      <td>MAAAWPAVMAARRRHEDEETTRDSVFTYTNSNNTRGPFDGPNYHIA...</td>\n",
       "      <td>PREDICTED: Melopsittacus undulatus red-sensiti...</td>\n",
       "      <td>NaN</td>\n",
       "    </tr>\n",
       "    <tr>\n",
       "      <th>1</th>\n",
       "      <td>KF134493.1</td>\n",
       "      <td>Platycercus</td>\n",
       "      <td>elegans</td>\n",
       "      <td>92.997</td>\n",
       "      <td>560.4</td>\n",
       "      <td>567.0</td>\n",
       "      <td>6.6</td>\n",
       "      <td>2617</td>\n",
       "      <td>MAAAWPAVMAARRRHEDEETTRDSVFTYTNSNNTRGPFDGPNYHIA...</td>\n",
       "      <td>Platycercus elegans LWS opsin mRNA, complete cds</td>\n",
       "      <td>NaN</td>\n",
       "    </tr>\n",
       "    <tr>\n",
       "      <th>2</th>\n",
       "      <td>AB725207.1</td>\n",
       "      <td>Graphium</td>\n",
       "      <td>sarpedon</td>\n",
       "      <td>80.163</td>\n",
       "      <td>448.5</td>\n",
       "      <td>460.0</td>\n",
       "      <td>11.5</td>\n",
       "      <td>1441</td>\n",
       "      <td>MAANYTDDIGPMAYPMKLVSSEMVEHMMGWNIPEEHRDMVHEHWRN...</td>\n",
       "      <td>Graphium sarpedon GsB mRNA for B-sensitive ops...</td>\n",
       "      <td>NaN</td>\n",
       "    </tr>\n",
       "    <tr>\n",
       "      <th>3</th>\n",
       "      <td>NM_205440.2</td>\n",
       "      <td>Gallus</td>\n",
       "      <td>gallus</td>\n",
       "      <td>95.856</td>\n",
       "      <td>567.0</td>\n",
       "      <td>569.0</td>\n",
       "      <td>2.0</td>\n",
       "      <td>2497</td>\n",
       "      <td>MAAWEAAFAARRRHEEEDTTRDSVFTYTNSNNTRGPFEGPNYHIAP...</td>\n",
       "      <td>Gallus gallus opsin 1 (cone pigments), long-wa...</td>\n",
       "      <td>NaN</td>\n",
       "    </tr>\n",
       "    <tr>\n",
       "      <th>4</th>\n",
       "      <td>JF823560.1</td>\n",
       "      <td>Poecilia</td>\n",
       "      <td>mexicana</td>\n",
       "      <td>89.607</td>\n",
       "      <td>530.6</td>\n",
       "      <td>537.0</td>\n",
       "      <td>6.4</td>\n",
       "      <td>1091</td>\n",
       "      <td>MAEDWGKQAFAPWKNNEETTRGFAFTYTNSNHTRDPFEGPNYHIAP...</td>\n",
       "      <td>Poecilia mexicana opsin locus R long-wave sens...</td>\n",
       "      <td>NaN</td>\n",
       "    </tr>\n",
       "  </tbody>\n",
       "</table>\n",
       "</div>"
      ],
      "text/plain": [
       "             Accession          Genus    Species  \\\n",
       "mnm_id                                             \n",
       "0       XM_034071738.1  Melopsittacus  undulatus   \n",
       "1           KF134493.1    Platycercus    elegans   \n",
       "2           AB725207.1       Graphium   sarpedon   \n",
       "3          NM_205440.2         Gallus     gallus   \n",
       "4           JF823560.1       Poecilia   mexicana   \n",
       "\n",
       "       %Identity_Nearest_VPOD_Sequence  prediction_value  LambdaMax  abs_diff  \\\n",
       "mnm_id                                                                          \n",
       "0                               92.437             558.7      566.0       7.3   \n",
       "1                               92.997             560.4      567.0       6.6   \n",
       "2                               80.163             448.5      460.0      11.5   \n",
       "3                               95.856             567.0      569.0       2.0   \n",
       "4                               89.607             530.6      537.0       6.4   \n",
       "\n",
       "        comp_db_id                                            Protein  \\\n",
       "mnm_id                                                                  \n",
       "0             2683  MAAAWPAVMAARRRHEDEETTRDSVFTYTNSNNTRGPFDGPNYHIA...   \n",
       "1             2617  MAAAWPAVMAARRRHEDEETTRDSVFTYTNSNNTRGPFDGPNYHIA...   \n",
       "2             1441  MAANYTDDIGPMAYPMKLVSSEMVEHMMGWNIPEEHRDMVHEHWRN...   \n",
       "3             2497  MAAWEAAFAARRRHEEEDTTRDSVFTYTNSNNTRGPFEGPNYHIAP...   \n",
       "4             1091  MAEDWGKQAFAPWKNNEETTRGFAFTYTNSNHTRDPFEGPNYHIAP...   \n",
       "\n",
       "                                         Gene_Description Notes  \n",
       "mnm_id                                                           \n",
       "0       PREDICTED: Melopsittacus undulatus red-sensiti...   NaN  \n",
       "1        Platycercus elegans LWS opsin mRNA, complete cds   NaN  \n",
       "2       Graphium sarpedon GsB mRNA for B-sensitive ops...   NaN  \n",
       "3       Gallus gallus opsin 1 (cone pigments), long-wa...   NaN  \n",
       "4       Poecilia mexicana opsin locus R long-wave sens...   NaN  "
      ]
     },
     "execution_count": 6,
     "metadata": {},
     "output_type": "execute_result"
    }
   ],
   "source": [
    "final_err_filtered_df.head()"
   ]
  },
  {
   "cell_type": "code",
   "execution_count": 12,
   "metadata": {},
   "outputs": [
    {
     "data": {
      "text/plain": [
       "(402, 11)"
      ]
     },
     "execution_count": 12,
     "metadata": {},
     "output_type": "execute_result"
    }
   ],
   "source": [
    "final_err_filtered_df.shape"
   ]
  },
  {
   "cell_type": "code",
   "execution_count": 20,
   "metadata": {},
   "outputs": [
    {
     "data": {
      "text/html": [
       "<div>\n",
       "<style scoped>\n",
       "    .dataframe tbody tr th:only-of-type {\n",
       "        vertical-align: middle;\n",
       "    }\n",
       "\n",
       "    .dataframe tbody tr th {\n",
       "        vertical-align: top;\n",
       "    }\n",
       "\n",
       "    .dataframe thead th {\n",
       "        text-align: right;\n",
       "    }\n",
       "</style>\n",
       "<table border=\"1\" class=\"dataframe\">\n",
       "  <thead>\n",
       "    <tr style=\"text-align: right;\">\n",
       "      <th></th>\n",
       "      <th>comp_db_id</th>\n",
       "      <th>Full_Species</th>\n",
       "      <th>Accession</th>\n",
       "      <th>maxid</th>\n",
       "      <th>longcore_id</th>\n",
       "      <th>murwes_id</th>\n",
       "      <th>caves_id</th>\n",
       "      <th>porter2005_id</th>\n",
       "      <th>porter2006_id</th>\n",
       "      <th>LambdaMax</th>\n",
       "    </tr>\n",
       "  </thead>\n",
       "  <tbody>\n",
       "    <tr>\n",
       "      <th>0</th>\n",
       "      <td>0</td>\n",
       "      <td>Drosophila melanogaster</td>\n",
       "      <td>Z86118</td>\n",
       "      <td>NaN</td>\n",
       "      <td>NaN</td>\n",
       "      <td>NaN</td>\n",
       "      <td>NaN</td>\n",
       "      <td>NaN</td>\n",
       "      <td>42.0</td>\n",
       "      <td>508.0</td>\n",
       "    </tr>\n",
       "    <tr>\n",
       "      <th>1</th>\n",
       "      <td>1</td>\n",
       "      <td>Loligo subulata</td>\n",
       "      <td>Z49108</td>\n",
       "      <td>NaN</td>\n",
       "      <td>NaN</td>\n",
       "      <td>NaN</td>\n",
       "      <td>NaN</td>\n",
       "      <td>NaN</td>\n",
       "      <td>2.0</td>\n",
       "      <td>499.0</td>\n",
       "    </tr>\n",
       "    <tr>\n",
       "      <th>2</th>\n",
       "      <td>2</td>\n",
       "      <td>Schistocerca gregaria</td>\n",
       "      <td>X80072</td>\n",
       "      <td>NaN</td>\n",
       "      <td>NaN</td>\n",
       "      <td>NaN</td>\n",
       "      <td>NaN</td>\n",
       "      <td>NaN</td>\n",
       "      <td>46.0</td>\n",
       "      <td>430.0</td>\n",
       "    </tr>\n",
       "    <tr>\n",
       "      <th>3</th>\n",
       "      <td>3</td>\n",
       "      <td>Schistocerca gregaria</td>\n",
       "      <td>X80071</td>\n",
       "      <td>NaN</td>\n",
       "      <td>NaN</td>\n",
       "      <td>NaN</td>\n",
       "      <td>NaN</td>\n",
       "      <td>NaN</td>\n",
       "      <td>39.0</td>\n",
       "      <td>520.0</td>\n",
       "    </tr>\n",
       "    <tr>\n",
       "      <th>4</th>\n",
       "      <td>4</td>\n",
       "      <td>Sphodromantis sp.</td>\n",
       "      <td>X71665</td>\n",
       "      <td>NaN</td>\n",
       "      <td>NaN</td>\n",
       "      <td>NaN</td>\n",
       "      <td>NaN</td>\n",
       "      <td>NaN</td>\n",
       "      <td>40.0</td>\n",
       "      <td>515.0</td>\n",
       "    </tr>\n",
       "    <tr>\n",
       "      <th>...</th>\n",
       "      <td>...</td>\n",
       "      <td>...</td>\n",
       "      <td>...</td>\n",
       "      <td>...</td>\n",
       "      <td>...</td>\n",
       "      <td>...</td>\n",
       "      <td>...</td>\n",
       "      <td>...</td>\n",
       "      <td>...</td>\n",
       "      <td>...</td>\n",
       "    </tr>\n",
       "    <tr>\n",
       "      <th>3463</th>\n",
       "      <td>3463</td>\n",
       "      <td>Heliconius erato petiverana</td>\n",
       "      <td>NaN</td>\n",
       "      <td>1563.0</td>\n",
       "      <td>NaN</td>\n",
       "      <td>NaN</td>\n",
       "      <td>NaN</td>\n",
       "      <td>NaN</td>\n",
       "      <td>NaN</td>\n",
       "      <td>390.0</td>\n",
       "    </tr>\n",
       "    <tr>\n",
       "      <th>3464</th>\n",
       "      <td>3464</td>\n",
       "      <td>Heliconius erato petiverana</td>\n",
       "      <td>NaN</td>\n",
       "      <td>1564.0</td>\n",
       "      <td>NaN</td>\n",
       "      <td>NaN</td>\n",
       "      <td>NaN</td>\n",
       "      <td>NaN</td>\n",
       "      <td>NaN</td>\n",
       "      <td>469.0</td>\n",
       "    </tr>\n",
       "    <tr>\n",
       "      <th>3465</th>\n",
       "      <td>3465</td>\n",
       "      <td>Heliconius erato petiverana</td>\n",
       "      <td>NaN</td>\n",
       "      <td>1565.0</td>\n",
       "      <td>NaN</td>\n",
       "      <td>NaN</td>\n",
       "      <td>NaN</td>\n",
       "      <td>NaN</td>\n",
       "      <td>NaN</td>\n",
       "      <td>556.0</td>\n",
       "    </tr>\n",
       "    <tr>\n",
       "      <th>3466</th>\n",
       "      <td>3466</td>\n",
       "      <td>Pieris rapae crucivora</td>\n",
       "      <td>NaN</td>\n",
       "      <td>1569.0</td>\n",
       "      <td>NaN</td>\n",
       "      <td>NaN</td>\n",
       "      <td>NaN</td>\n",
       "      <td>NaN</td>\n",
       "      <td>NaN</td>\n",
       "      <td>563.0</td>\n",
       "    </tr>\n",
       "    <tr>\n",
       "      <th>3467</th>\n",
       "      <td>3467</td>\n",
       "      <td>Neoceratodus forsteri</td>\n",
       "      <td>NaN</td>\n",
       "      <td>1570.0</td>\n",
       "      <td>NaN</td>\n",
       "      <td>NaN</td>\n",
       "      <td>NaN</td>\n",
       "      <td>NaN</td>\n",
       "      <td>NaN</td>\n",
       "      <td>366.0</td>\n",
       "    </tr>\n",
       "  </tbody>\n",
       "</table>\n",
       "<p>3468 rows × 10 columns</p>\n",
       "</div>"
      ],
      "text/plain": [
       "      comp_db_id                 Full_Species Accession   maxid  longcore_id  \\\n",
       "0              0      Drosophila melanogaster    Z86118     NaN          NaN   \n",
       "1              1              Loligo subulata    Z49108     NaN          NaN   \n",
       "2              2        Schistocerca gregaria    X80072     NaN          NaN   \n",
       "3              3        Schistocerca gregaria    X80071     NaN          NaN   \n",
       "4              4            Sphodromantis sp.    X71665     NaN          NaN   \n",
       "...          ...                          ...       ...     ...          ...   \n",
       "3463        3463  Heliconius erato petiverana       NaN  1563.0          NaN   \n",
       "3464        3464  Heliconius erato petiverana       NaN  1564.0          NaN   \n",
       "3465        3465  Heliconius erato petiverana       NaN  1565.0          NaN   \n",
       "3466        3466       Pieris rapae crucivora       NaN  1569.0          NaN   \n",
       "3467        3467        Neoceratodus forsteri       NaN  1570.0          NaN   \n",
       "\n",
       "      murwes_id  caves_id  porter2005_id  porter2006_id  LambdaMax  \n",
       "0           NaN       NaN            NaN           42.0      508.0  \n",
       "1           NaN       NaN            NaN            2.0      499.0  \n",
       "2           NaN       NaN            NaN           46.0      430.0  \n",
       "3           NaN       NaN            NaN           39.0      520.0  \n",
       "4           NaN       NaN            NaN           40.0      515.0  \n",
       "...         ...       ...            ...            ...        ...  \n",
       "3463        NaN       NaN            NaN            NaN      390.0  \n",
       "3464        NaN       NaN            NaN            NaN      469.0  \n",
       "3465        NaN       NaN            NaN            NaN      556.0  \n",
       "3466        NaN       NaN            NaN            NaN      563.0  \n",
       "3467        NaN       NaN            NaN            NaN      366.0  \n",
       "\n",
       "[3468 rows x 10 columns]"
      ]
     },
     "execution_count": 20,
     "metadata": {},
     "output_type": "execute_result"
    }
   ],
   "source": [
    "df_2"
   ]
  },
  {
   "cell_type": "code",
   "execution_count": 12,
   "metadata": {},
   "outputs": [],
   "source": [
    "# Replace the missing values in the `Accession` column with an empty string\n",
    "df_2 = comp_db.copy()\n",
    "df_2= df_2[~df_2[\"Accession\"].isna()].reset_index(drop = True)\n",
    "\n",
    "# Filter the Accession column to include only those without '-' or '–'\n",
    "df_2 = df_2[~df_2[\"Accession\"].str.contains(\"-|–\")].reset_index(drop = True)\n",
    "\n",
    "# Create a list of `Accession` in `result_df`\n",
    "accession_list = final_err_filtered_df[\"Accession\"].to_list()\n",
    "\n",
    "# Filter `df_2` to include only those whose `Accession` is not in `accession_list`\n",
    "df_2_filtered = df_2[~df_2[\"Accession\"].isin(accession_list)].reset_index(drop = True)\n"
   ]
  },
  {
   "cell_type": "code",
   "execution_count": 7,
   "metadata": {},
   "outputs": [],
   "source": [
    "prot_list = get_prots_from_acc(df_2_filtered['Accession'].to_list())"
   ]
  },
  {
   "cell_type": "code",
   "execution_count": 13,
   "metadata": {},
   "outputs": [],
   "source": [
    "df_2_filtered['Protein'] = prot_list"
   ]
  },
  {
   "cell_type": "code",
   "execution_count": 14,
   "metadata": {},
   "outputs": [],
   "source": [
    "# Split the `Full_Species` column by the first space (' ') into `Genus` and `Species`\n",
    "g_list = [x.split(' ')[0] for x in df_2_filtered['Full_Species']]\n",
    "sp_list = [' '.join(x.split(' ')[1:]) for x in df_2_filtered['Full_Species']]\n",
    "sp_list = [' '.join(x.split(' ')[0:]) for x in sp_list]\n",
    "\n",
    "df_2_filtered[\"Genus\"] = g_list\n",
    "df_2_filtered[\"Species\"] = sp_list\n",
    "\n",
    "# Take the `comp_db_id`, `Genus`, `Species`, `Accession`, and `LambdaMax` from the filtered dataframe and rename the `LambdaMax` column to `closest_measurement`\n",
    "df_2_filtered = df_2_filtered[[\"comp_db_id\", \"Genus\", \"Species\", \"Accession\", \"LambdaMax\", \"Protein\"]]\n",
    "\n",
    "# Add a column named `Notes` with the text 'Known sequence specified in accessory database'\n",
    "df_2_filtered[\"Notes\"] = \"Known sequence specified in accessory database\"\n",
    "\n",
    "# Concatenate this series with the `result_df` dataframe\n",
    "result_df2 = pd.concat([final_err_filtered_df, df_2_filtered]).reset_index(drop = True)\n",
    "result_df2.index.name = 'mnm_id'\n"
   ]
  },
  {
   "cell_type": "code",
   "execution_count": 15,
   "metadata": {},
   "outputs": [
    {
     "data": {
      "text/html": [
       "<div>\n",
       "<style scoped>\n",
       "    .dataframe tbody tr th:only-of-type {\n",
       "        vertical-align: middle;\n",
       "    }\n",
       "\n",
       "    .dataframe tbody tr th {\n",
       "        vertical-align: top;\n",
       "    }\n",
       "\n",
       "    .dataframe thead th {\n",
       "        text-align: right;\n",
       "    }\n",
       "</style>\n",
       "<table border=\"1\" class=\"dataframe\">\n",
       "  <thead>\n",
       "    <tr style=\"text-align: right;\">\n",
       "      <th></th>\n",
       "      <th>Accession</th>\n",
       "      <th>Genus</th>\n",
       "      <th>Species</th>\n",
       "      <th>%Identity_Nearest_VPOD_Sequence</th>\n",
       "      <th>prediction_value</th>\n",
       "      <th>LambdaMax</th>\n",
       "      <th>abs_diff</th>\n",
       "      <th>comp_db_id</th>\n",
       "      <th>Protein</th>\n",
       "      <th>Gene_Description</th>\n",
       "      <th>Notes</th>\n",
       "    </tr>\n",
       "    <tr>\n",
       "      <th>mnm_id</th>\n",
       "      <th></th>\n",
       "      <th></th>\n",
       "      <th></th>\n",
       "      <th></th>\n",
       "      <th></th>\n",
       "      <th></th>\n",
       "      <th></th>\n",
       "      <th></th>\n",
       "      <th></th>\n",
       "      <th></th>\n",
       "      <th></th>\n",
       "    </tr>\n",
       "  </thead>\n",
       "  <tbody>\n",
       "    <tr>\n",
       "      <th>0</th>\n",
       "      <td>XM_034071738.1</td>\n",
       "      <td>Melopsittacus</td>\n",
       "      <td>undulatus</td>\n",
       "      <td>92.437</td>\n",
       "      <td>558.7</td>\n",
       "      <td>566.0</td>\n",
       "      <td>7.3</td>\n",
       "      <td>2683</td>\n",
       "      <td>MAAAWPAVMAARRRHEDEETTRDSVFTYTNSNNTRGPFDGPNYHIA...</td>\n",
       "      <td>PREDICTED: Melopsittacus undulatus red-sensiti...</td>\n",
       "      <td>NaN</td>\n",
       "    </tr>\n",
       "    <tr>\n",
       "      <th>1</th>\n",
       "      <td>KF134493.1</td>\n",
       "      <td>Platycercus</td>\n",
       "      <td>elegans</td>\n",
       "      <td>92.997</td>\n",
       "      <td>560.4</td>\n",
       "      <td>567.0</td>\n",
       "      <td>6.6</td>\n",
       "      <td>2617</td>\n",
       "      <td>MAAAWPAVMAARRRHEDEETTRDSVFTYTNSNNTRGPFDGPNYHIA...</td>\n",
       "      <td>Platycercus elegans LWS opsin mRNA, complete cds</td>\n",
       "      <td>NaN</td>\n",
       "    </tr>\n",
       "    <tr>\n",
       "      <th>2</th>\n",
       "      <td>AB725207.1</td>\n",
       "      <td>Graphium</td>\n",
       "      <td>sarpedon</td>\n",
       "      <td>80.163</td>\n",
       "      <td>448.5</td>\n",
       "      <td>460.0</td>\n",
       "      <td>11.5</td>\n",
       "      <td>1441</td>\n",
       "      <td>MAANYTDDIGPMAYPMKLVSSEMVEHMMGWNIPEEHRDMVHEHWRN...</td>\n",
       "      <td>Graphium sarpedon GsB mRNA for B-sensitive ops...</td>\n",
       "      <td>NaN</td>\n",
       "    </tr>\n",
       "    <tr>\n",
       "      <th>3</th>\n",
       "      <td>NM_205440.2</td>\n",
       "      <td>Gallus</td>\n",
       "      <td>gallus</td>\n",
       "      <td>95.856</td>\n",
       "      <td>567.0</td>\n",
       "      <td>569.0</td>\n",
       "      <td>2.0</td>\n",
       "      <td>2497</td>\n",
       "      <td>MAAWEAAFAARRRHEEEDTTRDSVFTYTNSNNTRGPFEGPNYHIAP...</td>\n",
       "      <td>Gallus gallus opsin 1 (cone pigments), long-wa...</td>\n",
       "      <td>NaN</td>\n",
       "    </tr>\n",
       "    <tr>\n",
       "      <th>4</th>\n",
       "      <td>JF823560.1</td>\n",
       "      <td>Poecilia</td>\n",
       "      <td>mexicana</td>\n",
       "      <td>89.607</td>\n",
       "      <td>530.6</td>\n",
       "      <td>537.0</td>\n",
       "      <td>6.4</td>\n",
       "      <td>1091</td>\n",
       "      <td>MAEDWGKQAFAPWKNNEETTRGFAFTYTNSNHTRDPFEGPNYHIAP...</td>\n",
       "      <td>Poecilia mexicana opsin locus R long-wave sens...</td>\n",
       "      <td>NaN</td>\n",
       "    </tr>\n",
       "  </tbody>\n",
       "</table>\n",
       "</div>"
      ],
      "text/plain": [
       "             Accession          Genus    Species  \\\n",
       "mnm_id                                             \n",
       "0       XM_034071738.1  Melopsittacus  undulatus   \n",
       "1           KF134493.1    Platycercus    elegans   \n",
       "2           AB725207.1       Graphium   sarpedon   \n",
       "3          NM_205440.2         Gallus     gallus   \n",
       "4           JF823560.1       Poecilia   mexicana   \n",
       "\n",
       "       %Identity_Nearest_VPOD_Sequence  prediction_value  LambdaMax  abs_diff  \\\n",
       "mnm_id                                                                          \n",
       "0                               92.437             558.7      566.0       7.3   \n",
       "1                               92.997             560.4      567.0       6.6   \n",
       "2                               80.163             448.5      460.0      11.5   \n",
       "3                               95.856             567.0      569.0       2.0   \n",
       "4                               89.607             530.6      537.0       6.4   \n",
       "\n",
       "        comp_db_id                                            Protein  \\\n",
       "mnm_id                                                                  \n",
       "0             2683  MAAAWPAVMAARRRHEDEETTRDSVFTYTNSNNTRGPFDGPNYHIA...   \n",
       "1             2617  MAAAWPAVMAARRRHEDEETTRDSVFTYTNSNNTRGPFDGPNYHIA...   \n",
       "2             1441  MAANYTDDIGPMAYPMKLVSSEMVEHMMGWNIPEEHRDMVHEHWRN...   \n",
       "3             2497  MAAWEAAFAARRRHEEEDTTRDSVFTYTNSNNTRGPFEGPNYHIAP...   \n",
       "4             1091  MAEDWGKQAFAPWKNNEETTRGFAFTYTNSNHTRDPFEGPNYHIAP...   \n",
       "\n",
       "                                         Gene_Description Notes  \n",
       "mnm_id                                                           \n",
       "0       PREDICTED: Melopsittacus undulatus red-sensiti...   NaN  \n",
       "1        Platycercus elegans LWS opsin mRNA, complete cds   NaN  \n",
       "2       Graphium sarpedon GsB mRNA for B-sensitive ops...   NaN  \n",
       "3       Gallus gallus opsin 1 (cone pigments), long-wa...   NaN  \n",
       "4       Poecilia mexicana opsin locus R long-wave sens...   NaN  "
      ]
     },
     "execution_count": 15,
     "metadata": {},
     "output_type": "execute_result"
    }
   ],
   "source": [
    "result_df2.head()"
   ]
  },
  {
   "cell_type": "code",
   "execution_count": 16,
   "metadata": {},
   "outputs": [],
   "source": [
    "result_df2.to_csv('mnm_on_vpod_acc_dbs_final_results_fully_filtered_2.csv')"
   ]
  },
  {
   "cell_type": "markdown",
   "metadata": {},
   "source": [
    "## Potential Solution for Species Synonyms"
   ]
  },
  {
   "cell_type": "code",
   "execution_count": null,
   "metadata": {},
   "outputs": [],
   "source": [
    "#test code for getting species synonyms for ncbi search... \n",
    "#maybe add a spelling correction for species names too?\n",
    "# Example usage\n",
    "species_list = [\"Homo sapiens\", \"Mus musculus\", \"Drosophila melanogaster\"]\n",
    "for species in species_list:\n",
    "    synonyms = get_species_synonyms(species)\n",
    "    print(f\"{species} synonyms: {synonyms}\")\n",
    "\n",
    "    # Now use both the original name and synonyms in your NCBI query\n",
    "    all_names = [species] + synonyms\n",
    "    for name in all_names:\n",
    "        # Perform your Entrez search for opsins here (e.g., using Entrez.esearch and Entrez.efetch)\n",
    "        # ..."
   ]
  }
 ],
 "metadata": {
  "kernelspec": {
   "display_name": "deepBreaks",
   "language": "python",
   "name": "python3"
  },
  "language_info": {
   "codemirror_mode": {
    "name": "ipython",
    "version": 3
   },
   "file_extension": ".py",
   "mimetype": "text/x-python",
   "name": "python",
   "nbconvert_exporter": "python",
   "pygments_lexer": "ipython3",
   "version": "3.9.17"
  },
  "orig_nbformat": 4
 },
 "nbformat": 4,
 "nbformat_minor": 2
}
