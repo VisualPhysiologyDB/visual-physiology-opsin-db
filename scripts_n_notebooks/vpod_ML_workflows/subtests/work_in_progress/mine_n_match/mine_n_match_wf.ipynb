{
 "cells": [
  {
   "cell_type": "markdown",
   "metadata": {},
   "source": [
    "# <font color=#c51b8a>VPOD 'Mine-n-Match':</font>\n",
    "## <font color=#c994c7>Part 1 Objective</font> - Use Species Names from Microspectrophotemetry Data Sheet to Query NCBI for All Related Opsin Sequences  "
   ]
  },
  {
   "cell_type": "code",
   "execution_count": 37,
   "metadata": {},
   "outputs": [],
   "source": [
    "import os\n",
    "import re\n",
    "import datetime\n",
    "import time\n",
    "import pandas as pd\n",
    "import numpy as np\n",
    "from deepBreaks.preprocessing import read_data\n",
    "from Bio import Entrez, SeqIO\n",
    "email = 'sethfrazer@ucsb.edu'"
   ]
  },
  {
   "cell_type": "code",
   "execution_count": 38,
   "metadata": {},
   "outputs": [],
   "source": [
    "from mnm_scripts.mine_n_match_functions import ncbi_fetch_opsins, merge_accessory_dbs, fasta_to_dataframe"
   ]
  },
  {
   "cell_type": "markdown",
   "metadata": {},
   "source": [
    "## <font color=#c51b8a>Load data-tables with all of the species and Lambda Max data from accessory lmax databases</font> "
   ]
  },
  {
   "cell_type": "markdown",
   "metadata": {},
   "source": [
    "### <font color=#c994c7>VPOD Single Cell Microspectrophotmetry (SCP) Datatable </font>\n",
    "### In this case our dataframe does not have full species name in one column so we must create a list by directly combining the genus and species names. Then filter to create a list of all unique species names \n"
   ]
  },
  {
   "cell_type": "code",
   "execution_count": 39,
   "metadata": {},
   "outputs": [],
   "source": [
    "report_dir = './data_sources/lmax'\n",
    "species_list = []\n",
    "df_list = []"
   ]
  },
  {
   "cell_type": "code",
   "execution_count": 40,
   "metadata": {},
   "outputs": [
    {
     "data": {
      "text/html": [
       "<div>\n",
       "<style scoped>\n",
       "    .dataframe tbody tr th:only-of-type {\n",
       "        vertical-align: middle;\n",
       "    }\n",
       "\n",
       "    .dataframe tbody tr th {\n",
       "        vertical-align: top;\n",
       "    }\n",
       "\n",
       "    .dataframe thead th {\n",
       "        text-align: right;\n",
       "    }\n",
       "</style>\n",
       "<table border=\"1\" class=\"dataframe\">\n",
       "  <thead>\n",
       "    <tr style=\"text-align: right;\">\n",
       "      <th></th>\n",
       "      <th>Genus</th>\n",
       "      <th>Species</th>\n",
       "      <th>phylum</th>\n",
       "      <th>CellType</th>\n",
       "      <th>CellSubType</th>\n",
       "      <th>LambdaMax</th>\n",
       "      <th>error</th>\n",
       "      <th>Chromophore</th>\n",
       "      <th>Stage</th>\n",
       "      <th>useable</th>\n",
       "      <th>expid</th>\n",
       "      <th>opsinid</th>\n",
       "      <th>refid</th>\n",
       "      <th>Notes</th>\n",
       "      <th>Unnamed: 15</th>\n",
       "      <th>isGenusInHetero</th>\n",
       "      <th>isSpeciesInHetero</th>\n",
       "      <th>isInHetero</th>\n",
       "      <th>isVert</th>\n",
       "      <th>Full_Species</th>\n",
       "    </tr>\n",
       "    <tr>\n",
       "      <th>maxid</th>\n",
       "      <th></th>\n",
       "      <th></th>\n",
       "      <th></th>\n",
       "      <th></th>\n",
       "      <th></th>\n",
       "      <th></th>\n",
       "      <th></th>\n",
       "      <th></th>\n",
       "      <th></th>\n",
       "      <th></th>\n",
       "      <th></th>\n",
       "      <th></th>\n",
       "      <th></th>\n",
       "      <th></th>\n",
       "      <th></th>\n",
       "      <th></th>\n",
       "      <th></th>\n",
       "      <th></th>\n",
       "      <th></th>\n",
       "      <th></th>\n",
       "    </tr>\n",
       "  </thead>\n",
       "  <tbody>\n",
       "    <tr>\n",
       "      <th>1</th>\n",
       "      <td>Acipenser</td>\n",
       "      <td>transmontanus</td>\n",
       "      <td>Chordata</td>\n",
       "      <td>rod</td>\n",
       "      <td>NaN</td>\n",
       "      <td>540.0</td>\n",
       "      <td>NaN</td>\n",
       "      <td>NaN</td>\n",
       "      <td>adult</td>\n",
       "      <td>1.0</td>\n",
       "      <td>NaN</td>\n",
       "      <td>463</td>\n",
       "      <td>30</td>\n",
       "      <td>partial cds but is rod opsin</td>\n",
       "      <td>NaN</td>\n",
       "      <td>NaN</td>\n",
       "      <td>NaN</td>\n",
       "      <td>0</td>\n",
       "      <td>1.0</td>\n",
       "      <td>Acipenser transmontanus</td>\n",
       "    </tr>\n",
       "    <tr>\n",
       "      <th>2</th>\n",
       "      <td>Acipenser</td>\n",
       "      <td>transmontanus</td>\n",
       "      <td>Chordata</td>\n",
       "      <td>cone</td>\n",
       "      <td>NaN</td>\n",
       "      <td>464.0</td>\n",
       "      <td>NaN</td>\n",
       "      <td>NaN</td>\n",
       "      <td>adult</td>\n",
       "      <td>0.0</td>\n",
       "      <td>NaN</td>\n",
       "      <td>0</td>\n",
       "      <td>30</td>\n",
       "      <td>NaN</td>\n",
       "      <td>NaN</td>\n",
       "      <td>NaN</td>\n",
       "      <td>NaN</td>\n",
       "      <td>0</td>\n",
       "      <td>NaN</td>\n",
       "      <td>Acipenser transmontanus</td>\n",
       "    </tr>\n",
       "    <tr>\n",
       "      <th>3</th>\n",
       "      <td>Acipenser</td>\n",
       "      <td>transmontanus</td>\n",
       "      <td>Chordata</td>\n",
       "      <td>cone</td>\n",
       "      <td>NaN</td>\n",
       "      <td>531.0</td>\n",
       "      <td>NaN</td>\n",
       "      <td>NaN</td>\n",
       "      <td>adult</td>\n",
       "      <td>0.0</td>\n",
       "      <td>NaN</td>\n",
       "      <td>0</td>\n",
       "      <td>30</td>\n",
       "      <td>NaN</td>\n",
       "      <td>NaN</td>\n",
       "      <td>NaN</td>\n",
       "      <td>NaN</td>\n",
       "      <td>0</td>\n",
       "      <td>NaN</td>\n",
       "      <td>Acipenser transmontanus</td>\n",
       "    </tr>\n",
       "    <tr>\n",
       "      <th>4</th>\n",
       "      <td>Acipenser</td>\n",
       "      <td>transmontanus</td>\n",
       "      <td>Chordata</td>\n",
       "      <td>cone</td>\n",
       "      <td>NaN</td>\n",
       "      <td>605.0</td>\n",
       "      <td>NaN</td>\n",
       "      <td>NaN</td>\n",
       "      <td>adult</td>\n",
       "      <td>0.0</td>\n",
       "      <td>NaN</td>\n",
       "      <td>0</td>\n",
       "      <td>30</td>\n",
       "      <td>NaN</td>\n",
       "      <td>NaN</td>\n",
       "      <td>NaN</td>\n",
       "      <td>NaN</td>\n",
       "      <td>0</td>\n",
       "      <td>NaN</td>\n",
       "      <td>Acipenser transmontanus</td>\n",
       "    </tr>\n",
       "    <tr>\n",
       "      <th>5</th>\n",
       "      <td>Acipenser</td>\n",
       "      <td>medirostris</td>\n",
       "      <td>Chordata</td>\n",
       "      <td>rod</td>\n",
       "      <td>NaN</td>\n",
       "      <td>540.0</td>\n",
       "      <td>NaN</td>\n",
       "      <td>NaN</td>\n",
       "      <td>adult</td>\n",
       "      <td>0.0</td>\n",
       "      <td>NaN</td>\n",
       "      <td>0</td>\n",
       "      <td>43</td>\n",
       "      <td>NaN</td>\n",
       "      <td>NaN</td>\n",
       "      <td>NaN</td>\n",
       "      <td>NaN</td>\n",
       "      <td>0</td>\n",
       "      <td>NaN</td>\n",
       "      <td>Acipenser medirostris</td>\n",
       "    </tr>\n",
       "  </tbody>\n",
       "</table>\n",
       "</div>"
      ],
      "text/plain": [
       "           Genus        Species    phylum CellType CellSubType  LambdaMax  \\\n",
       "maxid                                                                       \n",
       "1      Acipenser  transmontanus  Chordata      rod         NaN      540.0   \n",
       "2      Acipenser  transmontanus  Chordata     cone         NaN      464.0   \n",
       "3      Acipenser  transmontanus  Chordata     cone         NaN      531.0   \n",
       "4      Acipenser  transmontanus  Chordata     cone         NaN      605.0   \n",
       "5      Acipenser    medirostris  Chordata      rod         NaN      540.0   \n",
       "\n",
       "      error Chromophore  Stage  useable  expid opsinid refid  \\\n",
       "maxid                                                          \n",
       "1       NaN         NaN  adult      1.0    NaN     463    30   \n",
       "2       NaN         NaN  adult      0.0    NaN       0    30   \n",
       "3       NaN         NaN  adult      0.0    NaN       0    30   \n",
       "4       NaN         NaN  adult      0.0    NaN       0    30   \n",
       "5       NaN         NaN  adult      0.0    NaN       0    43   \n",
       "\n",
       "                              Notes Unnamed: 15  isGenusInHetero  \\\n",
       "maxid                                                              \n",
       "1      partial cds but is rod opsin         NaN              NaN   \n",
       "2                               NaN         NaN              NaN   \n",
       "3                               NaN         NaN              NaN   \n",
       "4                               NaN         NaN              NaN   \n",
       "5                               NaN         NaN              NaN   \n",
       "\n",
       "       isSpeciesInHetero  isInHetero  isVert             Full_Species  \n",
       "maxid                                                                  \n",
       "1                    NaN           0     1.0  Acipenser transmontanus  \n",
       "2                    NaN           0     NaN  Acipenser transmontanus  \n",
       "3                    NaN           0     NaN  Acipenser transmontanus  \n",
       "4                    NaN           0     NaN  Acipenser transmontanus  \n",
       "5                    NaN           0     NaN    Acipenser medirostris  "
      ]
     },
     "execution_count": 40,
     "metadata": {},
     "output_type": "execute_result"
    }
   ],
   "source": [
    "scp_file = f'{report_dir}/vpod/scp_raw.tsv'\n",
    "scp_df = pd.read_csv(scp_file, index_col=0, sep='\\t')\n",
    "scp_df['Full_Species'] = (scp_df['Genus'] + ' ' + scp_df['Species']).to_list()\n",
    "df_list.append(scp_df)\n",
    "scp_df.head()"
   ]
  },
  {
   "cell_type": "code",
   "execution_count": 41,
   "metadata": {},
   "outputs": [],
   "source": [
    "species_list+=scp_df['Full_Species'].to_list()"
   ]
  },
  {
   "cell_type": "markdown",
   "metadata": {},
   "source": [
    "### <font color=#c994c7>Longcore - 'Animal Photopigments' Datatable</font>\n",
    "\n",
    "### In this next case our dataframe has the full species name in one column so we can create a list directly and filter to create a list of all unique species names\n"
   ]
  },
  {
   "cell_type": "code",
   "execution_count": 42,
   "metadata": {},
   "outputs": [
    {
     "data": {
      "text/html": [
       "<div>\n",
       "<style scoped>\n",
       "    .dataframe tbody tr th:only-of-type {\n",
       "        vertical-align: middle;\n",
       "    }\n",
       "\n",
       "    .dataframe tbody tr th {\n",
       "        vertical-align: top;\n",
       "    }\n",
       "\n",
       "    .dataframe thead th {\n",
       "        text-align: right;\n",
       "    }\n",
       "</style>\n",
       "<table border=\"1\" class=\"dataframe\">\n",
       "  <thead>\n",
       "    <tr style=\"text-align: right;\">\n",
       "      <th></th>\n",
       "      <th>Phylum</th>\n",
       "      <th>Class</th>\n",
       "      <th>Order</th>\n",
       "      <th>Family</th>\n",
       "      <th>Full_Species</th>\n",
       "      <th>Type</th>\n",
       "      <th>LambdaMax</th>\n",
       "      <th>Band</th>\n",
       "      <th>Oil</th>\n",
       "      <th>Nocturnal Activity</th>\n",
       "      <th>Diurnal Activity</th>\n",
       "      <th>Reference</th>\n",
       "    </tr>\n",
       "    <tr>\n",
       "      <th>longcore_id</th>\n",
       "      <th></th>\n",
       "      <th></th>\n",
       "      <th></th>\n",
       "      <th></th>\n",
       "      <th></th>\n",
       "      <th></th>\n",
       "      <th></th>\n",
       "      <th></th>\n",
       "      <th></th>\n",
       "      <th></th>\n",
       "      <th></th>\n",
       "      <th></th>\n",
       "    </tr>\n",
       "  </thead>\n",
       "  <tbody>\n",
       "    <tr>\n",
       "      <th>0</th>\n",
       "      <td>Arthropoda</td>\n",
       "      <td>Arachnida</td>\n",
       "      <td>Aranae</td>\n",
       "      <td>Araneidae</td>\n",
       "      <td>Argiope amoena</td>\n",
       "      <td>NaN</td>\n",
       "      <td>360</td>\n",
       "      <td>NaN</td>\n",
       "      <td>NaN</td>\n",
       "      <td>Y</td>\n",
       "      <td>Y</td>\n",
       "      <td>Yamashita &amp; Tateda 1978</td>\n",
       "    </tr>\n",
       "    <tr>\n",
       "      <th>1</th>\n",
       "      <td>Arthropoda</td>\n",
       "      <td>Arachnida</td>\n",
       "      <td>Aranae</td>\n",
       "      <td>Araneidae</td>\n",
       "      <td>Argiope amoena</td>\n",
       "      <td>NaN</td>\n",
       "      <td>490</td>\n",
       "      <td>NaN</td>\n",
       "      <td>NaN</td>\n",
       "      <td>Y</td>\n",
       "      <td>Y</td>\n",
       "      <td>Yamashita &amp; Tateda 1978</td>\n",
       "    </tr>\n",
       "    <tr>\n",
       "      <th>2</th>\n",
       "      <td>Arthropoda</td>\n",
       "      <td>Arachnida</td>\n",
       "      <td>Aranae</td>\n",
       "      <td>Araneidae</td>\n",
       "      <td>Argiope amoena</td>\n",
       "      <td>NaN</td>\n",
       "      <td>540</td>\n",
       "      <td>NaN</td>\n",
       "      <td>NaN</td>\n",
       "      <td>Y</td>\n",
       "      <td>Y</td>\n",
       "      <td>Yamashita &amp; Tateda 1978</td>\n",
       "    </tr>\n",
       "    <tr>\n",
       "      <th>3</th>\n",
       "      <td>Arthropoda</td>\n",
       "      <td>Arachnida</td>\n",
       "      <td>Aranae</td>\n",
       "      <td>Araneidae</td>\n",
       "      <td>Argiope bruennichi</td>\n",
       "      <td>NaN</td>\n",
       "      <td>360</td>\n",
       "      <td>NaN</td>\n",
       "      <td>NaN</td>\n",
       "      <td>Y</td>\n",
       "      <td>Y</td>\n",
       "      <td>Yamashita &amp; Tateda 1978</td>\n",
       "    </tr>\n",
       "    <tr>\n",
       "      <th>4</th>\n",
       "      <td>Arthropoda</td>\n",
       "      <td>Arachnida</td>\n",
       "      <td>Aranae</td>\n",
       "      <td>Araneidae</td>\n",
       "      <td>Argiope bruennichi</td>\n",
       "      <td>NaN</td>\n",
       "      <td>490</td>\n",
       "      <td>NaN</td>\n",
       "      <td>NaN</td>\n",
       "      <td>Y</td>\n",
       "      <td>Y</td>\n",
       "      <td>Yamashita &amp; Tateda 1978</td>\n",
       "    </tr>\n",
       "  </tbody>\n",
       "</table>\n",
       "</div>"
      ],
      "text/plain": [
       "                 Phylum      Class   Order     Family        Full_Species  \\\n",
       "longcore_id                                                                 \n",
       "0            Arthropoda  Arachnida  Aranae  Araneidae      Argiope amoena   \n",
       "1            Arthropoda  Arachnida  Aranae  Araneidae      Argiope amoena   \n",
       "2            Arthropoda  Arachnida  Aranae  Araneidae      Argiope amoena   \n",
       "3            Arthropoda  Arachnida  Aranae  Araneidae  Argiope bruennichi   \n",
       "4            Arthropoda  Arachnida  Aranae  Araneidae  Argiope bruennichi   \n",
       "\n",
       "            Type  LambdaMax Band  Oil Nocturnal Activity Diurnal Activity  \\\n",
       "longcore_id                                                                 \n",
       "0            NaN        360  NaN  NaN                  Y                Y   \n",
       "1            NaN        490  NaN  NaN                  Y                Y   \n",
       "2            NaN        540  NaN  NaN                  Y                Y   \n",
       "3            NaN        360  NaN  NaN                  Y                Y   \n",
       "4            NaN        490  NaN  NaN                  Y                Y   \n",
       "\n",
       "                           Reference  \n",
       "longcore_id                           \n",
       "0            Yamashita & Tateda 1978  \n",
       "1            Yamashita & Tateda 1978  \n",
       "2            Yamashita & Tateda 1978  \n",
       "3            Yamashita & Tateda 1978  \n",
       "4            Yamashita & Tateda 1978  "
      ]
     },
     "execution_count": 42,
     "metadata": {},
     "output_type": "execute_result"
    }
   ],
   "source": [
    "longcore_file = f'{report_dir}/longcore_data/AnimalPhotopigmentsV1_1.csv'\n",
    "longcore_df = pd.read_csv(longcore_file, index_col=0)\n",
    "df_list.append(longcore_df)\n",
    "longcore_df.head()"
   ]
  },
  {
   "cell_type": "code",
   "execution_count": 43,
   "metadata": {},
   "outputs": [],
   "source": [
    "species_list+=longcore_df['Full_Species'].to_list()"
   ]
  },
  {
   "cell_type": "markdown",
   "metadata": {},
   "source": [
    "### <font color=#c994c7>Murphy and Westerman Datatable</font>"
   ]
  },
  {
   "cell_type": "code",
   "execution_count": 44,
   "metadata": {},
   "outputs": [
    {
     "data": {
      "text/html": [
       "<div>\n",
       "<style scoped>\n",
       "    .dataframe tbody tr th:only-of-type {\n",
       "        vertical-align: middle;\n",
       "    }\n",
       "\n",
       "    .dataframe tbody tr th {\n",
       "        vertical-align: top;\n",
       "    }\n",
       "\n",
       "    .dataframe thead th {\n",
       "        text-align: right;\n",
       "    }\n",
       "</style>\n",
       "<table border=\"1\" class=\"dataframe\">\n",
       "  <thead>\n",
       "    <tr style=\"text-align: right;\">\n",
       "      <th></th>\n",
       "      <th>Full_Species</th>\n",
       "      <th>LambdaMax</th>\n",
       "      <th>SD</th>\n",
       "      <th>N</th>\n",
       "      <th>refid</th>\n",
       "      <th>Lineage</th>\n",
       "    </tr>\n",
       "    <tr>\n",
       "      <th>murwes_id</th>\n",
       "      <th></th>\n",
       "      <th></th>\n",
       "      <th></th>\n",
       "      <th></th>\n",
       "      <th></th>\n",
       "      <th></th>\n",
       "    </tr>\n",
       "  </thead>\n",
       "  <tbody>\n",
       "    <tr>\n",
       "      <th>0</th>\n",
       "      <td>Aglais urticae</td>\n",
       "      <td>360.0</td>\n",
       "      <td>–</td>\n",
       "      <td>†</td>\n",
       "      <td>[1]</td>\n",
       "      <td>Arthropod</td>\n",
       "    </tr>\n",
       "    <tr>\n",
       "      <th>1</th>\n",
       "      <td>Agraulis vanillae</td>\n",
       "      <td>370.0</td>\n",
       "      <td>–</td>\n",
       "      <td>†</td>\n",
       "      <td>[2]</td>\n",
       "      <td>Arthropod</td>\n",
       "    </tr>\n",
       "    <tr>\n",
       "      <th>2</th>\n",
       "      <td>Alima pacifica</td>\n",
       "      <td>467.0</td>\n",
       "      <td>–</td>\n",
       "      <td>5</td>\n",
       "      <td>[4]</td>\n",
       "      <td>Arthropod</td>\n",
       "    </tr>\n",
       "    <tr>\n",
       "      <th>3</th>\n",
       "      <td>Antheraea polyphemus</td>\n",
       "      <td>355.0</td>\n",
       "      <td>–</td>\n",
       "      <td>20</td>\n",
       "      <td>[5]</td>\n",
       "      <td>Arthropod</td>\n",
       "    </tr>\n",
       "    <tr>\n",
       "      <th>4</th>\n",
       "      <td>Apodemia mormo</td>\n",
       "      <td>556.0</td>\n",
       "      <td>–</td>\n",
       "      <td>†</td>\n",
       "      <td>[3]</td>\n",
       "      <td>Arthropod</td>\n",
       "    </tr>\n",
       "  </tbody>\n",
       "</table>\n",
       "</div>"
      ],
      "text/plain": [
       "                   Full_Species  LambdaMax SD   N refid    Lineage\n",
       "murwes_id                                                         \n",
       "0                Aglais urticae      360.0  –   †   [1]  Arthropod\n",
       "1             Agraulis vanillae      370.0  –   †   [2]  Arthropod\n",
       "2                Alima pacifica      467.0  –   5   [4]  Arthropod\n",
       "3          Antheraea polyphemus      355.0  –  20   [5]  Arthropod\n",
       "4                Apodemia mormo      556.0  –   †   [3]  Arthropod"
      ]
     },
     "execution_count": 44,
     "metadata": {},
     "output_type": "execute_result"
    }
   ],
   "source": [
    "murphy_westerman_file = f'{report_dir}/murphy_westerman/Murphy and Westerman.csv'\n",
    "murphy_westerman_df = pd.read_csv(murphy_westerman_file, index_col=0)\n",
    "df_list.append(murphy_westerman_df)\n",
    "murphy_westerman_df.head()"
   ]
  },
  {
   "cell_type": "code",
   "execution_count": 45,
   "metadata": {},
   "outputs": [],
   "source": [
    "species_list+=murphy_westerman_df['Full_Species'].to_list()"
   ]
  },
  {
   "cell_type": "markdown",
   "metadata": {},
   "source": [
    "### <font color=#c994c7>Caves 'Fish' Datatable</font>"
   ]
  },
  {
   "cell_type": "code",
   "execution_count": 46,
   "metadata": {},
   "outputs": [
    {
     "data": {
      "text/html": [
       "<div>\n",
       "<style scoped>\n",
       "    .dataframe tbody tr th:only-of-type {\n",
       "        vertical-align: middle;\n",
       "    }\n",
       "\n",
       "    .dataframe tbody tr th {\n",
       "        vertical-align: top;\n",
       "    }\n",
       "\n",
       "    .dataframe thead th {\n",
       "        text-align: right;\n",
       "    }\n",
       "</style>\n",
       "<table border=\"1\" class=\"dataframe\">\n",
       "  <thead>\n",
       "    <tr style=\"text-align: right;\">\n",
       "      <th></th>\n",
       "      <th>Family</th>\n",
       "      <th>Genus</th>\n",
       "      <th>Species</th>\n",
       "      <th>LambdaMax</th>\n",
       "      <th>refid</th>\n",
       "      <th>Full_Species</th>\n",
       "    </tr>\n",
       "    <tr>\n",
       "      <th>caves_id</th>\n",
       "      <th></th>\n",
       "      <th></th>\n",
       "      <th></th>\n",
       "      <th></th>\n",
       "      <th></th>\n",
       "      <th></th>\n",
       "    </tr>\n",
       "  </thead>\n",
       "  <tbody>\n",
       "    <tr>\n",
       "      <th>0</th>\n",
       "      <td>Acipenseridae</td>\n",
       "      <td>Acipenser</td>\n",
       "      <td>baerii</td>\n",
       "      <td>549</td>\n",
       "      <td>[22]</td>\n",
       "      <td>Acipenser baerii</td>\n",
       "    </tr>\n",
       "    <tr>\n",
       "      <th>1</th>\n",
       "      <td>Acipenseridae</td>\n",
       "      <td>Acipenser</td>\n",
       "      <td>medirostrus</td>\n",
       "      <td>540</td>\n",
       "      <td>[60]</td>\n",
       "      <td>Acipenser medirostrus</td>\n",
       "    </tr>\n",
       "    <tr>\n",
       "      <th>2</th>\n",
       "      <td>Acipenseridae</td>\n",
       "      <td>Acipenser</td>\n",
       "      <td>ruthenus</td>\n",
       "      <td>545</td>\n",
       "      <td>[21]</td>\n",
       "      <td>Acipenser ruthenus</td>\n",
       "    </tr>\n",
       "    <tr>\n",
       "      <th>3</th>\n",
       "      <td>Acipenseridae</td>\n",
       "      <td>Acipenser</td>\n",
       "      <td>transmontanus</td>\n",
       "      <td>540</td>\n",
       "      <td>[39] ; [58]</td>\n",
       "      <td>Acipenser transmontanus</td>\n",
       "    </tr>\n",
       "    <tr>\n",
       "      <th>4</th>\n",
       "      <td>Acipenseridae</td>\n",
       "      <td>Scaphirhynchus</td>\n",
       "      <td>albus</td>\n",
       "      <td>538</td>\n",
       "      <td>[60]</td>\n",
       "      <td>Scaphirhynchus albus</td>\n",
       "    </tr>\n",
       "  </tbody>\n",
       "</table>\n",
       "</div>"
      ],
      "text/plain": [
       "                 Family           Genus        Species  LambdaMax  \\\n",
       "caves_id                                                            \n",
       "0         Acipenseridae       Acipenser         baerii        549   \n",
       "1         Acipenseridae       Acipenser    medirostrus        540   \n",
       "2         Acipenseridae       Acipenser       ruthenus        545   \n",
       "3         Acipenseridae       Acipenser  transmontanus        540   \n",
       "4         Acipenseridae  Scaphirhynchus          albus        538   \n",
       "\n",
       "                refid             Full_Species  \n",
       "caves_id                                        \n",
       "0                [22]         Acipenser baerii  \n",
       "1                [60]    Acipenser medirostrus  \n",
       "2                [21]       Acipenser ruthenus  \n",
       "3         [39] ; [58]  Acipenser transmontanus  \n",
       "4                [60]     Scaphirhynchus albus  "
      ]
     },
     "execution_count": 46,
     "metadata": {},
     "output_type": "execute_result"
    }
   ],
   "source": [
    "caves_fish_db_file = f'{report_dir}/caves/caves_fish_db.csv'\n",
    "caves_df = pd.read_csv(caves_fish_db_file, index_col=0)\n",
    "caves_df['Full_Species'] = (caves_df['Genus'] + ' ' + caves_df['Species']).to_list()\n",
    "df_list.append(caves_df)\n",
    "caves_df.head()"
   ]
  },
  {
   "cell_type": "code",
   "execution_count": 47,
   "metadata": {},
   "outputs": [],
   "source": [
    "species_list+=caves_df['Full_Species'].to_list()"
   ]
  },
  {
   "cell_type": "markdown",
   "metadata": {},
   "source": [
    "### <font color=#c994c7>Morgan Porter's Datatables</font>"
   ]
  },
  {
   "cell_type": "code",
   "execution_count": 48,
   "metadata": {},
   "outputs": [
    {
     "data": {
      "text/html": [
       "<div>\n",
       "<style scoped>\n",
       "    .dataframe tbody tr th:only-of-type {\n",
       "        vertical-align: middle;\n",
       "    }\n",
       "\n",
       "    .dataframe tbody tr th {\n",
       "        vertical-align: top;\n",
       "    }\n",
       "\n",
       "    .dataframe thead th {\n",
       "        text-align: right;\n",
       "    }\n",
       "</style>\n",
       "<table border=\"1\" class=\"dataframe\">\n",
       "  <thead>\n",
       "    <tr style=\"text-align: right;\">\n",
       "      <th></th>\n",
       "      <th>Full_Species</th>\n",
       "      <th>Habitat</th>\n",
       "      <th>method</th>\n",
       "      <th>LambdaMax</th>\n",
       "      <th>Reference</th>\n",
       "      <th>Accession</th>\n",
       "    </tr>\n",
       "    <tr>\n",
       "      <th>porter2005_id</th>\n",
       "      <th></th>\n",
       "      <th></th>\n",
       "      <th></th>\n",
       "      <th></th>\n",
       "      <th></th>\n",
       "      <th></th>\n",
       "    </tr>\n",
       "  </thead>\n",
       "  <tbody>\n",
       "    <tr>\n",
       "      <th>0</th>\n",
       "      <td>Artemia salina</td>\n",
       "      <td>NaN</td>\n",
       "      <td>EON</td>\n",
       "      <td>410</td>\n",
       "      <td>(Hertel 1972)</td>\n",
       "      <td>NaN</td>\n",
       "    </tr>\n",
       "    <tr>\n",
       "      <th>1</th>\n",
       "      <td>Daphnia magna</td>\n",
       "      <td>NaN</td>\n",
       "      <td>VC</td>\n",
       "      <td>348, 434, 525, 608</td>\n",
       "      <td>(Smith and Macagno 1990)</td>\n",
       "      <td>NaN</td>\n",
       "    </tr>\n",
       "    <tr>\n",
       "      <th>2</th>\n",
       "      <td>Acartia tonsa</td>\n",
       "      <td>NaN</td>\n",
       "      <td>BP</td>\n",
       "      <td>450-520</td>\n",
       "      <td>(Stearns and Forward 1984)</td>\n",
       "      <td>NaN</td>\n",
       "    </tr>\n",
       "    <tr>\n",
       "      <th>3</th>\n",
       "      <td>Balanus amphitrite</td>\n",
       "      <td>NaN</td>\n",
       "      <td>ERG</td>\n",
       "      <td>532</td>\n",
       "      <td>(Hillman et al. 1973)</td>\n",
       "      <td>NaN</td>\n",
       "    </tr>\n",
       "    <tr>\n",
       "      <th>4</th>\n",
       "      <td>Balanus amphitrite</td>\n",
       "      <td>NaN</td>\n",
       "      <td>MSP</td>\n",
       "      <td>532</td>\n",
       "      <td>(Minke and Kirschfield 1978)</td>\n",
       "      <td>NaN</td>\n",
       "    </tr>\n",
       "  </tbody>\n",
       "</table>\n",
       "</div>"
      ],
      "text/plain": [
       "                     Full_Species Habitat method           LambdaMax  \\\n",
       "porter2005_id                                                          \n",
       "0                  Artemia salina     NaN    EON                 410   \n",
       "1                   Daphnia magna     NaN     VC  348, 434, 525, 608   \n",
       "2                   Acartia tonsa     NaN     BP             450-520   \n",
       "3              Balanus amphitrite     NaN    ERG                 532   \n",
       "4              Balanus amphitrite     NaN    MSP                 532   \n",
       "\n",
       "                                  Reference Accession  \n",
       "porter2005_id                                          \n",
       "0                             (Hertel 1972)       NaN  \n",
       "1                  (Smith and Macagno 1990)       NaN  \n",
       "2                (Stearns and Forward 1984)       NaN  \n",
       "3                     (Hillman et al. 1973)       NaN  \n",
       "4              (Minke and Kirschfield 1978)       NaN  "
      ]
     },
     "execution_count": 48,
     "metadata": {},
     "output_type": "execute_result"
    }
   ],
   "source": [
    "porter_file1 = f'{report_dir}/megan_porter/megan_porter_extract_clean_2005.csv'\n",
    "porter_df1 = pd.read_csv(porter_file1, index_col=0)\n",
    "porter_df2 = pd.read_csv(f'{report_dir}/megan_porter/porter_2006_table1_clean.tsv', sep='\\t', index_col=0)\n",
    "df_list.append(porter_df1)\n",
    "df_list.append(porter_df2)\n",
    "porter_df1.head()"
   ]
  },
  {
   "cell_type": "code",
   "execution_count": 49,
   "metadata": {},
   "outputs": [
    {
     "data": {
      "text/html": [
       "<div>\n",
       "<style scoped>\n",
       "    .dataframe tbody tr th:only-of-type {\n",
       "        vertical-align: middle;\n",
       "    }\n",
       "\n",
       "    .dataframe tbody tr th {\n",
       "        vertical-align: top;\n",
       "    }\n",
       "\n",
       "    .dataframe thead th {\n",
       "        text-align: right;\n",
       "    }\n",
       "</style>\n",
       "<table border=\"1\" class=\"dataframe\">\n",
       "  <thead>\n",
       "    <tr style=\"text-align: right;\">\n",
       "      <th></th>\n",
       "      <th>Full_Species</th>\n",
       "      <th>Accession</th>\n",
       "      <th>LambdaMax</th>\n",
       "      <th>Reference</th>\n",
       "    </tr>\n",
       "    <tr>\n",
       "      <th>porter2006_id</th>\n",
       "      <th></th>\n",
       "      <th></th>\n",
       "      <th></th>\n",
       "      <th></th>\n",
       "    </tr>\n",
       "  </thead>\n",
       "  <tbody>\n",
       "    <tr>\n",
       "      <th>0</th>\n",
       "      <td>Loligo forbesii</td>\n",
       "      <td>X56788</td>\n",
       "      <td>494</td>\n",
       "      <td>Morris et al. (1993)</td>\n",
       "    </tr>\n",
       "    <tr>\n",
       "      <th>1</th>\n",
       "      <td>Loligo pealii</td>\n",
       "      <td>AY450853</td>\n",
       "      <td>493</td>\n",
       "      <td>Brown PK and Brown PS (1958), Hubbard and St G...</td>\n",
       "    </tr>\n",
       "    <tr>\n",
       "      <th>2</th>\n",
       "      <td>Loligo subulata</td>\n",
       "      <td>Z49108</td>\n",
       "      <td>499</td>\n",
       "      <td>Morris et al. (1993)</td>\n",
       "    </tr>\n",
       "    <tr>\n",
       "      <th>3</th>\n",
       "      <td>Sepia officinalis</td>\n",
       "      <td>AF000947</td>\n",
       "      <td>492</td>\n",
       "      <td>Brown PK and Brown PS (1958)</td>\n",
       "    </tr>\n",
       "    <tr>\n",
       "      <th>4</th>\n",
       "      <td>Todarodes pacificus</td>\n",
       "      <td>X70498</td>\n",
       "      <td>480</td>\n",
       "      <td>Naito et al. (1981)</td>\n",
       "    </tr>\n",
       "  </tbody>\n",
       "</table>\n",
       "</div>"
      ],
      "text/plain": [
       "                      Full_Species Accession LambdaMax  \\\n",
       "porter2006_id                                            \n",
       "0                  Loligo forbesii    X56788       494   \n",
       "1                    Loligo pealii  AY450853       493   \n",
       "2                  Loligo subulata    Z49108       499   \n",
       "3                Sepia officinalis  AF000947       492   \n",
       "4              Todarodes pacificus    X70498       480   \n",
       "\n",
       "                                                       Reference  \n",
       "porter2006_id                                                     \n",
       "0                                           Morris et al. (1993)  \n",
       "1              Brown PK and Brown PS (1958), Hubbard and St G...  \n",
       "2                                           Morris et al. (1993)  \n",
       "3                                   Brown PK and Brown PS (1958)  \n",
       "4                                            Naito et al. (1981)  "
      ]
     },
     "execution_count": 49,
     "metadata": {},
     "output_type": "execute_result"
    }
   ],
   "source": [
    "porter_df2.head()"
   ]
  },
  {
   "cell_type": "code",
   "execution_count": 50,
   "metadata": {},
   "outputs": [],
   "source": [
    "species_list += (porter_df1['Full_Species'].to_list() + porter_df2['Full_Species'].to_list())"
   ]
  },
  {
   "cell_type": "markdown",
   "metadata": {},
   "source": [
    "### <font color=#c994c7>Merge Accessory Lambda Max Databases</font>"
   ]
  },
  {
   "cell_type": "code",
   "execution_count": null,
   "metadata": {},
   "outputs": [],
   "source": [
    "# Call the function to merge all the species, lambdamax, and potential accession information into one dataframe\n",
    "merged_df = merge_accessory_dbs(df_list, report_dir)\n",
    "merged_df.head()"
   ]
  },
  {
   "cell_type": "code",
   "execution_count": null,
   "metadata": {},
   "outputs": [],
   "source": [
    "merged_df.shape"
   ]
  },
  {
   "cell_type": "markdown",
   "metadata": {},
   "source": [
    "### <font color=#c994c7>All unique species names have been extracted from accessory databases. Now we iteratively query NCBI for opsins from each species.</font>"
   ]
  },
  {
   "cell_type": "code",
   "execution_count": 51,
   "metadata": {},
   "outputs": [
    {
     "data": {
      "text/plain": [
       "4098"
      ]
     },
     "execution_count": 51,
     "metadata": {},
     "output_type": "execute_result"
    }
   ],
   "source": [
    "len(species_list)"
   ]
  },
  {
   "cell_type": "code",
   "execution_count": 52,
   "metadata": {},
   "outputs": [
    {
     "data": {
      "text/plain": [
       "1289"
      ]
     },
     "execution_count": 52,
     "metadata": {},
     "output_type": "execute_result"
    }
   ],
   "source": [
    "species_list = list(set(species_list))\n",
    "len(species_list)"
   ]
  },
  {
   "cell_type": "markdown",
   "metadata": {},
   "source": [
    "## <font color=#c51b8a>Run NCBI Query Mining Process</font>"
   ]
  },
  {
   "cell_type": "code",
   "execution_count": null,
   "metadata": {},
   "outputs": [],
   "source": [
    "ncbi_query_df, query_report_dir = ncbi_fetch_opsins(email=email, job_label='mnm_on_all_dbs', out='mnm_on_all_dbs', species_list=species_list[0:5])"
   ]
  },
  {
   "cell_type": "markdown",
   "metadata": {},
   "source": [
    "## <font color=#c51b8a>Load Accessory Opsin Sequence Databases</font> "
   ]
  },
  {
   "cell_type": "markdown",
   "metadata": {},
   "source": [
    "### <font color=#c994c7>Load Previous MnM Data</font>"
   ]
  },
  {
   "cell_type": "code",
   "execution_count": 125,
   "metadata": {},
   "outputs": [
    {
     "data": {
      "text/html": [
       "<div>\n",
       "<style scoped>\n",
       "    .dataframe tbody tr th:only-of-type {\n",
       "        vertical-align: middle;\n",
       "    }\n",
       "\n",
       "    .dataframe tbody tr th {\n",
       "        vertical-align: top;\n",
       "    }\n",
       "\n",
       "    .dataframe thead th {\n",
       "        text-align: right;\n",
       "    }\n",
       "</style>\n",
       "<table border=\"1\" class=\"dataframe\">\n",
       "  <thead>\n",
       "    <tr style=\"text-align: right;\">\n",
       "      <th></th>\n",
       "      <th>Accession</th>\n",
       "      <th>Genus</th>\n",
       "      <th>Species</th>\n",
       "      <th>Full_Species</th>\n",
       "      <th>Protein</th>\n",
       "      <th>Gene_Description</th>\n",
       "    </tr>\n",
       "  </thead>\n",
       "  <tbody>\n",
       "    <tr>\n",
       "      <th>0</th>\n",
       "      <td>MN519158.1</td>\n",
       "      <td>Carcharhinus</td>\n",
       "      <td>melanopterus</td>\n",
       "      <td>Carcharhinus melanopterus</td>\n",
       "      <td>MNGTEGENFYVPFSNKTGVVRSPFEYPQYYLAEPWQFSIIAAYVFL...</td>\n",
       "      <td>Carcharhinus melanopterus isolate U16228 green...</td>\n",
       "    </tr>\n",
       "    <tr>\n",
       "      <th>1</th>\n",
       "      <td>MN519147.1</td>\n",
       "      <td>Carcharhinus</td>\n",
       "      <td>melanopterus</td>\n",
       "      <td>Carcharhinus melanopterus</td>\n",
       "      <td>MNGTEGENFYVPMSNKTGVVRSPFEYSQHYLAEPWMFSVLTAYMFF...</td>\n",
       "      <td>Carcharhinus melanopterus isolate CL4386 rhodo...</td>\n",
       "    </tr>\n",
       "    <tr>\n",
       "      <th>2</th>\n",
       "      <td>XM_022258443.2</td>\n",
       "      <td>Pieris</td>\n",
       "      <td>rapae</td>\n",
       "      <td>Pieris rapae</td>\n",
       "      <td>MMQITKIILILIPIIVPCDNSVTNELDIKCVKKSVLTKVYCTNLVR...</td>\n",
       "      <td>PREDICTED: Pieris rapae opsin, ultraviolet-sen...</td>\n",
       "    </tr>\n",
       "    <tr>\n",
       "      <th>3</th>\n",
       "      <td>AB208675.1</td>\n",
       "      <td>Pieris</td>\n",
       "      <td>rapae</td>\n",
       "      <td>Pieris rapae</td>\n",
       "      <td>MFDTVNATADGGAIAYAFKMVSSEVQENMLGFNIPPEHQDLVHEHW...</td>\n",
       "      <td>Pieris rapae PrB mRNA for opsin, complete cds</td>\n",
       "    </tr>\n",
       "    <tr>\n",
       "      <th>4</th>\n",
       "      <td>AB208674.1</td>\n",
       "      <td>Pieris</td>\n",
       "      <td>rapae</td>\n",
       "      <td>Pieris rapae</td>\n",
       "      <td>MELNYTAGDPIAFPFKMVSGEVQQHMLGWNIPAEHQGLVHEHWRQF...</td>\n",
       "      <td>Pieris rapae PrV mRNA for opsin, complete cds</td>\n",
       "    </tr>\n",
       "  </tbody>\n",
       "</table>\n",
       "</div>"
      ],
      "text/plain": [
       "        Accession         Genus       Species               Full_Species  \\\n",
       "0      MN519158.1  Carcharhinus  melanopterus  Carcharhinus melanopterus   \n",
       "1      MN519147.1  Carcharhinus  melanopterus  Carcharhinus melanopterus   \n",
       "2  XM_022258443.2        Pieris         rapae               Pieris rapae   \n",
       "3      AB208675.1        Pieris         rapae               Pieris rapae   \n",
       "4      AB208674.1        Pieris         rapae               Pieris rapae   \n",
       "\n",
       "                                             Protein  \\\n",
       "0  MNGTEGENFYVPFSNKTGVVRSPFEYPQYYLAEPWQFSIIAAYVFL...   \n",
       "1  MNGTEGENFYVPMSNKTGVVRSPFEYSQHYLAEPWMFSVLTAYMFF...   \n",
       "2  MMQITKIILILIPIIVPCDNSVTNELDIKCVKKSVLTKVYCTNLVR...   \n",
       "3  MFDTVNATADGGAIAYAFKMVSSEVQENMLGFNIPPEHQDLVHEHW...   \n",
       "4  MELNYTAGDPIAFPFKMVSGEVQQHMLGWNIPAEHQGLVHEHWRQF...   \n",
       "\n",
       "                                    Gene_Description  \n",
       "0  Carcharhinus melanopterus isolate U16228 green...  \n",
       "1  Carcharhinus melanopterus isolate CL4386 rhodo...  \n",
       "2  PREDICTED: Pieris rapae opsin, ultraviolet-sen...  \n",
       "3      Pieris rapae PrB mRNA for opsin, complete cds  \n",
       "4      Pieris rapae PrV mRNA for opsin, complete cds  "
      ]
     },
     "execution_count": 125,
     "metadata": {},
     "output_type": "execute_result"
    }
   ],
   "source": [
    "#ncbi_query_file = f'{query_report_dir}/mnm_on_all_dbs_ncbi_q_data_cleaned.csv'\n",
    "#ncbi_query_file = f'mnm_data/mnm_on_mnm_on_all_dbs_2024-12-10_23-31-03/mnm_on_all_dbs_ncbi_q_data_cleaned.csv'\n",
    "#ncbi_query_df = pd.read_csv(ncbi_query_file)\n",
    "ncbi_query_df.drop_duplicates(subset=['Full_Species', 'Protein'],  keep='first', inplace=True)\n",
    "ncbi_sp_list = ncbi_query_df['Full_Species'].to_list()\n",
    "ncbi_prot_list = ncbi_query_df['Protein'].to_list()\n",
    "ncbi_query_df.head()"
   ]
  },
  {
   "cell_type": "code",
   "execution_count": 15,
   "metadata": {},
   "outputs": [
    {
     "data": {
      "text/plain": [
       "(2248, 6)"
      ]
     },
     "execution_count": 15,
     "metadata": {},
     "output_type": "execute_result"
    }
   ],
   "source": [
    "mnm_df.shape"
   ]
  },
  {
   "cell_type": "code",
   "execution_count": 103,
   "metadata": {},
   "outputs": [],
   "source": [
    "report_dir2 = './data_sources/seqs'\n",
    "sequence_list = []\n",
    "acc_list = []\n",
    "db_sp_list = []\n",
    "prot_descriptions = []\n",
    "source_list = []"
   ]
  },
  {
   "cell_type": "markdown",
   "metadata": {},
   "source": [
    "### <font color=#c994c7>Bilaterian Animal Opsins: Ramirez et al 2016</font>"
   ]
  },
  {
   "cell_type": "code",
   "execution_count": 54,
   "metadata": {},
   "outputs": [
    {
     "data": {
      "text/html": [
       "<div>\n",
       "<style scoped>\n",
       "    .dataframe tbody tr th:only-of-type {\n",
       "        vertical-align: middle;\n",
       "    }\n",
       "\n",
       "    .dataframe tbody tr th {\n",
       "        vertical-align: top;\n",
       "    }\n",
       "\n",
       "    .dataframe thead th {\n",
       "        text-align: right;\n",
       "    }\n",
       "</style>\n",
       "<table border=\"1\" class=\"dataframe\">\n",
       "  <thead>\n",
       "    <tr style=\"text-align: right;\">\n",
       "      <th></th>\n",
       "      <th>gene_ID</th>\n",
       "      <th>Organism</th>\n",
       "      <th>Protein names</th>\n",
       "      <th>aligned_seqs</th>\n",
       "    </tr>\n",
       "  </thead>\n",
       "  <tbody>\n",
       "    <tr>\n",
       "      <th>0</th>\n",
       "      <td>KX714605</td>\n",
       "      <td>Acanthopleura granulata</td>\n",
       "      <td>xenopsin</td>\n",
       "      <td>----------------------------------------------...</td>\n",
       "    </tr>\n",
       "    <tr>\n",
       "      <th>1</th>\n",
       "      <td>KX714606</td>\n",
       "      <td>Acanthopleura granulata</td>\n",
       "      <td>canonical_r-opsin</td>\n",
       "      <td>---------YII-------------------------------GVY...</td>\n",
       "    </tr>\n",
       "    <tr>\n",
       "      <th>2</th>\n",
       "      <td>1_Acroporadigitifera</td>\n",
       "      <td>Acropora digitifera</td>\n",
       "      <td>58percent_match_PREDICTED visual pigment-like ...</td>\n",
       "      <td>---------Y------------------------------------...</td>\n",
       "    </tr>\n",
       "    <tr>\n",
       "      <th>3</th>\n",
       "      <td>XP_015763203</td>\n",
       "      <td>Acropora digitifera</td>\n",
       "      <td>na</td>\n",
       "      <td>---------IVY-------------------------------VVI...</td>\n",
       "    </tr>\n",
       "    <tr>\n",
       "      <th>4</th>\n",
       "      <td>XP_015773304</td>\n",
       "      <td>Acropora digitifera</td>\n",
       "      <td>PREDICTED: melanopsin-like</td>\n",
       "      <td>---------IAY-------------------------------GVV...</td>\n",
       "    </tr>\n",
       "  </tbody>\n",
       "</table>\n",
       "</div>"
      ],
      "text/plain": [
       "                gene_ID                 Organism  \\\n",
       "0              KX714605  Acanthopleura granulata   \n",
       "1              KX714606  Acanthopleura granulata   \n",
       "2  1_Acroporadigitifera      Acropora digitifera   \n",
       "3          XP_015763203      Acropora digitifera   \n",
       "4          XP_015773304      Acropora digitifera   \n",
       "\n",
       "                                       Protein names  \\\n",
       "0                                           xenopsin   \n",
       "1                                  canonical_r-opsin   \n",
       "2  58percent_match_PREDICTED visual pigment-like ...   \n",
       "3                                                 na   \n",
       "4                         PREDICTED: melanopsin-like   \n",
       "\n",
       "                                        aligned_seqs  \n",
       "0  ----------------------------------------------...  \n",
       "1  ---------YII-------------------------------GVY...  \n",
       "2  ---------Y------------------------------------...  \n",
       "3  ---------IVY-------------------------------VVI...  \n",
       "4  ---------IAY-------------------------------GVV...  "
      ]
     },
     "execution_count": 54,
     "metadata": {},
     "output_type": "execute_result"
    }
   ],
   "source": [
    "ramirez_file = f'{report_dir2}/bilaterian_animal_ops/Supplemental_Table_T1_cleaned.csv'\n",
    "ramirez_df = pd.read_csv(ramirez_file)\n",
    "ramirez_df.head()"
   ]
  },
  {
   "cell_type": "code",
   "execution_count": 55,
   "metadata": {},
   "outputs": [
    {
     "data": {
      "text/plain": [
       "(768, 4)"
      ]
     },
     "execution_count": 55,
     "metadata": {},
     "output_type": "execute_result"
    }
   ],
   "source": [
    "ramirez_df.shape"
   ]
  },
  {
   "cell_type": "code",
   "execution_count": 56,
   "metadata": {},
   "outputs": [
    {
     "name": "stderr",
     "output_type": "stream",
     "text": [
      "C:\\Users\\safra\\AppData\\Local\\Temp\\ipykernel_25056\\4088448753.py:2: SettingWithCopyWarning: \n",
      "A value is trying to be set on a copy of a slice from a DataFrame.\n",
      "Try using .loc[row_indexer,col_indexer] = value instead\n",
      "\n",
      "See the caveats in the documentation: https://pandas.pydata.org/pandas-docs/stable/user_guide/indexing.html#returning-a-view-versus-a-copy\n",
      "  ramirez_df_filtered['raw_seqs'] = ramirez_df_filtered['aligned_seqs'].str.replace('-', '')\n",
      "C:\\Users\\safra\\AppData\\Local\\Temp\\ipykernel_25056\\4088448753.py:7: SettingWithCopyWarning: \n",
      "A value is trying to be set on a copy of a slice from a DataFrame.\n",
      "Try using .loc[row_indexer,col_indexer] = value instead\n",
      "\n",
      "See the caveats in the documentation: https://pandas.pydata.org/pandas-docs/stable/user_guide/indexing.html#returning-a-view-versus-a-copy\n",
      "  ramirez_df_filtered['prot_len'] = prot_len_list\n"
     ]
    },
    {
     "data": {
      "text/html": [
       "<div>\n",
       "<style scoped>\n",
       "    .dataframe tbody tr th:only-of-type {\n",
       "        vertical-align: middle;\n",
       "    }\n",
       "\n",
       "    .dataframe tbody tr th {\n",
       "        vertical-align: top;\n",
       "    }\n",
       "\n",
       "    .dataframe thead th {\n",
       "        text-align: right;\n",
       "    }\n",
       "</style>\n",
       "<table border=\"1\" class=\"dataframe\">\n",
       "  <thead>\n",
       "    <tr style=\"text-align: right;\">\n",
       "      <th></th>\n",
       "      <th>gene_ID</th>\n",
       "      <th>Organism</th>\n",
       "      <th>Protein names</th>\n",
       "      <th>aligned_seqs</th>\n",
       "      <th>raw_seqs</th>\n",
       "      <th>prot_len</th>\n",
       "    </tr>\n",
       "  </thead>\n",
       "  <tbody>\n",
       "    <tr>\n",
       "      <th>0</th>\n",
       "      <td>U3IU26</td>\n",
       "      <td>Anas platyrhynchos</td>\n",
       "      <td>Uncharacterized protein</td>\n",
       "      <td>TQTEH----NIV-------------------------------AAY...</td>\n",
       "      <td>TQTEHNIVAAYLITAGVISIFSNIVVLGIFVKYKELRTATNAIIIN...</td>\n",
       "      <td>340</td>\n",
       "    </tr>\n",
       "    <tr>\n",
       "      <th>1</th>\n",
       "      <td>A0A0R4IEG0</td>\n",
       "      <td>Danio rerio</td>\n",
       "      <td>Novopsin-10</td>\n",
       "      <td>SPSAD----LSI-------------------------------AVF...</td>\n",
       "      <td>SPSADLSIAVFLIITGVVSVFGNGLVLLVYGQRRKKLRAHELMTIN...</td>\n",
       "      <td>378</td>\n",
       "    </tr>\n",
       "    <tr>\n",
       "      <th>2</th>\n",
       "      <td>Q80XL3</td>\n",
       "      <td>Mus musculus</td>\n",
       "      <td>Rrh protein</td>\n",
       "      <td>SRTEH----SVI-------------------------------AAY...</td>\n",
       "      <td>SRTEHSVIAAYLIVAGITSILSNVVVLGIFIKYKELRTPTNAVIIN...</td>\n",
       "      <td>331</td>\n",
       "    </tr>\n",
       "    <tr>\n",
       "      <th>3</th>\n",
       "      <td>M3YAY1</td>\n",
       "      <td>Mustela putorius furo</td>\n",
       "      <td>Uncharacterized protein</td>\n",
       "      <td>SQTEH----NIV-------------------------------AAY...</td>\n",
       "      <td>SQTEHNIVAAYLITAGIISIFSNLIVLGIFIKYKELRTPTNAIIIN...</td>\n",
       "      <td>328</td>\n",
       "    </tr>\n",
       "    <tr>\n",
       "      <th>4</th>\n",
       "      <td>G1PJY3</td>\n",
       "      <td>Myotis lucifugus</td>\n",
       "      <td>Uncharacterized protein</td>\n",
       "      <td>SQTEH----NIV-------------------------------ATY...</td>\n",
       "      <td>SQTEHNIVATYLIMAGMISLLSNIIVLGIFITYKELRTPTNAIIIN...</td>\n",
       "      <td>331</td>\n",
       "    </tr>\n",
       "  </tbody>\n",
       "</table>\n",
       "</div>"
      ],
      "text/plain": [
       "      gene_ID               Organism            Protein names  \\\n",
       "0      U3IU26     Anas platyrhynchos  Uncharacterized protein   \n",
       "1  A0A0R4IEG0            Danio rerio              Novopsin-10   \n",
       "2      Q80XL3           Mus musculus              Rrh protein   \n",
       "3      M3YAY1  Mustela putorius furo  Uncharacterized protein   \n",
       "4      G1PJY3       Myotis lucifugus  Uncharacterized protein   \n",
       "\n",
       "                                        aligned_seqs  \\\n",
       "0  TQTEH----NIV-------------------------------AAY...   \n",
       "1  SPSAD----LSI-------------------------------AVF...   \n",
       "2  SRTEH----SVI-------------------------------AAY...   \n",
       "3  SQTEH----NIV-------------------------------AAY...   \n",
       "4  SQTEH----NIV-------------------------------ATY...   \n",
       "\n",
       "                                            raw_seqs  prot_len  \n",
       "0  TQTEHNIVAAYLITAGVISIFSNIVVLGIFVKYKELRTATNAIIIN...       340  \n",
       "1  SPSADLSIAVFLIITGVVSVFGNGLVLLVYGQRRKKLRAHELMTIN...       378  \n",
       "2  SRTEHSVIAAYLIVAGITSILSNVVVLGIFIKYKELRTPTNAVIIN...       331  \n",
       "3  SQTEHNIVAAYLITAGIISIFSNLIVLGIFIKYKELRTPTNAIIIN...       328  \n",
       "4  SQTEHNIVATYLIMAGMISLLSNIIVLGIFITYKELRTPTNAIIIN...       331  "
      ]
     },
     "execution_count": 56,
     "metadata": {},
     "output_type": "execute_result"
    }
   ],
   "source": [
    "ramirez_df_filtered = ramirez_df[ramirez_df['Organism'].isin(species_list)]\n",
    "ramirez_df_filtered['raw_seqs'] = ramirez_df_filtered['aligned_seqs'].str.replace('-', '')\n",
    "prot_len_list = []\n",
    "for prot in ramirez_df_filtered['raw_seqs']:\n",
    "    prot_len = len(prot)\n",
    "    prot_len_list.append(prot_len)\n",
    "ramirez_df_filtered['prot_len'] = prot_len_list\n",
    "ramirez_df_filtered = ramirez_df_filtered[ramirez_df_filtered['prot_len']>320].reset_index(drop=True)\n",
    "ramirez_df_filtered.head()"
   ]
  },
  {
   "cell_type": "code",
   "execution_count": 57,
   "metadata": {},
   "outputs": [
    {
     "data": {
      "text/plain": [
       "(6, 6)"
      ]
     },
     "execution_count": 57,
     "metadata": {},
     "output_type": "execute_result"
    }
   ],
   "source": [
    "ramirez_df_filtered.shape"
   ]
  },
  {
   "cell_type": "code",
   "execution_count": 58,
   "metadata": {},
   "outputs": [
    {
     "data": {
      "text/plain": [
       "6"
      ]
     },
     "execution_count": 58,
     "metadata": {},
     "output_type": "execute_result"
    }
   ],
   "source": [
    "len(set(ramirez_df_filtered['Organism'].to_list()))"
   ]
  },
  {
   "cell_type": "code",
   "execution_count": 108,
   "metadata": {},
   "outputs": [
    {
     "data": {
      "text/plain": [
       "(6, 7)"
      ]
     },
     "execution_count": 108,
     "metadata": {},
     "output_type": "execute_result"
    }
   ],
   "source": [
    "ramirez_df_filtered2 = ramirez_df_filtered[~ramirez_df_filtered['raw_seqs'].isin(ncbi_prot_list)]\n",
    "ramirez_df_filtered2['source'] = 'Ramirez et al 2016'\n",
    "ramirez_df_filtered2.shape"
   ]
  },
  {
   "cell_type": "code",
   "execution_count": 104,
   "metadata": {},
   "outputs": [
    {
     "data": {
      "text/plain": [
       "6"
      ]
     },
     "execution_count": 104,
     "metadata": {},
     "output_type": "execute_result"
    }
   ],
   "source": [
    "ramirez_df_filtered2.to_csv(f'{report_dir2}/bilaterian_animal_ops/Supplemental_Table_T1_filtered.csv')\n",
    "len(set(ramirez_df_filtered2['raw_seqs'].to_list()))"
   ]
  },
  {
   "cell_type": "code",
   "execution_count": 105,
   "metadata": {},
   "outputs": [],
   "source": [
    "sequence_list += ramirez_df_filtered2['raw_seqs'].to_list()\n",
    "acc_list += ramirez_df_filtered2['gene_ID'].to_list()\n",
    "db_sp_list += ramirez_df_filtered2['Organism'].to_list()\n",
    "prot_descriptions += ramirez_df_filtered2['Protein names'].to_list()\n",
    "source_list += ramirez_df_filtered2['source'].to_list()"
   ]
  },
  {
   "cell_type": "markdown",
   "metadata": {},
   "source": [
    "### <font color=#c994c7>Crustacean Conundrums: Palecanda et al 2022</font>"
   ]
  },
  {
   "cell_type": "code",
   "execution_count": 62,
   "metadata": {},
   "outputs": [
    {
     "data": {
      "text/html": [
       "<div>\n",
       "<style scoped>\n",
       "    .dataframe tbody tr th:only-of-type {\n",
       "        vertical-align: middle;\n",
       "    }\n",
       "\n",
       "    .dataframe tbody tr th {\n",
       "        vertical-align: top;\n",
       "    }\n",
       "\n",
       "    .dataframe thead th {\n",
       "        text-align: right;\n",
       "    }\n",
       "</style>\n",
       "<table border=\"1\" class=\"dataframe\">\n",
       "  <thead>\n",
       "    <tr style=\"text-align: right;\">\n",
       "      <th></th>\n",
       "      <th>Class</th>\n",
       "      <th>Order</th>\n",
       "      <th>Family</th>\n",
       "      <th>Genus species</th>\n",
       "      <th>Opsin Type</th>\n",
       "      <th>NCBI Accession #</th>\n",
       "      <th>Transcript ID</th>\n",
       "      <th>Untrimmed Nucleotide Sequence</th>\n",
       "      <th>Protein Sequence</th>\n",
       "    </tr>\n",
       "  </thead>\n",
       "  <tbody>\n",
       "    <tr>\n",
       "      <th>0</th>\n",
       "      <td>Malacostraca</td>\n",
       "      <td>Amphipoda</td>\n",
       "      <td>Corophiidae</td>\n",
       "      <td>Grandidierella japonica</td>\n",
       "      <td>LWS</td>\n",
       "      <td>BK059768</td>\n",
       "      <td>AMP|GrJap|LWS|IACS01070746.1</td>\n",
       "      <td>ACTGAGAAATATCTACGGAAAAATGTCTTGGAATAGCCCAATGAAC...</td>\n",
       "      <td>LPEGMASSNPFGNYTVVDAAPKEILHMVDPHWYQFPPMNPLWYGLL...</td>\n",
       "    </tr>\n",
       "    <tr>\n",
       "      <th>1</th>\n",
       "      <td>Malacostraca</td>\n",
       "      <td>Amphipoda</td>\n",
       "      <td>Corophiidae</td>\n",
       "      <td>Grandidierella japonica</td>\n",
       "      <td>MWS1</td>\n",
       "      <td>BK059769</td>\n",
       "      <td>AMP|GrJap|MWS|IACS01055269.1</td>\n",
       "      <td>GGAGTCACCCAGGTTGACCTGGTTCCGGATTACATGAAGGACATGA...</td>\n",
       "      <td>GVTQVDLVPDYMKDMIHPHWSNYPPVNPMWHHLLGLVYIIIGSCAT...</td>\n",
       "    </tr>\n",
       "    <tr>\n",
       "      <th>2</th>\n",
       "      <td>Malacostraca</td>\n",
       "      <td>Amphipoda</td>\n",
       "      <td>Corophiidae</td>\n",
       "      <td>Grandidierella japonica</td>\n",
       "      <td>NEUR</td>\n",
       "      <td>BK059770</td>\n",
       "      <td>AMP|GrJap|NEUR|IACS01028177.1</td>\n",
       "      <td>AGTGTACGGCTACGTATGCTTCGCTCTGGGTATCGTCAATATTCTC...</td>\n",
       "      <td>VYGYVCFALGIVNILSIYALAVVRYLKTCHYRNIGSKIDRKEVSIV...</td>\n",
       "    </tr>\n",
       "    <tr>\n",
       "      <th>3</th>\n",
       "      <td>Malacostraca</td>\n",
       "      <td>Amphipoda</td>\n",
       "      <td>Gammaridae</td>\n",
       "      <td>Echinogammarus berilloni</td>\n",
       "      <td>LWS</td>\n",
       "      <td>NaN</td>\n",
       "      <td>AMP|EcBer|LWS|GHCT01076719.1</td>\n",
       "      <td>CGTGGCTTCAACGCGCTGTGTAGACCAACAGGACCTCCGCCTCACT...</td>\n",
       "      <td>LPEGVVSSNPFGNYTVVDAAPKELLPLIDSHWYQYPPLNPMWYGLL...</td>\n",
       "    </tr>\n",
       "    <tr>\n",
       "      <th>4</th>\n",
       "      <td>Malacostraca</td>\n",
       "      <td>Amphipoda</td>\n",
       "      <td>Gammaridae</td>\n",
       "      <td>Echinogammarus berilloni</td>\n",
       "      <td>LWS</td>\n",
       "      <td>NaN</td>\n",
       "      <td>AMP|EcBer|LWS|GHCT01076725.1</td>\n",
       "      <td>CTCAATATATAATTTGAGCGTCCAGAAGATTCTGTCTCAGTGAGCC...</td>\n",
       "      <td>APEGAVSTNPFGNYTVVDTAAKDILHMISPHWYQFPPLNPMWYGLL...</td>\n",
       "    </tr>\n",
       "  </tbody>\n",
       "</table>\n",
       "</div>"
      ],
      "text/plain": [
       "          Class      Order       Family             Genus species Opsin Type  \\\n",
       "0  Malacostraca  Amphipoda  Corophiidae   Grandidierella japonica        LWS   \n",
       "1  Malacostraca  Amphipoda  Corophiidae   Grandidierella japonica       MWS1   \n",
       "2  Malacostraca  Amphipoda  Corophiidae   Grandidierella japonica       NEUR   \n",
       "3  Malacostraca  Amphipoda   Gammaridae  Echinogammarus berilloni        LWS   \n",
       "4  Malacostraca  Amphipoda   Gammaridae  Echinogammarus berilloni        LWS   \n",
       "\n",
       "  NCBI Accession #                  Transcript ID  \\\n",
       "0         BK059768   AMP|GrJap|LWS|IACS01070746.1   \n",
       "1         BK059769   AMP|GrJap|MWS|IACS01055269.1   \n",
       "2         BK059770  AMP|GrJap|NEUR|IACS01028177.1   \n",
       "3              NaN   AMP|EcBer|LWS|GHCT01076719.1   \n",
       "4              NaN   AMP|EcBer|LWS|GHCT01076725.1   \n",
       "\n",
       "                       Untrimmed Nucleotide Sequence  \\\n",
       "0  ACTGAGAAATATCTACGGAAAAATGTCTTGGAATAGCCCAATGAAC...   \n",
       "1  GGAGTCACCCAGGTTGACCTGGTTCCGGATTACATGAAGGACATGA...   \n",
       "2  AGTGTACGGCTACGTATGCTTCGCTCTGGGTATCGTCAATATTCTC...   \n",
       "3  CGTGGCTTCAACGCGCTGTGTAGACCAACAGGACCTCCGCCTCACT...   \n",
       "4  CTCAATATATAATTTGAGCGTCCAGAAGATTCTGTCTCAGTGAGCC...   \n",
       "\n",
       "                                    Protein Sequence  \n",
       "0  LPEGMASSNPFGNYTVVDAAPKEILHMVDPHWYQFPPMNPLWYGLL...  \n",
       "1  GVTQVDLVPDYMKDMIHPHWSNYPPVNPMWHHLLGLVYIIIGSCAT...  \n",
       "2  VYGYVCFALGIVNILSIYALAVVRYLKTCHYRNIGSKIDRKEVSIV...  \n",
       "3  LPEGVVSSNPFGNYTVVDAAPKELLPLIDSHWYQYPPLNPMWYGLL...  \n",
       "4  APEGAVSTNPFGNYTVVDTAAKDILHMISPHWYQFPPLNPMWYGLL...  "
      ]
     },
     "execution_count": 62,
     "metadata": {},
     "output_type": "execute_result"
    }
   ],
   "source": [
    "palecanda_file = f'{report_dir2}/crustacean_conundrums/rstb20210289_si_003.csv'\n",
    "palecanda_df = pd.read_csv(palecanda_file)\n",
    "palecanda_df.head()"
   ]
  },
  {
   "cell_type": "code",
   "execution_count": 63,
   "metadata": {},
   "outputs": [
    {
     "data": {
      "text/plain": [
       "(628, 9)"
      ]
     },
     "execution_count": 63,
     "metadata": {},
     "output_type": "execute_result"
    }
   ],
   "source": [
    "palecanda_df.shape"
   ]
  },
  {
   "cell_type": "code",
   "execution_count": 69,
   "metadata": {},
   "outputs": [
    {
     "data": {
      "text/html": [
       "<div>\n",
       "<style scoped>\n",
       "    .dataframe tbody tr th:only-of-type {\n",
       "        vertical-align: middle;\n",
       "    }\n",
       "\n",
       "    .dataframe tbody tr th {\n",
       "        vertical-align: top;\n",
       "    }\n",
       "\n",
       "    .dataframe thead th {\n",
       "        text-align: right;\n",
       "    }\n",
       "</style>\n",
       "<table border=\"1\" class=\"dataframe\">\n",
       "  <thead>\n",
       "    <tr style=\"text-align: right;\">\n",
       "      <th></th>\n",
       "      <th>Class</th>\n",
       "      <th>Order</th>\n",
       "      <th>Family</th>\n",
       "      <th>Genus species</th>\n",
       "      <th>Opsin Type</th>\n",
       "      <th>NCBI Accession #</th>\n",
       "      <th>Transcript ID</th>\n",
       "      <th>Untrimmed Nucleotide Sequence</th>\n",
       "      <th>Protein Sequence</th>\n",
       "      <th>prot_len</th>\n",
       "    </tr>\n",
       "  </thead>\n",
       "  <tbody>\n",
       "    <tr>\n",
       "      <th>0</th>\n",
       "      <td>Malacostraca</td>\n",
       "      <td>Amphipoda</td>\n",
       "      <td>Talitridae</td>\n",
       "      <td>Talitrus saltator</td>\n",
       "      <td>LWS</td>\n",
       "      <td>NaN</td>\n",
       "      <td>AMP|TeSal|LWS|GDUJ01056749.1</td>\n",
       "      <td>TCACGTGGCCTAGCGCGCTGTGTAGACCGAATCCAACTCCTTGTCT...</td>\n",
       "      <td>HPEGMVSSNPFGNFTVVDAAPKELLHMVDPHWYQYPPLNPLWYGLL...</td>\n",
       "      <td>336</td>\n",
       "    </tr>\n",
       "    <tr>\n",
       "      <th>1</th>\n",
       "      <td>Malacostraca</td>\n",
       "      <td>Amphipoda</td>\n",
       "      <td>Talitridae</td>\n",
       "      <td>Talitrus saltator</td>\n",
       "      <td>LWS</td>\n",
       "      <td>NaN</td>\n",
       "      <td>AMP|TeSal|LWS|GDUJ01056750.1</td>\n",
       "      <td>CTCACAACGAATCCAACTCATCAGTAATAATGAGGTGGAGGCGCGT...</td>\n",
       "      <td>LPDSGYISTNPFGNFTVVDSAPKEILHMIDPHWYQFPPLNPMWYGL...</td>\n",
       "      <td>337</td>\n",
       "    </tr>\n",
       "    <tr>\n",
       "      <th>2</th>\n",
       "      <td>Malacostraca</td>\n",
       "      <td>Amphipoda</td>\n",
       "      <td>Talitridae</td>\n",
       "      <td>Talitrus saltator</td>\n",
       "      <td>MWS1</td>\n",
       "      <td>NaN</td>\n",
       "      <td>AMP|TeSal|MWS|GDUJ01058424.1</td>\n",
       "      <td>TGGAGGGCTTCTTGGGGCCTCCCAGCTGCATTCATGTCCCTAACAC...</td>\n",
       "      <td>SYGSPSSSALTGANQFAFGYPPGVSVVDIVPPHMKDLIHPHWSNFP...</td>\n",
       "      <td>373</td>\n",
       "    </tr>\n",
       "    <tr>\n",
       "      <th>3</th>\n",
       "      <td>Malacostraca</td>\n",
       "      <td>Amphipoda</td>\n",
       "      <td>Talitridae</td>\n",
       "      <td>Talitrus saltator</td>\n",
       "      <td>NEUR</td>\n",
       "      <td>NaN</td>\n",
       "      <td>AMP|TeSal|NEUR|GDUJ01037444.1</td>\n",
       "      <td>ATGGGTTAAAAATCAGCGCTGCATTGACGAGAAGTTTGACTCATCT...</td>\n",
       "      <td>VVQTRPIFIISTRFTLHFDTEWLLACMTAGVVALVGNSASVAMFWR...</td>\n",
       "      <td>330</td>\n",
       "    </tr>\n",
       "    <tr>\n",
       "      <th>4</th>\n",
       "      <td>Malacostraca</td>\n",
       "      <td>Decapoda</td>\n",
       "      <td>Cambaridae</td>\n",
       "      <td>Procambarus clarkii</td>\n",
       "      <td>LWS</td>\n",
       "      <td>ALJ26467</td>\n",
       "      <td>DEC|Proclar|LWS|ALJ26467</td>\n",
       "      <td>NaN</td>\n",
       "      <td>SWSNQPAMDDYGLPSSNPYGNFTVVDMAPKDILHMIHPHWYQYPPM...</td>\n",
       "      <td>363</td>\n",
       "    </tr>\n",
       "  </tbody>\n",
       "</table>\n",
       "</div>"
      ],
      "text/plain": [
       "          Class      Order      Family        Genus species Opsin Type  \\\n",
       "0  Malacostraca  Amphipoda  Talitridae    Talitrus saltator        LWS   \n",
       "1  Malacostraca  Amphipoda  Talitridae    Talitrus saltator        LWS   \n",
       "2  Malacostraca  Amphipoda  Talitridae    Talitrus saltator       MWS1   \n",
       "3  Malacostraca  Amphipoda  Talitridae    Talitrus saltator       NEUR   \n",
       "4  Malacostraca   Decapoda  Cambaridae  Procambarus clarkii        LWS   \n",
       "\n",
       "  NCBI Accession #                  Transcript ID  \\\n",
       "0              NaN   AMP|TeSal|LWS|GDUJ01056749.1   \n",
       "1              NaN   AMP|TeSal|LWS|GDUJ01056750.1   \n",
       "2              NaN   AMP|TeSal|MWS|GDUJ01058424.1   \n",
       "3              NaN  AMP|TeSal|NEUR|GDUJ01037444.1   \n",
       "4         ALJ26467       DEC|Proclar|LWS|ALJ26467   \n",
       "\n",
       "                       Untrimmed Nucleotide Sequence  \\\n",
       "0  TCACGTGGCCTAGCGCGCTGTGTAGACCGAATCCAACTCCTTGTCT...   \n",
       "1  CTCACAACGAATCCAACTCATCAGTAATAATGAGGTGGAGGCGCGT...   \n",
       "2  TGGAGGGCTTCTTGGGGCCTCCCAGCTGCATTCATGTCCCTAACAC...   \n",
       "3  ATGGGTTAAAAATCAGCGCTGCATTGACGAGAAGTTTGACTCATCT...   \n",
       "4                                                NaN   \n",
       "\n",
       "                                    Protein Sequence  prot_len  \n",
       "0  HPEGMVSSNPFGNFTVVDAAPKELLHMVDPHWYQYPPLNPLWYGLL...       336  \n",
       "1  LPDSGYISTNPFGNFTVVDSAPKEILHMIDPHWYQFPPLNPMWYGL...       337  \n",
       "2  SYGSPSSSALTGANQFAFGYPPGVSVVDIVPPHMKDLIHPHWSNFP...       373  \n",
       "3  VVQTRPIFIISTRFTLHFDTEWLLACMTAGVVALVGNSASVAMFWR...       330  \n",
       "4  SWSNQPAMDDYGLPSSNPYGNFTVVDMAPKDILHMIHPHWYQYPPM...       363  "
      ]
     },
     "execution_count": 69,
     "metadata": {},
     "output_type": "execute_result"
    }
   ],
   "source": [
    "palecanda_df_filtered = palecanda_df[palecanda_df['Genus species'].isin(species_list)].reset_index(drop=True)\n",
    "#palecanda_df_filtered['raw_seqs'] = palecanda_df_filtered['aligned_seqs'].str.replace('-', '')\n",
    "prot_len_list = []\n",
    "for prot in palecanda_df_filtered['Protein Sequence']:\n",
    "    prot_len = len(prot)\n",
    "    prot_len_list.append(prot_len)\n",
    "palecanda_df_filtered['prot_len'] = prot_len_list\n",
    "palecanda_df_filtered = palecanda_df_filtered[palecanda_df_filtered['prot_len']>320].reset_index(drop=True)\n",
    "\n",
    "palecanda_df_filtered.head()"
   ]
  },
  {
   "cell_type": "code",
   "execution_count": 70,
   "metadata": {},
   "outputs": [
    {
     "data": {
      "text/plain": [
       "(84, 10)"
      ]
     },
     "execution_count": 70,
     "metadata": {},
     "output_type": "execute_result"
    }
   ],
   "source": [
    "palecanda_df_filtered.shape"
   ]
  },
  {
   "cell_type": "code",
   "execution_count": 71,
   "metadata": {},
   "outputs": [
    {
     "data": {
      "text/plain": [
       "15"
      ]
     },
     "execution_count": 71,
     "metadata": {},
     "output_type": "execute_result"
    }
   ],
   "source": [
    "len(set(palecanda_df_filtered['Genus species'].to_list()))"
   ]
  },
  {
   "cell_type": "code",
   "execution_count": 109,
   "metadata": {},
   "outputs": [
    {
     "data": {
      "text/plain": [
       "(84, 11)"
      ]
     },
     "execution_count": 109,
     "metadata": {},
     "output_type": "execute_result"
    }
   ],
   "source": [
    "palecanda_df_filtered2 = palecanda_df_filtered[~palecanda_df_filtered['Protein Sequence'].isin(ncbi_prot_list)]\n",
    "palecanda_df_filtered2['source'] = 'Palecanda et al 2022'\n",
    "palecanda_df_filtered2.shape"
   ]
  },
  {
   "cell_type": "code",
   "execution_count": 110,
   "metadata": {},
   "outputs": [
    {
     "data": {
      "text/plain": [
       "84"
      ]
     },
     "execution_count": 110,
     "metadata": {},
     "output_type": "execute_result"
    }
   ],
   "source": [
    "palecanda_df_filtered2.to_csv(f'{report_dir2}/crustacean_conundrums/palecanda_2022_filtered_seq_data.csv')\n",
    "len(set(palecanda_df_filtered2['Protein Sequence'].to_list()))"
   ]
  },
  {
   "cell_type": "code",
   "execution_count": 111,
   "metadata": {},
   "outputs": [],
   "source": [
    "sequence_list += palecanda_df_filtered2['Protein Sequence'].to_list()\n",
    "acc_list += palecanda_df_filtered2['Transcript ID'].to_list()\n",
    "db_sp_list += palecanda_df_filtered2['Genus species'].to_list()\n",
    "prot_descriptions += palecanda_df_filtered2['Opsin Type'].to_list()\n",
    "source_list += palecanda_df_filtered2['source'].to_list()"
   ]
  },
  {
   "cell_type": "markdown",
   "metadata": {},
   "source": [
    "### <font color=#c994c7>Ray-Finned Fish Opsin DB: Policarpo et al 2024</font>"
   ]
  },
  {
   "cell_type": "code",
   "execution_count": 76,
   "metadata": {},
   "outputs": [],
   "source": [
    "ray_finned_fasta_file = f'{report_dir2}/ray_finned_fish/mined_alignments/Complete_opsins.aln.txt'\n",
    "ray_finned_df = fasta_to_dataframe(ray_finned_fasta_file)"
   ]
  },
  {
   "cell_type": "code",
   "execution_count": 77,
   "metadata": {},
   "outputs": [
    {
     "data": {
      "text/html": [
       "<div>\n",
       "<style scoped>\n",
       "    .dataframe tbody tr th:only-of-type {\n",
       "        vertical-align: middle;\n",
       "    }\n",
       "\n",
       "    .dataframe tbody tr th {\n",
       "        vertical-align: top;\n",
       "    }\n",
       "\n",
       "    .dataframe thead th {\n",
       "        text-align: right;\n",
       "    }\n",
       "</style>\n",
       "<table border=\"1\" class=\"dataframe\">\n",
       "  <thead>\n",
       "    <tr style=\"text-align: right;\">\n",
       "      <th></th>\n",
       "      <th>species_name</th>\n",
       "      <th>opsin_type</th>\n",
       "      <th>accession</th>\n",
       "      <th>aln_sequence</th>\n",
       "      <th>sequence</th>\n",
       "      <th>seq_length</th>\n",
       "    </tr>\n",
       "  </thead>\n",
       "  <tbody>\n",
       "    <tr>\n",
       "      <th>0</th>\n",
       "      <td>Lepisosteus oculatus</td>\n",
       "      <td>va</td>\n",
       "      <td>CM001408.1-11749388-11761955</td>\n",
       "      <td>MDSFRVSVNG-VV--------------------------YTEAAE-...</td>\n",
       "      <td>MDSFRVSVNGVVYTEAAEILKPGDPFSGPIENIAPWNFKFLAALMF...</td>\n",
       "      <td>386</td>\n",
       "    </tr>\n",
       "    <tr>\n",
       "      <th>1</th>\n",
       "      <td>Lepisosteus oculatus</td>\n",
       "      <td>pinopsin</td>\n",
       "      <td>CM001425.1-1263197-1266918</td>\n",
       "      <td>MPILVNSSAA-FP--------------------------L--EKN-...</td>\n",
       "      <td>MPILVNSSAAFPLEKNSTPGPFDGPQWHQAPRSTYLMVAVLMGTVV...</td>\n",
       "      <td>357</td>\n",
       "    </tr>\n",
       "    <tr>\n",
       "      <th>2</th>\n",
       "      <td>Lepisosteus oculatus</td>\n",
       "      <td>sws1</td>\n",
       "      <td>CM001411.1-10398717-10404663</td>\n",
       "      <td>MAGTEE--FY-L---------------------------F----E-...</td>\n",
       "      <td>MAGTEEFYLFENISSVGPWDGPQYHIAPKWAFYFQTIFMGLVFFWG...</td>\n",
       "      <td>346</td>\n",
       "    </tr>\n",
       "    <tr>\n",
       "      <th>3</th>\n",
       "      <td>Lepisosteus oculatus</td>\n",
       "      <td>rrh</td>\n",
       "      <td>CM001407.1-48235198-48246929</td>\n",
       "      <td>MENFSRIPIT-KV--------------------------LDNETS-...</td>\n",
       "      <td>MENFSRIPITKVLDNETSNLSQAVDTSEHSVFSQTEHNIVAAYLIT...</td>\n",
       "      <td>343</td>\n",
       "    </tr>\n",
       "    <tr>\n",
       "      <th>4</th>\n",
       "      <td>Lepisosteus oculatus</td>\n",
       "      <td>opn5</td>\n",
       "      <td>CM001404.1-37427058-37472360</td>\n",
       "      <td>MAQTDNGTSHNVP--------------------------HYL----...</td>\n",
       "      <td>MAQTDNGTSHNVPHYLLSGDPFASKLSKEADFVAAFYICIVGIMST...</td>\n",
       "      <td>352</td>\n",
       "    </tr>\n",
       "    <tr>\n",
       "      <th>...</th>\n",
       "      <td>...</td>\n",
       "      <td>...</td>\n",
       "      <td>...</td>\n",
       "      <td>...</td>\n",
       "      <td>...</td>\n",
       "      <td>...</td>\n",
       "    </tr>\n",
       "    <tr>\n",
       "      <th>17336</th>\n",
       "      <td>Callorhinchus milii</td>\n",
       "      <td>pinopsin</td>\n",
       "      <td>XP007894735.2</td>\n",
       "      <td>----MDLPTT-SV--------------------------G--IEN-...</td>\n",
       "      <td>MDLPTTSVGIENGTVGAFDGPQWYFAPKSTYMAVATLMGTVVILAS...</td>\n",
       "      <td>352</td>\n",
       "    </tr>\n",
       "    <tr>\n",
       "      <th>17337</th>\n",
       "      <td>Carcharodon carcharias</td>\n",
       "      <td>pinopsin</td>\n",
       "      <td>XP041052689.1</td>\n",
       "      <td>----MGFSTG-SI--------------------------T--THN-...</td>\n",
       "      <td>MGFSTGSITTHNITIGAFHGPQWDVAPRSTYMAVAALMGNVVILAT...</td>\n",
       "      <td>352</td>\n",
       "    </tr>\n",
       "    <tr>\n",
       "      <th>17338</th>\n",
       "      <td>Callorhinchus milii</td>\n",
       "      <td>rgr</td>\n",
       "      <td>XM007898380.1</td>\n",
       "      <td>MVTSHP----------------------------------------...</td>\n",
       "      <td>MVTSHPGLEGFTDFEVFGLLVEALVGLLLNGLTLLAFYKIKELRTP...</td>\n",
       "      <td>291</td>\n",
       "    </tr>\n",
       "    <tr>\n",
       "      <th>17339</th>\n",
       "      <td>Rhincodon typus</td>\n",
       "      <td>rh1</td>\n",
       "      <td>A0A7T8R2L6</td>\n",
       "      <td>MNGTEGENFY-IP--------------------------MSNKTG-...</td>\n",
       "      <td>MNGTEGENFYIPMSNKTGVVRSPFEYPQYYLAEPWKFSLLAAYMFF...</td>\n",
       "      <td>353</td>\n",
       "    </tr>\n",
       "    <tr>\n",
       "      <th>17340</th>\n",
       "      <td>Callorhinchus milii</td>\n",
       "      <td>parapinopsin</td>\n",
       "      <td>V9KWA1</td>\n",
       "      <td>--------------------------------------------G-...</td>\n",
       "      <td>GPGLGPGWPSVRAPLSLVMAVISLSSIVLNSLAIAVVLRFQVLQQP...</td>\n",
       "      <td>312</td>\n",
       "    </tr>\n",
       "  </tbody>\n",
       "</table>\n",
       "<p>17341 rows × 6 columns</p>\n",
       "</div>"
      ],
      "text/plain": [
       "                 species_name    opsin_type                     accession  \\\n",
       "0        Lepisosteus oculatus            va  CM001408.1-11749388-11761955   \n",
       "1        Lepisosteus oculatus      pinopsin    CM001425.1-1263197-1266918   \n",
       "2        Lepisosteus oculatus          sws1  CM001411.1-10398717-10404663   \n",
       "3        Lepisosteus oculatus           rrh  CM001407.1-48235198-48246929   \n",
       "4        Lepisosteus oculatus          opn5  CM001404.1-37427058-37472360   \n",
       "...                       ...           ...                           ...   \n",
       "17336     Callorhinchus milii      pinopsin                 XP007894735.2   \n",
       "17337  Carcharodon carcharias      pinopsin                 XP041052689.1   \n",
       "17338     Callorhinchus milii           rgr                 XM007898380.1   \n",
       "17339         Rhincodon typus           rh1                    A0A7T8R2L6   \n",
       "17340     Callorhinchus milii  parapinopsin                        V9KWA1   \n",
       "\n",
       "                                            aln_sequence  \\\n",
       "0      MDSFRVSVNG-VV--------------------------YTEAAE-...   \n",
       "1      MPILVNSSAA-FP--------------------------L--EKN-...   \n",
       "2      MAGTEE--FY-L---------------------------F----E-...   \n",
       "3      MENFSRIPIT-KV--------------------------LDNETS-...   \n",
       "4      MAQTDNGTSHNVP--------------------------HYL----...   \n",
       "...                                                  ...   \n",
       "17336  ----MDLPTT-SV--------------------------G--IEN-...   \n",
       "17337  ----MGFSTG-SI--------------------------T--THN-...   \n",
       "17338  MVTSHP----------------------------------------...   \n",
       "17339  MNGTEGENFY-IP--------------------------MSNKTG-...   \n",
       "17340  --------------------------------------------G-...   \n",
       "\n",
       "                                                sequence  seq_length  \n",
       "0      MDSFRVSVNGVVYTEAAEILKPGDPFSGPIENIAPWNFKFLAALMF...         386  \n",
       "1      MPILVNSSAAFPLEKNSTPGPFDGPQWHQAPRSTYLMVAVLMGTVV...         357  \n",
       "2      MAGTEEFYLFENISSVGPWDGPQYHIAPKWAFYFQTIFMGLVFFWG...         346  \n",
       "3      MENFSRIPITKVLDNETSNLSQAVDTSEHSVFSQTEHNIVAAYLIT...         343  \n",
       "4      MAQTDNGTSHNVPHYLLSGDPFASKLSKEADFVAAFYICIVGIMST...         352  \n",
       "...                                                  ...         ...  \n",
       "17336  MDLPTTSVGIENGTVGAFDGPQWYFAPKSTYMAVATLMGTVVILAS...         352  \n",
       "17337  MGFSTGSITTHNITIGAFHGPQWDVAPRSTYMAVAALMGNVVILAT...         352  \n",
       "17338  MVTSHPGLEGFTDFEVFGLLVEALVGLLLNGLTLLAFYKIKELRTP...         291  \n",
       "17339  MNGTEGENFYIPMSNKTGVVRSPFEYPQYYLAEPWKFSLLAAYMFF...         353  \n",
       "17340  GPGLGPGWPSVRAPLSLVMAVISLSSIVLNSLAIAVVLRFQVLQQP...         312  \n",
       "\n",
       "[17341 rows x 6 columns]"
      ]
     },
     "execution_count": 77,
     "metadata": {},
     "output_type": "execute_result"
    }
   ],
   "source": [
    "ray_finned_df"
   ]
  },
  {
   "cell_type": "code",
   "execution_count": 78,
   "metadata": {},
   "outputs": [],
   "source": [
    "ray_finned_df.to_csv(f'{report_dir2}/ray_finned_fish/mined_alignments/extracted_fish_ops.csv')"
   ]
  },
  {
   "cell_type": "code",
   "execution_count": 79,
   "metadata": {},
   "outputs": [
    {
     "data": {
      "text/plain": [
       "(2494, 6)"
      ]
     },
     "execution_count": 79,
     "metadata": {},
     "output_type": "execute_result"
    }
   ],
   "source": [
    "ray_finned_df_filtered = ray_finned_df[ray_finned_df['species_name'].isin(species_list)].reset_index(drop=True)\n",
    "ray_finned_df_filtered.shape"
   ]
  },
  {
   "cell_type": "code",
   "execution_count": 80,
   "metadata": {},
   "outputs": [
    {
     "data": {
      "text/plain": [
       "(2447, 6)"
      ]
     },
     "execution_count": 80,
     "metadata": {},
     "output_type": "execute_result"
    }
   ],
   "source": [
    "ray_finned_df_filtered2 = ray_finned_df_filtered[~ray_finned_df_filtered['sequence'].isin(ncbi_prot_list)].reset_index(drop=True)\n",
    "ray_finned_df_filtered2.shape"
   ]
  },
  {
   "cell_type": "code",
   "execution_count": 114,
   "metadata": {},
   "outputs": [
    {
     "data": {
      "text/plain": [
       "(2125, 7)"
      ]
     },
     "execution_count": 114,
     "metadata": {},
     "output_type": "execute_result"
    }
   ],
   "source": [
    "ray_finned_df_filtered3 = ray_finned_df_filtered2[ray_finned_df_filtered2['seq_length'] > 320].reset_index(drop=True)\n",
    "ray_finned_df_filtered3['source'] = 'Policarpo et al 2024'\n",
    "ray_finned_df_filtered3.shape"
   ]
  },
  {
   "cell_type": "code",
   "execution_count": 115,
   "metadata": {},
   "outputs": [],
   "source": [
    "ray_finned_df_filtered3.to_csv(f'{report_dir2}/ray_finned_fish/mined_alignments/extracted_fish_ops_filtered.csv')"
   ]
  },
  {
   "cell_type": "code",
   "execution_count": 116,
   "metadata": {},
   "outputs": [],
   "source": [
    "sequence_list += ray_finned_df_filtered3['sequence'].to_list()\n",
    "acc_list += ray_finned_df_filtered3['accession'].to_list()\n",
    "db_sp_list += ray_finned_df_filtered3['species_name'].to_list()\n",
    "prot_descriptions += ray_finned_df_filtered3['opsin_type'].to_list()\n",
    "source_list += ray_finned_df_filtered3['source'].to_list()"
   ]
  },
  {
   "cell_type": "code",
   "execution_count": 146,
   "metadata": {},
   "outputs": [],
   "source": [
    "gn_list = []\n",
    "sp_list = []\n",
    "for sp in db_sp_list:\n",
    "#    print(sp)\n",
    "    gn_list.append(sp.split(' ', 1)[0])\n",
    "    sp_list.append(sp.split(' ', 1)[1])"
   ]
  },
  {
   "cell_type": "markdown",
   "metadata": {},
   "source": [
    "### <font color=#c994c7>MATEdb2: Martínez-Redondo et. al. 2024</font>\n",
    "For now I have no pipeline set up to extract sequences from the assembled transcriptomes but this may be coming in the future"
   ]
  },
  {
   "cell_type": "code",
   "execution_count": null,
   "metadata": {},
   "outputs": [],
   "source": [
    "matedb2_links_file = f'{report_dir2}/matedb2/Table_S1_cleaned.csv'\n",
    "matedb2_links_df = pd.read_csv(matedb2_links_file)\n",
    "matedb2_links_df.head()"
   ]
  },
  {
   "cell_type": "code",
   "execution_count": null,
   "metadata": {},
   "outputs": [],
   "source": [
    "matedb2_links_df.shape"
   ]
  },
  {
   "cell_type": "code",
   "execution_count": null,
   "metadata": {},
   "outputs": [],
   "source": [
    "matedb2_links_filtered = matedb2_links_df[matedb2_links_df['SCIENTIFIC NAME'].isin(species_list)].reset_index(drop=True)\n",
    "matedb2_links_filtered.head()"
   ]
  },
  {
   "cell_type": "code",
   "execution_count": null,
   "metadata": {},
   "outputs": [],
   "source": [
    "matedb2_links_filtered.shape"
   ]
  },
  {
   "cell_type": "code",
   "execution_count": null,
   "metadata": {},
   "outputs": [],
   "source": [
    "matedb2_links_filtered2 = matedb2_links_filtered[~matedb2_links_filtered['SCIENTIFIC NAME'].isin(ncbi_sp_list)]\n",
    "matedb2_links_filtered2.shape"
   ]
  },
  {
   "cell_type": "markdown",
   "metadata": {},
   "source": [
    "### <font color=#c994c7>Create Merged Dataframe From All Accessory Opsin Sequence DBs</font>"
   ]
  },
  {
   "cell_type": "code",
   "execution_count": 147,
   "metadata": {},
   "outputs": [
    {
     "data": {
      "text/html": [
       "<div>\n",
       "<style scoped>\n",
       "    .dataframe tbody tr th:only-of-type {\n",
       "        vertical-align: middle;\n",
       "    }\n",
       "\n",
       "    .dataframe tbody tr th {\n",
       "        vertical-align: top;\n",
       "    }\n",
       "\n",
       "    .dataframe thead th {\n",
       "        text-align: right;\n",
       "    }\n",
       "</style>\n",
       "<table border=\"1\" class=\"dataframe\">\n",
       "  <thead>\n",
       "    <tr style=\"text-align: right;\">\n",
       "      <th></th>\n",
       "      <th>Accession</th>\n",
       "      <th>Genus</th>\n",
       "      <th>Species</th>\n",
       "      <th>Full_Species</th>\n",
       "      <th>Gene_Description</th>\n",
       "      <th>Protein</th>\n",
       "      <th>source</th>\n",
       "    </tr>\n",
       "  </thead>\n",
       "  <tbody>\n",
       "    <tr>\n",
       "      <th>0</th>\n",
       "      <td>U3IU26</td>\n",
       "      <td>Anas</td>\n",
       "      <td>platyrhynchos</td>\n",
       "      <td>Anas platyrhynchos</td>\n",
       "      <td>Uncharacterized protein</td>\n",
       "      <td>TQTEHNIVAAYLITAGVISIFSNIVVLGIFVKYKELRTATNAIIIN...</td>\n",
       "      <td>Ramirez et al 2016</td>\n",
       "    </tr>\n",
       "    <tr>\n",
       "      <th>1</th>\n",
       "      <td>A0A0R4IEG0</td>\n",
       "      <td>Danio</td>\n",
       "      <td>rerio</td>\n",
       "      <td>Danio rerio</td>\n",
       "      <td>Novopsin-10</td>\n",
       "      <td>SPSADLSIAVFLIITGVVSVFGNGLVLLVYGQRRKKLRAHELMTIN...</td>\n",
       "      <td>Ramirez et al 2016</td>\n",
       "    </tr>\n",
       "    <tr>\n",
       "      <th>2</th>\n",
       "      <td>Q80XL3</td>\n",
       "      <td>Mus</td>\n",
       "      <td>musculus</td>\n",
       "      <td>Mus musculus</td>\n",
       "      <td>Rrh protein</td>\n",
       "      <td>SRTEHSVIAAYLIVAGITSILSNVVVLGIFIKYKELRTPTNAVIIN...</td>\n",
       "      <td>Ramirez et al 2016</td>\n",
       "    </tr>\n",
       "    <tr>\n",
       "      <th>3</th>\n",
       "      <td>M3YAY1</td>\n",
       "      <td>Mustela</td>\n",
       "      <td>putorius furo</td>\n",
       "      <td>Mustela putorius furo</td>\n",
       "      <td>Uncharacterized protein</td>\n",
       "      <td>SQTEHNIVAAYLITAGIISIFSNLIVLGIFIKYKELRTPTNAIIIN...</td>\n",
       "      <td>Ramirez et al 2016</td>\n",
       "    </tr>\n",
       "    <tr>\n",
       "      <th>4</th>\n",
       "      <td>G1PJY3</td>\n",
       "      <td>Myotis</td>\n",
       "      <td>lucifugus</td>\n",
       "      <td>Myotis lucifugus</td>\n",
       "      <td>Uncharacterized protein</td>\n",
       "      <td>SQTEHNIVATYLIMAGMISLLSNIIVLGIFITYKELRTPTNAIIIN...</td>\n",
       "      <td>Ramirez et al 2016</td>\n",
       "    </tr>\n",
       "  </tbody>\n",
       "</table>\n",
       "</div>"
      ],
      "text/plain": [
       "    Accession    Genus        Species           Full_Species  \\\n",
       "0      U3IU26     Anas  platyrhynchos     Anas platyrhynchos   \n",
       "1  A0A0R4IEG0    Danio          rerio            Danio rerio   \n",
       "2      Q80XL3      Mus       musculus           Mus musculus   \n",
       "3      M3YAY1  Mustela  putorius furo  Mustela putorius furo   \n",
       "4      G1PJY3   Myotis      lucifugus       Myotis lucifugus   \n",
       "\n",
       "          Gene_Description                                            Protein  \\\n",
       "0  Uncharacterized protein  TQTEHNIVAAYLITAGVISIFSNIVVLGIFVKYKELRTATNAIIIN...   \n",
       "1              Novopsin-10  SPSADLSIAVFLIITGVVSVFGNGLVLLVYGQRRKKLRAHELMTIN...   \n",
       "2              Rrh protein  SRTEHSVIAAYLIVAGITSILSNVVVLGIFIKYKELRTPTNAVIIN...   \n",
       "3  Uncharacterized protein  SQTEHNIVAAYLITAGIISIFSNLIVLGIFIKYKELRTPTNAIIIN...   \n",
       "4  Uncharacterized protein  SQTEHNIVATYLIMAGMISLLSNIIVLGIFITYKELRTPTNAIIIN...   \n",
       "\n",
       "               source  \n",
       "0  Ramirez et al 2016  \n",
       "1  Ramirez et al 2016  \n",
       "2  Ramirez et al 2016  \n",
       "3  Ramirez et al 2016  \n",
       "4  Ramirez et al 2016  "
      ]
     },
     "execution_count": 147,
     "metadata": {},
     "output_type": "execute_result"
    }
   ],
   "source": [
    "#make a merged df of all the accessory seq dbs, filter out reedundant datapoints, then append to the end of the NCBI query sheet?\n",
    "data = {'Accession': acc_list, 'Genus': gn_list, 'Species': sp_list, 'Full_Species': db_sp_list, 'Gene_Description': prot_descriptions, 'Protein' : sequence_list, 'source' : source_list} \n",
    "acc_seq_db_df = pd.DataFrame(data)\n",
    "acc_seq_db_df.head()"
   ]
  },
  {
   "cell_type": "code",
   "execution_count": 129,
   "metadata": {},
   "outputs": [
    {
     "data": {
      "text/plain": [
       "(2215, 5)"
      ]
     },
     "execution_count": 129,
     "metadata": {},
     "output_type": "execute_result"
    }
   ],
   "source": [
    "acc_seq_db_df.shape"
   ]
  },
  {
   "cell_type": "code",
   "execution_count": 148,
   "metadata": {},
   "outputs": [
    {
     "data": {
      "text/plain": [
       "(2204, 7)"
      ]
     },
     "execution_count": 148,
     "metadata": {},
     "output_type": "execute_result"
    }
   ],
   "source": [
    "acc_seq_db_df_filtered = acc_seq_db_df.copy()\n",
    "acc_seq_db_df_filtered.drop_duplicates(subset=['Full_Species', 'Protein'],  keep='first', inplace=True)\n",
    "acc_seq_db_df_filtered.shape"
   ]
  },
  {
   "cell_type": "code",
   "execution_count": 132,
   "metadata": {},
   "outputs": [
    {
     "data": {
      "text/plain": [
       "87"
      ]
     },
     "execution_count": 132,
     "metadata": {},
     "output_type": "execute_result"
    }
   ],
   "source": [
    "len(set(acc_seq_db_df_filtered['Full_Species'].to_list()))"
   ]
  },
  {
   "cell_type": "code",
   "execution_count": 149,
   "metadata": {},
   "outputs": [],
   "source": [
    "acc_seq_db_df_filtered.to_csv(f'{report_dir2}/vpod_comp_accessory_seq_dbs.csv')"
   ]
  },
  {
   "cell_type": "code",
   "execution_count": 144,
   "metadata": {},
   "outputs": [
    {
     "data": {
      "text/plain": [
       "(2204, 7)"
      ]
     },
     "execution_count": 144,
     "metadata": {},
     "output_type": "execute_result"
    }
   ],
   "source": [
    "acc_seq_db_df_filtered2 = acc_seq_db_df_filtered[~acc_seq_db_df_filtered['Protein'].isin(ncbi_prot_list)]\n",
    "acc_seq_db_df_filtered2.shape"
   ]
  },
  {
   "cell_type": "markdown",
   "metadata": {},
   "source": [
    "### <font color=#c994c7>Merge the Formated Accessory Sequence DBs w/the Mined NCBI Data</font>"
   ]
  },
  {
   "cell_type": "code",
   "execution_count": 150,
   "metadata": {},
   "outputs": [
    {
     "data": {
      "text/html": [
       "<div>\n",
       "<style scoped>\n",
       "    .dataframe tbody tr th:only-of-type {\n",
       "        vertical-align: middle;\n",
       "    }\n",
       "\n",
       "    .dataframe tbody tr th {\n",
       "        vertical-align: top;\n",
       "    }\n",
       "\n",
       "    .dataframe thead th {\n",
       "        text-align: right;\n",
       "    }\n",
       "</style>\n",
       "<table border=\"1\" class=\"dataframe\">\n",
       "  <thead>\n",
       "    <tr style=\"text-align: right;\">\n",
       "      <th></th>\n",
       "      <th>Accession</th>\n",
       "      <th>Genus</th>\n",
       "      <th>Species</th>\n",
       "      <th>Full_Species</th>\n",
       "      <th>Protein</th>\n",
       "      <th>Gene_Description</th>\n",
       "    </tr>\n",
       "  </thead>\n",
       "  <tbody>\n",
       "    <tr>\n",
       "      <th>0</th>\n",
       "      <td>MN519158.1</td>\n",
       "      <td>Carcharhinus</td>\n",
       "      <td>melanopterus</td>\n",
       "      <td>Carcharhinus melanopterus</td>\n",
       "      <td>MNGTEGENFYVPFSNKTGVVRSPFEYPQYYLAEPWQFSIIAAYVFL...</td>\n",
       "      <td>Carcharhinus melanopterus isolate U16228 green...</td>\n",
       "    </tr>\n",
       "    <tr>\n",
       "      <th>1</th>\n",
       "      <td>MN519147.1</td>\n",
       "      <td>Carcharhinus</td>\n",
       "      <td>melanopterus</td>\n",
       "      <td>Carcharhinus melanopterus</td>\n",
       "      <td>MNGTEGENFYVPMSNKTGVVRSPFEYSQHYLAEPWMFSVLTAYMFF...</td>\n",
       "      <td>Carcharhinus melanopterus isolate CL4386 rhodo...</td>\n",
       "    </tr>\n",
       "    <tr>\n",
       "      <th>2</th>\n",
       "      <td>XM_022258443.2</td>\n",
       "      <td>Pieris</td>\n",
       "      <td>rapae</td>\n",
       "      <td>Pieris rapae</td>\n",
       "      <td>MMQITKIILILIPIIVPCDNSVTNELDIKCVKKSVLTKVYCTNLVR...</td>\n",
       "      <td>PREDICTED: Pieris rapae opsin, ultraviolet-sen...</td>\n",
       "    </tr>\n",
       "    <tr>\n",
       "      <th>3</th>\n",
       "      <td>AB208675.1</td>\n",
       "      <td>Pieris</td>\n",
       "      <td>rapae</td>\n",
       "      <td>Pieris rapae</td>\n",
       "      <td>MFDTVNATADGGAIAYAFKMVSSEVQENMLGFNIPPEHQDLVHEHW...</td>\n",
       "      <td>Pieris rapae PrB mRNA for opsin, complete cds</td>\n",
       "    </tr>\n",
       "    <tr>\n",
       "      <th>4</th>\n",
       "      <td>AB208674.1</td>\n",
       "      <td>Pieris</td>\n",
       "      <td>rapae</td>\n",
       "      <td>Pieris rapae</td>\n",
       "      <td>MELNYTAGDPIAFPFKMVSGEVQQHMLGWNIPAEHQGLVHEHWRQF...</td>\n",
       "      <td>Pieris rapae PrV mRNA for opsin, complete cds</td>\n",
       "    </tr>\n",
       "  </tbody>\n",
       "</table>\n",
       "</div>"
      ],
      "text/plain": [
       "        Accession         Genus       Species               Full_Species  \\\n",
       "0      MN519158.1  Carcharhinus  melanopterus  Carcharhinus melanopterus   \n",
       "1      MN519147.1  Carcharhinus  melanopterus  Carcharhinus melanopterus   \n",
       "2  XM_022258443.2        Pieris         rapae               Pieris rapae   \n",
       "3      AB208675.1        Pieris         rapae               Pieris rapae   \n",
       "4      AB208674.1        Pieris         rapae               Pieris rapae   \n",
       "\n",
       "                                             Protein  \\\n",
       "0  MNGTEGENFYVPFSNKTGVVRSPFEYPQYYLAEPWQFSIIAAYVFL...   \n",
       "1  MNGTEGENFYVPMSNKTGVVRSPFEYSQHYLAEPWMFSVLTAYMFF...   \n",
       "2  MMQITKIILILIPIIVPCDNSVTNELDIKCVKKSVLTKVYCTNLVR...   \n",
       "3  MFDTVNATADGGAIAYAFKMVSSEVQENMLGFNIPPEHQDLVHEHW...   \n",
       "4  MELNYTAGDPIAFPFKMVSGEVQQHMLGWNIPAEHQGLVHEHWRQF...   \n",
       "\n",
       "                                    Gene_Description  \n",
       "0  Carcharhinus melanopterus isolate U16228 green...  \n",
       "1  Carcharhinus melanopterus isolate CL4386 rhodo...  \n",
       "2  PREDICTED: Pieris rapae opsin, ultraviolet-sen...  \n",
       "3      Pieris rapae PrB mRNA for opsin, complete cds  \n",
       "4      Pieris rapae PrV mRNA for opsin, complete cds  "
      ]
     },
     "execution_count": 150,
     "metadata": {},
     "output_type": "execute_result"
    }
   ],
   "source": [
    "ncbi_query_df.head()"
   ]
  },
  {
   "cell_type": "code",
   "execution_count": 151,
   "metadata": {},
   "outputs": [
    {
     "data": {
      "text/html": [
       "<div>\n",
       "<style scoped>\n",
       "    .dataframe tbody tr th:only-of-type {\n",
       "        vertical-align: middle;\n",
       "    }\n",
       "\n",
       "    .dataframe tbody tr th {\n",
       "        vertical-align: top;\n",
       "    }\n",
       "\n",
       "    .dataframe thead th {\n",
       "        text-align: right;\n",
       "    }\n",
       "</style>\n",
       "<table border=\"1\" class=\"dataframe\">\n",
       "  <thead>\n",
       "    <tr style=\"text-align: right;\">\n",
       "      <th></th>\n",
       "      <th>Accession</th>\n",
       "      <th>Genus</th>\n",
       "      <th>Species</th>\n",
       "      <th>Full_Species</th>\n",
       "      <th>Gene_Description</th>\n",
       "      <th>Protein</th>\n",
       "    </tr>\n",
       "  </thead>\n",
       "  <tbody>\n",
       "    <tr>\n",
       "      <th>0</th>\n",
       "      <td>U3IU26</td>\n",
       "      <td>Anas</td>\n",
       "      <td>platyrhynchos</td>\n",
       "      <td>Anas platyrhynchos</td>\n",
       "      <td>Uncharacterized protein</td>\n",
       "      <td>TQTEHNIVAAYLITAGVISIFSNIVVLGIFVKYKELRTATNAIIIN...</td>\n",
       "    </tr>\n",
       "    <tr>\n",
       "      <th>1</th>\n",
       "      <td>A0A0R4IEG0</td>\n",
       "      <td>Danio</td>\n",
       "      <td>rerio</td>\n",
       "      <td>Danio rerio</td>\n",
       "      <td>Novopsin-10</td>\n",
       "      <td>SPSADLSIAVFLIITGVVSVFGNGLVLLVYGQRRKKLRAHELMTIN...</td>\n",
       "    </tr>\n",
       "    <tr>\n",
       "      <th>2</th>\n",
       "      <td>Q80XL3</td>\n",
       "      <td>Mus</td>\n",
       "      <td>musculus</td>\n",
       "      <td>Mus musculus</td>\n",
       "      <td>Rrh protein</td>\n",
       "      <td>SRTEHSVIAAYLIVAGITSILSNVVVLGIFIKYKELRTPTNAVIIN...</td>\n",
       "    </tr>\n",
       "    <tr>\n",
       "      <th>3</th>\n",
       "      <td>M3YAY1</td>\n",
       "      <td>Mustela</td>\n",
       "      <td>putorius furo</td>\n",
       "      <td>Mustela putorius furo</td>\n",
       "      <td>Uncharacterized protein</td>\n",
       "      <td>SQTEHNIVAAYLITAGIISIFSNLIVLGIFIKYKELRTPTNAIIIN...</td>\n",
       "    </tr>\n",
       "    <tr>\n",
       "      <th>4</th>\n",
       "      <td>G1PJY3</td>\n",
       "      <td>Myotis</td>\n",
       "      <td>lucifugus</td>\n",
       "      <td>Myotis lucifugus</td>\n",
       "      <td>Uncharacterized protein</td>\n",
       "      <td>SQTEHNIVATYLIMAGMISLLSNIIVLGIFITYKELRTPTNAIIIN...</td>\n",
       "    </tr>\n",
       "  </tbody>\n",
       "</table>\n",
       "</div>"
      ],
      "text/plain": [
       "    Accession    Genus        Species           Full_Species  \\\n",
       "0      U3IU26     Anas  platyrhynchos     Anas platyrhynchos   \n",
       "1  A0A0R4IEG0    Danio          rerio            Danio rerio   \n",
       "2      Q80XL3      Mus       musculus           Mus musculus   \n",
       "3      M3YAY1  Mustela  putorius furo  Mustela putorius furo   \n",
       "4      G1PJY3   Myotis      lucifugus       Myotis lucifugus   \n",
       "\n",
       "          Gene_Description                                            Protein  \n",
       "0  Uncharacterized protein  TQTEHNIVAAYLITAGVISIFSNIVVLGIFVKYKELRTATNAIIIN...  \n",
       "1              Novopsin-10  SPSADLSIAVFLIITGVVSVFGNGLVLLVYGQRRKKLRAHELMTIN...  \n",
       "2              Rrh protein  SRTEHSVIAAYLIVAGITSILSNVVVLGIFIKYKELRTPTNAVIIN...  \n",
       "3  Uncharacterized protein  SQTEHNIVAAYLITAGIISIFSNLIVLGIFIKYKELRTPTNAIIIN...  \n",
       "4  Uncharacterized protein  SQTEHNIVATYLIMAGMISLLSNIIVLGIFITYKELRTPTNAIIIN...  "
      ]
     },
     "execution_count": 151,
     "metadata": {},
     "output_type": "execute_result"
    }
   ],
   "source": [
    "acc_seq_db_df_filtered.drop(columns='source', inplace =True)\n",
    "acc_seq_db_df_filtered.head()"
   ]
  },
  {
   "cell_type": "code",
   "execution_count": null,
   "metadata": {},
   "outputs": [
    {
     "data": {
      "text/html": [
       "<div>\n",
       "<style scoped>\n",
       "    .dataframe tbody tr th:only-of-type {\n",
       "        vertical-align: middle;\n",
       "    }\n",
       "\n",
       "    .dataframe tbody tr th {\n",
       "        vertical-align: top;\n",
       "    }\n",
       "\n",
       "    .dataframe thead th {\n",
       "        text-align: right;\n",
       "    }\n",
       "</style>\n",
       "<table border=\"1\" class=\"dataframe\">\n",
       "  <thead>\n",
       "    <tr style=\"text-align: right;\">\n",
       "      <th></th>\n",
       "      <th>Accession</th>\n",
       "      <th>Genus</th>\n",
       "      <th>Species</th>\n",
       "      <th>Full_Species</th>\n",
       "      <th>Protein</th>\n",
       "      <th>Gene_Description</th>\n",
       "    </tr>\n",
       "  </thead>\n",
       "  <tbody>\n",
       "    <tr>\n",
       "      <th>0</th>\n",
       "      <td>MN519158.1</td>\n",
       "      <td>Carcharhinus</td>\n",
       "      <td>melanopterus</td>\n",
       "      <td>Carcharhinus melanopterus</td>\n",
       "      <td>MNGTEGENFYVPFSNKTGVVRSPFEYPQYYLAEPWQFSIIAAYVFL...</td>\n",
       "      <td>Carcharhinus melanopterus isolate U16228 green...</td>\n",
       "    </tr>\n",
       "    <tr>\n",
       "      <th>1</th>\n",
       "      <td>MN519147.1</td>\n",
       "      <td>Carcharhinus</td>\n",
       "      <td>melanopterus</td>\n",
       "      <td>Carcharhinus melanopterus</td>\n",
       "      <td>MNGTEGENFYVPMSNKTGVVRSPFEYSQHYLAEPWMFSVLTAYMFF...</td>\n",
       "      <td>Carcharhinus melanopterus isolate CL4386 rhodo...</td>\n",
       "    </tr>\n",
       "    <tr>\n",
       "      <th>2</th>\n",
       "      <td>XM_022258443.2</td>\n",
       "      <td>Pieris</td>\n",
       "      <td>rapae</td>\n",
       "      <td>Pieris rapae</td>\n",
       "      <td>MMQITKIILILIPIIVPCDNSVTNELDIKCVKKSVLTKVYCTNLVR...</td>\n",
       "      <td>PREDICTED: Pieris rapae opsin, ultraviolet-sen...</td>\n",
       "    </tr>\n",
       "    <tr>\n",
       "      <th>3</th>\n",
       "      <td>AB208675.1</td>\n",
       "      <td>Pieris</td>\n",
       "      <td>rapae</td>\n",
       "      <td>Pieris rapae</td>\n",
       "      <td>MFDTVNATADGGAIAYAFKMVSSEVQENMLGFNIPPEHQDLVHEHW...</td>\n",
       "      <td>Pieris rapae PrB mRNA for opsin, complete cds</td>\n",
       "    </tr>\n",
       "    <tr>\n",
       "      <th>4</th>\n",
       "      <td>AB208674.1</td>\n",
       "      <td>Pieris</td>\n",
       "      <td>rapae</td>\n",
       "      <td>Pieris rapae</td>\n",
       "      <td>MELNYTAGDPIAFPFKMVSGEVQQHMLGWNIPAEHQGLVHEHWRQF...</td>\n",
       "      <td>Pieris rapae PrV mRNA for opsin, complete cds</td>\n",
       "    </tr>\n",
       "  </tbody>\n",
       "</table>\n",
       "</div>"
      ],
      "text/plain": [
       "        Accession         Genus       Species               Full_Species  \\\n",
       "0      MN519158.1  Carcharhinus  melanopterus  Carcharhinus melanopterus   \n",
       "1      MN519147.1  Carcharhinus  melanopterus  Carcharhinus melanopterus   \n",
       "2  XM_022258443.2        Pieris         rapae               Pieris rapae   \n",
       "3      AB208675.1        Pieris         rapae               Pieris rapae   \n",
       "4      AB208674.1        Pieris         rapae               Pieris rapae   \n",
       "\n",
       "                                             Protein  \\\n",
       "0  MNGTEGENFYVPFSNKTGVVRSPFEYPQYYLAEPWQFSIIAAYVFL...   \n",
       "1  MNGTEGENFYVPMSNKTGVVRSPFEYSQHYLAEPWMFSVLTAYMFF...   \n",
       "2  MMQITKIILILIPIIVPCDNSVTNELDIKCVKKSVLTKVYCTNLVR...   \n",
       "3  MFDTVNATADGGAIAYAFKMVSSEVQENMLGFNIPPEHQDLVHEHW...   \n",
       "4  MELNYTAGDPIAFPFKMVSGEVQQHMLGWNIPAEHQGLVHEHWRQF...   \n",
       "\n",
       "                                    Gene_Description  \n",
       "0  Carcharhinus melanopterus isolate U16228 green...  \n",
       "1  Carcharhinus melanopterus isolate CL4386 rhodo...  \n",
       "2  PREDICTED: Pieris rapae opsin, ultraviolet-sen...  \n",
       "3      Pieris rapae PrB mRNA for opsin, complete cds  \n",
       "4      Pieris rapae PrV mRNA for opsin, complete cds  "
      ]
     },
     "execution_count": 154,
     "metadata": {},
     "output_type": "execute_result"
    }
   ],
   "source": [
    "final_query_df = pd.concat([ncbi_query_df, acc_seq_db_df_filtered]).reset_index(drop = True)\n",
    "final_query_df.to_csv(f'{query_report_dir}/ncbi_q_merged_w_acc_seq_db.csv')\n",
    "#final_query_df.to_csv('mnm_data/mnm_on_mnm_on_all_dbs_2024-12-10_23-31-03/ncbi_q_merged_w_acc_seq_db.csv')\n",
    "final_query_df.head()"
   ]
  },
  {
   "cell_type": "code",
   "execution_count": 155,
   "metadata": {},
   "outputs": [
    {
     "data": {
      "text/plain": [
       "(4452, 6)"
      ]
     },
     "execution_count": 155,
     "metadata": {},
     "output_type": "execute_result"
    }
   ],
   "source": [
    "final_query_df.shape"
   ]
  },
  {
   "cell_type": "code",
   "execution_count": 156,
   "metadata": {},
   "outputs": [],
   "source": [
    "fasta_file = f'mnm_data/mnm_on_mnm_on_all_dbs_2024-12-10_23-31-03/mined_and_acc_seqs.fasta'\n",
    "with open(fasta_file, 'w') as f:\n",
    "    for id, seq in zip(final_query_df['Accession'], final_query_df['Protein']):\n",
    "        f.write(f'>{id}\\n{seq}\\n')"
   ]
  },
  {
   "cell_type": "markdown",
   "metadata": {},
   "source": [
    "## <font color=#c994c7>Part 2 Objective</font> - Match sequence to it's closest MSP value based on OPTICS predictions\n",
    "\n",
    "We'll need to...\n",
    "\n",
    "- Query OPTICS with all the sequence data [bootstrap enabled]\n",
    "- Extract Predictions\n",
    "- Match to closest MSP value species-by-species [will need a list of the unique species names] // Match to MaxId as the foreign key"
   ]
  },
  {
   "cell_type": "code",
   "execution_count": 1,
   "metadata": {},
   "outputs": [],
   "source": [
    "import os\n",
    "import time \n",
    "import datetime\n",
    "import warnings\n",
    "import pandas as pd\n",
    "from deepBreaks.preprocessing import read_data\n",
    "from mnm_scripts.mine_n_match_functions_old import mine_n_match, post_process_matching, get_prots_from_acc\n",
    "\n",
    "warnings.filterwarnings(\"ignore\")\n",
    "warnings.simplefilter(\"ignore\")"
   ]
  },
  {
   "cell_type": "code",
   "execution_count": null,
   "metadata": {},
   "outputs": [],
   "source": [
    "report_dir = 'mnm_data/mnm_on_mnm_on_all_dbs_2024-12-10_23-31-03' #re-define the report directory if needed\n",
    "ncbi_q_file = f'./{report_dir}/mnm_on_all_dbs_ncbi_q_data_cleaned.csv'\n",
    "ncbi = pd.read_csv(ncbi_q_file)\n",
    "ncbi.head()"
   ]
  },
  {
   "cell_type": "code",
   "execution_count": null,
   "metadata": {},
   "outputs": [],
   "source": [
    "ncbi.shape"
   ]
  },
  {
   "cell_type": "code",
   "execution_count": null,
   "metadata": {},
   "outputs": [],
   "source": [
    "# Example use for OPTICS\n",
    "# python optics_predictions.py -in msp_mined_seqs.fasta -rd mined_msp_seqs -out mined_seq_predictions.tsv -m wildtype -e aa_prop -b True -ir msp_mined_seq_blastp_report.tsv -r bovine -s False -bsv msp_bs_viz.pdf\n",
    "pred_dir = 'e:/safra/Documents/GitHub/optics/prediction_outputs/mnm_opsins/optics_on_all_dbs_2024-12-12_11-49-37'\n",
    "optics_pred_file = f'{pred_dir}/all_dbs_predictions.tsv'\n",
    "optics = pd.read_csv(optics_pred_file, sep='\\t')\n",
    "\n",
    "optics.head()"
   ]
  },
  {
   "cell_type": "code",
   "execution_count": null,
   "metadata": {},
   "outputs": [],
   "source": [
    "optics.shape"
   ]
  },
  {
   "cell_type": "code",
   "execution_count": null,
   "metadata": {},
   "outputs": [],
   "source": [
    "source_file = './data_sources/lmax/cleaned_vpod_comp_accessory_dbs_2024-12-17_14-17-46.csv'\n",
    "comp_db = pd.read_csv(source_file)\n",
    "comp_db.head()"
   ]
  },
  {
   "cell_type": "code",
   "execution_count": null,
   "metadata": {},
   "outputs": [],
   "source": [
    "final_err_filtered_df = mine_n_match(report_dir, source_file, ncbi_q_file, optics_pred_file, out='vpod_acc_dbs', err_filter = 15)"
   ]
  },
  {
   "cell_type": "code",
   "execution_count": null,
   "metadata": {},
   "outputs": [],
   "source": [
    "final_err_filtered_df.head()"
   ]
  },
  {
   "cell_type": "code",
   "execution_count": null,
   "metadata": {},
   "outputs": [],
   "source": [
    "final_err_filtered_df.shape"
   ]
  }
 ],
 "metadata": {
  "kernelspec": {
   "display_name": "deepBreaks",
   "language": "python",
   "name": "python3"
  },
  "language_info": {
   "codemirror_mode": {
    "name": "ipython",
    "version": 3
   },
   "file_extension": ".py",
   "mimetype": "text/x-python",
   "name": "python",
   "nbconvert_exporter": "python",
   "pygments_lexer": "ipython3",
   "version": "3.9.17"
  },
  "orig_nbformat": 4
 },
 "nbformat": 4,
 "nbformat_minor": 2
}
