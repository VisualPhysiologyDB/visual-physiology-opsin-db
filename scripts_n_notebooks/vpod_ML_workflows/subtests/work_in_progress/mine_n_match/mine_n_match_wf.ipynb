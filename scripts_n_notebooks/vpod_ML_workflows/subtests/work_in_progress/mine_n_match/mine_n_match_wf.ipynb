{
 "cells": [
  {
   "cell_type": "markdown",
   "metadata": {},
   "source": [
    "# <font color=#c51b8a>VPOD 'Mine-n-Match':</font>\n",
    "## <font color=#c994c7>Part 1 Objective</font> - Use Species Names from Microspectrophotemetry Data Sheet to Query NCBI for All Related Opsin Sequences  "
   ]
  },
  {
   "cell_type": "code",
   "execution_count": 1,
   "metadata": {},
   "outputs": [],
   "source": [
    "import os\n",
    "import re\n",
    "import datetime\n",
    "import time\n",
    "import pandas as pd\n",
    "import numpy as np\n",
    "from deepBreaks.preprocessing import read_data\n",
    "from Bio import Entrez, SeqIO\n",
    "email = 'sethfrazer@ucsb.edu'"
   ]
  },
  {
   "cell_type": "code",
   "execution_count": 2,
   "metadata": {},
   "outputs": [],
   "source": [
    "from mnm_scripts.mine_n_match_functions import ncbi_fetch_opsins, merge_accessory_dbs"
   ]
  },
  {
   "cell_type": "markdown",
   "metadata": {},
   "source": [
    "## <font color=#c51b8a>Load data-tables with all of the species and sequence data from accessory lmax databases</font> "
   ]
  },
  {
   "cell_type": "markdown",
   "metadata": {},
   "source": [
    "### <font color=#c994c7>VPOD Single Cell Microspectrophotmetry (SCP) Datatable </font>\n",
    "### In this case our dataframe does not have full species name in one column so we must create a list by directly combining the genus and species names. Then filter to create a list of all unique species names \n"
   ]
  },
  {
   "cell_type": "code",
   "execution_count": 3,
   "metadata": {},
   "outputs": [],
   "source": [
    "report_dir = './data_sources/lmax'\n",
    "species_list = []\n",
    "df_list = []"
   ]
  },
  {
   "cell_type": "code",
   "execution_count": null,
   "metadata": {},
   "outputs": [],
   "source": [
    "scp_file = f'{report_dir}/vpod/scp_raw.tsv'\n",
    "scp_df = pd.read_csv(scp_file, index_col=0, sep='\\t')\n",
    "scp_df['Full_Species'] = (scp_df['Genus'] + ' ' + scp_df['Species']).to_list()\n",
    "df_list.append(scp_df)\n",
    "scp_df.head()"
   ]
  },
  {
   "cell_type": "code",
   "execution_count": 5,
   "metadata": {},
   "outputs": [],
   "source": [
    "species_list+=scp_df['Full_Species'].to_list()"
   ]
  },
  {
   "cell_type": "markdown",
   "metadata": {},
   "source": [
    "### <font color=#c994c7>Longcore - 'Animal Photopigments' Datatable</font>\n",
    "\n",
    "### In this next case our dataframe has the full species name in one column so we can create a list directly and filter to create a list of all unique species names\n"
   ]
  },
  {
   "cell_type": "code",
   "execution_count": null,
   "metadata": {},
   "outputs": [],
   "source": [
    "longcore_file = f'{report_dir}/longcore_data/AnimalPhotopigmentsV1_1.csv'\n",
    "longcore_df = pd.read_csv(longcore_file, index_col=0)\n",
    "df_list.append(longcore_df)\n",
    "longcore_df.head()"
   ]
  },
  {
   "cell_type": "code",
   "execution_count": 7,
   "metadata": {},
   "outputs": [],
   "source": [
    "species_list+=longcore_df['Full_Species'].to_list()"
   ]
  },
  {
   "cell_type": "markdown",
   "metadata": {},
   "source": [
    "### <font color=#c994c7>Murphy and Westerman Datatable</font>"
   ]
  },
  {
   "cell_type": "code",
   "execution_count": null,
   "metadata": {},
   "outputs": [],
   "source": [
    "murphy_westerman_file = f'{report_dir}/murphy_westerman/Murphy and Westerman.csv'\n",
    "murphy_westerman_df = pd.read_csv(murphy_westerman_file, index_col=0)\n",
    "df_list.append(murphy_westerman_df)\n",
    "murphy_westerman_df.head()"
   ]
  },
  {
   "cell_type": "code",
   "execution_count": 9,
   "metadata": {},
   "outputs": [],
   "source": [
    "species_list+=murphy_westerman_df['Full_Species'].to_list()"
   ]
  },
  {
   "cell_type": "markdown",
   "metadata": {},
   "source": [
    "### <font color=#c994c7>Caves 'Fish' Datatable</font>"
   ]
  },
  {
   "cell_type": "code",
   "execution_count": null,
   "metadata": {},
   "outputs": [],
   "source": [
    "caves_fish_db_file = f'{report_dir}/caves/caves_fish_db.csv'\n",
    "caves_df = pd.read_csv(caves_fish_db_file, index_col=0)\n",
    "caves_df['Full_Species'] = (caves_df['Genus'] + ' ' + caves_df['Species']).to_list()\n",
    "df_list.append(caves_df)\n",
    "caves_df.head()"
   ]
  },
  {
   "cell_type": "code",
   "execution_count": 11,
   "metadata": {},
   "outputs": [],
   "source": [
    "species_list+=caves_df['Full_Species'].to_list()"
   ]
  },
  {
   "cell_type": "markdown",
   "metadata": {},
   "source": [
    "### <font color=#c994c7>Morgan Porter's Datatables</font>"
   ]
  },
  {
   "cell_type": "code",
   "execution_count": null,
   "metadata": {},
   "outputs": [],
   "source": [
    "porter_file1 = f'{report_dir}/megan_porter/megan_porter_extract_clean_2005.csv'\n",
    "porter_df1 = pd.read_csv(porter_file1, index_col=0)\n",
    "porter_df2 = pd.read_csv(f'{report_dir}/megan_porter/porter_2006_table1_clean.tsv', sep='\\t', index_col=0)\n",
    "df_list.append(porter_df1)\n",
    "df_list.append(porter_df2)\n",
    "porter_df1.head()"
   ]
  },
  {
   "cell_type": "code",
   "execution_count": null,
   "metadata": {},
   "outputs": [],
   "source": [
    "porter_df2.head()"
   ]
  },
  {
   "cell_type": "code",
   "execution_count": 14,
   "metadata": {},
   "outputs": [],
   "source": [
    "species_list += (porter_df1['Full_Species'].to_list() + porter_df2['Full_Species'].to_list())"
   ]
  },
  {
   "cell_type": "markdown",
   "metadata": {},
   "source": [
    "### <font color=#c994c7>Merge Accessory Databases</font>"
   ]
  },
  {
   "cell_type": "code",
   "execution_count": null,
   "metadata": {},
   "outputs": [],
   "source": [
    "# Call the function to merge all the species, lambdamax, and potential accession information into one dataframe\n",
    "merged_df = merge_accessory_dbs(df_list, report_dir)\n",
    "merged_df.head()"
   ]
  },
  {
   "cell_type": "code",
   "execution_count": null,
   "metadata": {},
   "outputs": [],
   "source": [
    "merged_df.shape"
   ]
  },
  {
   "cell_type": "markdown",
   "metadata": {},
   "source": [
    "### <font color=#c994c7>All unique species names have been extracted from accessory databases. Now we iteratively query NCBI for opsins from each species.</font>"
   ]
  },
  {
   "cell_type": "code",
   "execution_count": null,
   "metadata": {},
   "outputs": [],
   "source": [
    "len(species_list)"
   ]
  },
  {
   "cell_type": "code",
   "execution_count": null,
   "metadata": {},
   "outputs": [],
   "source": [
    "species_list = list(set(species_list))\n",
    "len(species_list)"
   ]
  },
  {
   "cell_type": "code",
   "execution_count": null,
   "metadata": {},
   "outputs": [],
   "source": [
    "ncbi_query_df = ncbi_fetch_opsins(email=email, job_label='mnm_on_all_dbs', out='mnm_on_all_dbs', species_list=species_list[0:5])"
   ]
  },
  {
   "cell_type": "markdown",
   "metadata": {},
   "source": [
    "## <font color=#c994c7>Part 2 Objective</font> - Match sequence to it's closest MSP value based on OPTICS predictions\n",
    "\n",
    "We'll need to...\n",
    "\n",
    "- Query OPTICS with all the sequence data [bootstrap enabled]\n",
    "- Extract Predictions\n",
    "- Match to closest MSP value species-by-species [will need a list of the unique species names] // Match to MaxId as the foreign key"
   ]
  },
  {
   "cell_type": "code",
   "execution_count": 1,
   "metadata": {},
   "outputs": [],
   "source": [
    "import os\n",
    "import time \n",
    "import datetime\n",
    "import warnings\n",
    "import pandas as pd\n",
    "from deepBreaks.preprocessing import read_data\n",
    "from mnm_scripts.mine_n_match_functions_old import mine_n_match, post_process_matching, get_prots_from_acc\n",
    "\n",
    "warnings.filterwarnings(\"ignore\")\n",
    "warnings.simplefilter(\"ignore\")"
   ]
  },
  {
   "cell_type": "code",
   "execution_count": null,
   "metadata": {},
   "outputs": [],
   "source": [
    "report_dir = 'mnm_data/mnm_on_mnm_on_all_dbs_2024-12-10_23-31-03' #re-define the report directory if needed\n",
    "ncbi_q_file = f'./{report_dir}/mnm_on_all_dbs_ncbi_q_data_cleaned.csv'\n",
    "ncbi = pd.read_csv(ncbi_q_file)\n",
    "ncbi.head()"
   ]
  },
  {
   "cell_type": "code",
   "execution_count": null,
   "metadata": {},
   "outputs": [],
   "source": [
    "ncbi.shape"
   ]
  },
  {
   "cell_type": "code",
   "execution_count": null,
   "metadata": {},
   "outputs": [],
   "source": [
    "# Example use for OPTICS\n",
    "# python optics_predictions.py -in msp_mined_seqs.fasta -rd mined_msp_seqs -out mined_seq_predictions.tsv -m wildtype -e aa_prop -b True -ir msp_mined_seq_blastp_report.tsv -r bovine -s False -bsv msp_bs_viz.pdf\n",
    "pred_dir = 'e:/safra/Documents/GitHub/optics/prediction_outputs/mnm_opsins/optics_on_all_dbs_2024-12-12_11-49-37'\n",
    "optics_pred_file = f'{pred_dir}/all_dbs_predictions.tsv'\n",
    "optics = pd.read_csv(optics_pred_file, sep='\\t')\n",
    "\n",
    "optics.head()"
   ]
  },
  {
   "cell_type": "code",
   "execution_count": null,
   "metadata": {},
   "outputs": [],
   "source": [
    "optics.shape"
   ]
  },
  {
   "cell_type": "code",
   "execution_count": null,
   "metadata": {},
   "outputs": [],
   "source": [
    "source_file = './data_sources/lmax/cleaned_vpod_comp_accessory_dbs_2024-12-17_14-17-46.csv'\n",
    "comp_db = pd.read_csv(source_file)\n",
    "comp_db.head()"
   ]
  },
  {
   "cell_type": "code",
   "execution_count": null,
   "metadata": {},
   "outputs": [],
   "source": [
    "comp_db.iloc[21]"
   ]
  },
  {
   "cell_type": "code",
   "execution_count": null,
   "metadata": {},
   "outputs": [],
   "source": [
    "final_err_filtered_df = mine_n_match(report_dir, source_file, ncbi_q_file, optics_pred_file, out='vpod_acc_dbs', err_filter = 15)"
   ]
  },
  {
   "cell_type": "code",
   "execution_count": null,
   "metadata": {},
   "outputs": [],
   "source": [
    "final_err_filtered_df.head()"
   ]
  },
  {
   "cell_type": "code",
   "execution_count": null,
   "metadata": {},
   "outputs": [],
   "source": [
    "final_err_filtered_df.shape"
   ]
  },
  {
   "cell_type": "code",
   "execution_count": 12,
   "metadata": {},
   "outputs": [],
   "source": [
    "# Replace the missing values in the `Accession` column with an empty string\n",
    "df_2 = comp_db.copy()\n",
    "df_2"
   ]
  },
  {
   "cell_type": "code",
   "execution_count": null,
   "metadata": {},
   "outputs": [],
   "source": [
    "df_2= df_2[~df_2[\"Accession\"].isna()].reset_index(drop = True)\n",
    "\n",
    "# Filter the Accession column to include only those without '-' or '–'\n",
    "df_2 = df_2[~df_2[\"Accession\"].str.contains(\"-|–\")].reset_index(drop = True)\n",
    "\n",
    "# Create a list of `Accession` in `result_df`\n",
    "accession_list = final_err_filtered_df[\"Accession\"].to_list()\n",
    "\n",
    "# Filter `df_2` to include only those whose `Accession` is not in `accession_list`\n",
    "df_2_filtered = df_2[~df_2[\"Accession\"].isin(accession_list)].reset_index(drop = True)\n"
   ]
  },
  {
   "cell_type": "code",
   "execution_count": 7,
   "metadata": {},
   "outputs": [],
   "source": [
    "prot_list = get_prots_from_acc(df_2_filtered['Accession'].to_list())"
   ]
  },
  {
   "cell_type": "code",
   "execution_count": 13,
   "metadata": {},
   "outputs": [],
   "source": [
    "df_2_filtered['Protein'] = prot_list"
   ]
  },
  {
   "cell_type": "code",
   "execution_count": 14,
   "metadata": {},
   "outputs": [],
   "source": [
    "# Split the `Full_Species` column by the first space (' ') into `Genus` and `Species`\n",
    "g_list = [x.split(' ')[0] for x in df_2_filtered['Full_Species']]\n",
    "sp_list = [' '.join(x.split(' ')[1:]) for x in df_2_filtered['Full_Species']]\n",
    "sp_list = [' '.join(x.split(' ')[0:]) for x in sp_list]\n",
    "\n",
    "df_2_filtered[\"Genus\"] = g_list\n",
    "df_2_filtered[\"Species\"] = sp_list\n",
    "\n",
    "# Take the `comp_db_id`, `Genus`, `Species`, `Accession`, and `LambdaMax` from the filtered dataframe and rename the `LambdaMax` column to `closest_measurement`\n",
    "df_2_filtered = df_2_filtered[[\"comp_db_id\", \"Genus\", \"Species\", \"Accession\", \"LambdaMax\", \"Protein\"]]\n",
    "\n",
    "# Add a column named `Notes` with the text 'Known sequence specified in accessory database'\n",
    "df_2_filtered[\"Notes\"] = \"Known sequence specified in accessory database\"\n",
    "\n",
    "# Concatenate this series with the `result_df` dataframe\n",
    "result_df2 = pd.concat([final_err_filtered_df, df_2_filtered]).reset_index(drop = True)\n",
    "result_df2.index.name = 'mnm_id'\n"
   ]
  },
  {
   "cell_type": "code",
   "execution_count": null,
   "metadata": {},
   "outputs": [],
   "source": [
    "result_df2.head()"
   ]
  },
  {
   "cell_type": "code",
   "execution_count": 16,
   "metadata": {},
   "outputs": [],
   "source": [
    "result_df2.to_csv('mnm_on_vpod_acc_dbs_final_results_fully_filtered_2.csv')"
   ]
  }
 ],
 "metadata": {
  "kernelspec": {
   "display_name": "deepBreaks",
   "language": "python",
   "name": "python3"
  },
  "language_info": {
   "codemirror_mode": {
    "name": "ipython",
    "version": 3
   },
   "file_extension": ".py",
   "mimetype": "text/x-python",
   "name": "python",
   "nbconvert_exporter": "python",
   "pygments_lexer": "ipython3",
   "version": "3.9.17"
  },
  "orig_nbformat": 4
 },
 "nbformat": 4,
 "nbformat_minor": 2
}
