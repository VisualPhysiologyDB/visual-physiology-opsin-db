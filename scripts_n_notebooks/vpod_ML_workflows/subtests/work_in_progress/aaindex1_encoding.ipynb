{
 "cells": [
  {
   "cell_type": "code",
   "execution_count": 4,
   "metadata": {},
   "outputs": [
    {
     "name": "stdout",
     "output_type": "stream",
     "text": [
      "   0    1    2    3    4    5    6    7    8    9    ...  543  544  545  546  \\\n",
      "0  0.0  0.0  0.0  0.0  0.0  0.0  0.0  0.0  0.0  0.0  ...  0.0  0.0  0.0  0.0   \n",
      "1  0.0  0.0  0.0  0.0  0.0  0.0  0.0  0.0  0.0  0.0  ...  0.0  0.0  0.0  0.0   \n",
      "\n",
      "   547  548  549  550  551  552  \n",
      "0  0.0  0.0  0.0  0.0  0.0  0.0  \n",
      "1  0.0  0.0  0.0  0.0  0.0  0.0  \n",
      "\n",
      "[2 rows x 553 columns]\n"
     ]
    }
   ],
   "source": [
    "from protlearn.features import aaindex1\n",
    "import pandas as pd\n",
    "\n",
    "sequence = [\"MAEGEITTFTALTEKFNLPPGNYKKPKLLYCSNGGHFLRILPDGTVDGTRDRSDQHIQLQLSAESVGEVYIKSTETGQYLAMDTSGLLYGSQTPSEECLFLERLEENHYNTYTSKKHAEKNWFVGLKKNGSCKRGPRTHYGQKAILFLPLPV\", \"MAEGEITTFTALTEKFNLPPGNYKKPKLLYCSNGGHFLRILPDGTVDGTRDRSDQHIQLQLSAESVGEVYIKSTETGQYLAMDTSGLLYGSQTPSEECLFLERLEENHYNTYTSKKHAEKNWFVGLKKNGSCKRGPRTHYGQKAILFLPLPV\"]\n",
    "\n",
    "# Get all property values for each amino acid in the sequence\n",
    "aa_properties, inds = aaindex1(sequence, standardize ='minmax')\n",
    "\n",
    "# Convert to DataFrame for easier manipulation (optional)\n",
    "df = pd.DataFrame(aa_properties)\n",
    "print(df)\n"
   ]
  },
  {
   "cell_type": "code",
   "execution_count": 3,
   "metadata": {},
   "outputs": [
    {
     "data": {
      "text/plain": [
       "array(['ANDN920101', 'ARGP820101', 'ARGP820102', 'ARGP820103',\n",
       "       'BEGF750101', 'BEGF750102', 'BEGF750103', 'BHAR880101',\n",
       "       'BIGC670101', 'BIOV880101', 'BIOV880102', 'BROC820101',\n",
       "       'BROC820102', 'BULH740101', 'BULH740102', 'BUNA790101',\n",
       "       'BUNA790102', 'BUNA790103', 'BURA740101', 'BURA740102',\n",
       "       'CHAM810101', 'CHAM820101', 'CHAM820102', 'CHAM830101',\n",
       "       'CHAM830102', 'CHAM830103', 'CHAM830104', 'CHAM830105',\n",
       "       'CHAM830106', 'CHAM830107', 'CHAM830108', 'CHOC750101',\n",
       "       'CHOC760101', 'CHOC760102', 'CHOC760103', 'CHOC760104',\n",
       "       'CHOP780101', 'CHOP780201', 'CHOP780202', 'CHOP780203',\n",
       "       'CHOP780204', 'CHOP780205', 'CHOP780206', 'CHOP780207',\n",
       "       'CHOP780208', 'CHOP780209', 'CHOP780210', 'CHOP780211',\n",
       "       'CHOP780212', 'CHOP780213', 'CHOP780214', 'CHOP780215',\n",
       "       'CHOP780216', 'CIDH920101', 'CIDH920102', 'CIDH920103',\n",
       "       'CIDH920104', 'CIDH920105', 'COHE430101', 'CRAJ730101',\n",
       "       'CRAJ730102', 'CRAJ730103', 'DAWD720101', 'DAYM780101',\n",
       "       'DAYM780201', 'DESM900101', 'DESM900102', 'EISD840101',\n",
       "       'EISD860101', 'EISD860102', 'EISD860103', 'FASG760101',\n",
       "       'FASG760102', 'FASG760103', 'FASG760104', 'FASG760105',\n",
       "       'FAUJ830101', 'FAUJ880101', 'FAUJ880102', 'FAUJ880103',\n",
       "       'FAUJ880104', 'FAUJ880105', 'FAUJ880106', 'FAUJ880107',\n",
       "       'FAUJ880108', 'FAUJ880109', 'FAUJ880110', 'FAUJ880111',\n",
       "       'FAUJ880112', 'FAUJ880113', 'FINA770101', 'FINA910101',\n",
       "       'FINA910102', 'FINA910103', 'FINA910104', 'GARJ730101',\n",
       "       'GEIM800101', 'GEIM800102', 'GEIM800103', 'GEIM800104',\n",
       "       'GEIM800105', 'GEIM800106', 'GEIM800107', 'GEIM800108',\n",
       "       'GEIM800109', 'GEIM800110', 'GEIM800111', 'GOLD730101',\n",
       "       'GOLD730102', 'GRAR740101', 'GRAR740102', 'GRAR740103',\n",
       "       'GUYH850101', 'HOPA770101', 'HOPT810101', 'HUTJ700101',\n",
       "       'HUTJ700102', 'HUTJ700103', 'ISOY800101', 'ISOY800102',\n",
       "       'ISOY800103', 'ISOY800104', 'ISOY800105', 'ISOY800106',\n",
       "       'ISOY800107', 'ISOY800108', 'JANJ780101', 'JANJ780102',\n",
       "       'JANJ780103', 'JANJ790101', 'JANJ790102', 'JOND750101',\n",
       "       'JOND750102', 'JOND920101', 'JOND920102', 'JUKT750101',\n",
       "       'JUNJ780101', 'KANM800101', 'KANM800102', 'KANM800103',\n",
       "       'KANM800104', 'KARP850101', 'KARP850102', 'KARP850103',\n",
       "       'KHAG800101', 'KLEP840101', 'KRIW710101', 'KRIW790101',\n",
       "       'KRIW790102', 'KRIW790103', 'KYTJ820101', 'LAWE840101',\n",
       "       'LEVM760101', 'LEVM760102', 'LEVM760103', 'LEVM760104',\n",
       "       'LEVM760105', 'LEVM760106', 'LEVM760107', 'LEVM780101',\n",
       "       'LEVM780102', 'LEVM780103', 'LEVM780104', 'LEVM780105',\n",
       "       'LEVM780106', 'LEWP710101', 'LIFS790101', 'LIFS790102',\n",
       "       'LIFS790103', 'MANP780101', 'MAXF760101', 'MAXF760102',\n",
       "       'MAXF760103', 'MAXF760104', 'MAXF760105', 'MAXF760106',\n",
       "       'MCMT640101', 'MEEJ800101', 'MEEJ800102', 'MEEJ810101',\n",
       "       'MEEJ810102', 'MEIH800101', 'MEIH800102', 'MEIH800103',\n",
       "       'MIYS850101', 'NAGK730101', 'NAGK730102', 'NAGK730103',\n",
       "       'NAKH900101', 'NAKH900102', 'NAKH900103', 'NAKH900104',\n",
       "       'NAKH900105', 'NAKH900106', 'NAKH900107', 'NAKH900108',\n",
       "       'NAKH900109', 'NAKH900110', 'NAKH900111', 'NAKH900112',\n",
       "       'NAKH900113', 'NAKH920101', 'NAKH920102', 'NAKH920103',\n",
       "       'NAKH920104', 'NAKH920105', 'NAKH920106', 'NAKH920107',\n",
       "       'NAKH920108', 'NISK800101', 'NISK860101', 'NOZY710101',\n",
       "       'OOBM770101', 'OOBM770102', 'OOBM770103', 'OOBM770104',\n",
       "       'OOBM770105', 'OOBM850101', 'OOBM850102', 'OOBM850103',\n",
       "       'OOBM850104', 'OOBM850105', 'PALJ810101', 'PALJ810102',\n",
       "       'PALJ810103', 'PALJ810104', 'PALJ810105', 'PALJ810106',\n",
       "       'PALJ810107', 'PALJ810108', 'PALJ810109', 'PALJ810110',\n",
       "       'PALJ810111', 'PALJ810112', 'PALJ810113', 'PALJ810114',\n",
       "       'PALJ810115', 'PALJ810116', 'PARJ860101', 'PLIV810101',\n",
       "       'PONP800101', 'PONP800102', 'PONP800103', 'PONP800104',\n",
       "       'PONP800105', 'PONP800106', 'PONP800107', 'PONP800108',\n",
       "       'PRAM820101', 'PRAM820102', 'PRAM820103', 'PRAM900101',\n",
       "       'PRAM900102', 'PRAM900103', 'PRAM900104', 'PTIO830101',\n",
       "       'PTIO830102', 'QIAN880101', 'QIAN880102', 'QIAN880103',\n",
       "       'QIAN880104', 'QIAN880105', 'QIAN880106', 'QIAN880107',\n",
       "       'QIAN880108', 'QIAN880109', 'QIAN880110', 'QIAN880111',\n",
       "       'QIAN880112', 'QIAN880113', 'QIAN880114', 'QIAN880115',\n",
       "       'QIAN880116', 'QIAN880117', 'QIAN880118', 'QIAN880119',\n",
       "       'QIAN880120', 'QIAN880121', 'QIAN880122', 'QIAN880123',\n",
       "       'QIAN880124', 'QIAN880125', 'QIAN880126', 'QIAN880127',\n",
       "       'QIAN880128', 'QIAN880129', 'QIAN880130', 'QIAN880131',\n",
       "       'QIAN880132', 'QIAN880133', 'QIAN880134', 'QIAN880135',\n",
       "       'QIAN880136', 'QIAN880137', 'QIAN880138', 'QIAN880139',\n",
       "       'RACS770101', 'RACS770102', 'RACS770103', 'RACS820101',\n",
       "       'RACS820102', 'RACS820103', 'RACS820104', 'RACS820105',\n",
       "       'RACS820106', 'RACS820107', 'RACS820108', 'RACS820109',\n",
       "       'RACS820110', 'RACS820111', 'RACS820112', 'RACS820113',\n",
       "       'RACS820114', 'RADA880101', 'RADA880102', 'RADA880103',\n",
       "       'RADA880104', 'RADA880105', 'RADA880106', 'RADA880107',\n",
       "       'RADA880108', 'RICJ880101', 'RICJ880102', 'RICJ880103',\n",
       "       'RICJ880104', 'RICJ880105', 'RICJ880106', 'RICJ880107',\n",
       "       'RICJ880108', 'RICJ880109', 'RICJ880110', 'RICJ880111',\n",
       "       'RICJ880112', 'RICJ880113', 'RICJ880114', 'RICJ880115',\n",
       "       'RICJ880116', 'RICJ880117', 'ROBB760101', 'ROBB760102',\n",
       "       'ROBB760103', 'ROBB760104', 'ROBB760105', 'ROBB760106',\n",
       "       'ROBB760107', 'ROBB760108', 'ROBB760109', 'ROBB760110',\n",
       "       'ROBB760111', 'ROBB760112', 'ROBB760113', 'ROBB790101',\n",
       "       'ROSG850101', 'ROSG850102', 'ROSM880101', 'ROSM880102',\n",
       "       'ROSM880103', 'SIMZ760101', 'SNEP660101', 'SNEP660102',\n",
       "       'SNEP660103', 'SNEP660104', 'SUEM840101', 'SUEM840102',\n",
       "       'SWER830101', 'TANS770101', 'TANS770102', 'TANS770103',\n",
       "       'TANS770104', 'TANS770105', 'TANS770106', 'TANS770107',\n",
       "       'TANS770108', 'TANS770109', 'TANS770110', 'VASM830101',\n",
       "       'VASM830102', 'VASM830103', 'VELV850101', 'VENT840101',\n",
       "       'VHEG790101', 'WARP780101', 'WEBA780101', 'WERD780101',\n",
       "       'WERD780102', 'WERD780103', 'WERD780104', 'WOEC730101',\n",
       "       'WOLR810101', 'WOLS870101', 'WOLS870102', 'WOLS870103',\n",
       "       'YUTK870101', 'YUTK870102', 'YUTK870103', 'YUTK870104',\n",
       "       'ZASB820101', 'ZIMJ680101', 'ZIMJ680102', 'ZIMJ680103',\n",
       "       'ZIMJ680104', 'ZIMJ680105', 'AURR980101', 'AURR980102',\n",
       "       'AURR980103', 'AURR980104', 'AURR980105', 'AURR980106',\n",
       "       'AURR980107', 'AURR980108', 'AURR980109', 'AURR980110',\n",
       "       'AURR980111', 'AURR980112', 'AURR980113', 'AURR980114',\n",
       "       'AURR980115', 'AURR980116', 'AURR980117', 'AURR980118',\n",
       "       'AURR980119', 'AURR980120', 'ONEK900101', 'ONEK900102',\n",
       "       'VINM940101', 'VINM940102', 'VINM940103', 'VINM940104',\n",
       "       'MUNV940101', 'MUNV940102', 'MUNV940103', 'MUNV940104',\n",
       "       'MUNV940105', 'WIMW960101', 'KIMC930101', 'MONM990101',\n",
       "       'BLAM930101', 'PARS000101', 'PARS000102', 'KUMS000101',\n",
       "       'KUMS000102', 'KUMS000103', 'KUMS000104', 'TAKK010101',\n",
       "       'FODM020101', 'NADH010101', 'NADH010102', 'NADH010103',\n",
       "       'NADH010104', 'NADH010105', 'NADH010106', 'NADH010107',\n",
       "       'MONM990201', 'KOEP990101', 'KOEP990102', 'CEDJ970101',\n",
       "       'CEDJ970102', 'CEDJ970103', 'CEDJ970104', 'CEDJ970105',\n",
       "       'FUKS010101', 'FUKS010102', 'FUKS010103', 'FUKS010104',\n",
       "       'FUKS010105', 'FUKS010106', 'FUKS010107', 'FUKS010108',\n",
       "       'FUKS010109', 'FUKS010110', 'FUKS010111', 'FUKS010112',\n",
       "       'MITS020101', 'TSAJ990101', 'TSAJ990102', 'COSI940101',\n",
       "       'PONP930101', 'WILM950101', 'WILM950102', 'WILM950103',\n",
       "       'WILM950104', 'KUHL950101', 'GUOD860101', 'JURD980101',\n",
       "       'BASU050101', 'BASU050102', 'BASU050103', 'SUYM030101',\n",
       "       'PUNT030101', 'PUNT030102', 'GEOR030101', 'GEOR030102',\n",
       "       'GEOR030103', 'GEOR030104', 'GEOR030105', 'GEOR030106',\n",
       "       'GEOR030107', 'GEOR030108', 'GEOR030109', 'ZHOH040101',\n",
       "       'ZHOH040102', 'ZHOH040103', 'BAEK050101', 'HARY940101',\n",
       "       'PONJ960101', 'DIGM050101', 'WOLR790101', 'OLSK800101',\n",
       "       'KIDA850101', 'GUYH850102', 'GUYH850104', 'GUYH850105',\n",
       "       'JACR890101', 'COWR900101', 'BLAS910101', 'CASG920101',\n",
       "       'CORJ870101', 'CORJ870102', 'CORJ870103', 'CORJ870104',\n",
       "       'CORJ870105', 'CORJ870106', 'CORJ870107', 'CORJ870108',\n",
       "       'MIYS990101', 'MIYS990102', 'MIYS990103', 'MIYS990104',\n",
       "       'MIYS990105', 'ENGD860101', 'FASG890101', 'KARS160101',\n",
       "       'KARS160102', 'KARS160103', 'KARS160104', 'KARS160105',\n",
       "       'KARS160106', 'KARS160107', 'KARS160108', 'KARS160109',\n",
       "       'KARS160110', 'KARS160111', 'KARS160112', 'KARS160113',\n",
       "       'KARS160114', 'KARS160115', 'KARS160116', 'KARS160117',\n",
       "       'KARS160118', 'KARS160119', 'KARS160120', 'KARS160121',\n",
       "       'KARS160122'], dtype=object)"
      ]
     },
     "execution_count": 3,
     "metadata": {},
     "output_type": "execute_result"
    }
   ],
   "source": [
    "inds"
   ]
  },
  {
   "cell_type": "code",
   "execution_count": 33,
   "metadata": {},
   "outputs": [
    {
     "ename": "ImportError",
     "evalue": "cannot import name 'autocorr' from 'protlearn.features' (c:\\Users\\safra\\anaconda3\\envs\\aaprop_enc\\lib\\site-packages\\protlearn\\features\\__init__.py)",
     "output_type": "error",
     "traceback": [
      "\u001b[1;31m---------------------------------------------------------------------------\u001b[0m",
      "\u001b[1;31mImportError\u001b[0m                               Traceback (most recent call last)",
      "Cell \u001b[1;32mIn[33], line 1\u001b[0m\n\u001b[1;32m----> 1\u001b[0m \u001b[38;5;28;01mfrom\u001b[39;00m \u001b[38;5;21;01mprotlearn\u001b[39;00m\u001b[38;5;21;01m.\u001b[39;00m\u001b[38;5;21;01mfeatures\u001b[39;00m \u001b[38;5;28;01mimport\u001b[39;00m autocorr\n\u001b[0;32m      3\u001b[0m sequences \u001b[38;5;241m=\u001b[39m [\u001b[38;5;124m\"\u001b[39m\u001b[38;5;124mARKLY\u001b[39m\u001b[38;5;124m\"\u001b[39m, \u001b[38;5;124m\"\u001b[39m\u001b[38;5;124mEERKPGL\u001b[39m\u001b[38;5;124m\"\u001b[39m]\n\u001b[0;32m      4\u001b[0m aac_features, amino_acids \u001b[38;5;241m=\u001b[39m aac(sequences, method\u001b[38;5;241m=\u001b[39m\u001b[38;5;124m'\u001b[39m\u001b[38;5;124mrelative\u001b[39m\u001b[38;5;124m'\u001b[39m)\n",
      "\u001b[1;31mImportError\u001b[0m: cannot import name 'autocorr' from 'protlearn.features' (c:\\Users\\safra\\anaconda3\\envs\\aaprop_enc\\lib\\site-packages\\protlearn\\features\\__init__.py)"
     ]
    }
   ],
   "source": [
    "from protlearn.features import autocorrelation\n",
    "\n",
    "sequences = [\"ARKLY\", \"EERKPGL\"]\n",
    "aac_features, amino_acids = aac(sequences, method='relative')\n",
    "autocorr_features = autocorrelation(aac_features, amino_acids, properties=['hydrophobicity', 'polarity'])\n",
    "\n",
    "print(autocorr_features)\n"
   ]
  },
  {
   "cell_type": "code",
   "execution_count": 7,
   "metadata": {},
   "outputs": [
    {
     "name": "stdout",
     "output_type": "stream",
     "text": [
      "[[0.0604038]]\n"
     ]
    }
   ],
   "source": [
    "from modlamp.descriptors import PeptideDescriptor\n",
    "\n",
    "sequence = \"MAEGEITTFTALTEKFNLPPGNYKKPKLLYCSNGGHFLRILPDGTVDGTRDRSDQHIQLQLSAESVGEVYIKSTETGQYLAMDTSGLLYGSQTPSEECLFLERLEENHYNTYTSKKHAEKNWFVGLKKNGSCKRGPRTHYGQKAILFLPLPV\"\n",
    "\n",
    "# Create a PeptideDescriptor object\n",
    "desc = PeptideDescriptor(sequence, 'eisenberg')  # Using Eisenberg hydrophobicity scale\n",
    "desc.calculate_moment()  # Calculate hydrophobicity moments for each position\n",
    "\n",
    "# Access the calculated hydrophobicity moments\n",
    "hydrophobicity_moments = desc.descriptor\n",
    "print(hydrophobicity_moments)"
   ]
  },
  {
   "cell_type": "code",
   "execution_count": 11,
   "metadata": {},
   "outputs": [
    {
     "data": {
      "text/plain": [
       "array([[0.0604038]])"
      ]
     },
     "execution_count": 11,
     "metadata": {},
     "output_type": "execute_result"
    }
   ],
   "source": [
    "desc.descriptor"
   ]
  },
  {
   "cell_type": "code",
   "execution_count": 25,
   "metadata": {},
   "outputs": [
    {
     "name": "stdout",
     "output_type": "stream",
     "text": [
      "[[-0.59736842]]\n"
     ]
    }
   ],
   "source": [
    "\n",
    "from modlamp.descriptors import PeptideDescriptor\n",
    "import numpy as np\n",
    "\n",
    "sequence = \"MAEGEITTFTALTEKFNLPPGNYKKPKLLYCSNGGHFLRILPDGTVDGTRDRSDQHIQLQLSAESVGEVYIKSTETGQYLAMDTSGLLYGSQTPSEECLFLERLEENHYNTYTSKKHAEKNWFVGLKKNGSCKRGPRTHYGQKAILFLPLPV\"\n",
    "\n",
    "# Create a PeptideDescriptor object\n",
    "descr = PeptideDescriptor(sequence, 'pepcats')\n",
    "descr.calculate_crosscorr(7)\n",
    "# Calculate the gravy values (this also calculates the individual amino acid hydrophobicity values)\n",
    "# Extract the hydrophobicity values using numpy indexing\n",
    "# The gravy scale consists of two values per amino acid: hydrophobicity and hydrophilicity\n",
    "# We extract only the hydrophobicity values (every other element starting from index 0)\n",
    "hydrophobicity_values = desc.descriptor\n",
    "\n",
    "print(hydrophobicity_values)"
   ]
  },
  {
   "cell_type": "code",
   "execution_count": 28,
   "metadata": {},
   "outputs": [
    {
     "ename": "AttributeError",
     "evalue": "'PeptideDescriptor' object has no attribute 'descriptor_names'",
     "output_type": "error",
     "traceback": [
      "\u001b[1;31m---------------------------------------------------------------------------\u001b[0m",
      "\u001b[1;31mAttributeError\u001b[0m                            Traceback (most recent call last)",
      "Cell \u001b[1;32mIn[28], line 7\u001b[0m\n\u001b[0;32m      4\u001b[0m desc \u001b[38;5;241m=\u001b[39m PeptideDescriptor(sequence)\n\u001b[0;32m      5\u001b[0m desc\u001b[38;5;241m.\u001b[39mcalculate_global\n\u001b[1;32m----> 7\u001b[0m \u001b[38;5;28mprint\u001b[39m(\u001b[43mdesc\u001b[49m\u001b[38;5;241;43m.\u001b[39;49m\u001b[43mdescriptor_names\u001b[49m) \n\u001b[0;32m      8\u001b[0m \u001b[38;5;28mprint\u001b[39m(desc\u001b[38;5;241m.\u001b[39mvalues) \n",
      "\u001b[1;31mAttributeError\u001b[0m: 'PeptideDescriptor' object has no attribute 'descriptor_names'"
     ]
    }
   ],
   "source": [
    "from modlamp.descriptors import PeptideDescriptor\n",
    "\n",
    "sequence = \"FLPVLAGVF\" \n",
    "desc = PeptideDescriptor(sequence)\n",
    "desc.calculate_global\n",
    "\n",
    "print(desc.descriptor_names) \n",
    "print(desc.values) "
   ]
  }
 ],
 "metadata": {
  "kernelspec": {
   "display_name": "aaprop_enc",
   "language": "python",
   "name": "python3"
  },
  "language_info": {
   "codemirror_mode": {
    "name": "ipython",
    "version": 3
   },
   "file_extension": ".py",
   "mimetype": "text/x-python",
   "name": "python",
   "nbconvert_exporter": "python",
   "pygments_lexer": "ipython3",
   "version": "3.9.19"
  }
 },
 "nbformat": 4,
 "nbformat_minor": 2
}
