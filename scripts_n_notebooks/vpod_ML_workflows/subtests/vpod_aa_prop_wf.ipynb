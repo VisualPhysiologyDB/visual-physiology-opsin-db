{
 "cells": [
  {
   "attachments": {},
   "cell_type": "markdown",
   "id": "d2f4de42",
   "metadata": {},
   "source": [
    "# <font color=green>deepBreaks Applications</font>\n",
    "## Modeling spectral tuning sites of opsin proteins based on amino-acid sequence and encoding w/Amino Acid Properties...  "
   ]
  },
  {
   "cell_type": "code",
   "execution_count": 1,
   "id": "82eed2c5",
   "metadata": {},
   "outputs": [],
   "source": [
    "# importing deepBreaks libraries \n",
    "from deepBreaks.utils import get_models, get_scores, get_simp_params, make_pipeline\n",
    "from deepBreaks.preprocessing import MisCare, ConstantCare, URareCare, CustomOneHotEncoder, AminoAcidPropertyEncoder\n",
    "from deepBreaks.preprocessing import FeatureSelection, CollinearCare\n",
    "from deepBreaks.preprocessing import read_data\n",
    "from deepBreaks.models import model_compare_cv, finalize_top, aaprop_importance_from_pipe, mean_importance, summarize_results\n",
    "from deepBreaks.visualization import plot_scatter, dp_aa_prop_plot, plot_imp_model, plot_imp_all\n",
    "from deepBreaks.preprocessing import write_fasta\n",
    "import warnings\n",
    "import datetime\n",
    "import os\n",
    "import shutil "
   ]
  },
  {
   "cell_type": "code",
   "execution_count": 2,
   "id": "ae93f194",
   "metadata": {},
   "outputs": [],
   "source": [
    "warnings.filterwarnings(\"ignore\")\n",
    "warnings.simplefilter('ignore')"
   ]
  },
  {
   "cell_type": "code",
   "execution_count": 3,
   "id": "29f084f8",
   "metadata": {},
   "outputs": [],
   "source": [
    "# defining user params, file pathes, analysis type\n",
    "\n",
    "#assign your path to folder containing all the datasplits\n",
    "path = './vpod_1.1_data_splits_2024-07-23_18-53-19'\n",
    "# path to sequences of interest\n",
    "seqFileName = f'{path}/wt_aligned_VPOD_1.1_het.fasta' \n",
    "# path to corresponding metadata of interest\n",
    "metaDataFileName = f'{path}/wt_meta.tsv' \n",
    "\n",
    "# name of the phenotype\n",
    "mt = 'Lambda_Max'\n",
    "\n",
    "# type of the sequences\n",
    "seq_type = 'aa'\n",
    "\n",
    "# type of the analysis if it is a classification model, then we put cl instead of reg\n",
    "ana_type = 'reg' \n",
    "\n",
    "gap_threshold = 0.5\n",
    "\n",
    "#Whether or not you want to drop the reference sequence from the training data- Either 'Bovine' or 'Squid' (for Invertebrate dataset)\n",
    "drop_ref = False\n",
    "\n",
    "#Specify which properties you want to keep for the amino-acid property encoding:\n",
    "#We keep FIVE by deafult - 'H1, H3, P1, NCI, MASS' \n",
    "#But NINE total are avaliable -'H1, H2, H3, P1, P2, V, NCI, MASS, and SASA' \n",
    "#If you want to keep ALL aa props, just set props_to_keep = 'all'\n",
    "# Or specify the properties in list format props_to_keep = ['H1', 'H3', 'P1', 'NCI', 'MASS']\n",
    "props_to_keep = ['H1', 'H3', 'P1', 'NCI', 'MASS']"
   ]
  },
  {
   "cell_type": "code",
   "execution_count": 4,
   "id": "d592e45d",
   "metadata": {},
   "outputs": [
    {
     "name": "stdout",
     "output_type": "stream",
     "text": [
      "direcory preparation\n"
     ]
    }
   ],
   "source": [
    "# making a unique directory for saving the reports of the analysis\n",
    "print('direcory preparation')\n",
    "dt_label = datetime.datetime.now().strftime('%Y-%m-%d_%H-%M-%S')\n",
    "seqFile = seqFileName.split('/')[2]\n",
    "#print(seqFile)\n",
    "seqFile = seqFile.split('.')[0]\n",
    "#print(seqFile)\n",
    "props_used = ''\n",
    "for props in props_to_keep:\n",
    "    props_used += props + '_'\n",
    "report_dir = str(props_used + seqFile +'_' + mt + '_' + dt_label)\n",
    "os.makedirs(report_dir)"
   ]
  },
  {
   "cell_type": "code",
   "execution_count": 5,
   "id": "eac0ba03",
   "metadata": {
    "scrolled": true
   },
   "outputs": [
    {
     "name": "stdout",
     "output_type": "stream",
     "text": [
      "reading meta-data\n",
      "reading fasta file\n",
      "wt_aligned_VPOD_1_gap_dropped.fasta was saved successfully\n",
      "CPU times: total: 188 ms\n",
      "Wall time: 215 ms\n"
     ]
    }
   ],
   "source": [
    "%%time\n",
    "print('reading meta-data')\n",
    "# importing metadata\n",
    "meta_data = read_data(metaDataFileName, seq_type = None, is_main=False)\n",
    "# importing sequences data\n",
    "print('reading fasta file')\n",
    "\n",
    "tr = read_data(seqFileName, seq_type = seq_type, is_main=True, gap_threshold=gap_threshold)\n",
    "\n",
    "shutil.copy2(f'{seqFileName}',report_dir)\n",
    "write_fasta(dat = tr, fasta_file = f'{seqFile}_gap_dropped.fasta' , report_dir = report_dir)"
   ]
  },
  {
   "cell_type": "code",
   "execution_count": 6,
   "id": "0706fb3c",
   "metadata": {},
   "outputs": [],
   "source": [
    "try:\n",
    "    reference_seq = tr.loc['Bovine'].copy()\n",
    "    ref_seq_name = 'bovine'\n",
    "    if drop_ref == True:\n",
    "        meta_data = meta_data.drop('Bovine')\n",
    "    #print(bovine)\n",
    "except:\n",
    "    reference_seq = tr.loc['Squid'].copy()\n",
    "    ref_seq_name = 'squid'\n",
    "    #print(squid)\n",
    "reference_seq.to_csv(path_or_buf= f'{report_dir}/ref_sequence.csv',index = True,mode=\"w\")"
   ]
  },
  {
   "cell_type": "code",
   "execution_count": 7,
   "id": "17b2dce0",
   "metadata": {},
   "outputs": [
    {
     "data": {
      "text/plain": [
       "(365, 355)"
      ]
     },
     "execution_count": 7,
     "metadata": {},
     "output_type": "execute_result"
    }
   ],
   "source": [
    "tr = tr.merge(meta_data.loc[:, mt],  left_index=True, right_index=True)\n",
    "tr.shape"
   ]
  },
  {
   "cell_type": "code",
   "execution_count": 8,
   "id": "bb1d0b9e",
   "metadata": {},
   "outputs": [
    {
     "data": {
      "text/html": [
       "<div>\n",
       "<style scoped>\n",
       "    .dataframe tbody tr th:only-of-type {\n",
       "        vertical-align: middle;\n",
       "    }\n",
       "\n",
       "    .dataframe tbody tr th {\n",
       "        vertical-align: top;\n",
       "    }\n",
       "\n",
       "    .dataframe thead th {\n",
       "        text-align: right;\n",
       "    }\n",
       "</style>\n",
       "<table border=\"1\" class=\"dataframe\">\n",
       "  <thead>\n",
       "    <tr style=\"text-align: right;\">\n",
       "      <th></th>\n",
       "      <th>p1</th>\n",
       "      <th>p2</th>\n",
       "      <th>p3</th>\n",
       "      <th>p4</th>\n",
       "      <th>p5</th>\n",
       "      <th>p6</th>\n",
       "      <th>p7</th>\n",
       "      <th>p8</th>\n",
       "      <th>p9</th>\n",
       "      <th>p10</th>\n",
       "      <th>...</th>\n",
       "      <th>p346</th>\n",
       "      <th>p347</th>\n",
       "      <th>p348</th>\n",
       "      <th>p349</th>\n",
       "      <th>p350</th>\n",
       "      <th>p351</th>\n",
       "      <th>p352</th>\n",
       "      <th>p353</th>\n",
       "      <th>p354</th>\n",
       "      <th>Lambda_Max</th>\n",
       "    </tr>\n",
       "  </thead>\n",
       "  <tbody>\n",
       "    <tr>\n",
       "      <th>Bovine</th>\n",
       "      <td>M</td>\n",
       "      <td>N</td>\n",
       "      <td>G</td>\n",
       "      <td>T</td>\n",
       "      <td>E</td>\n",
       "      <td>G</td>\n",
       "      <td>P</td>\n",
       "      <td>N</td>\n",
       "      <td>F</td>\n",
       "      <td>Y</td>\n",
       "      <td>...</td>\n",
       "      <td>NaN</td>\n",
       "      <td>NaN</td>\n",
       "      <td>NaN</td>\n",
       "      <td>S</td>\n",
       "      <td>Q</td>\n",
       "      <td>V</td>\n",
       "      <td>A</td>\n",
       "      <td>P</td>\n",
       "      <td>A</td>\n",
       "      <td>500.0</td>\n",
       "    </tr>\n",
       "    <tr>\n",
       "      <th>S1</th>\n",
       "      <td>M</td>\n",
       "      <td>N</td>\n",
       "      <td>G</td>\n",
       "      <td>T</td>\n",
       "      <td>E</td>\n",
       "      <td>G</td>\n",
       "      <td>P</td>\n",
       "      <td>Y</td>\n",
       "      <td>F</td>\n",
       "      <td>Y</td>\n",
       "      <td>...</td>\n",
       "      <td>S</td>\n",
       "      <td>A</td>\n",
       "      <td>NaN</td>\n",
       "      <td>S</td>\n",
       "      <td>S</td>\n",
       "      <td>V</td>\n",
       "      <td>S</td>\n",
       "      <td>P</td>\n",
       "      <td>A</td>\n",
       "      <td>502.0</td>\n",
       "    </tr>\n",
       "    <tr>\n",
       "      <th>S2</th>\n",
       "      <td>NaN</td>\n",
       "      <td>NaN</td>\n",
       "      <td>NaN</td>\n",
       "      <td>T</td>\n",
       "      <td>E</td>\n",
       "      <td>G</td>\n",
       "      <td>P</td>\n",
       "      <td>Y</td>\n",
       "      <td>F</td>\n",
       "      <td>Y</td>\n",
       "      <td>...</td>\n",
       "      <td>S</td>\n",
       "      <td>A</td>\n",
       "      <td>NaN</td>\n",
       "      <td>S</td>\n",
       "      <td>S</td>\n",
       "      <td>V</td>\n",
       "      <td>S</td>\n",
       "      <td>P</td>\n",
       "      <td>A</td>\n",
       "      <td>502.0</td>\n",
       "    </tr>\n",
       "    <tr>\n",
       "      <th>S3</th>\n",
       "      <td>NaN</td>\n",
       "      <td>NaN</td>\n",
       "      <td>NaN</td>\n",
       "      <td>T</td>\n",
       "      <td>E</td>\n",
       "      <td>G</td>\n",
       "      <td>P</td>\n",
       "      <td>D</td>\n",
       "      <td>F</td>\n",
       "      <td>Y</td>\n",
       "      <td>...</td>\n",
       "      <td>S</td>\n",
       "      <td>A</td>\n",
       "      <td>NaN</td>\n",
       "      <td>S</td>\n",
       "      <td>S</td>\n",
       "      <td>V</td>\n",
       "      <td>S</td>\n",
       "      <td>P</td>\n",
       "      <td>A</td>\n",
       "      <td>481.0</td>\n",
       "    </tr>\n",
       "    <tr>\n",
       "      <th>S4</th>\n",
       "      <td>NaN</td>\n",
       "      <td>NaN</td>\n",
       "      <td>NaN</td>\n",
       "      <td>T</td>\n",
       "      <td>E</td>\n",
       "      <td>G</td>\n",
       "      <td>P</td>\n",
       "      <td>F</td>\n",
       "      <td>F</td>\n",
       "      <td>Y</td>\n",
       "      <td>...</td>\n",
       "      <td>S</td>\n",
       "      <td>A</td>\n",
       "      <td>NaN</td>\n",
       "      <td>S</td>\n",
       "      <td>S</td>\n",
       "      <td>V</td>\n",
       "      <td>S</td>\n",
       "      <td>P</td>\n",
       "      <td>A</td>\n",
       "      <td>494.0</td>\n",
       "    </tr>\n",
       "  </tbody>\n",
       "</table>\n",
       "<p>5 rows × 355 columns</p>\n",
       "</div>"
      ],
      "text/plain": [
       "         p1   p2   p3 p4 p5 p6 p7 p8 p9 p10  ... p346 p347 p348 p349 p350  \\\n",
       "Bovine    M    N    G  T  E  G  P  N  F   Y  ...  NaN  NaN  NaN    S    Q   \n",
       "S1        M    N    G  T  E  G  P  Y  F   Y  ...    S    A  NaN    S    S   \n",
       "S2      NaN  NaN  NaN  T  E  G  P  Y  F   Y  ...    S    A  NaN    S    S   \n",
       "S3      NaN  NaN  NaN  T  E  G  P  D  F   Y  ...    S    A  NaN    S    S   \n",
       "S4      NaN  NaN  NaN  T  E  G  P  F  F   Y  ...    S    A  NaN    S    S   \n",
       "\n",
       "       p351 p352 p353 p354 Lambda_Max  \n",
       "Bovine    V    A    P    A      500.0  \n",
       "S1        V    S    P    A      502.0  \n",
       "S2        V    S    P    A      502.0  \n",
       "S3        V    S    P    A      481.0  \n",
       "S4        V    S    P    A      494.0  \n",
       "\n",
       "[5 rows x 355 columns]"
      ]
     },
     "execution_count": 8,
     "metadata": {},
     "output_type": "execute_result"
    }
   ],
   "source": [
    "tr.head()"
   ]
  },
  {
   "cell_type": "code",
   "execution_count": 9,
   "id": "7568a83e",
   "metadata": {},
   "outputs": [],
   "source": [
    "import numpy as np\n",
    "import csv\n",
    "import pandas as pd"
   ]
  },
  {
   "cell_type": "code",
   "execution_count": 10,
   "id": "7c928d5a",
   "metadata": {},
   "outputs": [],
   "source": [
    "class_list = list(meta_data['Class'])"
   ]
  },
  {
   "cell_type": "code",
   "execution_count": 11,
   "id": "33e20c12",
   "metadata": {},
   "outputs": [],
   "source": [
    "unique_classes, class_counts = np.unique(class_list, return_counts=True)"
   ]
  },
  {
   "cell_type": "code",
   "execution_count": 12,
   "id": "d8fad075",
   "metadata": {},
   "outputs": [
    {
     "data": {
      "text/plain": [
       "array([150,   6,  50,   1,  30,   2,   2,   7,  38,  20,   3,   2,   2,\n",
       "        44,   1,   4,   1,   2], dtype=int64)"
      ]
     },
     "execution_count": 12,
     "metadata": {},
     "output_type": "execute_result"
    }
   ],
   "source": [
    "class_counts"
   ]
  },
  {
   "cell_type": "code",
   "execution_count": 13,
   "id": "955530be",
   "metadata": {},
   "outputs": [
    {
     "data": {
      "text/plain": [
       "array(['Actinopteri', 'Amphibia', 'Ancestor', 'Arachnida', 'Aves',\n",
       "       'Bivalvia', 'Chondrichthyes', 'Hyperoartia', 'Insecta',\n",
       "       'Lepidosauria', 'Leptocardii', 'Magnoliopsida', 'Malacostraca',\n",
       "       'Mammalia', 'Merostomata', 'Oryzias', 'Polychaeta',\n",
       "       'Sarcopterygii'], dtype='<U14')"
      ]
     },
     "execution_count": 13,
     "metadata": {},
     "output_type": "execute_result"
    }
   ],
   "source": [
    "unique_classes"
   ]
  },
  {
   "cell_type": "code",
   "execution_count": 14,
   "id": "f2a1ac34",
   "metadata": {},
   "outputs": [
    {
     "name": "stdout",
     "output_type": "stream",
     "text": [
      "[13, 0, 0, 0, 0, 0, 0, 0, 0, 0, 0, 0, 0, 0, 0, 0, 0, 0, 0, 0, 0, 0, 0, 0, 0, 0, 0, 0, 0, 0, 0, 0, 0, 0, 0, 0, 0, 0, 0, 0, 13, 0, 0, 0, 0, 0, 0, 0, 2, 2, 2, 2, 2, 2, 2, 2, 2, 2, 2, 0, 17, 13, 0, 0, 0, 0, 0, 0, 9, 0, 0, 0, 13, 13, 9, 0, 9, 0, 0, 0, 0, 7, 7, 0, 0, 0, 0, 1, 1, 9, 9, 4, 4, 4, 4, 13, 13, 13, 13, 13, 13, 13, 13, 13, 13, 13, 13, 8, 8, 0, 0, 0, 1, 1, 1, 1, 4, 4, 4, 0, 0, 9, 9, 4, 4, 4, 0, 4, 0, 9, 4, 4, 4, 0, 9, 4, 4, 4, 13, 13, 13, 13, 13, 13, 13, 13, 13, 13, 13, 13, 9, 4, 4, 8, 8, 8, 8, 8, 0, 0, 0, 0, 0, 0, 0, 0, 0, 0, 7, 7, 7, 7, 13, 4, 4, 4, 9, 0, 0, 0, 0, 13, 16, 8, 11, 11, 4, 4, 4, 4, 4, 0, 0, 13, 13, 5, 5, 13, 8, 8, 8, 0, 0, 0, 0, 0, 0, 0, 0, 0, 0, 0, 0, 0, 0, 0, 0, 0, 0, 0, 0, 0, 0, 0, 0, 0, 0, 0, 0, 0, 0, 0, 0, 0, 0, 0, 0, 0, 0, 0, 0, 0, 0, 4, 4, 2, 2, 2, 2, 2, 2, 2, 2, 2, 2, 2, 2, 2, 2, 7, 17, 2, 2, 2, 2, 2, 2, 2, 2, 13, 8, 8, 8, 8, 8, 8, 8, 8, 8, 8, 2, 2, 2, 2, 2, 2, 2, 2, 2, 2, 2, 13, 4, 12, 12, 8, 8, 8, 8, 8, 8, 8, 13, 13, 9, 9, 9, 9, 9, 9, 13, 13, 13, 8, 8, 8, 8, 8, 8, 8, 8, 14, 2, 2, 2, 2, 0, 0, 0, 0, 0, 0, 0, 0, 0, 0, 0, 15, 15, 15, 15, 0, 0, 9, 9, 9, 13, 13, 13, 3, 2, 2, 6, 6, 10, 10, 8, 8, 0, 0, 0, 0, 0, 0, 10]\n"
     ]
    }
   ],
   "source": [
    "block_fold = []\n",
    "class_assignments = range(len(unique_classes))\n",
    "class_dict = dict(zip(unique_classes, class_assignments))\n",
    "for class_label in class_list:\n",
    "    block_fold.append(class_dict[str(class_label)])\n",
    "    \n",
    "print(block_fold)"
   ]
  },
  {
   "cell_type": "code",
   "execution_count": 15,
   "id": "1afd5231",
   "metadata": {},
   "outputs": [],
   "source": [
    "unique_classes2, class_counts2 = np.unique(block_fold, return_counts=True)"
   ]
  },
  {
   "cell_type": "code",
   "execution_count": 16,
   "id": "0959b32e",
   "metadata": {},
   "outputs": [
    {
     "data": {
      "text/plain": [
       "array([150,   6,  50,   1,  30,   2,   2,   7,  38,  20,   3,   2,   2,\n",
       "        44,   1,   4,   1,   2], dtype=int64)"
      ]
     },
     "execution_count": 16,
     "metadata": {},
     "output_type": "execute_result"
    }
   ],
   "source": [
    "class_counts2"
   ]
  },
  {
   "cell_type": "code",
   "execution_count": 17,
   "id": "44b7b45d",
   "metadata": {},
   "outputs": [
    {
     "name": "stdout",
     "output_type": "stream",
     "text": [
      "Shape of data is:  (365, 354)\n"
     ]
    }
   ],
   "source": [
    "y = tr.loc[:, mt].values\n",
    "tr.drop(mt, axis=1, inplace=True)\n",
    "print('Shape of data is: ', tr.shape)"
   ]
  },
  {
   "cell_type": "code",
   "execution_count": 18,
   "id": "7d75ba69",
   "metadata": {},
   "outputs": [],
   "source": [
    "y_ev = 1239.8 / np.array(y)"
   ]
  },
  {
   "attachments": {},
   "cell_type": "markdown",
   "id": "69979653",
   "metadata": {},
   "source": [
    "**Attention**: metadata and sequences data should have the names as their row names and for each sequence their must be a value in the meta data file."
   ]
  },
  {
   "cell_type": "code",
   "execution_count": 19,
   "id": "2ff4b3d3",
   "metadata": {},
   "outputs": [
    {
     "name": "stdout",
     "output_type": "stream",
     "text": [
      "metadata looks like this:\n"
     ]
    },
    {
     "data": {
      "text/html": [
       "<div>\n",
       "<style scoped>\n",
       "    .dataframe tbody tr th:only-of-type {\n",
       "        vertical-align: middle;\n",
       "    }\n",
       "\n",
       "    .dataframe tbody tr th {\n",
       "        vertical-align: top;\n",
       "    }\n",
       "\n",
       "    .dataframe thead th {\n",
       "        text-align: right;\n",
       "    }\n",
       "</style>\n",
       "<table border=\"1\" class=\"dataframe\">\n",
       "  <thead>\n",
       "    <tr style=\"text-align: right;\">\n",
       "      <th></th>\n",
       "      <th>Lambda_Max</th>\n",
       "      <th>Species</th>\n",
       "      <th>Opsin_Family</th>\n",
       "      <th>Phylum</th>\n",
       "      <th>Class</th>\n",
       "      <th>Accession</th>\n",
       "      <th>Mutations</th>\n",
       "      <th>RefId</th>\n",
       "    </tr>\n",
       "  </thead>\n",
       "  <tbody>\n",
       "    <tr>\n",
       "      <th>Bovine</th>\n",
       "      <td>500.0</td>\n",
       "      <td>Bos_tarus</td>\n",
       "      <td>Rh1</td>\n",
       "      <td>Chordata</td>\n",
       "      <td>Mammalia</td>\n",
       "      <td>NM_001014890</td>\n",
       "      <td>NaN</td>\n",
       "      <td>NaN</td>\n",
       "    </tr>\n",
       "    <tr>\n",
       "      <th>S1</th>\n",
       "      <td>502.0</td>\n",
       "      <td>Neoniphon_sammara</td>\n",
       "      <td>Rh1</td>\n",
       "      <td>Chordata</td>\n",
       "      <td>Actinopteri</td>\n",
       "      <td>U57536.1</td>\n",
       "      <td>160.0</td>\n",
       "      <td>NaN</td>\n",
       "    </tr>\n",
       "    <tr>\n",
       "      <th>S2</th>\n",
       "      <td>502.0</td>\n",
       "      <td>Neoniphon_argenteus</td>\n",
       "      <td>Rh1</td>\n",
       "      <td>Chordata</td>\n",
       "      <td>Actinopteri</td>\n",
       "      <td>U57540.1</td>\n",
       "      <td>160.0</td>\n",
       "      <td>NaN</td>\n",
       "    </tr>\n",
       "    <tr>\n",
       "      <th>S3</th>\n",
       "      <td>481.0</td>\n",
       "      <td>Neoniphon_aurolineatus</td>\n",
       "      <td>Rh1</td>\n",
       "      <td>Chordata</td>\n",
       "      <td>Actinopteri</td>\n",
       "      <td>U57541.1</td>\n",
       "      <td>160.0</td>\n",
       "      <td>NaN</td>\n",
       "    </tr>\n",
       "    <tr>\n",
       "      <th>S4</th>\n",
       "      <td>494.0</td>\n",
       "      <td>Sargocentron_punctatissimum</td>\n",
       "      <td>Rh1</td>\n",
       "      <td>Chordata</td>\n",
       "      <td>Actinopteri</td>\n",
       "      <td>U57543.1</td>\n",
       "      <td>160.0</td>\n",
       "      <td>NaN</td>\n",
       "    </tr>\n",
       "  </tbody>\n",
       "</table>\n",
       "</div>"
      ],
      "text/plain": [
       "        Lambda_Max                      Species Opsin_Family    Phylum  \\\n",
       "Bovine       500.0                    Bos_tarus          Rh1  Chordata   \n",
       "S1           502.0            Neoniphon_sammara          Rh1  Chordata   \n",
       "S2           502.0          Neoniphon_argenteus          Rh1  Chordata   \n",
       "S3           481.0       Neoniphon_aurolineatus          Rh1  Chordata   \n",
       "S4           494.0  Sargocentron_punctatissimum          Rh1  Chordata   \n",
       "\n",
       "              Class     Accession  Mutations  RefId  \n",
       "Bovine     Mammalia  NM_001014890        NaN    NaN  \n",
       "S1      Actinopteri      U57536.1      160.0    NaN  \n",
       "S2      Actinopteri      U57540.1      160.0    NaN  \n",
       "S3      Actinopteri      U57541.1      160.0    NaN  \n",
       "S4      Actinopteri      U57543.1      160.0    NaN  "
      ]
     },
     "execution_count": 19,
     "metadata": {},
     "output_type": "execute_result"
    }
   ],
   "source": [
    "print('metadata looks like this:')\n",
    "meta_data.head()"
   ]
  },
  {
   "cell_type": "code",
   "execution_count": 20,
   "id": "943fb6b6",
   "metadata": {},
   "outputs": [
    {
     "name": "stdout",
     "output_type": "stream",
     "text": [
      "sequence data looks like this:\n"
     ]
    },
    {
     "data": {
      "text/html": [
       "<div>\n",
       "<style scoped>\n",
       "    .dataframe tbody tr th:only-of-type {\n",
       "        vertical-align: middle;\n",
       "    }\n",
       "\n",
       "    .dataframe tbody tr th {\n",
       "        vertical-align: top;\n",
       "    }\n",
       "\n",
       "    .dataframe thead th {\n",
       "        text-align: right;\n",
       "    }\n",
       "</style>\n",
       "<table border=\"1\" class=\"dataframe\">\n",
       "  <thead>\n",
       "    <tr style=\"text-align: right;\">\n",
       "      <th></th>\n",
       "      <th>p1</th>\n",
       "      <th>p2</th>\n",
       "      <th>p3</th>\n",
       "      <th>p4</th>\n",
       "      <th>p5</th>\n",
       "      <th>p6</th>\n",
       "      <th>p7</th>\n",
       "      <th>p8</th>\n",
       "      <th>p9</th>\n",
       "      <th>p10</th>\n",
       "      <th>...</th>\n",
       "      <th>p345</th>\n",
       "      <th>p346</th>\n",
       "      <th>p347</th>\n",
       "      <th>p348</th>\n",
       "      <th>p349</th>\n",
       "      <th>p350</th>\n",
       "      <th>p351</th>\n",
       "      <th>p352</th>\n",
       "      <th>p353</th>\n",
       "      <th>p354</th>\n",
       "    </tr>\n",
       "  </thead>\n",
       "  <tbody>\n",
       "    <tr>\n",
       "      <th>Bovine</th>\n",
       "      <td>M</td>\n",
       "      <td>N</td>\n",
       "      <td>G</td>\n",
       "      <td>T</td>\n",
       "      <td>E</td>\n",
       "      <td>G</td>\n",
       "      <td>P</td>\n",
       "      <td>N</td>\n",
       "      <td>F</td>\n",
       "      <td>Y</td>\n",
       "      <td>...</td>\n",
       "      <td>NaN</td>\n",
       "      <td>NaN</td>\n",
       "      <td>NaN</td>\n",
       "      <td>NaN</td>\n",
       "      <td>S</td>\n",
       "      <td>Q</td>\n",
       "      <td>V</td>\n",
       "      <td>A</td>\n",
       "      <td>P</td>\n",
       "      <td>A</td>\n",
       "    </tr>\n",
       "    <tr>\n",
       "      <th>S1</th>\n",
       "      <td>M</td>\n",
       "      <td>N</td>\n",
       "      <td>G</td>\n",
       "      <td>T</td>\n",
       "      <td>E</td>\n",
       "      <td>G</td>\n",
       "      <td>P</td>\n",
       "      <td>Y</td>\n",
       "      <td>F</td>\n",
       "      <td>Y</td>\n",
       "      <td>...</td>\n",
       "      <td>S</td>\n",
       "      <td>S</td>\n",
       "      <td>A</td>\n",
       "      <td>NaN</td>\n",
       "      <td>S</td>\n",
       "      <td>S</td>\n",
       "      <td>V</td>\n",
       "      <td>S</td>\n",
       "      <td>P</td>\n",
       "      <td>A</td>\n",
       "    </tr>\n",
       "    <tr>\n",
       "      <th>S2</th>\n",
       "      <td>NaN</td>\n",
       "      <td>NaN</td>\n",
       "      <td>NaN</td>\n",
       "      <td>T</td>\n",
       "      <td>E</td>\n",
       "      <td>G</td>\n",
       "      <td>P</td>\n",
       "      <td>Y</td>\n",
       "      <td>F</td>\n",
       "      <td>Y</td>\n",
       "      <td>...</td>\n",
       "      <td>S</td>\n",
       "      <td>S</td>\n",
       "      <td>A</td>\n",
       "      <td>NaN</td>\n",
       "      <td>S</td>\n",
       "      <td>S</td>\n",
       "      <td>V</td>\n",
       "      <td>S</td>\n",
       "      <td>P</td>\n",
       "      <td>A</td>\n",
       "    </tr>\n",
       "    <tr>\n",
       "      <th>S3</th>\n",
       "      <td>NaN</td>\n",
       "      <td>NaN</td>\n",
       "      <td>NaN</td>\n",
       "      <td>T</td>\n",
       "      <td>E</td>\n",
       "      <td>G</td>\n",
       "      <td>P</td>\n",
       "      <td>D</td>\n",
       "      <td>F</td>\n",
       "      <td>Y</td>\n",
       "      <td>...</td>\n",
       "      <td>S</td>\n",
       "      <td>S</td>\n",
       "      <td>A</td>\n",
       "      <td>NaN</td>\n",
       "      <td>S</td>\n",
       "      <td>S</td>\n",
       "      <td>V</td>\n",
       "      <td>S</td>\n",
       "      <td>P</td>\n",
       "      <td>A</td>\n",
       "    </tr>\n",
       "    <tr>\n",
       "      <th>S4</th>\n",
       "      <td>NaN</td>\n",
       "      <td>NaN</td>\n",
       "      <td>NaN</td>\n",
       "      <td>T</td>\n",
       "      <td>E</td>\n",
       "      <td>G</td>\n",
       "      <td>P</td>\n",
       "      <td>F</td>\n",
       "      <td>F</td>\n",
       "      <td>Y</td>\n",
       "      <td>...</td>\n",
       "      <td>S</td>\n",
       "      <td>S</td>\n",
       "      <td>A</td>\n",
       "      <td>NaN</td>\n",
       "      <td>S</td>\n",
       "      <td>S</td>\n",
       "      <td>V</td>\n",
       "      <td>S</td>\n",
       "      <td>P</td>\n",
       "      <td>A</td>\n",
       "    </tr>\n",
       "  </tbody>\n",
       "</table>\n",
       "<p>5 rows × 354 columns</p>\n",
       "</div>"
      ],
      "text/plain": [
       "         p1   p2   p3 p4 p5 p6 p7 p8 p9 p10  ... p345 p346 p347 p348 p349  \\\n",
       "Bovine    M    N    G  T  E  G  P  N  F   Y  ...  NaN  NaN  NaN  NaN    S   \n",
       "S1        M    N    G  T  E  G  P  Y  F   Y  ...    S    S    A  NaN    S   \n",
       "S2      NaN  NaN  NaN  T  E  G  P  Y  F   Y  ...    S    S    A  NaN    S   \n",
       "S3      NaN  NaN  NaN  T  E  G  P  D  F   Y  ...    S    S    A  NaN    S   \n",
       "S4      NaN  NaN  NaN  T  E  G  P  F  F   Y  ...    S    S    A  NaN    S   \n",
       "\n",
       "       p350 p351 p352 p353 p354  \n",
       "Bovine    Q    V    A    P    A  \n",
       "S1        S    V    S    P    A  \n",
       "S2        S    V    S    P    A  \n",
       "S3        S    V    S    P    A  \n",
       "S4        S    V    S    P    A  \n",
       "\n",
       "[5 rows x 354 columns]"
      ]
     },
     "execution_count": 20,
     "metadata": {},
     "output_type": "execute_result"
    }
   ],
   "source": [
    "print('sequence data looks like this:')\n",
    "tr.head()"
   ]
  },
  {
   "attachments": {},
   "cell_type": "markdown",
   "id": "140f567b",
   "metadata": {},
   "source": [
    "### Preprocessing\n",
    "In this step, we do all these steps:\n",
    "1. dropping columns with a number of missing values above a certain threshold  \n",
    "2. dropping zero entropy columns  \n",
    "3. imputing missing values with the mode of that column  \n",
    "4. replacing cases with a frequency below a threshold (default 1.5%) with the mode of that column\n",
    "5. dropping zero entropy columns\n",
    "6. use statistical tests (each position against the phenotype) and drop columns with p-values below a threshold (default 0.25)\n",
    "7. one-hot encode the remaining columns\n",
    "8. calculate the pair-wise distance matrix for all of the columns\n",
    "9. use the distance matrix for DBSCAN and cluster the correlated positions together\n",
    "10. keep only one column (closes to center of each cluster) for each group and drop the rest from the training data set"
   ]
  },
  {
   "cell_type": "code",
   "execution_count": 21,
   "id": "c23e44e7",
   "metadata": {},
   "outputs": [],
   "source": [
    "prep_pipeline = make_pipeline(\n",
    "    steps=[\n",
    "        ('mc', MisCare(missing_threshold=0.05)),\n",
    "        ('cc', ConstantCare()),\n",
    "        ('aa_prop', AminoAcidPropertyEncoder(props_to_keep = props_to_keep)),\n",
    "        ('feature_selection', FeatureSelection(model_type=ana_type, alpha=0.25, keep=False)),\n",
    "        ('collinear_care', CollinearCare(dist_method='correlation', threshold=0.001, keep=False))\n",
    "    ])"
   ]
  },
  {
   "cell_type": "code",
   "execution_count": 22,
   "id": "2e6e97be",
   "metadata": {},
   "outputs": [
    {
     "name": "stdout",
     "output_type": "stream",
     "text": [
      "Fitting rf...\n"
     ]
    }
   ],
   "source": [
    "%%time\n",
    "report, top = model_compare_cv(X=tr, y=y_ev, preprocess_pipe=prep_pipeline,\n",
    "                               models_dict=get_models(ana_type=ana_type),\n",
    "                               scoring=get_scores(ana_type=ana_type),\n",
    "                               report_dir=report_dir,\n",
    "                               cv=10, ana_type=ana_type, cache_dir=report_dir)"
   ]
  },
  {
   "cell_type": "markdown",
   "id": "af902297",
   "metadata": {},
   "source": [
    "MAE = Mean Absolute Error\n",
    "\n",
    "MSE = Mean Squared Error\n",
    "\n",
    "RMSE = Rooted Mean Square Error\n",
    "\n",
    "MAPE = Mean Absolute % Error - the average magnitude of error produced by a model, or how far off predictions are on average. A MAPE value of 20% means that the average absolute percentage difference between the predictions and the actuals is 20%"
   ]
  },
  {
   "cell_type": "code",
   "execution_count": null,
   "id": "263f4a4e",
   "metadata": {},
   "outputs": [
    {
     "data": {
      "text/html": [
       "<div>\n",
       "<style scoped>\n",
       "    .dataframe tbody tr th:only-of-type {\n",
       "        vertical-align: middle;\n",
       "    }\n",
       "\n",
       "    .dataframe tbody tr th {\n",
       "        vertical-align: top;\n",
       "    }\n",
       "\n",
       "    .dataframe thead th {\n",
       "        text-align: right;\n",
       "    }\n",
       "</style>\n",
       "<table border=\"1\" class=\"dataframe\">\n",
       "  <thead>\n",
       "    <tr style=\"text-align: right;\">\n",
       "      <th></th>\n",
       "      <th>R2</th>\n",
       "      <th>MAE</th>\n",
       "      <th>MSE</th>\n",
       "      <th>RMSE</th>\n",
       "      <th>MAPE</th>\n",
       "    </tr>\n",
       "  </thead>\n",
       "  <tbody>\n",
       "    <tr>\n",
       "      <th>lgbm</th>\n",
       "      <td>9.366115e-01</td>\n",
       "      <td>5.015392e-02</td>\n",
       "      <td>8.520460e-03</td>\n",
       "      <td>8.656289e-02</td>\n",
       "      <td>1.847113e-02</td>\n",
       "    </tr>\n",
       "    <tr>\n",
       "      <th>gbr</th>\n",
       "      <td>9.309487e-01</td>\n",
       "      <td>5.069052e-02</td>\n",
       "      <td>9.243351e-03</td>\n",
       "      <td>8.828151e-02</td>\n",
       "      <td>1.881352e-02</td>\n",
       "    </tr>\n",
       "    <tr>\n",
       "      <th>et</th>\n",
       "      <td>9.304746e-01</td>\n",
       "      <td>4.416380e-02</td>\n",
       "      <td>9.202119e-03</td>\n",
       "      <td>8.846698e-02</td>\n",
       "      <td>1.627473e-02</td>\n",
       "    </tr>\n",
       "    <tr>\n",
       "      <th>rf</th>\n",
       "      <td>9.190564e-01</td>\n",
       "      <td>5.387992e-02</td>\n",
       "      <td>1.077916e-02</td>\n",
       "      <td>9.601473e-02</td>\n",
       "      <td>1.976712e-02</td>\n",
       "    </tr>\n",
       "    <tr>\n",
       "      <th>Adaboost</th>\n",
       "      <td>9.141288e-01</td>\n",
       "      <td>6.667872e-02</td>\n",
       "      <td>1.142967e-02</td>\n",
       "      <td>1.010639e-01</td>\n",
       "      <td>2.490879e-02</td>\n",
       "    </tr>\n",
       "    <tr>\n",
       "      <th>xgb</th>\n",
       "      <td>9.101988e-01</td>\n",
       "      <td>5.396338e-02</td>\n",
       "      <td>1.204820e-02</td>\n",
       "      <td>1.034407e-01</td>\n",
       "      <td>1.948576e-02</td>\n",
       "    </tr>\n",
       "    <tr>\n",
       "      <th>HubR</th>\n",
       "      <td>8.917397e-01</td>\n",
       "      <td>6.648639e-02</td>\n",
       "      <td>1.372622e-02</td>\n",
       "      <td>1.163550e-01</td>\n",
       "      <td>2.465834e-02</td>\n",
       "    </tr>\n",
       "    <tr>\n",
       "      <th>BayesianRidge</th>\n",
       "      <td>8.898111e-01</td>\n",
       "      <td>6.684930e-02</td>\n",
       "      <td>1.401184e-02</td>\n",
       "      <td>1.175368e-01</td>\n",
       "      <td>2.483360e-02</td>\n",
       "    </tr>\n",
       "    <tr>\n",
       "      <th>dt</th>\n",
       "      <td>8.435740e-01</td>\n",
       "      <td>6.416173e-02</td>\n",
       "      <td>2.025036e-02</td>\n",
       "      <td>1.366833e-01</td>\n",
       "      <td>2.346749e-02</td>\n",
       "    </tr>\n",
       "    <tr>\n",
       "      <th>Lasso</th>\n",
       "      <td>-3.221127e-02</td>\n",
       "      <td>2.806517e-01</td>\n",
       "      <td>1.320352e-01</td>\n",
       "      <td>3.619874e-01</td>\n",
       "      <td>1.022025e-01</td>\n",
       "    </tr>\n",
       "    <tr>\n",
       "      <th>LassoLars</th>\n",
       "      <td>-3.221127e-02</td>\n",
       "      <td>2.806517e-01</td>\n",
       "      <td>1.320352e-01</td>\n",
       "      <td>3.619874e-01</td>\n",
       "      <td>1.022025e-01</td>\n",
       "    </tr>\n",
       "    <tr>\n",
       "      <th>lr</th>\n",
       "      <td>-9.160647e+17</td>\n",
       "      <td>8.794683e+07</td>\n",
       "      <td>1.168527e+17</td>\n",
       "      <td>1.833555e+08</td>\n",
       "      <td>3.391119e+07</td>\n",
       "    </tr>\n",
       "  </tbody>\n",
       "</table>\n",
       "</div>"
      ],
      "text/plain": [
       "                         R2           MAE           MSE          RMSE  \\\n",
       "lgbm           9.366115e-01  5.015392e-02  8.520460e-03  8.656289e-02   \n",
       "gbr            9.309487e-01  5.069052e-02  9.243351e-03  8.828151e-02   \n",
       "et             9.304746e-01  4.416380e-02  9.202119e-03  8.846698e-02   \n",
       "rf             9.190564e-01  5.387992e-02  1.077916e-02  9.601473e-02   \n",
       "Adaboost       9.141288e-01  6.667872e-02  1.142967e-02  1.010639e-01   \n",
       "xgb            9.101988e-01  5.396338e-02  1.204820e-02  1.034407e-01   \n",
       "HubR           8.917397e-01  6.648639e-02  1.372622e-02  1.163550e-01   \n",
       "BayesianRidge  8.898111e-01  6.684930e-02  1.401184e-02  1.175368e-01   \n",
       "dt             8.435740e-01  6.416173e-02  2.025036e-02  1.366833e-01   \n",
       "Lasso         -3.221127e-02  2.806517e-01  1.320352e-01  3.619874e-01   \n",
       "LassoLars     -3.221127e-02  2.806517e-01  1.320352e-01  3.619874e-01   \n",
       "lr            -9.160647e+17  8.794683e+07  1.168527e+17  1.833555e+08   \n",
       "\n",
       "                       MAPE  \n",
       "lgbm           1.847113e-02  \n",
       "gbr            1.881352e-02  \n",
       "et             1.627473e-02  \n",
       "rf             1.976712e-02  \n",
       "Adaboost       2.490879e-02  \n",
       "xgb            1.948576e-02  \n",
       "HubR           2.465834e-02  \n",
       "BayesianRidge  2.483360e-02  \n",
       "dt             2.346749e-02  \n",
       "Lasso          1.022025e-01  \n",
       "LassoLars      1.022025e-01  \n",
       "lr             3.391119e+07  "
      ]
     },
     "execution_count": 23,
     "metadata": {},
     "output_type": "execute_result"
    }
   ],
   "source": [
    "report"
   ]
  },
  {
   "cell_type": "code",
   "execution_count": null,
   "id": "deda54a6",
   "metadata": {},
   "outputs": [],
   "source": [
    "prep_pipeline = make_pipeline(\n",
    "    steps=[\n",
    "        ('mc', MisCare(missing_threshold=0.05)),\n",
    "        ('cc', ConstantCare()),\n",
    "        ('aa_prop', AminoAcidPropertyEncoder(props_to_keep = props_to_keep)),\n",
    "        ('feature_selection', FeatureSelection(model_type=ana_type, alpha=0.25, keep=True)),\n",
    "        ('collinear_care', CollinearCare(dist_method='correlation', threshold=0.001, keep=True))\n",
    "    ])"
   ]
  },
  {
   "cell_type": "code",
   "execution_count": null,
   "id": "df108475",
   "metadata": {},
   "outputs": [],
   "source": [
    "modified_top = []\n",
    "mtml = []\n",
    "for model in top:\n",
    "    modified_top.append(make_pipeline(steps=[('prep', prep_pipeline), model.steps[-1]]))\n",
    "    my_top_models = str(model[1:])\n",
    "    #print(my_top_models)\n",
    "    my_top_models = my_top_models.split(\"'\")[3]\n",
    "    mtml.append(my_top_models)\n",
    "    #print(my_top_models)"
   ]
  },
  {
   "cell_type": "code",
   "execution_count": null,
   "id": "c7005603",
   "metadata": {},
   "outputs": [
    {
     "data": {
      "text/html": [
       "<style>#sk-container-id-1 {color: black;background-color: white;}#sk-container-id-1 pre{padding: 0;}#sk-container-id-1 div.sk-toggleable {background-color: white;}#sk-container-id-1 label.sk-toggleable__label {cursor: pointer;display: block;width: 100%;margin-bottom: 0;padding: 0.3em;box-sizing: border-box;text-align: center;}#sk-container-id-1 label.sk-toggleable__label-arrow:before {content: \"▸\";float: left;margin-right: 0.25em;color: #696969;}#sk-container-id-1 label.sk-toggleable__label-arrow:hover:before {color: black;}#sk-container-id-1 div.sk-estimator:hover label.sk-toggleable__label-arrow:before {color: black;}#sk-container-id-1 div.sk-toggleable__content {max-height: 0;max-width: 0;overflow: hidden;text-align: left;background-color: #f0f8ff;}#sk-container-id-1 div.sk-toggleable__content pre {margin: 0.2em;color: black;border-radius: 0.25em;background-color: #f0f8ff;}#sk-container-id-1 input.sk-toggleable__control:checked~div.sk-toggleable__content {max-height: 200px;max-width: 100%;overflow: auto;}#sk-container-id-1 input.sk-toggleable__control:checked~label.sk-toggleable__label-arrow:before {content: \"▾\";}#sk-container-id-1 div.sk-estimator input.sk-toggleable__control:checked~label.sk-toggleable__label {background-color: #d4ebff;}#sk-container-id-1 div.sk-label input.sk-toggleable__control:checked~label.sk-toggleable__label {background-color: #d4ebff;}#sk-container-id-1 input.sk-hidden--visually {border: 0;clip: rect(1px 1px 1px 1px);clip: rect(1px, 1px, 1px, 1px);height: 1px;margin: -1px;overflow: hidden;padding: 0;position: absolute;width: 1px;}#sk-container-id-1 div.sk-estimator {font-family: monospace;background-color: #f0f8ff;border: 1px dotted black;border-radius: 0.25em;box-sizing: border-box;margin-bottom: 0.5em;}#sk-container-id-1 div.sk-estimator:hover {background-color: #d4ebff;}#sk-container-id-1 div.sk-parallel-item::after {content: \"\";width: 100%;border-bottom: 1px solid gray;flex-grow: 1;}#sk-container-id-1 div.sk-label:hover label.sk-toggleable__label {background-color: #d4ebff;}#sk-container-id-1 div.sk-serial::before {content: \"\";position: absolute;border-left: 1px solid gray;box-sizing: border-box;top: 0;bottom: 0;left: 50%;z-index: 0;}#sk-container-id-1 div.sk-serial {display: flex;flex-direction: column;align-items: center;background-color: white;padding-right: 0.2em;padding-left: 0.2em;position: relative;}#sk-container-id-1 div.sk-item {position: relative;z-index: 1;}#sk-container-id-1 div.sk-parallel {display: flex;align-items: stretch;justify-content: center;background-color: white;position: relative;}#sk-container-id-1 div.sk-item::before, #sk-container-id-1 div.sk-parallel-item::before {content: \"\";position: absolute;border-left: 1px solid gray;box-sizing: border-box;top: 0;bottom: 0;left: 50%;z-index: -1;}#sk-container-id-1 div.sk-parallel-item {display: flex;flex-direction: column;z-index: 1;position: relative;background-color: white;}#sk-container-id-1 div.sk-parallel-item:first-child::after {align-self: flex-end;width: 50%;}#sk-container-id-1 div.sk-parallel-item:last-child::after {align-self: flex-start;width: 50%;}#sk-container-id-1 div.sk-parallel-item:only-child::after {width: 0;}#sk-container-id-1 div.sk-dashed-wrapped {border: 1px dashed gray;margin: 0 0.4em 0.5em 0.4em;box-sizing: border-box;padding-bottom: 0.4em;background-color: white;}#sk-container-id-1 div.sk-label label {font-family: monospace;font-weight: bold;display: inline-block;line-height: 1.2em;}#sk-container-id-1 div.sk-label-container {text-align: center;}#sk-container-id-1 div.sk-container {/* jupyter's `normalize.less` sets `[hidden] { display: none; }` but bootstrap.min.css set `[hidden] { display: none !important; }` so we also need the `!important` here to be able to override the default hidden behavior on the sphinx rendered scikit-learn.org. See: https://github.com/scikit-learn/scikit-learn/issues/21755 */display: inline-block !important;position: relative;}#sk-container-id-1 div.sk-text-repr-fallback {display: none;}</style><div id=\"sk-container-id-1\" class=\"sk-top-container\"><div class=\"sk-text-repr-fallback\"><pre>Pipeline(steps=[(&#x27;prep&#x27;,\n",
       "                 Pipeline(steps=[(&#x27;mc&#x27;, MisCare(missing_threshold=0.05)),\n",
       "                                 (&#x27;cc&#x27;, ConstantCare()),\n",
       "                                 (&#x27;aa_prop&#x27;, AminoAcidPropertyEncoder()),\n",
       "                                 (&#x27;feature_selection&#x27;,\n",
       "                                  FeatureSelection(alpha=0.1, keep=True,\n",
       "                                                   model_type=&#x27;reg&#x27;)),\n",
       "                                 (&#x27;collinear_care&#x27;,\n",
       "                                  CollinearCare(dist_method=&#x27;correlation&#x27;,\n",
       "                                                keep=True,\n",
       "                                                threshold=0.001))])),\n",
       "                (&#x27;lgbm&#x27;, LGBMRegressor(random_state=123))])</pre><b>In a Jupyter environment, please rerun this cell to show the HTML representation or trust the notebook. <br />On GitHub, the HTML representation is unable to render, please try loading this page with nbviewer.org.</b></div><div class=\"sk-container\" hidden><div class=\"sk-item sk-dashed-wrapped\"><div class=\"sk-label-container\"><div class=\"sk-label sk-toggleable\"><input class=\"sk-toggleable__control sk-hidden--visually\" id=\"sk-estimator-id-1\" type=\"checkbox\" ><label for=\"sk-estimator-id-1\" class=\"sk-toggleable__label sk-toggleable__label-arrow\">Pipeline</label><div class=\"sk-toggleable__content\"><pre>Pipeline(steps=[(&#x27;prep&#x27;,\n",
       "                 Pipeline(steps=[(&#x27;mc&#x27;, MisCare(missing_threshold=0.05)),\n",
       "                                 (&#x27;cc&#x27;, ConstantCare()),\n",
       "                                 (&#x27;aa_prop&#x27;, AminoAcidPropertyEncoder()),\n",
       "                                 (&#x27;feature_selection&#x27;,\n",
       "                                  FeatureSelection(alpha=0.1, keep=True,\n",
       "                                                   model_type=&#x27;reg&#x27;)),\n",
       "                                 (&#x27;collinear_care&#x27;,\n",
       "                                  CollinearCare(dist_method=&#x27;correlation&#x27;,\n",
       "                                                keep=True,\n",
       "                                                threshold=0.001))])),\n",
       "                (&#x27;lgbm&#x27;, LGBMRegressor(random_state=123))])</pre></div></div></div><div class=\"sk-serial\"><div class=\"sk-item\"><div class=\"sk-label-container\"><div class=\"sk-label sk-toggleable\"><input class=\"sk-toggleable__control sk-hidden--visually\" id=\"sk-estimator-id-2\" type=\"checkbox\" ><label for=\"sk-estimator-id-2\" class=\"sk-toggleable__label sk-toggleable__label-arrow\">prep: Pipeline</label><div class=\"sk-toggleable__content\"><pre>Pipeline(steps=[(&#x27;mc&#x27;, MisCare(missing_threshold=0.05)), (&#x27;cc&#x27;, ConstantCare()),\n",
       "                (&#x27;aa_prop&#x27;, AminoAcidPropertyEncoder()),\n",
       "                (&#x27;feature_selection&#x27;,\n",
       "                 FeatureSelection(alpha=0.1, keep=True, model_type=&#x27;reg&#x27;)),\n",
       "                (&#x27;collinear_care&#x27;,\n",
       "                 CollinearCare(dist_method=&#x27;correlation&#x27;, keep=True,\n",
       "                               threshold=0.001))])</pre></div></div></div><div class=\"sk-serial\"><div class=\"sk-item\"><div class=\"sk-estimator sk-toggleable\"><input class=\"sk-toggleable__control sk-hidden--visually\" id=\"sk-estimator-id-3\" type=\"checkbox\" ><label for=\"sk-estimator-id-3\" class=\"sk-toggleable__label sk-toggleable__label-arrow\">MisCare</label><div class=\"sk-toggleable__content\"><pre>MisCare(missing_threshold=0.05)</pre></div></div></div><div class=\"sk-item\"><div class=\"sk-estimator sk-toggleable\"><input class=\"sk-toggleable__control sk-hidden--visually\" id=\"sk-estimator-id-4\" type=\"checkbox\" ><label for=\"sk-estimator-id-4\" class=\"sk-toggleable__label sk-toggleable__label-arrow\">ConstantCare</label><div class=\"sk-toggleable__content\"><pre>ConstantCare()</pre></div></div></div><div class=\"sk-item\"><div class=\"sk-estimator sk-toggleable\"><input class=\"sk-toggleable__control sk-hidden--visually\" id=\"sk-estimator-id-5\" type=\"checkbox\" ><label for=\"sk-estimator-id-5\" class=\"sk-toggleable__label sk-toggleable__label-arrow\">AminoAcidPropertyEncoder</label><div class=\"sk-toggleable__content\"><pre>AminoAcidPropertyEncoder()</pre></div></div></div><div class=\"sk-item\"><div class=\"sk-estimator sk-toggleable\"><input class=\"sk-toggleable__control sk-hidden--visually\" id=\"sk-estimator-id-6\" type=\"checkbox\" ><label for=\"sk-estimator-id-6\" class=\"sk-toggleable__label sk-toggleable__label-arrow\">FeatureSelection</label><div class=\"sk-toggleable__content\"><pre>FeatureSelection(alpha=0.1, keep=True, model_type=&#x27;reg&#x27;)</pre></div></div></div><div class=\"sk-item\"><div class=\"sk-estimator sk-toggleable\"><input class=\"sk-toggleable__control sk-hidden--visually\" id=\"sk-estimator-id-7\" type=\"checkbox\" ><label for=\"sk-estimator-id-7\" class=\"sk-toggleable__label sk-toggleable__label-arrow\">CollinearCare</label><div class=\"sk-toggleable__content\"><pre>CollinearCare(dist_method=&#x27;correlation&#x27;, keep=True, threshold=0.001)</pre></div></div></div></div></div><div class=\"sk-item\"><div class=\"sk-estimator sk-toggleable\"><input class=\"sk-toggleable__control sk-hidden--visually\" id=\"sk-estimator-id-8\" type=\"checkbox\" ><label for=\"sk-estimator-id-8\" class=\"sk-toggleable__label sk-toggleable__label-arrow\">LGBMRegressor</label><div class=\"sk-toggleable__content\"><pre>LGBMRegressor(random_state=123)</pre></div></div></div></div></div></div></div>"
      ],
      "text/plain": [
       "Pipeline(steps=[('prep',\n",
       "                 Pipeline(steps=[('mc', MisCare(missing_threshold=0.05)),\n",
       "                                 ('cc', ConstantCare()),\n",
       "                                 ('aa_prop', AminoAcidPropertyEncoder()),\n",
       "                                 ('feature_selection',\n",
       "                                  FeatureSelection(alpha=0.1, keep=True,\n",
       "                                                   model_type='reg')),\n",
       "                                 ('collinear_care',\n",
       "                                  CollinearCare(dist_method='correlation',\n",
       "                                                keep=True,\n",
       "                                                threshold=0.001))])),\n",
       "                ('lgbm', LGBMRegressor(random_state=123))])"
      ]
     },
     "execution_count": 26,
     "metadata": {},
     "output_type": "execute_result"
    }
   ],
   "source": [
    "modified_top[0]"
   ]
  },
  {
   "cell_type": "code",
   "execution_count": null,
   "id": "0608d367",
   "metadata": {},
   "outputs": [
    {
     "name": "stdout",
     "output_type": "stream",
     "text": [
      "Tuning lgbm...\n",
      "No Grid-Search Specified, fitting model to default parameters.\n",
      "Tuning gbr...\n",
      "No Grid-Search Specified, fitting model to default parameters.\n",
      "Tuning et...\n",
      "Beginning Grid Search\n",
      "Best Model R-squared:\tnan\n",
      "Tuning rf...\n",
      "Beginning Grid Search\n"
     ]
    }
   ],
   "source": [
    "%%time\n",
    "top = finalize_top(X=tr, y=y_ev, top_models=modified_top, grid_param=get_simp_params(),report_dir=report_dir, cv=10)\n"
   ]
  },
  {
   "cell_type": "code",
   "execution_count": null,
   "id": "3738c4f0",
   "metadata": {},
   "outputs": [],
   "source": [
    "%%time\n",
    "sr = summarize_results(top_models=top, report_dir=report_dir)"
   ]
  },
  {
   "cell_type": "code",
   "execution_count": null,
   "id": "09ee6933",
   "metadata": {},
   "outputs": [],
   "source": [
    "sr.head()"
   ]
  },
  {
   "cell_type": "code",
   "execution_count": null,
   "id": "34bce71f",
   "metadata": {},
   "outputs": [],
   "source": [
    "scatter_plot = plot_scatter(summary_result=sr, report_dir=report_dir)"
   ]
  },
  {
   "cell_type": "code",
   "execution_count": null,
   "id": "0ff9bb99",
   "metadata": {},
   "outputs": [],
   "source": [
    "%%time\n",
    "mean_imp = mean_importance(top, report_dir=report_dir)"
   ]
  },
  {
   "cell_type": "code",
   "execution_count": null,
   "id": "f962ce08",
   "metadata": {},
   "outputs": [],
   "source": [
    "mean_imp.head()"
   ]
  },
  {
   "cell_type": "code",
   "execution_count": null,
   "id": "3e644ed3",
   "metadata": {},
   "outputs": [],
   "source": [
    "dp_aa_prop_plot(importance=mean_imp,imp_col='mean', model_name='mean', report_dir=report_dir, props_to_keep = props_to_keep)"
   ]
  },
  {
   "cell_type": "code",
   "execution_count": null,
   "id": "76f6a34e",
   "metadata": {},
   "outputs": [],
   "source": [
    "for model in top:\n",
    "    tr = model.named_steps['prep']['aa_prop'].aa_encoded_seqs_\n",
    "    model_name = model.steps[-1][0]\n",
    "    \n",
    "    dp_aa_prop_plot(importance=aaprop_importance_from_pipe(model),\n",
    "            imp_col='standard_value',\n",
    "            model_name = model_name, report_dir=report_dir, props_to_keep = props_to_keep)\n",
    "    \n",
    "    plot_imp_model(importance=aaprop_importance_from_pipe(model), \n",
    "               X_train=tr, y_train=y, model_name=model_name,\n",
    "                   meta_var='λmax', model_type=ana_type, report_dir=report_dir)"
   ]
  },
  {
   "cell_type": "code",
   "execution_count": null,
   "id": "7520474c",
   "metadata": {},
   "outputs": [],
   "source": [
    "pl = plot_imp_all(final_models=top,\n",
    "                  X_train=tr, y_train=y,\n",
    "                  model_type = ana_type,\n",
    "                  report_dir=report_dir, max_plots=100,\n",
    "                  figsize=(2.5, 3), meta_var='λmax')"
   ]
  },
  {
   "cell_type": "code",
   "execution_count": null,
   "id": "4fff6b59",
   "metadata": {},
   "outputs": [],
   "source": [
    "from deepBreaks.utils import load_obj\n",
    "import joblib\n",
    "import pandas as pd\n",
    "import matplotlib.pyplot as plt\n",
    "import matplotlib.colors as mcolors\n",
    "from sklearn.metrics import mean_absolute_error\n",
    "from sklearn.metrics import mean_absolute_percentage_error\n",
    "from sklearn.metrics import mean_squared_error"
   ]
  },
  {
   "cell_type": "code",
   "execution_count": null,
   "id": "e66ae400",
   "metadata": {},
   "outputs": [],
   "source": [
    "top_per_mod = report_dir + '/' + mtml[0] + '.pkl'\n",
    "load_top_mod = load_obj(top_per_mod)"
   ]
  },
  {
   "cell_type": "code",
   "execution_count": null,
   "id": "c553a92d",
   "metadata": {},
   "outputs": [],
   "source": [
    "print(f'Here is a list of your top performing models to test...\\n{mtml}')"
   ]
  },
  {
   "attachments": {},
   "cell_type": "markdown",
   "id": "08805113",
   "metadata": {},
   "source": [
    "# <font color=red>STEP 4: Translate Candidate STSs</font> \n",
    "## This section is used to translate candidate STSs to the bovine or squid equivalent.\n",
    "### The bovine and squid sequence dataframes that were saved earlier and are called again here\n"
   ]
  },
  {
   "cell_type": "code",
   "execution_count": null,
   "id": "6a19a8c9",
   "metadata": {},
   "outputs": [],
   "source": [
    "import pandas as pd\n",
    "import os"
   ]
  },
  {
   "cell_type": "code",
   "execution_count": null,
   "id": "984c98b2",
   "metadata": {},
   "outputs": [],
   "source": [
    "#STEP 4: Translate Candidate STSs \n",
    "#translate candidate STSs to the bovine or squid equivalent \n",
    "    #bovine and squid sequence dataframes were saved earlier and are called again here\n",
    "m = 0\n",
    "tm = ''\n",
    "k=0\n",
    "gaps=0\n",
    "#import importance_report.csv from report_dir\n",
    "true_pos = []\n",
    "aa = []\n",
    "tmd = []\n",
    "df = pd.read_csv(f'{report_dir}\\importance_report.csv')\n",
    "indx_list = df.feature.tolist()\n",
    "pos_list = []\n",
    "for x in indx_list:\n",
    "    pos = x.split('_')[0]\n",
    "    pos_list.append(int(pos))\n",
    "#print(pos_list)\n",
    "df['feat_pos'] = pos_list\n",
    "df = df.sort_values('feat_pos', ascending=True).reset_index(drop = True)\n",
    "\n",
    "#take the list of important sites and translate them to the bovine standard equivalent, \n",
    "#we do this by taking the site number and subtracting the number of '-' between the start of the sequence and the desired site. \n",
    "for rows in reference_seq.values:  \n",
    "    rows = str(rows)\n",
    "    #print(rows)\n",
    "    if rows == 'nan' or rows == 'NaN':\n",
    "    #We want to write the 'true_pos', 'aa', and 'TMD' to the 'importance_report' csv file\n",
    "        gaps += 1\n",
    "        k += 1\n",
    "        true_pos.append('NA')\n",
    "        aa.append('-')\n",
    "        tmd.append('NA')\n",
    "    else:\n",
    "        #print(\"The number of gaps is \" + str(gaps))\n",
    "        k+=1\n",
    "        trans_site = k - gaps\n",
    "        if ref_seq_name == 'bovine':\n",
    "            if trans_site in range(3,37):\n",
    "                tm = 'N-Termina'\n",
    "            elif trans_site in range(37,62):\n",
    "                tm = '1'\n",
    "            elif trans_site in range(74,96):\n",
    "                tm = '2'\n",
    "            elif trans_site in range(111,133):\n",
    "                tm = '3'\n",
    "            elif trans_site in range(153,174):\n",
    "                tm = '4'\n",
    "            elif trans_site in range(203,225):\n",
    "                tm = '5'\n",
    "            elif trans_site in range(253,275):\n",
    "                tm = '6'\n",
    "            elif trans_site in range(287,309):\n",
    "                tm = '7'\n",
    "            else:\n",
    "                tm = 'CT/EC'\n",
    "        else:\n",
    "            if trans_site in range(3,34):\n",
    "                tm = 'N-Termina'\n",
    "            elif trans_site in range(34,59):\n",
    "                tm = '1'\n",
    "            elif trans_site in range(71,97):\n",
    "                tm = '2'\n",
    "            elif trans_site in range(110,132):\n",
    "                tm = '3'\n",
    "            elif trans_site in range(152,173):\n",
    "                tm = '4'\n",
    "            elif trans_site in range(200,225):\n",
    "                tm = '5'\n",
    "            elif trans_site in range(262,284):\n",
    "                tm = '6'\n",
    "            elif trans_site in range(294,315):\n",
    "                tm = '7'\n",
    "            else:\n",
    "                tm = 'CT/EC'                \n",
    "        \n",
    "        true_pos.append(str(trans_site))\n",
    "        aa.append(rows)\n",
    "        tmd.append(tm)\n",
    "true_pos.pop()\n",
    "aa.pop()\n",
    "tmd.pop()\n",
    "\n",
    "x = 1\n",
    "exp_true_pos = []\n",
    "exp_tmd = []\n",
    "exp_aa = []\n",
    "for feat in df.feat_pos:\n",
    "    entered = False\n",
    "    while entered == False:\n",
    "        if feat == x:\n",
    "            exp_true_pos.append(true_pos[x-1])\n",
    "            exp_tmd.append(tmd[x-1])\n",
    "            exp_aa.append(aa[x-1])\n",
    "            entered = True\n",
    "        else:\n",
    "            x+=1\n",
    "            pass\n",
    "\n",
    "\n",
    "df['true_position'] = exp_true_pos\n",
    "df['TMD'] = exp_tmd\n",
    "df['amino_acid'] = exp_aa\n",
    "df.drop(columns='feat_pos')\n",
    "df.to_csv(path_or_buf= os.path.join(report_dir,r'importance_report.csv'),index = 'Feature',mode=\"w\")\n",
    "#df.head()"
   ]
  },
  {
   "cell_type": "markdown",
   "id": "a5fe1c5b",
   "metadata": {},
   "source": [
    "# <font color=red>STEP 5: Query the Model to Predict NEW Sequences</font> \n",
    "## Takes new sequences, inserts them into existing alignment to properly format for model query, then returns prediction of the λmax value for each sequence..."
   ]
  },
  {
   "cell_type": "code",
   "execution_count": null,
   "id": "c05aff21",
   "metadata": {},
   "outputs": [],
   "source": [
    "import os\n",
    "import subprocess\n",
    "from deepBreaks.utils import load_obj\n",
    "from deepBreaks.preprocessing import read_data\n",
    "import joblib\n",
    "import pandas as pd\n",
    "import matplotlib.pyplot as plt\n",
    "import matplotlib.colors as mcolors\n",
    "from sklearn.metrics import mean_absolute_error\n",
    "from sklearn.metrics import mean_absolute_percentage_error\n",
    "from sklearn.metrics import mean_squared_error\n",
    "from vpod_scripts.prediction_functions_db import process_sequences_from_file"
   ]
  },
  {
   "cell_type": "markdown",
   "id": "54d6da02",
   "metadata": {},
   "source": [
    "This is a version of the prediction method which can be used DIRECTLY after model training... "
   ]
  },
  {
   "cell_type": "code",
   "execution_count": null,
   "id": "2ce0726e",
   "metadata": {},
   "outputs": [],
   "source": [
    "#path to the mafft.bat file - change to your own directory!\n",
    "mafft_exe = 'C:/Users/safra/mafft-win/mafft.bat'\n",
    "#path to sequences we want to add to an existing alignment in FASTA format\n",
    "input_file = './supp_test_data/msp_erg_raw.txt'\n",
    "#name for desired output file\n",
    "output_file = f'{report_dir}/opsin_predictions.tsv'\n",
    "#path to target/selected model\n",
    "selected_model = report_dir + '/' + mtml[0] + '.pkl'\n",
    "#function for querying model - this will take care of creating an output file for you.\n",
    "process_sequences_from_file(mafft_exe,input_file,output_file,selected_model,seqFileName, gap_threshold=gap_threshold)\n"
   ]
  }
 ],
 "metadata": {
  "kernelspec": {
   "display_name": "deepBreaks_altenv",
   "language": "python",
   "name": "python3"
  },
  "language_info": {
   "codemirror_mode": {
    "name": "ipython",
    "version": 3
   },
   "file_extension": ".py",
   "mimetype": "text/x-python",
   "name": "python",
   "nbconvert_exporter": "python",
   "pygments_lexer": "ipython3",
   "version": "3.9.17"
  },
  "vscode": {
   "interpreter": {
    "hash": "1566c31c90cd32f196ccfa15812cd8e8608767ea4549b0419bac2fea141e189a"
   }
  }
 },
 "nbformat": 4,
 "nbformat_minor": 5
}
