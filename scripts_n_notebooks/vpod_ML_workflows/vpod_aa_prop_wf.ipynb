{
 "cells": [
  {
   "attachments": {},
   "cell_type": "markdown",
   "id": "d2f4de42",
   "metadata": {},
   "source": [
    "# <font color=green>deepBreaks Applications</font>\n",
    "## Modeling spectral tuning sites of opsin proteins based on amino-acid sequence and encoding w/Amino Acid Properties...  "
   ]
  },
  {
   "cell_type": "code",
   "execution_count": 62,
   "id": "82eed2c5",
   "metadata": {},
   "outputs": [],
   "source": [
    "# importing deepBreaks libraries \n",
    "from deepBreaks.utils_alt2 import get_models, get_scores, get_empty_params, make_pipeline\n",
    "from deepBreaks.preprocessing import MisCare, ConstantCare, URareCare, CustomOneHotEncoder, AminoAcidPropertyEncoder\n",
    "from deepBreaks.preprocessing import FeatureSelection, CollinearCare\n",
    "from deepBreaks.preprocessing import read_data\n",
    "from deepBreaks.models import model_compare_cv, finalize_top, aaprop_importance_from_pipe, mean_importance, summarize_results\n",
    "from deepBreaks.visualization import plot_scatter, dp_aa_prop_plot, plot_imp_model, plot_imp_all\n",
    "from deepBreaks.preprocessing import write_fasta\n",
    "import warnings\n",
    "import datetime\n",
    "import os\n",
    "import shutil "
   ]
  },
  {
   "cell_type": "code",
   "execution_count": 63,
   "id": "ae93f194",
   "metadata": {},
   "outputs": [],
   "source": [
    "warnings.filterwarnings(\"ignore\")\n",
    "warnings.simplefilter('ignore')"
   ]
  },
  {
   "cell_type": "code",
   "execution_count": 64,
   "id": "29f084f8",
   "metadata": {},
   "outputs": [],
   "source": [
    "# defining user params, file pathes, analysis type\n",
    "\n",
    "#assign your path to folder containing all the datasplits\n",
    "path = './vpod_1.2_data_splits_2024-08-20_16-14-09'\n",
    "# path to sequences of interest\n",
    "seqFileName = f'{path}/wt_aligned_VPOD_1.2_het.fasta' \n",
    "# path to corresponding metadata of interest\n",
    "metaDataFileName = f'{path}/wt_meta.tsv' \n",
    "ds='wt'\n",
    "\n",
    "# name of the phenotype\n",
    "mt = 'Lambda_Max'\n",
    "\n",
    "# type of the sequences\n",
    "seq_type = 'aa'\n",
    "\n",
    "# type of the analysis if it is a classification model, then we put cl instead of reg\n",
    "ana_type = 'reg' \n",
    "\n",
    "gap_threshold = 0.5\n",
    "\n",
    "#Whether or not you want to drop the reference sequence from the training data- Either 'Bovine' or 'Squid' (for Invertebrate dataset)\n",
    "drop_ref = False\n",
    "\n",
    "#Specify which properties you want to keep for the amino-acid property encoding:\n",
    "#We keep FIVE by deafult - 'H1, H3, P1, NCI, MASS' \n",
    "#But NINE total are avaliable -'H1, H2, H3, P1, P2, V, NCI, MASS, SASA and SDT' \n",
    "#If you want to keep ALL aa props, just set props_to_keep = 'all'\n",
    "# Or specify the properties in list format props_to_keep = ['H1', 'H3', 'P1', 'NCI', 'MASS']\n",
    "props_to_keep = ['H1','NCI','SCT','PKA','PKB']"
   ]
  },
  {
   "cell_type": "code",
   "execution_count": null,
   "id": "d592e45d",
   "metadata": {},
   "outputs": [],
   "source": [
    "# making a unique directory for saving the reports of the analysis\n",
    "print('direcory preparation')\n",
    "dt_label = datetime.datetime.now().strftime('%Y-%m-%d_%H-%M-%S')\n",
    "seqFile = seqFileName.split('/')[2]\n",
    "#print(seqFile)\n",
    "seqFile = seqFile.split('.')[0]+ '.'+ seqFile.split('.')[1]\n",
    "#print(seqFile)\n",
    "props_used = ''\n",
    "for props in props_to_keep:\n",
    "    props_used += props + '_'\n",
    "report_dir = str(props_used + seqFile +'_' + mt + '_' + dt_label)\n",
    "os.makedirs(report_dir)"
   ]
  },
  {
   "cell_type": "code",
   "execution_count": null,
   "id": "eac0ba03",
   "metadata": {
    "scrolled": true
   },
   "outputs": [],
   "source": [
    "%%time\n",
    "print('reading meta-data')\n",
    "# importing metadata\n",
    "meta_data = read_data(metaDataFileName, seq_type = None, is_main=False)\n",
    "# importing sequences data\n",
    "print('reading fasta file')\n",
    "\n",
    "tr = read_data(seqFileName, seq_type = seq_type, is_main=True, gap_threshold=gap_threshold)\n",
    "\n",
    "shutil.copy2(f'{seqFileName}',report_dir)\n",
    "write_fasta(dat = tr, fasta_file = f'{seqFile}_gap_dropped.fasta' , report_dir = report_dir)"
   ]
  },
  {
   "cell_type": "code",
   "execution_count": 67,
   "id": "0706fb3c",
   "metadata": {},
   "outputs": [],
   "source": [
    "try:\n",
    "    reference_seq = tr.loc['Bovine'].copy()\n",
    "    ref_seq_name = 'bovine'\n",
    "    if drop_ref == True:\n",
    "        meta_data = meta_data.drop('Bovine')\n",
    "    #print(bovine)\n",
    "except:\n",
    "    reference_seq = tr.loc['Squid'].copy()\n",
    "    ref_seq_name = 'squid'\n",
    "    #print(squid)\n",
    "reference_seq.to_csv(path_or_buf= f'{report_dir}/ref_sequence.csv',index = True,mode=\"w\")"
   ]
  },
  {
   "cell_type": "code",
   "execution_count": null,
   "id": "17b2dce0",
   "metadata": {},
   "outputs": [],
   "source": [
    "tr = tr.merge(meta_data.loc[:, mt],  left_index=True, right_index=True)\n",
    "tr.shape"
   ]
  },
  {
   "cell_type": "code",
   "execution_count": null,
   "id": "bb1d0b9e",
   "metadata": {},
   "outputs": [],
   "source": [
    "tr.head()"
   ]
  },
  {
   "cell_type": "code",
   "execution_count": 70,
   "id": "7568a83e",
   "metadata": {},
   "outputs": [],
   "source": [
    "import numpy as np\n",
    "import csv\n",
    "import pandas as pd"
   ]
  },
  {
   "cell_type": "code",
   "execution_count": 71,
   "id": "7c928d5a",
   "metadata": {},
   "outputs": [],
   "source": [
    "class_list = list(meta_data['Class'])"
   ]
  },
  {
   "cell_type": "code",
   "execution_count": 72,
   "id": "33e20c12",
   "metadata": {},
   "outputs": [],
   "source": [
    "unique_classes, class_counts = np.unique(class_list, return_counts=True)"
   ]
  },
  {
   "cell_type": "code",
   "execution_count": null,
   "id": "d8fad075",
   "metadata": {},
   "outputs": [],
   "source": [
    "class_counts"
   ]
  },
  {
   "cell_type": "code",
   "execution_count": null,
   "id": "955530be",
   "metadata": {},
   "outputs": [],
   "source": [
    "unique_classes"
   ]
  },
  {
   "cell_type": "code",
   "execution_count": null,
   "id": "f2a1ac34",
   "metadata": {},
   "outputs": [],
   "source": [
    "block_fold = []\n",
    "class_assignments = range(len(unique_classes))\n",
    "class_dict = dict(zip(unique_classes, class_assignments))\n",
    "for class_label in class_list:\n",
    "    block_fold.append(class_dict[str(class_label)])\n",
    "    \n",
    "print(block_fold)"
   ]
  },
  {
   "cell_type": "code",
   "execution_count": 76,
   "id": "1afd5231",
   "metadata": {},
   "outputs": [],
   "source": [
    "unique_classes2, class_counts2 = np.unique(block_fold, return_counts=True)"
   ]
  },
  {
   "cell_type": "code",
   "execution_count": null,
   "id": "0959b32e",
   "metadata": {},
   "outputs": [],
   "source": [
    "class_counts2"
   ]
  },
  {
   "cell_type": "code",
   "execution_count": null,
   "id": "44b7b45d",
   "metadata": {},
   "outputs": [],
   "source": [
    "y = tr.loc[:, mt].values\n",
    "tr.drop(mt, axis=1, inplace=True)\n",
    "print('Shape of data is: ', tr.shape)"
   ]
  },
  {
   "cell_type": "code",
   "execution_count": 79,
   "id": "7d75ba69",
   "metadata": {},
   "outputs": [],
   "source": [
    "y_ev = 1239.8 / np.array(y)"
   ]
  },
  {
   "attachments": {},
   "cell_type": "markdown",
   "id": "69979653",
   "metadata": {},
   "source": [
    "**Attention**: metadata and sequences data should have the names as their row names and for each sequence their must be a value in the meta data file."
   ]
  },
  {
   "cell_type": "code",
   "execution_count": null,
   "id": "2ff4b3d3",
   "metadata": {},
   "outputs": [],
   "source": [
    "print('metadata looks like this:')\n",
    "meta_data.head()"
   ]
  },
  {
   "cell_type": "code",
   "execution_count": null,
   "id": "943fb6b6",
   "metadata": {},
   "outputs": [],
   "source": [
    "print('sequence data looks like this:')\n",
    "tr.head()"
   ]
  },
  {
   "attachments": {},
   "cell_type": "markdown",
   "id": "140f567b",
   "metadata": {},
   "source": [
    "### Preprocessing\n",
    "In this step, we do all these steps:\n",
    "1. dropping columns with a number of missing values above a certain threshold  \n",
    "2. dropping zero entropy columns  \n",
    "3. imputing missing values with the mode of that column  \n",
    "4. replacing cases with a frequency below a threshold (default 1.5%) with the mode of that column\n",
    "5. dropping zero entropy columns\n",
    "6. use statistical tests (each position against the phenotype) and drop columns with p-values below a threshold (default 0.25)\n",
    "7. one-hot encode the remaining columns\n",
    "8. calculate the pair-wise distance matrix for all of the columns\n",
    "9. use the distance matrix for DBSCAN and cluster the correlated positions together\n",
    "10. keep only one column (closes to center of each cluster) for each group and drop the rest from the training data set"
   ]
  },
  {
   "cell_type": "code",
   "execution_count": 82,
   "id": "c23e44e7",
   "metadata": {},
   "outputs": [],
   "source": [
    "prep_pipeline = make_pipeline(\n",
    "    steps=[\n",
    "        ('mc', MisCare(missing_threshold=0.05)),\n",
    "        ('cc', ConstantCare()),\n",
    "        ('aa_prop', AminoAcidPropertyEncoder(props_to_keep = props_to_keep)),\n",
    "        ('feature_selection', FeatureSelection(model_type=ana_type, alpha=0.10, keep=False)),\n",
    "        ('collinear_care', CollinearCare(dist_method='correlation', threshold=0.01, keep=False))\n",
    "    ])"
   ]
  },
  {
   "cell_type": "code",
   "execution_count": null,
   "id": "2e6e97be",
   "metadata": {},
   "outputs": [],
   "source": [
    "%%time\n",
    "report, top = model_compare_cv(X=tr, y=y, preprocess_pipe=prep_pipeline,\n",
    "                               models_dict=get_models(ana_type=ana_type, dataset=ds, encoding='aa_prop'),\n",
    "                               scoring=get_scores(ana_type=ana_type),\n",
    "                               report_dir=report_dir,\n",
    "                               cv=10, ana_type=ana_type, cache_dir=report_dir)"
   ]
  },
  {
   "cell_type": "markdown",
   "id": "af902297",
   "metadata": {},
   "source": [
    "MAE = Mean Absolute Error\n",
    "\n",
    "MSE = Mean Squared Error\n",
    "\n",
    "RMSE = Rooted Mean Square Error\n",
    "\n",
    "MAPE = Mean Absolute % Error - the average magnitude of error produced by a model, or how far off predictions are on average. A MAPE value of 20% means that the average absolute percentage difference between the predictions and the actuals is 20%"
   ]
  },
  {
   "cell_type": "code",
   "execution_count": null,
   "id": "263f4a4e",
   "metadata": {},
   "outputs": [],
   "source": [
    "report"
   ]
  },
  {
   "cell_type": "code",
   "execution_count": 85,
   "id": "deda54a6",
   "metadata": {},
   "outputs": [],
   "source": [
    "prep_pipeline = make_pipeline(\n",
    "    steps=[\n",
    "        ('mc', MisCare(missing_threshold=0.05)),\n",
    "        ('cc', ConstantCare()),\n",
    "        ('aa_prop', AminoAcidPropertyEncoder(props_to_keep = props_to_keep)),\n",
    "        ('feature_selection', FeatureSelection(model_type=ana_type, alpha=0.10, keep=True)),\n",
    "        ('collinear_care', CollinearCare(dist_method='correlation', threshold=0.01, keep=True))\n",
    "    ])"
   ]
  },
  {
   "cell_type": "code",
   "execution_count": 86,
   "id": "df108475",
   "metadata": {},
   "outputs": [],
   "source": [
    "modified_top = []\n",
    "mtml = []\n",
    "for model in top:\n",
    "    modified_top.append(make_pipeline(steps=[('prep', prep_pipeline), model.steps[-1]]))\n",
    "    my_top_models = str(model[1:])\n",
    "    #print(my_top_models)\n",
    "    my_top_models = my_top_models.split(\"'\")[3]\n",
    "    mtml.append(my_top_models)\n",
    "    #print(my_top_models)"
   ]
  },
  {
   "cell_type": "code",
   "execution_count": null,
   "id": "c7005603",
   "metadata": {},
   "outputs": [],
   "source": [
    "modified_top[0]"
   ]
  },
  {
   "cell_type": "code",
   "execution_count": null,
   "id": "0608d367",
   "metadata": {},
   "outputs": [],
   "source": [
    "%%time\n",
    "top = finalize_top(X=tr, y=y, top_models=modified_top, grid_param=get_empty_params(),report_dir=report_dir, cv=10)\n"
   ]
  },
  {
   "cell_type": "code",
   "execution_count": null,
   "id": "3738c4f0",
   "metadata": {},
   "outputs": [],
   "source": [
    "%%time\n",
    "sr = summarize_results(top_models=top, report_dir=report_dir)"
   ]
  },
  {
   "cell_type": "code",
   "execution_count": null,
   "id": "09ee6933",
   "metadata": {},
   "outputs": [],
   "source": [
    "sr.head()"
   ]
  },
  {
   "cell_type": "code",
   "execution_count": null,
   "id": "34bce71f",
   "metadata": {},
   "outputs": [],
   "source": [
    "scatter_plot = plot_scatter(summary_result=sr, report_dir=report_dir)"
   ]
  },
  {
   "cell_type": "code",
   "execution_count": null,
   "id": "0ff9bb99",
   "metadata": {},
   "outputs": [],
   "source": [
    "%%time\n",
    "mean_imp = mean_importance(top, report_dir=report_dir)"
   ]
  },
  {
   "cell_type": "code",
   "execution_count": null,
   "id": "f962ce08",
   "metadata": {},
   "outputs": [],
   "source": [
    "mean_imp.head()"
   ]
  },
  {
   "cell_type": "code",
   "execution_count": null,
   "id": "3e644ed3",
   "metadata": {},
   "outputs": [],
   "source": [
    "dp_aa_prop_plot(importance=mean_imp,imp_col='mean', model_name='mean', report_dir=report_dir, props_to_keep = props_to_keep)"
   ]
  },
  {
   "cell_type": "code",
   "execution_count": null,
   "id": "76f6a34e",
   "metadata": {},
   "outputs": [],
   "source": [
    "for model in top:\n",
    "    tr = model.named_steps['prep']['aa_prop'].aa_encoded_seqs_\n",
    "    model_name = model.steps[-1][0]\n",
    "    \n",
    "    dp_aa_prop_plot(importance=aaprop_importance_from_pipe(model),\n",
    "            imp_col='standard_value',\n",
    "            model_name = model_name, report_dir=report_dir, props_to_keep = props_to_keep)\n",
    "    \n",
    "    plot_imp_model(importance=aaprop_importance_from_pipe(model), \n",
    "               X_train=tr, y_train=y, model_name=model_name,\n",
    "                   meta_var='λmax', model_type=ana_type, report_dir=report_dir)"
   ]
  },
  {
   "cell_type": "code",
   "execution_count": null,
   "id": "7520474c",
   "metadata": {},
   "outputs": [],
   "source": [
    "pl = plot_imp_all(final_models=top,\n",
    "                  X_train=tr, y_train=y,\n",
    "                  model_type = ana_type,\n",
    "                  report_dir=report_dir, max_plots=350,\n",
    "                  figsize=(2.5, 3), meta_var='λmax')"
   ]
  },
  {
   "cell_type": "code",
   "execution_count": 97,
   "id": "4fff6b59",
   "metadata": {},
   "outputs": [],
   "source": [
    "from deepBreaks.utils import load_obj\n",
    "import joblib\n",
    "import pandas as pd\n",
    "import matplotlib.pyplot as plt\n",
    "import matplotlib.colors as mcolors\n",
    "from sklearn.metrics import mean_absolute_error\n",
    "from sklearn.metrics import mean_absolute_percentage_error\n",
    "from sklearn.metrics import mean_squared_error"
   ]
  },
  {
   "cell_type": "code",
   "execution_count": 98,
   "id": "e66ae400",
   "metadata": {},
   "outputs": [],
   "source": [
    "top_per_mod = report_dir + '/' + mtml[0] + '.pkl'\n",
    "load_top_mod = load_obj(top_per_mod)"
   ]
  },
  {
   "cell_type": "code",
   "execution_count": null,
   "id": "c553a92d",
   "metadata": {},
   "outputs": [],
   "source": [
    "print(f'Here is a list of your top performing models to test...\\n{mtml}')"
   ]
  },
  {
   "attachments": {},
   "cell_type": "markdown",
   "id": "08805113",
   "metadata": {},
   "source": [
    "# <font color=red>STEP 4: Translate Candidate STSs</font> \n",
    "## This section is used to translate candidate STSs to the bovine or squid equivalent.\n",
    "### The bovine and squid sequence dataframes that were saved earlier and are called again here\n"
   ]
  },
  {
   "cell_type": "code",
   "execution_count": 100,
   "id": "6a19a8c9",
   "metadata": {},
   "outputs": [],
   "source": [
    "import pandas as pd\n",
    "import os"
   ]
  },
  {
   "cell_type": "code",
   "execution_count": 101,
   "id": "984c98b2",
   "metadata": {},
   "outputs": [],
   "source": [
    "#STEP 4: Translate Candidate STSs \n",
    "#translate candidate STSs to the bovine or squid equivalent \n",
    "    #bovine and squid sequence dataframes were saved earlier and are called again here\n",
    "m = 0\n",
    "tm = ''\n",
    "k=0\n",
    "gaps=0\n",
    "#import importance_report.csv from report_dir\n",
    "true_pos = []\n",
    "aa = []\n",
    "tmd = []\n",
    "df = pd.read_csv(f'{report_dir}\\importance_report.csv')\n",
    "indx_list = df.feature.tolist()\n",
    "pos_list = []\n",
    "for x in indx_list:\n",
    "    pos = x.split('p')[0]\n",
    "    pos = x.split('_')[0]\n",
    "    \n",
    "    pos_list.append(int(pos))\n",
    "#print(pos_list)\n",
    "df['feat_pos'] = pos_list\n",
    "df = df.sort_values('feat_pos', ascending=True).reset_index(drop = True)\n",
    "\n",
    "#take the list of important sites and translate them to the bovine standard equivalent, \n",
    "#we do this by taking the site number and subtracting the number of '-' between the start of the sequence and the desired site. \n",
    "for rows in reference_seq.values:  \n",
    "    rows = str(rows)\n",
    "    #print(rows)\n",
    "    if rows == 'nan' or rows == 'NaN' or rows=='-' or rows==None:\n",
    "    #We want to write the 'true_pos', 'aa', and 'TMD' to the 'importance_report' csv file\n",
    "        gaps += 1\n",
    "        k += 1\n",
    "        true_pos.append('NA')\n",
    "        aa.append('-')\n",
    "        tmd.append('NA')\n",
    "    else:\n",
    "        #print(\"The number of gaps is \" + str(gaps))\n",
    "        k+=1\n",
    "        trans_site = k - gaps\n",
    "        if ref_seq_name == 'bovine':\n",
    "            if trans_site in range(3,37):\n",
    "                tm = 'N-Termina'\n",
    "            elif trans_site in range(37,62):\n",
    "                tm = '1'\n",
    "            elif trans_site in range(74,96):\n",
    "                tm = '2'\n",
    "            elif trans_site in range(111,133):\n",
    "                tm = '3'\n",
    "            elif trans_site in range(153,174):\n",
    "                tm = '4'\n",
    "            elif trans_site in range(203,225):\n",
    "                tm = '5'\n",
    "            elif trans_site in range(253,275):\n",
    "                tm = '6'\n",
    "            elif trans_site in range(287,309):\n",
    "                tm = '7'\n",
    "            else:\n",
    "                tm = 'CT/EC'\n",
    "        else:\n",
    "            if trans_site in range(3,34):\n",
    "                tm = 'N-Termina'\n",
    "            elif trans_site in range(34,59):\n",
    "                tm = '1'\n",
    "            elif trans_site in range(71,97):\n",
    "                tm = '2'\n",
    "            elif trans_site in range(110,132):\n",
    "                tm = '3'\n",
    "            elif trans_site in range(152,173):\n",
    "                tm = '4'\n",
    "            elif trans_site in range(200,225):\n",
    "                tm = '5'\n",
    "            elif trans_site in range(262,284):\n",
    "                tm = '6'\n",
    "            elif trans_site in range(294,315):\n",
    "                tm = '7'\n",
    "            else:\n",
    "                tm = 'CT/EC'                \n",
    "        \n",
    "        true_pos.append(str(trans_site))\n",
    "        aa.append(rows)\n",
    "        tmd.append(tm)\n",
    "#true_pos.pop()\n",
    "#aa.pop()\n",
    "#tmd.pop()\n",
    "\n",
    "x = 1\n",
    "exp_true_pos = []\n",
    "exp_tmd = []\n",
    "exp_aa = []\n",
    "for feat in df.feat_pos:\n",
    "    entered = False\n",
    "    while entered == False:\n",
    "        if feat == x:\n",
    "            exp_true_pos.append(true_pos[x-1])\n",
    "            exp_tmd.append(tmd[x-1])\n",
    "            exp_aa.append(aa[x-1])\n",
    "            entered = True\n",
    "        else:\n",
    "            x+=1\n",
    "            pass\n",
    "\n",
    "\n",
    "df['true_position'] = exp_true_pos\n",
    "df['TMD'] = exp_tmd\n",
    "df['amino_acid'] = exp_aa\n",
    "df.drop(columns='feat_pos')\n",
    "df.to_csv(path_or_buf= os.path.join(report_dir,r'importance_report.csv'),index = 'Feature',mode=\"w\")\n",
    "#df.head()"
   ]
  },
  {
   "cell_type": "markdown",
   "id": "a5fe1c5b",
   "metadata": {},
   "source": [
    "# <font color=red>STEP 5: Query the Model to Predict NEW Sequences</font> \n",
    "## Takes new sequences, inserts them into existing alignment to properly format for model query, then returns prediction of the λmax value for each sequence..."
   ]
  },
  {
   "cell_type": "code",
   "execution_count": 102,
   "id": "c05aff21",
   "metadata": {},
   "outputs": [],
   "source": [
    "import os\n",
    "import subprocess\n",
    "from deepBreaks.utils import load_obj\n",
    "from deepBreaks.preprocessing import read_data\n",
    "import joblib\n",
    "import pandas as pd\n",
    "import matplotlib.pyplot as plt\n",
    "import matplotlib.colors as mcolors\n",
    "from sklearn.metrics import mean_absolute_error\n",
    "from sklearn.metrics import mean_absolute_percentage_error\n",
    "from sklearn.metrics import mean_squared_error\n",
    "from vpod_scripts.prediction_functions_db_aa_prop_encoded import process_sequences_from_file"
   ]
  },
  {
   "cell_type": "markdown",
   "id": "54d6da02",
   "metadata": {},
   "source": [
    "This is a version of the prediction method which can be used DIRECTLY after model training... "
   ]
  },
  {
   "cell_type": "code",
   "execution_count": null,
   "id": "2ce0726e",
   "metadata": {},
   "outputs": [],
   "source": [
    "#path to the mafft.bat file - change to your own directory!\n",
    "mafft_exe = 'C:/Users/safra/mafft-win/mafft.bat'\n",
    "#path to sequences we want to add to an existing alignment in FASTA format\n",
    "input_file = './supp_test_data/msp_erg_raw.txt'\n",
    "#name for desired output file\n",
    "output_file = f'{report_dir}/opsin_predictions.tsv'\n",
    "#path to target/selected model\n",
    "selected_model = report_dir + '/' + mtml[1] + '.pkl'\n",
    "#function for querying model - this will take care of creating an output file for you.\n",
    "predictions_df = process_sequences_from_file(mafft_exe,input_file,output_file,selected_model,seqFileName, gap_threshold=gap_threshold)\n"
   ]
  },
  {
   "cell_type": "code",
   "execution_count": 107,
   "id": "39cfe08b",
   "metadata": {},
   "outputs": [],
   "source": [
    "msp_meta_file = './supp_test_data/msp_erg_meta.tsv'\n",
    "msp_meta = read_data(msp_meta_file, seq_type = None, is_main=False)\n"
   ]
  },
  {
   "cell_type": "code",
   "execution_count": null,
   "id": "f0b87a10",
   "metadata": {},
   "outputs": [],
   "source": [
    "import matplotlib.pyplot as plt\n",
    "from sklearn.metrics import r2_score\n",
    "\n",
    "\n",
    "# Create scatter plot\n",
    "plt.scatter(msp_meta['Lambda_Max'], predictions_df['Predictions'])\n",
    "\n",
    "# Add labels and title\n",
    "plt.xlabel('True Values')\n",
    "plt.ylabel('Predicted Values')\n",
    "plt.title('Model Predictions vs True Values')\n",
    "\n",
    "# Display plot\n",
    "plt.show()\n",
    "\n",
    "# Calculate R-squared\n",
    "r2 = r2_score(msp_meta['Lambda_Max'], predictions_df['Predictions'])\n",
    "\n",
    "# Print R-squared\n",
    "print(f\"R-squared: {r2:.3f}\")"
   ]
  }
 ],
 "metadata": {
  "kernelspec": {
   "display_name": "deepBreaks_altenv",
   "language": "python",
   "name": "python3"
  },
  "language_info": {
   "codemirror_mode": {
    "name": "ipython",
    "version": 3
   },
   "file_extension": ".py",
   "mimetype": "text/x-python",
   "name": "python",
   "nbconvert_exporter": "python",
   "pygments_lexer": "ipython3",
   "version": "3.9.17"
  },
  "vscode": {
   "interpreter": {
    "hash": "1566c31c90cd32f196ccfa15812cd8e8608767ea4549b0419bac2fea141e189a"
   }
  }
 },
 "nbformat": 4,
 "nbformat_minor": 5
}
