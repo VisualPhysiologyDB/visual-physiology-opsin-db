{
 "cells": [
  {
   "cell_type": "markdown",
   "metadata": {},
   "source": [
    "# <font color=#c51b8a>VPOD 'Mine-n-Match':</font>\n",
    "## <font color=#c994c7>Part 1 </font> - Use Species Names from Merged Accessory DBs to Query NCBI for All Related Opsin Sequences  "
   ]
  },
  {
   "cell_type": "code",
   "execution_count": null,
   "metadata": {},
   "outputs": [],
   "source": [
    "import os\n",
    "import json\n",
    "import pandas as pd\n",
    "email = 'seth.frazer@embl.de'"
   ]
  },
  {
   "cell_type": "code",
   "execution_count": null,
   "metadata": {},
   "outputs": [],
   "source": [
    "from mnm_scripts.mine_n_match_functions import  merge_accessory_dbs\n",
    "from mnm_scripts.ncbi_functions import ncbi_fetch_opsins\n",
    "from mnm_scripts.utils import fasta_to_dataframe"
   ]
  },
  {
   "cell_type": "markdown",
   "metadata": {},
   "source": [
    "## <font color=#c51b8a>Load data-tables with all of the species and Lambda Max data from accessory lmax databases</font> "
   ]
  },
  {
   "cell_type": "markdown",
   "metadata": {},
   "source": [
    "### <font color=#c994c7>VPOD Single Cell Microspectrophotmetry (SCP) Datatable </font>\n",
    "### In this case our dataframe does not have full species name in one column so we must create a list by directly combining the genus and species names. Then filter to create a list of all unique species names \n"
   ]
  },
  {
   "cell_type": "code",
   "execution_count": null,
   "metadata": {},
   "outputs": [],
   "source": [
    "report_dir = './data_sources/lmax'\n",
    "df_list = []"
   ]
  },
  {
   "cell_type": "code",
   "execution_count": null,
   "metadata": {},
   "outputs": [],
   "source": [
    "scp_file = f'{report_dir}/vpod/scp_cleaned.txt'\n",
    "scp_df = pd.read_csv(scp_file, index_col=0, sep='\\t', encoding='utf-8')\n",
    "scp_df['Full_Species'] = (scp_df['Genus'] + ' ' + scp_df['Species']).to_list()\n",
    "df_list.append(scp_df)\n",
    "scp_df.head()"
   ]
  },
  {
   "cell_type": "markdown",
   "metadata": {},
   "source": [
    "### <font color=#c994c7>Longcore - 'Animal Photopigments' Datatable</font>\n",
    "\n",
    "### In this next case our dataframe has the full species name in one column so we can create a list directly and filter to create a list of all unique species names\n"
   ]
  },
  {
   "cell_type": "code",
   "execution_count": null,
   "metadata": {},
   "outputs": [],
   "source": [
    "longcore_file = f'{report_dir}/longcore_data/AnimalPhotopigmentsV1_1.csv'\n",
    "longcore_df = pd.read_csv(longcore_file, index_col=0, encoding='utf-8')\n",
    "df_list.append(longcore_df)\n",
    "longcore_df.head()"
   ]
  },
  {
   "cell_type": "markdown",
   "metadata": {},
   "source": [
    "### <font color=#c994c7>Murphy and Westerman Datatable</font>"
   ]
  },
  {
   "cell_type": "code",
   "execution_count": null,
   "metadata": {},
   "outputs": [],
   "source": [
    "murphy_westerman_file = f'{report_dir}/murphy_westerman/Murphy and Westerman.csv'\n",
    "murphy_westerman_df = pd.read_csv(murphy_westerman_file, index_col=0, encoding='utf-8')\n",
    "df_list.append(murphy_westerman_df)\n",
    "murphy_westerman_df.head()"
   ]
  },
  {
   "cell_type": "markdown",
   "metadata": {},
   "source": [
    "### <font color=#c994c7>Caves 'Fish' Datatable</font>"
   ]
  },
  {
   "cell_type": "code",
   "execution_count": null,
   "metadata": {},
   "outputs": [],
   "source": [
    "caves_fish_db_file = f'{report_dir}/caves/caves_fish_db.csv'\n",
    "caves_df = pd.read_csv(caves_fish_db_file, index_col=0)\n",
    "caves_df['Full_Species'] = (caves_df['Genus'] + ' ' + caves_df['Species']).to_list()\n",
    "df_list.append(caves_df)\n",
    "caves_df.head()"
   ]
  },
  {
   "cell_type": "markdown",
   "metadata": {},
   "source": [
    "### <font color=#c994c7>Morgan Porter's Datatables</font>"
   ]
  },
  {
   "cell_type": "code",
   "execution_count": null,
   "metadata": {},
   "outputs": [],
   "source": [
    "porter_file1 = f'{report_dir}/megan_porter/megan_porter_extract_clean_2005.csv'\n",
    "porter_df1 = pd.read_csv(porter_file1, index_col=0)\n",
    "porter_df2 = pd.read_csv(f'{report_dir}/megan_porter/porter_2006_table1_clean.tsv', sep='\\t', index_col=0, encoding='utf-8')\n",
    "df_list.append(porter_df1)\n",
    "df_list.append(porter_df2)\n",
    "porter_df1.head()"
   ]
  },
  {
   "cell_type": "code",
   "execution_count": null,
   "metadata": {},
   "outputs": [],
   "source": [
    "porter_df2.head()"
   ]
  },
  {
   "cell_type": "markdown",
   "metadata": {},
   "source": [
    "### <font color=#c994c7>J. Van Der Kooi's Datatable</font>"
   ]
  },
  {
   "cell_type": "code",
   "execution_count": null,
   "metadata": {},
   "outputs": [],
   "source": [
    "kooi_insect_db_file = f'{report_dir}/j_van_der_kooi/j_van_der_kooi_2021_mt_cleaned.csv'\n",
    "kooi_df = pd.read_csv(kooi_insect_db_file, index_col=0, encoding='utf-8')\n",
    "df_list.append(kooi_df)\n",
    "kooi_df.head()"
   ]
  },
  {
   "cell_type": "markdown",
   "metadata": {},
   "source": [
    "### <font color=#c994c7>Merge Accessory Lambda Max Databases</font>"
   ]
  },
  {
   "cell_type": "code",
   "execution_count": null,
   "metadata": {},
   "outputs": [],
   "source": [
    "# Call the function to merge all the species, lambdamax, and potential accession information into one dataframe\n",
    "merged_df, merged_df_file = merge_accessory_dbs(df_list, report_dir)\n",
    "merged_df.head()"
   ]
  },
  {
   "cell_type": "code",
   "execution_count": null,
   "metadata": {},
   "outputs": [],
   "source": [
    "merged_df.shape"
   ]
  },
  {
   "cell_type": "markdown",
   "metadata": {},
   "source": [
    "### <font color=#c994c7>All unique species names have been extracted from accessory databases. Now we iteratively query NCBI for opsins from each species.</font>"
   ]
  },
  {
   "cell_type": "code",
   "execution_count": null,
   "metadata": {},
   "outputs": [],
   "source": [
    "# Option to just load an existing merged database and by-pass replication\n",
    "report_dir = './data_sources/lmax/'\n",
    "merged_df = pd.read_csv(f'{report_dir}/VPOD_in_vivo_1.0_2025-09-22_15-52-28.csv')"
   ]
  },
  {
   "cell_type": "code",
   "execution_count": null,
   "metadata": {},
   "outputs": [],
   "source": [
    "species_list = merged_df[\"Full_Species\"].to_list()\n",
    "# This is the length of the species list before filtering for only unique species names\n",
    "len(species_list)"
   ]
  },
  {
   "cell_type": "code",
   "execution_count": null,
   "metadata": {},
   "outputs": [],
   "source": [
    "# This is the length of the species list which only includes unique species names\n",
    "species_list = list(set(species_list))\n",
    "len(species_list)"
   ]
  },
  {
   "cell_type": "markdown",
   "metadata": {},
   "source": [
    "## <font color=#c51b8a>Run NCBI Query Mining Process</font>"
   ]
  },
  {
   "cell_type": "code",
   "execution_count": null,
   "metadata": {},
   "outputs": [],
   "source": [
    "ncbi_query_df, query_report_dir = ncbi_fetch_opsins(email=email, job_label='all_dbs', out='all_dbs', species_list=species_list)"
   ]
  },
  {
   "cell_type": "code",
   "execution_count": null,
   "metadata": {},
   "outputs": [],
   "source": [
    "ncbi_query_df.shape"
   ]
  },
  {
   "cell_type": "code",
   "execution_count": null,
   "metadata": {},
   "outputs": [],
   "source": [
    "len(ncbi_query_df['Full_Species'].unique())"
   ]
  },
  {
   "cell_type": "markdown",
   "metadata": {},
   "source": [
    "## <font color=#c51b8a>Load Accessory Opsin Sequence Databases</font> "
   ]
  },
  {
   "cell_type": "markdown",
   "metadata": {},
   "source": [
    "### <font color=#c994c7>Load Previous MnM Data</font>"
   ]
  },
  {
   "cell_type": "code",
   "execution_count": null,
   "metadata": {},
   "outputs": [],
   "source": [
    "# Ignore this box, it's here for cases where you want to load existing query df\n",
    "#query_report_dir = \"mnm_data/mnm_on_all_dbs_2025-10-03_17-37-05\"\n",
    "#ncbi_query_file = f'{query_report_dir}/mnm_on_all_dbs_ncbi_q_data_cleaned.csv'\n",
    "#ncbi_query_df = pd.read_csv(ncbi_query_file)"
   ]
  },
  {
   "cell_type": "code",
   "execution_count": null,
   "metadata": {},
   "outputs": [],
   "source": [
    "import json\n",
    "taxon_file = './data_sources/taxonomy/ncbi_taxon_dict.json'\n",
    "with open(taxon_file, 'r') as f:\n",
    "    existing_taxon_dict = json.load(f)"
   ]
  },
  {
   "cell_type": "code",
   "execution_count": null,
   "metadata": {},
   "outputs": [],
   "source": [
    "ncbi_sp_list = ncbi_query_df['Full_Species'].to_list()\n",
    "ncbi_prot_list = ncbi_query_df['Protein'].to_list()\n",
    "ncbi_query_df.head()"
   ]
  },
  {
   "cell_type": "code",
   "execution_count": null,
   "metadata": {},
   "outputs": [],
   "source": [
    "report_dir2 = './data_sources/seqs'\n",
    "sequence_list = []\n",
    "acc_list = []\n",
    "db_sp_list = []\n",
    "prot_descriptions = []\n",
    "source_list = []"
   ]
  },
  {
   "cell_type": "markdown",
   "metadata": {},
   "source": [
    "### <font color=#c994c7>Bilaterian Animal Opsins: Ramirez et al 2016</font>"
   ]
  },
  {
   "cell_type": "code",
   "execution_count": null,
   "metadata": {},
   "outputs": [],
   "source": [
    "ramirez_file = f'{report_dir2}/bilaterian_animal_ops/Supplemental_Table_T1_cleaned.csv'\n",
    "ramirez_df = pd.read_csv(ramirez_file)\n",
    "ramirez_df.head()"
   ]
  },
  {
   "cell_type": "code",
   "execution_count": null,
   "metadata": {},
   "outputs": [],
   "source": [
    "ramirez_df.shape"
   ]
  },
  {
   "cell_type": "code",
   "execution_count": null,
   "metadata": {},
   "outputs": [],
   "source": [
    "for i, org in enumerate(ramirez_df['Organism']):\n",
    "    if org not in species_list:\n",
    "        for sp in species_list:\n",
    "            if (org in existing_taxon_dict.get(sp,{}).get('Synonyms',[])) or (sp in existing_taxon_dict.get(org,{}).get('Synonyms',[])):\n",
    "                new_row = ramirez_df.iloc[i].copy()\n",
    "                #print(f'Old Species: {new_row[\"Organism\"]} // New Species: {sp}')\n",
    "                new_row['Organism'] = sp\n",
    "                #print(new_row)\n",
    "                ramirez_df = pd.concat([ramirez_df, new_row], ignore_index=True)"
   ]
  },
  {
   "cell_type": "code",
   "execution_count": null,
   "metadata": {},
   "outputs": [],
   "source": [
    "ramirez_df_filtered = ramirez_df[ramirez_df['Organism'].isin(species_list)].copy()\n",
    "ramirez_df_filtered.shape"
   ]
  },
  {
   "cell_type": "code",
   "execution_count": null,
   "metadata": {},
   "outputs": [],
   "source": [
    "\n",
    "ramirez_df_filtered['raw_seqs'] = ramirez_df_filtered['aligned_seqs'].str.replace('-', '')\n",
    "prot_len_list = []\n",
    "for prot in ramirez_df_filtered['raw_seqs']:\n",
    "    prot_len = len(prot)\n",
    "    prot_len_list.append(prot_len)\n",
    "ramirez_df_filtered['prot_len'] = prot_len_list\n",
    "ramirez_df_filtered = ramirez_df_filtered[(ramirez_df_filtered['prot_len']>=300) & (ramirez_df_filtered['prot_len']<=600)].reset_index(drop=True)\n",
    "ramirez_df_filtered.head()"
   ]
  },
  {
   "cell_type": "code",
   "execution_count": null,
   "metadata": {},
   "outputs": [],
   "source": [
    "ramirez_df_filtered.shape"
   ]
  },
  {
   "cell_type": "code",
   "execution_count": null,
   "metadata": {},
   "outputs": [],
   "source": [
    "len(set(ramirez_df_filtered['Organism'].to_list()))"
   ]
  },
  {
   "cell_type": "code",
   "execution_count": null,
   "metadata": {},
   "outputs": [],
   "source": [
    "ramirez_df_filtered2 = ramirez_df_filtered[~ramirez_df_filtered['raw_seqs'].isin(ncbi_prot_list)]\n",
    "ramirez_df_filtered2 = ramirez_df_filtered2.reset_index(drop=True)\n",
    "ramirez_df_filtered2['source'] = 'Ramirez et al 2016'\n",
    "ramirez_df_filtered2.shape"
   ]
  },
  {
   "cell_type": "code",
   "execution_count": null,
   "metadata": {},
   "outputs": [],
   "source": [
    "ramirez_df_filtered2.to_csv(f'{report_dir2}/bilaterian_animal_ops/Supplemental_Table_T1_filtered.csv')\n",
    "len(set(ramirez_df_filtered2['raw_seqs'].to_list()))"
   ]
  },
  {
   "cell_type": "code",
   "execution_count": null,
   "metadata": {},
   "outputs": [],
   "source": [
    "sequence_list += ramirez_df_filtered2['raw_seqs'].to_list()\n",
    "acc_list += ramirez_df_filtered2['gene_ID'].to_list()\n",
    "db_sp_list += ramirez_df_filtered2['Organism'].to_list()\n",
    "prot_descriptions += ramirez_df_filtered2['Protein names'].to_list()\n",
    "source_list += ramirez_df_filtered2['source'].to_list()"
   ]
  },
  {
   "cell_type": "markdown",
   "metadata": {},
   "source": [
    "### <font color=#c994c7>Crustacean Conundrums: Palecanda et al 2022</font>"
   ]
  },
  {
   "cell_type": "code",
   "execution_count": null,
   "metadata": {},
   "outputs": [],
   "source": [
    "palecanda_file = f'{report_dir2}/crustacean_conundrums/rstb20210289_si_003.csv'\n",
    "palecanda_df = pd.read_csv(palecanda_file)\n",
    "palecanda_df.head()"
   ]
  },
  {
   "cell_type": "code",
   "execution_count": null,
   "metadata": {},
   "outputs": [],
   "source": [
    "palecanda_df.shape"
   ]
  },
  {
   "cell_type": "code",
   "execution_count": null,
   "metadata": {},
   "outputs": [],
   "source": [
    "for i, org in enumerate(palecanda_df['Genus species']):\n",
    "    if org not in species_list:\n",
    "        for sp in species_list:\n",
    "            if (org in existing_taxon_dict.get(sp,{}).get('Synonyms',[])) or (sp in existing_taxon_dict.get(org,{}).get('Synonyms',[])):\n",
    "                new_row = palecanda_df.iloc[i].copy()\n",
    "                #print(f'Old Species: {new_row[\"Organism\"]} // New Species: {sp}')\n",
    "                new_row['Genus species'] = sp\n",
    "                #print(new_row)\n",
    "                palecanda_df = pd.concat([palecanda_df, new_row], ignore_index=True)"
   ]
  },
  {
   "cell_type": "code",
   "execution_count": null,
   "metadata": {},
   "outputs": [],
   "source": [
    "palecanda_df_filtered = palecanda_df[palecanda_df['Genus species'].isin(species_list)].reset_index(drop=True)\n",
    "prot_len_list = []\n",
    "for prot in palecanda_df_filtered['Protein Sequence']:\n",
    "    prot_len = len(prot)\n",
    "    prot_len_list.append(prot_len)\n",
    "palecanda_df_filtered['prot_len'] = prot_len_list\n",
    "palecanda_df_filtered = palecanda_df_filtered[(palecanda_df_filtered['prot_len']>=300) & (palecanda_df_filtered['prot_len']<=600)].reset_index(drop=True)\n",
    "\n",
    "palecanda_df_filtered.head()"
   ]
  },
  {
   "cell_type": "code",
   "execution_count": null,
   "metadata": {},
   "outputs": [],
   "source": [
    "palecanda_df_filtered.shape"
   ]
  },
  {
   "cell_type": "code",
   "execution_count": null,
   "metadata": {},
   "outputs": [],
   "source": [
    "len(set(palecanda_df_filtered['Genus species'].to_list()))"
   ]
  },
  {
   "cell_type": "code",
   "execution_count": null,
   "metadata": {},
   "outputs": [],
   "source": [
    "palecanda_df_filtered2 = palecanda_df_filtered[~palecanda_df_filtered['Protein Sequence'].isin(ncbi_prot_list)]\n",
    "palecanda_df_filtered2=palecanda_df_filtered2.reset_index(drop=True)\n",
    "palecanda_df_filtered2['source'] = 'Palecanda et al 2022'\n",
    "palecanda_df_filtered2.shape"
   ]
  },
  {
   "cell_type": "code",
   "execution_count": null,
   "metadata": {},
   "outputs": [],
   "source": [
    "palecanda_df_filtered2.to_csv(f'{report_dir2}/crustacean_conundrums/palecanda_2022_filtered_seq_data.csv')\n",
    "len(set(palecanda_df_filtered2['Protein Sequence'].to_list()))"
   ]
  },
  {
   "cell_type": "code",
   "execution_count": null,
   "metadata": {},
   "outputs": [],
   "source": [
    "sequence_list += palecanda_df_filtered2['Protein Sequence'].to_list()\n",
    "acc_list += palecanda_df_filtered2['Transcript ID'].to_list()\n",
    "db_sp_list += palecanda_df_filtered2['Genus species'].to_list()\n",
    "prot_descriptions += palecanda_df_filtered2['Opsin Type'].to_list()\n",
    "source_list += palecanda_df_filtered2['source'].to_list()"
   ]
  },
  {
   "cell_type": "markdown",
   "metadata": {},
   "source": [
    "### <font color=#c994c7>Ray-Finned Fish Opsin DB: Policarpo et al 2024</font>"
   ]
  },
  {
   "cell_type": "code",
   "execution_count": null,
   "metadata": {},
   "outputs": [],
   "source": [
    "ray_finned_fasta_file = f'{report_dir2}/ray_finned_fish/mined_alignments/Complete_opsins.aln.txt'\n",
    "ray_finned_df = fasta_to_dataframe(ray_finned_fasta_file)"
   ]
  },
  {
   "cell_type": "code",
   "execution_count": null,
   "metadata": {},
   "outputs": [],
   "source": [
    "ray_finned_df"
   ]
  },
  {
   "cell_type": "code",
   "execution_count": null,
   "metadata": {},
   "outputs": [],
   "source": [
    "ray_finned_df.to_csv(f'{report_dir2}/ray_finned_fish/mined_alignments/extracted_fish_ops.csv')"
   ]
  },
  {
   "cell_type": "code",
   "execution_count": null,
   "metadata": {},
   "outputs": [],
   "source": [
    "for i, org in enumerate(ray_finned_df['species_name']):\n",
    "    if org not in species_list:\n",
    "        for sp in species_list:\n",
    "            if (org in existing_taxon_dict.get(sp,{}).get('Synonyms',[])) or (sp in existing_taxon_dict.get(org,{}).get('Synonyms',[])):\n",
    "                new_row = ray_finned_df.iloc[i].copy()\n",
    "                #print(f'Old Species: {new_row[\"Organism\"]} // New Species: {sp}')\n",
    "                new_row['species_name'] = sp\n",
    "                #print(new_row)\n",
    "                ray_finned_df = pd.concat([ray_finned_df, new_row], ignore_index=True)"
   ]
  },
  {
   "cell_type": "code",
   "execution_count": null,
   "metadata": {},
   "outputs": [],
   "source": [
    "ray_finned_df_filtered = ray_finned_df[ray_finned_df['species_name'].isin(species_list)].reset_index(drop=True)\n",
    "ray_finned_df_filtered.shape"
   ]
  },
  {
   "cell_type": "code",
   "execution_count": null,
   "metadata": {},
   "outputs": [],
   "source": [
    "ray_finned_df_filtered2 = ray_finned_df_filtered[~ray_finned_df_filtered['sequence'].isin(ncbi_prot_list)].reset_index(drop=True)\n",
    "ray_finned_df_filtered2.shape"
   ]
  },
  {
   "cell_type": "code",
   "execution_count": null,
   "metadata": {},
   "outputs": [],
   "source": [
    "ray_finned_df_filtered3 = ray_finned_df_filtered2[(ray_finned_df_filtered2['seq_length']>=300) & (ray_finned_df_filtered2['seq_length']<=600)].reset_index(drop=True)\n",
    "ray_finned_df_filtered3['source'] = 'Policarpo et al 2024'\n",
    "ray_finned_df_filtered3.shape"
   ]
  },
  {
   "cell_type": "code",
   "execution_count": null,
   "metadata": {},
   "outputs": [],
   "source": [
    "ray_finned_df_filtered3.to_csv(f'{report_dir2}/ray_finned_fish/mined_alignments/extracted_fish_ops_filtered.csv')"
   ]
  },
  {
   "cell_type": "code",
   "execution_count": null,
   "metadata": {},
   "outputs": [],
   "source": [
    "sequence_list += ray_finned_df_filtered3['sequence'].to_list()\n",
    "acc_list += ray_finned_df_filtered3['accession'].to_list()\n",
    "db_sp_list += ray_finned_df_filtered3['species_name'].to_list()\n",
    "prot_descriptions += ray_finned_df_filtered3['opsin_type'].to_list()\n",
    "source_list += ray_finned_df_filtered3['source'].to_list()"
   ]
  },
  {
   "cell_type": "markdown",
   "metadata": {},
   "source": [
    "### <font color=#c994c7>Visual Insect Opsin Compendium: Guignard et. al. 2022</font>"
   ]
  },
  {
   "cell_type": "code",
   "execution_count": null,
   "metadata": {},
   "outputs": [],
   "source": [
    "insect_ops_file = f'{report_dir2}/Guignard_2022_insect_ops/extracted_insect_ops.csv'\n",
    "insect_ops_df = pd.read_csv(insect_ops_file, index_col=0)"
   ]
  },
  {
   "cell_type": "code",
   "execution_count": null,
   "metadata": {},
   "outputs": [],
   "source": [
    "insect_ops_df.head()"
   ]
  },
  {
   "cell_type": "code",
   "execution_count": null,
   "metadata": {},
   "outputs": [],
   "source": [
    "for i, org in enumerate(insect_ops_df['species_name']):\n",
    "    if org not in species_list:\n",
    "        for sp in species_list:\n",
    "            if (org in existing_taxon_dict.get(sp,{}).get('Synonyms',[])) or (sp in existing_taxon_dict.get(org,{}).get('Synonyms',[])):\n",
    "                new_row = insect_ops_df.iloc[i].copy()\n",
    "                #print(f'Old Species: {new_row[\"Organism\"]} // New Species: {sp}')\n",
    "                new_row['species_name'] = sp\n",
    "                #print(new_row)\n",
    "                insect_ops_df = pd.concat([insect_ops_df, new_row], ignore_index=True)"
   ]
  },
  {
   "cell_type": "code",
   "execution_count": null,
   "metadata": {},
   "outputs": [],
   "source": [
    "insect_ops_df_filtered = insect_ops_df[insect_ops_df['species_name'].isin(species_list)].reset_index(drop=True)\n",
    "insect_ops_df_filtered.shape"
   ]
  },
  {
   "cell_type": "code",
   "execution_count": null,
   "metadata": {},
   "outputs": [],
   "source": [
    "insect_ops_df_filtered = insect_ops_df_filtered[~insect_ops_df_filtered['sequence'].isin(ncbi_prot_list)].reset_index(drop=True)\n",
    "insect_ops_df_filtered.shape"
   ]
  },
  {
   "cell_type": "code",
   "execution_count": null,
   "metadata": {},
   "outputs": [],
   "source": [
    "insect_ops_df_filtered = insect_ops_df_filtered[(insect_ops_df_filtered['seq_length']>=300) & (insect_ops_df_filtered['seq_length']<=600)].reset_index(drop=True)\n",
    "insect_ops_df_filtered['source'] = 'Guignard et al 2022'\n",
    "insect_ops_df_filtered.shape"
   ]
  },
  {
   "cell_type": "code",
   "execution_count": null,
   "metadata": {},
   "outputs": [],
   "source": [
    "insect_ops_df_filtered.to_csv(f'{report_dir2}/Guignard_2022_insect_ops/extracted_insect_ops_filtered.csv')"
   ]
  },
  {
   "cell_type": "code",
   "execution_count": null,
   "metadata": {},
   "outputs": [],
   "source": [
    "sequence_list += insect_ops_df_filtered['sequence'].to_list()\n",
    "acc_list += insect_ops_df_filtered['accession'].to_list()\n",
    "db_sp_list += insect_ops_df_filtered['species_name'].to_list()\n",
    "prot_descriptions += insect_ops_df_filtered['opsin_type'].to_list()\n",
    "source_list += insect_ops_df_filtered['source'].to_list()"
   ]
  },
  {
   "cell_type": "markdown",
   "metadata": {},
   "source": [
    "### <font color=#c994c7>Extract all taxon info for the species these collection of sequences belong to:</font>\n"
   ]
  },
  {
   "cell_type": "code",
   "execution_count": null,
   "metadata": {},
   "outputs": [],
   "source": [
    "gn_list = []\n",
    "sp_list = []\n",
    "for sp in db_sp_list:\n",
    "#    print(sp)\n",
    "    gn_list.append(sp.split(' ', 1)[0])\n",
    "    sp_list.append(sp.split(' ', 1)[1])"
   ]
  },
  {
   "cell_type": "code",
   "execution_count": null,
   "metadata": {},
   "outputs": [],
   "source": [
    "# Load our existing taxonomy dictionary and pull relevant taxon info\n",
    "taxon_file = './data_sources/taxonomy/ncbi_taxon_dict.json'\n",
    "if os.path.isfile(taxon_file):\n",
    "    with open(taxon_file, 'r') as f:\n",
    "        species_taxon_dict = json.load(f)\n",
    "        \n",
    "phylum_list = []\n",
    "subphylum_list = []\n",
    "class_list = []      \n",
    "for sp in db_sp_list:\n",
    "    phylum_list.append(species_taxon_dict[sp][\"Phylum\"])\n",
    "    subphylum_list.append(species_taxon_dict[sp][\"Subphylum\"])\n",
    "    class_list.append(species_taxon_dict[sp][\"Class\"])"
   ]
  },
  {
   "cell_type": "markdown",
   "metadata": {},
   "source": [
    "### <font color=#c994c7>MATEdb2: Martínez-Redondo et. al. 2024</font>\n",
    "For now I have no pipeline set up to extract sequences from the assembled transcriptomes but this may be coming in the future"
   ]
  },
  {
   "cell_type": "code",
   "execution_count": null,
   "metadata": {},
   "outputs": [],
   "source": [
    "matedb2_links_file = f'{report_dir2}/matedb2/Table_S1_cleaned.csv'\n",
    "matedb2_links_df = pd.read_csv(matedb2_links_file)\n",
    "matedb2_links_df.head()"
   ]
  },
  {
   "cell_type": "code",
   "execution_count": null,
   "metadata": {},
   "outputs": [],
   "source": [
    "matedb2_links_df.shape"
   ]
  },
  {
   "cell_type": "code",
   "execution_count": null,
   "metadata": {},
   "outputs": [],
   "source": [
    "matedb2_links_filtered = matedb2_links_df[matedb2_links_df['SCIENTIFIC NAME'].isin(species_list)].reset_index(drop=True)\n",
    "matedb2_links_filtered.head()"
   ]
  },
  {
   "cell_type": "code",
   "execution_count": null,
   "metadata": {},
   "outputs": [],
   "source": [
    "matedb2_links_filtered.shape"
   ]
  },
  {
   "cell_type": "code",
   "execution_count": null,
   "metadata": {},
   "outputs": [],
   "source": [
    "matedb2_links_filtered2 = matedb2_links_filtered[~matedb2_links_filtered['SCIENTIFIC NAME'].isin(ncbi_sp_list)]\n",
    "matedb2_links_filtered2.shape"
   ]
  },
  {
   "cell_type": "markdown",
   "metadata": {},
   "source": [
    "### <font color=#c994c7>Create Merged Dataframe From All Accessory Opsin Sequence DBs</font>"
   ]
  },
  {
   "cell_type": "code",
   "execution_count": null,
   "metadata": {},
   "outputs": [],
   "source": [
    "#make a merged df of all the accessory seq dbs, filter out reedundant datapoints, then append to the end of the NCBI query sheet?\n",
    "data = {'Accession': acc_list, 'Phylum': phylum_list, 'Subphylum': subphylum_list, 'Class': class_list,'Genus': gn_list, 'Species': sp_list, 'Full_Species': db_sp_list, 'Gene_Description': prot_descriptions, 'Protein' : sequence_list, 'source' : source_list} \n",
    "#data = {'Accession': acc_list, 'Genus': gn_list, 'Species': sp_list, 'Full_Species': db_sp_list, 'Gene_Description': prot_descriptions, 'Protein' : sequence_list, 'source' : source_list} \n",
    "\n",
    "acc_seq_db_df = pd.DataFrame(data)\n",
    "acc_seq_db_df.head()"
   ]
  },
  {
   "cell_type": "code",
   "execution_count": null,
   "metadata": {},
   "outputs": [],
   "source": [
    "acc_seq_db_df.shape"
   ]
  },
  {
   "cell_type": "code",
   "execution_count": null,
   "metadata": {},
   "outputs": [],
   "source": [
    "acc_seq_db_df_filtered = acc_seq_db_df.copy()\n",
    "acc_seq_db_df_filtered.drop_duplicates(subset=['Full_Species', 'Protein'],  keep='first', inplace=True)\n",
    "acc_seq_db_df_filtered=acc_seq_db_df_filtered.reset_index(drop=True)\n",
    "acc_seq_db_df_filtered.shape"
   ]
  },
  {
   "cell_type": "code",
   "execution_count": null,
   "metadata": {},
   "outputs": [],
   "source": [
    "len(set(acc_seq_db_df_filtered['Full_Species'].to_list()))"
   ]
  },
  {
   "cell_type": "code",
   "execution_count": null,
   "metadata": {},
   "outputs": [],
   "source": [
    "acc_seq_db_df_filtered.to_csv(f'{report_dir2}/vpod_comp_accessory_seq_dbs.csv')"
   ]
  },
  {
   "cell_type": "code",
   "execution_count": null,
   "metadata": {},
   "outputs": [],
   "source": [
    "fasta_file = f'./{report_dir2}/acc_db_seqs.fasta'\n",
    "with open(fasta_file, 'w') as f:\n",
    "    for id, seq in zip(acc_seq_db_df_filtered['Accession'], acc_seq_db_df_filtered['Protein']):\n",
    "        f.write(f'>{id}\\n{seq}\\n')"
   ]
  },
  {
   "cell_type": "markdown",
   "metadata": {},
   "source": [
    "### <font color=#c994c7>Merge the Formated Accessory Sequence DBs w/the Mined NCBI Data</font>"
   ]
  },
  {
   "cell_type": "code",
   "execution_count": null,
   "metadata": {},
   "outputs": [],
   "source": [
    "ncbi_query_df.head()"
   ]
  },
  {
   "cell_type": "code",
   "execution_count": null,
   "metadata": {},
   "outputs": [],
   "source": [
    "acc_seq_db_df_filtered.drop(columns='source', inplace =True)\n",
    "acc_seq_db_df_filtered.head()"
   ]
  },
  {
   "cell_type": "code",
   "execution_count": null,
   "metadata": {},
   "outputs": [],
   "source": [
    "final_query_df = pd.concat([ncbi_query_df, acc_seq_db_df_filtered]).reset_index(drop = True)\n",
    "final_query_df['Prot_Len'] = final_query_df['Protein'].str.len()\n",
    "final_query_df.to_csv(f'{query_report_dir}/ncbi_q_merged_w_acc_seq_db.csv', index=False)\n",
    "final_query_df.head()"
   ]
  },
  {
   "cell_type": "code",
   "execution_count": null,
   "metadata": {},
   "outputs": [],
   "source": [
    "final_query_df.shape"
   ]
  },
  {
   "cell_type": "code",
   "execution_count": null,
   "metadata": {},
   "outputs": [],
   "source": [
    "fasta_file = f'./{query_report_dir}/mined_and_acc_seqs.fasta'\n",
    "with open(fasta_file, 'w') as f:\n",
    "    for id, seq in zip(final_query_df['Accession'], final_query_df['Protein']):\n",
    "        f.write(f'>{id}\\n{seq}\\n')"
   ]
  },
  {
   "cell_type": "markdown",
   "metadata": {},
   "source": [
    "## <font color=#c994c7>Part 2: Blast Filtering</font> - Filter non-visual opsins by using BLAST against our sequence database of visual and non-visual opsins.\n",
    "\n",
    "- We  filter based on if the closest match is tagged as a non-visual or visual opsin."
   ]
  },
  {
   "cell_type": "code",
   "execution_count": null,
   "metadata": {},
   "outputs": [],
   "source": [
    "from mnm_scripts.blastp import run_blastp_analysis\n",
    "import pathlib\n",
    "script_path = pathlib.Path().resolve()  # Get absolute path\n",
    "wrk_dir = str(script_path).replace('\\\\', '/')"
   ]
  },
  {
   "cell_type": "code",
   "execution_count": null,
   "metadata": {},
   "outputs": [],
   "source": [
    "#query_report_dir = 'mnm_data/mnm_on_all_dbs_2025-10-03_17-37-05'\n",
    "#fasta_file = f'./{query_report_dir}/mined_and_acc_seqs.fasta'\n",
    "\n",
    "blast_db_path = './data_sources/blastdbs/mnm_opsin_ref_db'\n",
    "blast_output = f'./{query_report_dir}/blast_reference_report'"
   ]
  },
  {
   "cell_type": "code",
   "execution_count": null,
   "metadata": {},
   "outputs": [],
   "source": [
    "blast_analysis_df = run_blastp_analysis('blastp', fasta_file, blast_db_path, blast_output, wrk_dir=wrk_dir)"
   ]
  },
  {
   "cell_type": "code",
   "execution_count": null,
   "metadata": {},
   "outputs": [],
   "source": [
    "blast_analysis_df.head()"
   ]
  },
  {
   "cell_type": "markdown",
   "metadata": {},
   "source": [
    "Note, the size of our dataframe will decrease here because any sequences which returned a 'blast unsuccessful' is dropped since they are likely not even a member of the larger opsin protein family"
   ]
  },
  {
   "cell_type": "code",
   "execution_count": null,
   "metadata": {},
   "outputs": [],
   "source": [
    "blast_analysis_df.shape"
   ]
  },
  {
   "cell_type": "markdown",
   "metadata": {},
   "source": [
    "Now let's clean the blast dataframe to keep only the accessions/sequences matched to visual opsins"
   ]
  },
  {
   "cell_type": "code",
   "execution_count": null,
   "metadata": {},
   "outputs": [],
   "source": [
    "clean_blast_analysis_df = blast_analysis_df.copy()\n",
    "clean_blast_analysis_df = clean_blast_analysis_df[(clean_blast_analysis_df['sseqid'].str.contains('visual_opsin')) & (clean_blast_analysis_df['pident'] >= 20)]\n",
    "clean_blast_analysis_df.shape"
   ]
  },
  {
   "cell_type": "markdown",
   "metadata": {},
   "source": [
    "Now we filter the main dataframe with the accessions matchd to visual opsins in the blast dataframe\n",
    "- There will be more sequences in the main dataframe because there is a certain amount of permitted overlap"
   ]
  },
  {
   "cell_type": "code",
   "execution_count": null,
   "metadata": {},
   "outputs": [],
   "source": [
    "import pandas as pd\n",
    "final_query_df = pd.read_csv(f'./{query_report_dir}/ncbi_q_merged_w_acc_seq_db.csv')\n",
    "final_query_df.head()"
   ]
  },
  {
   "cell_type": "code",
   "execution_count": null,
   "metadata": {},
   "outputs": [],
   "source": [
    "final_query_df.shape"
   ]
  },
  {
   "cell_type": "code",
   "execution_count": null,
   "metadata": {},
   "outputs": [],
   "source": [
    "seqs_to_keep = clean_blast_analysis_df['qseqid'].to_list()\n",
    "non_visual_query_df = final_query_df.copy()"
   ]
  },
  {
   "cell_type": "code",
   "execution_count": null,
   "metadata": {},
   "outputs": [],
   "source": [
    "exclusion_patterns = [\n",
    "    r'\\b(rh1_)?exorh',                  # Matches 'exorh', 'exorha', 'exorh_1'\n",
    "    r'\\btmt([1-9])?',           # Matches 'tmt', 'tmt1a', 'tmt2_b'\n",
    "    r'\\bmelanopsin',             # Matches 'melanopsin', 'melanopsin_a'\n",
    "    r'\\bop(?:n|sin)\\s?[3-9]',    # Matches 'opn4m_1', 'opsin 5b', 'opn3' etc.\n",
    "    r'\\bneur',                   # Matches 'neur', 'neuropsin', 'neural'\n",
    "    r'\\bchain\\b'\n",
    "]"
   ]
  },
  {
   "cell_type": "code",
   "execution_count": null,
   "metadata": {},
   "outputs": [],
   "source": [
    "# Join the patterns into a single regex string\n",
    "exclusion_regex = '|'.join(exclusion_patterns)\n",
    "# Apply the streamlined filters\n",
    "final_query_df = final_query_df[\n",
    "    (final_query_df['Accession'].isin(seqs_to_keep)) &\n",
    "    (~final_query_df['Gene_Description'].str.contains(exclusion_regex, case=False, regex=True)) &\n",
    "    (final_query_df['Prot_Len'] <= 600) & (final_query_df['Prot_Len'] >= 300) &\n",
    "    (~final_query_df['Full_Species'].str.contains(r'\\bDaphnia\\b', case=False, regex=True))\n",
    "]\n",
    "final_query_df.reset_index(inplace=True)"
   ]
  },
  {
   "cell_type": "code",
   "execution_count": null,
   "metadata": {},
   "outputs": [],
   "source": [
    "final_query_df.shape"
   ]
  },
  {
   "cell_type": "code",
   "execution_count": null,
   "metadata": {},
   "outputs": [],
   "source": [
    "final_query_df.to_csv(f'{query_report_dir}/ncbi_q_merged_w_acc_seq_db_visual_only.csv')\n",
    "\n",
    "fasta_file = f'./{query_report_dir}/mined_and_acc_seqs_visual_only.fasta'\n",
    "with open(fasta_file, 'w') as f:\n",
    "    for id, seq in zip(final_query_df['Accession'], final_query_df['Protein']):\n",
    "        f.write(f'>{id}\\n{seq}\\n')"
   ]
  },
  {
   "cell_type": "markdown",
   "metadata": {},
   "source": [
    "Let's also save all the non-visual opsin hits just for the sake of posterity"
   ]
  },
  {
   "cell_type": "code",
   "execution_count": null,
   "metadata": {},
   "outputs": [],
   "source": [
    "non_visual_blast_df = blast_analysis_df.copy()\n",
    "non_visual_blast_df = non_visual_blast_df[~non_visual_blast_df['sseqid'].str.contains('visual_opsin')]\n",
    "non_visual_blast_df.shape"
   ]
  },
  {
   "cell_type": "code",
   "execution_count": null,
   "metadata": {},
   "outputs": [],
   "source": [
    "non_visual_blast_df.head()"
   ]
  },
  {
   "cell_type": "code",
   "execution_count": null,
   "metadata": {},
   "outputs": [],
   "source": [
    "seqs_to_keep = non_visual_blast_df['qseqid']\n",
    "\n",
    "non_visual_query_df = non_visual_query_df[\n",
    "    (non_visual_query_df['Accession'].str.contains('|'.join(seqs_to_keep))) &\n",
    "    (non_visual_query_df['Gene_Description'].str.contains(exclusion_regex, case=False, regex=True))\n",
    "]"
   ]
  },
  {
   "cell_type": "code",
   "execution_count": null,
   "metadata": {},
   "outputs": [],
   "source": [
    "#non_visual_query_df = non_visual_query_df[(non_visual_query_df['Accession'].str.contains('|'.join(seqs_to_keep))) & (non_visual_query_df['Gene_Description'].str.contains('exorh|exoRH|tmt1|tm2|tmt3|melanopsin|opn4|opn5|opn6|opn8|tmt|opn7|NEUR'))]"
   ]
  },
  {
   "cell_type": "code",
   "execution_count": null,
   "metadata": {},
   "outputs": [],
   "source": [
    "non_visual_query_df.to_csv(f'./{query_report_dir}/ncbi_q_merged_w_acc_seq_db_nonvisual_only.csv', index=False)"
   ]
  },
  {
   "cell_type": "markdown",
   "metadata": {},
   "source": [
    "## <font color=#c994c7>Part 3: OPTICS Predictions</font> - Predict Lmax of all queried opsin sequences "
   ]
  },
  {
   "cell_type": "code",
   "execution_count": null,
   "metadata": {},
   "outputs": [],
   "source": [
    "%reload_ext autoreload\n",
    "%load_ext autoreload\n",
    "%autoreload 2"
   ]
  },
  {
   "cell_type": "code",
   "execution_count": null,
   "metadata": {},
   "outputs": [],
   "source": [
    "import sys\n",
    "# Get the absolute path to the 'optics' directory.  This is crucial for robustness.\n",
    "optics_path = 'D:\\\\safra\\\\Github\\\\optics'\n",
    "# Add the 'optics' directory to the Python path\n",
    "if optics_path not in sys.path: # Avoid adding multiple times\n",
    "    sys.path.append(optics_path)\n",
    "# Now you can import modules from 'optics' as usual\n",
    "from optics_predictions import run_optics_predictions"
   ]
  },
  {
   "cell_type": "code",
   "execution_count": null,
   "metadata": {},
   "outputs": [],
   "source": [
    "#OPTICS Predictions\n",
    "#query_report_dir = 'mnm_data/mnm_on_all_dbs_2025-10-01_14-51-49'\n",
    "#fasta_file = f'./{query_report_dir}/mined_and_acc_seqs_visual_only.fasta'\n",
    "optics_df, optics_pred_file = run_optics_predictions(input_sequence=fasta_file, pred_dir=f'./{query_report_dir}', output='mnm_data',\n",
    "                           model=\"whole-dataset\", encoding_method='aa_prop', blastp=True,\n",
    "                           iden_report='blastp_report', refseq='bovine',\n",
    "                           bootstrap=False, bootstrap_num=100, visualize_bootstrap=False, preload_to_memory=False, n_jobs=10, tolerate_non_standard_aa=True)"
   ]
  },
  {
   "cell_type": "code",
   "execution_count": null,
   "metadata": {},
   "outputs": [],
   "source": [
    "optics_df.head()"
   ]
  },
  {
   "cell_type": "code",
   "execution_count": null,
   "metadata": {},
   "outputs": [],
   "source": [
    "optics_df.shape"
   ]
  },
  {
   "cell_type": "markdown",
   "metadata": {},
   "source": [
    "## <font color=#c994c7>Part 4: Matching Predictions to Physiology Data</font> - Match sequence to it's closest physiologically measured lmax value based on OPTICS predictions"
   ]
  },
  {
   "cell_type": "code",
   "execution_count": null,
   "metadata": {},
   "outputs": [],
   "source": [
    "import warnings\n",
    "import pandas as pd\n",
    "from deepBreaks.preprocessing import read_data\n",
    "from mnm_scripts.mine_n_match_functions import mine_n_match\n",
    "email = 'sethfrazer@ucsb.edu'\n",
    "warnings.filterwarnings(\"ignore\")\n",
    "warnings.simplefilter(\"ignore\")"
   ]
  },
  {
   "cell_type": "markdown",
   "metadata": {},
   "source": [
    "#### <font color=#c994c7>Load NCBI Query Data</font>"
   ]
  },
  {
   "cell_type": "code",
   "execution_count": null,
   "metadata": {},
   "outputs": [],
   "source": [
    "#query_report_dir = 'mnm_data/mnm_on_mnm_on_all_dbs_2025-09-22_15-52-30' #re-define the report directory if needed\n",
    "ncbi_q_file = f'./{query_report_dir}/ncbi_q_merged_w_acc_seq_db_visual_only.csv'\n",
    "ncbi = pd.read_csv(ncbi_q_file, index_col=0)\n",
    "ncbi_filtered = ncbi[ncbi['Accession'].isin(optics_df['Names'])]\n",
    "ncbi_filtered.reset_index(inplace=True)\n",
    "ncbi_filtered.head()"
   ]
  },
  {
   "cell_type": "code",
   "execution_count": null,
   "metadata": {},
   "outputs": [],
   "source": [
    "ncbi_filtered.shape"
   ]
  },
  {
   "cell_type": "markdown",
   "metadata": {},
   "source": [
    "#### <font color=#c994c7>Load OPTICS Predictions</font>"
   ]
  },
  {
   "cell_type": "code",
   "execution_count": null,
   "metadata": {},
   "outputs": [],
   "source": [
    "#pred_dir = '.\\prediction_outputs\\optics_on_mnm_all_dbs_2025-02-24_17-22-27'\n",
    "#optics_pred_file = f'{pred_dir}/mnm_all_dbs_predictions.tsv'\n",
    "optics = pd.read_csv(optics_pred_file, sep='\\t')\n",
    "optics.head()"
   ]
  },
  {
   "cell_type": "code",
   "execution_count": null,
   "metadata": {},
   "outputs": [],
   "source": [
    "optics.shape"
   ]
  },
  {
   "cell_type": "markdown",
   "metadata": {},
   "source": [
    "#### <font color=#c994c7>Load Lmax Compendium Data</font>"
   ]
  },
  {
   "cell_type": "code",
   "execution_count": null,
   "metadata": {},
   "outputs": [],
   "source": [
    "source_file = './data_sources/lmax/VPOD_in_vivo_v1.0_2025-05-09_18-17-49.csv'\n",
    "#source_file = merged_df_file\n",
    "comp_db = pd.read_csv(source_file,index_col=0)\n",
    "comp_db.head()"
   ]
  },
  {
   "cell_type": "markdown",
   "metadata": {},
   "source": [
    "#### <font color=#c994c7>Run Mine-n-Match Script!</font>"
   ]
  },
  {
   "cell_type": "code",
   "execution_count": null,
   "metadata": {},
   "outputs": [],
   "source": [
    "final_err_filtered_df = mine_n_match(email, query_report_dir, source_file, ncbi_filtered, optics_pred_file, out='vpod_in_vivo', err_filter = 11, per_identity_minimum=20, prediction_to_use='Single_Prediction')"
   ]
  },
  {
   "cell_type": "markdown",
   "metadata": {},
   "source": [
    "#### <font color=#c994c7>Check the final dataframe</font>"
   ]
  },
  {
   "cell_type": "markdown",
   "metadata": {},
   "source": [
    "- Need to add a portion to the MNM backend which further filters for sequences matched to synonyms of the same species w/ same lmax. "
   ]
  },
  {
   "cell_type": "code",
   "execution_count": null,
   "metadata": {},
   "outputs": [],
   "source": [
    "#final_mnm_file_name = './mnm_data/mnm_on_all_dbs_2025-02-24_16-29-54/mnm_on_vpod_in_vivo_results_fully_filtered.csv'\n",
    "#final_err_filtered_df = pd.read_csv(final_mnm_file_name, index_col=0)\n",
    "final_err_filtered_df.head()"
   ]
  },
  {
   "cell_type": "code",
   "execution_count": null,
   "metadata": {},
   "outputs": [],
   "source": [
    "final_err_filtered_df.shape"
   ]
  },
  {
   "cell_type": "markdown",
   "metadata": {},
   "source": [
    "#### <font color=#c994c7>Generate dataframe of all in-vivo values that did not match any sequences</font>"
   ]
  },
  {
   "cell_type": "code",
   "execution_count": null,
   "metadata": {},
   "outputs": [],
   "source": [
    "no_match_in_vivo_df = comp_db.drop(labels=final_err_filtered_df['comp_db_id'], inplace=False).copy()\n",
    "no_match_in_vivo_df.shape"
   ]
  },
  {
   "cell_type": "code",
   "execution_count": null,
   "metadata": {},
   "outputs": [],
   "source": [
    "no_match_in_vivo_df.head()"
   ]
  },
  {
   "cell_type": "code",
   "execution_count": null,
   "metadata": {},
   "outputs": [],
   "source": [
    "no_match_in_vivo_df.to_csv(f'./{query_report_dir}/no_match_in_vivo_mnm.csv', index=True)"
   ]
  },
  {
   "cell_type": "markdown",
   "metadata": {},
   "source": [
    "#### <font color=#c994c7>Generate dataframe of all sequence data that did not match any in-vivo Lmax values</font>"
   ]
  },
  {
   "cell_type": "code",
   "execution_count": null,
   "metadata": {},
   "outputs": [],
   "source": [
    "no_match_seq_data_df = ncbi_filtered[~ncbi_filtered['Accession'].isin(final_err_filtered_df['Accession'])].copy()\n",
    "no_match_seq_data_df.shape"
   ]
  },
  {
   "cell_type": "code",
   "execution_count": null,
   "metadata": {},
   "outputs": [],
   "source": [
    "no_match_seq_data_df.head()"
   ]
  },
  {
   "cell_type": "code",
   "execution_count": null,
   "metadata": {},
   "outputs": [],
   "source": [
    "no_match_seq_data_df.to_csv(f'./{query_report_dir}/no_match_seq_data_mnm.csv', index=True)"
   ]
  }
 ],
 "metadata": {
  "kernelspec": {
   "display_name": "optics_env",
   "language": "python",
   "name": "python3"
  },
  "language_info": {
   "codemirror_mode": {
    "name": "ipython",
    "version": 3
   },
   "file_extension": ".py",
   "mimetype": "text/x-python",
   "name": "python",
   "nbconvert_exporter": "python",
   "pygments_lexer": "ipython3",
   "version": "3.11.9"
  },
  "orig_nbformat": 4
 },
 "nbformat": 4,
 "nbformat_minor": 2
}
