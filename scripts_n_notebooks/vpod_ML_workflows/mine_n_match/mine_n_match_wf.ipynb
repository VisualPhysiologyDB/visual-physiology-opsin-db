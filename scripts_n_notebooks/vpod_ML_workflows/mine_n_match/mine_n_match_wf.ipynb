{
 "cells": [
  {
   "cell_type": "markdown",
   "metadata": {},
   "source": [
    "# <font color=#c51b8a>VPOD 'Mine-n-Match':</font>\n",
    "## <font color=#c994c7>Part 1 Objective</font> - Use Species Names from Microspectrophotemetry Data Sheet to Query NCBI for All Related Opsin Sequences  "
   ]
  },
  {
   "cell_type": "code",
   "execution_count": 1,
   "metadata": {},
   "outputs": [],
   "source": [
    "import os\n",
    "import json\n",
    "import pandas as pd\n",
    "email = 'sethfrazer@ucsb.edu'"
   ]
  },
  {
   "cell_type": "code",
   "execution_count": 2,
   "metadata": {},
   "outputs": [],
   "source": [
    "from mnm_scripts.mine_n_match_functions import ncbi_fetch_opsins, merge_accessory_dbs, fasta_to_dataframe"
   ]
  },
  {
   "cell_type": "markdown",
   "metadata": {},
   "source": [
    "## <font color=#c51b8a>Load data-tables with all of the species and Lambda Max data from accessory lmax databases</font> "
   ]
  },
  {
   "cell_type": "markdown",
   "metadata": {},
   "source": [
    "### <font color=#c994c7>VPOD Single Cell Microspectrophotmetry (SCP) Datatable </font>\n",
    "### In this case our dataframe does not have full species name in one column so we must create a list by directly combining the genus and species names. Then filter to create a list of all unique species names \n"
   ]
  },
  {
   "cell_type": "code",
   "execution_count": 3,
   "metadata": {},
   "outputs": [],
   "source": [
    "report_dir = './data_sources/lmax'\n",
    "species_list = []\n",
    "df_list = []"
   ]
  },
  {
   "cell_type": "code",
   "execution_count": 4,
   "metadata": {},
   "outputs": [
    {
     "data": {
      "application/vnd.microsoft.datawrangler.viewer.v0+json": {
       "columns": [
        {
         "name": "maxid",
         "rawType": "int64",
         "type": "integer"
        },
        {
         "name": "Genus",
         "rawType": "object",
         "type": "string"
        },
        {
         "name": "Species",
         "rawType": "object",
         "type": "string"
        },
        {
         "name": "phylum",
         "rawType": "object",
         "type": "string"
        },
        {
         "name": "CellType",
         "rawType": "object",
         "type": "string"
        },
        {
         "name": "CellSubType",
         "rawType": "object",
         "type": "unknown"
        },
        {
         "name": "LambdaMax",
         "rawType": "float64",
         "type": "float"
        },
        {
         "name": "error",
         "rawType": "float64",
         "type": "float"
        },
        {
         "name": "Chromophore",
         "rawType": "object",
         "type": "unknown"
        },
        {
         "name": "Stage",
         "rawType": "object",
         "type": "string"
        },
        {
         "name": "useable",
         "rawType": "float64",
         "type": "float"
        },
        {
         "name": "expid",
         "rawType": "float64",
         "type": "float"
        },
        {
         "name": "opsinid",
         "rawType": "float64",
         "type": "float"
        },
        {
         "name": "refid",
         "rawType": "float64",
         "type": "float"
        },
        {
         "name": "Notes",
         "rawType": "object",
         "type": "unknown"
        },
        {
         "name": "Column1",
         "rawType": "object",
         "type": "unknown"
        },
        {
         "name": "isGenusInHetero",
         "rawType": "float64",
         "type": "float"
        },
        {
         "name": "isSpeciesInHetero",
         "rawType": "float64",
         "type": "float"
        },
        {
         "name": "isInHetero",
         "rawType": "int64",
         "type": "integer"
        },
        {
         "name": "isVert",
         "rawType": "float64",
         "type": "float"
        },
        {
         "name": "Full_Species",
         "rawType": "object",
         "type": "string"
        }
       ],
       "conversionMethod": "pd.DataFrame",
       "ref": "f9d7eb2c-efd8-44d4-be97-a7d1d5d7a58c",
       "rows": [
        [
         "1",
         "Acipenser",
         "transmontanus",
         "Chordata",
         "rod",
         null,
         "540.0",
         null,
         null,
         "adult",
         "1.0",
         null,
         "463.0",
         "30.0",
         "partial cds but is rod opsin",
         null,
         null,
         null,
         "0",
         "1.0",
         "Acipenser transmontanus"
        ],
        [
         "2",
         "Acipenser",
         "transmontanus",
         "Chordata",
         "cone",
         null,
         "464.0",
         null,
         null,
         "adult",
         "0.0",
         null,
         "0.0",
         "30.0",
         null,
         null,
         null,
         null,
         "0",
         null,
         "Acipenser transmontanus"
        ],
        [
         "3",
         "Acipenser",
         "transmontanus",
         "Chordata",
         "cone",
         null,
         "531.0",
         null,
         null,
         "adult",
         "0.0",
         null,
         "0.0",
         "30.0",
         null,
         null,
         null,
         null,
         "0",
         null,
         "Acipenser transmontanus"
        ],
        [
         "4",
         "Acipenser",
         "transmontanus",
         "Chordata",
         "cone",
         null,
         "605.0",
         null,
         null,
         "adult",
         "0.0",
         null,
         "0.0",
         "30.0",
         null,
         null,
         null,
         null,
         "0",
         null,
         "Acipenser transmontanus"
        ],
        [
         "5",
         "Acipenser",
         "medirostris",
         "Chordata",
         "rod",
         null,
         "540.0",
         null,
         null,
         "adult",
         "0.0",
         null,
         "0.0",
         "43.0",
         null,
         null,
         null,
         null,
         "0",
         null,
         "Acipenser medirostris"
        ]
       ],
       "shape": {
        "columns": 20,
        "rows": 5
       }
      },
      "text/html": [
       "<div>\n",
       "<style scoped>\n",
       "    .dataframe tbody tr th:only-of-type {\n",
       "        vertical-align: middle;\n",
       "    }\n",
       "\n",
       "    .dataframe tbody tr th {\n",
       "        vertical-align: top;\n",
       "    }\n",
       "\n",
       "    .dataframe thead th {\n",
       "        text-align: right;\n",
       "    }\n",
       "</style>\n",
       "<table border=\"1\" class=\"dataframe\">\n",
       "  <thead>\n",
       "    <tr style=\"text-align: right;\">\n",
       "      <th></th>\n",
       "      <th>Genus</th>\n",
       "      <th>Species</th>\n",
       "      <th>phylum</th>\n",
       "      <th>CellType</th>\n",
       "      <th>CellSubType</th>\n",
       "      <th>LambdaMax</th>\n",
       "      <th>error</th>\n",
       "      <th>Chromophore</th>\n",
       "      <th>Stage</th>\n",
       "      <th>useable</th>\n",
       "      <th>expid</th>\n",
       "      <th>opsinid</th>\n",
       "      <th>refid</th>\n",
       "      <th>Notes</th>\n",
       "      <th>Column1</th>\n",
       "      <th>isGenusInHetero</th>\n",
       "      <th>isSpeciesInHetero</th>\n",
       "      <th>isInHetero</th>\n",
       "      <th>isVert</th>\n",
       "      <th>Full_Species</th>\n",
       "    </tr>\n",
       "    <tr>\n",
       "      <th>maxid</th>\n",
       "      <th></th>\n",
       "      <th></th>\n",
       "      <th></th>\n",
       "      <th></th>\n",
       "      <th></th>\n",
       "      <th></th>\n",
       "      <th></th>\n",
       "      <th></th>\n",
       "      <th></th>\n",
       "      <th></th>\n",
       "      <th></th>\n",
       "      <th></th>\n",
       "      <th></th>\n",
       "      <th></th>\n",
       "      <th></th>\n",
       "      <th></th>\n",
       "      <th></th>\n",
       "      <th></th>\n",
       "      <th></th>\n",
       "      <th></th>\n",
       "    </tr>\n",
       "  </thead>\n",
       "  <tbody>\n",
       "    <tr>\n",
       "      <th>1</th>\n",
       "      <td>Acipenser</td>\n",
       "      <td>transmontanus</td>\n",
       "      <td>Chordata</td>\n",
       "      <td>rod</td>\n",
       "      <td>NaN</td>\n",
       "      <td>540.0</td>\n",
       "      <td>NaN</td>\n",
       "      <td>NaN</td>\n",
       "      <td>adult</td>\n",
       "      <td>1.0</td>\n",
       "      <td>NaN</td>\n",
       "      <td>463.0</td>\n",
       "      <td>30.0</td>\n",
       "      <td>partial cds but is rod opsin</td>\n",
       "      <td>NaN</td>\n",
       "      <td>NaN</td>\n",
       "      <td>NaN</td>\n",
       "      <td>0</td>\n",
       "      <td>1.0</td>\n",
       "      <td>Acipenser transmontanus</td>\n",
       "    </tr>\n",
       "    <tr>\n",
       "      <th>2</th>\n",
       "      <td>Acipenser</td>\n",
       "      <td>transmontanus</td>\n",
       "      <td>Chordata</td>\n",
       "      <td>cone</td>\n",
       "      <td>NaN</td>\n",
       "      <td>464.0</td>\n",
       "      <td>NaN</td>\n",
       "      <td>NaN</td>\n",
       "      <td>adult</td>\n",
       "      <td>0.0</td>\n",
       "      <td>NaN</td>\n",
       "      <td>0.0</td>\n",
       "      <td>30.0</td>\n",
       "      <td>NaN</td>\n",
       "      <td>NaN</td>\n",
       "      <td>NaN</td>\n",
       "      <td>NaN</td>\n",
       "      <td>0</td>\n",
       "      <td>NaN</td>\n",
       "      <td>Acipenser transmontanus</td>\n",
       "    </tr>\n",
       "    <tr>\n",
       "      <th>3</th>\n",
       "      <td>Acipenser</td>\n",
       "      <td>transmontanus</td>\n",
       "      <td>Chordata</td>\n",
       "      <td>cone</td>\n",
       "      <td>NaN</td>\n",
       "      <td>531.0</td>\n",
       "      <td>NaN</td>\n",
       "      <td>NaN</td>\n",
       "      <td>adult</td>\n",
       "      <td>0.0</td>\n",
       "      <td>NaN</td>\n",
       "      <td>0.0</td>\n",
       "      <td>30.0</td>\n",
       "      <td>NaN</td>\n",
       "      <td>NaN</td>\n",
       "      <td>NaN</td>\n",
       "      <td>NaN</td>\n",
       "      <td>0</td>\n",
       "      <td>NaN</td>\n",
       "      <td>Acipenser transmontanus</td>\n",
       "    </tr>\n",
       "    <tr>\n",
       "      <th>4</th>\n",
       "      <td>Acipenser</td>\n",
       "      <td>transmontanus</td>\n",
       "      <td>Chordata</td>\n",
       "      <td>cone</td>\n",
       "      <td>NaN</td>\n",
       "      <td>605.0</td>\n",
       "      <td>NaN</td>\n",
       "      <td>NaN</td>\n",
       "      <td>adult</td>\n",
       "      <td>0.0</td>\n",
       "      <td>NaN</td>\n",
       "      <td>0.0</td>\n",
       "      <td>30.0</td>\n",
       "      <td>NaN</td>\n",
       "      <td>NaN</td>\n",
       "      <td>NaN</td>\n",
       "      <td>NaN</td>\n",
       "      <td>0</td>\n",
       "      <td>NaN</td>\n",
       "      <td>Acipenser transmontanus</td>\n",
       "    </tr>\n",
       "    <tr>\n",
       "      <th>5</th>\n",
       "      <td>Acipenser</td>\n",
       "      <td>medirostris</td>\n",
       "      <td>Chordata</td>\n",
       "      <td>rod</td>\n",
       "      <td>NaN</td>\n",
       "      <td>540.0</td>\n",
       "      <td>NaN</td>\n",
       "      <td>NaN</td>\n",
       "      <td>adult</td>\n",
       "      <td>0.0</td>\n",
       "      <td>NaN</td>\n",
       "      <td>0.0</td>\n",
       "      <td>43.0</td>\n",
       "      <td>NaN</td>\n",
       "      <td>NaN</td>\n",
       "      <td>NaN</td>\n",
       "      <td>NaN</td>\n",
       "      <td>0</td>\n",
       "      <td>NaN</td>\n",
       "      <td>Acipenser medirostris</td>\n",
       "    </tr>\n",
       "  </tbody>\n",
       "</table>\n",
       "</div>"
      ],
      "text/plain": [
       "           Genus        Species    phylum CellType CellSubType  LambdaMax  \\\n",
       "maxid                                                                       \n",
       "1      Acipenser  transmontanus  Chordata      rod         NaN      540.0   \n",
       "2      Acipenser  transmontanus  Chordata     cone         NaN      464.0   \n",
       "3      Acipenser  transmontanus  Chordata     cone         NaN      531.0   \n",
       "4      Acipenser  transmontanus  Chordata     cone         NaN      605.0   \n",
       "5      Acipenser    medirostris  Chordata      rod         NaN      540.0   \n",
       "\n",
       "       error Chromophore  Stage  useable  expid  opsinid  refid  \\\n",
       "maxid                                                             \n",
       "1        NaN         NaN  adult      1.0    NaN    463.0   30.0   \n",
       "2        NaN         NaN  adult      0.0    NaN      0.0   30.0   \n",
       "3        NaN         NaN  adult      0.0    NaN      0.0   30.0   \n",
       "4        NaN         NaN  adult      0.0    NaN      0.0   30.0   \n",
       "5        NaN         NaN  adult      0.0    NaN      0.0   43.0   \n",
       "\n",
       "                              Notes Column1  isGenusInHetero  \\\n",
       "maxid                                                          \n",
       "1      partial cds but is rod opsin     NaN              NaN   \n",
       "2                               NaN     NaN              NaN   \n",
       "3                               NaN     NaN              NaN   \n",
       "4                               NaN     NaN              NaN   \n",
       "5                               NaN     NaN              NaN   \n",
       "\n",
       "       isSpeciesInHetero  isInHetero  isVert             Full_Species  \n",
       "maxid                                                                  \n",
       "1                    NaN           0     1.0  Acipenser transmontanus  \n",
       "2                    NaN           0     NaN  Acipenser transmontanus  \n",
       "3                    NaN           0     NaN  Acipenser transmontanus  \n",
       "4                    NaN           0     NaN  Acipenser transmontanus  \n",
       "5                    NaN           0     NaN    Acipenser medirostris  "
      ]
     },
     "execution_count": 4,
     "metadata": {},
     "output_type": "execute_result"
    }
   ],
   "source": [
    "scp_file = f'{report_dir}/vpod/scp_cleaned.txt'\n",
    "scp_df = pd.read_csv(scp_file, index_col=0, sep='\\t')\n",
    "scp_df['Full_Species'] = (scp_df['Genus'] + ' ' + scp_df['Species']).to_list()\n",
    "df_list.append(scp_df)\n",
    "scp_df.head()"
   ]
  },
  {
   "cell_type": "code",
   "execution_count": 5,
   "metadata": {},
   "outputs": [],
   "source": [
    "species_list+=scp_df['Full_Species'].to_list()"
   ]
  },
  {
   "cell_type": "markdown",
   "metadata": {},
   "source": [
    "### <font color=#c994c7>Longcore - 'Animal Photopigments' Datatable</font>\n",
    "\n",
    "### In this next case our dataframe has the full species name in one column so we can create a list directly and filter to create a list of all unique species names\n"
   ]
  },
  {
   "cell_type": "code",
   "execution_count": 6,
   "metadata": {},
   "outputs": [
    {
     "data": {
      "application/vnd.microsoft.datawrangler.viewer.v0+json": {
       "columns": [
        {
         "name": "longcore_id",
         "rawType": "int64",
         "type": "integer"
        },
        {
         "name": "Phylum",
         "rawType": "object",
         "type": "string"
        },
        {
         "name": "Class",
         "rawType": "object",
         "type": "string"
        },
        {
         "name": "Order",
         "rawType": "object",
         "type": "string"
        },
        {
         "name": "Family",
         "rawType": "object",
         "type": "string"
        },
        {
         "name": "Full_Species",
         "rawType": "object",
         "type": "string"
        },
        {
         "name": "Type",
         "rawType": "object",
         "type": "unknown"
        },
        {
         "name": "LambdaMax",
         "rawType": "int64",
         "type": "integer"
        },
        {
         "name": "Band",
         "rawType": "object",
         "type": "unknown"
        },
        {
         "name": "Oil",
         "rawType": "float64",
         "type": "float"
        },
        {
         "name": "Nocturnal Activity",
         "rawType": "object",
         "type": "string"
        },
        {
         "name": "Diurnal Activity",
         "rawType": "object",
         "type": "string"
        },
        {
         "name": "Reference",
         "rawType": "object",
         "type": "string"
        }
       ],
       "conversionMethod": "pd.DataFrame",
       "ref": "13943259-3883-42b5-9df5-98de2b1c23f4",
       "rows": [
        [
         "0",
         "Arthropoda",
         "Arachnida",
         "Aranae",
         "Araneidae",
         "Argiope amoena",
         null,
         "360",
         null,
         null,
         "Y",
         "Y",
         "Yamashita & Tateda 1978"
        ],
        [
         "1",
         "Arthropoda",
         "Arachnida",
         "Aranae",
         "Araneidae",
         "Argiope amoena",
         null,
         "490",
         null,
         null,
         "Y",
         "Y",
         "Yamashita & Tateda 1978"
        ],
        [
         "2",
         "Arthropoda",
         "Arachnida",
         "Aranae",
         "Araneidae",
         "Argiope amoena",
         null,
         "540",
         null,
         null,
         "Y",
         "Y",
         "Yamashita & Tateda 1978"
        ],
        [
         "3",
         "Arthropoda",
         "Arachnida",
         "Aranae",
         "Araneidae",
         "Argiope bruennichi",
         null,
         "360",
         null,
         null,
         "Y",
         "Y",
         "Yamashita & Tateda 1978"
        ],
        [
         "4",
         "Arthropoda",
         "Arachnida",
         "Aranae",
         "Araneidae",
         "Argiope bruennichi",
         null,
         "490",
         null,
         null,
         "Y",
         "Y",
         "Yamashita & Tateda 1978"
        ]
       ],
       "shape": {
        "columns": 12,
        "rows": 5
       }
      },
      "text/html": [
       "<div>\n",
       "<style scoped>\n",
       "    .dataframe tbody tr th:only-of-type {\n",
       "        vertical-align: middle;\n",
       "    }\n",
       "\n",
       "    .dataframe tbody tr th {\n",
       "        vertical-align: top;\n",
       "    }\n",
       "\n",
       "    .dataframe thead th {\n",
       "        text-align: right;\n",
       "    }\n",
       "</style>\n",
       "<table border=\"1\" class=\"dataframe\">\n",
       "  <thead>\n",
       "    <tr style=\"text-align: right;\">\n",
       "      <th></th>\n",
       "      <th>Phylum</th>\n",
       "      <th>Class</th>\n",
       "      <th>Order</th>\n",
       "      <th>Family</th>\n",
       "      <th>Full_Species</th>\n",
       "      <th>Type</th>\n",
       "      <th>LambdaMax</th>\n",
       "      <th>Band</th>\n",
       "      <th>Oil</th>\n",
       "      <th>Nocturnal Activity</th>\n",
       "      <th>Diurnal Activity</th>\n",
       "      <th>Reference</th>\n",
       "    </tr>\n",
       "    <tr>\n",
       "      <th>longcore_id</th>\n",
       "      <th></th>\n",
       "      <th></th>\n",
       "      <th></th>\n",
       "      <th></th>\n",
       "      <th></th>\n",
       "      <th></th>\n",
       "      <th></th>\n",
       "      <th></th>\n",
       "      <th></th>\n",
       "      <th></th>\n",
       "      <th></th>\n",
       "      <th></th>\n",
       "    </tr>\n",
       "  </thead>\n",
       "  <tbody>\n",
       "    <tr>\n",
       "      <th>0</th>\n",
       "      <td>Arthropoda</td>\n",
       "      <td>Arachnida</td>\n",
       "      <td>Aranae</td>\n",
       "      <td>Araneidae</td>\n",
       "      <td>Argiope amoena</td>\n",
       "      <td>NaN</td>\n",
       "      <td>360</td>\n",
       "      <td>NaN</td>\n",
       "      <td>NaN</td>\n",
       "      <td>Y</td>\n",
       "      <td>Y</td>\n",
       "      <td>Yamashita &amp; Tateda 1978</td>\n",
       "    </tr>\n",
       "    <tr>\n",
       "      <th>1</th>\n",
       "      <td>Arthropoda</td>\n",
       "      <td>Arachnida</td>\n",
       "      <td>Aranae</td>\n",
       "      <td>Araneidae</td>\n",
       "      <td>Argiope amoena</td>\n",
       "      <td>NaN</td>\n",
       "      <td>490</td>\n",
       "      <td>NaN</td>\n",
       "      <td>NaN</td>\n",
       "      <td>Y</td>\n",
       "      <td>Y</td>\n",
       "      <td>Yamashita &amp; Tateda 1978</td>\n",
       "    </tr>\n",
       "    <tr>\n",
       "      <th>2</th>\n",
       "      <td>Arthropoda</td>\n",
       "      <td>Arachnida</td>\n",
       "      <td>Aranae</td>\n",
       "      <td>Araneidae</td>\n",
       "      <td>Argiope amoena</td>\n",
       "      <td>NaN</td>\n",
       "      <td>540</td>\n",
       "      <td>NaN</td>\n",
       "      <td>NaN</td>\n",
       "      <td>Y</td>\n",
       "      <td>Y</td>\n",
       "      <td>Yamashita &amp; Tateda 1978</td>\n",
       "    </tr>\n",
       "    <tr>\n",
       "      <th>3</th>\n",
       "      <td>Arthropoda</td>\n",
       "      <td>Arachnida</td>\n",
       "      <td>Aranae</td>\n",
       "      <td>Araneidae</td>\n",
       "      <td>Argiope bruennichi</td>\n",
       "      <td>NaN</td>\n",
       "      <td>360</td>\n",
       "      <td>NaN</td>\n",
       "      <td>NaN</td>\n",
       "      <td>Y</td>\n",
       "      <td>Y</td>\n",
       "      <td>Yamashita &amp; Tateda 1978</td>\n",
       "    </tr>\n",
       "    <tr>\n",
       "      <th>4</th>\n",
       "      <td>Arthropoda</td>\n",
       "      <td>Arachnida</td>\n",
       "      <td>Aranae</td>\n",
       "      <td>Araneidae</td>\n",
       "      <td>Argiope bruennichi</td>\n",
       "      <td>NaN</td>\n",
       "      <td>490</td>\n",
       "      <td>NaN</td>\n",
       "      <td>NaN</td>\n",
       "      <td>Y</td>\n",
       "      <td>Y</td>\n",
       "      <td>Yamashita &amp; Tateda 1978</td>\n",
       "    </tr>\n",
       "  </tbody>\n",
       "</table>\n",
       "</div>"
      ],
      "text/plain": [
       "                 Phylum      Class   Order     Family        Full_Species  \\\n",
       "longcore_id                                                                 \n",
       "0            Arthropoda  Arachnida  Aranae  Araneidae      Argiope amoena   \n",
       "1            Arthropoda  Arachnida  Aranae  Araneidae      Argiope amoena   \n",
       "2            Arthropoda  Arachnida  Aranae  Araneidae      Argiope amoena   \n",
       "3            Arthropoda  Arachnida  Aranae  Araneidae  Argiope bruennichi   \n",
       "4            Arthropoda  Arachnida  Aranae  Araneidae  Argiope bruennichi   \n",
       "\n",
       "            Type  LambdaMax Band  Oil Nocturnal Activity Diurnal Activity  \\\n",
       "longcore_id                                                                 \n",
       "0            NaN        360  NaN  NaN                  Y                Y   \n",
       "1            NaN        490  NaN  NaN                  Y                Y   \n",
       "2            NaN        540  NaN  NaN                  Y                Y   \n",
       "3            NaN        360  NaN  NaN                  Y                Y   \n",
       "4            NaN        490  NaN  NaN                  Y                Y   \n",
       "\n",
       "                           Reference  \n",
       "longcore_id                           \n",
       "0            Yamashita & Tateda 1978  \n",
       "1            Yamashita & Tateda 1978  \n",
       "2            Yamashita & Tateda 1978  \n",
       "3            Yamashita & Tateda 1978  \n",
       "4            Yamashita & Tateda 1978  "
      ]
     },
     "execution_count": 6,
     "metadata": {},
     "output_type": "execute_result"
    }
   ],
   "source": [
    "longcore_file = f'{report_dir}/longcore_data/AnimalPhotopigmentsV1_1.csv'\n",
    "longcore_df = pd.read_csv(longcore_file, index_col=0)\n",
    "df_list.append(longcore_df)\n",
    "longcore_df.head()"
   ]
  },
  {
   "cell_type": "code",
   "execution_count": 7,
   "metadata": {},
   "outputs": [],
   "source": [
    "species_list+=longcore_df['Full_Species'].to_list()"
   ]
  },
  {
   "cell_type": "markdown",
   "metadata": {},
   "source": [
    "### <font color=#c994c7>Murphy and Westerman Datatable</font>"
   ]
  },
  {
   "cell_type": "code",
   "execution_count": 8,
   "metadata": {},
   "outputs": [
    {
     "data": {
      "application/vnd.microsoft.datawrangler.viewer.v0+json": {
       "columns": [
        {
         "name": "murwes_id",
         "rawType": "int64",
         "type": "integer"
        },
        {
         "name": "Full_Species",
         "rawType": "object",
         "type": "string"
        },
        {
         "name": "LambdaMax",
         "rawType": "float64",
         "type": "float"
        },
        {
         "name": "SD",
         "rawType": "object",
         "type": "string"
        },
        {
         "name": "N",
         "rawType": "object",
         "type": "string"
        },
        {
         "name": "refid",
         "rawType": "object",
         "type": "string"
        },
        {
         "name": "Lineage",
         "rawType": "object",
         "type": "string"
        }
       ],
       "conversionMethod": "pd.DataFrame",
       "ref": "e768cea8-4ad1-4c36-8ba5-69264518f9e4",
       "rows": [
        [
         "0",
         "Aglais urticae",
         "360.0",
         "–",
         "†",
         "[1]",
         "Arthropod"
        ],
        [
         "1",
         "Agraulis vanillae",
         "370.0",
         "–",
         "†",
         "[2]",
         "Arthropod"
        ],
        [
         "2",
         "Alima pacifica",
         "467.0",
         "–",
         "5",
         "[4]",
         "Arthropod"
        ],
        [
         "3",
         "Antheraea polyphemus",
         "355.0",
         "–",
         "20",
         "[5]",
         "Arthropod"
        ],
        [
         "4",
         "Apodemia mormo",
         "556.0",
         "–",
         "†",
         "[3]",
         "Arthropod"
        ]
       ],
       "shape": {
        "columns": 6,
        "rows": 5
       }
      },
      "text/html": [
       "<div>\n",
       "<style scoped>\n",
       "    .dataframe tbody tr th:only-of-type {\n",
       "        vertical-align: middle;\n",
       "    }\n",
       "\n",
       "    .dataframe tbody tr th {\n",
       "        vertical-align: top;\n",
       "    }\n",
       "\n",
       "    .dataframe thead th {\n",
       "        text-align: right;\n",
       "    }\n",
       "</style>\n",
       "<table border=\"1\" class=\"dataframe\">\n",
       "  <thead>\n",
       "    <tr style=\"text-align: right;\">\n",
       "      <th></th>\n",
       "      <th>Full_Species</th>\n",
       "      <th>LambdaMax</th>\n",
       "      <th>SD</th>\n",
       "      <th>N</th>\n",
       "      <th>refid</th>\n",
       "      <th>Lineage</th>\n",
       "    </tr>\n",
       "    <tr>\n",
       "      <th>murwes_id</th>\n",
       "      <th></th>\n",
       "      <th></th>\n",
       "      <th></th>\n",
       "      <th></th>\n",
       "      <th></th>\n",
       "      <th></th>\n",
       "    </tr>\n",
       "  </thead>\n",
       "  <tbody>\n",
       "    <tr>\n",
       "      <th>0</th>\n",
       "      <td>Aglais urticae</td>\n",
       "      <td>360.0</td>\n",
       "      <td>–</td>\n",
       "      <td>†</td>\n",
       "      <td>[1]</td>\n",
       "      <td>Arthropod</td>\n",
       "    </tr>\n",
       "    <tr>\n",
       "      <th>1</th>\n",
       "      <td>Agraulis vanillae</td>\n",
       "      <td>370.0</td>\n",
       "      <td>–</td>\n",
       "      <td>†</td>\n",
       "      <td>[2]</td>\n",
       "      <td>Arthropod</td>\n",
       "    </tr>\n",
       "    <tr>\n",
       "      <th>2</th>\n",
       "      <td>Alima pacifica</td>\n",
       "      <td>467.0</td>\n",
       "      <td>–</td>\n",
       "      <td>5</td>\n",
       "      <td>[4]</td>\n",
       "      <td>Arthropod</td>\n",
       "    </tr>\n",
       "    <tr>\n",
       "      <th>3</th>\n",
       "      <td>Antheraea polyphemus</td>\n",
       "      <td>355.0</td>\n",
       "      <td>–</td>\n",
       "      <td>20</td>\n",
       "      <td>[5]</td>\n",
       "      <td>Arthropod</td>\n",
       "    </tr>\n",
       "    <tr>\n",
       "      <th>4</th>\n",
       "      <td>Apodemia mormo</td>\n",
       "      <td>556.0</td>\n",
       "      <td>–</td>\n",
       "      <td>†</td>\n",
       "      <td>[3]</td>\n",
       "      <td>Arthropod</td>\n",
       "    </tr>\n",
       "  </tbody>\n",
       "</table>\n",
       "</div>"
      ],
      "text/plain": [
       "                   Full_Species  LambdaMax SD   N refid    Lineage\n",
       "murwes_id                                                         \n",
       "0                Aglais urticae      360.0  –   †   [1]  Arthropod\n",
       "1             Agraulis vanillae      370.0  –   †   [2]  Arthropod\n",
       "2                Alima pacifica      467.0  –   5   [4]  Arthropod\n",
       "3          Antheraea polyphemus      355.0  –  20   [5]  Arthropod\n",
       "4                Apodemia mormo      556.0  –   †   [3]  Arthropod"
      ]
     },
     "execution_count": 8,
     "metadata": {},
     "output_type": "execute_result"
    }
   ],
   "source": [
    "murphy_westerman_file = f'{report_dir}/murphy_westerman/Murphy and Westerman.csv'\n",
    "murphy_westerman_df = pd.read_csv(murphy_westerman_file, index_col=0)\n",
    "df_list.append(murphy_westerman_df)\n",
    "murphy_westerman_df.head()"
   ]
  },
  {
   "cell_type": "code",
   "execution_count": 9,
   "metadata": {},
   "outputs": [],
   "source": [
    "species_list+=murphy_westerman_df['Full_Species'].to_list()"
   ]
  },
  {
   "cell_type": "markdown",
   "metadata": {},
   "source": [
    "### <font color=#c994c7>Caves 'Fish' Datatable</font>"
   ]
  },
  {
   "cell_type": "code",
   "execution_count": 10,
   "metadata": {},
   "outputs": [
    {
     "data": {
      "application/vnd.microsoft.datawrangler.viewer.v0+json": {
       "columns": [
        {
         "name": "caves_id",
         "rawType": "int64",
         "type": "integer"
        },
        {
         "name": "Family",
         "rawType": "object",
         "type": "string"
        },
        {
         "name": "Genus",
         "rawType": "object",
         "type": "string"
        },
        {
         "name": "Species",
         "rawType": "object",
         "type": "string"
        },
        {
         "name": "LambdaMax",
         "rawType": "int64",
         "type": "integer"
        },
        {
         "name": "refid",
         "rawType": "object",
         "type": "string"
        },
        {
         "name": "Full_Species",
         "rawType": "object",
         "type": "string"
        }
       ],
       "conversionMethod": "pd.DataFrame",
       "ref": "80a03949-fe63-4eda-b659-3a58699c5755",
       "rows": [
        [
         "0",
         "Acipenseridae",
         "Acipenser",
         "baerii",
         "549",
         "[22]",
         "Acipenser baerii"
        ],
        [
         "1",
         "Acipenseridae",
         "Acipenser",
         "medirostrus",
         "540",
         "[60]",
         "Acipenser medirostrus"
        ],
        [
         "2",
         "Acipenseridae",
         "Acipenser",
         "ruthenus",
         "545",
         "[21]",
         "Acipenser ruthenus"
        ],
        [
         "3",
         "Acipenseridae",
         "Acipenser",
         "transmontanus",
         "540",
         "[39] ; [58]",
         "Acipenser transmontanus"
        ],
        [
         "4",
         "Acipenseridae",
         "Scaphirhynchus",
         "albus",
         "538",
         "[60]",
         "Scaphirhynchus albus"
        ]
       ],
       "shape": {
        "columns": 6,
        "rows": 5
       }
      },
      "text/html": [
       "<div>\n",
       "<style scoped>\n",
       "    .dataframe tbody tr th:only-of-type {\n",
       "        vertical-align: middle;\n",
       "    }\n",
       "\n",
       "    .dataframe tbody tr th {\n",
       "        vertical-align: top;\n",
       "    }\n",
       "\n",
       "    .dataframe thead th {\n",
       "        text-align: right;\n",
       "    }\n",
       "</style>\n",
       "<table border=\"1\" class=\"dataframe\">\n",
       "  <thead>\n",
       "    <tr style=\"text-align: right;\">\n",
       "      <th></th>\n",
       "      <th>Family</th>\n",
       "      <th>Genus</th>\n",
       "      <th>Species</th>\n",
       "      <th>LambdaMax</th>\n",
       "      <th>refid</th>\n",
       "      <th>Full_Species</th>\n",
       "    </tr>\n",
       "    <tr>\n",
       "      <th>caves_id</th>\n",
       "      <th></th>\n",
       "      <th></th>\n",
       "      <th></th>\n",
       "      <th></th>\n",
       "      <th></th>\n",
       "      <th></th>\n",
       "    </tr>\n",
       "  </thead>\n",
       "  <tbody>\n",
       "    <tr>\n",
       "      <th>0</th>\n",
       "      <td>Acipenseridae</td>\n",
       "      <td>Acipenser</td>\n",
       "      <td>baerii</td>\n",
       "      <td>549</td>\n",
       "      <td>[22]</td>\n",
       "      <td>Acipenser baerii</td>\n",
       "    </tr>\n",
       "    <tr>\n",
       "      <th>1</th>\n",
       "      <td>Acipenseridae</td>\n",
       "      <td>Acipenser</td>\n",
       "      <td>medirostrus</td>\n",
       "      <td>540</td>\n",
       "      <td>[60]</td>\n",
       "      <td>Acipenser medirostrus</td>\n",
       "    </tr>\n",
       "    <tr>\n",
       "      <th>2</th>\n",
       "      <td>Acipenseridae</td>\n",
       "      <td>Acipenser</td>\n",
       "      <td>ruthenus</td>\n",
       "      <td>545</td>\n",
       "      <td>[21]</td>\n",
       "      <td>Acipenser ruthenus</td>\n",
       "    </tr>\n",
       "    <tr>\n",
       "      <th>3</th>\n",
       "      <td>Acipenseridae</td>\n",
       "      <td>Acipenser</td>\n",
       "      <td>transmontanus</td>\n",
       "      <td>540</td>\n",
       "      <td>[39] ; [58]</td>\n",
       "      <td>Acipenser transmontanus</td>\n",
       "    </tr>\n",
       "    <tr>\n",
       "      <th>4</th>\n",
       "      <td>Acipenseridae</td>\n",
       "      <td>Scaphirhynchus</td>\n",
       "      <td>albus</td>\n",
       "      <td>538</td>\n",
       "      <td>[60]</td>\n",
       "      <td>Scaphirhynchus albus</td>\n",
       "    </tr>\n",
       "  </tbody>\n",
       "</table>\n",
       "</div>"
      ],
      "text/plain": [
       "                 Family           Genus        Species  LambdaMax  \\\n",
       "caves_id                                                            \n",
       "0         Acipenseridae       Acipenser         baerii        549   \n",
       "1         Acipenseridae       Acipenser    medirostrus        540   \n",
       "2         Acipenseridae       Acipenser       ruthenus        545   \n",
       "3         Acipenseridae       Acipenser  transmontanus        540   \n",
       "4         Acipenseridae  Scaphirhynchus          albus        538   \n",
       "\n",
       "                refid             Full_Species  \n",
       "caves_id                                        \n",
       "0                [22]         Acipenser baerii  \n",
       "1                [60]    Acipenser medirostrus  \n",
       "2                [21]       Acipenser ruthenus  \n",
       "3         [39] ; [58]  Acipenser transmontanus  \n",
       "4                [60]     Scaphirhynchus albus  "
      ]
     },
     "execution_count": 10,
     "metadata": {},
     "output_type": "execute_result"
    }
   ],
   "source": [
    "caves_fish_db_file = f'{report_dir}/caves/caves_fish_db.csv'\n",
    "caves_df = pd.read_csv(caves_fish_db_file, index_col=0)\n",
    "caves_df['Full_Species'] = (caves_df['Genus'] + ' ' + caves_df['Species']).to_list()\n",
    "df_list.append(caves_df)\n",
    "caves_df.head()"
   ]
  },
  {
   "cell_type": "code",
   "execution_count": 11,
   "metadata": {},
   "outputs": [],
   "source": [
    "species_list+=caves_df['Full_Species'].to_list()"
   ]
  },
  {
   "cell_type": "markdown",
   "metadata": {},
   "source": [
    "### <font color=#c994c7>Morgan Porter's Datatables</font>"
   ]
  },
  {
   "cell_type": "code",
   "execution_count": 12,
   "metadata": {},
   "outputs": [
    {
     "data": {
      "application/vnd.microsoft.datawrangler.viewer.v0+json": {
       "columns": [
        {
         "name": "porter2005_id",
         "rawType": "int64",
         "type": "integer"
        },
        {
         "name": "Full_Species",
         "rawType": "object",
         "type": "string"
        },
        {
         "name": "Habitat",
         "rawType": "object",
         "type": "unknown"
        },
        {
         "name": "method",
         "rawType": "object",
         "type": "string"
        },
        {
         "name": "LambdaMax",
         "rawType": "object",
         "type": "string"
        },
        {
         "name": "Reference",
         "rawType": "object",
         "type": "string"
        },
        {
         "name": "Accession",
         "rawType": "object",
         "type": "unknown"
        }
       ],
       "conversionMethod": "pd.DataFrame",
       "ref": "88598571-26a0-4828-821a-a49de77ee713",
       "rows": [
        [
         "0",
         "Artemia salina",
         null,
         "EON",
         "410",
         "(Hertel 1972)",
         null
        ],
        [
         "1",
         "Daphnia magna",
         null,
         "VC",
         "348, 434, 525, 608",
         "(Smith and Macagno 1990)",
         null
        ],
        [
         "2",
         "Acartia tonsa",
         null,
         "BP",
         "450-520",
         "(Stearns and Forward 1984)",
         null
        ],
        [
         "3",
         "Balanus amphitrite",
         null,
         "ERG",
         "532",
         "(Hillman et al. 1973)",
         null
        ],
        [
         "4",
         "Balanus amphitrite",
         null,
         "MSP",
         "532",
         "(Minke and Kirschfield 1978)",
         null
        ]
       ],
       "shape": {
        "columns": 6,
        "rows": 5
       }
      },
      "text/html": [
       "<div>\n",
       "<style scoped>\n",
       "    .dataframe tbody tr th:only-of-type {\n",
       "        vertical-align: middle;\n",
       "    }\n",
       "\n",
       "    .dataframe tbody tr th {\n",
       "        vertical-align: top;\n",
       "    }\n",
       "\n",
       "    .dataframe thead th {\n",
       "        text-align: right;\n",
       "    }\n",
       "</style>\n",
       "<table border=\"1\" class=\"dataframe\">\n",
       "  <thead>\n",
       "    <tr style=\"text-align: right;\">\n",
       "      <th></th>\n",
       "      <th>Full_Species</th>\n",
       "      <th>Habitat</th>\n",
       "      <th>method</th>\n",
       "      <th>LambdaMax</th>\n",
       "      <th>Reference</th>\n",
       "      <th>Accession</th>\n",
       "    </tr>\n",
       "    <tr>\n",
       "      <th>porter2005_id</th>\n",
       "      <th></th>\n",
       "      <th></th>\n",
       "      <th></th>\n",
       "      <th></th>\n",
       "      <th></th>\n",
       "      <th></th>\n",
       "    </tr>\n",
       "  </thead>\n",
       "  <tbody>\n",
       "    <tr>\n",
       "      <th>0</th>\n",
       "      <td>Artemia salina</td>\n",
       "      <td>NaN</td>\n",
       "      <td>EON</td>\n",
       "      <td>410</td>\n",
       "      <td>(Hertel 1972)</td>\n",
       "      <td>NaN</td>\n",
       "    </tr>\n",
       "    <tr>\n",
       "      <th>1</th>\n",
       "      <td>Daphnia magna</td>\n",
       "      <td>NaN</td>\n",
       "      <td>VC</td>\n",
       "      <td>348, 434, 525, 608</td>\n",
       "      <td>(Smith and Macagno 1990)</td>\n",
       "      <td>NaN</td>\n",
       "    </tr>\n",
       "    <tr>\n",
       "      <th>2</th>\n",
       "      <td>Acartia tonsa</td>\n",
       "      <td>NaN</td>\n",
       "      <td>BP</td>\n",
       "      <td>450-520</td>\n",
       "      <td>(Stearns and Forward 1984)</td>\n",
       "      <td>NaN</td>\n",
       "    </tr>\n",
       "    <tr>\n",
       "      <th>3</th>\n",
       "      <td>Balanus amphitrite</td>\n",
       "      <td>NaN</td>\n",
       "      <td>ERG</td>\n",
       "      <td>532</td>\n",
       "      <td>(Hillman et al. 1973)</td>\n",
       "      <td>NaN</td>\n",
       "    </tr>\n",
       "    <tr>\n",
       "      <th>4</th>\n",
       "      <td>Balanus amphitrite</td>\n",
       "      <td>NaN</td>\n",
       "      <td>MSP</td>\n",
       "      <td>532</td>\n",
       "      <td>(Minke and Kirschfield 1978)</td>\n",
       "      <td>NaN</td>\n",
       "    </tr>\n",
       "  </tbody>\n",
       "</table>\n",
       "</div>"
      ],
      "text/plain": [
       "                     Full_Species Habitat method           LambdaMax  \\\n",
       "porter2005_id                                                          \n",
       "0                  Artemia salina     NaN    EON                 410   \n",
       "1                   Daphnia magna     NaN     VC  348, 434, 525, 608   \n",
       "2                   Acartia tonsa     NaN     BP             450-520   \n",
       "3              Balanus amphitrite     NaN    ERG                 532   \n",
       "4              Balanus amphitrite     NaN    MSP                 532   \n",
       "\n",
       "                                  Reference Accession  \n",
       "porter2005_id                                          \n",
       "0                             (Hertel 1972)       NaN  \n",
       "1                  (Smith and Macagno 1990)       NaN  \n",
       "2                (Stearns and Forward 1984)       NaN  \n",
       "3                     (Hillman et al. 1973)       NaN  \n",
       "4              (Minke and Kirschfield 1978)       NaN  "
      ]
     },
     "execution_count": 12,
     "metadata": {},
     "output_type": "execute_result"
    }
   ],
   "source": [
    "porter_file1 = f'{report_dir}/megan_porter/megan_porter_extract_clean_2005.csv'\n",
    "porter_df1 = pd.read_csv(porter_file1, index_col=0)\n",
    "porter_df2 = pd.read_csv(f'{report_dir}/megan_porter/porter_2006_table1_clean.tsv', sep='\\t', index_col=0)\n",
    "df_list.append(porter_df1)\n",
    "df_list.append(porter_df2)\n",
    "porter_df1.head()"
   ]
  },
  {
   "cell_type": "code",
   "execution_count": 13,
   "metadata": {},
   "outputs": [
    {
     "data": {
      "application/vnd.microsoft.datawrangler.viewer.v0+json": {
       "columns": [
        {
         "name": "porter2006_id",
         "rawType": "int64",
         "type": "integer"
        },
        {
         "name": "Full_Species",
         "rawType": "object",
         "type": "string"
        },
        {
         "name": "Accession",
         "rawType": "object",
         "type": "string"
        },
        {
         "name": "LambdaMax",
         "rawType": "object",
         "type": "string"
        },
        {
         "name": "Reference",
         "rawType": "object",
         "type": "string"
        }
       ],
       "conversionMethod": "pd.DataFrame",
       "ref": "7f3be2bf-471e-4f95-a39b-bb24460fd3a1",
       "rows": [
        [
         "0",
         "Loligo forbesii",
         "X56788",
         "494",
         "Morris et al. (1993)"
        ],
        [
         "1",
         "Loligo pealii",
         "AY450853",
         "493",
         "Brown PK and Brown PS (1958), Hubbard and St George (1958)"
        ],
        [
         "2",
         "Loligo subulata",
         "Z49108",
         "499",
         "Morris et al. (1993)"
        ],
        [
         "3",
         "Sepia officinalis",
         "AF000947",
         "492",
         "Brown PK and Brown PS (1958)"
        ],
        [
         "4",
         "Todarodes pacificus",
         "X70498",
         "480",
         "Naito et al. (1981)"
        ]
       ],
       "shape": {
        "columns": 4,
        "rows": 5
       }
      },
      "text/html": [
       "<div>\n",
       "<style scoped>\n",
       "    .dataframe tbody tr th:only-of-type {\n",
       "        vertical-align: middle;\n",
       "    }\n",
       "\n",
       "    .dataframe tbody tr th {\n",
       "        vertical-align: top;\n",
       "    }\n",
       "\n",
       "    .dataframe thead th {\n",
       "        text-align: right;\n",
       "    }\n",
       "</style>\n",
       "<table border=\"1\" class=\"dataframe\">\n",
       "  <thead>\n",
       "    <tr style=\"text-align: right;\">\n",
       "      <th></th>\n",
       "      <th>Full_Species</th>\n",
       "      <th>Accession</th>\n",
       "      <th>LambdaMax</th>\n",
       "      <th>Reference</th>\n",
       "    </tr>\n",
       "    <tr>\n",
       "      <th>porter2006_id</th>\n",
       "      <th></th>\n",
       "      <th></th>\n",
       "      <th></th>\n",
       "      <th></th>\n",
       "    </tr>\n",
       "  </thead>\n",
       "  <tbody>\n",
       "    <tr>\n",
       "      <th>0</th>\n",
       "      <td>Loligo forbesii</td>\n",
       "      <td>X56788</td>\n",
       "      <td>494</td>\n",
       "      <td>Morris et al. (1993)</td>\n",
       "    </tr>\n",
       "    <tr>\n",
       "      <th>1</th>\n",
       "      <td>Loligo pealii</td>\n",
       "      <td>AY450853</td>\n",
       "      <td>493</td>\n",
       "      <td>Brown PK and Brown PS (1958), Hubbard and St G...</td>\n",
       "    </tr>\n",
       "    <tr>\n",
       "      <th>2</th>\n",
       "      <td>Loligo subulata</td>\n",
       "      <td>Z49108</td>\n",
       "      <td>499</td>\n",
       "      <td>Morris et al. (1993)</td>\n",
       "    </tr>\n",
       "    <tr>\n",
       "      <th>3</th>\n",
       "      <td>Sepia officinalis</td>\n",
       "      <td>AF000947</td>\n",
       "      <td>492</td>\n",
       "      <td>Brown PK and Brown PS (1958)</td>\n",
       "    </tr>\n",
       "    <tr>\n",
       "      <th>4</th>\n",
       "      <td>Todarodes pacificus</td>\n",
       "      <td>X70498</td>\n",
       "      <td>480</td>\n",
       "      <td>Naito et al. (1981)</td>\n",
       "    </tr>\n",
       "  </tbody>\n",
       "</table>\n",
       "</div>"
      ],
      "text/plain": [
       "                      Full_Species Accession LambdaMax  \\\n",
       "porter2006_id                                            \n",
       "0                  Loligo forbesii    X56788       494   \n",
       "1                    Loligo pealii  AY450853       493   \n",
       "2                  Loligo subulata    Z49108       499   \n",
       "3                Sepia officinalis  AF000947       492   \n",
       "4              Todarodes pacificus    X70498       480   \n",
       "\n",
       "                                                       Reference  \n",
       "porter2006_id                                                     \n",
       "0                                           Morris et al. (1993)  \n",
       "1              Brown PK and Brown PS (1958), Hubbard and St G...  \n",
       "2                                           Morris et al. (1993)  \n",
       "3                                   Brown PK and Brown PS (1958)  \n",
       "4                                            Naito et al. (1981)  "
      ]
     },
     "execution_count": 13,
     "metadata": {},
     "output_type": "execute_result"
    }
   ],
   "source": [
    "porter_df2.head()"
   ]
  },
  {
   "cell_type": "code",
   "execution_count": 14,
   "metadata": {},
   "outputs": [],
   "source": [
    "species_list += (porter_df1['Full_Species'].to_list() + porter_df2['Full_Species'].to_list())"
   ]
  },
  {
   "cell_type": "markdown",
   "metadata": {},
   "source": [
    "### <font color=#c994c7>J. Van Der Kooi's Datatable</font>"
   ]
  },
  {
   "cell_type": "code",
   "execution_count": 15,
   "metadata": {},
   "outputs": [
    {
     "data": {
      "application/vnd.microsoft.datawrangler.viewer.v0+json": {
       "columns": [
        {
         "name": "kooi_id",
         "rawType": "int64",
         "type": "integer"
        },
        {
         "name": "Family",
         "rawType": "object",
         "type": "string"
        },
        {
         "name": "Genus",
         "rawType": "object",
         "type": "string"
        },
        {
         "name": "Species",
         "rawType": "object",
         "type": "string"
        },
        {
         "name": "variable",
         "rawType": "object",
         "type": "string"
        },
        {
         "name": "LambdaMax",
         "rawType": "object",
         "type": "string"
        },
        {
         "name": "Full_Species",
         "rawType": "object",
         "type": "string"
        }
       ],
       "conversionMethod": "pd.DataFrame",
       "ref": "1c05255c-2fa4-485f-946a-c1145e824e7a",
       "rows": [
        [
         "0",
         "Pieridae",
         "Colias",
         "erate",
         "First",
         "360",
         "Colias erate"
        ],
        [
         "1",
         "Pieridae",
         "Leptidae",
         "amurensis",
         "First",
         "360",
         "Leptidae amurensis"
        ],
        [
         "2",
         "Pieridae",
         "Pieris",
         "brassicae",
         "First",
         "360",
         "Pieris brassicae"
        ],
        [
         "3",
         "Pieridae",
         "Pieris",
         "rapae crucivora",
         "First",
         "360",
         "Pieris rapae crucivora"
        ],
        [
         "4",
         "Papillionidae",
         "Graphium",
         "sarpedon",
         "First",
         "360",
         "Graphium sarpedon"
        ]
       ],
       "shape": {
        "columns": 6,
        "rows": 5
       }
      },
      "text/html": [
       "<div>\n",
       "<style scoped>\n",
       "    .dataframe tbody tr th:only-of-type {\n",
       "        vertical-align: middle;\n",
       "    }\n",
       "\n",
       "    .dataframe tbody tr th {\n",
       "        vertical-align: top;\n",
       "    }\n",
       "\n",
       "    .dataframe thead th {\n",
       "        text-align: right;\n",
       "    }\n",
       "</style>\n",
       "<table border=\"1\" class=\"dataframe\">\n",
       "  <thead>\n",
       "    <tr style=\"text-align: right;\">\n",
       "      <th></th>\n",
       "      <th>Family</th>\n",
       "      <th>Genus</th>\n",
       "      <th>Species</th>\n",
       "      <th>variable</th>\n",
       "      <th>LambdaMax</th>\n",
       "      <th>Full_Species</th>\n",
       "    </tr>\n",
       "    <tr>\n",
       "      <th>kooi_id</th>\n",
       "      <th></th>\n",
       "      <th></th>\n",
       "      <th></th>\n",
       "      <th></th>\n",
       "      <th></th>\n",
       "      <th></th>\n",
       "    </tr>\n",
       "  </thead>\n",
       "  <tbody>\n",
       "    <tr>\n",
       "      <th>0</th>\n",
       "      <td>Pieridae</td>\n",
       "      <td>Colias</td>\n",
       "      <td>erate</td>\n",
       "      <td>First</td>\n",
       "      <td>360</td>\n",
       "      <td>Colias erate</td>\n",
       "    </tr>\n",
       "    <tr>\n",
       "      <th>1</th>\n",
       "      <td>Pieridae</td>\n",
       "      <td>Leptidae</td>\n",
       "      <td>amurensis</td>\n",
       "      <td>First</td>\n",
       "      <td>360</td>\n",
       "      <td>Leptidae amurensis</td>\n",
       "    </tr>\n",
       "    <tr>\n",
       "      <th>2</th>\n",
       "      <td>Pieridae</td>\n",
       "      <td>Pieris</td>\n",
       "      <td>brassicae</td>\n",
       "      <td>First</td>\n",
       "      <td>360</td>\n",
       "      <td>Pieris brassicae</td>\n",
       "    </tr>\n",
       "    <tr>\n",
       "      <th>3</th>\n",
       "      <td>Pieridae</td>\n",
       "      <td>Pieris</td>\n",
       "      <td>rapae crucivora</td>\n",
       "      <td>First</td>\n",
       "      <td>360</td>\n",
       "      <td>Pieris rapae crucivora</td>\n",
       "    </tr>\n",
       "    <tr>\n",
       "      <th>4</th>\n",
       "      <td>Papillionidae</td>\n",
       "      <td>Graphium</td>\n",
       "      <td>sarpedon</td>\n",
       "      <td>First</td>\n",
       "      <td>360</td>\n",
       "      <td>Graphium sarpedon</td>\n",
       "    </tr>\n",
       "  </tbody>\n",
       "</table>\n",
       "</div>"
      ],
      "text/plain": [
       "                Family     Genus          Species variable LambdaMax  \\\n",
       "kooi_id                                                                \n",
       "0             Pieridae    Colias            erate    First       360   \n",
       "1             Pieridae  Leptidae        amurensis    First       360   \n",
       "2             Pieridae    Pieris        brassicae    First       360   \n",
       "3             Pieridae    Pieris  rapae crucivora    First       360   \n",
       "4        Papillionidae  Graphium         sarpedon    First       360   \n",
       "\n",
       "                   Full_Species  \n",
       "kooi_id                          \n",
       "0                  Colias erate  \n",
       "1            Leptidae amurensis  \n",
       "2              Pieris brassicae  \n",
       "3        Pieris rapae crucivora  \n",
       "4             Graphium sarpedon  "
      ]
     },
     "execution_count": 15,
     "metadata": {},
     "output_type": "execute_result"
    }
   ],
   "source": [
    "kooi_insect_db_file = f'{report_dir}/j_van_der_kooi/j_van_der_kooi_2021_mt_cleaned.csv'\n",
    "kooi_df = pd.read_csv(kooi_insect_db_file, index_col=0)\n",
    "df_list.append(kooi_df)\n",
    "species_list += kooi_df['Full_Species'].to_list()\n",
    "kooi_df.head()"
   ]
  },
  {
   "cell_type": "markdown",
   "metadata": {},
   "source": [
    "### <font color=#c994c7>Merge Accessory Lambda Max Databases</font>"
   ]
  },
  {
   "cell_type": "code",
   "execution_count": 16,
   "metadata": {},
   "outputs": [
    {
     "data": {
      "application/vnd.microsoft.datawrangler.viewer.v0+json": {
       "columns": [
        {
         "name": "comp_db_id",
         "rawType": "int64",
         "type": "integer"
        },
        {
         "name": "Full_Species",
         "rawType": "object",
         "type": "string"
        },
        {
         "name": "Accession",
         "rawType": "object",
         "type": "string"
        },
        {
         "name": "maxid",
         "rawType": "object",
         "type": "unknown"
        },
        {
         "name": "longcore_id",
         "rawType": "object",
         "type": "unknown"
        },
        {
         "name": "murwes_id",
         "rawType": "object",
         "type": "unknown"
        },
        {
         "name": "caves_id",
         "rawType": "object",
         "type": "unknown"
        },
        {
         "name": "porter2005_id",
         "rawType": "object",
         "type": "unknown"
        },
        {
         "name": "porter2006_id",
         "rawType": "object",
         "type": "string"
        },
        {
         "name": "kooi_id",
         "rawType": "object",
         "type": "unknown"
        },
        {
         "name": "LambdaMax",
         "rawType": "float64",
         "type": "float"
        }
       ],
       "conversionMethod": "pd.DataFrame",
       "ref": "be8bdbbc-429b-49eb-8ba2-fb191e676bbe",
       "rows": [
        [
         "0",
         "Drosophila melanogaster",
         "Z86118",
         null,
         null,
         null,
         null,
         null,
         "42",
         null,
         "508.0"
        ],
        [
         "1",
         "Loligo subulata",
         "Z49108",
         null,
         null,
         null,
         null,
         null,
         "2",
         null,
         "499.0"
        ],
        [
         "2",
         "Schistocerca gregaria",
         "X80072",
         null,
         null,
         null,
         null,
         null,
         "46",
         null,
         "430.0"
        ],
        [
         "3",
         "Schistocerca gregaria",
         "X80071",
         null,
         null,
         null,
         null,
         null,
         "39",
         null,
         "520.0"
        ],
        [
         "4",
         "Sphodromantis sp.",
         "X71665",
         null,
         null,
         null,
         null,
         null,
         "40",
         null,
         "515.0"
        ]
       ],
       "shape": {
        "columns": 10,
        "rows": 5
       }
      },
      "text/html": [
       "<div>\n",
       "<style scoped>\n",
       "    .dataframe tbody tr th:only-of-type {\n",
       "        vertical-align: middle;\n",
       "    }\n",
       "\n",
       "    .dataframe tbody tr th {\n",
       "        vertical-align: top;\n",
       "    }\n",
       "\n",
       "    .dataframe thead th {\n",
       "        text-align: right;\n",
       "    }\n",
       "</style>\n",
       "<table border=\"1\" class=\"dataframe\">\n",
       "  <thead>\n",
       "    <tr style=\"text-align: right;\">\n",
       "      <th></th>\n",
       "      <th>Full_Species</th>\n",
       "      <th>Accession</th>\n",
       "      <th>maxid</th>\n",
       "      <th>longcore_id</th>\n",
       "      <th>murwes_id</th>\n",
       "      <th>caves_id</th>\n",
       "      <th>porter2005_id</th>\n",
       "      <th>porter2006_id</th>\n",
       "      <th>kooi_id</th>\n",
       "      <th>LambdaMax</th>\n",
       "    </tr>\n",
       "    <tr>\n",
       "      <th>comp_db_id</th>\n",
       "      <th></th>\n",
       "      <th></th>\n",
       "      <th></th>\n",
       "      <th></th>\n",
       "      <th></th>\n",
       "      <th></th>\n",
       "      <th></th>\n",
       "      <th></th>\n",
       "      <th></th>\n",
       "      <th></th>\n",
       "    </tr>\n",
       "  </thead>\n",
       "  <tbody>\n",
       "    <tr>\n",
       "      <th>0</th>\n",
       "      <td>Drosophila melanogaster</td>\n",
       "      <td>Z86118</td>\n",
       "      <td>NaN</td>\n",
       "      <td>NaN</td>\n",
       "      <td>NaN</td>\n",
       "      <td>NaN</td>\n",
       "      <td>NaN</td>\n",
       "      <td>42</td>\n",
       "      <td>NaN</td>\n",
       "      <td>508.0</td>\n",
       "    </tr>\n",
       "    <tr>\n",
       "      <th>1</th>\n",
       "      <td>Loligo subulata</td>\n",
       "      <td>Z49108</td>\n",
       "      <td>NaN</td>\n",
       "      <td>NaN</td>\n",
       "      <td>NaN</td>\n",
       "      <td>NaN</td>\n",
       "      <td>NaN</td>\n",
       "      <td>2</td>\n",
       "      <td>NaN</td>\n",
       "      <td>499.0</td>\n",
       "    </tr>\n",
       "    <tr>\n",
       "      <th>2</th>\n",
       "      <td>Schistocerca gregaria</td>\n",
       "      <td>X80072</td>\n",
       "      <td>NaN</td>\n",
       "      <td>NaN</td>\n",
       "      <td>NaN</td>\n",
       "      <td>NaN</td>\n",
       "      <td>NaN</td>\n",
       "      <td>46</td>\n",
       "      <td>NaN</td>\n",
       "      <td>430.0</td>\n",
       "    </tr>\n",
       "    <tr>\n",
       "      <th>3</th>\n",
       "      <td>Schistocerca gregaria</td>\n",
       "      <td>X80071</td>\n",
       "      <td>NaN</td>\n",
       "      <td>NaN</td>\n",
       "      <td>NaN</td>\n",
       "      <td>NaN</td>\n",
       "      <td>NaN</td>\n",
       "      <td>39</td>\n",
       "      <td>NaN</td>\n",
       "      <td>520.0</td>\n",
       "    </tr>\n",
       "    <tr>\n",
       "      <th>4</th>\n",
       "      <td>Sphodromantis sp.</td>\n",
       "      <td>X71665</td>\n",
       "      <td>NaN</td>\n",
       "      <td>NaN</td>\n",
       "      <td>NaN</td>\n",
       "      <td>NaN</td>\n",
       "      <td>NaN</td>\n",
       "      <td>40</td>\n",
       "      <td>NaN</td>\n",
       "      <td>515.0</td>\n",
       "    </tr>\n",
       "  </tbody>\n",
       "</table>\n",
       "</div>"
      ],
      "text/plain": [
       "                       Full_Species Accession maxid longcore_id murwes_id  \\\n",
       "comp_db_id                                                                  \n",
       "0           Drosophila melanogaster    Z86118   NaN         NaN       NaN   \n",
       "1                   Loligo subulata    Z49108   NaN         NaN       NaN   \n",
       "2             Schistocerca gregaria    X80072   NaN         NaN       NaN   \n",
       "3             Schistocerca gregaria    X80071   NaN         NaN       NaN   \n",
       "4                 Sphodromantis sp.    X71665   NaN         NaN       NaN   \n",
       "\n",
       "           caves_id porter2005_id porter2006_id kooi_id  LambdaMax  \n",
       "comp_db_id                                                          \n",
       "0               NaN           NaN            42     NaN      508.0  \n",
       "1               NaN           NaN             2     NaN      499.0  \n",
       "2               NaN           NaN            46     NaN      430.0  \n",
       "3               NaN           NaN            39     NaN      520.0  \n",
       "4               NaN           NaN            40     NaN      515.0  "
      ]
     },
     "execution_count": 16,
     "metadata": {},
     "output_type": "execute_result"
    }
   ],
   "source": [
    "# Call the function to merge all the species, lambdamax, and potential accession information into one dataframe\n",
    "merged_df, merged_df_file = merge_accessory_dbs(df_list, report_dir)\n",
    "merged_df.head()"
   ]
  },
  {
   "cell_type": "code",
   "execution_count": 17,
   "metadata": {},
   "outputs": [
    {
     "data": {
      "text/plain": [
       "(3810, 10)"
      ]
     },
     "execution_count": 17,
     "metadata": {},
     "output_type": "execute_result"
    }
   ],
   "source": [
    "merged_df.shape"
   ]
  },
  {
   "cell_type": "markdown",
   "metadata": {},
   "source": [
    "### <font color=#c994c7>All unique species names have been extracted from accessory databases. Now we iteratively query NCBI for opsins from each species.</font>"
   ]
  },
  {
   "cell_type": "code",
   "execution_count": 18,
   "metadata": {},
   "outputs": [
    {
     "data": {
      "text/plain": [
       "4677"
      ]
     },
     "execution_count": 18,
     "metadata": {},
     "output_type": "execute_result"
    }
   ],
   "source": [
    "len(species_list)"
   ]
  },
  {
   "cell_type": "code",
   "execution_count": 19,
   "metadata": {},
   "outputs": [
    {
     "data": {
      "text/plain": [
       "1397"
      ]
     },
     "execution_count": 19,
     "metadata": {},
     "output_type": "execute_result"
    }
   ],
   "source": [
    "species_list = list(set(species_list))\n",
    "len(species_list)"
   ]
  },
  {
   "cell_type": "markdown",
   "metadata": {},
   "source": [
    "## <font color=#c51b8a>Run NCBI Query Mining Process</font>"
   ]
  },
  {
   "cell_type": "code",
   "execution_count": 20,
   "metadata": {},
   "outputs": [
    {
     "name": "stdout",
     "output_type": "stream",
     "text": [
      "Creating Job Directory\n",
      "\n",
      "Saving Species Query List to Text\n",
      "\n",
      "Constructing Taxon Dictionary, Including Species Synonyms\n",
      "\n",
      "Existing Taxon Dictionary Found! One Moment While We Update It...\n",
      "\n",
      "Taxon Dictionary Complete!\n",
      "\n",
      "Starting Queries to NCBI for Opsin Sequences\n",
      "\n"
     ]
    },
    {
     "name": "stderr",
     "output_type": "stream",
     "text": [
      "Processing species queries:   0%|\u001b[38;2;207;159;255m                         \u001b[0m| 0/1397 [00:00<?]"
     ]
    },
    {
     "name": "stderr",
     "output_type": "stream",
     "text": [
      "Processing species queries: 100%|\u001b[38;2;207;159;255m█████████████████████████\u001b[0m| 1397/1397 [45:25<00:00]\n"
     ]
    },
    {
     "name": "stdout",
     "output_type": "stream",
     "text": [
      "NCBI Queries Complete!\n",
      "Now Extracting and Formatting Results For DataFrame...\n",
      "\n",
      "This species, Sphodromantis sp., is not a complete species name!\n",
      "DataFrame Formatted and Saved to CSV file for future use :)\n",
      "\n",
      "FASTA File Saved...\n",
      "\n",
      "Saving txt file with names of species that retrieved no results for opsins...\n",
      "\n",
      "Saving txt file with names of species that retrieved results for opsins but are NOT in submitted species list...\n",
      "\n",
      "Saving and returning cleaned dataframe with only species entries from species list...\n",
      "\n",
      "Saving another dataframe with species that retrieved results for opsins but are NOT in submitted species list for further examination...\n",
      "\n",
      "Clean FASTA File Saved...\n",
      "\n"
     ]
    }
   ],
   "source": [
    "ncbi_query_df, query_report_dir = ncbi_fetch_opsins(email=email, job_label='mnm_on_all_dbs', out='mnm_on_all_dbs', species_list=species_list)"
   ]
  },
  {
   "cell_type": "code",
   "execution_count": 21,
   "metadata": {},
   "outputs": [
    {
     "data": {
      "text/plain": [
       "(2308, 12)"
      ]
     },
     "execution_count": 21,
     "metadata": {},
     "output_type": "execute_result"
    }
   ],
   "source": [
    "ncbi_query_df.shape"
   ]
  },
  {
   "cell_type": "markdown",
   "metadata": {},
   "source": [
    "## <font color=#c51b8a>Load Accessory Opsin Sequence Databases</font> "
   ]
  },
  {
   "cell_type": "markdown",
   "metadata": {},
   "source": [
    "### <font color=#c994c7>Load Previous MnM Data</font>"
   ]
  },
  {
   "cell_type": "code",
   "execution_count": 22,
   "metadata": {},
   "outputs": [],
   "source": [
    "# Ignore this box, it's here for cases where you want to load existing query df\n",
    "#query_report_dir = \"mnm_data/mnm_on_mnm_on_all_dbs_2025-01-22_20-33-16 - Copy\"\n",
    "#ncbi_query_file = f'{query_report_dir}/mnm_on_all_dbs_ncbi_q_data_cleaned.csv'\n",
    "#ncbi_query_file = f'./{query_report_dir}/mnm_on_all_dbs_ncbi_q_data_cleaned.csv'\n",
    "#ncbi_query_df = pd.read_csv(ncbi_query_file)"
   ]
  },
  {
   "cell_type": "code",
   "execution_count": 23,
   "metadata": {},
   "outputs": [
    {
     "data": {
      "application/vnd.microsoft.datawrangler.viewer.v0+json": {
       "columns": [
        {
         "name": "index",
         "rawType": "int64",
         "type": "integer"
        },
        {
         "name": "Accession",
         "rawType": "object",
         "type": "string"
        },
        {
         "name": "Phylum",
         "rawType": "object",
         "type": "string"
        },
        {
         "name": "Subphylum",
         "rawType": "object",
         "type": "string"
        },
        {
         "name": "Class",
         "rawType": "object",
         "type": "string"
        },
        {
         "name": "Genus",
         "rawType": "object",
         "type": "string"
        },
        {
         "name": "Species",
         "rawType": "object",
         "type": "string"
        },
        {
         "name": "Full_Species",
         "rawType": "object",
         "type": "string"
        },
        {
         "name": "DNA",
         "rawType": "object",
         "type": "string"
        },
        {
         "name": "Protein",
         "rawType": "object",
         "type": "string"
        },
        {
         "name": "Gene_Description",
         "rawType": "object",
         "type": "string"
        },
        {
         "name": "Species_Synonym_Used",
         "rawType": "object",
         "type": "string"
        },
        {
         "name": "Prot_Len",
         "rawType": "int64",
         "type": "integer"
        }
       ],
       "conversionMethod": "pd.DataFrame",
       "ref": "3c7bd505-2a1d-44d9-b841-9daa7909d043",
       "rows": [
        [
         "0",
         "NM_001310048.1",
         "Chordata",
         "Craniata",
         "Aves",
         "Columba",
         "livia",
         "Columba livia",
         "GTCCGCCGCCATGCAGAGGGCGCGTGAGGCGCGTGACGAGCTCCCCGACGACTTCTACATCCCCATGGCGCTGGACGCGCCCAACCTGACGGCGCTGAGCCCGTTCCTGGTGCCGCAGACGCACCTGGGCAGCCCCGGCGTGTTCCGCGGCATGGCGGCGTTCATGCTGGCGCTGATCGCGCTGGGGGGGCCCATCAACGCGCTCACCATCGCCTGCACCGCGCGCTACAAGAAGCTGCGCTCGCACCTCAACTACATCCTGGTGAACCTGGCGGCCGCCAACCTGCTGGTGATCTGCGTGGGCTCCACCACCGCCTTCTACAGCTTCTCGCAGATGTACTTCGCGCTGGGGCCCACGGCGTGCAAGATCGAGGGCTTCGCCGCCACGCTCGGGGGCATGGTGTCGCTGTGGTCGCTGGCCGTGGTGGCCTTCGAGCGGTTCCTGGTGATCTGCAAGCCGCTGGGCAACTTCACGTTCCGCGGCAGCCACGCGGTGCTGGGCTGCGCCGCCACCTGGATCTTCGGCCTCGTGGCCGCCGTGCCGCCGCTCTTCGGCTGGAGCAGGTACATCCCCGAGGGGCTGCAGTGCTCGTGCGGGCCCGACTGGTACACGGCCAACAACAAGTGGAACAACGAGTCCTACGTCATCTTCCTCTTCTGCTTCTGCTTCGGGGTCCCCCTGGCCCTCATCGTCTTCTCCTACGGACGCCTGCTGCTCACGCTCCGCGCGGTGGCCCGGCAGCAGGAACAGTCGGCCAGCACGCAGAAGGCGGAGCGCGAGGTGACCAAGATGGTGGTGGTGATGGTGCTGGGCTTCCTGGTGTGCTGGGCGCCCTACTCGGCCTTCGCGCTCTGGGTGGTGACGCACCGCGGCCGCCCCTTCGACGTGGGGCTGGCGTCCATCCCCTCCGTGTTCTCCAAGGCCTCCACCGTCTACAACCCCGTCATCTACGTCTTCATGAACAAACAGTTCCGCTCGTGCATGCTGAAGCTGCTGTTCTGCGGGCGCAGCCCGTTCGGGGACGAGGACGACGTGTCGGGCTCCTCCCAGGCCACCCAGGTGTCCTCCGTGGGCTCCGCCTCCGCCAGCCAGGTGGCCCCGGCATAGGACCCACGGCCACCTCTGCCCCATGG",
         "MQRAREARDELPDDFYIPMALDAPNLTALSPFLVPQTHLGSPGVFRGMAAFMLALIALGGPINALTIACTARYKKLRSHLNYILVNLAAANLLVICVGSTTAFYSFSQMYFALGPTACKIEGFAATLGGMVSLWSLAVVAFERFLVICKPLGNFTFRGSHAVLGCAATWIFGLVAAVPPLFGWSRYIPEGLQCSCGPDWYTANNKWNNESYVIFLFCFCFGVPLALIVFSYGRLLLTLRAVARQQEQSASTQKAEREVTKMVVVMVLGFLVCWAPYSAFALWVVTHRGRPFDVGLASIPSVFSKASTVYNPVIYVFMNKQFRSCMLKLLFCGRSPFGDEDDVSGSSQATQVSSVGSASASQVAPA",
         "Columba livia blue-sensitive opsin (OPN2SW), mRNA",
         "NA",
         "365"
        ],
        [
         "1",
         "NM_001310049.1",
         "Chordata",
         "Craniata",
         "Aves",
         "Columba",
         "livia",
         "Columba livia",
         "TACCATTGGCAGGATGAATGGGACAGAAGGTATCAATTTTTACGTGCCTATGTCCAACAAGACAGGGGTGGTGCGAAGCCCCTTCGAGTATCCCCAGTACTACCTGGCCGAGCCCTGGAAATACCGCGTCGTGTGCTGCTACATCTTCTTCCTCATCTCCACCGGTTTGCCCATCAACCTCCTCACCCTCCTGGTCACCTTCAAACACAAGAAGCTCCGGCAGCCGCTCAACTACATCCTGGTCAACTTGGCGGTGGCCGACCTCTTCATGGCCTGTTTTGGCTTCACCGTCACCTTCTACACTGCCTGGAACGGTTACTTCGTCTTCGGGCCTGTCGGCTGTGCCGTTGAGGGCTTCTTCGCCACGCTGGGAGGTCAAGTCGCTCTGTGGTCCCTGGTCGTCTTGGCCATCGAGCGCTACATTGTCGTCTGCAAACCCATGGGAAACTTCCGCTTCTCCGCATCCCACGCCATGATGGGCATTGCTTTCACCTGGATAATGGCCTTTTCCTGCGCCGCTCCCCCACTCTTCGGCTGGTCCAGATACATGCCCGAGGGGATGCAGTGCTCCTGCGGCCCCGACTACTACACCCACAACCCCGACTACCACAACGAGTCCTACGTCCTCTACATGTTCATCATCCACTTCATCATCCCAGTCGTGGTAATTTTCTTCTCCTACGGGCGCCTCATCTGCAAAGTCCGAGAGGCAGCCGCCCAGCAGCAGGAGTCGGCCACGACCCAGAAGGCCGAGAAGGAGGTGACGCGGATGGTGATCCTGATGGTGCTGGGGTTCATGCTGGCCTGGACGCCCTACGCCGTGGTGGCGTTCTGGATCTTCACCAACAAGGGCGCAGACTTCACCGCCACGCTCATGGCCGTGCCTGCCTTCTTCTCCAAGAGCTCCTCCCTCTACAACCCCATCATCTATGTCCTCATGAACAAGCAGTTCCGCAACTGCATGATCACCACAATCTGCTGCGGCAAGAACCCCTTTGGGGATGAAGATGTCTCCTCCACCGTATCCCAGAGCAAAACCGAGGTCTCCTCTGTCTCTTCCAGCCAAGTATCACCTGCATAGACCATGGACAGTTTGAACTGGG",
         "MNGTEGINFYVPMSNKTGVVRSPFEYPQYYLAEPWKYRVVCCYIFFLISTGLPINLLTLLVTFKHKKLRQPLNYILVNLAVADLFMACFGFTVTFYTAWNGYFVFGPVGCAVEGFFATLGGQVALWSLVVLAIERYIVVCKPMGNFRFSASHAMMGIAFTWIMAFSCAAPPLFGWSRYMPEGMQCSCGPDYYTHNPDYHNESYVLYMFIIHFIIPVVVIFFSYGRLICKVREAAAQQQESATTQKAEKEVTRMVILMVLGFMLAWTPYAVVAFWIFTNKGADFTATLMAVPAFFSKSSSLYNPIIYVLMNKQFRNCMITTICCGKNPFGDEDVSSTVSQSKTEVSSVSSSQVSPA",
         "Columba livia rhodopsin (opsin 2, rod pigment) (retinitis pigmentosa 4, autosomal dominant) (OPN1MSW), mRNA",
         "NA",
         "355"
        ],
        [
         "2",
         "NM_001282821.1",
         "Chordata",
         "Craniata",
         "Aves",
         "Columba",
         "livia",
         "Columba livia",
         "ATGTCGGGTGACGAGGAGTTTTACCTTTTCAAGAATGGGTCCTCGGTGGGACCCTGGGACGGTCCCCAATATCACATCGCCCCCCCTTGGGCCTTTTACCTCCAAACCGCCTTCATGGGCTTCGTGTTCCTGGTGGGGACCCCCTTCAACGCCATCGTCCTGGTGGTCACCATCAAGTACAAGAAGCTGAGGCAACCGCTCAACTACATCCTGGTGAACATCTCCTTCAGCGGCTTCATCTCCTGCATCTTCAGCGTCTTCACCGTCTTTGTCTCCAGCTCCCAGGGTTACTTCATCTTCGGCAAGGACATGTGTGCCTTGGAGGCCTTCGTGGGGGCCACCGGAGGGCTGGTGACAGGTTGGTCCTTGGCCTTCCTGGCCTTCGAGCGCTACATCGTCATCTGCAAACCCTTCGGGAACTTCCGCTTCAACTCCAAACACGCCCTCATGGCGGTGGTGGCCACCTGGGTCATCGGCCTGGGTGTCGCCCTCCCCCCCTGGTTCGGCTGGAGCAGGTATGTCCCCGAGGGGCTGCAGTGCTCCTGCGGCCCCGACTGGTACACGGTGGGCACCAAGTACAAGAGCGAGTACTACACCTGGTTCCTCTTCATCTTCTGCTTCATCGTCCCCCTCTCCCTCATCATCTTCTCCTACTCCCAGCTGCTCAGCGCCCTGCGGGCCGTGGCGGCGCAGCAGCAGGAGTCGGCCACCACGCAGAAGGCGGAGCGGGAGGTGTCGCGCATGGTGGTGGTGATGGTGGGGTCCTTCTGCCTCTGCTACGTCCCCTACGCCGCCCTGGCCATGTACATGGTCAACAACCGCAACCACGGCCTGGACCTGCGCCTGGTCACCATCCCCGCCTTCTTCTCCAAGAGCTCCTGTGTCTACAACCCCATCATCTACTGCTTCATGAACAAACAGTTCCGCGCCTGCATCCTGGAGCTGGTGTGCGGGCGGCCCATGACGGACGACTCGGACGTGTCCAGCTCGGCCCAGCGCACCGAGGTCTCCTCCGTGTCCTCCAGCCAGGTCAGCCCCAGCTGA",
         "MSGDEEFYLFKNGSSVGPWDGPQYHIAPPWAFYLQTAFMGFVFLVGTPFNAIVLVVTIKYKKLRQPLNYILVNISFSGFISCIFSVFTVFVSSSQGYFIFGKDMCALEAFVGATGGLVTGWSLAFLAFERYIVICKPFGNFRFNSKHALMAVVATWVIGLGVALPPWFGWSRYVPEGLQCSCGPDWYTVGTKYKSEYYTWFLFIFCFIVPLSLIIFSYSQLLSALRAVAAQQQESATTQKAEREVSRMVVVMVGSFCLCYVPYAALAMYMVNNRNHGLDLRLVTIPAFFSKSSCVYNPIIYCFMNKQFRACILELVCGRPMTDDSDVSSSAQRTEVSSVSSSQVSPS",
         "Columba livia opsin 1, short wave sensitive (OPN1SW), mRNA",
         "NA",
         "347"
        ],
        [
         "3",
         "XM_065067775.1",
         "Chordata",
         "Craniata",
         "Aves",
         "Columba",
         "livia",
         "Columba livia",
         "TCTTGGAGCCCCGACACCTTAACAGAAGGAACTGTGTGCTGCCCTCCTGCTGAAGAAGCTGACTGGCTCCTCGCATTGGCCCGCTAGAAAGAATTCTGCCTCCTTTGTGATCAGCTGTGGCAGCAAGCCATAAATATAGAATAACAAGGCCCCATGTTGTGCTGCAGCCTCTACGGACAAGTCCAGAACAGCAAGGATTTACACATATTTATCTATCAGACATTTCATTTTCTCCAGAGTCCCAAAAAGCAACTCAAGTTTGCAAGTCTCAGTCAAGTTTACTGAACGGTAACTGAAAACAGAGTCAGTTGTGGTTTAGCTGTTTTGTCATAGGCAGTAGACAAGCATTCCTTTAGGGAGAACAAAAAGCATTTTAAGAAGGCAGGGTGCATTAAACCTTCCTGTTTCCCTCTATTCTAGTGTTTCCATAAGGACACACTTAAACCTGCTGGAAGGAAATACACTAATACAGAGCAGCTTCTAACTTCATAACTTCTAGCCACCAACTCTACTGAGGCAAATGATAGAGTAGGATTTAGAAAAGGATTACACCTGCATATGGAGGATAAAAATATCCTCCACTAAGATTATCCTTTCAAAGGGATAACAACCCTGTTTTAGGGTAAAACCCAACTGCTGAGAGTCTATTCTGAAAATGAAATTCCCACGTGACTGTTCATCATTCGTGTTTCACAGCTCTGTGAAACAGCCAGTCATGCCTAACGACAGGTTAGTGTTTTGTCAGGAATGCTGGTCTGAATCAGTGTGGCACTTCCCAAGTTCCTTACCACACCAAAATTGTTCGTTTGTTTACGCAAAACTACAGTGTAAATAAATAATAAATAGTAAATGACATGCCTATTAGAGTTTAAAAACACAAATTATTTTACAGGACTAGAAAAAGACCAGTTTTCATATATACCTGAACAATATTATAAAACTTGCTTTTAAGGTTGACTAAAATGCCATCCTTGGTTAGAAAGTATGTTCTTCAACTGACCCTTGGTACTTACTGTGAAGACATTTTGTTACATTACAGTTACTACCTTGATGTCTTCCACAGTTTCCATGACTGTTTTCTTTGCTTGCTTGGGAAATGTGCGTTATTGATACTGACTGTTAGGAAGTTGGTGCTTCCCAAAGAATTGTTTCCTACAGAATTAATACCAGTCTAAGCCACCCACAGCACAGTAGGCCCGTGAATATACTGGCACCCAGTGGTCCAAAGCCTCAGGTACAAGCATCTTCTATTTGTTCACTCAGGAAAGCTGTAGTCCACTGTCCATCTACTGGAAAATGTCCAAAATTTAGCTTCCAGTTCAGTTTCTTTGTGCATCTGGTGATATTTTGAACCATGTTACATTAAATAAACTGTGGTGTTTTATCACATGGGGGAGAAATAATGAAGTGCTGCTTTTGCCTGTTCATTTTTCTTTATTCTGAGGTGTTTATAGAAAGAAGGCTGAACAGAAAAACATGCATGGCAACAATGCTATGTGTTATCAGTGCCACTGAAATAGTTGTTCAGAGTATCCTCAAAGGACAGTTGCTACAGTGGGGATGGCAGCAGTGGGATTTCTATTCTCTCTTGCCAACCAAGTACTTATACAACAGAAAACAGACTAAACAAGGCTAATCTGCTGGAGAAACTGAACAGATGACGGTGCAAGATGTTCCTGGTGCCTTTCCTACAGTGGATGTCCCAGACCATGCCCATTATACAATTGGAGTAGTCATTCTTCTAGTGGGGATCACAGGAACTCTGGGTAATTTCCTGGTCATCTACGTTTTCTGCAGGAGCAGGAGCCTTCAGACTCCAGCCAACGTATTCATCGTCAATCTAGCTATTAGTGACTTCCTGATGTCTATTACGCAGTCTCCAGTTTTTTTCACCAATAGCCTCCACAAACGCTGGATTTTTGGTGAGAAAGGCTGTGAGCTGTATGCCTTCTGCGGAGCTCTTTTTGGCATTACATCTATGATTACTTTGATGGTGATTGCCTTGGACAGATATTTTGTCATCACAAAGCCTCTGTCTTCTGTTGGAGTGACGTCTAAGAAGAAGGCCCTAATAATCCTGGTAGGAGTCTGGCTGTACTCTTTGGCTTGGAGCCTCCCACCCTTCTTTGGATGGAGTGCGTATGTTCCTGAGGGTTTGCTGACTTCCTGTTCATGGGACTACATGACTTTCACACCATCAGTCCGCGCCTACACGATGCTTCTTTTCTGCTTTGTCTTTTTCATTCCTTTGATTGCTATCATATACAGCTACATCTTTATATTTGAGGCTATCAAGAAGGCCAACAAGTCTATCCAGACATTTGGATGCAAACATGGAAATAAAGAATGCCAGAAACAGTATCAGAGGATGAAAAATGAGTGGAAGATGGCCAAAATTGCACTGATTGTCATCTTGCTTTACGTCATCTCATGGTCACCATACTCTATTGTTGCTCTGGTAGCTTTTGCTGGGTATTCTCATGTCCTAACACCGTTCATGAACTCTATACCAGCCGTGATTGCCAAAGCTTCTGTCATCCATAACCCAATAATTTATGCCATCACTCACCCCAAATACAGAAGAGCCATTGCAACATATGTTCCTTGCCTTGGATCCCTGCTGAGAGTTTCTCCTAAAGACTCACGGTCTTTCAGCAGTTATACCTCCTCCCGACGAGCAACTGTAACCAGCCAGTCTTCTCAGATAAGTGGGCTGCAGAAAGGAAGAAGGCGACTGTCTTCTCTCCCTAACAGTGAATCAGACTGTACTGACACAGAAACCGATACCCTCAGTGTGTTCTCCAGACTTGCTAGCAGGCAGATTTCCTATGAAACAGATAAAGACACAACTCAAACTAGTGACCTAAGAGCCAAACCTAAACTGAAGAGCCATGATTCTGGGATATATCAGAAGACACCTGTAGATATTGAAGACATATCCATGGAGGAACTGAATGCCACAGAGTACACTACTACACCTACTAGAGGTGAAAACCTGAATGGTATCGAACAAAGAAAAGGAGAGTCTCACCACAGACCATCAGCAGCCCAGATACCCAGCATTACAATAACGTACAGCAATATCCAAGGAGCAGAGCTGCCCTCTGGATACAACTCTGGTTTCCTGTATCCAAAGATCAACAGCCATAAGCAGAACAAGAAGTCCAACAGCTAAGTGAGTGGTGAAAGCCAGAACGCCATATCAGCCAATACCTCTGGAACAGCTATGGGCCAGCTGAATCCAGAACACCTCCCTACATTGTTCTGAAATGCTCCTACACAGACACAAGACAAGCAAGGAGAAAAGCAAGGGGAGTAAGCTTTTCAGCATCAGAGTTCTCTCCAGTCGCTCACTTCTTGAACCGAGTCTCATTGTAATTTTGTTATCTCTTTATGCAGCTCATGAACCAATTTCTTCCACTTGGATTTTACTCTGCTCAGGTATATTCCACCACTGCATGGATCTAACCTACAAGCCTCCTAGGATTAACTTGAGAGGAAAAGGAAATATGAGATTCAAAACTGACCTTTGTTCACTTAGTGCAGTTTTAACTTCAAGGCTATTACAGAGCTAAAGCTGATATATTTGGGGAAAAACATACATTGCTCCCTGAAGACGATTTCTTCATTGTTGTGAAGTTCCTCAACCAAATGGAAACCTAATCACAGAGTCTGTGCTCCCTTCTCTCATAAATGACACATTTTCGCTAATTTTCTTCTACAATCCAATTAAAAGGCAATGCACTCGGGCAGTAATTTGAAGTCTCAGATCTTTATTTTAATTTCTGAGATTCTGGGGGAAGAGAAAGGAATAACACTGAGGACGGGGCTATGGTCCTTTCCATGCTTTTCCAATGGTTGCTTAGAGACCAGTATAACCTGCTCTTAGCTAACCTCCCCAGAGCTACAGGCAAGTATTAGGAAACTCCTTCTGACTTTCCTTTAGGAGGTTTCATAAGAAGAATGCAGAATTCAAAGCAGCATTTATACTGAGATGTCTTATGGTTAAGTCAATAAATCTGCCTTCTCACACCGCAAATTGGTTTACATTTAGATGTGCTTTTCAAAAGTACATCTTGGGAGAAGAAGGGTTAGTTCCCCCAAAACAGTTGTTCTAGAGATGAGTGGAATCTGCACTGTCTCCACTTTAGCATTGTAATAGAAAAGAGATGGAAAGGAGCTATTACAGTTCTTCCCTTCACCTACCACAACTGGATATTGTCTCCAGGCAGAGGGCAATATTAAACTGATAATATATACAGCTCGCGATAAGGAGAAAGAAGGGAGAAAAAATACCATCTTCAAACAGGAAGGGTGTTCAAAGATACTCAGCAAGTCTAAGGAATTTTATTAGGACGTACTGCTTAGGCTTTTAAAATTATTTAAAAACATAAAGCATGTAATTCTTCCCACTCTTTATCATGAAGGCTATTCACACCAGTCAAAACTGGGAACAAATGCTAGTGAATGCTGCCTATTTCATACAAGTCAAAAAAGGCTGAACCTCTCAAGAAAATAGGTCAAAACTCACACATGCTGTTTTGTGTGTTAATAAGATGTGCATGGTATGTACCCTTAAAAGCTAGACCCTTTGCTCCTGTCATGATTTTGTTCCAAATAGTATTCTTGAAGACTATTCTCTGCACTCTTGCATTCCCTTCCACTTTTAGAGGACATAAAAAGAATGCTTCCATGGCTAGAAAAGCCTTACAAATCCACAGCACGTTGTTCTCTATATCCTCCAACTCCAACACGTACTGGAGATTAGTTTGTATCTATAAAAAGAACTACAGCTGTTCACGCTCATCTACTTACAAGACGCTTGAAAAACCACATATTAATTAGAGAGAATTTGTTTGGGAGCACTTCAAAACTCGTGTGTGTACTCCCTGTGTAGCTAACAGCTTTGCCTTTACCTCTACTGAGACTATAAAAATCGTTCAGGAGAAAGCCTACAAAATTCATTTCACCTGAATAACTCTCTAAGTGATTCACATTGTAACCCCAGTGGCATTTGAAATAAATCATTATTAGTTCATATTTCAACTCA",
         "MTVQDVPGAFPTVDVPDHAHYTIGVVILLVGITGTLGNFLVIYVFCRSRSLQTPANVFIVNLAISDFLMSITQSPVFFTNSLHKRWIFGEKGCELYAFCGALFGITSMITLMVIALDRYFVITKPLSSVGVTSKKKALIILVGVWLYSLAWSLPPFFGWSAYVPEGLLTSCSWDYMTFTPSVRAYTMLLFCFVFFIPLIAIIYSYIFIFEAIKKANKSIQTFGCKHGNKECQKQYQRMKNEWKMAKIALIVILLYVISWSPYSIVALVAFAGYSHVLTPFMNSIPAVIAKASVIHNPIIYAITHPKYRRAIATYVPCLGSLLRVSPKDSRSFSSYTSSRRATVTSQSSQISGLQKGRRRLSSLPNSESDCTDTETDTLSVFSRLASRQISYETDKDTTQTSDLRAKPKLKSHDSGIYQKTPVDIEDISMEELNATEYTTTPTRGENLNGIEQRKGESHHRPSAAQIPSITITYSNIQGAELPSGYNSGFLYPKINSHKQNKKSNS",
         "PREDICTED: Columba livia opsin 4 (OPN4), transcript variant X9, mRNA",
         "NA",
         "505"
        ],
        [
         "4",
         "XM_065067773.1",
         "Chordata",
         "Craniata",
         "Aves",
         "Columba",
         "livia",
         "Columba livia",
         "",
         "MDLPLGAPTMTVQDVPGAFPTVDVPDHAHYTIGVVILLVGITGTLGNFLVIYVFCRSRSLQTPANVFIVNLAISDFLMSITQSPVFFTNSLHKRWIFGEKGCELYAFCGALFGITSMITLMVIALDRYFVITKPLSSVGVTSKKKALIILVGVWLYSLAWSLPPFFGWSAYVPEGLLTSCSWDYMTFTPSVRAYTMLLFCFVFFIPLIAIIYSYIFIFEAIKKANKSIQTFGCKHGNKECQKQYQRMKNEWKMAKIALIVILLYVISWSPYSIVALVAFAGYSHVLTPFMNSIPAVIAKASVIHNPIIYAITHPKYRRAIATYVPCLGSLLRVSPKDSRSFSSYTSSRRATVTSQSSQISGLQKGRRRLSSLPNSESDCTDTETDTLSVFSRLASRQISYETDKDTTQTSDLRAKPKLKSHDSGIYQKTPVDIEDISMEELNATEYTTTPTRGENLNGIEQRKGESHHRPSAAQIPSITITYSNIQGAELPSGYNSGFLYPKINSHKQNKKSNS",
         "PREDICTED: Columba livia opsin 4 (OPN4), transcript variant X7, mRNA",
         "NA",
         "514"
        ]
       ],
       "shape": {
        "columns": 12,
        "rows": 5
       }
      },
      "text/html": [
       "<div>\n",
       "<style scoped>\n",
       "    .dataframe tbody tr th:only-of-type {\n",
       "        vertical-align: middle;\n",
       "    }\n",
       "\n",
       "    .dataframe tbody tr th {\n",
       "        vertical-align: top;\n",
       "    }\n",
       "\n",
       "    .dataframe thead th {\n",
       "        text-align: right;\n",
       "    }\n",
       "</style>\n",
       "<table border=\"1\" class=\"dataframe\">\n",
       "  <thead>\n",
       "    <tr style=\"text-align: right;\">\n",
       "      <th></th>\n",
       "      <th>Accession</th>\n",
       "      <th>Phylum</th>\n",
       "      <th>Subphylum</th>\n",
       "      <th>Class</th>\n",
       "      <th>Genus</th>\n",
       "      <th>Species</th>\n",
       "      <th>Full_Species</th>\n",
       "      <th>DNA</th>\n",
       "      <th>Protein</th>\n",
       "      <th>Gene_Description</th>\n",
       "      <th>Species_Synonym_Used</th>\n",
       "      <th>Prot_Len</th>\n",
       "    </tr>\n",
       "  </thead>\n",
       "  <tbody>\n",
       "    <tr>\n",
       "      <th>0</th>\n",
       "      <td>NM_001310048.1</td>\n",
       "      <td>Chordata</td>\n",
       "      <td>Craniata</td>\n",
       "      <td>Aves</td>\n",
       "      <td>Columba</td>\n",
       "      <td>livia</td>\n",
       "      <td>Columba livia</td>\n",
       "      <td>GTCCGCCGCCATGCAGAGGGCGCGTGAGGCGCGTGACGAGCTCCCC...</td>\n",
       "      <td>MQRAREARDELPDDFYIPMALDAPNLTALSPFLVPQTHLGSPGVFR...</td>\n",
       "      <td>Columba livia blue-sensitive opsin (OPN2SW), mRNA</td>\n",
       "      <td>NA</td>\n",
       "      <td>365</td>\n",
       "    </tr>\n",
       "    <tr>\n",
       "      <th>1</th>\n",
       "      <td>NM_001310049.1</td>\n",
       "      <td>Chordata</td>\n",
       "      <td>Craniata</td>\n",
       "      <td>Aves</td>\n",
       "      <td>Columba</td>\n",
       "      <td>livia</td>\n",
       "      <td>Columba livia</td>\n",
       "      <td>TACCATTGGCAGGATGAATGGGACAGAAGGTATCAATTTTTACGTG...</td>\n",
       "      <td>MNGTEGINFYVPMSNKTGVVRSPFEYPQYYLAEPWKYRVVCCYIFF...</td>\n",
       "      <td>Columba livia rhodopsin (opsin 2, rod pigment)...</td>\n",
       "      <td>NA</td>\n",
       "      <td>355</td>\n",
       "    </tr>\n",
       "    <tr>\n",
       "      <th>2</th>\n",
       "      <td>NM_001282821.1</td>\n",
       "      <td>Chordata</td>\n",
       "      <td>Craniata</td>\n",
       "      <td>Aves</td>\n",
       "      <td>Columba</td>\n",
       "      <td>livia</td>\n",
       "      <td>Columba livia</td>\n",
       "      <td>ATGTCGGGTGACGAGGAGTTTTACCTTTTCAAGAATGGGTCCTCGG...</td>\n",
       "      <td>MSGDEEFYLFKNGSSVGPWDGPQYHIAPPWAFYLQTAFMGFVFLVG...</td>\n",
       "      <td>Columba livia opsin 1, short wave sensitive (O...</td>\n",
       "      <td>NA</td>\n",
       "      <td>347</td>\n",
       "    </tr>\n",
       "    <tr>\n",
       "      <th>3</th>\n",
       "      <td>XM_065067775.1</td>\n",
       "      <td>Chordata</td>\n",
       "      <td>Craniata</td>\n",
       "      <td>Aves</td>\n",
       "      <td>Columba</td>\n",
       "      <td>livia</td>\n",
       "      <td>Columba livia</td>\n",
       "      <td>TCTTGGAGCCCCGACACCTTAACAGAAGGAACTGTGTGCTGCCCTC...</td>\n",
       "      <td>MTVQDVPGAFPTVDVPDHAHYTIGVVILLVGITGTLGNFLVIYVFC...</td>\n",
       "      <td>PREDICTED: Columba livia opsin 4 (OPN4), trans...</td>\n",
       "      <td>NA</td>\n",
       "      <td>505</td>\n",
       "    </tr>\n",
       "    <tr>\n",
       "      <th>4</th>\n",
       "      <td>XM_065067773.1</td>\n",
       "      <td>Chordata</td>\n",
       "      <td>Craniata</td>\n",
       "      <td>Aves</td>\n",
       "      <td>Columba</td>\n",
       "      <td>livia</td>\n",
       "      <td>Columba livia</td>\n",
       "      <td></td>\n",
       "      <td>MDLPLGAPTMTVQDVPGAFPTVDVPDHAHYTIGVVILLVGITGTLG...</td>\n",
       "      <td>PREDICTED: Columba livia opsin 4 (OPN4), trans...</td>\n",
       "      <td>NA</td>\n",
       "      <td>514</td>\n",
       "    </tr>\n",
       "  </tbody>\n",
       "</table>\n",
       "</div>"
      ],
      "text/plain": [
       "        Accession    Phylum Subphylum Class    Genus Species   Full_Species  \\\n",
       "0  NM_001310048.1  Chordata  Craniata  Aves  Columba   livia  Columba livia   \n",
       "1  NM_001310049.1  Chordata  Craniata  Aves  Columba   livia  Columba livia   \n",
       "2  NM_001282821.1  Chordata  Craniata  Aves  Columba   livia  Columba livia   \n",
       "3  XM_065067775.1  Chordata  Craniata  Aves  Columba   livia  Columba livia   \n",
       "4  XM_065067773.1  Chordata  Craniata  Aves  Columba   livia  Columba livia   \n",
       "\n",
       "                                                 DNA  \\\n",
       "0  GTCCGCCGCCATGCAGAGGGCGCGTGAGGCGCGTGACGAGCTCCCC...   \n",
       "1  TACCATTGGCAGGATGAATGGGACAGAAGGTATCAATTTTTACGTG...   \n",
       "2  ATGTCGGGTGACGAGGAGTTTTACCTTTTCAAGAATGGGTCCTCGG...   \n",
       "3  TCTTGGAGCCCCGACACCTTAACAGAAGGAACTGTGTGCTGCCCTC...   \n",
       "4                                                      \n",
       "\n",
       "                                             Protein  \\\n",
       "0  MQRAREARDELPDDFYIPMALDAPNLTALSPFLVPQTHLGSPGVFR...   \n",
       "1  MNGTEGINFYVPMSNKTGVVRSPFEYPQYYLAEPWKYRVVCCYIFF...   \n",
       "2  MSGDEEFYLFKNGSSVGPWDGPQYHIAPPWAFYLQTAFMGFVFLVG...   \n",
       "3  MTVQDVPGAFPTVDVPDHAHYTIGVVILLVGITGTLGNFLVIYVFC...   \n",
       "4  MDLPLGAPTMTVQDVPGAFPTVDVPDHAHYTIGVVILLVGITGTLG...   \n",
       "\n",
       "                                    Gene_Description Species_Synonym_Used  \\\n",
       "0  Columba livia blue-sensitive opsin (OPN2SW), mRNA                   NA   \n",
       "1  Columba livia rhodopsin (opsin 2, rod pigment)...                   NA   \n",
       "2  Columba livia opsin 1, short wave sensitive (O...                   NA   \n",
       "3  PREDICTED: Columba livia opsin 4 (OPN4), trans...                   NA   \n",
       "4  PREDICTED: Columba livia opsin 4 (OPN4), trans...                   NA   \n",
       "\n",
       "   Prot_Len  \n",
       "0       365  \n",
       "1       355  \n",
       "2       347  \n",
       "3       505  \n",
       "4       514  "
      ]
     },
     "execution_count": 23,
     "metadata": {},
     "output_type": "execute_result"
    }
   ],
   "source": [
    "\n",
    "ncbi_sp_list = ncbi_query_df['Full_Species'].to_list()\n",
    "ncbi_prot_list = ncbi_query_df['Protein'].to_list()\n",
    "ncbi_query_df.head()"
   ]
  },
  {
   "cell_type": "code",
   "execution_count": 24,
   "metadata": {},
   "outputs": [],
   "source": [
    "report_dir2 = './data_sources/seqs'\n",
    "sequence_list = []\n",
    "acc_list = []\n",
    "db_sp_list = []\n",
    "prot_descriptions = []\n",
    "source_list = []"
   ]
  },
  {
   "cell_type": "markdown",
   "metadata": {},
   "source": [
    "### <font color=#c994c7>Bilaterian Animal Opsins: Ramirez et al 2016</font>"
   ]
  },
  {
   "cell_type": "code",
   "execution_count": 25,
   "metadata": {},
   "outputs": [
    {
     "data": {
      "application/vnd.microsoft.datawrangler.viewer.v0+json": {
       "columns": [
        {
         "name": "index",
         "rawType": "int64",
         "type": "integer"
        },
        {
         "name": "gene_ID",
         "rawType": "object",
         "type": "string"
        },
        {
         "name": "Organism",
         "rawType": "object",
         "type": "string"
        },
        {
         "name": "Protein names",
         "rawType": "object",
         "type": "string"
        },
        {
         "name": "aligned_seqs",
         "rawType": "object",
         "type": "string"
        }
       ],
       "conversionMethod": "pd.DataFrame",
       "ref": "e18fa744-739b-4ff8-bc17-430e781682d5",
       "rows": [
        [
         "0",
         "KX714605",
         "Acanthopleura granulata",
         "xenopsin",
         "----------------------------------------------------------------------------------------------------------------------------------------------------------------------------------------------------------------------------------------------------------------------------------------------------------------------------------------------------------------------------------------------------------------------------------------------------------------------------------------------------------------------------------------------------------------------------------------------------------------------------------------------------------------------------------------MVYSYYHVF----------MT---------------------------------------VR-------------------------------------SVSR---SGVWDMNSR--------------------------------------------------------------------------------------------------------------------------------------------------------------------------------------------------------------------------------------------------------------------------------------------------------------------------------------------------------------------------------------------------------------------------VAR------K-------------------N-LKIEK---------------------------------------------------------------------------------K--------------------------------MA-------------------------K----TIG----L---MV------------------FAFLLSWSPYAVVSLW-AAF---GNP--------------------------------------------------------D-D-------------------------------------------------------------------------------------ISV-LAGVLPAVMAKSSIIWNPIIYVAT-----NKQ-------------F----------------RHG----F------FA-----VI----"
        ],
        [
         "1",
         "KX714606",
         "Acanthopleura granulata",
         "canonical_r-opsin",
         "---------YII-------------------------------GVY---I--T-------------------------LV-----------------GI-TGVFGNF-L---------------------VIW-IFS-------R-----------T-----------------KS-LR-TP-ANM---F--VVNLAISDLTFS-AIN-----------GFP---L----LSFSA----------------------------------------------------------------F--YKRWIF------GK-----A--A-C-------------------------------------------------E-----------------------------------------------LYGLVG----------GIF----------------------------------------GL--MSINTMAMIAI---D-------RYLV-I-----A----RP----LS----------------VMR-HM---S-HKRAFFML-M-LVWI-WSILWAIPP-I--F--G--WGAYIP--E-GF------Q----TSCSFD-YLTR--T--DYF--RSYIFCLYICG-----F--VVPVLIIFFCYVLIV----------KA---------------------------------------VA-------D------------------------------------------HEK--E--M------------------------------------------------------------------------------------------------------------------------------------------------------------------------------------------------------------------------------------------------------------------------------------------------V-NMAKKL-------------D-----AKDI----------------------------------------R----QGQ--------------------------------------DQ------K---------------------T--EI---------------------------------------------------------------------------------K--------------------------------TA-------------------------K----IAF----Y---TI------------------TLFLLSWTPYAVVALI-GEF----GPA------Q------------------------------------------------Y---------------------------------------------------------------------------------------VTP-YASEIPVMFAKTSAMYNPIVYALS-----HPK-------------F----------------REV----L------NK-----KL----"
        ],
        [
         "2",
         "1_Acroporadigitifera",
         "Acropora digitifera",
         "58percent_match_PREDICTED visual pigment-like receptor peropsin",
         "---------Y--------------------------------------------------------------------------------------------------------------------------------------------------------------------------------------------------------------------------------------------------------------------------------------------------------------------------------------------------------------------------------------------------------------------------------------------------------------------------------------------------------------------------------------------------------------------------------------------------------------------------------LACRPE-ASCQ--S--CR----------MTLH-----P--EIPARKIAYTRALVS----------RD---------------------------------------IQ-------K------------------------------------------ELL-----R-----------------------------------------------------------------------------R-------------------------------------------------------------------------------------------------------------------------------------------------------------------------------------------------------------------------------------DVVTEDSRIKL--------------------------------------------------------------------------------------RRR------H---------------------W--QM---------------------------------------------------------------------------------K--------------------------------LL-------------------------R----LTA----V---AI------------------TAFMLSWSPYSLVSLT-SIF----RGN------S------------------------------------------------V---------------------------------------------------------------------------------------LST-GEAEVPALMAKASVIYNPIVYTVM-----NRR-------------F----------------RRT----L------RH-----IV----"
        ],
        [
         "3",
         "XP_015763203",
         "Acropora digitifera",
         "na",
         "---------IVY-------------------------------VVI---M--T-------------------------VI-----------------LI-VGFLGNL-F---------------------TII-VLR----C--P-----------------------------EH-KKK-I-ITP---L--MMNLAFADIIII-VFG------------YP---V----VMASNF------------------------------------------------------------------TEHNVL------TN---PML----C-------------------------------------------------V-----------------------------------------------WSGFIN----------GSV----------------------------------------GI--ASIANLTMMSL---V-------MFKS-L-----N----------KV----------------GTVKKI---P-WKKMLAMI-L-FTWV-YGVLSMFPP-L--V--G--WNKFVP--G-AS------G----ISCCPD-WSPD--T--KAA--VGYNILLVFVG-----F--VLPLTIIIFCYYRMY----------RF---------------------------------------IH-------T------------------------------------------QQ------P-----------------------------------------------------------------------------V-------------------------------------------------------------------------------------------------------------------------------------------------------------------------------------------------------------------------------------TGN---ASIQA--------------------------------------------------------------------------------------SRR------R---------------------S--EI---------------------------------------------------------------------------------K--------------------------------IV-------------------------R----MIA----L---AI------------------AAFVLSWSPYCFVSIA-GTI----RGS------S------------------------------------------------L---------------------------------------------------------------------------------------LTA-GEAEVPDLLAKASVIYNPIVYTVM-----NDR-------------F----------------RGT----L------LR-----VI----"
        ],
        [
         "4",
         "XP_015773304",
         "Acropora digitifera",
         "PREDICTED: melanopsin-like",
         "---------IAY-------------------------------GVV---M--I-------------------------AV-----------------LS-IGFLGNT-M---------------------TVL-ILR----K--H-----------------------------EH-ASK-S-LTP---L--MINLAIASLIII-VLG------------YP---L----VISLVV------------------------------------------------------------------RGSHVT------KE---DPT----C-------------------------------------------------R-----------------------------------------------WSAFIN----------GTV----------------------------------------GI--SSIATLTEMSL---V-------INYS-L-----H----------RM----------------NPNVRL---T-KRNMALLI-A-GAWL-YGLVSMFPP-L--V--G--WNRFVP--G-AV------R----ISCGPD-WTDK--S--ASG--VSYNLVLVVLG-----F--FLPLCVMIKAYYEIY----------RL---------------------------------------LR-------S------------------------------------------REM-----L-----------------------------------------------------------------------------I-------------------------------------------------------------------------------------------------------------------------------------------------------------------------------------------------------------------------------------SAN---GSFQL--------------------------------------------------------------------------------------RQK------L---------------------Y--IK---------------------------------------------------------------------------------K--------------------------------LV-------------------------R----MTV----L---AI------------------AAFMLSWAPYCFVSIV-AIF----KGS------H------------------------------------------------I---------------------------------------------------------------------------------------ITS-GEAEIPELMAKASVIYNPVVYLIT-----NSS-------------Y----------------RAS----F------WK-----VI----"
        ]
       ],
       "shape": {
        "columns": 4,
        "rows": 5
       }
      },
      "text/html": [
       "<div>\n",
       "<style scoped>\n",
       "    .dataframe tbody tr th:only-of-type {\n",
       "        vertical-align: middle;\n",
       "    }\n",
       "\n",
       "    .dataframe tbody tr th {\n",
       "        vertical-align: top;\n",
       "    }\n",
       "\n",
       "    .dataframe thead th {\n",
       "        text-align: right;\n",
       "    }\n",
       "</style>\n",
       "<table border=\"1\" class=\"dataframe\">\n",
       "  <thead>\n",
       "    <tr style=\"text-align: right;\">\n",
       "      <th></th>\n",
       "      <th>gene_ID</th>\n",
       "      <th>Organism</th>\n",
       "      <th>Protein names</th>\n",
       "      <th>aligned_seqs</th>\n",
       "    </tr>\n",
       "  </thead>\n",
       "  <tbody>\n",
       "    <tr>\n",
       "      <th>0</th>\n",
       "      <td>KX714605</td>\n",
       "      <td>Acanthopleura granulata</td>\n",
       "      <td>xenopsin</td>\n",
       "      <td>----------------------------------------------...</td>\n",
       "    </tr>\n",
       "    <tr>\n",
       "      <th>1</th>\n",
       "      <td>KX714606</td>\n",
       "      <td>Acanthopleura granulata</td>\n",
       "      <td>canonical_r-opsin</td>\n",
       "      <td>---------YII-------------------------------GVY...</td>\n",
       "    </tr>\n",
       "    <tr>\n",
       "      <th>2</th>\n",
       "      <td>1_Acroporadigitifera</td>\n",
       "      <td>Acropora digitifera</td>\n",
       "      <td>58percent_match_PREDICTED visual pigment-like ...</td>\n",
       "      <td>---------Y------------------------------------...</td>\n",
       "    </tr>\n",
       "    <tr>\n",
       "      <th>3</th>\n",
       "      <td>XP_015763203</td>\n",
       "      <td>Acropora digitifera</td>\n",
       "      <td>na</td>\n",
       "      <td>---------IVY-------------------------------VVI...</td>\n",
       "    </tr>\n",
       "    <tr>\n",
       "      <th>4</th>\n",
       "      <td>XP_015773304</td>\n",
       "      <td>Acropora digitifera</td>\n",
       "      <td>PREDICTED: melanopsin-like</td>\n",
       "      <td>---------IAY-------------------------------GVV...</td>\n",
       "    </tr>\n",
       "  </tbody>\n",
       "</table>\n",
       "</div>"
      ],
      "text/plain": [
       "                gene_ID                 Organism  \\\n",
       "0              KX714605  Acanthopleura granulata   \n",
       "1              KX714606  Acanthopleura granulata   \n",
       "2  1_Acroporadigitifera      Acropora digitifera   \n",
       "3          XP_015763203      Acropora digitifera   \n",
       "4          XP_015773304      Acropora digitifera   \n",
       "\n",
       "                                       Protein names  \\\n",
       "0                                           xenopsin   \n",
       "1                                  canonical_r-opsin   \n",
       "2  58percent_match_PREDICTED visual pigment-like ...   \n",
       "3                                                 na   \n",
       "4                         PREDICTED: melanopsin-like   \n",
       "\n",
       "                                        aligned_seqs  \n",
       "0  ----------------------------------------------...  \n",
       "1  ---------YII-------------------------------GVY...  \n",
       "2  ---------Y------------------------------------...  \n",
       "3  ---------IVY-------------------------------VVI...  \n",
       "4  ---------IAY-------------------------------GVV...  "
      ]
     },
     "execution_count": 25,
     "metadata": {},
     "output_type": "execute_result"
    }
   ],
   "source": [
    "ramirez_file = f'{report_dir2}/bilaterian_animal_ops/Supplemental_Table_T1_cleaned.csv'\n",
    "ramirez_df = pd.read_csv(ramirez_file)\n",
    "ramirez_df.head()"
   ]
  },
  {
   "cell_type": "code",
   "execution_count": 26,
   "metadata": {},
   "outputs": [
    {
     "data": {
      "text/plain": [
       "(768, 4)"
      ]
     },
     "execution_count": 26,
     "metadata": {},
     "output_type": "execute_result"
    }
   ],
   "source": [
    "ramirez_df.shape"
   ]
  },
  {
   "cell_type": "code",
   "execution_count": 27,
   "metadata": {},
   "outputs": [
    {
     "name": "stderr",
     "output_type": "stream",
     "text": [
      "C:\\Users\\safra\\AppData\\Local\\Temp\\ipykernel_25168\\4088448753.py:2: SettingWithCopyWarning: \n",
      "A value is trying to be set on a copy of a slice from a DataFrame.\n",
      "Try using .loc[row_indexer,col_indexer] = value instead\n",
      "\n",
      "See the caveats in the documentation: https://pandas.pydata.org/pandas-docs/stable/user_guide/indexing.html#returning-a-view-versus-a-copy\n",
      "  ramirez_df_filtered['raw_seqs'] = ramirez_df_filtered['aligned_seqs'].str.replace('-', '')\n",
      "C:\\Users\\safra\\AppData\\Local\\Temp\\ipykernel_25168\\4088448753.py:7: SettingWithCopyWarning: \n",
      "A value is trying to be set on a copy of a slice from a DataFrame.\n",
      "Try using .loc[row_indexer,col_indexer] = value instead\n",
      "\n",
      "See the caveats in the documentation: https://pandas.pydata.org/pandas-docs/stable/user_guide/indexing.html#returning-a-view-versus-a-copy\n",
      "  ramirez_df_filtered['prot_len'] = prot_len_list\n"
     ]
    },
    {
     "data": {
      "application/vnd.microsoft.datawrangler.viewer.v0+json": {
       "columns": [
        {
         "name": "index",
         "rawType": "int64",
         "type": "integer"
        },
        {
         "name": "gene_ID",
         "rawType": "object",
         "type": "string"
        },
        {
         "name": "Organism",
         "rawType": "object",
         "type": "string"
        },
        {
         "name": "Protein names",
         "rawType": "object",
         "type": "string"
        },
        {
         "name": "aligned_seqs",
         "rawType": "object",
         "type": "string"
        },
        {
         "name": "raw_seqs",
         "rawType": "object",
         "type": "string"
        },
        {
         "name": "prot_len",
         "rawType": "int64",
         "type": "integer"
        }
       ],
       "conversionMethod": "pd.DataFrame",
       "ref": "7d51a1cb-7cee-4451-83e0-1ecc9243f0c2",
       "rows": [
        [
         "0",
         "U3IU26",
         "Anas platyrhynchos",
         "Uncharacterized protein",
         "TQTEH----NIV-------------------------------AAY---L--I-------------------------TA-----------------GV-ISIFSNI-V---------------------VLG-IFVK---Y--K-----------------------------EL-R--TA-TNA---I--IINLAFTDIGV-SGIG------------YP---M----SAASDL-----------H---------------------------------------------------G--S--WKF----GH-------T--G-C---------------------------------------------QKFRLTDKLCFSSRECHLLTVCCDLSLLLNRLLGLSAQKISLDQDSQWVEVDIYAALN----------IFF----------------------------------------GM--ASIGLLTVVAV---D-------RYLT-I-----C----RP----DI-------GRR-----------M---T-TRTYATLI-L-AAWI-NAVFWASMP-T--V--G--WAGYAP--D-PT------G----ATCTVN-WRKN---D-ASF--VSYTMSVIAVN-----F--VVPLTVMFYCYYNVS----------RK---------------------------------------MK-------KYTST--------------------------NCLESI------NTD--------------------------------------------------------------------------------------------------------------------------------------------------------------------------------------------------------------------------------------------------------------------------------------------------------------------------------------------------------------------------------------------------------------------------WSD------Q-----------------------------------------------------------------------------------------------------------V----------------------------D---VT-------------------------K----MSV----V---MI------------------VMFLVAWSPYSIVCLW-SSF---GDP-------K------------------------------------------------K---------------------------------------------------------------------------------------ISP-AMAIIAPLFAKSSTFYNPCIYVIA-----NKK-------------F----------------RRA----I------LA-----MV----",
         "TQTEHNIVAAYLITAGVISIFSNIVVLGIFVKYKELRTATNAIIINLAFTDIGVSGIGYPMSAASDLHGSWKFGHTGCQKFRLTDKLCFSSRECHLLTVCCDLSLLLNRLLGLSAQKISLDQDSQWVEVDIYAALNIFFGMASIGLLTVVAVDRYLTICRPDIGRRMTTRTYATLILAAWINAVFWASMPTVGWAGYAPDPTGATCTVNWRKNDASFVSYTMSVIAVNFVVPLTVMFYCYYNVSRKMKKYTSTNCLESINTDWSDQVDVTKMSVVMIVMFLVAWSPYSIVCLWSSFGDPKKISPAMAIIAPLFAKSSTFYNPCIYVIANKKFRRAILAMV",
         "340"
        ],
        [
         "1",
         "A0A0R4IEG0",
         "Danio rerio",
         "Novopsin-10",
         "SPSAD----LSI-------------------------------AVF---L--I-------------------------IT-----------------GV-VSVFGNG-L---------------------VLL-VYGQ------------------------------------RR-KKLRA-HEL---M--TINLAVCDFGYS-LLG------------AP---C----IIISSL---------------------------------------------------------------S--HA-WIF----GE-------T--G-C-------------------------------------------------I-----------------------------------------------WYGIQG----------FVF----------------------------------------GI--GSLITTCLISL---D-------RCFK-I-----C----SF----R------Y---G--QW-------V---E-RKHASLSV-T-LVWI-YTLFWASLP-M--F--G--FGSYGP--E-PF------G----TSCTIN-WWRM---N-SSLTDRIYIFLILSLC-----F--GVPTLIIIASYLAIV----------IR---------------------------------------VY-------------------------------------WSSHI-LASIPSSNV------------------------------------------------------------------------------------------------------------------------------------------------------------------------------------------------------------------------------------------------------------------------------------------------------------------------------------------------------------------------------------------------------------------------------------T-------------------H-NSKDL---------------------------------------------------------------------------------R--------------------------------LT-------------------------K----IAA----V---VC------------------SSFLIAWTPYAIVSLY-SAV---MA--------R------------------------------------------------E-EQLGEDGGTAIPGGITGTGIGRGGGFPDVYAFPFLINWTSSEQFGDVFGSWRNMTSGHSHSVGHHGSNVGSGHGGTGGHHSLPESILKP-EFSLIPAIFAKSHCMINPFIYQIM-----NRD-------------F----------------RED----V------YD-----LL----",
         "SPSADLSIAVFLIITGVVSVFGNGLVLLVYGQRRKKLRAHELMTINLAVCDFGYSLLGAPCIIISSLSHAWIFGETGCIWYGIQGFVFGIGSLITTCLISLDRCFKICSFRYGQWVERKHASLSVTLVWIYTLFWASLPMFGFGSYGPEPFGTSCTINWWRMNSSLTDRIYIFLILSLCFGVPTLIIIASYLAIVIRVYWSSHILASIPSSNVTHNSKDLRLTKIAAVVCSSFLIAWTPYAIVSLYSAVMAREEQLGEDGGTAIPGGITGTGIGRGGGFPDVYAFPFLINWTSSEQFGDVFGSWRNMTSGHSHSVGHHGSNVGSGHGGTGGHHSLPESILKPEFSLIPAIFAKSHCMINPFIYQIMNRDFREDVYDLL",
         "378"
        ],
        [
         "2",
         "Q80XL3",
         "Mus musculus",
         "Rrh protein",
         "SRTEH----SVI-------------------------------AAY---L--I-------------------------VA-----------------GI-TSILSNV-V---------------------VLG-IFIK---Y--K-----------------------------EL-R--TP-TNA---V--IINLAFTDIGV-SSIG------------YP---M----SAASDL-----------H---------------------------------------------------G--S--WKF----GH-------A--G-C-------------------------------------------------QFQGRNDRQVTGCLYTCLVPHVCNAGGAKRRAVDLLKLTLQMD-----IYAGLN----------IFF----------------------------------------GM--VSIGLLTVVAM---D-------RYLT-I-----S----CP----DV-------GRR-----------M---T-TNTYLSMI-L-GAWI-NGLFWALMP-I--I--G--WASYAP--D-PT------G----ATCTIN-WRNN---D-TSF--VSYTMMVIVVN-----F--IVPLTVMFYCYYHVS----------RS---------------------------------------LR-------LYAAS--------------------------DCTAHL------HRD--------------------------------------------------------------------------------------------------------------------------------------------------------------------------------------------------------------------------------------------------------------------------------------------------------------------------------------------------------------------------------------------------------------------------WAD------Q-----------------------------------------------------------------------------------------------------------A----------------------------D---VT-------------------------K----MSV----I---MI------------------LMFLLAWSPYSIVCLW-ACF---GNP-------K------------------------------------------------K---------------------------------------------------------------------------------------IPP-SMAIIAPLFAKSSTFYNPCIYVAA-----HKK-------------F----------------RKA----M------LA-----MF----",
         "SRTEHSVIAAYLIVAGITSILSNVVVLGIFIKYKELRTPTNAVIINLAFTDIGVSSIGYPMSAASDLHGSWKFGHAGCQFQGRNDRQVTGCLYTCLVPHVCNAGGAKRRAVDLLKLTLQMDIYAGLNIFFGMVSIGLLTVVAMDRYLTISCPDVGRRMTTNTYLSMILGAWINGLFWALMPIIGWASYAPDPTGATCTINWRNNDTSFVSYTMMVIVVNFIVPLTVMFYCYYHVSRSLRLYAASDCTAHLHRDWADQADVTKMSVIMILMFLLAWSPYSIVCLWACFGNPKKIPPSMAIIAPLFAKSSTFYNPCIYVAAHKKFRKAMLAMF",
         "331"
        ],
        [
         "3",
         "M3YAY1",
         "Mustela putorius furo",
         "Uncharacterized protein",
         "SQTEH----NIV-------------------------------AAY---L--I-------------------------TA-----------------GI-ISIFSNL-I---------------------VLG-IFIK---Y--K-----------------------------EL-R--TP-TNA---I--IINLAVTDIGV-SSIG------------YP---M----SAASDL-----------Y---------------------------------------------------G--S--WKF----GY-------A--G-C-------------------------------------------------QYSFNRPAHVHACVHVCVHTWCLS---NTKNHSMSLKCTLAME-----IYAGLN----------IFF----------------------------------------GM--ASIGLLTVVAI---D-------RYLT-I-----C----SP----DT-------GRR-----------M---T-TNTYIGMI-L-GAWL-NGLFWALMP-I--I--G--WASYAP--D-PT------G----ATCTIN-WRKN---D-ASF--VSFTMTVIAVN-----F--IVPLMVMFYCYYHVT----------RS---------------------------------------IK-------YRTTS--------------------------NCTEYL------NRD--------------------------------------------------------------------------------------------------------------------------------------------------------------------------------------------------------------------------------------------------------------------------------------------------------------------------------------------------------------------------------------------------------------------------WSD------Q-----------------------------------------------------------------------------------------------------------V----------------------------D---VT-------------------------K----MSV----I---MI------------------LMFLVAWSPYSIVCLW-ASF---GDP-------K------------------------------------------------K---------------------------------------------------------------------------------------IPP-SMAIIAPLFAKSSTFYNPCIYVVA-----NKK-------------F----------------RKA----M------FA-----MF----",
         "SQTEHNIVAAYLITAGIISIFSNLIVLGIFIKYKELRTPTNAIIINLAVTDIGVSSIGYPMSAASDLYGSWKFGYAGCQYSFNRPAHVHACVHVCVHTWCLSNTKNHSMSLKCTLAMEIYAGLNIFFGMASIGLLTVVAIDRYLTICSPDTGRRMTTNTYIGMILGAWLNGLFWALMPIIGWASYAPDPTGATCTINWRKNDASFVSFTMTVIAVNFIVPLMVMFYCYYHVTRSIKYRTTSNCTEYLNRDWSDQVDVTKMSVIMILMFLVAWSPYSIVCLWASFGDPKKIPPSMAIIAPLFAKSSTFYNPCIYVVANKKFRKAMFAMF",
         "328"
        ],
        [
         "4",
         "G1PJY3",
         "Myotis lucifugus",
         "Uncharacterized protein",
         "SQTEH----NIV-------------------------------ATY---L--I-------------------------MA-----------------GM-ISLLSNI-I---------------------VLG-IFIT---Y--K-----------------------------EL-R--TP-TNA---I--IINLAVTDIGV-SSIG------------YP---M----SAASDL-----------H---------------------------------------------------G--S--WKF----GY-------A--G-C-------------------------------------------------QFTILSYKIIKNKYYICHLPPC-----NVFQYVLQIVFLFKDQLHFDNIYAGLN----------IFF----------------------------------------GM--ASIGLLTVVAM---D-------RYLT-I-----C----HP----DA-------GRK-----------M---T-THTYISMI-L-GAWI-NGLFWALMP-I--I--G--WASYAP--D-PT------G----ATCTIN-WRKN---D-VSF--VSFTMTVIAIN-----F--IVPLTVMFYCYYHVT----------RS---------------------------------------IK-------CRATS--------------------------NCTEYL------NRD--------------------------------------------------------------------------------------------------------------------------------------------------------------------------------------------------------------------------------------------------------------------------------------------------------------------------------------------------------------------------------------------------------------------------WAD------Q-----------------------------------------------------------------------------------------------------------V----------------------------D---VT-------------------------K----MSV----I---MI------------------FMFLVAWSPYSIVCLW-ASF---GDP-------K------------------------------------------------K---------------------------------------------------------------------------------------IPP-SMAIIAPLFAKSSTFYNPCIYVVA-----NKK-------------F----------------RRA----M------FA-----MF----",
         "SQTEHNIVATYLIMAGMISLLSNIIVLGIFITYKELRTPTNAIIINLAVTDIGVSSIGYPMSAASDLHGSWKFGYAGCQFTILSYKIIKNKYYICHLPPCNVFQYVLQIVFLFKDQLHFDNIYAGLNIFFGMASIGLLTVVAMDRYLTICHPDAGRKMTTHTYISMILGAWINGLFWALMPIIGWASYAPDPTGATCTINWRKNDVSFVSFTMTVIAINFIVPLTVMFYCYYHVTRSIKCRATSNCTEYLNRDWADQVDVTKMSVIMIFMFLVAWSPYSIVCLWASFGDPKKIPPSMAIIAPLFAKSSTFYNPCIYVVANKKFRRAMFAMF",
         "331"
        ]
       ],
       "shape": {
        "columns": 6,
        "rows": 5
       }
      },
      "text/html": [
       "<div>\n",
       "<style scoped>\n",
       "    .dataframe tbody tr th:only-of-type {\n",
       "        vertical-align: middle;\n",
       "    }\n",
       "\n",
       "    .dataframe tbody tr th {\n",
       "        vertical-align: top;\n",
       "    }\n",
       "\n",
       "    .dataframe thead th {\n",
       "        text-align: right;\n",
       "    }\n",
       "</style>\n",
       "<table border=\"1\" class=\"dataframe\">\n",
       "  <thead>\n",
       "    <tr style=\"text-align: right;\">\n",
       "      <th></th>\n",
       "      <th>gene_ID</th>\n",
       "      <th>Organism</th>\n",
       "      <th>Protein names</th>\n",
       "      <th>aligned_seqs</th>\n",
       "      <th>raw_seqs</th>\n",
       "      <th>prot_len</th>\n",
       "    </tr>\n",
       "  </thead>\n",
       "  <tbody>\n",
       "    <tr>\n",
       "      <th>0</th>\n",
       "      <td>U3IU26</td>\n",
       "      <td>Anas platyrhynchos</td>\n",
       "      <td>Uncharacterized protein</td>\n",
       "      <td>TQTEH----NIV-------------------------------AAY...</td>\n",
       "      <td>TQTEHNIVAAYLITAGVISIFSNIVVLGIFVKYKELRTATNAIIIN...</td>\n",
       "      <td>340</td>\n",
       "    </tr>\n",
       "    <tr>\n",
       "      <th>1</th>\n",
       "      <td>A0A0R4IEG0</td>\n",
       "      <td>Danio rerio</td>\n",
       "      <td>Novopsin-10</td>\n",
       "      <td>SPSAD----LSI-------------------------------AVF...</td>\n",
       "      <td>SPSADLSIAVFLIITGVVSVFGNGLVLLVYGQRRKKLRAHELMTIN...</td>\n",
       "      <td>378</td>\n",
       "    </tr>\n",
       "    <tr>\n",
       "      <th>2</th>\n",
       "      <td>Q80XL3</td>\n",
       "      <td>Mus musculus</td>\n",
       "      <td>Rrh protein</td>\n",
       "      <td>SRTEH----SVI-------------------------------AAY...</td>\n",
       "      <td>SRTEHSVIAAYLIVAGITSILSNVVVLGIFIKYKELRTPTNAVIIN...</td>\n",
       "      <td>331</td>\n",
       "    </tr>\n",
       "    <tr>\n",
       "      <th>3</th>\n",
       "      <td>M3YAY1</td>\n",
       "      <td>Mustela putorius furo</td>\n",
       "      <td>Uncharacterized protein</td>\n",
       "      <td>SQTEH----NIV-------------------------------AAY...</td>\n",
       "      <td>SQTEHNIVAAYLITAGIISIFSNLIVLGIFIKYKELRTPTNAIIIN...</td>\n",
       "      <td>328</td>\n",
       "    </tr>\n",
       "    <tr>\n",
       "      <th>4</th>\n",
       "      <td>G1PJY3</td>\n",
       "      <td>Myotis lucifugus</td>\n",
       "      <td>Uncharacterized protein</td>\n",
       "      <td>SQTEH----NIV-------------------------------ATY...</td>\n",
       "      <td>SQTEHNIVATYLIMAGMISLLSNIIVLGIFITYKELRTPTNAIIIN...</td>\n",
       "      <td>331</td>\n",
       "    </tr>\n",
       "  </tbody>\n",
       "</table>\n",
       "</div>"
      ],
      "text/plain": [
       "      gene_ID               Organism            Protein names  \\\n",
       "0      U3IU26     Anas platyrhynchos  Uncharacterized protein   \n",
       "1  A0A0R4IEG0            Danio rerio              Novopsin-10   \n",
       "2      Q80XL3           Mus musculus              Rrh protein   \n",
       "3      M3YAY1  Mustela putorius furo  Uncharacterized protein   \n",
       "4      G1PJY3       Myotis lucifugus  Uncharacterized protein   \n",
       "\n",
       "                                        aligned_seqs  \\\n",
       "0  TQTEH----NIV-------------------------------AAY...   \n",
       "1  SPSAD----LSI-------------------------------AVF...   \n",
       "2  SRTEH----SVI-------------------------------AAY...   \n",
       "3  SQTEH----NIV-------------------------------AAY...   \n",
       "4  SQTEH----NIV-------------------------------ATY...   \n",
       "\n",
       "                                            raw_seqs  prot_len  \n",
       "0  TQTEHNIVAAYLITAGVISIFSNIVVLGIFVKYKELRTATNAIIIN...       340  \n",
       "1  SPSADLSIAVFLIITGVVSVFGNGLVLLVYGQRRKKLRAHELMTIN...       378  \n",
       "2  SRTEHSVIAAYLIVAGITSILSNVVVLGIFIKYKELRTPTNAVIIN...       331  \n",
       "3  SQTEHNIVAAYLITAGIISIFSNLIVLGIFIKYKELRTPTNAIIIN...       328  \n",
       "4  SQTEHNIVATYLIMAGMISLLSNIIVLGIFITYKELRTPTNAIIIN...       331  "
      ]
     },
     "execution_count": 27,
     "metadata": {},
     "output_type": "execute_result"
    }
   ],
   "source": [
    "ramirez_df_filtered = ramirez_df[ramirez_df['Organism'].isin(species_list)]\n",
    "ramirez_df_filtered['raw_seqs'] = ramirez_df_filtered['aligned_seqs'].str.replace('-', '')\n",
    "prot_len_list = []\n",
    "for prot in ramirez_df_filtered['raw_seqs']:\n",
    "    prot_len = len(prot)\n",
    "    prot_len_list.append(prot_len)\n",
    "ramirez_df_filtered['prot_len'] = prot_len_list\n",
    "ramirez_df_filtered = ramirez_df_filtered[ramirez_df_filtered['prot_len']>320].reset_index(drop=True)\n",
    "ramirez_df_filtered.head()"
   ]
  },
  {
   "cell_type": "code",
   "execution_count": 28,
   "metadata": {},
   "outputs": [
    {
     "data": {
      "text/plain": [
       "(6, 6)"
      ]
     },
     "execution_count": 28,
     "metadata": {},
     "output_type": "execute_result"
    }
   ],
   "source": [
    "ramirez_df_filtered.shape"
   ]
  },
  {
   "cell_type": "code",
   "execution_count": 29,
   "metadata": {},
   "outputs": [
    {
     "data": {
      "text/plain": [
       "6"
      ]
     },
     "execution_count": 29,
     "metadata": {},
     "output_type": "execute_result"
    }
   ],
   "source": [
    "len(set(ramirez_df_filtered['Organism'].to_list()))"
   ]
  },
  {
   "cell_type": "code",
   "execution_count": 30,
   "metadata": {},
   "outputs": [
    {
     "data": {
      "text/plain": [
       "(6, 7)"
      ]
     },
     "execution_count": 30,
     "metadata": {},
     "output_type": "execute_result"
    }
   ],
   "source": [
    "ramirez_df_filtered2 = ramirez_df_filtered[~ramirez_df_filtered['raw_seqs'].isin(ncbi_prot_list)]\n",
    "ramirez_df_filtered2 = ramirez_df_filtered2.reset_index(drop=True)\n",
    "ramirez_df_filtered2['source'] = 'Ramirez et al 2016'\n",
    "ramirez_df_filtered2.shape"
   ]
  },
  {
   "cell_type": "code",
   "execution_count": 31,
   "metadata": {},
   "outputs": [
    {
     "data": {
      "text/plain": [
       "6"
      ]
     },
     "execution_count": 31,
     "metadata": {},
     "output_type": "execute_result"
    }
   ],
   "source": [
    "ramirez_df_filtered2.to_csv(f'{report_dir2}/bilaterian_animal_ops/Supplemental_Table_T1_filtered.csv')\n",
    "len(set(ramirez_df_filtered2['raw_seqs'].to_list()))"
   ]
  },
  {
   "cell_type": "code",
   "execution_count": 32,
   "metadata": {},
   "outputs": [],
   "source": [
    "sequence_list += ramirez_df_filtered2['raw_seqs'].to_list()\n",
    "acc_list += ramirez_df_filtered2['gene_ID'].to_list()\n",
    "db_sp_list += ramirez_df_filtered2['Organism'].to_list()\n",
    "prot_descriptions += ramirez_df_filtered2['Protein names'].to_list()\n",
    "source_list += ramirez_df_filtered2['source'].to_list()"
   ]
  },
  {
   "cell_type": "markdown",
   "metadata": {},
   "source": [
    "### <font color=#c994c7>Crustacean Conundrums: Palecanda et al 2022</font>"
   ]
  },
  {
   "cell_type": "code",
   "execution_count": 33,
   "metadata": {},
   "outputs": [
    {
     "data": {
      "application/vnd.microsoft.datawrangler.viewer.v0+json": {
       "columns": [
        {
         "name": "index",
         "rawType": "int64",
         "type": "integer"
        },
        {
         "name": "Class",
         "rawType": "object",
         "type": "string"
        },
        {
         "name": "Order",
         "rawType": "object",
         "type": "string"
        },
        {
         "name": "Family",
         "rawType": "object",
         "type": "string"
        },
        {
         "name": "Genus species",
         "rawType": "object",
         "type": "string"
        },
        {
         "name": "Opsin Type",
         "rawType": "object",
         "type": "string"
        },
        {
         "name": "NCBI Accession #",
         "rawType": "object",
         "type": "unknown"
        },
        {
         "name": "Transcript ID",
         "rawType": "object",
         "type": "string"
        },
        {
         "name": "Untrimmed Nucleotide Sequence",
         "rawType": "object",
         "type": "string"
        },
        {
         "name": "Protein Sequence",
         "rawType": "object",
         "type": "string"
        }
       ],
       "conversionMethod": "pd.DataFrame",
       "ref": "0d62e230-fc6e-4c3b-8379-9c56f010597e",
       "rows": [
        [
         "0",
         "Malacostraca",
         "Amphipoda",
         "Corophiidae",
         "Grandidierella japonica",
         "LWS",
         "BK059768",
         "AMP|GrJap|LWS|IACS01070746.1",
         "ACTGAGAAATATCTACGGAAAAATGTCTTGGAATAGCCCAATGAACGCTCTGCCTGAAGGCATGGCCTCTTCTAACCCATTCGGCAACTACACAGTGGTGGACGCTGCCCCAAAGGAGATCCTCCATATGGTGGACCCTCATTGGTATCAGTTTCCCCCTATGAATCCTCTCTGGTACGGTCTCTTGGGATTCGCCATCTTCATTGCTGGAATTCTGGCTGTCGTTGGTAACTCTATCGTAGTCTGGGTATTCATGAACACCAAAAGCCTCAGATCTCCTGCCAACCTTCTCGTTGTAAACTTGGCCCTGTCTGACTTCTGCATGATGGCGACTATGTTTCCACCAATGGTTGTGAACTGCTACTATCACACCTGGTCTTTCAGTGCAATGTTCTGCGAAATATACGGATTCTTTGGCTCCCTCTTCGGATGTGTATCTATCTGGACCATGATCTTCATCACCTTGGATCGTTACAACGTTATCGTGAAGGGTGTTTCAGCTGAACCCCTCACCAGCAAGGGTTCCATGGCTAGAATTCTGTTCGTATGGGTATCATCACTCGCTTGGTGCCTCGCCCCTTCTTTGGCTGGAACAGATCGTACCCGAAGGAAACCTGACTGCCTGCGGTACCGACTACCTGACCGAACCAACATGTCCCACTTGTACTTGTACCTGTACGGACCTTCGTGTACTTCTTGTCCTCTGGTCATGATCATCCTTCTNNNNNNNNNNNNNNNNNNNNNNNNNNNNGCTCACGAAAAGCAAATGCGTGAACAAGCCAAGAAAATGGGAGTGAAGTCTCTTCGTAATGAGGAGGCACAGAAGACTTCAGCTGAGTGCCGTCTTGCCAAGGTCGCCCTCACCACCGTCTCTCTGTGGTTCATCGCATGGACCCCATACATGGTGATCAACTACGCTGGAATGCTCAACAAGCCTTTGATCAGCCCCATCTTCACCATCTGGGGATCTCTGTTCGCTAAGTGCAACGCTGTCTACAACCCAATTGTCTATGCCATCAGCCATCCCAGATACCGTGCCGCTTTGGAGAAGAAATTGCCTTGCCTTTCTTGCACCAGCGATGACCATGCAGCGACAGCGTCTCAGTCACCACCACACAGAGCGAACAGCCTGTCACAGAGAAATCTGAGAGTGCCTAAATATTCCAAATATTTCTCAGTGATCCTGTAGATACCTTACCTGGTTT",
         "LPEGMASSNPFGNYTVVDAAPKEILHMVDPHWYQFPPMNPLWYGLLGFAIFIAGILAVVGNSIVVWVFMNTKSLRSPANLLVVNLALSDFCMMATMFPPMVVNCYYHTWSFSAMFCEIYGFFGSLFGCVSIWTMIFITLDRYNVIVKGVSAEPLTSKGSMARILFVWVSSLAWCLAPSLAGTDRTRRKPDCLRYRLPDRTNMSHLYLYLYGPSCTSCPLVMIILXXXXXXXXXXAHEKQMREQAKKMGVKSLRNEEAQKTSAECRLAKVALTTVSLWFIAWTPYMVINYAGMLNKPLISPIFTIWGSLFAKCNAVYNPIVYAISHPRYRAALEKKLPCLSCTSDDHAATASQSPPHRA"
        ],
        [
         "1",
         "Malacostraca",
         "Amphipoda",
         "Corophiidae",
         "Grandidierella japonica",
         "MWS1",
         "BK059769",
         "AMP|GrJap|MWS|IACS01055269.1",
         "GGAGTCACCCAGGTTGACCTGGTTCCGGATTACATGAAGGACATGATTCACCCCCACTGGTCCAACTACCCGCCTGTGAACCCAATGTGGCATCACCTCCTGGGCCTGGTCTACATCATAATTGGGTCCTGTGCAACATTTGGTAACGGCCTCGTCATTTACCTTTTCTTGTCGAACAAGACCCTGAGGACTCCCTCTAATTTACTCGTGGCTAACCTAGCCATAAGTGACTTCCTGATGCTGGCCACTCAGTTTCCATTCTTCGTTTACAACTGCTTCAATGGCGGCATGTGGATGTTCTCGCCTTTCTTCTGTGAATTATATGCCTTCTTTGGGGCAGTGTCAGGCCTTGCTTCTCTCTGGTCGTTGGTTTTCATCAGCTACGATCGCTACAGAGTCATCGTACACGGCATTGCCGGCGAGCCTCTCACCTTCTTTAAGTGTTTCCTGTTCCTGTTGTTCGTGTGGGGATACGCCGTGGGAATATCAATTCCCCCCTTTGTTGGATGGGGGCGCTACATCCCCGAAGGTATCCTAGACTCCTGTTCCTTCGATTACCTCACTCGGGACTGGAATGTGCGATCCTTTGGTATCTTCCTCTTCGTGTTCTGCTACATCACGCCCCTCTCTGTCATCTGCTACTCCTACGTGTTTATCGTAAGGGCCGTCGTGAGCCATGAGAAGGCCATGCGAGAGCAGGCCAAGAAAATGAACGTCACCAATCTACGTTCAGGCCAGGGAGACAGCAGCGAGTCTACGGAGATGAGGATAGCTAAGGTGGCAATCATTAATGTTACGCTGTGGATTGTCTGCTGGACACCTTACTGCGCCATTGTGGTGCAGGGTTTATTCTTCAACCAAGCCGGAATCACTCCGTTGGTTTCAATGTTGCCGGCACTGCTGGCCAAGTCAACAGCTTGCTACAATCCAATGGTATACGCTTTAAGTCATCCCAAGTTTAGACTCGCGATGAAGTCCGTACCATGTTGCTGCCATTAGTGAGACAGAGA",
         "GVTQVDLVPDYMKDMIHPHWSNYPPVNPMWHHLLGLVYIIIGSCATFGNGLVIYLFLSNKTLRTPSNLLVANLAISDFLMLATQFPFFVYNCFNGGMWMFSPFFCELYAFFGAVSGLASLWSLVFISYDRYRVIVHGIAGEPLTFFKCFLFLLFVWGYAVGISIPPFVGWGRYIPEGILDSCSFDYLTRDWNVRSFGIFLFVFCYITPLSVICYSYVFIVRAVVSHEKAMREQAKKMNVTNLRSGQGDSSESTEMRIAKVAIINVTLWIVCWTPYCAIVVQGLFFNQAGITPLVSMLPALLAKSTACYNPMVYALSHPKFRLAMKSVPCCCH"
        ],
        [
         "2",
         "Malacostraca",
         "Amphipoda",
         "Corophiidae",
         "Grandidierella japonica",
         "NEUR",
         "BK059770",
         "AMP|GrJap|NEUR|IACS01028177.1",
         "AGTGTACGGCTACGTATGCTTCGCTCTGGGTATCGTCAATATTCTCTCAATATACGCACTGGCTGTGGTGAGGTACCTCAAAACCTGCCACTACAGAAACATAGGTTCGAAGATAGATCGCAAGGAAGTGTCCATCGTGATCCTCTTCATCATTTTGTTCTCAATGACATGGTCTGCCCTGCCGTTGTTAGGAATTGGAGACTACGAGGTCGAACCGTTTGGACTCTCATGTACATTGGAGTGGAACAATCCCACAAGAGAAGGAAAGGATATACCTGATCCTGACGCTGGTGATGGTGATAGCTCTTCCATTTCTCCTCACCATCTTATGCTACAGCCTCTTGCTGTATCACGTTC",
         "VYGYVCFALGIVNILSIYALAVVRYLKTCHYRNIGSKIDRKEVSIVILFIILFSMTWSALPLLGIGDYEVEPFGLSCTLEWNNPTREGKDIPDPDAGDGDSSSISPHHLMLQPLAVSR"
        ],
        [
         "3",
         "Malacostraca",
         "Amphipoda",
         "Gammaridae",
         "Echinogammarus berilloni",
         "LWS",
         null,
         "AMP|EcBer|LWS|GHCT01076719.1",
         "CGTGGCTTCAACGCGCTGTGTAGACCAACAGGACCTCCGCCTCACTCCTAAGACGACTGAAATAGTTCCGACTCGGAAATTTCTTCAGCTAGCCAGCCTCCCTAGTAGAAAATATGGCGCACTGGAACAACCCAGCCAACATGTTGCCCGAGGGTGTGGTGTCCTCCAACCCTTTCGGTAACTACACCGTTGTGGATGCTGCTCCCAAGGAACTTCTTCCCCTGATCGACTCTCACTGGTACCAGTACCCTCCTCTGAACCCTATGTGGTACGGCCTCCTCGGATTCACCATCTTCCTCCTTGGTATGATGTCCGTCCTTGGCAACGCCATTGTCATTTGGGTCTTCATGAACACCAAGAGTCTGCGGTCGCCCGCTAACCTGCTCGTGGTCAACCTTGCCCTCTCTGACTTCCTCATGATGTTCACCATGTTCCCACCCATGGTCACCAGCTGCTACTACCACACCTGGGCCTTCAGCGCCTTCTCCTGCGAGATCTACGGCTTCTTCGGCTCTCTCTTCGGTTGCATCTCCATCTGGACCATGATCTTCATCACCATGGACCGCTACAACGTGATCGTCAAGGGTGTCTCTGCCGAGCCTCTGACCAGCAATGGCGCCCTCCTTCGCATCATCTTCGTTTGGGTTTTGTCAATCATCTGGACCGTCCTGCCCTTCTTCGGATGGAACAGGTACGTACCAGAGGGTAACATGACTGCATGCGGAACTGACTACCTCACCGATTCTTCCTTCTCGCACTCCTACCTCTACATCTACGGAACCTGGGTCTACTTCCTTCCTCTGCTCATCATCATCGGTGCCTACTCCAAGATTGTGACTGCCGTGTTCGCTCACGAGAAGCAGATGCGAGAACAGGCCAAGAAGATGGGCGTCAAGTCCCTCCGTAACGAAGAGGCCCAGAAGACTTCCGCCGAATGCCGACTGGCCAAGGTTGCACTGATGACCGTCTCGCTGTGGTTCATCGCGTGGACCCCTTACTTGATCATCAACTTCACCGGCATGCTCAACAAGTCCATGATCAGCCCTCTCTTCACCATCTGGGGCTCTCTGTTCGCCAAGGCCAACGCTGTCTACAACCCCATCGTATACGCCATCAGTCACCCCAAGTACCGAGCTGCTCTCGAGAAGAAACTGCCCTGCCTGTCGTGCAAGGGTGAGGACCTTTCCGGCAACGACTCTGTCTCTGTCACCACCACCCAGAGCGAGCAGCCCGTCACCGAAAAATCGGAAAATGCCTAATTCTCTCCTAGCGAATTTCTTCCTTTTTGCGTAGACCCTTTGCGTTTGGTTTTCTTTTTGAATTGACAAACCACCCAAAAAAATATCATTTCTTTTCTTTCTGTTCAAATTTGGATGTTTCCTTAGAAACCTATCTTTGCCTTTCCTAATAAACCTGCAATTGCTTTGAAAATGAAACTGTGTTCTCGCTTTCCTGAAAAGTTGAGCATTTTTTGTACCTAGCGAGTTGAAAAAAATGTTGTGTAGCGGTCACGGTCGTGCTACTTGGATCAAGATTTTTAGAACTGATTCAATGCTCTCTGGATACGATGCTTAGGTCAAAAAGCT",
         "LPEGVVSSNPFGNYTVVDAAPKELLPLIDSHWYQYPPLNPMWYGLLGFTIFLLGMMSVLGNAIVIWVFMNTKSLRSPANLLVVNLALSDFLMMFTMFPPMVTSCYYHTWAFSAFSCEIYGFFGSLFGCISIWTMIFITMDRYNVIVKGVSAEPLTSNGALLRIIFVWVLSIIWTVLPFFGWNRYVPEGNMTACGTDYLTDSSFSHSYLYIYGTWVYFLPLLIIIGAYSKIVTAVFAHEKQMREQAKKMGVKSLRNEEAQKTSAECRLAKVALMTVSLWFIAWTPYLIINFTGMLNKSMISPLFTIWGSLFAKANAVYNPIVYAISHPKYRAALEKKLPCLSCKGEDLSGNDSVSVTTT"
        ],
        [
         "4",
         "Malacostraca",
         "Amphipoda",
         "Gammaridae",
         "Echinogammarus berilloni",
         "LWS",
         null,
         "AMP|EcBer|LWS|GHCT01076725.1",
         "CTCAATATATAATTTGAGCGTCCAGAAGATTCTGTCTCAGTGAGCCTTCCAACCTCTCTGCCTCAAACACATCACTGCAAGTAGTTCCTGCTCAAAGGAAAATTCTTTGCTGCCTTTCTGTCTAACGCCGAACACTCTTCACGATGTCGTATTGGAACAACCCAGAGAACTTTGCGCCCGAGGGCGCAGTGTCCACCAACCCCTTCGGTAACTACACCGTCGTGGATACCGCCGCCAAGGACATACTCCACATGATCTCTCCCCACTGGTATCAGTTCCCCCCCTTGAACCCCATGTGGTATGGCCTCCTGGGATTCGCCATCACCATTCTTGGAACTCTCTCCATCGTTGGCAACCTCATCGTCGTCTGGGTCTTCATGAACACCAAAACCCTGCGGTCGCCCGCTAACCTGCTCGTGGTCAGCCTTGCGGTCTCCGACTTCGGTATGATGGCGACCATGTTCCCACCCATGGTTATCAACTGCTACTACGGAACTTGGGCTTTCAGTGCTCTGTTCTGTGAGATCTACGGCGGTTTCGGCTCCTTGTTTGGTTGCGTCTCCATCTGGAGCATGGTTTTCATCACGGCTGACCGGTACAACGTGATCGTCAAGGGAGTTTCAGGGAAGCCGCTGAGCAGCGGAGGTGCCATGATGAGGATTGCACTGGCATGGATCCTTTCCATCGTCTGGACAAGCTTCCCCTTCTTCGGATGGAACCGCTATGTACCAGAAGGTAATATGACTGCCTGCGGAACTGATTACCTCACGGACACAATGCTCTCCCACAGCTACCTTTACGTCTACGGAGCCTGGGTCTACTTCATCCCGCTGTTCGTTATCGTCTACTTCTACACATACATCGTTAGTGCCGTGTTCGCTCACGAGAAGCAGATGCGAGAACAGGCCAAGAAGATGGGCGTCAAGTCCCTCCGTAACGAAGAGGCCCAGGCAACCTCTGCCGAATGCCGACTGGCCAAGGTTGCACTGATGACCGTCTCGCTGTGGTTCATCGCGTGGACCCCTTACTTGATCATCAACTTCACCGGCATGCTCAACAAGTCCATGATCAACCCCCTGTTCACCATCTGGGGCTCTCTGTTCGCCAAGGCCAACGCCGTCTACAACCCCATCGTGTACGCCATCAGTCACCCCAAGTACCGAGCTGCCCTCGAGAAGAAGCTGCCCTGCCTGTCTTGCAACGGCGGGGACAGCCATAGCAGCGACAACGCCTCCACCTCCACCACCCAGAGCGAAGCTGCTCCCGAAAAGAGCGAAAATGCATAAATTCTTTGCCTTACTCTAGACTCAATTCAAACACTCTGTTAAAATGTATTTTTATTGTCTAATTTTATTAGTTCTCTTCAAATTATTCGATAATAAACCTTGC",
         "APEGAVSTNPFGNYTVVDTAAKDILHMISPHWYQFPPLNPMWYGLLGFAITILGTLSIVGNLIVVWVFMNTKTLRSPANLLVVSLAVSDFGMMATMFPPMVINCYYGTWAFSALFCEIYGGFGSLFGCVSIWSMVFITADRYNVIVKGVSGKPLSSGGAMMRIALAWILSIVWTSFPFFGWNRYVPEGNMTACGTDYLTDTMLSHSYLYVYGAWVYFIPLFVIVYFYTYIVSAVFAHEKQMREQAKKMGVKSLRNEEAQATSAECRLAKVALMTVSLWFIAWTPYLIINFTGMLNKSMINPLFTIWGSLFAKANAVYNPIVYAISHPKYRAALEKKLPCLSCNGGDSHSSDNASTSTT"
        ]
       ],
       "shape": {
        "columns": 9,
        "rows": 5
       }
      },
      "text/html": [
       "<div>\n",
       "<style scoped>\n",
       "    .dataframe tbody tr th:only-of-type {\n",
       "        vertical-align: middle;\n",
       "    }\n",
       "\n",
       "    .dataframe tbody tr th {\n",
       "        vertical-align: top;\n",
       "    }\n",
       "\n",
       "    .dataframe thead th {\n",
       "        text-align: right;\n",
       "    }\n",
       "</style>\n",
       "<table border=\"1\" class=\"dataframe\">\n",
       "  <thead>\n",
       "    <tr style=\"text-align: right;\">\n",
       "      <th></th>\n",
       "      <th>Class</th>\n",
       "      <th>Order</th>\n",
       "      <th>Family</th>\n",
       "      <th>Genus species</th>\n",
       "      <th>Opsin Type</th>\n",
       "      <th>NCBI Accession #</th>\n",
       "      <th>Transcript ID</th>\n",
       "      <th>Untrimmed Nucleotide Sequence</th>\n",
       "      <th>Protein Sequence</th>\n",
       "    </tr>\n",
       "  </thead>\n",
       "  <tbody>\n",
       "    <tr>\n",
       "      <th>0</th>\n",
       "      <td>Malacostraca</td>\n",
       "      <td>Amphipoda</td>\n",
       "      <td>Corophiidae</td>\n",
       "      <td>Grandidierella japonica</td>\n",
       "      <td>LWS</td>\n",
       "      <td>BK059768</td>\n",
       "      <td>AMP|GrJap|LWS|IACS01070746.1</td>\n",
       "      <td>ACTGAGAAATATCTACGGAAAAATGTCTTGGAATAGCCCAATGAAC...</td>\n",
       "      <td>LPEGMASSNPFGNYTVVDAAPKEILHMVDPHWYQFPPMNPLWYGLL...</td>\n",
       "    </tr>\n",
       "    <tr>\n",
       "      <th>1</th>\n",
       "      <td>Malacostraca</td>\n",
       "      <td>Amphipoda</td>\n",
       "      <td>Corophiidae</td>\n",
       "      <td>Grandidierella japonica</td>\n",
       "      <td>MWS1</td>\n",
       "      <td>BK059769</td>\n",
       "      <td>AMP|GrJap|MWS|IACS01055269.1</td>\n",
       "      <td>GGAGTCACCCAGGTTGACCTGGTTCCGGATTACATGAAGGACATGA...</td>\n",
       "      <td>GVTQVDLVPDYMKDMIHPHWSNYPPVNPMWHHLLGLVYIIIGSCAT...</td>\n",
       "    </tr>\n",
       "    <tr>\n",
       "      <th>2</th>\n",
       "      <td>Malacostraca</td>\n",
       "      <td>Amphipoda</td>\n",
       "      <td>Corophiidae</td>\n",
       "      <td>Grandidierella japonica</td>\n",
       "      <td>NEUR</td>\n",
       "      <td>BK059770</td>\n",
       "      <td>AMP|GrJap|NEUR|IACS01028177.1</td>\n",
       "      <td>AGTGTACGGCTACGTATGCTTCGCTCTGGGTATCGTCAATATTCTC...</td>\n",
       "      <td>VYGYVCFALGIVNILSIYALAVVRYLKTCHYRNIGSKIDRKEVSIV...</td>\n",
       "    </tr>\n",
       "    <tr>\n",
       "      <th>3</th>\n",
       "      <td>Malacostraca</td>\n",
       "      <td>Amphipoda</td>\n",
       "      <td>Gammaridae</td>\n",
       "      <td>Echinogammarus berilloni</td>\n",
       "      <td>LWS</td>\n",
       "      <td>NaN</td>\n",
       "      <td>AMP|EcBer|LWS|GHCT01076719.1</td>\n",
       "      <td>CGTGGCTTCAACGCGCTGTGTAGACCAACAGGACCTCCGCCTCACT...</td>\n",
       "      <td>LPEGVVSSNPFGNYTVVDAAPKELLPLIDSHWYQYPPLNPMWYGLL...</td>\n",
       "    </tr>\n",
       "    <tr>\n",
       "      <th>4</th>\n",
       "      <td>Malacostraca</td>\n",
       "      <td>Amphipoda</td>\n",
       "      <td>Gammaridae</td>\n",
       "      <td>Echinogammarus berilloni</td>\n",
       "      <td>LWS</td>\n",
       "      <td>NaN</td>\n",
       "      <td>AMP|EcBer|LWS|GHCT01076725.1</td>\n",
       "      <td>CTCAATATATAATTTGAGCGTCCAGAAGATTCTGTCTCAGTGAGCC...</td>\n",
       "      <td>APEGAVSTNPFGNYTVVDTAAKDILHMISPHWYQFPPLNPMWYGLL...</td>\n",
       "    </tr>\n",
       "  </tbody>\n",
       "</table>\n",
       "</div>"
      ],
      "text/plain": [
       "          Class      Order       Family             Genus species Opsin Type  \\\n",
       "0  Malacostraca  Amphipoda  Corophiidae   Grandidierella japonica        LWS   \n",
       "1  Malacostraca  Amphipoda  Corophiidae   Grandidierella japonica       MWS1   \n",
       "2  Malacostraca  Amphipoda  Corophiidae   Grandidierella japonica       NEUR   \n",
       "3  Malacostraca  Amphipoda   Gammaridae  Echinogammarus berilloni        LWS   \n",
       "4  Malacostraca  Amphipoda   Gammaridae  Echinogammarus berilloni        LWS   \n",
       "\n",
       "  NCBI Accession #                  Transcript ID  \\\n",
       "0         BK059768   AMP|GrJap|LWS|IACS01070746.1   \n",
       "1         BK059769   AMP|GrJap|MWS|IACS01055269.1   \n",
       "2         BK059770  AMP|GrJap|NEUR|IACS01028177.1   \n",
       "3              NaN   AMP|EcBer|LWS|GHCT01076719.1   \n",
       "4              NaN   AMP|EcBer|LWS|GHCT01076725.1   \n",
       "\n",
       "                       Untrimmed Nucleotide Sequence  \\\n",
       "0  ACTGAGAAATATCTACGGAAAAATGTCTTGGAATAGCCCAATGAAC...   \n",
       "1  GGAGTCACCCAGGTTGACCTGGTTCCGGATTACATGAAGGACATGA...   \n",
       "2  AGTGTACGGCTACGTATGCTTCGCTCTGGGTATCGTCAATATTCTC...   \n",
       "3  CGTGGCTTCAACGCGCTGTGTAGACCAACAGGACCTCCGCCTCACT...   \n",
       "4  CTCAATATATAATTTGAGCGTCCAGAAGATTCTGTCTCAGTGAGCC...   \n",
       "\n",
       "                                    Protein Sequence  \n",
       "0  LPEGMASSNPFGNYTVVDAAPKEILHMVDPHWYQFPPMNPLWYGLL...  \n",
       "1  GVTQVDLVPDYMKDMIHPHWSNYPPVNPMWHHLLGLVYIIIGSCAT...  \n",
       "2  VYGYVCFALGIVNILSIYALAVVRYLKTCHYRNIGSKIDRKEVSIV...  \n",
       "3  LPEGVVSSNPFGNYTVVDAAPKELLPLIDSHWYQYPPLNPMWYGLL...  \n",
       "4  APEGAVSTNPFGNYTVVDTAAKDILHMISPHWYQFPPLNPMWYGLL...  "
      ]
     },
     "execution_count": 33,
     "metadata": {},
     "output_type": "execute_result"
    }
   ],
   "source": [
    "palecanda_file = f'{report_dir2}/crustacean_conundrums/rstb20210289_si_003.csv'\n",
    "palecanda_df = pd.read_csv(palecanda_file)\n",
    "palecanda_df.head()"
   ]
  },
  {
   "cell_type": "code",
   "execution_count": 34,
   "metadata": {},
   "outputs": [
    {
     "data": {
      "text/plain": [
       "(628, 9)"
      ]
     },
     "execution_count": 34,
     "metadata": {},
     "output_type": "execute_result"
    }
   ],
   "source": [
    "palecanda_df.shape"
   ]
  },
  {
   "cell_type": "code",
   "execution_count": 35,
   "metadata": {},
   "outputs": [
    {
     "data": {
      "application/vnd.microsoft.datawrangler.viewer.v0+json": {
       "columns": [
        {
         "name": "index",
         "rawType": "int64",
         "type": "integer"
        },
        {
         "name": "Class",
         "rawType": "object",
         "type": "string"
        },
        {
         "name": "Order",
         "rawType": "object",
         "type": "string"
        },
        {
         "name": "Family",
         "rawType": "object",
         "type": "string"
        },
        {
         "name": "Genus species",
         "rawType": "object",
         "type": "string"
        },
        {
         "name": "Opsin Type",
         "rawType": "object",
         "type": "string"
        },
        {
         "name": "NCBI Accession #",
         "rawType": "object",
         "type": "unknown"
        },
        {
         "name": "Transcript ID",
         "rawType": "object",
         "type": "string"
        },
        {
         "name": "Untrimmed Nucleotide Sequence",
         "rawType": "object",
         "type": "unknown"
        },
        {
         "name": "Protein Sequence",
         "rawType": "object",
         "type": "string"
        },
        {
         "name": "prot_len",
         "rawType": "int64",
         "type": "integer"
        }
       ],
       "conversionMethod": "pd.DataFrame",
       "ref": "52dc2f3a-90d6-460c-a872-ca66a65a598f",
       "rows": [
        [
         "0",
         "Malacostraca",
         "Amphipoda",
         "Talitridae",
         "Talitrus saltator",
         "LWS",
         null,
         "AMP|TeSal|LWS|GDUJ01056749.1",
         "TCACGTGGCCTAGCGCGCTGTGTAGACCGAATCCAACTCCTTGTCTCACCCAACTGAAGTAGTTCCTTTTAGGAAATTTCTTCAGCAGAACCTCATAGTCCCGTAGAAGGAAAACATTCGGAGAAATATGGCATCGTGGAACAACCCAGCCAGCATGCACCCCGAGGGGATGGTTTCCTCCAACCCATTCGGCAACTTTACGGTGGTGGATGCTGCTCCTAAGGAGCTCCTCCATATGGTCGATCCTCATTGGTACCAGTACCCTCCTCTCAACCCCCTGTGGTACGGACTCCTGGGATTCGCCATCTTCATTTTGGGAATGCTATCACTTCTTGGAAACGCCGTTGTTGTGTGGGTCTTCATGAACACCAAGAGCCTCCGATCTCCCGCTAACTTACTCGTTGTCAACTTGGCCATCTCCGACTTCTGTATGATGCTCACCATGTTCCCACCCATGGTTGTGAACTGCTACTACCACACGTGGGCTTTCAGCCCCTTCTTCTGCGAGCTGTACGGTTTCTTCGGATCCCTGTTTGGCTGCATCTCCATCTGGACCATGATCTTCATCACCATCGATCGCTACAATGTGATCGTGAAGGGTGTGTCAGCTGAGCCTCTGACGAGCAACGGATCGCTCATTAGGATTATGTTCGTTTGGGTAGCAGCCGCCGCGTGGACTATCCTTCCATTCTTCGGATGGAACCGATATGTGCCTGAAGGTAACCTGACTGCTTGTGGAACTGACTACCTCACTGATTCTGCTTTCTCTCACTCCTACCTGTACATCTACGGTACATGGGTGTACCTCCTGCCTCTAATGATCATCATTGGAGCTTACTCACAGATCGTCGGCGCAGTGTTCGCCCACGAGAAACAGATGCGAGAGCAGGCCAAGAAGATGGGAGTCAAATCTCTGCGAAGTGAAGAAGCCCAGAAGACCTCCGCCGAATGCCGATTGGCCAAGGTTGCTCTCATGACCGTCTCCCTGTGGTTCGTGGCCTGGACCCCGTACTTGGTTATCAACTTCACTGGTATGAACAACAAGTCGATGATCAGCCCCCTCTTCACCATCTGGGGGTCCCTGTTTGCCAAGGCCAACGCTGTGTACAACCCCATCGTGTACGCCATCAGCCACCCCAAGTACCGCGCTGCCCTCGAGAAGAAGATGCCTTGCTTGTCCTGCAGCAACAATGACGGTAACAGCGATTCCGTCTCTGTCACCACCACCCAGAGTGAGCAGCCCGTCACCGAGAAATCTGAGAGCGCGTAATTTTCTCCGATGTTTTCCGTTTCACTCGTAGTACCCTAGAATTGATGAAAATTGGTTCACAAAATTGTAAATGATTTTTTGTTGTCTCGTTTGGATGTTTTGATTTGGTTCCATTTGTTATAAATCCTTCTCCATAGTCAGCCAGTAAACCCTGCAATTGCTTTGAAAATAAAAAAAAAAAAAAAAAAA",
         "HPEGMVSSNPFGNFTVVDAAPKELLHMVDPHWYQYPPLNPLWYGLLGFAIFILGMLSLLGNAVVVWVFMNTKSLRSPANLLVVNLAISDFCMMLTMFPPMVVNCYYHTWAFSPFFCELYGFFGSLFGCISIWTMIFITIDRYNVIVKGVSAEPLTSNGSLIRIMFVWVAAAAWTILPFFGWNRYVPEGNLTACGTDYLTDSAFSHSYLYIYGTWVYLLPLMIIIGAYSQIVGAVFAHEKQMREQAKKMGVKSLRSEEAQKTSAECRLAKVALMTVSLWFVAWTPYLVINFTGMNNKSMISPLFTIWGSLFAKANAVYNPIVYAISHPKYRAALEKK",
         "336"
        ],
        [
         "1",
         "Malacostraca",
         "Amphipoda",
         "Talitridae",
         "Talitrus saltator",
         "LWS",
         null,
         "AMP|TeSal|LWS|GDUJ01056750.1",
         "CTCACAACGAATCCAACTCATCAGTAATAATGAGGTGGAGGCGCGTGCGATGGTGAGCAGGTAATTATCTTGTCCCATAATAAGAGGATTGGAAGCCTTACCTTGCTAATGGGATTAGCGCCTCTGTGGGCCGGAGGGTGGCAAGGCATAAATAATGAAATGGCAGTCCAGTGACCTCTGTTCGAGCTCACCATCGCTCGTGACACCGTCTCTGCTGCGCCCTAGCTAAGCCATTCTATATTGGGCATCGATAAAACAAAAGTCATTGCATATCAATTCGTACCAGGAAAACAAATCCAAGCCTGAAACAGATCCTTCAGACCAGAAAGTCGTCTGAAATAGTCTTGGGTTGATAACAACACCGTAACAACGCTTTTGAGAGTCTCAACGTTACATTCAGCATCGTACTATCCTCTCAACAAGATGTCTCAGTGGATGAACCGTCCCGGGAGCTCGCTGCCCGACAGCGGGTACATCTCTACAAACCCCTTTGGCAACTTCACAGTGGTGGACTCAGCCCCGAAAGAGATTCTGCACATGATCGATCCTCATTGGTACCAATTCCCACCGCTAAATCCCATGTGGTATGGTCTACTGGGCTTCGCTATCACAGTCCTCGGAATTCTATCAGTAGTCGGAAACTCTGTGGTGATCTGGGTGTTCATGACTACCAAAGCTCTTCGGTCTCCAGCCAACTTACTCGTGGTGAATCTTGCTATATCTGATTTCGGGATGATGGCAACCATGTTTCCTCCCATGGTTATCAGCTGCTTTTACGGAACTTGGGCGTTCAGCGCTCTGTTTTGTGAAATCTATGGATGTTTTGGTTCTCTGTTCGGTTGCGCTTCGATTTGGACCATGGTTTTCATCACCATGGATCGCTACAACGTGATCGTGCGAGGTGTCTCAGGAAAACCTCTCTCGAGCACTGGATCACTGGTGAGGATATTGCTTGTGTGGGTACTGTCAGCTGCGTGGACTGCCGCTCCATTCTTCGGATGGAACCGCTACGTTCCGGAGGGAAATTTAACGGCTTGTGGAACGGATTACCTAACTGAGGGATGGTTGTCCCAGAGCTACCTCTACGTCTACGGCGCCTGGGTCTACTTCATTCCCCTTGTGATAATCATTTACGCTTACACTTTCATCGTCTCAGCGGTGTTTGCCCACGAGAAGCAGATGAGGGAACAGGCCAAGAAAATGGGCGTTAAGTCTCTCCGAAACGAAGAAGCTCAGAAGACCTCCGCTGAATGCCGACTTGCCAAGGTCGCCCTGATGACCGTGTCGCTGTGGTTCATCGCTTGGACTCCTTACTTGATCATCAATTTTACGGGTATGCTGAACAAACCGATGATCAATCCTCTGTTCACCATCTGGGGATCCCTGTTCGCCAAGGCCAACGCTGTGTACAACCCCATCGTGTACGCCATCAGCCACCCCAAGTACCGCGCTGCCCTCGAGAAGAAGATGCCTTGCTTGTCCTGCAGCAACAATGACGGTAACAGCGATTCCGTCTCTGTCACCACCACCCAGAGTGAGCAGCCCGTCACCGAGAAATCTGAGAGCGCGTAATTTTCTCCGATGTTTTCCGTTTCACTCGTAGTACCCTAGAATTGATGAAAATTGGTTCACAAAATTGTAAATGATTTTTTGTTGTCTCGTTTGGATGTTTTGATTTGGTTCCATTTGTTATAAATCCTTCTCCATAGTCAGCCAGTAAACCCTGCAATTGCTTTGAAAATAAAAAAAAAAAAAAAAAAA",
         "LPDSGYISTNPFGNFTVVDSAPKEILHMIDPHWYQFPPLNPMWYGLLGFAITVLGILSVVGNSVVIWVFMTTKALRSPANLLVVNLAISDFGMMATMFPPMVISCFYGTWAFSALFCEIYGCFGSLFGCASIWTMVFITMDRYNVIVRGVSGKPLSSTGSLVRILLVWVLSAAWTAAPFFGWNRYVPEGNLTACGTDYLTEGWLSQSYLYVYGAWVYFIPLVIIIYAYTFIVSAVFAHEKQMREQAKKMGVKSLRNEEAQKTSAECRLAKVALMTVSLWFIAWTPYLIINFTGMLNKPMINPLFTIWGSLFAKANAVYNPIVYAISHPKYRAALEKK",
         "337"
        ],
        [
         "2",
         "Malacostraca",
         "Amphipoda",
         "Talitridae",
         "Talitrus saltator",
         "MWS1",
         null,
         "AMP|TeSal|MWS|GDUJ01058424.1",
         "TGGAGGGCTTCTTGGGGCCTCCCAGCTGCATTCATGTCCCTAACACCCTAAGTCGCTTAGCTTGAGCGTTCCTTTCCCTAATCCTATCAGCCAGGCTTTTAGCCGAGTTCTGTCGTCACTAATAGAATATACAGAGATGAATGCTCTTTCTTAATCGTTTACTGTTTTGAAAGGTGTATTTAAGGAGATCTCTTGCCCCTGAACATTGCCAGTTTCAGGCTTACCAGCAACAGAAACGGTTCTTAGGACTTTCATTGTCAGTAAGATCGAACACTGGTTGCTACTGGCAAAGTAAGGTATTGCACCTAGAGACAAGTTTCATCGATAAGTTCCGTTTGAAGTTGTCAGACTTTCCAACCCAAAAGAGTTTGATTTTTCATTACGGATTACCGCATTGAAACTTGATTCTCATACGTTCGCACGTCGATATCGTAACCTCAGCAGCCAACATGTCGTACGGTAATAGCTACGGAAGCCCCTCCAGCAGCGCCCTTACGGGGGCCAACCAATTTGCATTCGGGTACCCCCCGGGAGTGTCCGTTGTGGACATCGTACCCCCCCACATGAAGGATCTGATCCACCCCCACTGGAGCAACTTTCCCCCCCCAAACCCCATGTGGCATTTCCTCCTTGGAGTCATCTACATCGTGCTTGGCACCGTCGCAACCTTCGGAAATGGGGTGGTTATTTACCTCTACATGAAGCTGAAGAAGCTGAGGACACCCTCTAACATGCTTGTCGTGAACCTGGCGGTGATGGACATGCTAATGCTGGTGTCCCAGTTCCCATTCTTCGTGTGGAACTCTTTCAACGGCGGCGTCTGGGACTTCTCGCCCTTCATGTGCGAGCTGTACTCTTGCTTTGGCGCGATCTCTGGCCTAGGCTCCCTGTGGACTCTCGTTTTCATCAGCTACGACAGGTACAACGTCATCGTGCACGGTGTAGCGGGAAAACCTCTGACCTTCGCAAAAGCTGGACTTTTCCTCGCCTTCGTCTGGGGCTATGCGACGGCCATCTCCCTCCCGCCCTTCTTTGGCTGGGGACGTTACATCCCTGAGGGTATCCTCGACTCATGTTCGTTCGATTACCTATCTCGCGACTGGAGTATCCGATCCCACGGAATGTTCCTCTTCTTATTCTGCTACTGCCTGCCGCTCAGTACCATCTTGTACTCGTACATCTTCATCGTGCGTGCCATCATTTCTCACGAAAAAGCCATGAGGGCCCAGGCTAAGAAAATGAACGTGACCAACCTTCGTACCGGCAAGGATGATGGAGGTCAGAGCGCAGAGATGAGGGTTGCCAAAGTGGCCTGCATCAATGTGACGCTGTGGCTGGTGTGCTGGACTCCGTACGCCGCCATCGTGGTGCAGGGCCTCTTCTTCGACCAGTCGAGTATCACACCCCTGGTGTCCATGTTGCCTGCTCTGCTGGCGAAGACCACGGCCTGTTACAACCCAATTGTGTACGCGCTCAGCCATCCGCGCTTCCGACAGGCGATGCAGACTGAGGTGCCCTGCTGCTGCGTACAGGAGCCAGACGAAGCCAGCAGCGCTCCCGACAGCAAGAGTACTGCCACTGAGCAGCAGAATACTGAAAAATAAAGTTCAATCGAGTGTTCTTTAACGGACATGAAGACAGAACATTCATATCTTATAAAAGAACTTTACACCTTATTGTTACATGTAGACTTATGTCAAGAAACCCTTTGACATAAATTTTAGGTGTACACTCCAGGTGCAAGGTCTGGTATAATATATATATGTTTTAAAGTGTTAACTCCGTTTAAGAAAACTGATATCAAATGTGCAAGGAACAACTACTGACCCCAAATGACCTCGAATTCTACCAACGAAACCACTTTAATCGTATGCTAAAAATTAAGCGAAGTTAACTTTTAAGGAATTCTATTGAAATTCAATTAAACAAAGAGATTGCAGCCGGAGGACAAAGCTCGAAAAAATTAATGGAAGTACTGAAGAGTCACTTTGCTCTACGTTCTCCTGTCGTTGGAAAAGGCCGTTAATTATTATTGGCCGTACTTTTTTTAATTAAACCATATTTTATTTTTCCTGAACTTGAAAACTTTGGAATAAAAGTGTCCATTCACTTGGAATATAATGCGGTGCTGCAGAATTGGGCGAAGTTATTTTATTGAGCCATCATTACGAATACATATTCGTTTTGGCCTCGCGATGTGATCTCTTCAAACTCTTGCTCTCTTCAAGAGGATGTGGAAATTCATCGAAAGTGTCATCAAATTTGGGCAATTTCTAAGACATTACATATCAAAAACACTTGTTACTCTTTGTATTTCGATCACTAAAATAGGAATAATTCCTTTTCTAGAGGAATTTTTACATTAAATTGCTGTTTTTTCAGATTTTTTCAAATCCAGAGAAGGGCTAGCAAGCAAAAAAACGATCCCTTGACAAACCATATCATGTAATGAGGAACTTTATCCACTGAAGTTTTTAAAATGACTTAACGGTACGGTAATTTCATTCATAACACGTTTGTATTTCAATTGACGTTGCAGTTGATTGAAACTTAACGAACAGTTCGAAAACTTCAGAGGTAATTTTACTGTTCAAAATTTACATATTTAAACTTTATACTATTCATCACCTTTTTCTAGCACTTGCTTCAAGCCTCGACATGTAATGTCTATAGAACAATTGCTTGAAAATTCATGGTGATGTGCTCTTTCTCATTTTACTGATTCTATATCAAAGCTTCCAAAGCAGCACCGCACAGTGAAAGTTTTTTTGGTAAAGTGCCTATTTTGGAAACTGAATAAGTTCCGATGTCCTATGTACGAGCTGACTCTGCGAACTGACGGACTTCCAACGTATATATGTACATGCGTCGTAATAACATAGAATAATGTACTGATTTTAAGGATTTTTTCGGATCTACAGGTTTTTACATGTTCTTGCAGTAAAATTGTCATTCGGTTGCCTAATTCGACTCTTGTTTAATTCGAATACATTGGTTTTAACAAACGATCGAAGCAGCAAAAAAAAAAAAAAAAAAAAAAATAAATTTTTTTTTTTTTTTTTTTTAAAAGAACGGGGCCCCCCCGGATTTCCCCCCTTTCCCCCCCCCCCCCCCTTTCCCTTCCCCC",
         "SYGSPSSSALTGANQFAFGYPPGVSVVDIVPPHMKDLIHPHWSNFPPPNPMWHFLLGVIYIVLGTVATFGNGVVIYLYMKLKKLRTPSNMLVVNLAVMDMLMLVSQFPFFVWNSFNGGVWDFSPFMCELYSCFGAISGLGSLWTLVFISYDRYNVIVHGVAGKPLTFAKAGLFLAFVWGYATAISLPPFFGWGRYIPEGILDSCSFDYLSRDWSIRSHGMFLFLFCYCLPLSTILYSYIFIVRAIISHEKAMRAQAKKMNVTNLRTGKDDGGQSAEMRVAKVACINVTLWLVCWTPYAAIVVQGLFFDQSSITPLVSMLPALLAKTTACYNPIVYALSHPRFRQAMQTEVPCCCVQEPDEASSAPDSKSTATE",
         "373"
        ],
        [
         "3",
         "Malacostraca",
         "Amphipoda",
         "Talitridae",
         "Talitrus saltator",
         "NEUR",
         null,
         "AMP|TeSal|NEUR|GDUJ01037444.1",
         "ATGGGTTAAAAATCAGCGCTGCATTGACGAGAAGTTTGACTCATCTTTATGGCTCGCCGCTGGCTGGGTTTTACTTTTCGGCCGTATAACGAGCTGAAAGATGAATTTGATGATGCAAATCTTACATATAACGTCGTGGTACTCTGAATAACTTATAACCTCTGAAATAAATTTCAATAAAATTCAACATCGAATTTCGTTCAAATTCTCAAGCCAATTATTGTTTTGTTTCCTGTCAACAAAACCGAAGAAAACTTATATCCCTCGCTCTCTTGATTTGTAGCATGATACAGCACACGAAAAATCATTCAATTGACGTTAACTTCGGTAGGTAGTTCAGACAAGGCCAATATTTATAATTTCCACTCGTTTTACTCTCCATTTTGACACCGAATGGCTTTTGGCTTGCATGACTGCAGGCGTTGTGGCGCTGGTGGGCAACAGTGCAAGTGTGGCCATGTTCTGGCGAAGGGGTAAGAAACTGGCACCAGGAGAGCTCCTACTCATGAACGTCTCCTTCATCAGCCTCCTGCTCGCCGGCTGCTCCTACCCTGCGACCATGGTGTCCCTGTTCTCTCACCGATGGATATTTGGAGACCTCGGTTGTCAAATGTACGGCTTCGTGTGCTACTTCTTGGGCCTCGCTAACATGGCGTCTGTGACGGTGCTCGCACTCGTACGCTACCTCAAGACCTGCTCTCGTACTGCAGGCTCGTGGTTAGGCAACGAGCAAGTCCTCTCCATCATCATTGGGATCTTCATTTTCTCATTTGGCTGGGCCACCATCCCGCTGATGGGGGCTGGTGACTACGACGTCGAGCCCTTCGGCACCTCCTGCACCCTCGACTGGGACAACCCCACTGAAGCTGGCAAAGTGTACCTGGCGGTGACCCTGCTGGTGGTGGTGATGACGCCGACCTTGGTGATGGTGGTGAGCTACGCCCTGCTCCTGTACAGGGTGCGTCAGAACACCCTCAGGTGCCGCCGCGCTGCTGGGGACAGGAAGACCTCATCTCGGTCTGACCTGCAACTGACGGCGATCTCAGTAGCGGTCTGTTTGGGGTTCATCGTTGCCTGGATGCCATACGCCGTGGTGTCCACGCACTATGGCTTACTGGGGGGCCGCAGTCCACCCCCCTACGTGGCCATCGCCCCAGTGCTGCTGGCCAAAAGCTCCTGCGCCTACAACCCCGTTTTTTATGTCTTCATTACCGTCCGCTACCGCCAAGAAATGGCGAAGCTCCTCCCTCAGTTTCTGGCCAAATTACTGCAAAAAGATTCACTCCCCAACAAGAGCAACATGAGTGATTCTCGCCTGGTTCTTCAAACGACAGCTCCAATGACCTCAAAAGCCCTCTTGAGACCTGGCGGCGACTGCGATGAACCAGATCTCCCTTCATATCATGACGAGAACAACGCCTATCCAAATCGAGTCGTTCAATATAAATTTACAACTCAAAGTAACGGAAAAGCTATAGGTGACGTCCATTATGTCCAGACCCATTGTCATAGAGATTCAAATCTCTATGCCTCAATTGGAATTCAATGCGCCGAAGAGCACCTGAAAGAGCTACCAAACTCAACAGAAGCCTCTGCCCAAACCAAAGATGCAATAGCCTTTACCGGAATGTGTTCTCTAACTGAGGAAACGAAATTAAACCAAAATTTTGGAGCAGAGAAAACGAACCTCGTCGACGAAAACGTGGGAGAAAAAGATATCAACCGTCCGTCTCCGCCGAAAACTAAGGCGAGTAAAAAAGAATTCATGTGCACCATCCCTCGACTGAGCAATGCCAGACGACACCCACCTGATCCACCTCAAGTTCATGGTACAAAATACTCTGCAATTATTCGGCGTCGGTCTTCTGCAGAAGGTCTGCGGAGGTGCCGGTCTTGGGACGCAGGGGACGGTGGGATTTTTATGTTGTCAAACCTCGATTTGATGAGCGATCGCAAGCTCAACCCTAAAGAAGTAAATGGGGATCCGTTGAAACTCGTGAGCTTACGAGGAGCAAAACCAAGAGACCGAGGAAAGGGAGCTAAACTAGTCACTTTGATTCTCGCTCAACACCAAGACGATGTTCTTACCGAACTGATAGTGTAGTACGTATGCGGTGTGAGGTGTAGAATGGGATGATTATTTTCTCTGTTGTGACTGGCAATGTGGAGTGTTCATTTTATTGCAATACGACATGTGCAAAGCTTTCAATTTTTCTTCTACAAGCACGTGTAAAAAACGGCTTTTTACGAAGCACTCTTAACTGCCACGACTATTCAGTAGGCCAATATAAAGGGTGGTTAAATTTGAA",
         "VVQTRPIFIISTRFTLHFDTEWLLACMTAGVVALVGNSASVAMFWRRGKKLAPGELLLMNVSFISLLLAGCSYPATMVSLFSHRWIFGDLGCQMYGFVCYFLGLANMASVTVLALVRYLKTCSRTAGSWLGNEQVLSIIIGIFIFSFGWATIPLMGAGDYDVEPFGTSCTLDWDNPTEAGKVYLAVTLLVVVMTPTLVMVVSYALLLYRVRQNTLRCRRAAGDRKTSSRSDLQLTAISVAVCLGFIVAWMPYAVVSTHYGLLGGRSPPPYVAIAPVLLAKSSCAYNPVFYVFITVRYRQEMAKLLPQFLAKLLQKDSLPNKSNMSDSRLV",
         "330"
        ],
        [
         "4",
         "Malacostraca",
         "Decapoda",
         "Cambaridae",
         "Procambarus clarkii",
         "LWS",
         "ALJ26467",
         "DEC|Proclar|LWS|ALJ26467",
         null,
         "SWSNQPAMDDYGLPSSNPYGNFTVVDMAPKDILHMIHPHWYQYPPMNPMMYPLLLIFMLFTGILCLAGNFVTIWVFMNTKSLRTPANLLVVNLAMSDFLMMFTMFPPMMVTCYYHTWTLGPTFCQVYAFLGNLCGCASIWTMVFITFDRYNVIVKGVAGEPLSTKKASLWILTIWVLSITWCIAPFFGWNRYVPEGNLTGCGTDYLSEDILSRSYLYVYSTWVYFLPLAITIYCYVFIIKAVAAHEKGMRDQAKKMGIKSLRNEEAQKTSAECRLAKIAMTTVALWFIAWTPYLLINWVGMFARSYLSPVYTIWGYVFAKANAVYNPIVYAISHPKYRAAMEKKLPCLSCKTESDDVSESAST",
         "363"
        ]
       ],
       "shape": {
        "columns": 10,
        "rows": 5
       }
      },
      "text/html": [
       "<div>\n",
       "<style scoped>\n",
       "    .dataframe tbody tr th:only-of-type {\n",
       "        vertical-align: middle;\n",
       "    }\n",
       "\n",
       "    .dataframe tbody tr th {\n",
       "        vertical-align: top;\n",
       "    }\n",
       "\n",
       "    .dataframe thead th {\n",
       "        text-align: right;\n",
       "    }\n",
       "</style>\n",
       "<table border=\"1\" class=\"dataframe\">\n",
       "  <thead>\n",
       "    <tr style=\"text-align: right;\">\n",
       "      <th></th>\n",
       "      <th>Class</th>\n",
       "      <th>Order</th>\n",
       "      <th>Family</th>\n",
       "      <th>Genus species</th>\n",
       "      <th>Opsin Type</th>\n",
       "      <th>NCBI Accession #</th>\n",
       "      <th>Transcript ID</th>\n",
       "      <th>Untrimmed Nucleotide Sequence</th>\n",
       "      <th>Protein Sequence</th>\n",
       "      <th>prot_len</th>\n",
       "    </tr>\n",
       "  </thead>\n",
       "  <tbody>\n",
       "    <tr>\n",
       "      <th>0</th>\n",
       "      <td>Malacostraca</td>\n",
       "      <td>Amphipoda</td>\n",
       "      <td>Talitridae</td>\n",
       "      <td>Talitrus saltator</td>\n",
       "      <td>LWS</td>\n",
       "      <td>NaN</td>\n",
       "      <td>AMP|TeSal|LWS|GDUJ01056749.1</td>\n",
       "      <td>TCACGTGGCCTAGCGCGCTGTGTAGACCGAATCCAACTCCTTGTCT...</td>\n",
       "      <td>HPEGMVSSNPFGNFTVVDAAPKELLHMVDPHWYQYPPLNPLWYGLL...</td>\n",
       "      <td>336</td>\n",
       "    </tr>\n",
       "    <tr>\n",
       "      <th>1</th>\n",
       "      <td>Malacostraca</td>\n",
       "      <td>Amphipoda</td>\n",
       "      <td>Talitridae</td>\n",
       "      <td>Talitrus saltator</td>\n",
       "      <td>LWS</td>\n",
       "      <td>NaN</td>\n",
       "      <td>AMP|TeSal|LWS|GDUJ01056750.1</td>\n",
       "      <td>CTCACAACGAATCCAACTCATCAGTAATAATGAGGTGGAGGCGCGT...</td>\n",
       "      <td>LPDSGYISTNPFGNFTVVDSAPKEILHMIDPHWYQFPPLNPMWYGL...</td>\n",
       "      <td>337</td>\n",
       "    </tr>\n",
       "    <tr>\n",
       "      <th>2</th>\n",
       "      <td>Malacostraca</td>\n",
       "      <td>Amphipoda</td>\n",
       "      <td>Talitridae</td>\n",
       "      <td>Talitrus saltator</td>\n",
       "      <td>MWS1</td>\n",
       "      <td>NaN</td>\n",
       "      <td>AMP|TeSal|MWS|GDUJ01058424.1</td>\n",
       "      <td>TGGAGGGCTTCTTGGGGCCTCCCAGCTGCATTCATGTCCCTAACAC...</td>\n",
       "      <td>SYGSPSSSALTGANQFAFGYPPGVSVVDIVPPHMKDLIHPHWSNFP...</td>\n",
       "      <td>373</td>\n",
       "    </tr>\n",
       "    <tr>\n",
       "      <th>3</th>\n",
       "      <td>Malacostraca</td>\n",
       "      <td>Amphipoda</td>\n",
       "      <td>Talitridae</td>\n",
       "      <td>Talitrus saltator</td>\n",
       "      <td>NEUR</td>\n",
       "      <td>NaN</td>\n",
       "      <td>AMP|TeSal|NEUR|GDUJ01037444.1</td>\n",
       "      <td>ATGGGTTAAAAATCAGCGCTGCATTGACGAGAAGTTTGACTCATCT...</td>\n",
       "      <td>VVQTRPIFIISTRFTLHFDTEWLLACMTAGVVALVGNSASVAMFWR...</td>\n",
       "      <td>330</td>\n",
       "    </tr>\n",
       "    <tr>\n",
       "      <th>4</th>\n",
       "      <td>Malacostraca</td>\n",
       "      <td>Decapoda</td>\n",
       "      <td>Cambaridae</td>\n",
       "      <td>Procambarus clarkii</td>\n",
       "      <td>LWS</td>\n",
       "      <td>ALJ26467</td>\n",
       "      <td>DEC|Proclar|LWS|ALJ26467</td>\n",
       "      <td>NaN</td>\n",
       "      <td>SWSNQPAMDDYGLPSSNPYGNFTVVDMAPKDILHMIHPHWYQYPPM...</td>\n",
       "      <td>363</td>\n",
       "    </tr>\n",
       "  </tbody>\n",
       "</table>\n",
       "</div>"
      ],
      "text/plain": [
       "          Class      Order      Family        Genus species Opsin Type  \\\n",
       "0  Malacostraca  Amphipoda  Talitridae    Talitrus saltator        LWS   \n",
       "1  Malacostraca  Amphipoda  Talitridae    Talitrus saltator        LWS   \n",
       "2  Malacostraca  Amphipoda  Talitridae    Talitrus saltator       MWS1   \n",
       "3  Malacostraca  Amphipoda  Talitridae    Talitrus saltator       NEUR   \n",
       "4  Malacostraca   Decapoda  Cambaridae  Procambarus clarkii        LWS   \n",
       "\n",
       "  NCBI Accession #                  Transcript ID  \\\n",
       "0              NaN   AMP|TeSal|LWS|GDUJ01056749.1   \n",
       "1              NaN   AMP|TeSal|LWS|GDUJ01056750.1   \n",
       "2              NaN   AMP|TeSal|MWS|GDUJ01058424.1   \n",
       "3              NaN  AMP|TeSal|NEUR|GDUJ01037444.1   \n",
       "4         ALJ26467       DEC|Proclar|LWS|ALJ26467   \n",
       "\n",
       "                       Untrimmed Nucleotide Sequence  \\\n",
       "0  TCACGTGGCCTAGCGCGCTGTGTAGACCGAATCCAACTCCTTGTCT...   \n",
       "1  CTCACAACGAATCCAACTCATCAGTAATAATGAGGTGGAGGCGCGT...   \n",
       "2  TGGAGGGCTTCTTGGGGCCTCCCAGCTGCATTCATGTCCCTAACAC...   \n",
       "3  ATGGGTTAAAAATCAGCGCTGCATTGACGAGAAGTTTGACTCATCT...   \n",
       "4                                                NaN   \n",
       "\n",
       "                                    Protein Sequence  prot_len  \n",
       "0  HPEGMVSSNPFGNFTVVDAAPKELLHMVDPHWYQYPPLNPLWYGLL...       336  \n",
       "1  LPDSGYISTNPFGNFTVVDSAPKEILHMIDPHWYQFPPLNPMWYGL...       337  \n",
       "2  SYGSPSSSALTGANQFAFGYPPGVSVVDIVPPHMKDLIHPHWSNFP...       373  \n",
       "3  VVQTRPIFIISTRFTLHFDTEWLLACMTAGVVALVGNSASVAMFWR...       330  \n",
       "4  SWSNQPAMDDYGLPSSNPYGNFTVVDMAPKDILHMIHPHWYQYPPM...       363  "
      ]
     },
     "execution_count": 35,
     "metadata": {},
     "output_type": "execute_result"
    }
   ],
   "source": [
    "palecanda_df_filtered = palecanda_df[palecanda_df['Genus species'].isin(species_list)].reset_index(drop=True)\n",
    "#palecanda_df_filtered['raw_seqs'] = palecanda_df_filtered['aligned_seqs'].str.replace('-', '')\n",
    "prot_len_list = []\n",
    "for prot in palecanda_df_filtered['Protein Sequence']:\n",
    "    prot_len = len(prot)\n",
    "    prot_len_list.append(prot_len)\n",
    "palecanda_df_filtered['prot_len'] = prot_len_list\n",
    "palecanda_df_filtered = palecanda_df_filtered[palecanda_df_filtered['prot_len']>320].reset_index(drop=True)\n",
    "\n",
    "palecanda_df_filtered.head()"
   ]
  },
  {
   "cell_type": "code",
   "execution_count": 36,
   "metadata": {},
   "outputs": [
    {
     "data": {
      "text/plain": [
       "(84, 10)"
      ]
     },
     "execution_count": 36,
     "metadata": {},
     "output_type": "execute_result"
    }
   ],
   "source": [
    "palecanda_df_filtered.shape"
   ]
  },
  {
   "cell_type": "code",
   "execution_count": 37,
   "metadata": {},
   "outputs": [
    {
     "data": {
      "text/plain": [
       "15"
      ]
     },
     "execution_count": 37,
     "metadata": {},
     "output_type": "execute_result"
    }
   ],
   "source": [
    "len(set(palecanda_df_filtered['Genus species'].to_list()))"
   ]
  },
  {
   "cell_type": "code",
   "execution_count": 38,
   "metadata": {},
   "outputs": [
    {
     "data": {
      "text/plain": [
       "(84, 11)"
      ]
     },
     "execution_count": 38,
     "metadata": {},
     "output_type": "execute_result"
    }
   ],
   "source": [
    "palecanda_df_filtered2 = palecanda_df_filtered[~palecanda_df_filtered['Protein Sequence'].isin(ncbi_prot_list)]\n",
    "palecanda_df_filtered2=palecanda_df_filtered2.reset_index(drop=True)\n",
    "palecanda_df_filtered2['source'] = 'Palecanda et al 2022'\n",
    "palecanda_df_filtered2.shape"
   ]
  },
  {
   "cell_type": "code",
   "execution_count": 39,
   "metadata": {},
   "outputs": [
    {
     "data": {
      "text/plain": [
       "84"
      ]
     },
     "execution_count": 39,
     "metadata": {},
     "output_type": "execute_result"
    }
   ],
   "source": [
    "palecanda_df_filtered2.to_csv(f'{report_dir2}/crustacean_conundrums/palecanda_2022_filtered_seq_data.csv')\n",
    "len(set(palecanda_df_filtered2['Protein Sequence'].to_list()))"
   ]
  },
  {
   "cell_type": "code",
   "execution_count": 40,
   "metadata": {},
   "outputs": [],
   "source": [
    "sequence_list += palecanda_df_filtered2['Protein Sequence'].to_list()\n",
    "acc_list += palecanda_df_filtered2['Transcript ID'].to_list()\n",
    "db_sp_list += palecanda_df_filtered2['Genus species'].to_list()\n",
    "prot_descriptions += palecanda_df_filtered2['Opsin Type'].to_list()\n",
    "source_list += palecanda_df_filtered2['source'].to_list()"
   ]
  },
  {
   "cell_type": "markdown",
   "metadata": {},
   "source": [
    "### <font color=#c994c7>Ray-Finned Fish Opsin DB: Policarpo et al 2024</font>"
   ]
  },
  {
   "cell_type": "code",
   "execution_count": 41,
   "metadata": {},
   "outputs": [],
   "source": [
    "ray_finned_fasta_file = f'{report_dir2}/ray_finned_fish/mined_alignments/Complete_opsins.aln.txt'\n",
    "ray_finned_df = fasta_to_dataframe(ray_finned_fasta_file)"
   ]
  },
  {
   "cell_type": "code",
   "execution_count": 42,
   "metadata": {},
   "outputs": [
    {
     "data": {
      "application/vnd.microsoft.datawrangler.viewer.v0+json": {
       "columns": [
        {
         "name": "index",
         "rawType": "int64",
         "type": "integer"
        },
        {
         "name": "species_name",
         "rawType": "object",
         "type": "string"
        },
        {
         "name": "opsin_type",
         "rawType": "object",
         "type": "string"
        },
        {
         "name": "accession",
         "rawType": "object",
         "type": "string"
        },
        {
         "name": "aln_sequence",
         "rawType": "object",
         "type": "string"
        },
        {
         "name": "sequence",
         "rawType": "object",
         "type": "string"
        },
        {
         "name": "seq_length",
         "rawType": "int64",
         "type": "integer"
        }
       ],
       "conversionMethod": "pd.DataFrame",
       "ref": "9f4b27bc-f591-4083-b938-e9620e042bff",
       "rows": [
        [
         "0",
         "Lepisosteus oculatus",
         "va",
         "CM001408.1-11749388-11761955",
         "MDSFRVSVNG-VV--------------------------YTEAAE--ILKPGDPFSGPIENIA-PWNFKFLAALMFIVTSLSLSENFTVMLVTFRFKQLRQPLNYIIVNLSVADFLVSLIGGTISFLTNAKGYFFMGPWACVLEGFAVTFFGIVALWSLAVLAFERFFVICRPLG-NIRLRGKHAALGLVFVWTFSFIWTIPPALGWSSYTVSKIGTTCEPNWYSGD--YYDHTYIITFFTTCFILPLGVIIVSYGKLMRKLRKVSDTQGRLG--------STRKPERQVTRMVIVMILAFLICWTPYAAFSIVVTICPTIHLDPRLAAVPAFFSKTATVYNPIIYVFMNKQFRKCLIQLFN-CNG-SAMDMNLNQTDRG--------PMT-----------AESN---------E----GEMSAI----HITISNN----------------ITEK--------------------AEEEQS--QQSSFA-QL-----------------------------PIP------------ENKVCPM",
         "MDSFRVSVNGVVYTEAAEILKPGDPFSGPIENIAPWNFKFLAALMFIVTSLSLSENFTVMLVTFRFKQLRQPLNYIIVNLSVADFLVSLIGGTISFLTNAKGYFFMGPWACVLEGFAVTFFGIVALWSLAVLAFERFFVICRPLGNIRLRGKHAALGLVFVWTFSFIWTIPPALGWSSYTVSKIGTTCEPNWYSGDYYDHTYIITFFTTCFILPLGVIIVSYGKLMRKLRKVSDTQGRLGSTRKPERQVTRMVIVMILAFLICWTPYAAFSIVVTICPTIHLDPRLAAVPAFFSKTATVYNPIIYVFMNKQFRKCLIQLFNCNGSAMDMNLNQTDRGPMTAESNEGEMSAIHITISNNITEKAEEEQSQQSSFAQLPIPENKVCPM",
         "386"
        ],
        [
         "1",
         "Lepisosteus oculatus",
         "pinopsin",
         "CM001425.1-1263197-1266918",
         "MPILVNSSAA-FP--------------------------L--EKN----STPGPFDGPQWHQAPRSTYLMVAVLMGTVVVLASFVNGLVILVSLRYKKLRSPLNYILVNLAVADLLVTLFGSTVSFSNNVNGYFILGKSVCEFEGFMVSLTGIVGLWSLAILAFERYIVICKPMG-DFRFQQRHAVIGCGFTWVWSLIWTAPPLFGWSSYVPEGLRTSCGPNWYTGG--SNNNSYIMMLFITCFIMPLSMILFSYATLLITLRAVAAQQKESE--------TTQRAEREVTRMVIAMVMAFLVCWLPYATFAMVVAIDKNIVIQPTLASMPSYFSKTATVYNPVIYVFMNKQFRNCMLTMMC-CGR-NPFATEEDSSVTG----------T-----------S----------------------------------------------------------------------------------TAGKTE-IS-----------------------------SVSS---------GGSSKVTPA",
         "MPILVNSSAAFPLEKNSTPGPFDGPQWHQAPRSTYLMVAVLMGTVVVLASFVNGLVILVSLRYKKLRSPLNYILVNLAVADLLVTLFGSTVSFSNNVNGYFILGKSVCEFEGFMVSLTGIVGLWSLAILAFERYIVICKPMGDFRFQQRHAVIGCGFTWVWSLIWTAPPLFGWSSYVPEGLRTSCGPNWYTGGSNNNSYIMMLFITCFIMPLSMILFSYATLLITLRAVAAQQKESETTQRAEREVTRMVIAMVMAFLVCWLPYATFAMVVAIDKNIVIQPTLASMPSYFSKTATVYNPVIYVFMNKQFRNCMLTMMCCGRNPFATEEDSSVTGTSTAGKTEISSVSSGGSSKVTPA",
         "357"
        ],
        [
         "2",
         "Lepisosteus oculatus",
         "sws1",
         "CM001411.1-10398717-10404663",
         "MAGTEE--FY-L---------------------------F----E--NISSVGPWDGPQYHIAPKWAFYFQTIFMGLVFFWGTPLNTIVLIVTIKYKKLRQPLNYILVNISAAGLLAVFFSVFPVFIASSKGYFFLGKTVCALEGYSGAIAGLVTGWSLAFLAFERYIVICKPFV-NFRFGSKQALIAVASTWAIGIGVASPPWFGWSRFIPEGLQCSCGPDWYTTGTKYKSEYYSYFLFICCFCCPLSLIIYSYSQIIRALKEVAAQQAESA--------TTQKAERDVSRMVVVMVGSFLLCYGPYAILAMYMVNVRGGVQDLRLVTIPAMFTKSSCIYNPLIYSFMNKQFHACIMETV--CGK-PITDESEVS-------------------------------------------------------------------------------------------------------------SASKTE-VS-----------------------------SVS------------SSQVSPS",
         "MAGTEEFYLFENISSVGPWDGPQYHIAPKWAFYFQTIFMGLVFFWGTPLNTIVLIVTIKYKKLRQPLNYILVNISAAGLLAVFFSVFPVFIASSKGYFFLGKTVCALEGYSGAIAGLVTGWSLAFLAFERYIVICKPFVNFRFGSKQALIAVASTWAIGIGVASPPWFGWSRFIPEGLQCSCGPDWYTTGTKYKSEYYSYFLFICCFCCPLSLIIYSYSQIIRALKEVAAQQAESATTQKAERDVSRMVVVMVGSFLLCYGPYAILAMYMVNVRGGVQDLRLVTIPAMFTKSSCIYNPLIYSFMNKQFHACIMETVCGKPITDESEVSSASKTEVSSVSSSQVSPS",
         "346"
        ],
        [
         "3",
         "Lepisosteus oculatus",
         "rrh",
         "CM001407.1-48235198-48246929",
         "MENFSRIPIT-KV--------------------------LDNETS----NLSQAVDTSEHSVFSQTEHNIVAAYLITAGVISLLSNIVVLAMFVKFKELRTATNAIIINLAFTDIGVSGIGYPMSAASDIHGSWKFGYNGCQIYAALNIFFGMASIGLLTVVAIDRYFTICRPDI-GQQMTSHTYASLIGAAWINAIFWSTMPILGWASYAPDPTGATCTVNWRNND--SSFVSYTMSVIAVNFVIPLLVMFYCYYNVSHTMKRYTSSNLENN--------MDWSDQLAVTKMSIVMIVMFLVAWSPYSIVCLWASFGDPQRIPAPMAIIAPLFAKSSTFYNPCIYVIANKKFRRAIMAMIR-CQT-RQEI--TI------------------------------------------------------------------------------------------------------------------NN-LM-----------------------------PMT------------ISQPLTQ",
         "MENFSRIPITKVLDNETSNLSQAVDTSEHSVFSQTEHNIVAAYLITAGVISLLSNIVVLAMFVKFKELRTATNAIIINLAFTDIGVSGIGYPMSAASDIHGSWKFGYNGCQIYAALNIFFGMASIGLLTVVAIDRYFTICRPDIGQQMTSHTYASLIGAAWINAIFWSTMPILGWASYAPDPTGATCTVNWRNNDSSFVSYTMSVIAVNFVIPLLVMFYCYYNVSHTMKRYTSSNLENNMDWSDQLAVTKMSIVMIVMFLVAWSPYSIVCLWASFGDPQRIPAPMAIIAPLFAKSSTFYNPCIYVIANKKFRRAIMAMIRCQTRQEITINNLMPMTISQPLTQ",
         "343"
        ],
        [
         "4",
         "Lepisosteus oculatus",
         "opn5",
         "CM001404.1-37427058-37472360",
         "MAQTDNGTSHNVP--------------------------HYL-------LSGDPF----ASKLSKEADFVAAFYICIVGIMSTIGNGYVIFMTFKRKTKLRPPELMTMNLAIFDFGISVTGKPFFVISSFSHRWLFGMEGCRFYGWAGFFFGCGSLITMTVVSLDRYLKICHLRY-GTWLKRNHAFLCLGFIWSYAAFWATMPLIGWGNYAPEPFGTSCTLDWWLAQASLSGQSFVMSILFFCLVLPTAIIVFSYVKIIFKVKESAKEVAHFDTRNQ----NSHILEIKLTKVAMLICAGFLIAWIPYAVVSVWSAFGKPDSVPIPASVVPTLLAKSSAMYNPIIYQVIDCKNTCV--KLS--CFR-TFKKRKYYNT-------------------------S--R------------------------F-----------------------------------------------------YSISAAV-KG-----------------------------TSA------------VECHTEI",
         "MAQTDNGTSHNVPHYLLSGDPFASKLSKEADFVAAFYICIVGIMSTIGNGYVIFMTFKRKTKLRPPELMTMNLAIFDFGISVTGKPFFVISSFSHRWLFGMEGCRFYGWAGFFFGCGSLITMTVVSLDRYLKICHLRYGTWLKRNHAFLCLGFIWSYAAFWATMPLIGWGNYAPEPFGTSCTLDWWLAQASLSGQSFVMSILFFCLVLPTAIIVFSYVKIIFKVKESAKEVAHFDTRNQNSHILEIKLTKVAMLICAGFLIAWIPYAVVSVWSAFGKPDSVPIPASVVPTLLAKSSAMYNPIIYQVIDCKNTCVKLSCFRTFKKRKYYNTSRFYSISAAVKGTSAVECHTEI",
         "352"
        ],
        [
         "5",
         "Lepisosteus oculatus",
         "tmt1",
         "CM001420.1-23069451-23085565",
         "MFFEVSNLNH-S---------------------------FNLSGEDPFSSLDQEWGEGSEEKLSRTGHTVVSVFLGSILIFGFFNNLIVLVLFCKFKTLRTPVNMLLLNISVSDMLVCVFGTTLSFASSIRGRWLVGKQGCMWYGFINSCFGIVSLISLAVLSYDRYSTLTVY-N-KQVTDYRKPLLAVGGSWLYSLMWTVPPLLGWSSYGLEGAGTSCSVTWTARS--PQSISYIICLFIFCLAVPVLVMVYCYGRLLYAVKQVGKIRK--T--------AARKREYHILFMVITTVVCYLLCWIPYGVVAMLATFGRPGTVSPIASVVPSILAKSSTVFNPLIYILMNKQFYGCFLKLFH-CKQ-RSSANGPFS-------------------------------------------------------------------------------------------------------------LQSRTT-VIQLNRRVYNNTIDGTVQINTADEDREGTPPMKS------------NPPEMNP",
         "MFFEVSNLNHSFNLSGEDPFSSLDQEWGEGSEEKLSRTGHTVVSVFLGSILIFGFFNNLIVLVLFCKFKTLRTPVNMLLLNISVSDMLVCVFGTTLSFASSIRGRWLVGKQGCMWYGFINSCFGIVSLISLAVLSYDRYSTLTVYNKQVTDYRKPLLAVGGSWLYSLMWTVPPLLGWSSYGLEGAGTSCSVTWTARSPQSISYIICLFIFCLAVPVLVMVYCYGRLLYAVKQVGKIRKTAARKREYHILFMVITTVVCYLLCWIPYGVVAMLATFGRPGTVSPIASVVPSILAKSSTVFNPLIYILMNKQFYGCFLKLFHCKQRSSANGPFSLQSRTTVIQLNRRVYNNTIDGTVQINTADEDREGTPPMKSNPPEMNP",
         "379"
        ],
        [
         "6",
         "Lepisosteus oculatus",
         "opn7b",
         "CM001421.1-9741914-9748399",
         "MGNASETA---------------------------------------------LF----ISTVSKENDVLMGLLYSVFGVLSLLGNCILLFVAYRKKSSLKPAEFFIINLSISDLGMTVTLFPLAIPSAFAHKWLFDEITCLYYAFCGVLFGLCSLTNLTVLSSVCCLKVCYPTY-GSKFSSSHACLLVVGSWIYALIFAIAPLAKWGNYGPEPYGTACCIDWKAPNRELSAMTYIIFLFVFCYVVPCTIIFTSYTFILLTVRGSRQAVQQHVSPQN----KTSTAHNLIIKLSIAVCIGFLTAWSPYAVVAMWAAFGDAHVVPPMAFALSAIFAKSSTIYNPVVYLLFKPNFRKFLCRDAAQCRR-RLC--TCTC-------SCEERPVQ-----------KEAQRNKDVSNSTRLSNGLPESHLACRQ-----------------GIPTGQ--------------------LVLHRTARVMA-GSSHSEPIS-----------------------------QLT-----------YNLQKEIL",
         "MGNASETALFISTVSKENDVLMGLLYSVFGVLSLLGNCILLFVAYRKKSSLKPAEFFIINLSISDLGMTVTLFPLAIPSAFAHKWLFDEITCLYYAFCGVLFGLCSLTNLTVLSSVCCLKVCYPTYGSKFSSSHACLLVVGSWIYALIFAIAPLAKWGNYGPEPYGTACCIDWKAPNRELSAMTYIIFLFVFCYVVPCTIIFTSYTFILLTVRGSRQAVQQHVSPQNKTSTAHNLIIKLSIAVCIGFLTAWSPYAVVAMWAAFGDAHVVPPMAFALSAIFAKSSTIYNPVVYLLFKPNFRKFLCRDAAQCRRRLCTCTCSCEERPVQKEAQRNKDVSNSTRLSNGLPESHLACRQGIPTGQLVLHRTARVMAGSSHSEPISQLTYNLQKEIL",
         "392"
        ],
        [
         "7",
         "Lepisosteus oculatus",
         "parapinopsin",
         "CM001408.1-48371937-48375172",
         "MSLALLLSFF-AP--------------------------KTSCSESPQVNSTSQDSGKEEILMPRIGYTILAIIMAVFCTAAIILNATVILVTIRHRQLRQPINYSLVNLAVADLGVTVTGGSLTVLTNAMGYFSLGRIGCVIEGFSVAFFGIAGLCTVAVIAVDRFMVVCKPLG-TVIFRTRHATVGVVFSWVWSFIWNTPPLFGWGSYQLEGVKTSCAPDWYSRN--PANVSFIISYFTLCFAVPFTIIVFSYSRLLWTLKKVSSLGAKGG--------TTAKAEVQVTRMVIIMVLAFLICWLPYAAFAMTVIFNPEIEINPIIATVPMYLTKSSTVYNPLIYIFMNRQFRDCAVPFLL-CGR-NPWAEELEE-------------------------------------------------------------------------------------------------------------PEGDTT-LS-----------------------------TVSK----------SNNKVAPT",
         "MSLALLLSFFAPKTSCSESPQVNSTSQDSGKEEILMPRIGYTILAIIMAVFCTAAIILNATVILVTIRHRQLRQPINYSLVNLAVADLGVTVTGGSLTVLTNAMGYFSLGRIGCVIEGFSVAFFGIAGLCTVAVIAVDRFMVVCKPLGTVIFRTRHATVGVVFSWVWSFIWNTPPLFGWGSYQLEGVKTSCAPDWYSRNPANVSFIISYFTLCFAVPFTIIVFSYSRLLWTLKKVSSLGAKGGTTAKAEVQVTRMVIIMVLAFLICWLPYAAFAMTVIFNPEIEINPIIATVPMYLTKSSTVYNPLIYIFMNRQFRDCAVPFLLCGRNPWAEELEEPEGDTTLSTVSKSNNKVAPT",
         "356"
        ],
        [
         "8",
         "Lepisosteus oculatus",
         "rh1_exorh",
         "CM001408.1-40452721-40456656",
         "MNGTEGPNFY-VP--------------------------MSNKTG----IVKNPFEYPQYYLAEPWKFSALAAYMFFLIITGFPINFLTLHVTIQHKKLRTPLNYILLNLAVADLFMITGGFTTTMYTSMHGYFVFGPAGCNVEGFFATLGGEIALWSLVVLAIERYIVVCKPVS-NFRFGENHAVMGVALTWIMALACAAPPLFGWSRYIPEGMQCSCGIDYYTVTPEVNNKSFVIYMFIVHFSIPLTVIFFCYGRLVCTVKQAASQQQESE--------TTQRAEKEVTRMVVVMVISFLVCWLPYASVAFYIFVNQGSNFGPVFMTAPAFFAKSSALYNPIIYILLNKQFRRCMITTLC-CGK-NPFGEEDTTS------------------------------------------------------------------------------------------------------------ASGKTE-AS-----------------------------SVS------------SSQVSPA",
         "MNGTEGPNFYVPMSNKTGIVKNPFEYPQYYLAEPWKFSALAAYMFFLIITGFPINFLTLHVTIQHKKLRTPLNYILLNLAVADLFMITGGFTTTMYTSMHGYFVFGPAGCNVEGFFATLGGEIALWSLVVLAIERYIVVCKPVSNFRFGENHAVMGVALTWIMALACAAPPLFGWSRYIPEGMQCSCGIDYYTVTPEVNNKSFVIYMFIVHFSIPLTVIFFCYGRLVCTVKQAASQQQESETTQRAEKEVTRMVVVMVISFLVCWLPYASVAFYIFVNQGSNFGPVFMTAPAFFAKSSALYNPIIYILLNKQFRRCMITTLCCGKNPFGEEDTTSASGKTEASSVSSSQVSPA",
         "353"
        ],
        [
         "9",
         "Lepisosteus oculatus",
         "opn7a",
         "JH591457.1-196362-224003",
         "MGISAVNS---------------------------------------------TF----KSSIPENADILVAVVYSIFGICSLFGNSTLLYVSYKKKHLLKPAEFFIINLAISDLGMTVTLYPLAITSSISHRWLYGKTMCLIYAFCGVLFGICSLSTLTLLSIVCCMKVCYPLY-GNRFTLDHGRLLIACAWAYALLFACSPLAHWGEYGPEPYGTACCIDWKSSNTDPVAKSYTVVLFVFCFILPCGIIIASYSQILITVKESRKAVEQHVSTPT----RMGNIQTIIVKLSVAVCIGFFTAWSPYALVSMWAAFGSIENIPPLAFAIPAVFAKSSTLYNPIIYLLLKPNFRNFVCKD---CGI-LQHISSGNCLCIRSLQKCHYRSVI--------EISLKSLKRRTGSSAPS-ALGQECSKCTCEKVNTVQFSES--TSPEPKQQPKMRQTSKKSVRVIVRGK-----------KSSEI-DSLEITL--E-----------------------------TVP-----------AHSKAATP",
         "MGISAVNSTFKSSIPENADILVAVVYSIFGICSLFGNSTLLYVSYKKKHLLKPAEFFIINLAISDLGMTVTLYPLAITSSISHRWLYGKTMCLIYAFCGVLFGICSLSTLTLLSIVCCMKVCYPLYGNRFTLDHGRLLIACAWAYALLFACSPLAHWGEYGPEPYGTACCIDWKSSNTDPVAKSYTVVLFVFCFILPCGIIIASYSQILITVKESRKAVEQHVSTPTRMGNIQTIIVKLSVAVCIGFFTAWSPYALVSMWAAFGSIENIPPLAFAIPAVFAKSSTLYNPIIYLLLKPNFRNFVCKDCGILQHISSGNCLCIRSLQKCHYRSVIEISLKSLKRRTGSSAPSALGQECSKCTCEKVNTVQFSESTSPEPKQQPKMRQTSKKSVRVIVRGKKSSEIDSLEITLETVPAHSKAATP",
         "422"
        ],
        [
         "10",
         "Lepisosteus oculatus",
         "opn4x",
         "CM001405.1-55699298-55724418",
         "MEPHRSFV--------------------------------------------------KKIDVPDQVHYIIACFVVVIGTIGVVGNLLVMYAFYSDKKLRTPPNYFIMNLAISDFLMSISQSPIFFVNCLNKEWVFGELGCKLYAFCGALFGITSMITLLAISIDRYLVITKPLQ-SIQWSKRRTSLVILLVWLYSLAWSLAPLVGWSSYIPEGLMTSCTWDYVTAT--PSNRSYTLMLCCFVFFIPLLIISYCYVFMFIAIRSTSRDVEKLRTHTKKLIQQSVRNEWKLAKIAFVVIIVFVLSWSPYACVTLIAWAGYANILNPYSKAVPAVIAKASAIYNPLIYAIIHSKYRRTLGETVP-CLGFLVRPPRKECVSVSTSES-SFRESVRSRQSTVSRN----KLRRVSTMSSG-DTVWSD-------VL---LDPVPQKTHACKSRSFSNLSKER-NQLLLRRKSKSCTTVVEEKEKSETH-SDTTTG-EN------------------GLSLSKMGLDPSVP-RIVISPTSEDLQTLNCYT",
         "MEPHRSFVKKIDVPDQVHYIIACFVVVIGTIGVVGNLLVMYAFYSDKKLRTPPNYFIMNLAISDFLMSISQSPIFFVNCLNKEWVFGELGCKLYAFCGALFGITSMITLLAISIDRYLVITKPLQSIQWSKRRTSLVILLVWLYSLAWSLAPLVGWSSYIPEGLMTSCTWDYVTATPSNRSYTLMLCCFVFFIPLLIISYCYVFMFIAIRSTSRDVEKLRTHTKKLIQQSVRNEWKLAKIAFVVIIVFVLSWSPYACVTLIAWAGYANILNPYSKAVPAVIAKASAIYNPLIYAIIHSKYRRTLGETVPCLGFLVRPPRKECVSVSTSESSFRESVRSRQSTVSRNKLRRVSTMSSGDTVWSDVLLDPVPQKTHACKSRSFSNLSKERNQLLLRRKSKSCTTVVEEKEKSETHSDTTTGENGLSLSKMGLDPSVPRIVISPTSEDLQTLNCYT",
         "453"
        ],
        [
         "11",
         "Lepisosteus oculatus",
         "opn8c",
         "CM001404.1-31069975-31086151",
         "MSVPGQPEST-ERGSCHCYPGKIRLLKRGRSLTNGLSIRFIPSPL----MLKDCFW--------YLQYISFTAGISYTVLLSVLGNGLVLWISYRRRKKITSSELLCVNLALVDFLCCICLYPLSIVSSFSHAWLGDKATCTYYGLGGFLFGLCGMFTIAAISVIRYLKTCHNIS-YVVWCEAITRALCIATWLIAAAWSCFPLFGWGEYAPEPYGVSCTVAWKSYHTSVEDALFVVCSFACFTLIPILLIMTSQCQILYKVYRFNFSLAARGIRS-----SLHNAEKRISVMFFCISLGFVTAWAPYAVVSFLFIFHKTWHLAPEGFIFPALFAKSSHVYNPFIYFYFNKTFRQELQCLVR-SGS-ARNRVSVNQ---------PQAPAV-------IEVQPRGQSNLDRST------------------------------------------------------------------------SHSQSN-TN-----------------------------RVNAKMIVAPEPRNKEFVLISS",
         "MSVPGQPESTERGSCHCYPGKIRLLKRGRSLTNGLSIRFIPSPLMLKDCFWYLQYISFTAGISYTVLLSVLGNGLVLWISYRRRKKITSSELLCVNLALVDFLCCICLYPLSIVSSFSHAWLGDKATCTYYGLGGFLFGLCGMFTIAAISVIRYLKTCHNISYVVWCEAITRALCIATWLIAAAWSCFPLFGWGEYAPEPYGVSCTVAWKSYHTSVEDALFVVCSFACFTLIPILLIMTSQCQILYKVYRFNFSLAARGIRSSLHNAEKRISVMFFCISLGFVTAWAPYAVVSFLFIFHKTWHLAPEGFIFPALFAKSSHVYNPFIYFYFNKTFRQELQCLVRSGSARNRVSVNQPQAPAVIEVQPRGQSNLDRSTSHSQSNTNRVNAKMIVAPEPRNKEFVLISS",
         "406"
        ],
        [
         "12",
         "Lepisosteus oculatus",
         "opn6",
         "CM001419.1-6166229-6178170",
         "MSLKNPLQVANIA--------------------------W--RNN----NISLLN---KDPPLSEQGETIIGVYLLILGWLSWFGNSIVLFILYKQRATLQPTDYLTFNLAISDASISVFGYSRGIIEIFNGGFITSIWTCQVDGFLTLLFGLASINTLTVISVTRYIKGCHPVR-APCICNHTITVSLVLIWAAALFWSGAPLLGWGSYTDRGYG-TCEIDWAKANYSTIYKSYIVSILIFCFFLPVLVMIFSYVSIIRTVKSSHALGADGDLTD-----RQRRMERDVTRVSVVICTAFIVAWSPYAVVSMWSAWGF--YVPNITSIFTRLFAKSASFYNPLIYFGMSSKFRKDVRVLLP-CAR-GGKDSVRLRR-FK---H--LKPRA-----------EAQQ--------PS-K------------E------------PQPGEEV-----------------------------------KPSPSP-DS-----------------------------GVGSQVFFIPESETPEFESDRL",
         "MSLKNPLQVANIAWRNNNISLLNKDPPLSEQGETIIGVYLLILGWLSWFGNSIVLFILYKQRATLQPTDYLTFNLAISDASISVFGYSRGIIEIFNGGFITSIWTCQVDGFLTLLFGLASINTLTVISVTRYIKGCHPVRAPCICNHTITVSLVLIWAAALFWSGAPLLGWGSYTDRGYGTCEIDWAKANYSTIYKSYIVSILIFCFFLPVLVMIFSYVSIIRTVKSSHALGADGDLTDRQRRMERDVTRVSVVICTAFIVAWSPYAVVSMWSAWGFYVPNITSIFTRLFAKSASFYNPLIYFGMSSKFRKDVRVLLPCARGGKDSVRLRRFKHLKPRAEAQQPSKEPQPGEEVKPSPSPDSGVGSQVFFIPESETPEFESDRL",
         "384"
        ],
        [
         "13",
         "Lepisosteus oculatus",
         "rh2",
         "CM001406.1-36554398-36556894",
         "MNGTEGNNFY-VP--------------------------FSNRTG----LVRSPFEYPQYYLAAPWKFSTLCAYMFLLIMLGFPINGLTLLVTFKHKKLRQPLNFILVNLAVAGLFMVCFGFTITFYSAMNGYFVFGPIGCAIEGFFATLGGEVALWSLVVLAIERYIVVCKPMG-NFRFSSTHAFIGIMFTWVMAFSCAAPPLIGWSRYIPEGMQCSCGPDYYTMNPQYNNASYVIYMFVVHFFIPVVVIFFSYGRLICKVKEAAASQQESA--------TTQKAEREVTRMVILMVIGFLTAWVPYASVALWIFLNQGADFSATFMTVPAFFSKSSSLYNPIIYVLLNKQFRNCMVTTIC-CGK-NPLGDDEVSS-------------T-----------A----------------------------------------------------------------------------------SQSKTE-VS-----------------------------SVS------------SSQVSPA",
         "MNGTEGNNFYVPFSNRTGLVRSPFEYPQYYLAAPWKFSTLCAYMFLLIMLGFPINGLTLLVTFKHKKLRQPLNFILVNLAVAGLFMVCFGFTITFYSAMNGYFVFGPIGCAIEGFFATLGGEVALWSLVVLAIERYIVVCKPMGNFRFSSTHAFIGIMFTWVMAFSCAAPPLIGWSRYIPEGMQCSCGPDYYTMNPQYNNASYVIYMFVVHFFIPVVVIFFSYGRLICKVKEAAASQQESATTQKAEREVTRMVILMVIGFLTAWVPYASVALWIFLNQGADFSATFMTVPAFFSKSSSLYNPIIYVLLNKQFRNCMVTTICCGKNPLGDDEVSSTASQSKTEVSSVSSSQVSPA",
         "355"
        ],
        [
         "14",
         "Lepisosteus oculatus",
         "opn8a",
         "CM001404.1-15171297-15195615",
         "MWSSEMDD---------------------------------------------KY----TSKLSPALDYGAGTFLIVIAVLSILGNGAVLATAVKRSSVLKAAELLSVNLALTDIGMALSMYPLSIASAFNHAWVGGDPSCIYYGLMGFFFSVASIMTLATMAVVRYLITRTPRTSGNRFDKKKIYFVILFIWLYAALWALLPVLGWGHYGPEPFGLSCSVDWAGYHNSVNGATFLLSMFVLCTVFPCLAIVLCYSGIAWKLHKAYQAIQNSEHLP-----KSSNLEKKFTLMAVLISTGFIVCWTPYVVVSFLTTFQSKDSLTPVASLLPCLFAKSSTAYNPLIYYVFSRSFRRELKKMKC-CGF-RVHLSTADISALS--------------------------------------------------HFTVGGN----------------------------------------------------LR-DD-----------------------------AKS-----------ASAIKRHQ",
         "MWSSEMDDKYTSKLSPALDYGAGTFLIVIAVLSILGNGAVLATAVKRSSVLKAAELLSVNLALTDIGMALSMYPLSIASAFNHAWVGGDPSCIYYGLMGFFFSVASIMTLATMAVVRYLITRTPRTSGNRFDKKKIYFVILFIWLYAALWALLPVLGWGHYGPEPFGLSCSVDWAGYHNSVNGATFLLSMFVLCTVFPCLAIVLCYSGIAWKLHKAYQAIQNSEHLPKSSNLEKKFTLMAVLISTGFIVCWTPYVVVSFLTTFQSKDSLTPVASLLPCLFAKSSTAYNPLIYYVFSRSFRRELKKMKCCGFRVHLSTADISALSHFTVGGNLRDDAKSASAIKRHQ",
         "346"
        ],
        [
         "15",
         "Lepisosteus oculatus",
         "opn3",
         "CM001419.1-15519415-15526424",
         "MNPANETVTD-------------------------------------------TGT-VEEYLFSNGTYKLLAFTVGTIAVLGFCNNIIVLVLYYRFKRLRTPTNLFLLNISVSDLLVSLFGVNFTFVSCVKGHWIWDSATCVWDGFSNSLFGIVSIMTLTVLAYERYIRVVHAKV----IDFTWSWKAIAYIWLYSLAWTGAPLIGWNRYTLERHRLGCSVDWGSKD--PNDASFILFFFLSCLFVPVGIMAYCYGHILYTVRMLRSIQDQII--------KILRYEKKVAKMFLLMISTFLICWTPYAVVSMLVAFGKKDIVTPTVAIIPSFFAKSSTAYNPVIYIFMSRKFRRCLLRLLC-ARL-VSIRRSIKDR-----------PIA-----------RVEK--------PI-R------------PIVVSQK----------------VGER-----PKKKVTFNSSSIVFIITSNDTNDIPSKNS-LS-----------------------------EVN------------VIKVRPL",
         "MNPANETVTDTGTVEEYLFSNGTYKLLAFTVGTIAVLGFCNNIIVLVLYYRFKRLRTPTNLFLLNISVSDLLVSLFGVNFTFVSCVKGHWIWDSATCVWDGFSNSLFGIVSIMTLTVLAYERYIRVVHAKVIDFTWSWKAIAYIWLYSLAWTGAPLIGWNRYTLERHRLGCSVDWGSKDPNDASFILFFFLSCLFVPVGIMAYCYGHILYTVRMLRSIQDQIIKILRYEKKVAKMFLLMISTFLICWTPYAVVSMLVAFGKKDIVTPTVAIIPSFFAKSSTAYNPVIYIFMSRKFRRCLLRLLCARLVSIRRSIKDRPIARVEKPIRPIVVSQKVGERPKKKVTFNSSSIVFIITSNDTNDIPSKNSLSEVNVIKVRPL",
         "379"
        ],
        [
         "16",
         "Lepisosteus oculatus",
         "opn6",
         "CM001410.1-5360602-5364424",
         "--------------------------------------------------------------------------------------------MAKQRQTLEPQDYLTFNLAVSDASISIFGYSRGILEVFNGFIIKTIWTCKVDGFLILLFGLISINTLTAISVIRYIKGCQAHQ-AYRVNKRSVGLVIAAAWLWALFWAGAPLLGWGSYRARKYG-TCEIDWTRAGISLSYKCYVIGIFFFNFFVPVIIMVFSYVSIIRMVRSSHKSTRGGDVSE-----RQRHMERSITRVSFVVCTAFLLAWSPYAVISMWSAWG--YQVPPLTSVLASLLAKSASFYNPFIYVGMSSKFRQDLRLLFR-CLR-ARGRQTQTPA---------LQPPAQPEHVEVREAGPKGDDSTADSG---VDSGNHE-------SF---IDEGS---PAQPASPRIES-------------------------------AHLTTK-AF-----------------------------LRK------------HSDSGRL",
         "MAKQRQTLEPQDYLTFNLAVSDASISIFGYSRGILEVFNGFIIKTIWTCKVDGFLILLFGLISINTLTAISVIRYIKGCQAHQAYRVNKRSVGLVIAAAWLWALFWAGAPLLGWGSYRARKYGTCEIDWTRAGISLSYKCYVIGIFFFNFFVPVIIMVFSYVSIIRMVRSSHKSTRGGDVSERQRHMERSITRVSFVVCTAFLLAWSPYAVISMWSAWGYQVPPLTSVLASLLAKSASFYNPFIYVGMSSKFRQDLRLLFRCLRARGRQTQTPALQPPAQPEHVEVREAGPKGDDSTADSGVDSGNHESFIDEGSPAQPASPRIESAHLTTKAFLRKHSDSGRL",
         "344"
        ],
        [
         "17",
         "Lepisosteus oculatus",
         "tmt3",
         "CM001417.1-8050712-8061871",
         "MITSNVSLEC-I---------------------------GGNAVQ-CKNTRDAHLDNSREYNLTATGHLIVAICLGFIGTLGFINNLLVLLLFCLYKVLRSPINMLLMNISVSDLLVCVMGTPFSFAASTQGRWLIGESGCVWYGFVNSLFGTVSLISLALLSYERYITMMRTVE-ADATDYKKAVLGILVSWTYSLLWTLPPLFGWSSYGPEGPGTTCSVNWQSKS--ANSMSYIICFFTFCLVLPFMIIIYSYGKLLLTVKQVSGIST--V--------TGRTREQRVLLMVVAMVICFLLCWLPYGIVALIATFGKPGLITPTVSIIPSVLAKSSTVYNPIIYVFMNNQFYRCFCSFVR-CQK-PTINSNS-R-------------------------------------------------------------------------------------------------------------STSKTLKACRAAKMIHDKNQLSTANHNGHNLSVDETKPAAS------------RVPHYHS",
         "MITSNVSLECIGGNAVQCKNTRDAHLDNSREYNLTATGHLIVAICLGFIGTLGFINNLLVLLLFCLYKVLRSPINMLLMNISVSDLLVCVMGTPFSFAASTQGRWLIGESGCVWYGFVNSLFGTVSLISLALLSYERYITMMRTVEADATDYKKAVLGILVSWTYSLLWTLPPLFGWSSYGPEGPGTTCSVNWQSKSANSMSYIICFFTFCLVLPFMIIIYSYGKLLLTVKQVSGISTVTGRTREQRVLLMVVAMVICFLLCWLPYGIVALIATFGKPGLITPTVSIIPSVLAKSSTVYNPIIYVFMNNQFYRCFCSFVRCQKPTINSNSRSTSKTLKACRAAKMIHDKNQLSTANHNGHNLSVDETKPAASRVPHYHS",
         "379"
        ],
        [
         "18",
         "Lepisosteus oculatus",
         "opn8b",
         "CM001404.1-42368947-42396725",
         "MEN--------------------------------------------------HY----LSKMSPAVDYGAGAFLLLIAVLSAVGNLSVLITAFKRSSHLKAPELLSVNLAVTDLGMAITMYPLAIASAWNHAWLGGDTSCIYYGLMGFLFGVTSMMTLAVMAVVRFVVSTSLQSPREKISRRKIHVLIIFTWLYSLLWAVFPLLGWGKYGPEPFGISCTIAWAEFK--ENGSSFLICIFTLCTIIPAVTIIACYFGIAWKLHVAYKTIKNSNHIP-----NAMKVERRLALIAVLISAGFIGCWAPYATVSFWSMFRSSKSIPPELSLLPCLFAKSSTAYNPFIYYIFSKTFRKEIKQLTCFCGR-LNNLVN----VTD--------------------------------------------------HETIRGS------PIF-----MTR------------------------DSKRL-QKSNIPE-GN-----------------------------RLS-----------ISNLETET",
         "MENHYLSKMSPAVDYGAGAFLLLIAVLSAVGNLSVLITAFKRSSHLKAPELLSVNLAVTDLGMAITMYPLAIASAWNHAWLGGDTSCIYYGLMGFLFGVTSMMTLAVMAVVRFVVSTSLQSPREKISRRKIHVLIIFTWLYSLLWAVFPLLGWGKYGPEPFGISCTIAWAEFKENGSSFLICIFTLCTIIPAVTIIACYFGIAWKLHVAYKTIKNSNHIPNAMKVERRLALIAVLISAGFIGCWAPYATVSFWSMFRSSKSIPPELSLLPCLFAKSSTAYNPFIYYIFSKTFRKEIKQLTCFCGRLNNLVNVTDHETIRGSPIFMTRDSKRLQKSNIPEGNRLSISNLETET",
         "352"
        ],
        [
         "19",
         "Lepisosteus oculatus",
         "opn4m1_3",
         "CM001408.1-35803596-35856929",
         "MQSIRRGISC-PPQDPNCTRIVESLSVWNESVVNAYKLVPLATTV--AVVQEHLF--P-TVDVPDHAHYTIGAVILAVGITGLLGNFLVIYAFSRSRSLRTPANIFIINLAITDFLMCLTQAPVFFTTSMHKRWIFGEKGCELYAFCGALFGICSMITLTVIAVDRYFVITRPLASIGVMSRRRALLILSAVWTYSLGWSLPPFFGWSAYVPEGLLTSCTWDYMTFT--PSVRAYTMLLFTFVFFIPLLIIIYCYVFIFRAIRATNKAVSKINSDDSKKKYQRLKNEWKMAKIALIVILLYVLSWSPYSTVALTAFAGYSDVLTPYMNSVPAVIAKASAIHNPIIYAITHPKYRSAIAKYIP-CLGVLLRVPRKDSRYSSSFQS-TRRSTVTSQSSEISSAYHHGGKSRLSSASDS-ESGWTD-------TE---AELSSINSRPASRQVSCEISKDTAGNYKTKSKLKSHDSGVFEKTSVDAD-DISMAE-V------------------------------NLS---------ERSSPPSDSS",
         "MQSIRRGISCPPQDPNCTRIVESLSVWNESVVNAYKLVPLATTVAVVQEHLFPTVDVPDHAHYTIGAVILAVGITGLLGNFLVIYAFSRSRSLRTPANIFIINLAITDFLMCLTQAPVFFTTSMHKRWIFGEKGCELYAFCGALFGICSMITLTVIAVDRYFVITRPLASIGVMSRRRALLILSAVWTYSLGWSLPPFFGWSAYVPEGLLTSCTWDYMTFTPSVRAYTMLLFTFVFFIPLLIIIYCYVFIFRAIRATNKAVSKINSDDSKKKYQRLKNEWKMAKIALIVILLYVLSWSPYSTVALTAFAGYSDVLTPYMNSVPAVIAKASAIHNPIIYAITHPKYRSAIAKYIPCLGVLLRVPRKDSRYSSSFQSTRRSTVTSQSSEISSAYHHGGKSRLSSASDSESGWTDTEAELSSINSRPASRQVSCEISKDTAGNYKTKSKLKSHDSGVFEKTSVDADDISMAEVNLSERSSPPSDSS",
         "483"
        ],
        [
         "20",
         "Lepisosteus oculatus",
         "sws2",
         "CM001404.1-2621053-2624669",
         "MRQLRPDDFY-IP--------------------------IKLNTN--NITALSPFLVPQTHLGSTTMFMSMAAFMLFLTIAGVPINLLTIICTFKYKKLRSHLNYILVNLAVANLLVCSLGSFTAFLSFYNMYFTMGPIACKIEGFTSALAGMVSLWSLAVVAFERYLVICKPIS-NLTFRSSHAIIGCVVTWVFALVASAPPLFGWSRYIPEGLQCSCGPDWYTTNNKFNNESYVMFLFVFCFGVPFSTIVTCYIRLLMTLRSVAKAQEQSA--------TTQKAEREVTKMVVVMVMGFLACWLPYTSFALWVITHRGESFDLRLATIPNVFCKASTVYNPIIYVYMNKQFRSCMLKMVF-CGK-SPFGEEEDS-------------------------------------------------------------------------------------------------------------SSQTTQ-VS-----------------------------SVS------------SSQVAPA",
         "MRQLRPDDFYIPIKLNTNNITALSPFLVPQTHLGSTTMFMSMAAFMLFLTIAGVPINLLTIICTFKYKKLRSHLNYILVNLAVANLLVCSLGSFTAFLSFYNMYFTMGPIACKIEGFTSALAGMVSLWSLAVVAFERYLVICKPISNLTFRSSHAIIGCVVTWVFALVASAPPLFGWSRYIPEGLQCSCGPDWYTTNNKFNNESYVMFLFVFCFGVPFSTIVTCYIRLLMTLRSVAKAQEQSATTQKAEREVTKMVVVMVMGFLACWLPYTSFALWVITHRGESFDLRLATIPNVFCKASTVYNPIIYVYMNKQFRSCMLKMVFCGKSPFGEEEDSSSQTTQVSSVSSSQVAPA",
         "354"
        ],
        [
         "21",
         "Lepisosteus oculatus",
         "rh1_exorh",
         "CM001408.1-23736048-23737109",
         "MNGTEGPNFY-VP--------------------------MSNATG----VVRSPFEYPQYYLAEPWKFSALAAYMFFLIITGFPINFLTLYVTIEHKKLRTPLNYILLNLAVGDLFMVFGGFTTTMYTSMNGYFVFGTTGCNIEGFFATLGGMISLWSLVVLAVERYLVVCKPMS-NFRFGESHSIMGVLFTWVMACACAVPPLFGWSRYIPEGMQCSCGIDYYTLKPEVNNESFVIYMFTVHLLLPFSVVFFCYGRLVCTVKAAAAQQQESE--------TTQRAEREVTRMVVLMVISYIVCWTPYGSVAWYIFTHKGADFGPVFMTGPAFFAKSSALYNPLIYVCMNKQFRHCMITTLC-CGK-NPFEEEEGAS-------------------------T----------------------------------------------------------------------------------TASKTE-AS-----------------------------SVS------------SSQVSPA",
         "MNGTEGPNFYVPMSNATGVVRSPFEYPQYYLAEPWKFSALAAYMFFLIITGFPINFLTLYVTIEHKKLRTPLNYILLNLAVGDLFMVFGGFTTTMYTSMNGYFVFGTTGCNIEGFFATLGGMISLWSLVVLAVERYLVVCKPMSNFRFGESHSIMGVLFTWVMACACAVPPLFGWSRYIPEGMQCSCGIDYYTLKPEVNNESFVIYMFTVHLLLPFSVVFFCYGRLVCTVKAAAAQQQESETTQRAEREVTRMVVLMVISYIVCWTPYGSVAWYIFTHKGADFGPVFMTGPAFFAKSSALYNPLIYVCMNKQFRHCMITTLCCGKNPFEEEEGASTTASKTEASSVSSSQVSPA",
         "354"
        ],
        [
         "22",
         "Lepisosteus oculatus",
         "rgr",
         "CM001408.1-7986846-7991663",
         "MVTSYT--------------------------------------------------------LPEGFTDLDVFGLLVEGLLGFCLNGLTILSFCKIHELRTPSNFLVFSLAIADIGICMNAT-IAAFSSFLRYWPYGSEGCQTHGFQGFVTALASITFMAAIAWDRYHQYCTRTK----LQWSTSITMVTFLWLFAIFWSAMPLLGWGEYDYEPLRTCCTLDYTKGD--RNFVSYLLPMAFFNFVIPFTIMLTSYQSVEKKFKKTGQNK----------------------FNTGLPVKTLLICWGPYSLLCLYAAVENATVLSPKLRMIPAILAKTSPAINAFLYGLGNENYRGGIWQFLT-GQK-I-----------------------------------------------------------------------------------------------------------------------------------------------------------EVT------------QTDNKSK",
         "MVTSYTLPEGFTDLDVFGLLVEGLLGFCLNGLTILSFCKIHELRTPSNFLVFSLAIADIGICMNATIAAFSSFLRYWPYGSEGCQTHGFQGFVTALASITFMAAIAWDRYHQYCTRTKLQWSTSITMVTFLWLFAIFWSAMPLLGWGEYDYEPLRTCCTLDYTKGDRNFVSYLLPMAFFNFVIPFTIMLTSYQSVEKKFKKTGQNKFNTGLPVKTLLICWGPYSLLCLYAAVENATVLSPKLRMIPAILAKTSPAINAFLYGLGNENYRGGIWQFLTGQKIEVTQTDNKSK",
         "291"
        ],
        [
         "23",
         "Lepisosteus oculatus",
         "opn4m1_3",
         "CM001412.1-37927769-37929238",
         "MNSQSAGISC-PSQDSNCTPIESHFTGQNHFRARSSNLVLHAGTG--VPISENPF--P-TVEVPDHAHYTIGTVILFVGITGVLGNFLVIYAFSRSKSLRTPSNMFIINLAVSDFLMSITQAPVFFITSLHKRWVFGEKGCELYAFCGALFGIGSMITLMVIAADRYFVITRPLSSIGAMTLKRAGLILVGVWCYSLGWSLPPFFGWSAFVPEGLLTSCTWDYMTFT--PSVRAYTMLLFTFIFLIPLLIIICCYVFIFKAIRAAGRAVQKINSGESQKLYEKMRSDWKMAKIALIVILLYVVSWAPYSCVALTAFAGYSHLLAPYMNSVPAVIAKASAIHNPIIYAITHPKYRAAIAKYVP-FLRVILRVSEKDLRSSGSYTS-MRRSTLTSQSSSVSATNTRWAKSRHSSTSDS-ESCWTE-------SE---ADVSSLCSPSSNRQVTTEIGEDITVDTIIQSQPSSNNSLFFNKTSSDSR-DISVTE-V------------------------------SQS---------ECSVFPLPGI",
         "MNSQSAGISCPSQDSNCTPIESHFTGQNHFRARSSNLVLHAGTGVPISENPFPTVEVPDHAHYTIGTVILFVGITGVLGNFLVIYAFSRSKSLRTPSNMFIINLAVSDFLMSITQAPVFFITSLHKRWVFGEKGCELYAFCGALFGIGSMITLMVIAADRYFVITRPLSSIGAMTLKRAGLILVGVWCYSLGWSLPPFFGWSAFVPEGLLTSCTWDYMTFTPSVRAYTMLLFTFIFLIPLLIIICCYVFIFKAIRAAGRAVQKINSGESQKLYEKMRSDWKMAKIALIVILLYVVSWAPYSCVALTAFAGYSHLLAPYMNSVPAVIAKASAIHNPIIYAITHPKYRAAIAKYVPFLRVILRVSEKDLRSSGSYTSMRRSTLTSQSSSVSATNTRWAKSRHSSTSDSESCWTESEADVSSLCSPSSNRQVTTEIGEDITVDTIIQSQPSSNNSLFFNKTSSDSRDISVTEVSQSECSVFPLPGI",
         "483"
        ],
        [
         "24",
         "Lepisosteus oculatus",
         "tmt3",
         "CM001417.1-13234795-13271078",
         "MIVSNVNLSC-T---------------------------EGNSAW-CVSNNDGNVEAPSNNDLTPTGHLIVAVCLGIIGSLGFSSNFLVLLLFCRYKVLRSPINLLLMNISVSDMLVCAVGTPFSFAASTQGRWLIGKSGCVWYGFVNSCLGMVSLISLAVLSYERYSTMMGSTE-ADATNYRKIGVGIMLSWGYSLLWTLPPLFGWSSYGPEGPGTTCSVNWKAKD--VNNISYIVCLFVFCLVLPFFVIIYSYGKLLLTVKQVSVIST--V--------VGRSREQRILFMVLAMVICFLLCWLPYGIVALLATFGKSGLVTPEASIIPSLLAKSSTVFNPIIYIFLNKQFYRCFRAFLM-CQR-PANGSSV-R-------------------------------------------------------------------------------------------------------------SSSKTTKPCRAARRAINDNRHSTLIQNSVGSSWDASKPPVL------------LVAHYNG",
         "MIVSNVNLSCTEGNSAWCVSNNDGNVEAPSNNDLTPTGHLIVAVCLGIIGSLGFSSNFLVLLLFCRYKVLRSPINLLLMNISVSDMLVCAVGTPFSFAASTQGRWLIGKSGCVWYGFVNSCLGMVSLISLAVLSYERYSTMMGSTEADATNYRKIGVGIMLSWGYSLLWTLPPLFGWSSYGPEGPGTTCSVNWKAKDVNNISYIVCLFVFCLVLPFFVIIYSYGKLLLTVKQVSVISTVVGRSREQRILFMVLAMVICFLLCWLPYGIVALLATFGKSGLVTPEASIIPSLLAKSSTVFNPIIYIFLNKQFYRCFRAFLMCQRPANGSSVRSSSKTTKPCRAARRAINDNRHSTLIQNSVGSSWDASKPPVLLVAHYNG",
         "379"
        ],
        [
         "25",
         "Lepisosteus oculatus",
         "opn9",
         "CM001429.1-11685481-11693388",
         "MPRDGNSSTEGLP---------------------------------------HPF----LSRLSPSADVGIAVYLSLTGVLSVAGNGVVLTVFSRKRSHLRPQELMAMNLAVCDFGYSLLGAPFLISSSLAHSWMWGHAGCVWYGVQGFVFGIGSLITTALISLDRCLKICSIRY-GQWVERRHIGLLIVGVWLYTVTWALLPVFGFGSYGPEPFGTSCTIDWWRMRFSRTDRLYVCLIMTLCFGLSTLTIAGSYLAILIQVRRSGRSLAAIPSSAV----THFSKEMRLTKIAAVICSTFLLAWTPYVIVSLYSALGGLSSLPPEVSVIPALLAKSHCVINPFIYQAMSKEFRADVSDLLL-GGR-RRRKRRIRSR-------------------------G--R---------------------------------------------------------------------------------EGRE-ES-----------------------------GSE------------RAGGEES",
         "MPRDGNSSTEGLPHPFLSRLSPSADVGIAVYLSLTGVLSVAGNGVVLTVFSRKRSHLRPQELMAMNLAVCDFGYSLLGAPFLISSSLAHSWMWGHAGCVWYGVQGFVFGIGSLITTALISLDRCLKICSIRYGQWVERRHIGLLIVGVWLYTVTWALLPVFGFGSYGPEPFGTSCTIDWWRMRFSRTDRLYVCLIMTLCFGLSTLTIAGSYLAILIQVRRSGRSLAAIPSSAVTHFSKEMRLTKIAAVICSTFLLAWTPYVIVSLYSALGGLSSLPPEVSVIPALLAKSHCVINPFIYQAMSKEFRADVSDLLLGGRRRRKRRIRSRGREGREESGSERAGGEES",
         "345"
        ],
        [
         "26",
         "Lepisosteus oculatus",
         "lws",
         "CM001404.1-2606000-2610690",
         "MTEHWGSAVF-AAKHEEDTTRDSIFT-------------Y-TNTN----NTRGPFEGPNYHIAPRWVYNLSTLWMIFVFTASVFTNGLVLVATWKFKKLRHPLNWILVNLAIADLGETLLATTISICNQIFGYFILGHPMCVFEGFTVATCGIAGLWSLTVISWERWVVVCKPFG-NVKFDSKWALGGIIFTWVWSAGWCAPPVFGWSRYWPHGLKTSCGPDVFSGNEDPGMVSYMVVLMITCCIIPLGIIVLCYIAVWLAIRSVAQQQKESE--------STQKAEKEVSRMVVVMIVAYCVCWGPYTFFVCFGTAYPGYAFHPLAAAMPAYFAKSATIYNPVIYVFMNRQFRNCIMQLF---GK-KVDDGSELS-------------------------------------------------------------------------------------------------------------SASKTE-VS-----------------------------SVS------------NSSVSPA",
         "MTEHWGSAVFAAKHEEDTTRDSIFTYTNTNNTRGPFEGPNYHIAPRWVYNLSTLWMIFVFTASVFTNGLVLVATWKFKKLRHPLNWILVNLAIADLGETLLATTISICNQIFGYFILGHPMCVFEGFTVATCGIAGLWSLTVISWERWVVVCKPFGNVKFDSKWALGGIIFTWVWSAGWCAPPVFGWSRYWPHGLKTSCGPDVFSGNEDPGMVSYMVVLMITCCIIPLGIIVLCYIAVWLAIRSVAQQQKESESTQKAEKEVSRMVVVMIVAYCVCWGPYTFFVCFGTAYPGYAFHPLAAAMPAYFAKSATIYNPVIYVFMNRQFRNCIMQLFGKKVDDGSELSSASKTEVSSVSNSSVSPA",
         "362"
        ],
        [
         "27",
         "Lepisosteus oculatus",
         "tmt2",
         "CM001410.1-46108336-46135496",
         "MVVPRGALNF-S---------------------------TSDSPVILANTSSRAGLAPEPPTLSRAGHTVVAVFLGLIFVLGFLNNLLVLVIFAKFEAVRTPINLILLNISASDMLVCVFGTPFSFAASLRGRWLIGHQGCKWYGFANSLFGIVSLVSLSLLSYERYVTVLRSTK-ADVRDYRKAWLCIAGSWLYSLVWTLPPFLGWSSYGPEGPGTTCSVQWHLRS--LSNVSYVVCLFVFCLLLPLMLMVFCYSKILIAIRGVAKINL--T--------TAQRRENHILVMVVSMVSCYLLCWMPYGIMALIATFGRADLVTPTASIVPSILAKSSTVFNPIIYILMNNQVRYRTCPAVL-ALS------------------------------------------------------------------------------------------------------------------------------------------------------------EHIE------------RLCCPVF",
         "MVVPRGALNFSTSDSPVILANTSSRAGLAPEPPTLSRAGHTVVAVFLGLIFVLGFLNNLLVLVIFAKFEAVRTPINLILLNISASDMLVCVFGTPFSFAASLRGRWLIGHQGCKWYGFANSLFGIVSLVSLSLLSYERYVTVLRSTKADVRDYRKAWLCIAGSWLYSLVWTLPPFLGWSSYGPEGPGTTCSVQWHLRSLSNVSYVVCLFVFCLLLPLMLMVFCYSKILIAIRGVAKINLTTAQRRENHILVMVVSMVSCYLLCWMPYGIMALIATFGRADLVTPTASIVPSILAKSSTVFNPIIYILMNNQVRYRTCPAVLALSEHIERLCCPVF",
         "335"
        ],
        [
         "28",
         "Abramis brama",
         "lws",
         "CM040789.1-11491416-11493340",
         "MAEQWGDVMF-AAKG-DDTTRESMFT-------------Y-TNSN----NTKDPFEGPNYHIAPRWVYNLSTCWMLFVVVASTFTNGLVLVATAKFKKLRHPLNWILVNLAIADLAETLLASTISVTNQFFGYFILGHPMCVFEGYTVATCGIAGLWSLTVISWERWVVVCKPFG-NVKFDGKWASGGIIFCWVWSAFWCAPPIFGWSRYWPHGLKTSCGPDVFSGSEDPGVQSYMIVLMITCCFIPLAVIVLCYIAVYLAIHAVAQQQKDSE--------STQKAEKEVSRMVVVMIFAYCFCWGPYTFFACFAAANPGYAFHPLAAAMPAYFAKSATIYNPIIYVFMNRQFRVCIMQLF---GK-KVDDGSEV--------------------------------------------------------------------------------------------------------------STSKTE-V----------------------------------------------SSVAPA",
         "MAEQWGDVMFAAKGDDTTRESMFTYTNSNNTKDPFEGPNYHIAPRWVYNLSTCWMLFVVVASTFTNGLVLVATAKFKKLRHPLNWILVNLAIADLAETLLASTISVTNQFFGYFILGHPMCVFEGYTVATCGIAGLWSLTVISWERWVVVCKPFGNVKFDGKWASGGIIFCWVWSAFWCAPPIFGWSRYWPHGLKTSCGPDVFSGSEDPGVQSYMIVLMITCCFIPLAVIVLCYIAVYLAIHAVAQQQKDSESTQKAEKEVSRMVVVMIFAYCFCWGPYTFFACFAAANPGYAFHPLAAAMPAYFAKSATIYNPIIYVFMNRQFRVCIMQLFGKKVDDGSEVSTSKTEVSSVAPA",
         "355"
        ],
        [
         "29",
         "Abramis brama",
         "opn3",
         "CM040784.1-29320771-29332269",
         "MNSFNETS----------------------------------------------NE--NYYIFADETYQLLTFTIGSIGVLGFCNNIIVIILYCRFKRLRTPTNLLIVNISVSDLLVSLTGVNFTFVSCVKRGWVFNSATCVWDGFSNSLFGIVSIMTLSGLAYERYIRVVHAKV----VDFPWAWRAITHIWLYSLAWTGAPLLGWNRYTLEVHQLGCSLDWASKD--PNDASFILFFLLGCFFVPVGVMAYCYGNILYTVKMLRSIQDQTI--------KILRYEKKVAVMFLMMISCFLVCWTPYAVVSMLEAFGRKSIVSPTVAIIPSLFAKSSTAYNPVIYAFMSRKFRRCMLQMLC-SRL-ASLPHTIKDR-----------PLA-----------RIEH--------PV-R------------PIVMSHR-----------------ADR-----PKKRVTFNSSSIVFIIASNDTRDITTKYE--P-----------------------------DIN------------AIQVRPL",
         "MNSFNETSNENYYIFADETYQLLTFTIGSIGVLGFCNNIIVIILYCRFKRLRTPTNLLIVNISVSDLLVSLTGVNFTFVSCVKRGWVFNSATCVWDGFSNSLFGIVSIMTLSGLAYERYIRVVHAKVVDFPWAWRAITHIWLYSLAWTGAPLLGWNRYTLEVHQLGCSLDWASKDPNDASFILFFLLGCFFVPVGVMAYCYGNILYTVKMLRSIQDQTIKILRYEKKVAVMFLMMISCFLVCWTPYAVVSMLEAFGRKSIVSPTVAIIPSLFAKSSTAYNPVIYAFMSRKFRRCMLQMLCSRLASLPHTIKDRPLARIEHPVRPIVMSHRADRPKKRVTFNSSSIVFIIASNDTRDITTKYEPDINAIQVRPL",
         "373"
        ],
        [
         "30",
         "Abramis brama",
         "opn4m1_3",
         "CM040784.1-23092076-23108207",
         "VSSVRKGISC-PTQDPNCTRIVESLSSWNNSVMSAYRLVPTTTRV--AMVEEYPF--P-TVDVPDHAHYTIGAVILAVGITGMLGNFLVIYAFSRSRTLRTPANLFIINLALTDFLMCVTQAPIFFTTSMHKRWIFGEKGCELYAFCGALFGICSMITLMVIAVDRYFVITRPLASIGVLSQKRAVLILLVAWAYSLGWSLPPFFGWSAYVPEGLLTSCTWDYMTFT--PSVRAYTMLLFTFVFFIPLIVIIYCYFFIFRSIRSTNEAVGKINGDNKRKRFQRLKNEWKMAKIALIVILMYVISWSPYSTVALTAFAGYADMLTPYMNSVPAVIAKASAIHNPIIYAITHPKYRLAIAKYIP-CLRVLLCVPKRDLHPHSSFMS-TRRSTVTSQSSDMSGPFRRNGKSRLSSASDS-ESGWTD-------TE---ADLSSLSSRPASRQVSCDISKDTAPDFKPKSKLKSHDSGIFEKSSSDVD-DVSVVG-L------------------------------VQP---------DHTFPLLDNP",
         "VSSVRKGISCPTQDPNCTRIVESLSSWNNSVMSAYRLVPTTTRVAMVEEYPFPTVDVPDHAHYTIGAVILAVGITGMLGNFLVIYAFSRSRTLRTPANLFIINLALTDFLMCVTQAPIFFTTSMHKRWIFGEKGCELYAFCGALFGICSMITLMVIAVDRYFVITRPLASIGVLSQKRAVLILLVAWAYSLGWSLPPFFGWSAYVPEGLLTSCTWDYMTFTPSVRAYTMLLFTFVFFIPLIVIIYCYFFIFRSIRSTNEAVGKINGDNKRKRFQRLKNEWKMAKIALIVILMYVISWSPYSTVALTAFAGYADMLTPYMNSVPAVIAKASAIHNPIIYAITHPKYRLAIAKYIPCLRVLLCVPKRDLHPHSSFMSTRRSTVTSQSSDMSGPFRRNGKSRLSSASDSESGWTDTEADLSSLSSRPASRQVSCDISKDTAPDFKPKSKLKSHDSGIFEKSSSDVDDVSVVGLVQPDHTFPLLDNP",
         "483"
        ],
        [
         "31",
         "Abramis brama",
         "opn4m1_3",
         "CM040786.1-19887437-19900505",
         "-----------------------HLLAFF--------FFSHC-QV--AMVQDYLF--P-TVDVPDHAHYTIGSVILAVGITGMVGNFLVMYAFCKSRSLRTPANMFIINLAVADFLMCVTQTPIFFTTSLHKRWIFGEKGCKLYAFCGALFGICSMMTLMVIAVDRYFVITRPLASIGVMSRKRALLILSAAWLYSMGWSLPPFFGWSAYVPEGLLTSCSWDYMTFT--PSVRAYTMLLFTFVFFIPLFVIMYCYFFIFRAIRDTNRAVGKINGEGLRKKIHRLKNEWKMAKIALIVILLYVISWSPYSCVALTAFAGYADMLTPYMNSVPAVIAKASAIHNPIIYAITHPKYRSAIAKYIP-CLGVLLCVPHRDRFTSSSFMS-TRRSTLTSQTSETSTNMNRAGKARLSSVSDS-ESGWTD-------TE---ADLSGVTSRPASRQVSSDIRK---SDIK-RLKVKSRDSGIFDRTSADQE-EISMAE-G------------------------------SLSS--CL----SSS---ID--",
         "HLLAFFFFSHCQVAMVQDYLFPTVDVPDHAHYTIGSVILAVGITGMVGNFLVMYAFCKSRSLRTPANMFIINLAVADFLMCVTQTPIFFTTSLHKRWIFGEKGCKLYAFCGALFGICSMMTLMVIAVDRYFVITRPLASIGVMSRKRALLILSAAWLYSMGWSLPPFFGWSAYVPEGLLTSCSWDYMTFTPSVRAYTMLLFTFVFFIPLFVIMYCYFFIFRAIRDTNRAVGKINGEGLRKKIHRLKNEWKMAKIALIVILLYVISWSPYSCVALTAFAGYADMLTPYMNSVPAVIAKASAIHNPIIYAITHPKYRSAIAKYIPCLGVLLCVPHRDRFTSSSFMSTRRSTLTSQTSETSTNMNRAGKARLSSVSDSESGWTDTEADLSGVTSRPASRQVSSDIRKSDIKRLKVKSRDSGIFDRTSADQEEISMAEGSLSSCLSSSID",
         "446"
        ],
        [
         "32",
         "Abramis brama",
         "opn4m2",
         "CM040771.1-29120817-29122316",
         "WRG-H--HCA-PG---------------NCTGF-SYKLLF-GPHS--H--HEHPF--P-TVDVPDHAHYIIGAVILIVGITGVIGNALVIYVFCRSRTLRTAGNMFVVNLAVADFFMSLTQSPVFFAASLHRRWIFGERICELYAFCGALFGICSMMTLTAIAADRCLAITQPLALVDNVSRRKAGAVLAVVWLYSLGWSLPPFFGWSAYVPEGLQTSCSWDYMTFT--PSVRAYTILLFIFVFFIPLGIIVSCYFGIFQAIRAMGKEIRELDGE---KVYERMQNEWKMAKIALLVILLFVISWSPYSVVALTATAGYSHLLTPYMNSVPAVIAKASAIHNPIIYAITHPKYRAAIARHIP-VLRTILRVKEKELRSSGS-VS-SRRPTLSSQCSLARAN-GR-GKKRLSSASDS-DS-WTE-------SE---ADGSSVSSLTFGRRVSTEISTDT-LSPGSAS-------G--QKSEK--H-KVSV---V---------------------------------P--------STDAA-----",
         "WRGHHCAPGNCTGFSYKLLFGPHSHHEHPFPTVDVPDHAHYIIGAVILIVGITGVIGNALVIYVFCRSRTLRTAGNMFVVNLAVADFFMSLTQSPVFFAASLHRRWIFGERICELYAFCGALFGICSMMTLTAIAADRCLAITQPLALVDNVSRRKAGAVLAVVWLYSLGWSLPPFFGWSAYVPEGLQTSCSWDYMTFTPSVRAYTILLFIFVFFIPLGIIVSCYFGIFQAIRAMGKEIRELDGEKVYERMQNEWKMAKIALLVILLFVISWSPYSVVALTATAGYSHLLTPYMNSVPAVIAKASAIHNPIIYAITHPKYRAAIARHIPVLRTILRVKEKELRSSGSVSSRRPTLSSQCSLARANGRGKKRLSSASDSDSWTESEADGSSVSSLTFGRRVSTEISTDTLSPGSASGQKSEKHKVSVVPSTDAA",
         "433"
        ],
        [
         "33",
         "Abramis brama",
         "opn4x",
         "CM040770.1-5325958-5335376",
         "MEPQRLIY--------------------------------------------------KRLDIPDHVHYIIAFLILIIGTLGVTGNALVMFAFYSNKKLRSLPNYFIMNLAVSDFLMAITQSPMFFFNCLYKEWMFGELGCKIYAFCGALFGITSMINLLAISVDRYLVITKPLQ-AIQWSKRRTSLAILCIWLYSLAWSLAPLIGWSSYIPEGLMTSCTWDYVSPS--PANRSYTMMLCCFVFFIPLAIILFCYLFMFLAVRQACRDLERLSSR--KFVKQSMRSEWKLAKIAAVVIVVFVLSWAPYACITLIAWAGHANILTPYSKTLPAVIAKSSAIYNPFIYAIVHTKYRATLAAKVP-GLSCLSRSQK-DCLSSTNSEA-S----SVSRQSSVSRN----KLYTTT--------VMGE-------VE---LDLMENRS-----RGFSR------------KRILKCSSLLIEE-RSMTSLQFNPKN-D-----------------------------SSDT-PVIISPASE-LTNINCQT",
         "MEPQRLIYKRLDIPDHVHYIIAFLILIIGTLGVTGNALVMFAFYSNKKLRSLPNYFIMNLAVSDFLMAITQSPMFFFNCLYKEWMFGELGCKIYAFCGALFGITSMINLLAISVDRYLVITKPLQAIQWSKRRTSLAILCIWLYSLAWSLAPLIGWSSYIPEGLMTSCTWDYVSPSPANRSYTMMLCCFVFFIPLAIILFCYLFMFLAVRQACRDLERLSSRKFVKQSMRSEWKLAKIAAVVIVVFVLSWAPYACITLIAWAGHANILTPYSKTLPAVIAKSSAIYNPFIYAIVHTKYRATLAAKVPGLSCLSRSQKDCLSSTNSEASSVSRQSSVSRNKLYTTTVMGEVELDLMENRSRGFSRKRILKCSSLLIEERSMTSLQFNPKNDSSDTPVIISPASELTNINCQT",
         "411"
        ],
        [
         "34",
         "Abramis brama",
         "opn4x",
         "CM040790.1-23835419-23855477",
         "VN--RGFF--------------------------------------------------RKVDVPDHAHYIVAFFVAIIGAVGVIGNMLVMYAFFSNKKLRTPPNYFIMNLAVSDFLMAITQSPIFFVNCMYKEWVFGEMGCKMYAFCGALFGITSMINLLAISIDRYVVITKPLQ-AIGWSGRRTLIIILLVWIYSLAWSLAPLLGWSSYIPEGLMTSCTWDYVTST--PANKSYTLMLCCFVFFLPLGIISYCYFFMFLAIRNASRDLEKMGSHVRKLIQQSIKTEWKLAKIAFVVIIVFVLSWSPYACVTLIAWAGYSHVLSPYSKAVPAVIAKASAIYNPFIYAIIHSKYRDTLAEKVP-CLHFLAQSSRKDGISVSNSES-SFREPMLSRQSSGSKA----KFQRISSMSTS-DTVWSD-------VE---LDPVEQKS-----QILRSLLRDEGK-P-QHGK-TKNQ--GEEEVHT-----EE-K---E--------------------C-N--------P-Q-IISPE----LDLNC-S",
         "VNRGFFRKVDVPDHAHYIVAFFVAIIGAVGVIGNMLVMYAFFSNKKLRTPPNYFIMNLAVSDFLMAITQSPIFFVNCMYKEWVFGEMGCKMYAFCGALFGITSMINLLAISIDRYVVITKPLQAIGWSGRRTLIIILLVWIYSLAWSLAPLLGWSSYIPEGLMTSCTWDYVTSTPANKSYTLMLCCFVFFLPLGIISYCYFFMFLAIRNASRDLEKMGSHVRKLIQQSIKTEWKLAKIAFVVIIVFVLSWSPYACVTLIAWAGYSHVLSPYSKAVPAVIAKASAIYNPFIYAIIHSKYRDTLAEKVPCLHFLAQSSRKDGISVSNSESSFREPMLSRQSSGSKAKFQRISSMSTSDTVWSDVELDPVEQKSQILRSLLRDEGKPQHGKTKNQGEEEVHTEEKECNPQIISPELDLNCS",
         "418"
        ],
        [
         "35",
         "Abramis brama",
         "opn5",
         "CM040783.1-24974942-24983593",
         "KALMENDTSIPVP--------------------------HYL-------LRGDPF----ASKLSKEADIVAAFYILIIGILSATGNGYVIYQTAKRKSKLKPPEFMTLNLAIFDFGISVTGKPFFIVSSFSHRWLFGWQGCRFYGWAGFFFGCGSLITMTIVSLDRYLKICHLRY-GTWFKRHHAFLCLVFTWFYAAFWATMPVVGWGNYAPEPFGTSCTLDWWLAQASVSGQSFVMCMLFFCLILPTGVIVFSYVMIIFKVKASAKEVSHFNTQNK----NKHNLEMKLTKVAMLICAGFLIAWIPYAVVSVVSAFGDPDSVPIPVSVVPTLLAKSSAMYNPIIYQVIDCKKN---------CFQ-TWSKRKQYKT-------------------------S--RV-------FS--------------F-----------------------------------------------------YSISASL-KK-----------------------------RPA------------KEVPTEI",
         "KALMENDTSIPVPHYLLRGDPFASKLSKEADIVAAFYILIIGILSATGNGYVIYQTAKRKSKLKPPEFMTLNLAIFDFGISVTGKPFFIVSSFSHRWLFGWQGCRFYGWAGFFFGCGSLITMTIVSLDRYLKICHLRYGTWFKRHHAFLCLVFTWFYAAFWATMPVVGWGNYAPEPFGTSCTLDWWLAQASVSGQSFVMCMLFFCLILPTGVIVFSYVMIIFKVKASAKEVSHFNTQNKNKHNLEMKLTKVAMLICAGFLIAWIPYAVVSVVSAFGDPDSVPIPVSVVPTLLAKSSAMYNPIIYQVIDCKKNCFQTWSKRKQYKTSRVFSFYSISASLKKRPAKEVPTEI",
         "350"
        ],
        [
         "36",
         "Abramis brama",
         "opn6",
         "CM040785.1-12418264-12421727",
         "------DI-H-----------------------------VLNVT------V---Y---R---VSNGGETTIGVYLVILG-LSWIGNGVVILLLTKQRKSLEPQDILTLNLAISDASIAIFGYSRGILEVFDGYLIKTFWTCKVDGFLILLFGLVSINTLTAISVIRYIKGCHPQH-AHQVNKCNICLVITAVWLFSLFWAGAPLLGWGSYRARGYG-TCEIDWTRALYSVPFKLYVISIFFFNFFVPLFIIVFTYVSIIRTVNSSHKFSRGGDVSE-----RQKKIERSITRVSLIVCAAFLLAWSPYAVISMWSAWG--YQVPPLNGILASLFAKSASFYNPFIYIGMSSKFRKDLQALFY-CLR-PTSAHRHTP----------PVPL--PGDVQLREDEPVE----MD---------TAE-------SP---PQSER------QRSPLTES-------------------------------HSVSPY-RL-----------------------------MRK------------PSDSGRL",
         "DIHVLNVTVYRVSNGGETTIGVYLVILGLSWIGNGVVILLLTKQRKSLEPQDILTLNLAISDASIAIFGYSRGILEVFDGYLIKTFWTCKVDGFLILLFGLVSINTLTAISVIRYIKGCHPQHAHQVNKCNICLVITAVWLFSLFWAGAPLLGWGSYRARGYGTCEIDWTRALYSVPFKLYVISIFFFNFFVPLFIIVFTYVSIIRTVNSSHKFSRGGDVSERQKKIERSITRVSLIVCAAFLLAWSPYAVISMWSAWGYQVPPLNGILASLFAKSASFYNPFIYIGMSSKFRKDLQALFYCLRPTSAHRHTPPVPLPGDVQLREDEPVEMDTAESPPQSERQRSPLTESHSVSPYRLMRKPSDSGRL",
         "368"
        ],
        [
         "37",
         "Abramis brama",
         "opn6",
         "CM040789.1-683495-692615",
         "MSVQNPLQVLNIP--------------------------W--RNN----NFSLMN---RDPPLSDQGETIIGVYLLILGWLSWFGNSIVIFILFKQRSLLQPTDYLTLNLAISDASISVFGYSRGILEIFNNGYITSVWTCQVDGFFTLVFGLGSINTLTVISITRYIKGCHPSK-AHCITNTTVIVCVIFIWIGALFWSGAPILGWGSYTDRGYG-TCEIDWVKANYSTIHKSYIISILIFSFFVPVLIMLFSYVSIINTVKRGNAMSAEGDLTD-----RQRKIERDVTIVSIVICTAFILAWSPYAVVSMWSAWGF--HVPNLTSIFTRLFAKSASFYNPLIYFGLSSKFRKDVSVLLP-CRG-DGKDTVKLKR-FK---K--IKGKA-----------DG-------------A------------P------------RQSERE--------------P----------------------PAPSP-DS-----------------------------GVGSQVYSINPSDTPEYECVRL",
         "MSVQNPLQVLNIPWRNNNFSLMNRDPPLSDQGETIIGVYLLILGWLSWFGNSIVIFILFKQRSLLQPTDYLTLNLAISDASISVFGYSRGILEIFNNGYITSVWTCQVDGFFTLVFGLGSINTLTVISITRYIKGCHPSKAHCITNTTVIVCVIFIWIGALFWSGAPILGWGSYTDRGYGTCEIDWVKANYSTIHKSYIISILIFSFFVPVLIMLFSYVSIINTVKRGNAMSAEGDLTDRQRKIERDVTIVSIVICTAFILAWSPYAVVSMWSAWGFHVPNLTSIFTRLFAKSASFYNPLIYFGLSSKFRKDVSVLLPCRGDGKDTVKLKRFKKIKGKADGAPRQSEREPPAPSPDSGVGSQVYSINPSDTPEYECVRL",
         "379"
        ],
        [
         "38",
         "Abramis brama",
         "opn7a",
         "CM040783.1-13885118-13900255",
         "MRG-LDNS---------------------------------------------SF----QSNIPVAADITVGVVYSLFGVCSLCGNSMLLYVSYKKKHLLKPAEFFIINLAISDLGMTLSLYPLAVTSSFAHRWLYGRTVCVIYAFCGVLFGICSLTTLTILSTVCCLKVCYPLH-GNRFSYEHGRVLIVCAWAYALVFACSPLAHWGQYGPEPYGTACCIDWSWSNDDSVASSYTIVLFIACYLLPCGIIIVSYTRILLTVRESRRAVEQHVSVQT----RMGNIQAIIVKLSVAVCIGFFAAWSPYALVSMWAAFGRFEDIPPLAFAIPAVFAKSSTLYNPLIYLLLKPNFRHLLCKD---MRS-LRGVCVHHC-LCQCFP----RPSL--------ALSLRPLRRRGQSISDS-TGPVGPYHCPCERVNTVQLSDS--TEPE-EVKPKSQSMCKKSVRVIVRGR-----------KCSEI-DSLEITL--E-----------------------------TVP-----------AHCNAAKN",
         "MRGLDNSSFQSNIPVAADITVGVVYSLFGVCSLCGNSMLLYVSYKKKHLLKPAEFFIINLAISDLGMTLSLYPLAVTSSFAHRWLYGRTVCVIYAFCGVLFGICSLTTLTILSTVCCLKVCYPLHGNRFSYEHGRVLIVCAWAYALVFACSPLAHWGQYGPEPYGTACCIDWSWSNDDSVASSYTIVLFIACYLLPCGIIIVSYTRILLTVRESRRAVEQHVSVQTRMGNIQAIIVKLSVAVCIGFFAAWSPYALVSMWAAFGRFEDIPPLAFAIPAVFAKSSTLYNPLIYLLLKPNFRHLLCKDMRSLRGVCVHHCLCQCFPRPSLALSLRPLRRRGQSISDSTGPVGPYHCPCERVNTVQLSDSTEPEEVKPKSQSMCKKSVRVIVRGRKCSEIDSLEITLETVPAHCNAAKN",
         "415"
        ],
        [
         "39",
         "Abramis brama",
         "opn7b",
         "CM040780.1-14387600-14394311",
         "MGNVSETA---------------------------------------------LF----VSTISRQHDVLMATFYTVFCVLSLVGNGMLLFVAYRKRSSLKPAEFFVVNLSVSDLGMTLSLFPLAIPSALAHRWLFGEVVCLCYAVCGVLFGLCSLTNLTALSSVCCLKVCCPNY-GNKFSSNHACVMVIGVWCYASVFAVGPLVRWGSFAPEPYGTACCINWYSPSRDALAMSYIISLFIFCYVVPCTIIILSYTFILLRVRGSRQAIQQHVSPKT----KVTNAHTLIVKLSVAVCIGFLTAWSPYAVVAMWAAFSANEQVPPIAFALAAILAKSSTIYNPMVYLLFKPNFRKILSQDTQNIRH-RMC--VSH---------SKATPKV-----------K--C-HKNATISTPFSSGQAESYGACHVY------------AAE-PHP--------------------------QRTVRVLE-GIVQSEPVR-----------------------------HLT-----------DRMQNNLL",
         "MGNVSETALFVSTISRQHDVLMATFYTVFCVLSLVGNGMLLFVAYRKRSSLKPAEFFVVNLSVSDLGMTLSLFPLAIPSALAHRWLFGEVVCLCYAVCGVLFGLCSLTNLTALSSVCCLKVCCPNYGNKFSSNHACVMVIGVWCYASVFAVGPLVRWGSFAPEPYGTACCINWYSPSRDALAMSYIISLFIFCYVVPCTIIILSYTFILLRVRGSRQAIQQHVSPKTKVTNAHTLIVKLSVAVCIGFLTAWSPYAVVAMWAAFSANEQVPPIAFALAAILAKSSTIYNPMVYLLFKPNFRKILSQDTQNIRHRMCVSHSKATPKVKCHKNATISTPFSSGQAESYGACHVYAAEPHPQRTVRVLEGIVQSEPVRHLTDRMQNNLL",
         "385"
        ],
        [
         "40",
         "Abramis brama",
         "opn7b",
         "CM040780.1-29357482-29383411",
         "MGNTSETS---------------------------------------------PF----VSTIPKEHDVFMGSVYTTFCILSLLGNGILLLVAYRKRSSLKPAEFFIINLSISDLGMTVTLFPLAIPSAFAHKWLFGELTCLCYAVCGVLFGLSSLTNLTALSSVCCLKVCFPNY-GNKFSFSHAWLMIVGVWCYAMVFAIGPLANWGQYGPEPYGTACCIDWYAPSQDALSMSYIICLFLFCYALPLTIILLSYILILITVQGSRQAVQQHVSPQT----KTTNAHILIVKLSVAVCIGFLIAWSPYAVVAMWAAFGEYNNVPPVAFALAAIFAKSSTIYNPVVYLVFKPNFRKSLSMDTAQIRR-RIC--SSP---------CKGVPGL-----------NDRC-NKDASNSTRLSNGLADSHGACLHC------------T-D-PRP--------------------------QRTACVLI-GTSYSETVS-----------------------------QMP-----------EKMQADLL",
         "MGNTSETSPFVSTIPKEHDVFMGSVYTTFCILSLLGNGILLLVAYRKRSSLKPAEFFIINLSISDLGMTVTLFPLAIPSAFAHKWLFGELTCLCYAVCGVLFGLSSLTNLTALSSVCCLKVCFPNYGNKFSFSHAWLMIVGVWCYAMVFAIGPLANWGQYGPEPYGTACCIDWYAPSQDALSMSYIICLFLFCYALPLTIILLSYILILITVQGSRQAVQQHVSPQTKTTNAHILIVKLSVAVCIGFLIAWSPYAVVAMWAAFGEYNNVPPVAFALAAIFAKSSTIYNPVVYLVFKPNFRKSLSMDTAQIRRRICSSPCKGVPGLNDRCNKDASNSTRLSNGLADSHGACLHCTDPRPQRTACVLIGTSYSETVSQMPEKMQADLL",
         "386"
        ],
        [
         "41",
         "Abramis brama",
         "opn7b",
         "CM040782.1-4364428-4415282",
         "MENSSETN---------------------------------------------LF----MSKISKENDLLLGIIYTIFGVLSLMGNTTLLFVAYRKKSSLKPAEFFIINLSISDLGMTISLFPFAIPSSFAHRWLFTEVMCMCYAFCGVLFGLCSLSNLTVLSCVCWLKVCCPNY-GNKFSSSHARLLLVGVWCYAAVFAVGPLSGWGQYGSEPYGTACCIDWHAPSYSTPAMIYIICLFFFCYIVPCTVIILSYTLILVTVRGAQHAVQQHVSPQN----KISNVQTLIVKLSVAVCIGFLMAWSPYAVVSMWAAFGDPDLVPPVAFALAAMFAKSSTLYNPMVYLVFKPSFRKSLCRDATKCKR-TLC--PGM---------CQTDNQQ-----------KGSKLTKNKCNHTWVSNGLNESHQTCRHC------------PQT-GHP--------------------------QRTARILI-GSAHSEAVS-----------------------------QLS-----------NEINSDFV",
         "MENSSETNLFMSKISKENDLLLGIIYTIFGVLSLMGNTTLLFVAYRKKSSLKPAEFFIINLSISDLGMTISLFPFAIPSSFAHRWLFTEVMCMCYAFCGVLFGLCSLSNLTVLSCVCWLKVCCPNYGNKFSSSHARLLLVGVWCYAAVFAVGPLSGWGQYGSEPYGTACCIDWHAPSYSTPAMIYIICLFFFCYIVPCTVIILSYTLILVTVRGAQHAVQQHVSPQNKISNVQTLIVKLSVAVCIGFLMAWSPYAVVSMWAAFGDPDLVPPVAFALAAMFAKSSTLYNPMVYLVFKPSFRKSLCRDATKCKRTLCPGMCQTDNQQKGSKLTKNKCNHTWVSNGLNESHQTCRHCPQTGHPQRTARILIGSAHSEAVSQLSNEINSDFV",
         "388"
        ],
        [
         "42",
         "Abramis brama",
         "opn8a",
         "CM040783.1-29474354-29488359",
         "-----MD----------------------------------------------RY----TSKLSPAVDYGAGTYLLVVAFLSILGNAAVLVAAAWRHSVLKAPELLTVNLAVTDIGMALSMYPLSIASAFNHAWIGGDPSCLYYGLMGMIFSVASIVTLAVMGLVRYLVTGNPPKSGSKFRRKTISIWIGVIWLYSLLWAVFPLLGWGGYGPEPYGLACSVDWAEYQHSLNGSSFIMSLAILCTLIPCGVILFSYAGIAWKLHKAYQSIQSNDTLP-----NSGAVERKVTLMGILISAGFIVSWTPYVFISLWTMFHSEDSMAPIVSLLPCLFAKCSTAYNPFVYYVFRKSFRRELRQIRCYC-W-------D-AVSKM--------------------------------------------------T---RGE------------------------------------------------R-SE-ENSG-----------------------------AQK--------------TGEE-",
         "MDRYTSKLSPAVDYGAGTYLLVVAFLSILGNAAVLVAAAWRHSVLKAPELLTVNLAVTDIGMALSMYPLSIASAFNHAWIGGDPSCLYYGLMGMIFSVASIVTLAVMGLVRYLVTGNPPKSGSKFRRKTISIWIGVIWLYSLLWAVFPLLGWGGYGPEPYGLACSVDWAEYQHSLNGSSFIMSLAILCTLIPCGVILFSYAGIAWKLHKAYQSIQSNDTLPNSGAVERKVTLMGILISAGFIVSWTPYVFISLWTMFHSEDSMAPIVSLLPCLFAKCSTAYNPFVYYVFRKSFRRELRQIRCYCWDAVSKMTRGERSEENSGAQKTGEE",
         "329"
        ],
        [
         "43",
         "Abramis brama",
         "opn8b",
         "CM040783.1-29499050-29513697",
         "-----MDI----------------------------------------------Y----SSKLSPAVDYGIGAFLLLIAILSIVGNLMVLVMAYKRSNHIKPPELLSVNLAVTDLGAAVTMYPLAVASAWNHHWIGGDVTCVYYGLMGFFFGAASMSTLTIMAIVRFIVSLTLQSPKEKISKRSAKILVATIWLYALLWALFPLIGWGKYGPESFGLSCTLAW-RDMK-EQSQSFVITIFLMNLILPAIIIMSCYSGIALKLYVTYKSMDDSNHIP-----NMIKMQRRLMVIAVLISIGFVSCWTPYGIISLWSVYR--DSIPPEVSMLPCLFAKTSTIYNPFIYYVFSKNFKREVNQLSCGC-----------RPSDD----------------------------------------------------KIDP------------------------------------------------------DN-L-----------------------------VP---------------TKSAV",
         "MDIYSSKLSPAVDYGIGAFLLLIAILSIVGNLMVLVMAYKRSNHIKPPELLSVNLAVTDLGAAVTMYPLAVASAWNHHWIGGDVTCVYYGLMGFFFGAASMSTLTIMAIVRFIVSLTLQSPKEKISKRSAKILVATIWLYALLWALFPLIGWGKYGPESFGLSCTLAWRDMKEQSQSFVITIFLMNLILPAIIIMSCYSGIALKLYVTYKSMDDSNHIPNMIKMQRRLMVIAVLISIGFVSCWTPYGIISLWSVYRDSIPPEVSMLPCLFAKTSTIYNPFIYYVFSKNFKREVNQLSCGCRPSDDKIDPDNLVPTKSAV",
         "319"
        ],
        [
         "44",
         "Abramis brama",
         "opn8c",
         "CM040783.1-18486686-18495816",
         "MSSNST-EER-R---------------GNSN-LESFISKLSPA-----------------------ADIVVGLVIMSIVILSVLGNGLVLVICFRRRRKIVGSELLCVNLAVVDFLCCICFYPLSILSSFSHVWLGSHATCVYYGLGCFIFGLCGMFTIAAISVIRYIKTC-----YATWLEANIHLVCVATWIIAAVWSSFPLFGWGEYVPEPYGISCTVAWRHYHTSMTDAVYVICSFACFVLVPVLLIVMSQCKILLKIYRFSRTLSTKGIHI-----NLRRAEKHMSVRYPALSVAMVLNW----LIS----------MARESIILSC-------------------------RGCLC----------------------------------------E----------------------------------------------------------------------------------------------------------------------------------------FIKI-S",
         "MSSNSTEERRGNSNLESFISKLSPAADIVVGLVIMSIVILSVLGNGLVLVICFRRRRKIVGSELLCVNLAVVDFLCCICFYPLSILSSFSHVWLGSHATCVYYGLGCFIFGLCGMFTIAAISVIRYIKTCYATWLEANIHLVCVATWIIAAVWSSFPLFGWGEYVPEPYGISCTVAWRHYHTSMTDAVYVICSFACFVLVPVLLIVMSQCKILLKIYRFSRTLSTKGIHINLRRAEKHMSVRYPALSVAMVLNWLISMARESIILSCRGCLCEFIKIS",
         "278"
        ],
        [
         "45",
         "Abramis brama",
         "opn9",
         "CM040781.1-24010807-24018195",
         "MSERVNGSWMGVP---------------------------------------HAF----RSQLSSSADLSIAIFLIITGVVSVVGNGLVLVVYGQRRKKLRAHELMTINLAVCDFGYSLLGAPCLITSSLSHAWIFGETGCMWYGFQGFVFGIGSLLTTCLISLDRCFKICSFRY-GQWIERRHASQSVALVWIYTLFWALLPAFGFGSYGPEPFGTSCTINWWRMKSSLNDRVYIYLILSLCFGVPTITIIVSYLAIFIRVYRSGRLLASIPSSNV----THNSKDIRLTKIAAVVFSSFLIAWTPYAIVSLYSALGLVSILKPEVTLLPALFAKSHCMINPFIYQIMNRDFREDVYDLMC-LRG-KNGERR-RGR-------------------------S--T---------------------------------------------------------------------------------DGSR-ST-----------------------------PTS------------QPSGER-",
         "MSERVNGSWMGVPHAFRSQLSSSADLSIAIFLIITGVVSVVGNGLVLVVYGQRRKKLRAHELMTINLAVCDFGYSLLGAPCLITSSLSHAWIFGETGCMWYGFQGFVFGIGSLLTTCLISLDRCFKICSFRYGQWIERRHASQSVALVWIYTLFWALLPAFGFGSYGPEPFGTSCTINWWRMKSSLNDRVYIYLILSLCFGVPTITIIVSYLAIFIRVYRSGRLLASIPSSNVTHNSKDIRLTKIAAVVFSSFLIAWTPYAIVSLYSALGLVSILKPEVTLLPALFAKSHCMINPFIYQIMNRDFREDVYDLMCLRGKNGERRRGRSTDGSRSTPTSQPSGER",
         "343"
        ],
        [
         "46",
         "Abramis brama",
         "parapinopsin",
         "CM040780.1-36528844-36537715",
         "-----MGLTA-WE--------------------------SA-VPSSA-VNEG---------IMPRTGYTILAVIMGVFSVCGIVLNVTVVVVTLRHRQLRQPLNFALVNLALADLGCAVFGGLPTTLTNAMGYFSLGRLGCVLEGFAVAFFGIAGLCSVAIISLERCLVVCRPVG-SLSFSTRHAVAGVVAAWLWSFLWNTPPLFGWGAYELEGVRTSCAPDWYSRN--WANVSYIICYFLLCFALPFSVIIVSYTRLLWTLRQVSRLESEGG--------STSRAETQVACMVVVMVMAFLLTWLPYAALALSVIADPDLYIDPVIATVPMYLAKSSTVFNPIIYIFMNRQFRDRAVPFLL-CGR-NPWAGEPGD-------------------------------------------------------------------------------------------------------------SERETT-VS-----------------------------SVSR----------SS-KVSPG",
         "MGLTAWESAVPSSAVNEGIMPRTGYTILAVIMGVFSVCGIVLNVTVVVVTLRHRQLRQPLNFALVNLALADLGCAVFGGLPTTLTNAMGYFSLGRLGCVLEGFAVAFFGIAGLCSVAIISLERCLVVCRPVGSLSFSTRHAVAGVVAAWLWSFLWNTPPLFGWGAYELEGVRTSCAPDWYSRNWANVSYIICYFLLCFALPFSVIIVSYTRLLWTLRQVSRLESEGGSTSRAETQVACMVVVMVMAFLLTWLPYAALALSVIADPDLYIDPVIATVPMYLAKSSTVFNPIIYIFMNRQFRDRAVPFLLCGRNPWAGEPGDSERETTVSSVSRSSKVSPG",
         "339"
        ],
        [
         "47",
         "Abramis brama",
         "parapinopsin",
         "CM040789.1-5442631-5447081",
         "MDSF---PEF-LN--------------------------GSSI-HG--SGAK---------PLPWAGFITLSLLMAVFSITSVVLNATVIVVTLRHKQLRQPLNFALVNLSVADLGITLTGSVPYVVSNAVGYHIMGRVGCVLEGFCVALFGIAALCTVALIAVERLFVVCKPLG-TITFQSKHAAGGLALSWLWSLIWNTPPLFGWGSYQLEGVGTSCGPDWQSRD--FKNMSYIICYFSLCFAVPFVIIVVSYSWLLYTLRQVAKVG--GG--------AAARAEAKVARMVVMMVLAFLVSWLPYATLALTVIFNPDVQLPVLVKVVPIYMAKSSTVYNPMIYIYMNKQFQRYAIPLLM-CGK-VPWPSEDDA-------------------------------------------------------------------------------------------------------------SDVQTV-VS-----------------------------PLN------------N-KISPD",
         "MDSFPEFLNGSSIHGSGAKPLPWAGFITLSLLMAVFSITSVVLNATVIVVTLRHKQLRQPLNFALVNLSVADLGITLTGSVPYVVSNAVGYHIMGRVGCVLEGFCVALFGIAALCTVALIAVERLFVVCKPLGTITFQSKHAAGGLALSWLWSLIWNTPPLFGWGSYQLEGVGTSCGPDWQSRDFKNMSYIICYFSLCFAVPFVIIVVSYSWLLYTLRQVAKVGGGAAARAEAKVARMVVMMVLAFLVSWLPYATLALTVIFNPDVQLPVLVKVVPIYMAKSSTVYNPMIYIYMNKQFQRYAIPLLMCGKVPWPSEDDASDVQTVVSPLNNKISPD",
         "336"
        ],
        [
         "48",
         "Abramis brama",
         "parietopsin",
         "CM040787.1-18259936-18263306",
         "ME---------------------------------------SIT-----------D-P--TIFPRVGYSILSYLMFINTLLSVFNNLLVIAVMLKNMHFLNAMNVIILSLAVSDLMIATCGSAIVTITNYEGSFFLGHAFCVFQGFAVNYFGLVSLCTLTLLAYERYNIVCKPMA-GFKLNVCRSCQGLALVWLYCLFWAIAPLLGWSSYGPEGVQTSCSLGWEERS---TNYSYLIAYTLMCFILPTAVIIYCYSNVLVSMRKKSELQ--GK--------KCLEDNEHASRMVLAMIVAFFICWLPYTAISVVVVVNPEIYIPPLVATMPMYFAKTSPVYNPIIYFLTNKQFRESSLEILS-CGR-YP-DT---DGV-------------------------------------------MM----------------------------------------------------------------------S--------------------------------------------QSRVTPV",
         "MESITDPTIFPRVGYSILSYLMFINTLLSVFNNLLVIAVMLKNMHFLNAMNVIILSLAVSDLMIATCGSAIVTITNYEGSFFLGHAFCVFQGFAVNYFGLVSLCTLTLLAYERYNIVCKPMAGFKLNVCRSCQGLALVWLYCLFWAIAPLLGWSSYGPEGVQTSCSLGWEERSTNYSYLIAYTLMCFILPTAVIIYCYSNVLVSMRKKSELQGKKCLEDNEHASRMVLAMIVAFFICWLPYTAISVVVVVNPEIYIPPLVATMPMYFAKTSPVYNPIIYFLTNKQFRESSLEILSCGRYPDTDGVMMSQSRVTPV",
         "315"
        ],
        [
         "49",
         "Abramis brama",
         "rgr",
         "CM040784.1-19120723-19125654",
         "MVT-YP--------------------------------------------------------LPEGFSEFDVFSLLVEGLLGFFLNAVTVVAFLKIRELRTPSNFLVFSLAMADMGISMNAT-VAAFSSFLRYWPYGSDGCQSHGFQGFMTALASIHFIAAIAWDRYHQYCTRTK----LQWSSAITLVIFIWLFTAFWSAMPLIGWGEYDYEPLRTCCTLDYSKGD--RNYVSYLIPMSIFNMGIQMFVVLSSYQSIDRKFKKSGQAK----------------------FNCSTPLKTMLFCWGPYGILAFYAAVENATLVSPKLRMIAPILAKTSPTFNVFVYALGNENYRGGIWQLLT-GQK-I-----------------------------------------------------------------------------------------------------------------------------------------------------------ETI------------AIENKSK",
         "MVTYPLPEGFSEFDVFSLLVEGLLGFFLNAVTVVAFLKIRELRTPSNFLVFSLAMADMGISMNATVAAFSSFLRYWPYGSDGCQSHGFQGFMTALASIHFIAAIAWDRYHQYCTRTKLQWSSAITLVIFIWLFTAFWSAMPLIGWGEYDYEPLRTCCTLDYSKGDRNYVSYLIPMSIFNMGIQMFVVLSSYQSIDRKFKKSGQAKFNCSTPLKTMLFCWGPYGILAFYAAVENATLVSPKLRMIAPILAKTSPTFNVFVYALGNENYRGGIWQLLTGQKIETIAIENKSK",
         "290"
        ]
       ],
       "shape": {
        "columns": 6,
        "rows": 17341
       }
      },
      "text/html": [
       "<div>\n",
       "<style scoped>\n",
       "    .dataframe tbody tr th:only-of-type {\n",
       "        vertical-align: middle;\n",
       "    }\n",
       "\n",
       "    .dataframe tbody tr th {\n",
       "        vertical-align: top;\n",
       "    }\n",
       "\n",
       "    .dataframe thead th {\n",
       "        text-align: right;\n",
       "    }\n",
       "</style>\n",
       "<table border=\"1\" class=\"dataframe\">\n",
       "  <thead>\n",
       "    <tr style=\"text-align: right;\">\n",
       "      <th></th>\n",
       "      <th>species_name</th>\n",
       "      <th>opsin_type</th>\n",
       "      <th>accession</th>\n",
       "      <th>aln_sequence</th>\n",
       "      <th>sequence</th>\n",
       "      <th>seq_length</th>\n",
       "    </tr>\n",
       "  </thead>\n",
       "  <tbody>\n",
       "    <tr>\n",
       "      <th>0</th>\n",
       "      <td>Lepisosteus oculatus</td>\n",
       "      <td>va</td>\n",
       "      <td>CM001408.1-11749388-11761955</td>\n",
       "      <td>MDSFRVSVNG-VV--------------------------YTEAAE-...</td>\n",
       "      <td>MDSFRVSVNGVVYTEAAEILKPGDPFSGPIENIAPWNFKFLAALMF...</td>\n",
       "      <td>386</td>\n",
       "    </tr>\n",
       "    <tr>\n",
       "      <th>1</th>\n",
       "      <td>Lepisosteus oculatus</td>\n",
       "      <td>pinopsin</td>\n",
       "      <td>CM001425.1-1263197-1266918</td>\n",
       "      <td>MPILVNSSAA-FP--------------------------L--EKN-...</td>\n",
       "      <td>MPILVNSSAAFPLEKNSTPGPFDGPQWHQAPRSTYLMVAVLMGTVV...</td>\n",
       "      <td>357</td>\n",
       "    </tr>\n",
       "    <tr>\n",
       "      <th>2</th>\n",
       "      <td>Lepisosteus oculatus</td>\n",
       "      <td>sws1</td>\n",
       "      <td>CM001411.1-10398717-10404663</td>\n",
       "      <td>MAGTEE--FY-L---------------------------F----E-...</td>\n",
       "      <td>MAGTEEFYLFENISSVGPWDGPQYHIAPKWAFYFQTIFMGLVFFWG...</td>\n",
       "      <td>346</td>\n",
       "    </tr>\n",
       "    <tr>\n",
       "      <th>3</th>\n",
       "      <td>Lepisosteus oculatus</td>\n",
       "      <td>rrh</td>\n",
       "      <td>CM001407.1-48235198-48246929</td>\n",
       "      <td>MENFSRIPIT-KV--------------------------LDNETS-...</td>\n",
       "      <td>MENFSRIPITKVLDNETSNLSQAVDTSEHSVFSQTEHNIVAAYLIT...</td>\n",
       "      <td>343</td>\n",
       "    </tr>\n",
       "    <tr>\n",
       "      <th>4</th>\n",
       "      <td>Lepisosteus oculatus</td>\n",
       "      <td>opn5</td>\n",
       "      <td>CM001404.1-37427058-37472360</td>\n",
       "      <td>MAQTDNGTSHNVP--------------------------HYL----...</td>\n",
       "      <td>MAQTDNGTSHNVPHYLLSGDPFASKLSKEADFVAAFYICIVGIMST...</td>\n",
       "      <td>352</td>\n",
       "    </tr>\n",
       "    <tr>\n",
       "      <th>...</th>\n",
       "      <td>...</td>\n",
       "      <td>...</td>\n",
       "      <td>...</td>\n",
       "      <td>...</td>\n",
       "      <td>...</td>\n",
       "      <td>...</td>\n",
       "    </tr>\n",
       "    <tr>\n",
       "      <th>17336</th>\n",
       "      <td>Callorhinchus milii</td>\n",
       "      <td>pinopsin</td>\n",
       "      <td>XP007894735.2</td>\n",
       "      <td>----MDLPTT-SV--------------------------G--IEN-...</td>\n",
       "      <td>MDLPTTSVGIENGTVGAFDGPQWYFAPKSTYMAVATLMGTVVILAS...</td>\n",
       "      <td>352</td>\n",
       "    </tr>\n",
       "    <tr>\n",
       "      <th>17337</th>\n",
       "      <td>Carcharodon carcharias</td>\n",
       "      <td>pinopsin</td>\n",
       "      <td>XP041052689.1</td>\n",
       "      <td>----MGFSTG-SI--------------------------T--THN-...</td>\n",
       "      <td>MGFSTGSITTHNITIGAFHGPQWDVAPRSTYMAVAALMGNVVILAT...</td>\n",
       "      <td>352</td>\n",
       "    </tr>\n",
       "    <tr>\n",
       "      <th>17338</th>\n",
       "      <td>Callorhinchus milii</td>\n",
       "      <td>rgr</td>\n",
       "      <td>XM007898380.1</td>\n",
       "      <td>MVTSHP----------------------------------------...</td>\n",
       "      <td>MVTSHPGLEGFTDFEVFGLLVEALVGLLLNGLTLLAFYKIKELRTP...</td>\n",
       "      <td>291</td>\n",
       "    </tr>\n",
       "    <tr>\n",
       "      <th>17339</th>\n",
       "      <td>Rhincodon typus</td>\n",
       "      <td>rh1</td>\n",
       "      <td>A0A7T8R2L6</td>\n",
       "      <td>MNGTEGENFY-IP--------------------------MSNKTG-...</td>\n",
       "      <td>MNGTEGENFYIPMSNKTGVVRSPFEYPQYYLAEPWKFSLLAAYMFF...</td>\n",
       "      <td>353</td>\n",
       "    </tr>\n",
       "    <tr>\n",
       "      <th>17340</th>\n",
       "      <td>Callorhinchus milii</td>\n",
       "      <td>parapinopsin</td>\n",
       "      <td>V9KWA1</td>\n",
       "      <td>--------------------------------------------G-...</td>\n",
       "      <td>GPGLGPGWPSVRAPLSLVMAVISLSSIVLNSLAIAVVLRFQVLQQP...</td>\n",
       "      <td>312</td>\n",
       "    </tr>\n",
       "  </tbody>\n",
       "</table>\n",
       "<p>17341 rows × 6 columns</p>\n",
       "</div>"
      ],
      "text/plain": [
       "                 species_name    opsin_type                     accession  \\\n",
       "0        Lepisosteus oculatus            va  CM001408.1-11749388-11761955   \n",
       "1        Lepisosteus oculatus      pinopsin    CM001425.1-1263197-1266918   \n",
       "2        Lepisosteus oculatus          sws1  CM001411.1-10398717-10404663   \n",
       "3        Lepisosteus oculatus           rrh  CM001407.1-48235198-48246929   \n",
       "4        Lepisosteus oculatus          opn5  CM001404.1-37427058-37472360   \n",
       "...                       ...           ...                           ...   \n",
       "17336     Callorhinchus milii      pinopsin                 XP007894735.2   \n",
       "17337  Carcharodon carcharias      pinopsin                 XP041052689.1   \n",
       "17338     Callorhinchus milii           rgr                 XM007898380.1   \n",
       "17339         Rhincodon typus           rh1                    A0A7T8R2L6   \n",
       "17340     Callorhinchus milii  parapinopsin                        V9KWA1   \n",
       "\n",
       "                                            aln_sequence  \\\n",
       "0      MDSFRVSVNG-VV--------------------------YTEAAE-...   \n",
       "1      MPILVNSSAA-FP--------------------------L--EKN-...   \n",
       "2      MAGTEE--FY-L---------------------------F----E-...   \n",
       "3      MENFSRIPIT-KV--------------------------LDNETS-...   \n",
       "4      MAQTDNGTSHNVP--------------------------HYL----...   \n",
       "...                                                  ...   \n",
       "17336  ----MDLPTT-SV--------------------------G--IEN-...   \n",
       "17337  ----MGFSTG-SI--------------------------T--THN-...   \n",
       "17338  MVTSHP----------------------------------------...   \n",
       "17339  MNGTEGENFY-IP--------------------------MSNKTG-...   \n",
       "17340  --------------------------------------------G-...   \n",
       "\n",
       "                                                sequence  seq_length  \n",
       "0      MDSFRVSVNGVVYTEAAEILKPGDPFSGPIENIAPWNFKFLAALMF...         386  \n",
       "1      MPILVNSSAAFPLEKNSTPGPFDGPQWHQAPRSTYLMVAVLMGTVV...         357  \n",
       "2      MAGTEEFYLFENISSVGPWDGPQYHIAPKWAFYFQTIFMGLVFFWG...         346  \n",
       "3      MENFSRIPITKVLDNETSNLSQAVDTSEHSVFSQTEHNIVAAYLIT...         343  \n",
       "4      MAQTDNGTSHNVPHYLLSGDPFASKLSKEADFVAAFYICIVGIMST...         352  \n",
       "...                                                  ...         ...  \n",
       "17336  MDLPTTSVGIENGTVGAFDGPQWYFAPKSTYMAVATLMGTVVILAS...         352  \n",
       "17337  MGFSTGSITTHNITIGAFHGPQWDVAPRSTYMAVAALMGNVVILAT...         352  \n",
       "17338  MVTSHPGLEGFTDFEVFGLLVEALVGLLLNGLTLLAFYKIKELRTP...         291  \n",
       "17339  MNGTEGENFYIPMSNKTGVVRSPFEYPQYYLAEPWKFSLLAAYMFF...         353  \n",
       "17340  GPGLGPGWPSVRAPLSLVMAVISLSSIVLNSLAIAVVLRFQVLQQP...         312  \n",
       "\n",
       "[17341 rows x 6 columns]"
      ]
     },
     "execution_count": 42,
     "metadata": {},
     "output_type": "execute_result"
    }
   ],
   "source": [
    "ray_finned_df"
   ]
  },
  {
   "cell_type": "code",
   "execution_count": 43,
   "metadata": {},
   "outputs": [],
   "source": [
    "ray_finned_df.to_csv(f'{report_dir2}/ray_finned_fish/mined_alignments/extracted_fish_ops.csv')"
   ]
  },
  {
   "cell_type": "code",
   "execution_count": 44,
   "metadata": {},
   "outputs": [
    {
     "data": {
      "text/plain": [
       "(2494, 6)"
      ]
     },
     "execution_count": 44,
     "metadata": {},
     "output_type": "execute_result"
    }
   ],
   "source": [
    "ray_finned_df_filtered = ray_finned_df[ray_finned_df['species_name'].isin(species_list)].reset_index(drop=True)\n",
    "ray_finned_df_filtered.shape"
   ]
  },
  {
   "cell_type": "code",
   "execution_count": 45,
   "metadata": {},
   "outputs": [
    {
     "data": {
      "text/plain": [
       "(2458, 6)"
      ]
     },
     "execution_count": 45,
     "metadata": {},
     "output_type": "execute_result"
    }
   ],
   "source": [
    "ray_finned_df_filtered2 = ray_finned_df_filtered[~ray_finned_df_filtered['sequence'].isin(ncbi_prot_list)].reset_index(drop=True)\n",
    "ray_finned_df_filtered2.shape"
   ]
  },
  {
   "cell_type": "code",
   "execution_count": 46,
   "metadata": {},
   "outputs": [
    {
     "data": {
      "text/plain": [
       "(2136, 7)"
      ]
     },
     "execution_count": 46,
     "metadata": {},
     "output_type": "execute_result"
    }
   ],
   "source": [
    "ray_finned_df_filtered3 = ray_finned_df_filtered2[ray_finned_df_filtered2['seq_length'] > 320].reset_index(drop=True)\n",
    "ray_finned_df_filtered3['source'] = 'Policarpo et al 2024'\n",
    "ray_finned_df_filtered3.shape"
   ]
  },
  {
   "cell_type": "code",
   "execution_count": 47,
   "metadata": {},
   "outputs": [],
   "source": [
    "ray_finned_df_filtered3.to_csv(f'{report_dir2}/ray_finned_fish/mined_alignments/extracted_fish_ops_filtered.csv')"
   ]
  },
  {
   "cell_type": "code",
   "execution_count": 48,
   "metadata": {},
   "outputs": [],
   "source": [
    "sequence_list += ray_finned_df_filtered3['sequence'].to_list()\n",
    "acc_list += ray_finned_df_filtered3['accession'].to_list()\n",
    "db_sp_list += ray_finned_df_filtered3['species_name'].to_list()\n",
    "prot_descriptions += ray_finned_df_filtered3['opsin_type'].to_list()\n",
    "source_list += ray_finned_df_filtered3['source'].to_list()"
   ]
  },
  {
   "cell_type": "code",
   "execution_count": 49,
   "metadata": {},
   "outputs": [],
   "source": [
    "gn_list = []\n",
    "sp_list = []\n",
    "for sp in db_sp_list:\n",
    "#    print(sp)\n",
    "    gn_list.append(sp.split(' ', 1)[0])\n",
    "    sp_list.append(sp.split(' ', 1)[1])"
   ]
  },
  {
   "cell_type": "code",
   "execution_count": 50,
   "metadata": {},
   "outputs": [],
   "source": [
    "# Load our existing taxonomy dictionary and pull relevant taxon info\n",
    "taxon_file = './data_sources/taxonomy/ncbi_taxon_dict.json'\n",
    "if os.path.isfile(taxon_file):\n",
    "    with open(taxon_file, 'r') as f:\n",
    "        species_taxon_dict = json.load(f)\n",
    "        \n",
    "phylum_list = []\n",
    "subphylum_list = []\n",
    "class_list = []      \n",
    "for sp in db_sp_list:\n",
    "    phylum_list.append(species_taxon_dict[sp][\"Phylum\"])\n",
    "    subphylum_list.append(species_taxon_dict[sp][\"Subphylum\"])\n",
    "    class_list.append(species_taxon_dict[sp][\"Class\"])"
   ]
  },
  {
   "cell_type": "markdown",
   "metadata": {},
   "source": [
    "### <font color=#c994c7>MATEdb2: Martínez-Redondo et. al. 2024</font>\n",
    "For now I have no pipeline set up to extract sequences from the assembled transcriptomes but this may be coming in the future"
   ]
  },
  {
   "cell_type": "code",
   "execution_count": 51,
   "metadata": {},
   "outputs": [
    {
     "data": {
      "application/vnd.microsoft.datawrangler.viewer.v0+json": {
       "columns": [
        {
         "name": "index",
         "rawType": "int64",
         "type": "integer"
        },
        {
         "name": "PHYLUM",
         "rawType": "object",
         "type": "string"
        },
        {
         "name": "LINEAGE",
         "rawType": "object",
         "type": "string"
        },
        {
         "name": "CLASS",
         "rawType": "object",
         "type": "string"
        },
        {
         "name": "ORDER",
         "rawType": "object",
         "type": "string"
        },
        {
         "name": "FAMILY",
         "rawType": "object",
         "type": "string"
        },
        {
         "name": "COMMON NAME",
         "rawType": "object",
         "type": "unknown"
        },
        {
         "name": "CODE (5 letter code)",
         "rawType": "object",
         "type": "string"
        },
        {
         "name": "SCIENTIFIC NAME",
         "rawType": "object",
         "type": "string"
        },
        {
         "name": "TAXON ID (see NCBI)",
         "rawType": "int64",
         "type": "integer"
        },
        {
         "name": "GENOME OR TRANSCRIPTOME?",
         "rawType": "object",
         "type": "string"
        },
        {
         "name": "TECHNOLOGY",
         "rawType": "object",
         "type": "unknown"
        },
        {
         "name": "SOURCE",
         "rawType": "object",
         "type": "string"
        },
        {
         "name": "ACCESSION NUMBER",
         "rawType": "object",
         "type": "string"
        },
        {
         "name": "REFERENCE",
         "rawType": "object",
         "type": "unknown"
        },
        {
         "name": "EXTRA INFO",
         "rawType": "object",
         "type": "unknown"
        },
        {
         "name": "C (ASSEMBLY)",
         "rawType": "object",
         "type": "string"
        },
        {
         "name": "S (ASSEMBLY)",
         "rawType": "object",
         "type": "string"
        },
        {
         "name": "D (ASSEMBLY)",
         "rawType": "object",
         "type": "string"
        },
        {
         "name": "F (ASSEMBLY)",
         "rawType": "object",
         "type": "string"
        },
        {
         "name": "M (ASSEMBLY)",
         "rawType": "object",
         "type": "string"
        },
        {
         "name": "C+F (GOOD if >85*)",
         "rawType": "object",
         "type": "string"
        },
        {
         "name": "Busco database",
         "rawType": "object",
         "type": "string"
        },
        {
         "name": "No. ISOFORMS",
         "rawType": "object",
         "type": "unknown"
        },
        {
         "name": "C (LONGEST)",
         "rawType": "float64",
         "type": "float"
        },
        {
         "name": "S (LONGEST)",
         "rawType": "float64",
         "type": "float"
        },
        {
         "name": "D (LONGEST)",
         "rawType": "float64",
         "type": "float"
        },
        {
         "name": "F (LONGEST)",
         "rawType": "float64",
         "type": "float"
        },
        {
         "name": "M (LONGEST)",
         "rawType": "float64",
         "type": "float"
        },
        {
         "name": "C+F (GOOD if >85*).1",
         "rawType": "float64",
         "type": "float"
        },
        {
         "name": "Busco database.1",
         "rawType": "object",
         "type": "string"
        },
        {
         "name": "No. GENES",
         "rawType": "int64",
         "type": "integer"
        },
        {
         "name": "EggNOG-mapper",
         "rawType": "int64",
         "type": "integer"
        },
        {
         "name": "FANTASIA",
         "rawType": "int64",
         "type": "integer"
        }
       ],
       "conversionMethod": "pd.DataFrame",
       "ref": "af98750b-4eb0-433a-a3c3-5dac1a4c64fd",
       "rows": [
        [
         "0",
         "ACOELA",
         "Acoelomorpha",
         "-",
         "Acoela ",
         "Anaperidae",
         null,
         "NFUS1",
         "Neochildia fusca",
         "66402",
         "Transcriptome",
         "Illumina HiSeq 2500",
         "NCBI SRA",
         "SRR8617822",
         null,
         null,
         "82.2",
         "43.6",
         "38.6",
         "4.1",
         "13.7",
         "86.3",
         "metazoa_odb10",
         null,
         "74.7",
         "72.7",
         "2.0",
         "3.0",
         "22.3",
         "77.7",
         "metazoa_odb10",
         "22370",
         "12845",
         "22351"
        ],
        [
         "1",
         "ACOELA",
         "Acoelomorpha",
         "-",
         "Acoela ",
         "Childiidae",
         null,
         "CSUB1",
         "Childia submaculatum",
         "243778",
         "Transcriptome",
         null,
         "NCBI SRA",
         "SRR3105702",
         null,
         null,
         "73.3",
         "25.1",
         "48.2",
         "6.9",
         "19.8",
         "80.2",
         "metazoa_odb10",
         null,
         "71.7",
         "65.9",
         "5.8",
         "5.3",
         "23.0",
         "77.0",
         "metazoa_odb10",
         "15861",
         "10576",
         "15605"
        ],
        [
         "2",
         "ACOELA",
         "Acoelomorpha",
         "-",
         "Acoela ",
         "Convolutidae",
         null,
         "CNAI1",
         "Convoluta (Praesagittifera) naikaiensis",
         "31270",
         "Transcriptome",
         "Illumina HiSeq 2500",
         "NCBI SRA",
         "DRR151142",
         null,
         null,
         "78.3",
         "61.8",
         "16.5",
         "5.9",
         "15.8",
         "84.2",
         "metazoa_odb10",
         null,
         "74.1",
         "73.2",
         "0.9",
         "5.2",
         "20.7",
         "79.3",
         "metazoa_odb10",
         "17797",
         "10900",
         "17779"
        ],
        [
         "3",
         "ACOELA",
         "Acoelomorpha",
         "-",
         "Acoela ",
         "Diopisthoporidae",
         null,
         "DLON1",
         "Diopisthoporus longitubus",
         "996724",
         "Transcriptome",
         "Illumina HiSeq 2500",
         "NCBI SRA",
         "SRR3105704",
         null,
         null,
         "74.4",
         "21.7",
         "52.7",
         "5.5",
         "20.1",
         "79.9",
         "metazoa_odb10",
         null,
         "71.6",
         "64.8",
         "6.8",
         "3.7",
         "24.7",
         "75.3",
         "metazoa_odb10",
         "19356",
         "13097",
         "18921"
        ],
        [
         "4",
         "ACOELA",
         "Acoelomorpha",
         "-",
         "Acoela ",
         "Hofsteniidae",
         null,
         "HMIA1",
         "Hofstenia miamia",
         "442651",
         "Genome",
         "Illumina; Nanopore",
         "NCBI Genome",
         "GCA_900660155.1",
         "https://www.science.org/doi/10.1126/science.aau6173?url_ver=Z39.88-2003&rfr_id=ori:rid:crossref.org&rfr_dat=cr_pub20200pubmed",
         "Genome annotation obtained from author",
         "-",
         "-",
         "-",
         "-",
         "-",
         "-",
         "-",
         "-",
         "80.0",
         "78.1",
         "1.9",
         "5.5",
         "14.5",
         "85.5",
         "metazoa_odb10",
         "22632",
         "15809",
         "21891"
        ]
       ],
       "shape": {
        "columns": 33,
        "rows": 5
       }
      },
      "text/html": [
       "<div>\n",
       "<style scoped>\n",
       "    .dataframe tbody tr th:only-of-type {\n",
       "        vertical-align: middle;\n",
       "    }\n",
       "\n",
       "    .dataframe tbody tr th {\n",
       "        vertical-align: top;\n",
       "    }\n",
       "\n",
       "    .dataframe thead th {\n",
       "        text-align: right;\n",
       "    }\n",
       "</style>\n",
       "<table border=\"1\" class=\"dataframe\">\n",
       "  <thead>\n",
       "    <tr style=\"text-align: right;\">\n",
       "      <th></th>\n",
       "      <th>PHYLUM</th>\n",
       "      <th>LINEAGE</th>\n",
       "      <th>CLASS</th>\n",
       "      <th>ORDER</th>\n",
       "      <th>FAMILY</th>\n",
       "      <th>COMMON NAME</th>\n",
       "      <th>CODE (5 letter code)</th>\n",
       "      <th>SCIENTIFIC NAME</th>\n",
       "      <th>TAXON ID (see NCBI)</th>\n",
       "      <th>GENOME OR TRANSCRIPTOME?</th>\n",
       "      <th>...</th>\n",
       "      <th>C (LONGEST)</th>\n",
       "      <th>S (LONGEST)</th>\n",
       "      <th>D (LONGEST)</th>\n",
       "      <th>F (LONGEST)</th>\n",
       "      <th>M (LONGEST)</th>\n",
       "      <th>C+F (GOOD if &gt;85*).1</th>\n",
       "      <th>Busco database.1</th>\n",
       "      <th>No. GENES</th>\n",
       "      <th>EggNOG-mapper</th>\n",
       "      <th>FANTASIA</th>\n",
       "    </tr>\n",
       "  </thead>\n",
       "  <tbody>\n",
       "    <tr>\n",
       "      <th>0</th>\n",
       "      <td>ACOELA</td>\n",
       "      <td>Acoelomorpha</td>\n",
       "      <td>-</td>\n",
       "      <td>Acoela</td>\n",
       "      <td>Anaperidae</td>\n",
       "      <td>NaN</td>\n",
       "      <td>NFUS1</td>\n",
       "      <td>Neochildia fusca</td>\n",
       "      <td>66402</td>\n",
       "      <td>Transcriptome</td>\n",
       "      <td>...</td>\n",
       "      <td>74.7</td>\n",
       "      <td>72.7</td>\n",
       "      <td>2.0</td>\n",
       "      <td>3.0</td>\n",
       "      <td>22.3</td>\n",
       "      <td>77.7</td>\n",
       "      <td>metazoa_odb10</td>\n",
       "      <td>22370</td>\n",
       "      <td>12845</td>\n",
       "      <td>22351</td>\n",
       "    </tr>\n",
       "    <tr>\n",
       "      <th>1</th>\n",
       "      <td>ACOELA</td>\n",
       "      <td>Acoelomorpha</td>\n",
       "      <td>-</td>\n",
       "      <td>Acoela</td>\n",
       "      <td>Childiidae</td>\n",
       "      <td>NaN</td>\n",
       "      <td>CSUB1</td>\n",
       "      <td>Childia submaculatum</td>\n",
       "      <td>243778</td>\n",
       "      <td>Transcriptome</td>\n",
       "      <td>...</td>\n",
       "      <td>71.7</td>\n",
       "      <td>65.9</td>\n",
       "      <td>5.8</td>\n",
       "      <td>5.3</td>\n",
       "      <td>23.0</td>\n",
       "      <td>77.0</td>\n",
       "      <td>metazoa_odb10</td>\n",
       "      <td>15861</td>\n",
       "      <td>10576</td>\n",
       "      <td>15605</td>\n",
       "    </tr>\n",
       "    <tr>\n",
       "      <th>2</th>\n",
       "      <td>ACOELA</td>\n",
       "      <td>Acoelomorpha</td>\n",
       "      <td>-</td>\n",
       "      <td>Acoela</td>\n",
       "      <td>Convolutidae</td>\n",
       "      <td>NaN</td>\n",
       "      <td>CNAI1</td>\n",
       "      <td>Convoluta (Praesagittifera) naikaiensis</td>\n",
       "      <td>31270</td>\n",
       "      <td>Transcriptome</td>\n",
       "      <td>...</td>\n",
       "      <td>74.1</td>\n",
       "      <td>73.2</td>\n",
       "      <td>0.9</td>\n",
       "      <td>5.2</td>\n",
       "      <td>20.7</td>\n",
       "      <td>79.3</td>\n",
       "      <td>metazoa_odb10</td>\n",
       "      <td>17797</td>\n",
       "      <td>10900</td>\n",
       "      <td>17779</td>\n",
       "    </tr>\n",
       "    <tr>\n",
       "      <th>3</th>\n",
       "      <td>ACOELA</td>\n",
       "      <td>Acoelomorpha</td>\n",
       "      <td>-</td>\n",
       "      <td>Acoela</td>\n",
       "      <td>Diopisthoporidae</td>\n",
       "      <td>NaN</td>\n",
       "      <td>DLON1</td>\n",
       "      <td>Diopisthoporus longitubus</td>\n",
       "      <td>996724</td>\n",
       "      <td>Transcriptome</td>\n",
       "      <td>...</td>\n",
       "      <td>71.6</td>\n",
       "      <td>64.8</td>\n",
       "      <td>6.8</td>\n",
       "      <td>3.7</td>\n",
       "      <td>24.7</td>\n",
       "      <td>75.3</td>\n",
       "      <td>metazoa_odb10</td>\n",
       "      <td>19356</td>\n",
       "      <td>13097</td>\n",
       "      <td>18921</td>\n",
       "    </tr>\n",
       "    <tr>\n",
       "      <th>4</th>\n",
       "      <td>ACOELA</td>\n",
       "      <td>Acoelomorpha</td>\n",
       "      <td>-</td>\n",
       "      <td>Acoela</td>\n",
       "      <td>Hofsteniidae</td>\n",
       "      <td>NaN</td>\n",
       "      <td>HMIA1</td>\n",
       "      <td>Hofstenia miamia</td>\n",
       "      <td>442651</td>\n",
       "      <td>Genome</td>\n",
       "      <td>...</td>\n",
       "      <td>80.0</td>\n",
       "      <td>78.1</td>\n",
       "      <td>1.9</td>\n",
       "      <td>5.5</td>\n",
       "      <td>14.5</td>\n",
       "      <td>85.5</td>\n",
       "      <td>metazoa_odb10</td>\n",
       "      <td>22632</td>\n",
       "      <td>15809</td>\n",
       "      <td>21891</td>\n",
       "    </tr>\n",
       "  </tbody>\n",
       "</table>\n",
       "<p>5 rows × 33 columns</p>\n",
       "</div>"
      ],
      "text/plain": [
       "   PHYLUM       LINEAGE CLASS    ORDER            FAMILY COMMON NAME  \\\n",
       "0  ACOELA  Acoelomorpha     -  Acoela         Anaperidae         NaN   \n",
       "1  ACOELA  Acoelomorpha     -  Acoela         Childiidae         NaN   \n",
       "2  ACOELA  Acoelomorpha     -  Acoela       Convolutidae         NaN   \n",
       "3  ACOELA  Acoelomorpha     -  Acoela   Diopisthoporidae         NaN   \n",
       "4  ACOELA  Acoelomorpha     -  Acoela       Hofsteniidae         NaN   \n",
       "\n",
       "  CODE (5 letter code)                          SCIENTIFIC NAME  \\\n",
       "0                NFUS1                         Neochildia fusca   \n",
       "1                CSUB1                     Childia submaculatum   \n",
       "2                CNAI1  Convoluta (Praesagittifera) naikaiensis   \n",
       "3                DLON1                Diopisthoporus longitubus   \n",
       "4                HMIA1                         Hofstenia miamia   \n",
       "\n",
       "   TAXON ID (see NCBI) GENOME OR TRANSCRIPTOME?  ... C (LONGEST) S (LONGEST)  \\\n",
       "0                66402            Transcriptome  ...        74.7        72.7   \n",
       "1               243778            Transcriptome  ...        71.7        65.9   \n",
       "2                31270            Transcriptome  ...        74.1        73.2   \n",
       "3               996724            Transcriptome  ...        71.6        64.8   \n",
       "4               442651                   Genome  ...        80.0        78.1   \n",
       "\n",
       "  D (LONGEST) F (LONGEST) M (LONGEST) C+F (GOOD if >85*).1 Busco database.1  \\\n",
       "0         2.0         3.0        22.3                 77.7    metazoa_odb10   \n",
       "1         5.8         5.3        23.0                 77.0    metazoa_odb10   \n",
       "2         0.9         5.2        20.7                 79.3    metazoa_odb10   \n",
       "3         6.8         3.7        24.7                 75.3    metazoa_odb10   \n",
       "4         1.9         5.5        14.5                 85.5    metazoa_odb10   \n",
       "\n",
       "  No. GENES EggNOG-mapper FANTASIA  \n",
       "0     22370         12845    22351  \n",
       "1     15861         10576    15605  \n",
       "2     17797         10900    17779  \n",
       "3     19356         13097    18921  \n",
       "4     22632         15809    21891  \n",
       "\n",
       "[5 rows x 33 columns]"
      ]
     },
     "execution_count": 51,
     "metadata": {},
     "output_type": "execute_result"
    }
   ],
   "source": [
    "matedb2_links_file = f'{report_dir2}/matedb2/Table_S1_cleaned.csv'\n",
    "matedb2_links_df = pd.read_csv(matedb2_links_file)\n",
    "matedb2_links_df.head()"
   ]
  },
  {
   "cell_type": "code",
   "execution_count": 52,
   "metadata": {},
   "outputs": [
    {
     "data": {
      "text/plain": [
       "(970, 33)"
      ]
     },
     "execution_count": 52,
     "metadata": {},
     "output_type": "execute_result"
    }
   ],
   "source": [
    "matedb2_links_df.shape"
   ]
  },
  {
   "cell_type": "code",
   "execution_count": 53,
   "metadata": {},
   "outputs": [
    {
     "data": {
      "application/vnd.microsoft.datawrangler.viewer.v0+json": {
       "columns": [
        {
         "name": "index",
         "rawType": "int64",
         "type": "integer"
        },
        {
         "name": "PHYLUM",
         "rawType": "object",
         "type": "string"
        },
        {
         "name": "LINEAGE",
         "rawType": "object",
         "type": "string"
        },
        {
         "name": "CLASS",
         "rawType": "object",
         "type": "string"
        },
        {
         "name": "ORDER",
         "rawType": "object",
         "type": "string"
        },
        {
         "name": "FAMILY",
         "rawType": "object",
         "type": "string"
        },
        {
         "name": "COMMON NAME",
         "rawType": "object",
         "type": "unknown"
        },
        {
         "name": "CODE (5 letter code)",
         "rawType": "object",
         "type": "string"
        },
        {
         "name": "SCIENTIFIC NAME",
         "rawType": "object",
         "type": "string"
        },
        {
         "name": "TAXON ID (see NCBI)",
         "rawType": "int64",
         "type": "integer"
        },
        {
         "name": "GENOME OR TRANSCRIPTOME?",
         "rawType": "object",
         "type": "string"
        },
        {
         "name": "TECHNOLOGY",
         "rawType": "object",
         "type": "unknown"
        },
        {
         "name": "SOURCE",
         "rawType": "object",
         "type": "string"
        },
        {
         "name": "ACCESSION NUMBER",
         "rawType": "object",
         "type": "string"
        },
        {
         "name": "REFERENCE",
         "rawType": "object",
         "type": "unknown"
        },
        {
         "name": "EXTRA INFO",
         "rawType": "object",
         "type": "unknown"
        },
        {
         "name": "C (ASSEMBLY)",
         "rawType": "object",
         "type": "string"
        },
        {
         "name": "S (ASSEMBLY)",
         "rawType": "object",
         "type": "string"
        },
        {
         "name": "D (ASSEMBLY)",
         "rawType": "object",
         "type": "string"
        },
        {
         "name": "F (ASSEMBLY)",
         "rawType": "object",
         "type": "string"
        },
        {
         "name": "M (ASSEMBLY)",
         "rawType": "object",
         "type": "string"
        },
        {
         "name": "C+F (GOOD if >85*)",
         "rawType": "object",
         "type": "string"
        },
        {
         "name": "Busco database",
         "rawType": "object",
         "type": "string"
        },
        {
         "name": "No. ISOFORMS",
         "rawType": "object",
         "type": "unknown"
        },
        {
         "name": "C (LONGEST)",
         "rawType": "float64",
         "type": "float"
        },
        {
         "name": "S (LONGEST)",
         "rawType": "float64",
         "type": "float"
        },
        {
         "name": "D (LONGEST)",
         "rawType": "float64",
         "type": "float"
        },
        {
         "name": "F (LONGEST)",
         "rawType": "float64",
         "type": "float"
        },
        {
         "name": "M (LONGEST)",
         "rawType": "float64",
         "type": "float"
        },
        {
         "name": "C+F (GOOD if >85*).1",
         "rawType": "float64",
         "type": "float"
        },
        {
         "name": "Busco database.1",
         "rawType": "object",
         "type": "string"
        },
        {
         "name": "No. GENES",
         "rawType": "int64",
         "type": "integer"
        },
        {
         "name": "EggNOG-mapper",
         "rawType": "int64",
         "type": "integer"
        },
        {
         "name": "FANTASIA",
         "rawType": "int64",
         "type": "integer"
        }
       ],
       "conversionMethod": "pd.DataFrame",
       "ref": "e5561906-28e9-4050-aa86-1d7887ea0715",
       "rows": [
        [
         "0",
         "ARTHROPODA",
         "Chelicerata",
         "??",
         "Xiphosura",
         "Limulidae",
         "Horseshoe crabs",
         "LPOL1",
         "Limulus polyphemus",
         "6850",
         "Genome",
         "454+Illumina",
         "NCBI Genome",
         "GCF_000517525.1",
         null,
         null,
         "-",
         "-",
         "-",
         "-",
         "-",
         "-",
         "-",
         "-",
         "92.5",
         "86.0",
         "6.5",
         "4.7",
         "2.8",
         "97.2",
         "metazoa_odb10",
         "22879",
         "20689",
         "22686"
        ],
        [
         "1",
         "ARTHROPODA",
         "Chelicerata",
         "Arachnida",
         "Araneae",
         "Araneidae",
         "Spiders",
         "ABRU1",
         "Argiope bruennichi",
         "94029",
         "Genome",
         "PacBio Sequel; Illumina",
         "NCBI Genome",
         "GCA_015342795.1",
         null,
         "Chromosome level",
         "-",
         "-",
         "-",
         "-",
         "-",
         "-",
         "-",
         "-",
         "84.5",
         "82.6",
         "1.9",
         "8.5",
         "7.0",
         "93.0",
         "metazoa_odb10",
         "23259",
         "15836",
         "23229"
        ],
        [
         "2",
         "ARTHROPODA",
         "Pancrustacea",
         "Crustacea/Branchiopoda",
         "Anostraca",
         "Artemiidae",
         null,
         "ASAL1",
         "Artemia salina",
         "85549",
         "Transcriptome",
         "Illumina HiSeq 2500",
         "NCBI SRA",
         "SRR5140128",
         "https://royalsocietypublishing.org/doi/full/10.1098/rspb.2018.1524",
         null,
         "72.5",
         "32.4",
         "40.1",
         "17",
         "10.5",
         "89.5",
         "metazoa_odb10",
         "17,880",
         "63.2",
         "63.0",
         "0.2",
         "15.7",
         "21.1",
         "78.9",
         "metazoa_odb10",
         "17880",
         "12058",
         "17869"
        ],
        [
         "3",
         "ARTHROPODA",
         "Pancrustacea",
         "Crustacea/Branchiopoda",
         "Diplostraca",
         "Daphniidae",
         "Water fleas",
         "DMAG2",
         "Daphnia magna",
         "35525",
         "Genome",
         null,
         "NCBI Genome",
         "GCF_020631705.1",
         null,
         "Chromosome level",
         "-",
         "-",
         "-",
         "-",
         "-",
         "-",
         "-",
         "-",
         "96.8",
         "90.6",
         "6.2",
         "0.3",
         "2.9",
         "97.1",
         "metazoa_odb10",
         "16891",
         "14670",
         "16206"
        ],
        [
         "4",
         "ARTHROPODA",
         "Pancrustacea",
         "Crustacea/Malacostraca",
         "Amphipoda",
         "Talitridae",
         null,
         "TASA1",
         "Talitrus saltator",
         "191375",
         "Transcriptome",
         "Illumina HiSeq 2000",
         "NCBI SRA",
         "SRR3742168",
         null,
         null,
         "70.8",
         "51.3",
         "19.5",
         "14.2",
         "15",
         "85",
         "metazoa_odb10",
         null,
         "67.8",
         "67.3",
         "0.5",
         "13.1",
         "19.1",
         "80.9",
         "metazoa_odb10",
         "15927",
         "10006",
         "15912"
        ]
       ],
       "shape": {
        "columns": 33,
        "rows": 5
       }
      },
      "text/html": [
       "<div>\n",
       "<style scoped>\n",
       "    .dataframe tbody tr th:only-of-type {\n",
       "        vertical-align: middle;\n",
       "    }\n",
       "\n",
       "    .dataframe tbody tr th {\n",
       "        vertical-align: top;\n",
       "    }\n",
       "\n",
       "    .dataframe thead th {\n",
       "        text-align: right;\n",
       "    }\n",
       "</style>\n",
       "<table border=\"1\" class=\"dataframe\">\n",
       "  <thead>\n",
       "    <tr style=\"text-align: right;\">\n",
       "      <th></th>\n",
       "      <th>PHYLUM</th>\n",
       "      <th>LINEAGE</th>\n",
       "      <th>CLASS</th>\n",
       "      <th>ORDER</th>\n",
       "      <th>FAMILY</th>\n",
       "      <th>COMMON NAME</th>\n",
       "      <th>CODE (5 letter code)</th>\n",
       "      <th>SCIENTIFIC NAME</th>\n",
       "      <th>TAXON ID (see NCBI)</th>\n",
       "      <th>GENOME OR TRANSCRIPTOME?</th>\n",
       "      <th>...</th>\n",
       "      <th>C (LONGEST)</th>\n",
       "      <th>S (LONGEST)</th>\n",
       "      <th>D (LONGEST)</th>\n",
       "      <th>F (LONGEST)</th>\n",
       "      <th>M (LONGEST)</th>\n",
       "      <th>C+F (GOOD if &gt;85*).1</th>\n",
       "      <th>Busco database.1</th>\n",
       "      <th>No. GENES</th>\n",
       "      <th>EggNOG-mapper</th>\n",
       "      <th>FANTASIA</th>\n",
       "    </tr>\n",
       "  </thead>\n",
       "  <tbody>\n",
       "    <tr>\n",
       "      <th>0</th>\n",
       "      <td>ARTHROPODA</td>\n",
       "      <td>Chelicerata</td>\n",
       "      <td>??</td>\n",
       "      <td>Xiphosura</td>\n",
       "      <td>Limulidae</td>\n",
       "      <td>Horseshoe crabs</td>\n",
       "      <td>LPOL1</td>\n",
       "      <td>Limulus polyphemus</td>\n",
       "      <td>6850</td>\n",
       "      <td>Genome</td>\n",
       "      <td>...</td>\n",
       "      <td>92.5</td>\n",
       "      <td>86.0</td>\n",
       "      <td>6.5</td>\n",
       "      <td>4.7</td>\n",
       "      <td>2.8</td>\n",
       "      <td>97.2</td>\n",
       "      <td>metazoa_odb10</td>\n",
       "      <td>22879</td>\n",
       "      <td>20689</td>\n",
       "      <td>22686</td>\n",
       "    </tr>\n",
       "    <tr>\n",
       "      <th>1</th>\n",
       "      <td>ARTHROPODA</td>\n",
       "      <td>Chelicerata</td>\n",
       "      <td>Arachnida</td>\n",
       "      <td>Araneae</td>\n",
       "      <td>Araneidae</td>\n",
       "      <td>Spiders</td>\n",
       "      <td>ABRU1</td>\n",
       "      <td>Argiope bruennichi</td>\n",
       "      <td>94029</td>\n",
       "      <td>Genome</td>\n",
       "      <td>...</td>\n",
       "      <td>84.5</td>\n",
       "      <td>82.6</td>\n",
       "      <td>1.9</td>\n",
       "      <td>8.5</td>\n",
       "      <td>7.0</td>\n",
       "      <td>93.0</td>\n",
       "      <td>metazoa_odb10</td>\n",
       "      <td>23259</td>\n",
       "      <td>15836</td>\n",
       "      <td>23229</td>\n",
       "    </tr>\n",
       "    <tr>\n",
       "      <th>2</th>\n",
       "      <td>ARTHROPODA</td>\n",
       "      <td>Pancrustacea</td>\n",
       "      <td>Crustacea/Branchiopoda</td>\n",
       "      <td>Anostraca</td>\n",
       "      <td>Artemiidae</td>\n",
       "      <td>NaN</td>\n",
       "      <td>ASAL1</td>\n",
       "      <td>Artemia salina</td>\n",
       "      <td>85549</td>\n",
       "      <td>Transcriptome</td>\n",
       "      <td>...</td>\n",
       "      <td>63.2</td>\n",
       "      <td>63.0</td>\n",
       "      <td>0.2</td>\n",
       "      <td>15.7</td>\n",
       "      <td>21.1</td>\n",
       "      <td>78.9</td>\n",
       "      <td>metazoa_odb10</td>\n",
       "      <td>17880</td>\n",
       "      <td>12058</td>\n",
       "      <td>17869</td>\n",
       "    </tr>\n",
       "    <tr>\n",
       "      <th>3</th>\n",
       "      <td>ARTHROPODA</td>\n",
       "      <td>Pancrustacea</td>\n",
       "      <td>Crustacea/Branchiopoda</td>\n",
       "      <td>Diplostraca</td>\n",
       "      <td>Daphniidae</td>\n",
       "      <td>Water fleas</td>\n",
       "      <td>DMAG2</td>\n",
       "      <td>Daphnia magna</td>\n",
       "      <td>35525</td>\n",
       "      <td>Genome</td>\n",
       "      <td>...</td>\n",
       "      <td>96.8</td>\n",
       "      <td>90.6</td>\n",
       "      <td>6.2</td>\n",
       "      <td>0.3</td>\n",
       "      <td>2.9</td>\n",
       "      <td>97.1</td>\n",
       "      <td>metazoa_odb10</td>\n",
       "      <td>16891</td>\n",
       "      <td>14670</td>\n",
       "      <td>16206</td>\n",
       "    </tr>\n",
       "    <tr>\n",
       "      <th>4</th>\n",
       "      <td>ARTHROPODA</td>\n",
       "      <td>Pancrustacea</td>\n",
       "      <td>Crustacea/Malacostraca</td>\n",
       "      <td>Amphipoda</td>\n",
       "      <td>Talitridae</td>\n",
       "      <td>NaN</td>\n",
       "      <td>TASA1</td>\n",
       "      <td>Talitrus saltator</td>\n",
       "      <td>191375</td>\n",
       "      <td>Transcriptome</td>\n",
       "      <td>...</td>\n",
       "      <td>67.8</td>\n",
       "      <td>67.3</td>\n",
       "      <td>0.5</td>\n",
       "      <td>13.1</td>\n",
       "      <td>19.1</td>\n",
       "      <td>80.9</td>\n",
       "      <td>metazoa_odb10</td>\n",
       "      <td>15927</td>\n",
       "      <td>10006</td>\n",
       "      <td>15912</td>\n",
       "    </tr>\n",
       "  </tbody>\n",
       "</table>\n",
       "<p>5 rows × 33 columns</p>\n",
       "</div>"
      ],
      "text/plain": [
       "       PHYLUM       LINEAGE                   CLASS        ORDER      FAMILY  \\\n",
       "0  ARTHROPODA   Chelicerata                      ??    Xiphosura   Limulidae   \n",
       "1  ARTHROPODA   Chelicerata               Arachnida      Araneae   Araneidae   \n",
       "2  ARTHROPODA  Pancrustacea  Crustacea/Branchiopoda    Anostraca  Artemiidae   \n",
       "3  ARTHROPODA  Pancrustacea  Crustacea/Branchiopoda  Diplostraca  Daphniidae   \n",
       "4  ARTHROPODA  Pancrustacea  Crustacea/Malacostraca    Amphipoda  Talitridae   \n",
       "\n",
       "       COMMON NAME CODE (5 letter code)     SCIENTIFIC NAME  \\\n",
       "0  Horseshoe crabs                LPOL1  Limulus polyphemus   \n",
       "1          Spiders                ABRU1  Argiope bruennichi   \n",
       "2              NaN                ASAL1      Artemia salina   \n",
       "3      Water fleas                DMAG2       Daphnia magna   \n",
       "4              NaN                TASA1   Talitrus saltator   \n",
       "\n",
       "   TAXON ID (see NCBI) GENOME OR TRANSCRIPTOME?  ... C (LONGEST) S (LONGEST)  \\\n",
       "0                 6850                   Genome  ...        92.5        86.0   \n",
       "1                94029                   Genome  ...        84.5        82.6   \n",
       "2                85549            Transcriptome  ...        63.2        63.0   \n",
       "3                35525                   Genome  ...        96.8        90.6   \n",
       "4               191375            Transcriptome  ...        67.8        67.3   \n",
       "\n",
       "  D (LONGEST) F (LONGEST) M (LONGEST) C+F (GOOD if >85*).1 Busco database.1  \\\n",
       "0         6.5         4.7         2.8                 97.2    metazoa_odb10   \n",
       "1         1.9         8.5         7.0                 93.0    metazoa_odb10   \n",
       "2         0.2        15.7        21.1                 78.9    metazoa_odb10   \n",
       "3         6.2         0.3         2.9                 97.1    metazoa_odb10   \n",
       "4         0.5        13.1        19.1                 80.9    metazoa_odb10   \n",
       "\n",
       "  No. GENES EggNOG-mapper FANTASIA  \n",
       "0     22879         20689    22686  \n",
       "1     23259         15836    23229  \n",
       "2     17880         12058    17869  \n",
       "3     16891         14670    16206  \n",
       "4     15927         10006    15912  \n",
       "\n",
       "[5 rows x 33 columns]"
      ]
     },
     "execution_count": 53,
     "metadata": {},
     "output_type": "execute_result"
    }
   ],
   "source": [
    "matedb2_links_filtered = matedb2_links_df[matedb2_links_df['SCIENTIFIC NAME'].isin(species_list)].reset_index(drop=True)\n",
    "matedb2_links_filtered.head()"
   ]
  },
  {
   "cell_type": "code",
   "execution_count": 54,
   "metadata": {},
   "outputs": [
    {
     "data": {
      "text/plain": [
       "(40, 33)"
      ]
     },
     "execution_count": 54,
     "metadata": {},
     "output_type": "execute_result"
    }
   ],
   "source": [
    "matedb2_links_filtered.shape"
   ]
  },
  {
   "cell_type": "code",
   "execution_count": 55,
   "metadata": {},
   "outputs": [
    {
     "data": {
      "text/plain": [
       "(14, 33)"
      ]
     },
     "execution_count": 55,
     "metadata": {},
     "output_type": "execute_result"
    }
   ],
   "source": [
    "matedb2_links_filtered2 = matedb2_links_filtered[~matedb2_links_filtered['SCIENTIFIC NAME'].isin(ncbi_sp_list)]\n",
    "matedb2_links_filtered2.shape"
   ]
  },
  {
   "cell_type": "markdown",
   "metadata": {},
   "source": [
    "### <font color=#c994c7>Create Merged Dataframe From All Accessory Opsin Sequence DBs</font>"
   ]
  },
  {
   "cell_type": "code",
   "execution_count": 56,
   "metadata": {},
   "outputs": [
    {
     "data": {
      "application/vnd.microsoft.datawrangler.viewer.v0+json": {
       "columns": [
        {
         "name": "index",
         "rawType": "int64",
         "type": "integer"
        },
        {
         "name": "Accession",
         "rawType": "object",
         "type": "string"
        },
        {
         "name": "Phylum",
         "rawType": "object",
         "type": "string"
        },
        {
         "name": "Subphylum",
         "rawType": "object",
         "type": "string"
        },
        {
         "name": "Class",
         "rawType": "object",
         "type": "string"
        },
        {
         "name": "Genus",
         "rawType": "object",
         "type": "string"
        },
        {
         "name": "Species",
         "rawType": "object",
         "type": "string"
        },
        {
         "name": "Full_Species",
         "rawType": "object",
         "type": "string"
        },
        {
         "name": "Gene_Description",
         "rawType": "object",
         "type": "string"
        },
        {
         "name": "Protein",
         "rawType": "object",
         "type": "string"
        },
        {
         "name": "source",
         "rawType": "object",
         "type": "string"
        }
       ],
       "conversionMethod": "pd.DataFrame",
       "ref": "6fb85e16-26d9-473b-8b9c-8d41741ea8da",
       "rows": [
        [
         "0",
         "U3IU26",
         "Chordata",
         "Craniata",
         "Aves",
         "Anas",
         "platyrhynchos",
         "Anas platyrhynchos",
         "Uncharacterized protein",
         "TQTEHNIVAAYLITAGVISIFSNIVVLGIFVKYKELRTATNAIIINLAFTDIGVSGIGYPMSAASDLHGSWKFGHTGCQKFRLTDKLCFSSRECHLLTVCCDLSLLLNRLLGLSAQKISLDQDSQWVEVDIYAALNIFFGMASIGLLTVVAVDRYLTICRPDIGRRMTTRTYATLILAAWINAVFWASMPTVGWAGYAPDPTGATCTVNWRKNDASFVSYTMSVIAVNFVVPLTVMFYCYYNVSRKMKKYTSTNCLESINTDWSDQVDVTKMSVVMIVMFLVAWSPYSIVCLWSSFGDPKKISPAMAIIAPLFAKSSTFYNPCIYVIANKKFRRAILAMV",
         "Ramirez et al 2016"
        ],
        [
         "1",
         "A0A0R4IEG0",
         "Chordata",
         "Craniata",
         "Actinopteri",
         "Danio",
         "rerio",
         "Danio rerio",
         "Novopsin-10",
         "SPSADLSIAVFLIITGVVSVFGNGLVLLVYGQRRKKLRAHELMTINLAVCDFGYSLLGAPCIIISSLSHAWIFGETGCIWYGIQGFVFGIGSLITTCLISLDRCFKICSFRYGQWVERKHASLSVTLVWIYTLFWASLPMFGFGSYGPEPFGTSCTINWWRMNSSLTDRIYIFLILSLCFGVPTLIIIASYLAIVIRVYWSSHILASIPSSNVTHNSKDLRLTKIAAVVCSSFLIAWTPYAIVSLYSAVMAREEQLGEDGGTAIPGGITGTGIGRGGGFPDVYAFPFLINWTSSEQFGDVFGSWRNMTSGHSHSVGHHGSNVGSGHGGTGGHHSLPESILKPEFSLIPAIFAKSHCMINPFIYQIMNRDFREDVYDLL",
         "Ramirez et al 2016"
        ],
        [
         "2",
         "Q80XL3",
         "Chordata",
         "Craniata",
         "Mammalia",
         "Mus",
         "musculus",
         "Mus musculus",
         "Rrh protein",
         "SRTEHSVIAAYLIVAGITSILSNVVVLGIFIKYKELRTPTNAVIINLAFTDIGVSSIGYPMSAASDLHGSWKFGHAGCQFQGRNDRQVTGCLYTCLVPHVCNAGGAKRRAVDLLKLTLQMDIYAGLNIFFGMVSIGLLTVVAMDRYLTISCPDVGRRMTTNTYLSMILGAWINGLFWALMPIIGWASYAPDPTGATCTINWRNNDTSFVSYTMMVIVVNFIVPLTVMFYCYYHVSRSLRLYAASDCTAHLHRDWADQADVTKMSVIMILMFLLAWSPYSIVCLWACFGNPKKIPPSMAIIAPLFAKSSTFYNPCIYVAAHKKFRKAMLAMF",
         "Ramirez et al 2016"
        ],
        [
         "3",
         "M3YAY1",
         "Chordata",
         "Craniata",
         "Mammalia",
         "Mustela",
         "putorius furo",
         "Mustela putorius furo",
         "Uncharacterized protein",
         "SQTEHNIVAAYLITAGIISIFSNLIVLGIFIKYKELRTPTNAIIINLAVTDIGVSSIGYPMSAASDLYGSWKFGYAGCQYSFNRPAHVHACVHVCVHTWCLSNTKNHSMSLKCTLAMEIYAGLNIFFGMASIGLLTVVAIDRYLTICSPDTGRRMTTNTYIGMILGAWLNGLFWALMPIIGWASYAPDPTGATCTINWRKNDASFVSFTMTVIAVNFIVPLMVMFYCYYHVTRSIKYRTTSNCTEYLNRDWSDQVDVTKMSVIMILMFLVAWSPYSIVCLWASFGDPKKIPPSMAIIAPLFAKSSTFYNPCIYVVANKKFRKAMFAMF",
         "Ramirez et al 2016"
        ],
        [
         "4",
         "G1PJY3",
         "Chordata",
         "Craniata",
         "Mammalia",
         "Myotis",
         "lucifugus",
         "Myotis lucifugus",
         "Uncharacterized protein",
         "SQTEHNIVATYLIMAGMISLLSNIIVLGIFITYKELRTPTNAIIINLAVTDIGVSSIGYPMSAASDLHGSWKFGYAGCQFTILSYKIIKNKYYICHLPPCNVFQYVLQIVFLFKDQLHFDNIYAGLNIFFGMASIGLLTVVAMDRYLTICHPDAGRKMTTHTYISMILGAWINGLFWALMPIIGWASYAPDPTGATCTINWRKNDVSFVSFTMTVIAINFIVPLTVMFYCYYHVTRSIKCRATSNCTEYLNRDWADQVDVTKMSVIMIFMFLVAWSPYSIVCLWASFGDPKKIPPSMAIIAPLFAKSSTFYNPCIYVVANKKFRRAMFAMF",
         "Ramirez et al 2016"
        ]
       ],
       "shape": {
        "columns": 10,
        "rows": 5
       }
      },
      "text/html": [
       "<div>\n",
       "<style scoped>\n",
       "    .dataframe tbody tr th:only-of-type {\n",
       "        vertical-align: middle;\n",
       "    }\n",
       "\n",
       "    .dataframe tbody tr th {\n",
       "        vertical-align: top;\n",
       "    }\n",
       "\n",
       "    .dataframe thead th {\n",
       "        text-align: right;\n",
       "    }\n",
       "</style>\n",
       "<table border=\"1\" class=\"dataframe\">\n",
       "  <thead>\n",
       "    <tr style=\"text-align: right;\">\n",
       "      <th></th>\n",
       "      <th>Accession</th>\n",
       "      <th>Phylum</th>\n",
       "      <th>Subphylum</th>\n",
       "      <th>Class</th>\n",
       "      <th>Genus</th>\n",
       "      <th>Species</th>\n",
       "      <th>Full_Species</th>\n",
       "      <th>Gene_Description</th>\n",
       "      <th>Protein</th>\n",
       "      <th>source</th>\n",
       "    </tr>\n",
       "  </thead>\n",
       "  <tbody>\n",
       "    <tr>\n",
       "      <th>0</th>\n",
       "      <td>U3IU26</td>\n",
       "      <td>Chordata</td>\n",
       "      <td>Craniata</td>\n",
       "      <td>Aves</td>\n",
       "      <td>Anas</td>\n",
       "      <td>platyrhynchos</td>\n",
       "      <td>Anas platyrhynchos</td>\n",
       "      <td>Uncharacterized protein</td>\n",
       "      <td>TQTEHNIVAAYLITAGVISIFSNIVVLGIFVKYKELRTATNAIIIN...</td>\n",
       "      <td>Ramirez et al 2016</td>\n",
       "    </tr>\n",
       "    <tr>\n",
       "      <th>1</th>\n",
       "      <td>A0A0R4IEG0</td>\n",
       "      <td>Chordata</td>\n",
       "      <td>Craniata</td>\n",
       "      <td>Actinopteri</td>\n",
       "      <td>Danio</td>\n",
       "      <td>rerio</td>\n",
       "      <td>Danio rerio</td>\n",
       "      <td>Novopsin-10</td>\n",
       "      <td>SPSADLSIAVFLIITGVVSVFGNGLVLLVYGQRRKKLRAHELMTIN...</td>\n",
       "      <td>Ramirez et al 2016</td>\n",
       "    </tr>\n",
       "    <tr>\n",
       "      <th>2</th>\n",
       "      <td>Q80XL3</td>\n",
       "      <td>Chordata</td>\n",
       "      <td>Craniata</td>\n",
       "      <td>Mammalia</td>\n",
       "      <td>Mus</td>\n",
       "      <td>musculus</td>\n",
       "      <td>Mus musculus</td>\n",
       "      <td>Rrh protein</td>\n",
       "      <td>SRTEHSVIAAYLIVAGITSILSNVVVLGIFIKYKELRTPTNAVIIN...</td>\n",
       "      <td>Ramirez et al 2016</td>\n",
       "    </tr>\n",
       "    <tr>\n",
       "      <th>3</th>\n",
       "      <td>M3YAY1</td>\n",
       "      <td>Chordata</td>\n",
       "      <td>Craniata</td>\n",
       "      <td>Mammalia</td>\n",
       "      <td>Mustela</td>\n",
       "      <td>putorius furo</td>\n",
       "      <td>Mustela putorius furo</td>\n",
       "      <td>Uncharacterized protein</td>\n",
       "      <td>SQTEHNIVAAYLITAGIISIFSNLIVLGIFIKYKELRTPTNAIIIN...</td>\n",
       "      <td>Ramirez et al 2016</td>\n",
       "    </tr>\n",
       "    <tr>\n",
       "      <th>4</th>\n",
       "      <td>G1PJY3</td>\n",
       "      <td>Chordata</td>\n",
       "      <td>Craniata</td>\n",
       "      <td>Mammalia</td>\n",
       "      <td>Myotis</td>\n",
       "      <td>lucifugus</td>\n",
       "      <td>Myotis lucifugus</td>\n",
       "      <td>Uncharacterized protein</td>\n",
       "      <td>SQTEHNIVATYLIMAGMISLLSNIIVLGIFITYKELRTPTNAIIIN...</td>\n",
       "      <td>Ramirez et al 2016</td>\n",
       "    </tr>\n",
       "  </tbody>\n",
       "</table>\n",
       "</div>"
      ],
      "text/plain": [
       "    Accession    Phylum Subphylum        Class    Genus        Species  \\\n",
       "0      U3IU26  Chordata  Craniata         Aves     Anas  platyrhynchos   \n",
       "1  A0A0R4IEG0  Chordata  Craniata  Actinopteri    Danio          rerio   \n",
       "2      Q80XL3  Chordata  Craniata     Mammalia      Mus       musculus   \n",
       "3      M3YAY1  Chordata  Craniata     Mammalia  Mustela  putorius furo   \n",
       "4      G1PJY3  Chordata  Craniata     Mammalia   Myotis      lucifugus   \n",
       "\n",
       "            Full_Species         Gene_Description  \\\n",
       "0     Anas platyrhynchos  Uncharacterized protein   \n",
       "1            Danio rerio              Novopsin-10   \n",
       "2           Mus musculus              Rrh protein   \n",
       "3  Mustela putorius furo  Uncharacterized protein   \n",
       "4       Myotis lucifugus  Uncharacterized protein   \n",
       "\n",
       "                                             Protein              source  \n",
       "0  TQTEHNIVAAYLITAGVISIFSNIVVLGIFVKYKELRTATNAIIIN...  Ramirez et al 2016  \n",
       "1  SPSADLSIAVFLIITGVVSVFGNGLVLLVYGQRRKKLRAHELMTIN...  Ramirez et al 2016  \n",
       "2  SRTEHSVIAAYLIVAGITSILSNVVVLGIFIKYKELRTPTNAVIIN...  Ramirez et al 2016  \n",
       "3  SQTEHNIVAAYLITAGIISIFSNLIVLGIFIKYKELRTPTNAIIIN...  Ramirez et al 2016  \n",
       "4  SQTEHNIVATYLIMAGMISLLSNIIVLGIFITYKELRTPTNAIIIN...  Ramirez et al 2016  "
      ]
     },
     "execution_count": 56,
     "metadata": {},
     "output_type": "execute_result"
    }
   ],
   "source": [
    "#make a merged df of all the accessory seq dbs, filter out reedundant datapoints, then append to the end of the NCBI query sheet?\n",
    "data = {'Accession': acc_list, 'Phylum': phylum_list, 'Subphylum': subphylum_list, 'Class': class_list,'Genus': gn_list, 'Species': sp_list, 'Full_Species': db_sp_list, 'Gene_Description': prot_descriptions, 'Protein' : sequence_list, 'source' : source_list} \n",
    "#data = {'Accession': acc_list, 'Genus': gn_list, 'Species': sp_list, 'Full_Species': db_sp_list, 'Gene_Description': prot_descriptions, 'Protein' : sequence_list, 'source' : source_list} \n",
    "\n",
    "acc_seq_db_df = pd.DataFrame(data)\n",
    "acc_seq_db_df.head()"
   ]
  },
  {
   "cell_type": "code",
   "execution_count": 57,
   "metadata": {},
   "outputs": [
    {
     "data": {
      "text/plain": [
       "(2226, 10)"
      ]
     },
     "execution_count": 57,
     "metadata": {},
     "output_type": "execute_result"
    }
   ],
   "source": [
    "acc_seq_db_df.shape"
   ]
  },
  {
   "cell_type": "code",
   "execution_count": 58,
   "metadata": {},
   "outputs": [
    {
     "data": {
      "text/plain": [
       "(2215, 10)"
      ]
     },
     "execution_count": 58,
     "metadata": {},
     "output_type": "execute_result"
    }
   ],
   "source": [
    "acc_seq_db_df_filtered = acc_seq_db_df.copy()\n",
    "acc_seq_db_df_filtered.drop_duplicates(subset=['Full_Species', 'Protein'],  keep='first', inplace=True)\n",
    "acc_seq_db_df_filtered=acc_seq_db_df_filtered.reset_index(drop=True)\n",
    "acc_seq_db_df_filtered.shape"
   ]
  },
  {
   "cell_type": "code",
   "execution_count": 59,
   "metadata": {},
   "outputs": [
    {
     "data": {
      "text/plain": [
       "87"
      ]
     },
     "execution_count": 59,
     "metadata": {},
     "output_type": "execute_result"
    }
   ],
   "source": [
    "len(set(acc_seq_db_df_filtered['Full_Species'].to_list()))"
   ]
  },
  {
   "cell_type": "code",
   "execution_count": 60,
   "metadata": {},
   "outputs": [],
   "source": [
    "acc_seq_db_df_filtered.to_csv(f'{report_dir2}/vpod_comp_accessory_seq_dbs.csv')"
   ]
  },
  {
   "cell_type": "code",
   "execution_count": 61,
   "metadata": {},
   "outputs": [],
   "source": [
    "fasta_file = f'./{report_dir2}/acc_db_seqs.fasta'\n",
    "with open(fasta_file, 'w') as f:\n",
    "    for id, seq in zip(acc_seq_db_df_filtered['Accession'], acc_seq_db_df_filtered['Protein']):\n",
    "        f.write(f'>{id}\\n{seq}\\n')"
   ]
  },
  {
   "cell_type": "markdown",
   "metadata": {},
   "source": [
    "### <font color=#c994c7>Merge the Formated Accessory Sequence DBs w/the Mined NCBI Data</font>"
   ]
  },
  {
   "cell_type": "code",
   "execution_count": 62,
   "metadata": {},
   "outputs": [
    {
     "data": {
      "application/vnd.microsoft.datawrangler.viewer.v0+json": {
       "columns": [
        {
         "name": "index",
         "rawType": "int64",
         "type": "integer"
        },
        {
         "name": "Accession",
         "rawType": "object",
         "type": "string"
        },
        {
         "name": "Phylum",
         "rawType": "object",
         "type": "string"
        },
        {
         "name": "Subphylum",
         "rawType": "object",
         "type": "string"
        },
        {
         "name": "Class",
         "rawType": "object",
         "type": "string"
        },
        {
         "name": "Genus",
         "rawType": "object",
         "type": "string"
        },
        {
         "name": "Species",
         "rawType": "object",
         "type": "string"
        },
        {
         "name": "Full_Species",
         "rawType": "object",
         "type": "string"
        },
        {
         "name": "DNA",
         "rawType": "object",
         "type": "string"
        },
        {
         "name": "Protein",
         "rawType": "object",
         "type": "string"
        },
        {
         "name": "Gene_Description",
         "rawType": "object",
         "type": "string"
        },
        {
         "name": "Species_Synonym_Used",
         "rawType": "object",
         "type": "string"
        },
        {
         "name": "Prot_Len",
         "rawType": "int64",
         "type": "integer"
        }
       ],
       "conversionMethod": "pd.DataFrame",
       "ref": "8790f51d-a2ee-4538-bd62-9c9181d18ada",
       "rows": [
        [
         "0",
         "NM_001310048.1",
         "Chordata",
         "Craniata",
         "Aves",
         "Columba",
         "livia",
         "Columba livia",
         "GTCCGCCGCCATGCAGAGGGCGCGTGAGGCGCGTGACGAGCTCCCCGACGACTTCTACATCCCCATGGCGCTGGACGCGCCCAACCTGACGGCGCTGAGCCCGTTCCTGGTGCCGCAGACGCACCTGGGCAGCCCCGGCGTGTTCCGCGGCATGGCGGCGTTCATGCTGGCGCTGATCGCGCTGGGGGGGCCCATCAACGCGCTCACCATCGCCTGCACCGCGCGCTACAAGAAGCTGCGCTCGCACCTCAACTACATCCTGGTGAACCTGGCGGCCGCCAACCTGCTGGTGATCTGCGTGGGCTCCACCACCGCCTTCTACAGCTTCTCGCAGATGTACTTCGCGCTGGGGCCCACGGCGTGCAAGATCGAGGGCTTCGCCGCCACGCTCGGGGGCATGGTGTCGCTGTGGTCGCTGGCCGTGGTGGCCTTCGAGCGGTTCCTGGTGATCTGCAAGCCGCTGGGCAACTTCACGTTCCGCGGCAGCCACGCGGTGCTGGGCTGCGCCGCCACCTGGATCTTCGGCCTCGTGGCCGCCGTGCCGCCGCTCTTCGGCTGGAGCAGGTACATCCCCGAGGGGCTGCAGTGCTCGTGCGGGCCCGACTGGTACACGGCCAACAACAAGTGGAACAACGAGTCCTACGTCATCTTCCTCTTCTGCTTCTGCTTCGGGGTCCCCCTGGCCCTCATCGTCTTCTCCTACGGACGCCTGCTGCTCACGCTCCGCGCGGTGGCCCGGCAGCAGGAACAGTCGGCCAGCACGCAGAAGGCGGAGCGCGAGGTGACCAAGATGGTGGTGGTGATGGTGCTGGGCTTCCTGGTGTGCTGGGCGCCCTACTCGGCCTTCGCGCTCTGGGTGGTGACGCACCGCGGCCGCCCCTTCGACGTGGGGCTGGCGTCCATCCCCTCCGTGTTCTCCAAGGCCTCCACCGTCTACAACCCCGTCATCTACGTCTTCATGAACAAACAGTTCCGCTCGTGCATGCTGAAGCTGCTGTTCTGCGGGCGCAGCCCGTTCGGGGACGAGGACGACGTGTCGGGCTCCTCCCAGGCCACCCAGGTGTCCTCCGTGGGCTCCGCCTCCGCCAGCCAGGTGGCCCCGGCATAGGACCCACGGCCACCTCTGCCCCATGG",
         "MQRAREARDELPDDFYIPMALDAPNLTALSPFLVPQTHLGSPGVFRGMAAFMLALIALGGPINALTIACTARYKKLRSHLNYILVNLAAANLLVICVGSTTAFYSFSQMYFALGPTACKIEGFAATLGGMVSLWSLAVVAFERFLVICKPLGNFTFRGSHAVLGCAATWIFGLVAAVPPLFGWSRYIPEGLQCSCGPDWYTANNKWNNESYVIFLFCFCFGVPLALIVFSYGRLLLTLRAVARQQEQSASTQKAEREVTKMVVVMVLGFLVCWAPYSAFALWVVTHRGRPFDVGLASIPSVFSKASTVYNPVIYVFMNKQFRSCMLKLLFCGRSPFGDEDDVSGSSQATQVSSVGSASASQVAPA",
         "Columba livia blue-sensitive opsin (OPN2SW), mRNA",
         "NA",
         "365"
        ],
        [
         "1",
         "NM_001310049.1",
         "Chordata",
         "Craniata",
         "Aves",
         "Columba",
         "livia",
         "Columba livia",
         "TACCATTGGCAGGATGAATGGGACAGAAGGTATCAATTTTTACGTGCCTATGTCCAACAAGACAGGGGTGGTGCGAAGCCCCTTCGAGTATCCCCAGTACTACCTGGCCGAGCCCTGGAAATACCGCGTCGTGTGCTGCTACATCTTCTTCCTCATCTCCACCGGTTTGCCCATCAACCTCCTCACCCTCCTGGTCACCTTCAAACACAAGAAGCTCCGGCAGCCGCTCAACTACATCCTGGTCAACTTGGCGGTGGCCGACCTCTTCATGGCCTGTTTTGGCTTCACCGTCACCTTCTACACTGCCTGGAACGGTTACTTCGTCTTCGGGCCTGTCGGCTGTGCCGTTGAGGGCTTCTTCGCCACGCTGGGAGGTCAAGTCGCTCTGTGGTCCCTGGTCGTCTTGGCCATCGAGCGCTACATTGTCGTCTGCAAACCCATGGGAAACTTCCGCTTCTCCGCATCCCACGCCATGATGGGCATTGCTTTCACCTGGATAATGGCCTTTTCCTGCGCCGCTCCCCCACTCTTCGGCTGGTCCAGATACATGCCCGAGGGGATGCAGTGCTCCTGCGGCCCCGACTACTACACCCACAACCCCGACTACCACAACGAGTCCTACGTCCTCTACATGTTCATCATCCACTTCATCATCCCAGTCGTGGTAATTTTCTTCTCCTACGGGCGCCTCATCTGCAAAGTCCGAGAGGCAGCCGCCCAGCAGCAGGAGTCGGCCACGACCCAGAAGGCCGAGAAGGAGGTGACGCGGATGGTGATCCTGATGGTGCTGGGGTTCATGCTGGCCTGGACGCCCTACGCCGTGGTGGCGTTCTGGATCTTCACCAACAAGGGCGCAGACTTCACCGCCACGCTCATGGCCGTGCCTGCCTTCTTCTCCAAGAGCTCCTCCCTCTACAACCCCATCATCTATGTCCTCATGAACAAGCAGTTCCGCAACTGCATGATCACCACAATCTGCTGCGGCAAGAACCCCTTTGGGGATGAAGATGTCTCCTCCACCGTATCCCAGAGCAAAACCGAGGTCTCCTCTGTCTCTTCCAGCCAAGTATCACCTGCATAGACCATGGACAGTTTGAACTGGG",
         "MNGTEGINFYVPMSNKTGVVRSPFEYPQYYLAEPWKYRVVCCYIFFLISTGLPINLLTLLVTFKHKKLRQPLNYILVNLAVADLFMACFGFTVTFYTAWNGYFVFGPVGCAVEGFFATLGGQVALWSLVVLAIERYIVVCKPMGNFRFSASHAMMGIAFTWIMAFSCAAPPLFGWSRYMPEGMQCSCGPDYYTHNPDYHNESYVLYMFIIHFIIPVVVIFFSYGRLICKVREAAAQQQESATTQKAEKEVTRMVILMVLGFMLAWTPYAVVAFWIFTNKGADFTATLMAVPAFFSKSSSLYNPIIYVLMNKQFRNCMITTICCGKNPFGDEDVSSTVSQSKTEVSSVSSSQVSPA",
         "Columba livia rhodopsin (opsin 2, rod pigment) (retinitis pigmentosa 4, autosomal dominant) (OPN1MSW), mRNA",
         "NA",
         "355"
        ],
        [
         "2",
         "NM_001282821.1",
         "Chordata",
         "Craniata",
         "Aves",
         "Columba",
         "livia",
         "Columba livia",
         "ATGTCGGGTGACGAGGAGTTTTACCTTTTCAAGAATGGGTCCTCGGTGGGACCCTGGGACGGTCCCCAATATCACATCGCCCCCCCTTGGGCCTTTTACCTCCAAACCGCCTTCATGGGCTTCGTGTTCCTGGTGGGGACCCCCTTCAACGCCATCGTCCTGGTGGTCACCATCAAGTACAAGAAGCTGAGGCAACCGCTCAACTACATCCTGGTGAACATCTCCTTCAGCGGCTTCATCTCCTGCATCTTCAGCGTCTTCACCGTCTTTGTCTCCAGCTCCCAGGGTTACTTCATCTTCGGCAAGGACATGTGTGCCTTGGAGGCCTTCGTGGGGGCCACCGGAGGGCTGGTGACAGGTTGGTCCTTGGCCTTCCTGGCCTTCGAGCGCTACATCGTCATCTGCAAACCCTTCGGGAACTTCCGCTTCAACTCCAAACACGCCCTCATGGCGGTGGTGGCCACCTGGGTCATCGGCCTGGGTGTCGCCCTCCCCCCCTGGTTCGGCTGGAGCAGGTATGTCCCCGAGGGGCTGCAGTGCTCCTGCGGCCCCGACTGGTACACGGTGGGCACCAAGTACAAGAGCGAGTACTACACCTGGTTCCTCTTCATCTTCTGCTTCATCGTCCCCCTCTCCCTCATCATCTTCTCCTACTCCCAGCTGCTCAGCGCCCTGCGGGCCGTGGCGGCGCAGCAGCAGGAGTCGGCCACCACGCAGAAGGCGGAGCGGGAGGTGTCGCGCATGGTGGTGGTGATGGTGGGGTCCTTCTGCCTCTGCTACGTCCCCTACGCCGCCCTGGCCATGTACATGGTCAACAACCGCAACCACGGCCTGGACCTGCGCCTGGTCACCATCCCCGCCTTCTTCTCCAAGAGCTCCTGTGTCTACAACCCCATCATCTACTGCTTCATGAACAAACAGTTCCGCGCCTGCATCCTGGAGCTGGTGTGCGGGCGGCCCATGACGGACGACTCGGACGTGTCCAGCTCGGCCCAGCGCACCGAGGTCTCCTCCGTGTCCTCCAGCCAGGTCAGCCCCAGCTGA",
         "MSGDEEFYLFKNGSSVGPWDGPQYHIAPPWAFYLQTAFMGFVFLVGTPFNAIVLVVTIKYKKLRQPLNYILVNISFSGFISCIFSVFTVFVSSSQGYFIFGKDMCALEAFVGATGGLVTGWSLAFLAFERYIVICKPFGNFRFNSKHALMAVVATWVIGLGVALPPWFGWSRYVPEGLQCSCGPDWYTVGTKYKSEYYTWFLFIFCFIVPLSLIIFSYSQLLSALRAVAAQQQESATTQKAEREVSRMVVVMVGSFCLCYVPYAALAMYMVNNRNHGLDLRLVTIPAFFSKSSCVYNPIIYCFMNKQFRACILELVCGRPMTDDSDVSSSAQRTEVSSVSSSQVSPS",
         "Columba livia opsin 1, short wave sensitive (OPN1SW), mRNA",
         "NA",
         "347"
        ],
        [
         "3",
         "XM_065067775.1",
         "Chordata",
         "Craniata",
         "Aves",
         "Columba",
         "livia",
         "Columba livia",
         "TCTTGGAGCCCCGACACCTTAACAGAAGGAACTGTGTGCTGCCCTCCTGCTGAAGAAGCTGACTGGCTCCTCGCATTGGCCCGCTAGAAAGAATTCTGCCTCCTTTGTGATCAGCTGTGGCAGCAAGCCATAAATATAGAATAACAAGGCCCCATGTTGTGCTGCAGCCTCTACGGACAAGTCCAGAACAGCAAGGATTTACACATATTTATCTATCAGACATTTCATTTTCTCCAGAGTCCCAAAAAGCAACTCAAGTTTGCAAGTCTCAGTCAAGTTTACTGAACGGTAACTGAAAACAGAGTCAGTTGTGGTTTAGCTGTTTTGTCATAGGCAGTAGACAAGCATTCCTTTAGGGAGAACAAAAAGCATTTTAAGAAGGCAGGGTGCATTAAACCTTCCTGTTTCCCTCTATTCTAGTGTTTCCATAAGGACACACTTAAACCTGCTGGAAGGAAATACACTAATACAGAGCAGCTTCTAACTTCATAACTTCTAGCCACCAACTCTACTGAGGCAAATGATAGAGTAGGATTTAGAAAAGGATTACACCTGCATATGGAGGATAAAAATATCCTCCACTAAGATTATCCTTTCAAAGGGATAACAACCCTGTTTTAGGGTAAAACCCAACTGCTGAGAGTCTATTCTGAAAATGAAATTCCCACGTGACTGTTCATCATTCGTGTTTCACAGCTCTGTGAAACAGCCAGTCATGCCTAACGACAGGTTAGTGTTTTGTCAGGAATGCTGGTCTGAATCAGTGTGGCACTTCCCAAGTTCCTTACCACACCAAAATTGTTCGTTTGTTTACGCAAAACTACAGTGTAAATAAATAATAAATAGTAAATGACATGCCTATTAGAGTTTAAAAACACAAATTATTTTACAGGACTAGAAAAAGACCAGTTTTCATATATACCTGAACAATATTATAAAACTTGCTTTTAAGGTTGACTAAAATGCCATCCTTGGTTAGAAAGTATGTTCTTCAACTGACCCTTGGTACTTACTGTGAAGACATTTTGTTACATTACAGTTACTACCTTGATGTCTTCCACAGTTTCCATGACTGTTTTCTTTGCTTGCTTGGGAAATGTGCGTTATTGATACTGACTGTTAGGAAGTTGGTGCTTCCCAAAGAATTGTTTCCTACAGAATTAATACCAGTCTAAGCCACCCACAGCACAGTAGGCCCGTGAATATACTGGCACCCAGTGGTCCAAAGCCTCAGGTACAAGCATCTTCTATTTGTTCACTCAGGAAAGCTGTAGTCCACTGTCCATCTACTGGAAAATGTCCAAAATTTAGCTTCCAGTTCAGTTTCTTTGTGCATCTGGTGATATTTTGAACCATGTTACATTAAATAAACTGTGGTGTTTTATCACATGGGGGAGAAATAATGAAGTGCTGCTTTTGCCTGTTCATTTTTCTTTATTCTGAGGTGTTTATAGAAAGAAGGCTGAACAGAAAAACATGCATGGCAACAATGCTATGTGTTATCAGTGCCACTGAAATAGTTGTTCAGAGTATCCTCAAAGGACAGTTGCTACAGTGGGGATGGCAGCAGTGGGATTTCTATTCTCTCTTGCCAACCAAGTACTTATACAACAGAAAACAGACTAAACAAGGCTAATCTGCTGGAGAAACTGAACAGATGACGGTGCAAGATGTTCCTGGTGCCTTTCCTACAGTGGATGTCCCAGACCATGCCCATTATACAATTGGAGTAGTCATTCTTCTAGTGGGGATCACAGGAACTCTGGGTAATTTCCTGGTCATCTACGTTTTCTGCAGGAGCAGGAGCCTTCAGACTCCAGCCAACGTATTCATCGTCAATCTAGCTATTAGTGACTTCCTGATGTCTATTACGCAGTCTCCAGTTTTTTTCACCAATAGCCTCCACAAACGCTGGATTTTTGGTGAGAAAGGCTGTGAGCTGTATGCCTTCTGCGGAGCTCTTTTTGGCATTACATCTATGATTACTTTGATGGTGATTGCCTTGGACAGATATTTTGTCATCACAAAGCCTCTGTCTTCTGTTGGAGTGACGTCTAAGAAGAAGGCCCTAATAATCCTGGTAGGAGTCTGGCTGTACTCTTTGGCTTGGAGCCTCCCACCCTTCTTTGGATGGAGTGCGTATGTTCCTGAGGGTTTGCTGACTTCCTGTTCATGGGACTACATGACTTTCACACCATCAGTCCGCGCCTACACGATGCTTCTTTTCTGCTTTGTCTTTTTCATTCCTTTGATTGCTATCATATACAGCTACATCTTTATATTTGAGGCTATCAAGAAGGCCAACAAGTCTATCCAGACATTTGGATGCAAACATGGAAATAAAGAATGCCAGAAACAGTATCAGAGGATGAAAAATGAGTGGAAGATGGCCAAAATTGCACTGATTGTCATCTTGCTTTACGTCATCTCATGGTCACCATACTCTATTGTTGCTCTGGTAGCTTTTGCTGGGTATTCTCATGTCCTAACACCGTTCATGAACTCTATACCAGCCGTGATTGCCAAAGCTTCTGTCATCCATAACCCAATAATTTATGCCATCACTCACCCCAAATACAGAAGAGCCATTGCAACATATGTTCCTTGCCTTGGATCCCTGCTGAGAGTTTCTCCTAAAGACTCACGGTCTTTCAGCAGTTATACCTCCTCCCGACGAGCAACTGTAACCAGCCAGTCTTCTCAGATAAGTGGGCTGCAGAAAGGAAGAAGGCGACTGTCTTCTCTCCCTAACAGTGAATCAGACTGTACTGACACAGAAACCGATACCCTCAGTGTGTTCTCCAGACTTGCTAGCAGGCAGATTTCCTATGAAACAGATAAAGACACAACTCAAACTAGTGACCTAAGAGCCAAACCTAAACTGAAGAGCCATGATTCTGGGATATATCAGAAGACACCTGTAGATATTGAAGACATATCCATGGAGGAACTGAATGCCACAGAGTACACTACTACACCTACTAGAGGTGAAAACCTGAATGGTATCGAACAAAGAAAAGGAGAGTCTCACCACAGACCATCAGCAGCCCAGATACCCAGCATTACAATAACGTACAGCAATATCCAAGGAGCAGAGCTGCCCTCTGGATACAACTCTGGTTTCCTGTATCCAAAGATCAACAGCCATAAGCAGAACAAGAAGTCCAACAGCTAAGTGAGTGGTGAAAGCCAGAACGCCATATCAGCCAATACCTCTGGAACAGCTATGGGCCAGCTGAATCCAGAACACCTCCCTACATTGTTCTGAAATGCTCCTACACAGACACAAGACAAGCAAGGAGAAAAGCAAGGGGAGTAAGCTTTTCAGCATCAGAGTTCTCTCCAGTCGCTCACTTCTTGAACCGAGTCTCATTGTAATTTTGTTATCTCTTTATGCAGCTCATGAACCAATTTCTTCCACTTGGATTTTACTCTGCTCAGGTATATTCCACCACTGCATGGATCTAACCTACAAGCCTCCTAGGATTAACTTGAGAGGAAAAGGAAATATGAGATTCAAAACTGACCTTTGTTCACTTAGTGCAGTTTTAACTTCAAGGCTATTACAGAGCTAAAGCTGATATATTTGGGGAAAAACATACATTGCTCCCTGAAGACGATTTCTTCATTGTTGTGAAGTTCCTCAACCAAATGGAAACCTAATCACAGAGTCTGTGCTCCCTTCTCTCATAAATGACACATTTTCGCTAATTTTCTTCTACAATCCAATTAAAAGGCAATGCACTCGGGCAGTAATTTGAAGTCTCAGATCTTTATTTTAATTTCTGAGATTCTGGGGGAAGAGAAAGGAATAACACTGAGGACGGGGCTATGGTCCTTTCCATGCTTTTCCAATGGTTGCTTAGAGACCAGTATAACCTGCTCTTAGCTAACCTCCCCAGAGCTACAGGCAAGTATTAGGAAACTCCTTCTGACTTTCCTTTAGGAGGTTTCATAAGAAGAATGCAGAATTCAAAGCAGCATTTATACTGAGATGTCTTATGGTTAAGTCAATAAATCTGCCTTCTCACACCGCAAATTGGTTTACATTTAGATGTGCTTTTCAAAAGTACATCTTGGGAGAAGAAGGGTTAGTTCCCCCAAAACAGTTGTTCTAGAGATGAGTGGAATCTGCACTGTCTCCACTTTAGCATTGTAATAGAAAAGAGATGGAAAGGAGCTATTACAGTTCTTCCCTTCACCTACCACAACTGGATATTGTCTCCAGGCAGAGGGCAATATTAAACTGATAATATATACAGCTCGCGATAAGGAGAAAGAAGGGAGAAAAAATACCATCTTCAAACAGGAAGGGTGTTCAAAGATACTCAGCAAGTCTAAGGAATTTTATTAGGACGTACTGCTTAGGCTTTTAAAATTATTTAAAAACATAAAGCATGTAATTCTTCCCACTCTTTATCATGAAGGCTATTCACACCAGTCAAAACTGGGAACAAATGCTAGTGAATGCTGCCTATTTCATACAAGTCAAAAAAGGCTGAACCTCTCAAGAAAATAGGTCAAAACTCACACATGCTGTTTTGTGTGTTAATAAGATGTGCATGGTATGTACCCTTAAAAGCTAGACCCTTTGCTCCTGTCATGATTTTGTTCCAAATAGTATTCTTGAAGACTATTCTCTGCACTCTTGCATTCCCTTCCACTTTTAGAGGACATAAAAAGAATGCTTCCATGGCTAGAAAAGCCTTACAAATCCACAGCACGTTGTTCTCTATATCCTCCAACTCCAACACGTACTGGAGATTAGTTTGTATCTATAAAAAGAACTACAGCTGTTCACGCTCATCTACTTACAAGACGCTTGAAAAACCACATATTAATTAGAGAGAATTTGTTTGGGAGCACTTCAAAACTCGTGTGTGTACTCCCTGTGTAGCTAACAGCTTTGCCTTTACCTCTACTGAGACTATAAAAATCGTTCAGGAGAAAGCCTACAAAATTCATTTCACCTGAATAACTCTCTAAGTGATTCACATTGTAACCCCAGTGGCATTTGAAATAAATCATTATTAGTTCATATTTCAACTCA",
         "MTVQDVPGAFPTVDVPDHAHYTIGVVILLVGITGTLGNFLVIYVFCRSRSLQTPANVFIVNLAISDFLMSITQSPVFFTNSLHKRWIFGEKGCELYAFCGALFGITSMITLMVIALDRYFVITKPLSSVGVTSKKKALIILVGVWLYSLAWSLPPFFGWSAYVPEGLLTSCSWDYMTFTPSVRAYTMLLFCFVFFIPLIAIIYSYIFIFEAIKKANKSIQTFGCKHGNKECQKQYQRMKNEWKMAKIALIVILLYVISWSPYSIVALVAFAGYSHVLTPFMNSIPAVIAKASVIHNPIIYAITHPKYRRAIATYVPCLGSLLRVSPKDSRSFSSYTSSRRATVTSQSSQISGLQKGRRRLSSLPNSESDCTDTETDTLSVFSRLASRQISYETDKDTTQTSDLRAKPKLKSHDSGIYQKTPVDIEDISMEELNATEYTTTPTRGENLNGIEQRKGESHHRPSAAQIPSITITYSNIQGAELPSGYNSGFLYPKINSHKQNKKSNS",
         "PREDICTED: Columba livia opsin 4 (OPN4), transcript variant X9, mRNA",
         "NA",
         "505"
        ],
        [
         "4",
         "XM_065067773.1",
         "Chordata",
         "Craniata",
         "Aves",
         "Columba",
         "livia",
         "Columba livia",
         "",
         "MDLPLGAPTMTVQDVPGAFPTVDVPDHAHYTIGVVILLVGITGTLGNFLVIYVFCRSRSLQTPANVFIVNLAISDFLMSITQSPVFFTNSLHKRWIFGEKGCELYAFCGALFGITSMITLMVIALDRYFVITKPLSSVGVTSKKKALIILVGVWLYSLAWSLPPFFGWSAYVPEGLLTSCSWDYMTFTPSVRAYTMLLFCFVFFIPLIAIIYSYIFIFEAIKKANKSIQTFGCKHGNKECQKQYQRMKNEWKMAKIALIVILLYVISWSPYSIVALVAFAGYSHVLTPFMNSIPAVIAKASVIHNPIIYAITHPKYRRAIATYVPCLGSLLRVSPKDSRSFSSYTSSRRATVTSQSSQISGLQKGRRRLSSLPNSESDCTDTETDTLSVFSRLASRQISYETDKDTTQTSDLRAKPKLKSHDSGIYQKTPVDIEDISMEELNATEYTTTPTRGENLNGIEQRKGESHHRPSAAQIPSITITYSNIQGAELPSGYNSGFLYPKINSHKQNKKSNS",
         "PREDICTED: Columba livia opsin 4 (OPN4), transcript variant X7, mRNA",
         "NA",
         "514"
        ]
       ],
       "shape": {
        "columns": 12,
        "rows": 5
       }
      },
      "text/html": [
       "<div>\n",
       "<style scoped>\n",
       "    .dataframe tbody tr th:only-of-type {\n",
       "        vertical-align: middle;\n",
       "    }\n",
       "\n",
       "    .dataframe tbody tr th {\n",
       "        vertical-align: top;\n",
       "    }\n",
       "\n",
       "    .dataframe thead th {\n",
       "        text-align: right;\n",
       "    }\n",
       "</style>\n",
       "<table border=\"1\" class=\"dataframe\">\n",
       "  <thead>\n",
       "    <tr style=\"text-align: right;\">\n",
       "      <th></th>\n",
       "      <th>Accession</th>\n",
       "      <th>Phylum</th>\n",
       "      <th>Subphylum</th>\n",
       "      <th>Class</th>\n",
       "      <th>Genus</th>\n",
       "      <th>Species</th>\n",
       "      <th>Full_Species</th>\n",
       "      <th>DNA</th>\n",
       "      <th>Protein</th>\n",
       "      <th>Gene_Description</th>\n",
       "      <th>Species_Synonym_Used</th>\n",
       "      <th>Prot_Len</th>\n",
       "    </tr>\n",
       "  </thead>\n",
       "  <tbody>\n",
       "    <tr>\n",
       "      <th>0</th>\n",
       "      <td>NM_001310048.1</td>\n",
       "      <td>Chordata</td>\n",
       "      <td>Craniata</td>\n",
       "      <td>Aves</td>\n",
       "      <td>Columba</td>\n",
       "      <td>livia</td>\n",
       "      <td>Columba livia</td>\n",
       "      <td>GTCCGCCGCCATGCAGAGGGCGCGTGAGGCGCGTGACGAGCTCCCC...</td>\n",
       "      <td>MQRAREARDELPDDFYIPMALDAPNLTALSPFLVPQTHLGSPGVFR...</td>\n",
       "      <td>Columba livia blue-sensitive opsin (OPN2SW), mRNA</td>\n",
       "      <td>NA</td>\n",
       "      <td>365</td>\n",
       "    </tr>\n",
       "    <tr>\n",
       "      <th>1</th>\n",
       "      <td>NM_001310049.1</td>\n",
       "      <td>Chordata</td>\n",
       "      <td>Craniata</td>\n",
       "      <td>Aves</td>\n",
       "      <td>Columba</td>\n",
       "      <td>livia</td>\n",
       "      <td>Columba livia</td>\n",
       "      <td>TACCATTGGCAGGATGAATGGGACAGAAGGTATCAATTTTTACGTG...</td>\n",
       "      <td>MNGTEGINFYVPMSNKTGVVRSPFEYPQYYLAEPWKYRVVCCYIFF...</td>\n",
       "      <td>Columba livia rhodopsin (opsin 2, rod pigment)...</td>\n",
       "      <td>NA</td>\n",
       "      <td>355</td>\n",
       "    </tr>\n",
       "    <tr>\n",
       "      <th>2</th>\n",
       "      <td>NM_001282821.1</td>\n",
       "      <td>Chordata</td>\n",
       "      <td>Craniata</td>\n",
       "      <td>Aves</td>\n",
       "      <td>Columba</td>\n",
       "      <td>livia</td>\n",
       "      <td>Columba livia</td>\n",
       "      <td>ATGTCGGGTGACGAGGAGTTTTACCTTTTCAAGAATGGGTCCTCGG...</td>\n",
       "      <td>MSGDEEFYLFKNGSSVGPWDGPQYHIAPPWAFYLQTAFMGFVFLVG...</td>\n",
       "      <td>Columba livia opsin 1, short wave sensitive (O...</td>\n",
       "      <td>NA</td>\n",
       "      <td>347</td>\n",
       "    </tr>\n",
       "    <tr>\n",
       "      <th>3</th>\n",
       "      <td>XM_065067775.1</td>\n",
       "      <td>Chordata</td>\n",
       "      <td>Craniata</td>\n",
       "      <td>Aves</td>\n",
       "      <td>Columba</td>\n",
       "      <td>livia</td>\n",
       "      <td>Columba livia</td>\n",
       "      <td>TCTTGGAGCCCCGACACCTTAACAGAAGGAACTGTGTGCTGCCCTC...</td>\n",
       "      <td>MTVQDVPGAFPTVDVPDHAHYTIGVVILLVGITGTLGNFLVIYVFC...</td>\n",
       "      <td>PREDICTED: Columba livia opsin 4 (OPN4), trans...</td>\n",
       "      <td>NA</td>\n",
       "      <td>505</td>\n",
       "    </tr>\n",
       "    <tr>\n",
       "      <th>4</th>\n",
       "      <td>XM_065067773.1</td>\n",
       "      <td>Chordata</td>\n",
       "      <td>Craniata</td>\n",
       "      <td>Aves</td>\n",
       "      <td>Columba</td>\n",
       "      <td>livia</td>\n",
       "      <td>Columba livia</td>\n",
       "      <td></td>\n",
       "      <td>MDLPLGAPTMTVQDVPGAFPTVDVPDHAHYTIGVVILLVGITGTLG...</td>\n",
       "      <td>PREDICTED: Columba livia opsin 4 (OPN4), trans...</td>\n",
       "      <td>NA</td>\n",
       "      <td>514</td>\n",
       "    </tr>\n",
       "  </tbody>\n",
       "</table>\n",
       "</div>"
      ],
      "text/plain": [
       "        Accession    Phylum Subphylum Class    Genus Species   Full_Species  \\\n",
       "0  NM_001310048.1  Chordata  Craniata  Aves  Columba   livia  Columba livia   \n",
       "1  NM_001310049.1  Chordata  Craniata  Aves  Columba   livia  Columba livia   \n",
       "2  NM_001282821.1  Chordata  Craniata  Aves  Columba   livia  Columba livia   \n",
       "3  XM_065067775.1  Chordata  Craniata  Aves  Columba   livia  Columba livia   \n",
       "4  XM_065067773.1  Chordata  Craniata  Aves  Columba   livia  Columba livia   \n",
       "\n",
       "                                                 DNA  \\\n",
       "0  GTCCGCCGCCATGCAGAGGGCGCGTGAGGCGCGTGACGAGCTCCCC...   \n",
       "1  TACCATTGGCAGGATGAATGGGACAGAAGGTATCAATTTTTACGTG...   \n",
       "2  ATGTCGGGTGACGAGGAGTTTTACCTTTTCAAGAATGGGTCCTCGG...   \n",
       "3  TCTTGGAGCCCCGACACCTTAACAGAAGGAACTGTGTGCTGCCCTC...   \n",
       "4                                                      \n",
       "\n",
       "                                             Protein  \\\n",
       "0  MQRAREARDELPDDFYIPMALDAPNLTALSPFLVPQTHLGSPGVFR...   \n",
       "1  MNGTEGINFYVPMSNKTGVVRSPFEYPQYYLAEPWKYRVVCCYIFF...   \n",
       "2  MSGDEEFYLFKNGSSVGPWDGPQYHIAPPWAFYLQTAFMGFVFLVG...   \n",
       "3  MTVQDVPGAFPTVDVPDHAHYTIGVVILLVGITGTLGNFLVIYVFC...   \n",
       "4  MDLPLGAPTMTVQDVPGAFPTVDVPDHAHYTIGVVILLVGITGTLG...   \n",
       "\n",
       "                                    Gene_Description Species_Synonym_Used  \\\n",
       "0  Columba livia blue-sensitive opsin (OPN2SW), mRNA                   NA   \n",
       "1  Columba livia rhodopsin (opsin 2, rod pigment)...                   NA   \n",
       "2  Columba livia opsin 1, short wave sensitive (O...                   NA   \n",
       "3  PREDICTED: Columba livia opsin 4 (OPN4), trans...                   NA   \n",
       "4  PREDICTED: Columba livia opsin 4 (OPN4), trans...                   NA   \n",
       "\n",
       "   Prot_Len  \n",
       "0       365  \n",
       "1       355  \n",
       "2       347  \n",
       "3       505  \n",
       "4       514  "
      ]
     },
     "execution_count": 62,
     "metadata": {},
     "output_type": "execute_result"
    }
   ],
   "source": [
    "ncbi_query_df.head()"
   ]
  },
  {
   "cell_type": "code",
   "execution_count": 63,
   "metadata": {},
   "outputs": [
    {
     "data": {
      "application/vnd.microsoft.datawrangler.viewer.v0+json": {
       "columns": [
        {
         "name": "index",
         "rawType": "int64",
         "type": "integer"
        },
        {
         "name": "Accession",
         "rawType": "object",
         "type": "string"
        },
        {
         "name": "Phylum",
         "rawType": "object",
         "type": "string"
        },
        {
         "name": "Subphylum",
         "rawType": "object",
         "type": "string"
        },
        {
         "name": "Class",
         "rawType": "object",
         "type": "string"
        },
        {
         "name": "Genus",
         "rawType": "object",
         "type": "string"
        },
        {
         "name": "Species",
         "rawType": "object",
         "type": "string"
        },
        {
         "name": "Full_Species",
         "rawType": "object",
         "type": "string"
        },
        {
         "name": "Gene_Description",
         "rawType": "object",
         "type": "string"
        },
        {
         "name": "Protein",
         "rawType": "object",
         "type": "string"
        }
       ],
       "conversionMethod": "pd.DataFrame",
       "ref": "c6c6825b-8d6e-4544-9e01-1c889764b7f0",
       "rows": [
        [
         "0",
         "U3IU26",
         "Chordata",
         "Craniata",
         "Aves",
         "Anas",
         "platyrhynchos",
         "Anas platyrhynchos",
         "Uncharacterized protein",
         "TQTEHNIVAAYLITAGVISIFSNIVVLGIFVKYKELRTATNAIIINLAFTDIGVSGIGYPMSAASDLHGSWKFGHTGCQKFRLTDKLCFSSRECHLLTVCCDLSLLLNRLLGLSAQKISLDQDSQWVEVDIYAALNIFFGMASIGLLTVVAVDRYLTICRPDIGRRMTTRTYATLILAAWINAVFWASMPTVGWAGYAPDPTGATCTVNWRKNDASFVSYTMSVIAVNFVVPLTVMFYCYYNVSRKMKKYTSTNCLESINTDWSDQVDVTKMSVVMIVMFLVAWSPYSIVCLWSSFGDPKKISPAMAIIAPLFAKSSTFYNPCIYVIANKKFRRAILAMV"
        ],
        [
         "1",
         "A0A0R4IEG0",
         "Chordata",
         "Craniata",
         "Actinopteri",
         "Danio",
         "rerio",
         "Danio rerio",
         "Novopsin-10",
         "SPSADLSIAVFLIITGVVSVFGNGLVLLVYGQRRKKLRAHELMTINLAVCDFGYSLLGAPCIIISSLSHAWIFGETGCIWYGIQGFVFGIGSLITTCLISLDRCFKICSFRYGQWVERKHASLSVTLVWIYTLFWASLPMFGFGSYGPEPFGTSCTINWWRMNSSLTDRIYIFLILSLCFGVPTLIIIASYLAIVIRVYWSSHILASIPSSNVTHNSKDLRLTKIAAVVCSSFLIAWTPYAIVSLYSAVMAREEQLGEDGGTAIPGGITGTGIGRGGGFPDVYAFPFLINWTSSEQFGDVFGSWRNMTSGHSHSVGHHGSNVGSGHGGTGGHHSLPESILKPEFSLIPAIFAKSHCMINPFIYQIMNRDFREDVYDLL"
        ],
        [
         "2",
         "Q80XL3",
         "Chordata",
         "Craniata",
         "Mammalia",
         "Mus",
         "musculus",
         "Mus musculus",
         "Rrh protein",
         "SRTEHSVIAAYLIVAGITSILSNVVVLGIFIKYKELRTPTNAVIINLAFTDIGVSSIGYPMSAASDLHGSWKFGHAGCQFQGRNDRQVTGCLYTCLVPHVCNAGGAKRRAVDLLKLTLQMDIYAGLNIFFGMVSIGLLTVVAMDRYLTISCPDVGRRMTTNTYLSMILGAWINGLFWALMPIIGWASYAPDPTGATCTINWRNNDTSFVSYTMMVIVVNFIVPLTVMFYCYYHVSRSLRLYAASDCTAHLHRDWADQADVTKMSVIMILMFLLAWSPYSIVCLWACFGNPKKIPPSMAIIAPLFAKSSTFYNPCIYVAAHKKFRKAMLAMF"
        ],
        [
         "3",
         "M3YAY1",
         "Chordata",
         "Craniata",
         "Mammalia",
         "Mustela",
         "putorius furo",
         "Mustela putorius furo",
         "Uncharacterized protein",
         "SQTEHNIVAAYLITAGIISIFSNLIVLGIFIKYKELRTPTNAIIINLAVTDIGVSSIGYPMSAASDLYGSWKFGYAGCQYSFNRPAHVHACVHVCVHTWCLSNTKNHSMSLKCTLAMEIYAGLNIFFGMASIGLLTVVAIDRYLTICSPDTGRRMTTNTYIGMILGAWLNGLFWALMPIIGWASYAPDPTGATCTINWRKNDASFVSFTMTVIAVNFIVPLMVMFYCYYHVTRSIKYRTTSNCTEYLNRDWSDQVDVTKMSVIMILMFLVAWSPYSIVCLWASFGDPKKIPPSMAIIAPLFAKSSTFYNPCIYVVANKKFRKAMFAMF"
        ],
        [
         "4",
         "G1PJY3",
         "Chordata",
         "Craniata",
         "Mammalia",
         "Myotis",
         "lucifugus",
         "Myotis lucifugus",
         "Uncharacterized protein",
         "SQTEHNIVATYLIMAGMISLLSNIIVLGIFITYKELRTPTNAIIINLAVTDIGVSSIGYPMSAASDLHGSWKFGYAGCQFTILSYKIIKNKYYICHLPPCNVFQYVLQIVFLFKDQLHFDNIYAGLNIFFGMASIGLLTVVAMDRYLTICHPDAGRKMTTHTYISMILGAWINGLFWALMPIIGWASYAPDPTGATCTINWRKNDVSFVSFTMTVIAINFIVPLTVMFYCYYHVTRSIKCRATSNCTEYLNRDWADQVDVTKMSVIMIFMFLVAWSPYSIVCLWASFGDPKKIPPSMAIIAPLFAKSSTFYNPCIYVVANKKFRRAMFAMF"
        ]
       ],
       "shape": {
        "columns": 9,
        "rows": 5
       }
      },
      "text/html": [
       "<div>\n",
       "<style scoped>\n",
       "    .dataframe tbody tr th:only-of-type {\n",
       "        vertical-align: middle;\n",
       "    }\n",
       "\n",
       "    .dataframe tbody tr th {\n",
       "        vertical-align: top;\n",
       "    }\n",
       "\n",
       "    .dataframe thead th {\n",
       "        text-align: right;\n",
       "    }\n",
       "</style>\n",
       "<table border=\"1\" class=\"dataframe\">\n",
       "  <thead>\n",
       "    <tr style=\"text-align: right;\">\n",
       "      <th></th>\n",
       "      <th>Accession</th>\n",
       "      <th>Phylum</th>\n",
       "      <th>Subphylum</th>\n",
       "      <th>Class</th>\n",
       "      <th>Genus</th>\n",
       "      <th>Species</th>\n",
       "      <th>Full_Species</th>\n",
       "      <th>Gene_Description</th>\n",
       "      <th>Protein</th>\n",
       "    </tr>\n",
       "  </thead>\n",
       "  <tbody>\n",
       "    <tr>\n",
       "      <th>0</th>\n",
       "      <td>U3IU26</td>\n",
       "      <td>Chordata</td>\n",
       "      <td>Craniata</td>\n",
       "      <td>Aves</td>\n",
       "      <td>Anas</td>\n",
       "      <td>platyrhynchos</td>\n",
       "      <td>Anas platyrhynchos</td>\n",
       "      <td>Uncharacterized protein</td>\n",
       "      <td>TQTEHNIVAAYLITAGVISIFSNIVVLGIFVKYKELRTATNAIIIN...</td>\n",
       "    </tr>\n",
       "    <tr>\n",
       "      <th>1</th>\n",
       "      <td>A0A0R4IEG0</td>\n",
       "      <td>Chordata</td>\n",
       "      <td>Craniata</td>\n",
       "      <td>Actinopteri</td>\n",
       "      <td>Danio</td>\n",
       "      <td>rerio</td>\n",
       "      <td>Danio rerio</td>\n",
       "      <td>Novopsin-10</td>\n",
       "      <td>SPSADLSIAVFLIITGVVSVFGNGLVLLVYGQRRKKLRAHELMTIN...</td>\n",
       "    </tr>\n",
       "    <tr>\n",
       "      <th>2</th>\n",
       "      <td>Q80XL3</td>\n",
       "      <td>Chordata</td>\n",
       "      <td>Craniata</td>\n",
       "      <td>Mammalia</td>\n",
       "      <td>Mus</td>\n",
       "      <td>musculus</td>\n",
       "      <td>Mus musculus</td>\n",
       "      <td>Rrh protein</td>\n",
       "      <td>SRTEHSVIAAYLIVAGITSILSNVVVLGIFIKYKELRTPTNAVIIN...</td>\n",
       "    </tr>\n",
       "    <tr>\n",
       "      <th>3</th>\n",
       "      <td>M3YAY1</td>\n",
       "      <td>Chordata</td>\n",
       "      <td>Craniata</td>\n",
       "      <td>Mammalia</td>\n",
       "      <td>Mustela</td>\n",
       "      <td>putorius furo</td>\n",
       "      <td>Mustela putorius furo</td>\n",
       "      <td>Uncharacterized protein</td>\n",
       "      <td>SQTEHNIVAAYLITAGIISIFSNLIVLGIFIKYKELRTPTNAIIIN...</td>\n",
       "    </tr>\n",
       "    <tr>\n",
       "      <th>4</th>\n",
       "      <td>G1PJY3</td>\n",
       "      <td>Chordata</td>\n",
       "      <td>Craniata</td>\n",
       "      <td>Mammalia</td>\n",
       "      <td>Myotis</td>\n",
       "      <td>lucifugus</td>\n",
       "      <td>Myotis lucifugus</td>\n",
       "      <td>Uncharacterized protein</td>\n",
       "      <td>SQTEHNIVATYLIMAGMISLLSNIIVLGIFITYKELRTPTNAIIIN...</td>\n",
       "    </tr>\n",
       "  </tbody>\n",
       "</table>\n",
       "</div>"
      ],
      "text/plain": [
       "    Accession    Phylum Subphylum        Class    Genus        Species  \\\n",
       "0      U3IU26  Chordata  Craniata         Aves     Anas  platyrhynchos   \n",
       "1  A0A0R4IEG0  Chordata  Craniata  Actinopteri    Danio          rerio   \n",
       "2      Q80XL3  Chordata  Craniata     Mammalia      Mus       musculus   \n",
       "3      M3YAY1  Chordata  Craniata     Mammalia  Mustela  putorius furo   \n",
       "4      G1PJY3  Chordata  Craniata     Mammalia   Myotis      lucifugus   \n",
       "\n",
       "            Full_Species         Gene_Description  \\\n",
       "0     Anas platyrhynchos  Uncharacterized protein   \n",
       "1            Danio rerio              Novopsin-10   \n",
       "2           Mus musculus              Rrh protein   \n",
       "3  Mustela putorius furo  Uncharacterized protein   \n",
       "4       Myotis lucifugus  Uncharacterized protein   \n",
       "\n",
       "                                             Protein  \n",
       "0  TQTEHNIVAAYLITAGVISIFSNIVVLGIFVKYKELRTATNAIIIN...  \n",
       "1  SPSADLSIAVFLIITGVVSVFGNGLVLLVYGQRRKKLRAHELMTIN...  \n",
       "2  SRTEHSVIAAYLIVAGITSILSNVVVLGIFIKYKELRTPTNAVIIN...  \n",
       "3  SQTEHNIVAAYLITAGIISIFSNLIVLGIFIKYKELRTPTNAIIIN...  \n",
       "4  SQTEHNIVATYLIMAGMISLLSNIIVLGIFITYKELRTPTNAIIIN...  "
      ]
     },
     "execution_count": 63,
     "metadata": {},
     "output_type": "execute_result"
    }
   ],
   "source": [
    "acc_seq_db_df_filtered.drop(columns='source', inplace =True)\n",
    "acc_seq_db_df_filtered.head()"
   ]
  },
  {
   "cell_type": "code",
   "execution_count": 64,
   "metadata": {},
   "outputs": [
    {
     "data": {
      "application/vnd.microsoft.datawrangler.viewer.v0+json": {
       "columns": [
        {
         "name": "index",
         "rawType": "int64",
         "type": "integer"
        },
        {
         "name": "Accession",
         "rawType": "object",
         "type": "string"
        },
        {
         "name": "Phylum",
         "rawType": "object",
         "type": "string"
        },
        {
         "name": "Subphylum",
         "rawType": "object",
         "type": "string"
        },
        {
         "name": "Class",
         "rawType": "object",
         "type": "string"
        },
        {
         "name": "Genus",
         "rawType": "object",
         "type": "string"
        },
        {
         "name": "Species",
         "rawType": "object",
         "type": "string"
        },
        {
         "name": "Full_Species",
         "rawType": "object",
         "type": "string"
        },
        {
         "name": "DNA",
         "rawType": "object",
         "type": "string"
        },
        {
         "name": "Protein",
         "rawType": "object",
         "type": "string"
        },
        {
         "name": "Gene_Description",
         "rawType": "object",
         "type": "string"
        },
        {
         "name": "Species_Synonym_Used",
         "rawType": "object",
         "type": "string"
        },
        {
         "name": "Prot_Len",
         "rawType": "float64",
         "type": "float"
        }
       ],
       "conversionMethod": "pd.DataFrame",
       "ref": "b41a7576-adfb-4b99-a630-a2324ba0211f",
       "rows": [
        [
         "0",
         "NM_001310048.1",
         "Chordata",
         "Craniata",
         "Aves",
         "Columba",
         "livia",
         "Columba livia",
         "GTCCGCCGCCATGCAGAGGGCGCGTGAGGCGCGTGACGAGCTCCCCGACGACTTCTACATCCCCATGGCGCTGGACGCGCCCAACCTGACGGCGCTGAGCCCGTTCCTGGTGCCGCAGACGCACCTGGGCAGCCCCGGCGTGTTCCGCGGCATGGCGGCGTTCATGCTGGCGCTGATCGCGCTGGGGGGGCCCATCAACGCGCTCACCATCGCCTGCACCGCGCGCTACAAGAAGCTGCGCTCGCACCTCAACTACATCCTGGTGAACCTGGCGGCCGCCAACCTGCTGGTGATCTGCGTGGGCTCCACCACCGCCTTCTACAGCTTCTCGCAGATGTACTTCGCGCTGGGGCCCACGGCGTGCAAGATCGAGGGCTTCGCCGCCACGCTCGGGGGCATGGTGTCGCTGTGGTCGCTGGCCGTGGTGGCCTTCGAGCGGTTCCTGGTGATCTGCAAGCCGCTGGGCAACTTCACGTTCCGCGGCAGCCACGCGGTGCTGGGCTGCGCCGCCACCTGGATCTTCGGCCTCGTGGCCGCCGTGCCGCCGCTCTTCGGCTGGAGCAGGTACATCCCCGAGGGGCTGCAGTGCTCGTGCGGGCCCGACTGGTACACGGCCAACAACAAGTGGAACAACGAGTCCTACGTCATCTTCCTCTTCTGCTTCTGCTTCGGGGTCCCCCTGGCCCTCATCGTCTTCTCCTACGGACGCCTGCTGCTCACGCTCCGCGCGGTGGCCCGGCAGCAGGAACAGTCGGCCAGCACGCAGAAGGCGGAGCGCGAGGTGACCAAGATGGTGGTGGTGATGGTGCTGGGCTTCCTGGTGTGCTGGGCGCCCTACTCGGCCTTCGCGCTCTGGGTGGTGACGCACCGCGGCCGCCCCTTCGACGTGGGGCTGGCGTCCATCCCCTCCGTGTTCTCCAAGGCCTCCACCGTCTACAACCCCGTCATCTACGTCTTCATGAACAAACAGTTCCGCTCGTGCATGCTGAAGCTGCTGTTCTGCGGGCGCAGCCCGTTCGGGGACGAGGACGACGTGTCGGGCTCCTCCCAGGCCACCCAGGTGTCCTCCGTGGGCTCCGCCTCCGCCAGCCAGGTGGCCCCGGCATAGGACCCACGGCCACCTCTGCCCCATGG",
         "MQRAREARDELPDDFYIPMALDAPNLTALSPFLVPQTHLGSPGVFRGMAAFMLALIALGGPINALTIACTARYKKLRSHLNYILVNLAAANLLVICVGSTTAFYSFSQMYFALGPTACKIEGFAATLGGMVSLWSLAVVAFERFLVICKPLGNFTFRGSHAVLGCAATWIFGLVAAVPPLFGWSRYIPEGLQCSCGPDWYTANNKWNNESYVIFLFCFCFGVPLALIVFSYGRLLLTLRAVARQQEQSASTQKAEREVTKMVVVMVLGFLVCWAPYSAFALWVVTHRGRPFDVGLASIPSVFSKASTVYNPVIYVFMNKQFRSCMLKLLFCGRSPFGDEDDVSGSSQATQVSSVGSASASQVAPA",
         "Columba livia blue-sensitive opsin (OPN2SW), mRNA",
         "NA",
         "365.0"
        ],
        [
         "1",
         "NM_001310049.1",
         "Chordata",
         "Craniata",
         "Aves",
         "Columba",
         "livia",
         "Columba livia",
         "TACCATTGGCAGGATGAATGGGACAGAAGGTATCAATTTTTACGTGCCTATGTCCAACAAGACAGGGGTGGTGCGAAGCCCCTTCGAGTATCCCCAGTACTACCTGGCCGAGCCCTGGAAATACCGCGTCGTGTGCTGCTACATCTTCTTCCTCATCTCCACCGGTTTGCCCATCAACCTCCTCACCCTCCTGGTCACCTTCAAACACAAGAAGCTCCGGCAGCCGCTCAACTACATCCTGGTCAACTTGGCGGTGGCCGACCTCTTCATGGCCTGTTTTGGCTTCACCGTCACCTTCTACACTGCCTGGAACGGTTACTTCGTCTTCGGGCCTGTCGGCTGTGCCGTTGAGGGCTTCTTCGCCACGCTGGGAGGTCAAGTCGCTCTGTGGTCCCTGGTCGTCTTGGCCATCGAGCGCTACATTGTCGTCTGCAAACCCATGGGAAACTTCCGCTTCTCCGCATCCCACGCCATGATGGGCATTGCTTTCACCTGGATAATGGCCTTTTCCTGCGCCGCTCCCCCACTCTTCGGCTGGTCCAGATACATGCCCGAGGGGATGCAGTGCTCCTGCGGCCCCGACTACTACACCCACAACCCCGACTACCACAACGAGTCCTACGTCCTCTACATGTTCATCATCCACTTCATCATCCCAGTCGTGGTAATTTTCTTCTCCTACGGGCGCCTCATCTGCAAAGTCCGAGAGGCAGCCGCCCAGCAGCAGGAGTCGGCCACGACCCAGAAGGCCGAGAAGGAGGTGACGCGGATGGTGATCCTGATGGTGCTGGGGTTCATGCTGGCCTGGACGCCCTACGCCGTGGTGGCGTTCTGGATCTTCACCAACAAGGGCGCAGACTTCACCGCCACGCTCATGGCCGTGCCTGCCTTCTTCTCCAAGAGCTCCTCCCTCTACAACCCCATCATCTATGTCCTCATGAACAAGCAGTTCCGCAACTGCATGATCACCACAATCTGCTGCGGCAAGAACCCCTTTGGGGATGAAGATGTCTCCTCCACCGTATCCCAGAGCAAAACCGAGGTCTCCTCTGTCTCTTCCAGCCAAGTATCACCTGCATAGACCATGGACAGTTTGAACTGGG",
         "MNGTEGINFYVPMSNKTGVVRSPFEYPQYYLAEPWKYRVVCCYIFFLISTGLPINLLTLLVTFKHKKLRQPLNYILVNLAVADLFMACFGFTVTFYTAWNGYFVFGPVGCAVEGFFATLGGQVALWSLVVLAIERYIVVCKPMGNFRFSASHAMMGIAFTWIMAFSCAAPPLFGWSRYMPEGMQCSCGPDYYTHNPDYHNESYVLYMFIIHFIIPVVVIFFSYGRLICKVREAAAQQQESATTQKAEKEVTRMVILMVLGFMLAWTPYAVVAFWIFTNKGADFTATLMAVPAFFSKSSSLYNPIIYVLMNKQFRNCMITTICCGKNPFGDEDVSSTVSQSKTEVSSVSSSQVSPA",
         "Columba livia rhodopsin (opsin 2, rod pigment) (retinitis pigmentosa 4, autosomal dominant) (OPN1MSW), mRNA",
         "NA",
         "355.0"
        ],
        [
         "2",
         "NM_001282821.1",
         "Chordata",
         "Craniata",
         "Aves",
         "Columba",
         "livia",
         "Columba livia",
         "ATGTCGGGTGACGAGGAGTTTTACCTTTTCAAGAATGGGTCCTCGGTGGGACCCTGGGACGGTCCCCAATATCACATCGCCCCCCCTTGGGCCTTTTACCTCCAAACCGCCTTCATGGGCTTCGTGTTCCTGGTGGGGACCCCCTTCAACGCCATCGTCCTGGTGGTCACCATCAAGTACAAGAAGCTGAGGCAACCGCTCAACTACATCCTGGTGAACATCTCCTTCAGCGGCTTCATCTCCTGCATCTTCAGCGTCTTCACCGTCTTTGTCTCCAGCTCCCAGGGTTACTTCATCTTCGGCAAGGACATGTGTGCCTTGGAGGCCTTCGTGGGGGCCACCGGAGGGCTGGTGACAGGTTGGTCCTTGGCCTTCCTGGCCTTCGAGCGCTACATCGTCATCTGCAAACCCTTCGGGAACTTCCGCTTCAACTCCAAACACGCCCTCATGGCGGTGGTGGCCACCTGGGTCATCGGCCTGGGTGTCGCCCTCCCCCCCTGGTTCGGCTGGAGCAGGTATGTCCCCGAGGGGCTGCAGTGCTCCTGCGGCCCCGACTGGTACACGGTGGGCACCAAGTACAAGAGCGAGTACTACACCTGGTTCCTCTTCATCTTCTGCTTCATCGTCCCCCTCTCCCTCATCATCTTCTCCTACTCCCAGCTGCTCAGCGCCCTGCGGGCCGTGGCGGCGCAGCAGCAGGAGTCGGCCACCACGCAGAAGGCGGAGCGGGAGGTGTCGCGCATGGTGGTGGTGATGGTGGGGTCCTTCTGCCTCTGCTACGTCCCCTACGCCGCCCTGGCCATGTACATGGTCAACAACCGCAACCACGGCCTGGACCTGCGCCTGGTCACCATCCCCGCCTTCTTCTCCAAGAGCTCCTGTGTCTACAACCCCATCATCTACTGCTTCATGAACAAACAGTTCCGCGCCTGCATCCTGGAGCTGGTGTGCGGGCGGCCCATGACGGACGACTCGGACGTGTCCAGCTCGGCCCAGCGCACCGAGGTCTCCTCCGTGTCCTCCAGCCAGGTCAGCCCCAGCTGA",
         "MSGDEEFYLFKNGSSVGPWDGPQYHIAPPWAFYLQTAFMGFVFLVGTPFNAIVLVVTIKYKKLRQPLNYILVNISFSGFISCIFSVFTVFVSSSQGYFIFGKDMCALEAFVGATGGLVTGWSLAFLAFERYIVICKPFGNFRFNSKHALMAVVATWVIGLGVALPPWFGWSRYVPEGLQCSCGPDWYTVGTKYKSEYYTWFLFIFCFIVPLSLIIFSYSQLLSALRAVAAQQQESATTQKAEREVSRMVVVMVGSFCLCYVPYAALAMYMVNNRNHGLDLRLVTIPAFFSKSSCVYNPIIYCFMNKQFRACILELVCGRPMTDDSDVSSSAQRTEVSSVSSSQVSPS",
         "Columba livia opsin 1, short wave sensitive (OPN1SW), mRNA",
         "NA",
         "347.0"
        ],
        [
         "3",
         "XM_065067775.1",
         "Chordata",
         "Craniata",
         "Aves",
         "Columba",
         "livia",
         "Columba livia",
         "TCTTGGAGCCCCGACACCTTAACAGAAGGAACTGTGTGCTGCCCTCCTGCTGAAGAAGCTGACTGGCTCCTCGCATTGGCCCGCTAGAAAGAATTCTGCCTCCTTTGTGATCAGCTGTGGCAGCAAGCCATAAATATAGAATAACAAGGCCCCATGTTGTGCTGCAGCCTCTACGGACAAGTCCAGAACAGCAAGGATTTACACATATTTATCTATCAGACATTTCATTTTCTCCAGAGTCCCAAAAAGCAACTCAAGTTTGCAAGTCTCAGTCAAGTTTACTGAACGGTAACTGAAAACAGAGTCAGTTGTGGTTTAGCTGTTTTGTCATAGGCAGTAGACAAGCATTCCTTTAGGGAGAACAAAAAGCATTTTAAGAAGGCAGGGTGCATTAAACCTTCCTGTTTCCCTCTATTCTAGTGTTTCCATAAGGACACACTTAAACCTGCTGGAAGGAAATACACTAATACAGAGCAGCTTCTAACTTCATAACTTCTAGCCACCAACTCTACTGAGGCAAATGATAGAGTAGGATTTAGAAAAGGATTACACCTGCATATGGAGGATAAAAATATCCTCCACTAAGATTATCCTTTCAAAGGGATAACAACCCTGTTTTAGGGTAAAACCCAACTGCTGAGAGTCTATTCTGAAAATGAAATTCCCACGTGACTGTTCATCATTCGTGTTTCACAGCTCTGTGAAACAGCCAGTCATGCCTAACGACAGGTTAGTGTTTTGTCAGGAATGCTGGTCTGAATCAGTGTGGCACTTCCCAAGTTCCTTACCACACCAAAATTGTTCGTTTGTTTACGCAAAACTACAGTGTAAATAAATAATAAATAGTAAATGACATGCCTATTAGAGTTTAAAAACACAAATTATTTTACAGGACTAGAAAAAGACCAGTTTTCATATATACCTGAACAATATTATAAAACTTGCTTTTAAGGTTGACTAAAATGCCATCCTTGGTTAGAAAGTATGTTCTTCAACTGACCCTTGGTACTTACTGTGAAGACATTTTGTTACATTACAGTTACTACCTTGATGTCTTCCACAGTTTCCATGACTGTTTTCTTTGCTTGCTTGGGAAATGTGCGTTATTGATACTGACTGTTAGGAAGTTGGTGCTTCCCAAAGAATTGTTTCCTACAGAATTAATACCAGTCTAAGCCACCCACAGCACAGTAGGCCCGTGAATATACTGGCACCCAGTGGTCCAAAGCCTCAGGTACAAGCATCTTCTATTTGTTCACTCAGGAAAGCTGTAGTCCACTGTCCATCTACTGGAAAATGTCCAAAATTTAGCTTCCAGTTCAGTTTCTTTGTGCATCTGGTGATATTTTGAACCATGTTACATTAAATAAACTGTGGTGTTTTATCACATGGGGGAGAAATAATGAAGTGCTGCTTTTGCCTGTTCATTTTTCTTTATTCTGAGGTGTTTATAGAAAGAAGGCTGAACAGAAAAACATGCATGGCAACAATGCTATGTGTTATCAGTGCCACTGAAATAGTTGTTCAGAGTATCCTCAAAGGACAGTTGCTACAGTGGGGATGGCAGCAGTGGGATTTCTATTCTCTCTTGCCAACCAAGTACTTATACAACAGAAAACAGACTAAACAAGGCTAATCTGCTGGAGAAACTGAACAGATGACGGTGCAAGATGTTCCTGGTGCCTTTCCTACAGTGGATGTCCCAGACCATGCCCATTATACAATTGGAGTAGTCATTCTTCTAGTGGGGATCACAGGAACTCTGGGTAATTTCCTGGTCATCTACGTTTTCTGCAGGAGCAGGAGCCTTCAGACTCCAGCCAACGTATTCATCGTCAATCTAGCTATTAGTGACTTCCTGATGTCTATTACGCAGTCTCCAGTTTTTTTCACCAATAGCCTCCACAAACGCTGGATTTTTGGTGAGAAAGGCTGTGAGCTGTATGCCTTCTGCGGAGCTCTTTTTGGCATTACATCTATGATTACTTTGATGGTGATTGCCTTGGACAGATATTTTGTCATCACAAAGCCTCTGTCTTCTGTTGGAGTGACGTCTAAGAAGAAGGCCCTAATAATCCTGGTAGGAGTCTGGCTGTACTCTTTGGCTTGGAGCCTCCCACCCTTCTTTGGATGGAGTGCGTATGTTCCTGAGGGTTTGCTGACTTCCTGTTCATGGGACTACATGACTTTCACACCATCAGTCCGCGCCTACACGATGCTTCTTTTCTGCTTTGTCTTTTTCATTCCTTTGATTGCTATCATATACAGCTACATCTTTATATTTGAGGCTATCAAGAAGGCCAACAAGTCTATCCAGACATTTGGATGCAAACATGGAAATAAAGAATGCCAGAAACAGTATCAGAGGATGAAAAATGAGTGGAAGATGGCCAAAATTGCACTGATTGTCATCTTGCTTTACGTCATCTCATGGTCACCATACTCTATTGTTGCTCTGGTAGCTTTTGCTGGGTATTCTCATGTCCTAACACCGTTCATGAACTCTATACCAGCCGTGATTGCCAAAGCTTCTGTCATCCATAACCCAATAATTTATGCCATCACTCACCCCAAATACAGAAGAGCCATTGCAACATATGTTCCTTGCCTTGGATCCCTGCTGAGAGTTTCTCCTAAAGACTCACGGTCTTTCAGCAGTTATACCTCCTCCCGACGAGCAACTGTAACCAGCCAGTCTTCTCAGATAAGTGGGCTGCAGAAAGGAAGAAGGCGACTGTCTTCTCTCCCTAACAGTGAATCAGACTGTACTGACACAGAAACCGATACCCTCAGTGTGTTCTCCAGACTTGCTAGCAGGCAGATTTCCTATGAAACAGATAAAGACACAACTCAAACTAGTGACCTAAGAGCCAAACCTAAACTGAAGAGCCATGATTCTGGGATATATCAGAAGACACCTGTAGATATTGAAGACATATCCATGGAGGAACTGAATGCCACAGAGTACACTACTACACCTACTAGAGGTGAAAACCTGAATGGTATCGAACAAAGAAAAGGAGAGTCTCACCACAGACCATCAGCAGCCCAGATACCCAGCATTACAATAACGTACAGCAATATCCAAGGAGCAGAGCTGCCCTCTGGATACAACTCTGGTTTCCTGTATCCAAAGATCAACAGCCATAAGCAGAACAAGAAGTCCAACAGCTAAGTGAGTGGTGAAAGCCAGAACGCCATATCAGCCAATACCTCTGGAACAGCTATGGGCCAGCTGAATCCAGAACACCTCCCTACATTGTTCTGAAATGCTCCTACACAGACACAAGACAAGCAAGGAGAAAAGCAAGGGGAGTAAGCTTTTCAGCATCAGAGTTCTCTCCAGTCGCTCACTTCTTGAACCGAGTCTCATTGTAATTTTGTTATCTCTTTATGCAGCTCATGAACCAATTTCTTCCACTTGGATTTTACTCTGCTCAGGTATATTCCACCACTGCATGGATCTAACCTACAAGCCTCCTAGGATTAACTTGAGAGGAAAAGGAAATATGAGATTCAAAACTGACCTTTGTTCACTTAGTGCAGTTTTAACTTCAAGGCTATTACAGAGCTAAAGCTGATATATTTGGGGAAAAACATACATTGCTCCCTGAAGACGATTTCTTCATTGTTGTGAAGTTCCTCAACCAAATGGAAACCTAATCACAGAGTCTGTGCTCCCTTCTCTCATAAATGACACATTTTCGCTAATTTTCTTCTACAATCCAATTAAAAGGCAATGCACTCGGGCAGTAATTTGAAGTCTCAGATCTTTATTTTAATTTCTGAGATTCTGGGGGAAGAGAAAGGAATAACACTGAGGACGGGGCTATGGTCCTTTCCATGCTTTTCCAATGGTTGCTTAGAGACCAGTATAACCTGCTCTTAGCTAACCTCCCCAGAGCTACAGGCAAGTATTAGGAAACTCCTTCTGACTTTCCTTTAGGAGGTTTCATAAGAAGAATGCAGAATTCAAAGCAGCATTTATACTGAGATGTCTTATGGTTAAGTCAATAAATCTGCCTTCTCACACCGCAAATTGGTTTACATTTAGATGTGCTTTTCAAAAGTACATCTTGGGAGAAGAAGGGTTAGTTCCCCCAAAACAGTTGTTCTAGAGATGAGTGGAATCTGCACTGTCTCCACTTTAGCATTGTAATAGAAAAGAGATGGAAAGGAGCTATTACAGTTCTTCCCTTCACCTACCACAACTGGATATTGTCTCCAGGCAGAGGGCAATATTAAACTGATAATATATACAGCTCGCGATAAGGAGAAAGAAGGGAGAAAAAATACCATCTTCAAACAGGAAGGGTGTTCAAAGATACTCAGCAAGTCTAAGGAATTTTATTAGGACGTACTGCTTAGGCTTTTAAAATTATTTAAAAACATAAAGCATGTAATTCTTCCCACTCTTTATCATGAAGGCTATTCACACCAGTCAAAACTGGGAACAAATGCTAGTGAATGCTGCCTATTTCATACAAGTCAAAAAAGGCTGAACCTCTCAAGAAAATAGGTCAAAACTCACACATGCTGTTTTGTGTGTTAATAAGATGTGCATGGTATGTACCCTTAAAAGCTAGACCCTTTGCTCCTGTCATGATTTTGTTCCAAATAGTATTCTTGAAGACTATTCTCTGCACTCTTGCATTCCCTTCCACTTTTAGAGGACATAAAAAGAATGCTTCCATGGCTAGAAAAGCCTTACAAATCCACAGCACGTTGTTCTCTATATCCTCCAACTCCAACACGTACTGGAGATTAGTTTGTATCTATAAAAAGAACTACAGCTGTTCACGCTCATCTACTTACAAGACGCTTGAAAAACCACATATTAATTAGAGAGAATTTGTTTGGGAGCACTTCAAAACTCGTGTGTGTACTCCCTGTGTAGCTAACAGCTTTGCCTTTACCTCTACTGAGACTATAAAAATCGTTCAGGAGAAAGCCTACAAAATTCATTTCACCTGAATAACTCTCTAAGTGATTCACATTGTAACCCCAGTGGCATTTGAAATAAATCATTATTAGTTCATATTTCAACTCA",
         "MTVQDVPGAFPTVDVPDHAHYTIGVVILLVGITGTLGNFLVIYVFCRSRSLQTPANVFIVNLAISDFLMSITQSPVFFTNSLHKRWIFGEKGCELYAFCGALFGITSMITLMVIALDRYFVITKPLSSVGVTSKKKALIILVGVWLYSLAWSLPPFFGWSAYVPEGLLTSCSWDYMTFTPSVRAYTMLLFCFVFFIPLIAIIYSYIFIFEAIKKANKSIQTFGCKHGNKECQKQYQRMKNEWKMAKIALIVILLYVISWSPYSIVALVAFAGYSHVLTPFMNSIPAVIAKASVIHNPIIYAITHPKYRRAIATYVPCLGSLLRVSPKDSRSFSSYTSSRRATVTSQSSQISGLQKGRRRLSSLPNSESDCTDTETDTLSVFSRLASRQISYETDKDTTQTSDLRAKPKLKSHDSGIYQKTPVDIEDISMEELNATEYTTTPTRGENLNGIEQRKGESHHRPSAAQIPSITITYSNIQGAELPSGYNSGFLYPKINSHKQNKKSNS",
         "PREDICTED: Columba livia opsin 4 (OPN4), transcript variant X9, mRNA",
         "NA",
         "505.0"
        ],
        [
         "4",
         "XM_065067773.1",
         "Chordata",
         "Craniata",
         "Aves",
         "Columba",
         "livia",
         "Columba livia",
         "",
         "MDLPLGAPTMTVQDVPGAFPTVDVPDHAHYTIGVVILLVGITGTLGNFLVIYVFCRSRSLQTPANVFIVNLAISDFLMSITQSPVFFTNSLHKRWIFGEKGCELYAFCGALFGITSMITLMVIALDRYFVITKPLSSVGVTSKKKALIILVGVWLYSLAWSLPPFFGWSAYVPEGLLTSCSWDYMTFTPSVRAYTMLLFCFVFFIPLIAIIYSYIFIFEAIKKANKSIQTFGCKHGNKECQKQYQRMKNEWKMAKIALIVILLYVISWSPYSIVALVAFAGYSHVLTPFMNSIPAVIAKASVIHNPIIYAITHPKYRRAIATYVPCLGSLLRVSPKDSRSFSSYTSSRRATVTSQSSQISGLQKGRRRLSSLPNSESDCTDTETDTLSVFSRLASRQISYETDKDTTQTSDLRAKPKLKSHDSGIYQKTPVDIEDISMEELNATEYTTTPTRGENLNGIEQRKGESHHRPSAAQIPSITITYSNIQGAELPSGYNSGFLYPKINSHKQNKKSNS",
         "PREDICTED: Columba livia opsin 4 (OPN4), transcript variant X7, mRNA",
         "NA",
         "514.0"
        ]
       ],
       "shape": {
        "columns": 12,
        "rows": 5
       }
      },
      "text/html": [
       "<div>\n",
       "<style scoped>\n",
       "    .dataframe tbody tr th:only-of-type {\n",
       "        vertical-align: middle;\n",
       "    }\n",
       "\n",
       "    .dataframe tbody tr th {\n",
       "        vertical-align: top;\n",
       "    }\n",
       "\n",
       "    .dataframe thead th {\n",
       "        text-align: right;\n",
       "    }\n",
       "</style>\n",
       "<table border=\"1\" class=\"dataframe\">\n",
       "  <thead>\n",
       "    <tr style=\"text-align: right;\">\n",
       "      <th></th>\n",
       "      <th>Accession</th>\n",
       "      <th>Phylum</th>\n",
       "      <th>Subphylum</th>\n",
       "      <th>Class</th>\n",
       "      <th>Genus</th>\n",
       "      <th>Species</th>\n",
       "      <th>Full_Species</th>\n",
       "      <th>DNA</th>\n",
       "      <th>Protein</th>\n",
       "      <th>Gene_Description</th>\n",
       "      <th>Species_Synonym_Used</th>\n",
       "      <th>Prot_Len</th>\n",
       "    </tr>\n",
       "  </thead>\n",
       "  <tbody>\n",
       "    <tr>\n",
       "      <th>0</th>\n",
       "      <td>NM_001310048.1</td>\n",
       "      <td>Chordata</td>\n",
       "      <td>Craniata</td>\n",
       "      <td>Aves</td>\n",
       "      <td>Columba</td>\n",
       "      <td>livia</td>\n",
       "      <td>Columba livia</td>\n",
       "      <td>GTCCGCCGCCATGCAGAGGGCGCGTGAGGCGCGTGACGAGCTCCCC...</td>\n",
       "      <td>MQRAREARDELPDDFYIPMALDAPNLTALSPFLVPQTHLGSPGVFR...</td>\n",
       "      <td>Columba livia blue-sensitive opsin (OPN2SW), mRNA</td>\n",
       "      <td>NA</td>\n",
       "      <td>365.0</td>\n",
       "    </tr>\n",
       "    <tr>\n",
       "      <th>1</th>\n",
       "      <td>NM_001310049.1</td>\n",
       "      <td>Chordata</td>\n",
       "      <td>Craniata</td>\n",
       "      <td>Aves</td>\n",
       "      <td>Columba</td>\n",
       "      <td>livia</td>\n",
       "      <td>Columba livia</td>\n",
       "      <td>TACCATTGGCAGGATGAATGGGACAGAAGGTATCAATTTTTACGTG...</td>\n",
       "      <td>MNGTEGINFYVPMSNKTGVVRSPFEYPQYYLAEPWKYRVVCCYIFF...</td>\n",
       "      <td>Columba livia rhodopsin (opsin 2, rod pigment)...</td>\n",
       "      <td>NA</td>\n",
       "      <td>355.0</td>\n",
       "    </tr>\n",
       "    <tr>\n",
       "      <th>2</th>\n",
       "      <td>NM_001282821.1</td>\n",
       "      <td>Chordata</td>\n",
       "      <td>Craniata</td>\n",
       "      <td>Aves</td>\n",
       "      <td>Columba</td>\n",
       "      <td>livia</td>\n",
       "      <td>Columba livia</td>\n",
       "      <td>ATGTCGGGTGACGAGGAGTTTTACCTTTTCAAGAATGGGTCCTCGG...</td>\n",
       "      <td>MSGDEEFYLFKNGSSVGPWDGPQYHIAPPWAFYLQTAFMGFVFLVG...</td>\n",
       "      <td>Columba livia opsin 1, short wave sensitive (O...</td>\n",
       "      <td>NA</td>\n",
       "      <td>347.0</td>\n",
       "    </tr>\n",
       "    <tr>\n",
       "      <th>3</th>\n",
       "      <td>XM_065067775.1</td>\n",
       "      <td>Chordata</td>\n",
       "      <td>Craniata</td>\n",
       "      <td>Aves</td>\n",
       "      <td>Columba</td>\n",
       "      <td>livia</td>\n",
       "      <td>Columba livia</td>\n",
       "      <td>TCTTGGAGCCCCGACACCTTAACAGAAGGAACTGTGTGCTGCCCTC...</td>\n",
       "      <td>MTVQDVPGAFPTVDVPDHAHYTIGVVILLVGITGTLGNFLVIYVFC...</td>\n",
       "      <td>PREDICTED: Columba livia opsin 4 (OPN4), trans...</td>\n",
       "      <td>NA</td>\n",
       "      <td>505.0</td>\n",
       "    </tr>\n",
       "    <tr>\n",
       "      <th>4</th>\n",
       "      <td>XM_065067773.1</td>\n",
       "      <td>Chordata</td>\n",
       "      <td>Craniata</td>\n",
       "      <td>Aves</td>\n",
       "      <td>Columba</td>\n",
       "      <td>livia</td>\n",
       "      <td>Columba livia</td>\n",
       "      <td></td>\n",
       "      <td>MDLPLGAPTMTVQDVPGAFPTVDVPDHAHYTIGVVILLVGITGTLG...</td>\n",
       "      <td>PREDICTED: Columba livia opsin 4 (OPN4), trans...</td>\n",
       "      <td>NA</td>\n",
       "      <td>514.0</td>\n",
       "    </tr>\n",
       "  </tbody>\n",
       "</table>\n",
       "</div>"
      ],
      "text/plain": [
       "        Accession    Phylum Subphylum Class    Genus Species   Full_Species  \\\n",
       "0  NM_001310048.1  Chordata  Craniata  Aves  Columba   livia  Columba livia   \n",
       "1  NM_001310049.1  Chordata  Craniata  Aves  Columba   livia  Columba livia   \n",
       "2  NM_001282821.1  Chordata  Craniata  Aves  Columba   livia  Columba livia   \n",
       "3  XM_065067775.1  Chordata  Craniata  Aves  Columba   livia  Columba livia   \n",
       "4  XM_065067773.1  Chordata  Craniata  Aves  Columba   livia  Columba livia   \n",
       "\n",
       "                                                 DNA  \\\n",
       "0  GTCCGCCGCCATGCAGAGGGCGCGTGAGGCGCGTGACGAGCTCCCC...   \n",
       "1  TACCATTGGCAGGATGAATGGGACAGAAGGTATCAATTTTTACGTG...   \n",
       "2  ATGTCGGGTGACGAGGAGTTTTACCTTTTCAAGAATGGGTCCTCGG...   \n",
       "3  TCTTGGAGCCCCGACACCTTAACAGAAGGAACTGTGTGCTGCCCTC...   \n",
       "4                                                      \n",
       "\n",
       "                                             Protein  \\\n",
       "0  MQRAREARDELPDDFYIPMALDAPNLTALSPFLVPQTHLGSPGVFR...   \n",
       "1  MNGTEGINFYVPMSNKTGVVRSPFEYPQYYLAEPWKYRVVCCYIFF...   \n",
       "2  MSGDEEFYLFKNGSSVGPWDGPQYHIAPPWAFYLQTAFMGFVFLVG...   \n",
       "3  MTVQDVPGAFPTVDVPDHAHYTIGVVILLVGITGTLGNFLVIYVFC...   \n",
       "4  MDLPLGAPTMTVQDVPGAFPTVDVPDHAHYTIGVVILLVGITGTLG...   \n",
       "\n",
       "                                    Gene_Description Species_Synonym_Used  \\\n",
       "0  Columba livia blue-sensitive opsin (OPN2SW), mRNA                   NA   \n",
       "1  Columba livia rhodopsin (opsin 2, rod pigment)...                   NA   \n",
       "2  Columba livia opsin 1, short wave sensitive (O...                   NA   \n",
       "3  PREDICTED: Columba livia opsin 4 (OPN4), trans...                   NA   \n",
       "4  PREDICTED: Columba livia opsin 4 (OPN4), trans...                   NA   \n",
       "\n",
       "   Prot_Len  \n",
       "0     365.0  \n",
       "1     355.0  \n",
       "2     347.0  \n",
       "3     505.0  \n",
       "4     514.0  "
      ]
     },
     "execution_count": 64,
     "metadata": {},
     "output_type": "execute_result"
    }
   ],
   "source": [
    "final_query_df = pd.concat([ncbi_query_df, acc_seq_db_df_filtered]).reset_index(drop = True)\n",
    "final_query_df.to_csv(f'{query_report_dir}/ncbi_q_merged_w_acc_seq_db.csv', index=False)\n",
    "#final_query_df.to_csv('mnm_data/mnm_on_mnm_on_all_dbs_2024-12-10_23-31-03/ncbi_q_merged_w_acc_seq_db.csv')\n",
    "final_query_df.head()"
   ]
  },
  {
   "cell_type": "code",
   "execution_count": 65,
   "metadata": {},
   "outputs": [
    {
     "data": {
      "text/plain": [
       "(4523, 12)"
      ]
     },
     "execution_count": 65,
     "metadata": {},
     "output_type": "execute_result"
    }
   ],
   "source": [
    "final_query_df.shape"
   ]
  },
  {
   "cell_type": "code",
   "execution_count": 66,
   "metadata": {},
   "outputs": [],
   "source": [
    "fasta_file = f'./{query_report_dir}/mined_and_acc_seqs.fasta'\n",
    "with open(fasta_file, 'w') as f:\n",
    "    for id, seq in zip(final_query_df['Accession'], final_query_df['Protein']):\n",
    "        f.write(f'>{id}\\n{seq}\\n')"
   ]
  },
  {
   "cell_type": "markdown",
   "metadata": {},
   "source": [
    "## <font color=#c994c7>Part 2: OPTICS Predictions</font> - Predict Lmax of all queried opsin sequences "
   ]
  },
  {
   "cell_type": "code",
   "execution_count": 67,
   "metadata": {},
   "outputs": [
    {
     "name": "stdout",
     "output_type": "stream",
     "text": [
      "The autoreload extension is already loaded. To reload it, use:\n",
      "  %reload_ext autoreload\n"
     ]
    }
   ],
   "source": [
    "%reload_ext autoreload\n",
    "%load_ext autoreload\n",
    "%autoreload 2"
   ]
  },
  {
   "cell_type": "code",
   "execution_count": 68,
   "metadata": {},
   "outputs": [],
   "source": [
    "import sys\n",
    "import os\n",
    "# Get the absolute path to the 'optics' directory.  This is crucial for robustness.\n",
    "optics_path = 'E:\\\\safra\\\\Documents\\\\Github\\\\optics'\n",
    "# Add the 'optics' directory to the Python path\n",
    "if optics_path not in sys.path: # Avoid adding multiple times\n",
    "    sys.path.append(optics_path)\n",
    "# Now you can import modules from 'optics' as usual\n",
    "from optics_predictions import run_optics_predictions"
   ]
  },
  {
   "cell_type": "code",
   "execution_count": null,
   "metadata": {},
   "outputs": [
    {
     "name": "stderr",
     "output_type": "stream",
     "text": [
      "Processing Sequences:  26%|\u001b[38;2;207;159;255m▓▓▓▓▓▓░▓▓▓▓▓▓▓▓▓▓▓▓▓▓▓▓▓▓\u001b[0m| 1180/4523 [29:55<56:45,  1.02s/seqs]  "
     ]
    }
   ],
   "source": [
    "#OPTICS Predictions\n",
    "#fasta_file = './mnm_data/mnm_on_mnm_on_all_dbs_2025-02-17_21-41-07/mined_and_acc_seqs.fasta'\n",
    "optics_df, optics_pred_file = run_optics_predictions(input_sequence=fasta_file, pred_dir='mnm_all_dbs', output='optics_predictions.txt',\n",
    "                           model=\"whole-dataset\", encoding_method='aa_prop', blastp=True,\n",
    "                           iden_report='blastp_report.txt', refseq='bovine',\n",
    "                           bootstrap=True, visualize_bootstrap=False)"
   ]
  },
  {
   "cell_type": "markdown",
   "metadata": {},
   "source": [
    "## <font color=#c994c7>Part 3: Matching Predictions to Physiology Data</font> - Match sequence to it's closest MSP value based on OPTICS predictions"
   ]
  },
  {
   "cell_type": "code",
   "execution_count": null,
   "metadata": {},
   "outputs": [],
   "source": [
    "import os\n",
    "import time \n",
    "import datetime\n",
    "import warnings\n",
    "import pandas as pd\n",
    "from deepBreaks.preprocessing import read_data\n",
    "from mnm_scripts.mine_n_match_functions import mine_n_match\n",
    "email = 'sethfrazer@ucsb.edu'\n",
    "warnings.filterwarnings(\"ignore\")\n",
    "warnings.simplefilter(\"ignore\")"
   ]
  },
  {
   "cell_type": "markdown",
   "metadata": {},
   "source": [
    "#### <font color=#c994c7>Load NCBI Query Data</font>"
   ]
  },
  {
   "cell_type": "code",
   "execution_count": null,
   "metadata": {},
   "outputs": [
    {
     "data": {
      "text/html": [
       "<div>\n",
       "<style scoped>\n",
       "    .dataframe tbody tr th:only-of-type {\n",
       "        vertical-align: middle;\n",
       "    }\n",
       "\n",
       "    .dataframe tbody tr th {\n",
       "        vertical-align: top;\n",
       "    }\n",
       "\n",
       "    .dataframe thead th {\n",
       "        text-align: right;\n",
       "    }\n",
       "</style>\n",
       "<table border=\"1\" class=\"dataframe\">\n",
       "  <thead>\n",
       "    <tr style=\"text-align: right;\">\n",
       "      <th></th>\n",
       "      <th>Accession</th>\n",
       "      <th>Phylum</th>\n",
       "      <th>Subphylum</th>\n",
       "      <th>Class</th>\n",
       "      <th>Genus</th>\n",
       "      <th>Species</th>\n",
       "      <th>Full_Species</th>\n",
       "      <th>DNA</th>\n",
       "      <th>Protein</th>\n",
       "      <th>Gene_Description</th>\n",
       "      <th>Species_Synonym_Used</th>\n",
       "      <th>Prot_Len</th>\n",
       "    </tr>\n",
       "  </thead>\n",
       "  <tbody>\n",
       "    <tr>\n",
       "      <th>0</th>\n",
       "      <td>KC594699.1</td>\n",
       "      <td>Chordata</td>\n",
       "      <td>Craniata</td>\n",
       "      <td>Actinopteri</td>\n",
       "      <td>Gasterosteus</td>\n",
       "      <td>acuelatus</td>\n",
       "      <td>Gasterosteus acuelatus</td>\n",
       "      <td>TTGCAAGTGACGAGAAAGGTCAACTGCTGAGGTCCTCCCTTTACGA...</td>\n",
       "      <td>MAEEWGKQAFAARRYNEDTPRGSMFVYTNSNNTKDPFEGPNYHIAP...</td>\n",
       "      <td>Gasterosteus aculeatus isolate Swan Lake long ...</td>\n",
       "      <td>Gasterosteus aculeatus</td>\n",
       "      <td>357.0</td>\n",
       "    </tr>\n",
       "    <tr>\n",
       "      <th>1</th>\n",
       "      <td>KC594698.1</td>\n",
       "      <td>Chordata</td>\n",
       "      <td>Craniata</td>\n",
       "      <td>Actinopteri</td>\n",
       "      <td>Gasterosteus</td>\n",
       "      <td>acuelatus</td>\n",
       "      <td>Gasterosteus acuelatus</td>\n",
       "      <td>TTGCAAGTGACGAGAAAGGTCAACTGCTGAGGTCCTCCCTTTACGA...</td>\n",
       "      <td>MAEEWGKQAFAARRYNEDTTRGSMFVYTNSNNTKDPFEGPNYHIAP...</td>\n",
       "      <td>Gasterosteus aculeatus isolate Mayer Pond long...</td>\n",
       "      <td>Gasterosteus aculeatus</td>\n",
       "      <td>357.0</td>\n",
       "    </tr>\n",
       "    <tr>\n",
       "      <th>2</th>\n",
       "      <td>KC594697.1</td>\n",
       "      <td>Chordata</td>\n",
       "      <td>Craniata</td>\n",
       "      <td>Actinopteri</td>\n",
       "      <td>Gasterosteus</td>\n",
       "      <td>acuelatus</td>\n",
       "      <td>Gasterosteus acuelatus</td>\n",
       "      <td>TTGCAAGTGACGAGAAAGGTCAACTGCTGAGGTCCTCCCTTTACGA...</td>\n",
       "      <td>MAEEWGKQAFAARRYNEDTTRGSMFVYTNSNNTKDPFEGPNYHIAP...</td>\n",
       "      <td>Gasterosteus aculeatus isolate Mayer Lake long...</td>\n",
       "      <td>Gasterosteus aculeatus</td>\n",
       "      <td>357.0</td>\n",
       "    </tr>\n",
       "    <tr>\n",
       "      <th>3</th>\n",
       "      <td>KC594694.1</td>\n",
       "      <td>Chordata</td>\n",
       "      <td>Craniata</td>\n",
       "      <td>Actinopteri</td>\n",
       "      <td>Gasterosteus</td>\n",
       "      <td>acuelatus</td>\n",
       "      <td>Gasterosteus acuelatus</td>\n",
       "      <td>TTGCAAGTGACGAGAAAGGTCAACTGCTGAGGTCCTCCCTTTACGA...</td>\n",
       "      <td>MAEEWGKQAFAARRYNDDTTRGSMFVYTNSNNTKDPFEGPNYHIAP...</td>\n",
       "      <td>Gasterosteus aculeatus isolate Broughton Ocean...</td>\n",
       "      <td>Gasterosteus aculeatus</td>\n",
       "      <td>357.0</td>\n",
       "    </tr>\n",
       "    <tr>\n",
       "      <th>4</th>\n",
       "      <td>KC594702.1</td>\n",
       "      <td>Chordata</td>\n",
       "      <td>Craniata</td>\n",
       "      <td>Actinopteri</td>\n",
       "      <td>Gasterosteus</td>\n",
       "      <td>acuelatus</td>\n",
       "      <td>Gasterosteus acuelatus</td>\n",
       "      <td>TGGACACTTCACCACTATCTTTTGACTGAAGCTCTATCAGAAGATG...</td>\n",
       "      <td>MAWEGGLEPNGTEGKNFYIPMSNRTGVVRSPFEYQQYYLADPIMFK...</td>\n",
       "      <td>Gasterosteus aculeatus isolate Swan Lake RH2 o...</td>\n",
       "      <td>Gasterosteus aculeatus</td>\n",
       "      <td>352.0</td>\n",
       "    </tr>\n",
       "  </tbody>\n",
       "</table>\n",
       "</div>"
      ],
      "text/plain": [
       "    Accession    Phylum Subphylum        Class         Genus    Species  \\\n",
       "0  KC594699.1  Chordata  Craniata  Actinopteri  Gasterosteus  acuelatus   \n",
       "1  KC594698.1  Chordata  Craniata  Actinopteri  Gasterosteus  acuelatus   \n",
       "2  KC594697.1  Chordata  Craniata  Actinopteri  Gasterosteus  acuelatus   \n",
       "3  KC594694.1  Chordata  Craniata  Actinopteri  Gasterosteus  acuelatus   \n",
       "4  KC594702.1  Chordata  Craniata  Actinopteri  Gasterosteus  acuelatus   \n",
       "\n",
       "             Full_Species                                                DNA  \\\n",
       "0  Gasterosteus acuelatus  TTGCAAGTGACGAGAAAGGTCAACTGCTGAGGTCCTCCCTTTACGA...   \n",
       "1  Gasterosteus acuelatus  TTGCAAGTGACGAGAAAGGTCAACTGCTGAGGTCCTCCCTTTACGA...   \n",
       "2  Gasterosteus acuelatus  TTGCAAGTGACGAGAAAGGTCAACTGCTGAGGTCCTCCCTTTACGA...   \n",
       "3  Gasterosteus acuelatus  TTGCAAGTGACGAGAAAGGTCAACTGCTGAGGTCCTCCCTTTACGA...   \n",
       "4  Gasterosteus acuelatus  TGGACACTTCACCACTATCTTTTGACTGAAGCTCTATCAGAAGATG...   \n",
       "\n",
       "                                             Protein  \\\n",
       "0  MAEEWGKQAFAARRYNEDTPRGSMFVYTNSNNTKDPFEGPNYHIAP...   \n",
       "1  MAEEWGKQAFAARRYNEDTTRGSMFVYTNSNNTKDPFEGPNYHIAP...   \n",
       "2  MAEEWGKQAFAARRYNEDTTRGSMFVYTNSNNTKDPFEGPNYHIAP...   \n",
       "3  MAEEWGKQAFAARRYNDDTTRGSMFVYTNSNNTKDPFEGPNYHIAP...   \n",
       "4  MAWEGGLEPNGTEGKNFYIPMSNRTGVVRSPFEYQQYYLADPIMFK...   \n",
       "\n",
       "                                    Gene_Description    Species_Synonym_Used  \\\n",
       "0  Gasterosteus aculeatus isolate Swan Lake long ...  Gasterosteus aculeatus   \n",
       "1  Gasterosteus aculeatus isolate Mayer Pond long...  Gasterosteus aculeatus   \n",
       "2  Gasterosteus aculeatus isolate Mayer Lake long...  Gasterosteus aculeatus   \n",
       "3  Gasterosteus aculeatus isolate Broughton Ocean...  Gasterosteus aculeatus   \n",
       "4  Gasterosteus aculeatus isolate Swan Lake RH2 o...  Gasterosteus aculeatus   \n",
       "\n",
       "   Prot_Len  \n",
       "0     357.0  \n",
       "1     357.0  \n",
       "2     357.0  \n",
       "3     357.0  \n",
       "4     352.0  "
      ]
     },
     "execution_count": 72,
     "metadata": {},
     "output_type": "execute_result"
    }
   ],
   "source": [
    "#query_report_dir = 'mnm_data/mnm_on_mnm_on_all_dbs_2025-02-05_23-04-27' #re-define the report directory if needed\n",
    "ncbi_q_file = f'./{query_report_dir}/ncbi_q_merged_w_acc_seq_db.csv'\n",
    "ncbi = pd.read_csv(ncbi_q_file)\n",
    "ncbi.head()"
   ]
  },
  {
   "cell_type": "code",
   "execution_count": null,
   "metadata": {},
   "outputs": [
    {
     "data": {
      "text/plain": [
       "(4309, 12)"
      ]
     },
     "execution_count": 73,
     "metadata": {},
     "output_type": "execute_result"
    }
   ],
   "source": [
    "ncbi.shape"
   ]
  },
  {
   "cell_type": "markdown",
   "metadata": {},
   "source": [
    "#### <font color=#c994c7>Load OPTICS Predictions</font>"
   ]
  },
  {
   "cell_type": "code",
   "execution_count": null,
   "metadata": {},
   "outputs": [
    {
     "data": {
      "text/html": [
       "<div>\n",
       "<style scoped>\n",
       "    .dataframe tbody tr th:only-of-type {\n",
       "        vertical-align: middle;\n",
       "    }\n",
       "\n",
       "    .dataframe tbody tr th {\n",
       "        vertical-align: top;\n",
       "    }\n",
       "\n",
       "    .dataframe thead th {\n",
       "        text-align: right;\n",
       "    }\n",
       "</style>\n",
       "<table border=\"1\" class=\"dataframe\">\n",
       "  <thead>\n",
       "    <tr style=\"text-align: right;\">\n",
       "      <th></th>\n",
       "      <th>Names</th>\n",
       "      <th>Single_Prediction</th>\n",
       "      <th>Prediction_Means</th>\n",
       "      <th>Prediction_Medians</th>\n",
       "      <th>Prediction_Lower_Bounds</th>\n",
       "      <th>Prediction_Upper_Bounds</th>\n",
       "      <th>Std_Deviation</th>\n",
       "      <th>%Identity_Nearest_VPOD_Sequence</th>\n",
       "      <th>Sequence_Length</th>\n",
       "      <th>Lmax_Hex_Color</th>\n",
       "    </tr>\n",
       "  </thead>\n",
       "  <tbody>\n",
       "    <tr>\n",
       "      <th>0</th>\n",
       "      <td>KC594699.1</td>\n",
       "      <td>562.7</td>\n",
       "      <td>557.4</td>\n",
       "      <td>558.2</td>\n",
       "      <td>543.6</td>\n",
       "      <td>568.1</td>\n",
       "      <td>6.9</td>\n",
       "      <td>91.597</td>\n",
       "      <td>357</td>\n",
       "      <td>#bbff00</td>\n",
       "    </tr>\n",
       "    <tr>\n",
       "      <th>1</th>\n",
       "      <td>KC594698.1</td>\n",
       "      <td>564.9</td>\n",
       "      <td>557.3</td>\n",
       "      <td>557.5</td>\n",
       "      <td>543.1</td>\n",
       "      <td>568.8</td>\n",
       "      <td>7.1</td>\n",
       "      <td>91.877</td>\n",
       "      <td>357</td>\n",
       "      <td>#baff00</td>\n",
       "    </tr>\n",
       "    <tr>\n",
       "      <th>2</th>\n",
       "      <td>KC594697.1</td>\n",
       "      <td>566.1</td>\n",
       "      <td>559.7</td>\n",
       "      <td>560.3</td>\n",
       "      <td>545.6</td>\n",
       "      <td>570.7</td>\n",
       "      <td>6.8</td>\n",
       "      <td>92.157</td>\n",
       "      <td>357</td>\n",
       "      <td>#c2ff00</td>\n",
       "    </tr>\n",
       "    <tr>\n",
       "      <th>3</th>\n",
       "      <td>KC594694.1</td>\n",
       "      <td>562.7</td>\n",
       "      <td>557.4</td>\n",
       "      <td>558.2</td>\n",
       "      <td>543.6</td>\n",
       "      <td>568.1</td>\n",
       "      <td>6.9</td>\n",
       "      <td>91.877</td>\n",
       "      <td>357</td>\n",
       "      <td>#bbff00</td>\n",
       "    </tr>\n",
       "    <tr>\n",
       "      <th>4</th>\n",
       "      <td>KC594702.1</td>\n",
       "      <td>514.2</td>\n",
       "      <td>509.9</td>\n",
       "      <td>511.0</td>\n",
       "      <td>494.6</td>\n",
       "      <td>521.1</td>\n",
       "      <td>7.1</td>\n",
       "      <td>86.364</td>\n",
       "      <td>352</td>\n",
       "      <td>#00ff04</td>\n",
       "    </tr>\n",
       "  </tbody>\n",
       "</table>\n",
       "</div>"
      ],
      "text/plain": [
       "        Names  Single_Prediction  Prediction_Means  Prediction_Medians  \\\n",
       "0  KC594699.1              562.7             557.4               558.2   \n",
       "1  KC594698.1              564.9             557.3               557.5   \n",
       "2  KC594697.1              566.1             559.7               560.3   \n",
       "3  KC594694.1              562.7             557.4               558.2   \n",
       "4  KC594702.1              514.2             509.9               511.0   \n",
       "\n",
       "   Prediction_Lower_Bounds  Prediction_Upper_Bounds  Std_Deviation  \\\n",
       "0                    543.6                    568.1            6.9   \n",
       "1                    543.1                    568.8            7.1   \n",
       "2                    545.6                    570.7            6.8   \n",
       "3                    543.6                    568.1            6.9   \n",
       "4                    494.6                    521.1            7.1   \n",
       "\n",
       "  %Identity_Nearest_VPOD_Sequence  Sequence_Length Lmax_Hex_Color  \n",
       "0                          91.597              357        #bbff00  \n",
       "1                          91.877              357        #baff00  \n",
       "2                          92.157              357        #c2ff00  \n",
       "3                          91.877              357        #bbff00  \n",
       "4                          86.364              352        #00ff04  "
      ]
     },
     "execution_count": 74,
     "metadata": {},
     "output_type": "execute_result"
    }
   ],
   "source": [
    "#pred_dir = 'e:\\safra\\Documents\\GitHub\\optics\\prediction_outputs\\optics_on_mnm_all_dbs_2025-02-06_23-25-42'\n",
    "#optics_pred_file = f'{pred_dir}/mnm_all_dbs_predictions.tsv'\n",
    "optics = pd.read_csv(optics_pred_file, sep='\\t')\n",
    "optics.head()"
   ]
  },
  {
   "cell_type": "code",
   "execution_count": null,
   "metadata": {},
   "outputs": [
    {
     "data": {
      "text/plain": [
       "(4309, 10)"
      ]
     },
     "execution_count": 75,
     "metadata": {},
     "output_type": "execute_result"
    }
   ],
   "source": [
    "optics.shape"
   ]
  },
  {
   "cell_type": "markdown",
   "metadata": {},
   "source": [
    "#### <font color=#c994c7>Load Lmax Compendium Data</font>"
   ]
  },
  {
   "cell_type": "code",
   "execution_count": null,
   "metadata": {},
   "outputs": [
    {
     "data": {
      "text/html": [
       "<div>\n",
       "<style scoped>\n",
       "    .dataframe tbody tr th:only-of-type {\n",
       "        vertical-align: middle;\n",
       "    }\n",
       "\n",
       "    .dataframe tbody tr th {\n",
       "        vertical-align: top;\n",
       "    }\n",
       "\n",
       "    .dataframe thead th {\n",
       "        text-align: right;\n",
       "    }\n",
       "</style>\n",
       "<table border=\"1\" class=\"dataframe\">\n",
       "  <thead>\n",
       "    <tr style=\"text-align: right;\">\n",
       "      <th></th>\n",
       "      <th>Full_Species</th>\n",
       "      <th>Accession</th>\n",
       "      <th>maxid</th>\n",
       "      <th>longcore_id</th>\n",
       "      <th>murwes_id</th>\n",
       "      <th>caves_id</th>\n",
       "      <th>porter2005_id</th>\n",
       "      <th>porter2006_id</th>\n",
       "      <th>kooi_id</th>\n",
       "      <th>LambdaMax</th>\n",
       "    </tr>\n",
       "    <tr>\n",
       "      <th>comp_db_id</th>\n",
       "      <th></th>\n",
       "      <th></th>\n",
       "      <th></th>\n",
       "      <th></th>\n",
       "      <th></th>\n",
       "      <th></th>\n",
       "      <th></th>\n",
       "      <th></th>\n",
       "      <th></th>\n",
       "      <th></th>\n",
       "    </tr>\n",
       "  </thead>\n",
       "  <tbody>\n",
       "    <tr>\n",
       "      <th>0</th>\n",
       "      <td>Drosophila melanogaster</td>\n",
       "      <td>Z86118</td>\n",
       "      <td>NaN</td>\n",
       "      <td>NaN</td>\n",
       "      <td>NaN</td>\n",
       "      <td>NaN</td>\n",
       "      <td>NaN</td>\n",
       "      <td>42.0</td>\n",
       "      <td>NaN</td>\n",
       "      <td>508.0</td>\n",
       "    </tr>\n",
       "    <tr>\n",
       "      <th>1</th>\n",
       "      <td>Loligo subulata</td>\n",
       "      <td>Z49108</td>\n",
       "      <td>NaN</td>\n",
       "      <td>NaN</td>\n",
       "      <td>NaN</td>\n",
       "      <td>NaN</td>\n",
       "      <td>NaN</td>\n",
       "      <td>2.0</td>\n",
       "      <td>NaN</td>\n",
       "      <td>499.0</td>\n",
       "    </tr>\n",
       "    <tr>\n",
       "      <th>2</th>\n",
       "      <td>Schistocerca gregaria</td>\n",
       "      <td>X80072</td>\n",
       "      <td>NaN</td>\n",
       "      <td>NaN</td>\n",
       "      <td>NaN</td>\n",
       "      <td>NaN</td>\n",
       "      <td>NaN</td>\n",
       "      <td>46.0</td>\n",
       "      <td>NaN</td>\n",
       "      <td>430.0</td>\n",
       "    </tr>\n",
       "    <tr>\n",
       "      <th>3</th>\n",
       "      <td>Schistocerca gregaria</td>\n",
       "      <td>X80071</td>\n",
       "      <td>NaN</td>\n",
       "      <td>NaN</td>\n",
       "      <td>NaN</td>\n",
       "      <td>NaN</td>\n",
       "      <td>NaN</td>\n",
       "      <td>39.0</td>\n",
       "      <td>NaN</td>\n",
       "      <td>520.0</td>\n",
       "    </tr>\n",
       "    <tr>\n",
       "      <th>4</th>\n",
       "      <td>Sphodromantis sp.</td>\n",
       "      <td>X71665</td>\n",
       "      <td>NaN</td>\n",
       "      <td>NaN</td>\n",
       "      <td>NaN</td>\n",
       "      <td>NaN</td>\n",
       "      <td>NaN</td>\n",
       "      <td>40.0</td>\n",
       "      <td>NaN</td>\n",
       "      <td>515.0</td>\n",
       "    </tr>\n",
       "  </tbody>\n",
       "</table>\n",
       "</div>"
      ],
      "text/plain": [
       "                       Full_Species Accession  maxid  longcore_id  murwes_id  \\\n",
       "comp_db_id                                                                     \n",
       "0           Drosophila melanogaster    Z86118    NaN          NaN        NaN   \n",
       "1                   Loligo subulata    Z49108    NaN          NaN        NaN   \n",
       "2             Schistocerca gregaria    X80072    NaN          NaN        NaN   \n",
       "3             Schistocerca gregaria    X80071    NaN          NaN        NaN   \n",
       "4                 Sphodromantis sp.    X71665    NaN          NaN        NaN   \n",
       "\n",
       "            caves_id  porter2005_id  porter2006_id  kooi_id  LambdaMax  \n",
       "comp_db_id                                                              \n",
       "0                NaN            NaN           42.0      NaN      508.0  \n",
       "1                NaN            NaN            2.0      NaN      499.0  \n",
       "2                NaN            NaN           46.0      NaN      430.0  \n",
       "3                NaN            NaN           39.0      NaN      520.0  \n",
       "4                NaN            NaN           40.0      NaN      515.0  "
      ]
     },
     "execution_count": 76,
     "metadata": {},
     "output_type": "execute_result"
    }
   ],
   "source": [
    "#source_file = './data_sources/lmax/clean_vpod_comp_acc_dbs_2025-02-14_16-43-51.csv'\n",
    "source_file = merged_df_file\n",
    "comp_db = pd.read_csv(source_file,index_col=0)\n",
    "comp_db.head()"
   ]
  },
  {
   "cell_type": "markdown",
   "metadata": {},
   "source": [
    "#### <font color=#c994c7>Run Mine-n-Match Script!</font>"
   ]
  },
  {
   "cell_type": "code",
   "execution_count": null,
   "metadata": {},
   "outputs": [
    {
     "name": "stdout",
     "output_type": "stream",
     "text": [
      "There were 0 unmatched species\n",
      "Existing Taxon Dictionary Found! One Moment While We Update It...\n",
      "\n"
     ]
    }
   ],
   "source": [
    "final_err_filtered_df = mine_n_match(email, query_report_dir, source_file, ncbi_q_file, optics_pred_file, out='vpod_acc_dbs', err_filter = 15)"
   ]
  },
  {
   "cell_type": "markdown",
   "metadata": {},
   "source": [
    "#### <font color=#c994c7>Check the final dataframe</font>"
   ]
  },
  {
   "cell_type": "code",
   "execution_count": null,
   "metadata": {},
   "outputs": [
    {
     "data": {
      "text/html": [
       "<div>\n",
       "<style scoped>\n",
       "    .dataframe tbody tr th:only-of-type {\n",
       "        vertical-align: middle;\n",
       "    }\n",
       "\n",
       "    .dataframe tbody tr th {\n",
       "        vertical-align: top;\n",
       "    }\n",
       "\n",
       "    .dataframe thead th {\n",
       "        text-align: right;\n",
       "    }\n",
       "</style>\n",
       "<table border=\"1\" class=\"dataframe\">\n",
       "  <thead>\n",
       "    <tr style=\"text-align: right;\">\n",
       "      <th></th>\n",
       "      <th>Accession</th>\n",
       "      <th>Phylum</th>\n",
       "      <th>Subphylum</th>\n",
       "      <th>Class</th>\n",
       "      <th>Genus</th>\n",
       "      <th>Species</th>\n",
       "      <th>Full_Species</th>\n",
       "      <th>%Identity_Nearest_VPOD_Sequence</th>\n",
       "      <th>prediction_value</th>\n",
       "      <th>LambdaMax</th>\n",
       "      <th>abs_diff</th>\n",
       "      <th>comp_db_id</th>\n",
       "      <th>Protein</th>\n",
       "      <th>Gene_Description</th>\n",
       "      <th>Notes</th>\n",
       "    </tr>\n",
       "    <tr>\n",
       "      <th>mnm_id</th>\n",
       "      <th></th>\n",
       "      <th></th>\n",
       "      <th></th>\n",
       "      <th></th>\n",
       "      <th></th>\n",
       "      <th></th>\n",
       "      <th></th>\n",
       "      <th></th>\n",
       "      <th></th>\n",
       "      <th></th>\n",
       "      <th></th>\n",
       "      <th></th>\n",
       "      <th></th>\n",
       "      <th></th>\n",
       "      <th></th>\n",
       "    </tr>\n",
       "  </thead>\n",
       "  <tbody>\n",
       "    <tr>\n",
       "      <th>0</th>\n",
       "      <td>OU342715.1-13552739-13554338</td>\n",
       "      <td>Chordata</td>\n",
       "      <td>Craniata</td>\n",
       "      <td>Actinopteri</td>\n",
       "      <td>Taurulus</td>\n",
       "      <td>bubalis</td>\n",
       "      <td>Taurulus bubalis</td>\n",
       "      <td>87.755</td>\n",
       "      <td>510.7</td>\n",
       "      <td>507.00</td>\n",
       "      <td>3.70</td>\n",
       "      <td>930</td>\n",
       "      <td>ANGTEGKNFYIPMSNRTGIVRSPFEYQQYYLADPIMFKLLAFYMFF...</td>\n",
       "      <td>rh2</td>\n",
       "      <td>NaN</td>\n",
       "    </tr>\n",
       "    <tr>\n",
       "      <th>1</th>\n",
       "      <td>STO|Pscil|UVS|contig03244</td>\n",
       "      <td>Arthropoda</td>\n",
       "      <td>Crustacea</td>\n",
       "      <td>Malacostraca</td>\n",
       "      <td>Pseudosquilla</td>\n",
       "      <td>ciliata</td>\n",
       "      <td>Pseudosquilla ciliata</td>\n",
       "      <td>55.172</td>\n",
       "      <td>409.6</td>\n",
       "      <td>403.17</td>\n",
       "      <td>6.43</td>\n",
       "      <td>2475</td>\n",
       "      <td>APLPKLDALVALPPALLANLTLRIGRGIRHCSGPKGSVFASRYEVK...</td>\n",
       "      <td>SWS/UVS</td>\n",
       "      <td>NaN</td>\n",
       "    </tr>\n",
       "    <tr>\n",
       "      <th>2</th>\n",
       "      <td>DEC|Nenor|LWS|TRINITY_DN39887_c5_g3_i2</td>\n",
       "      <td>Arthropoda</td>\n",
       "      <td>Crustacea</td>\n",
       "      <td>Malacostraca</td>\n",
       "      <td>Nephrops</td>\n",
       "      <td>norvegicus</td>\n",
       "      <td>Nephrops norvegicus</td>\n",
       "      <td>70.642</td>\n",
       "      <td>510.8</td>\n",
       "      <td>515.00</td>\n",
       "      <td>4.20</td>\n",
       "      <td>3339</td>\n",
       "      <td>ASNNLPSTNPYGNYTVVDTVPKEILHMVDPHWYQFPPMNPLWYGLV...</td>\n",
       "      <td>LWS</td>\n",
       "      <td>NaN</td>\n",
       "    </tr>\n",
       "    <tr>\n",
       "      <th>3</th>\n",
       "      <td>CM010448.1-19773550-19776969</td>\n",
       "      <td>Chordata</td>\n",
       "      <td>Craniata</td>\n",
       "      <td>Actinopteri</td>\n",
       "      <td>Carassius</td>\n",
       "      <td>auratus</td>\n",
       "      <td>Carassius auratus</td>\n",
       "      <td>34.328</td>\n",
       "      <td>444.3</td>\n",
       "      <td>452.00</td>\n",
       "      <td>7.70</td>\n",
       "      <td>175</td>\n",
       "      <td>DIHVLNVTVYRVSNGGETAIGVYLVILGLSWIGNGVVILLLTKQRK...</td>\n",
       "      <td>opn6</td>\n",
       "      <td>NaN</td>\n",
       "    </tr>\n",
       "    <tr>\n",
       "      <th>4</th>\n",
       "      <td>DEC|Sydeb|MWS|KP234272.1</td>\n",
       "      <td>Arthropoda</td>\n",
       "      <td>Crustacea</td>\n",
       "      <td>Malacostraca</td>\n",
       "      <td>Systellaspis</td>\n",
       "      <td>debilis</td>\n",
       "      <td>Systellaspis debilis</td>\n",
       "      <td>40.659</td>\n",
       "      <td>483.8</td>\n",
       "      <td>493.00</td>\n",
       "      <td>9.20</td>\n",
       "      <td>3315</td>\n",
       "      <td>DKMAGTQNASYAMSFTRGGSLISYGYPEGVTLMDLLPEDVKPLIHS...</td>\n",
       "      <td>MWS2</td>\n",
       "      <td>NaN</td>\n",
       "    </tr>\n",
       "  </tbody>\n",
       "</table>\n",
       "</div>"
      ],
      "text/plain": [
       "                                     Accession      Phylum  Subphylum  \\\n",
       "mnm_id                                                                  \n",
       "0                 OU342715.1-13552739-13554338    Chordata   Craniata   \n",
       "1                    STO|Pscil|UVS|contig03244  Arthropoda  Crustacea   \n",
       "2       DEC|Nenor|LWS|TRINITY_DN39887_c5_g3_i2  Arthropoda  Crustacea   \n",
       "3                 CM010448.1-19773550-19776969    Chordata   Craniata   \n",
       "4                     DEC|Sydeb|MWS|KP234272.1  Arthropoda  Crustacea   \n",
       "\n",
       "               Class          Genus     Species           Full_Species  \\\n",
       "mnm_id                                                                   \n",
       "0        Actinopteri       Taurulus     bubalis       Taurulus bubalis   \n",
       "1       Malacostraca  Pseudosquilla     ciliata  Pseudosquilla ciliata   \n",
       "2       Malacostraca       Nephrops  norvegicus    Nephrops norvegicus   \n",
       "3        Actinopteri      Carassius     auratus      Carassius auratus   \n",
       "4       Malacostraca   Systellaspis     debilis   Systellaspis debilis   \n",
       "\n",
       "       %Identity_Nearest_VPOD_Sequence  prediction_value  LambdaMax  abs_diff  \\\n",
       "mnm_id                                                                          \n",
       "0                               87.755             510.7     507.00      3.70   \n",
       "1                               55.172             409.6     403.17      6.43   \n",
       "2                               70.642             510.8     515.00      4.20   \n",
       "3                               34.328             444.3     452.00      7.70   \n",
       "4                               40.659             483.8     493.00      9.20   \n",
       "\n",
       "        comp_db_id                                            Protein  \\\n",
       "mnm_id                                                                  \n",
       "0              930  ANGTEGKNFYIPMSNRTGIVRSPFEYQQYYLADPIMFKLLAFYMFF...   \n",
       "1             2475  APLPKLDALVALPPALLANLTLRIGRGIRHCSGPKGSVFASRYEVK...   \n",
       "2             3339  ASNNLPSTNPYGNYTVVDTVPKEILHMVDPHWYQFPPMNPLWYGLV...   \n",
       "3              175  DIHVLNVTVYRVSNGGETAIGVYLVILGLSWIGNGVVILLLTKQRK...   \n",
       "4             3315  DKMAGTQNASYAMSFTRGGSLISYGYPEGVTLMDLLPEDVKPLIHS...   \n",
       "\n",
       "       Gene_Description Notes  \n",
       "mnm_id                         \n",
       "0                   rh2   NaN  \n",
       "1               SWS/UVS   NaN  \n",
       "2                   LWS   NaN  \n",
       "3                  opn6   NaN  \n",
       "4                  MWS2   NaN  "
      ]
     },
     "execution_count": 78,
     "metadata": {},
     "output_type": "execute_result"
    }
   ],
   "source": [
    "final_err_filtered_df.head()"
   ]
  },
  {
   "cell_type": "code",
   "execution_count": null,
   "metadata": {},
   "outputs": [
    {
     "data": {
      "text/plain": [
       "(535, 15)"
      ]
     },
     "execution_count": 79,
     "metadata": {},
     "output_type": "execute_result"
    }
   ],
   "source": [
    "final_err_filtered_df.shape"
   ]
  }
 ],
 "metadata": {
  "kernelspec": {
   "display_name": "deepBreaks",
   "language": "python",
   "name": "python3"
  },
  "language_info": {
   "codemirror_mode": {
    "name": "ipython",
    "version": 3
   },
   "file_extension": ".py",
   "mimetype": "text/x-python",
   "name": "python",
   "nbconvert_exporter": "python",
   "pygments_lexer": "ipython3",
   "version": "3.9.17"
  },
  "orig_nbformat": 4
 },
 "nbformat": 4,
 "nbformat_minor": 2
}
