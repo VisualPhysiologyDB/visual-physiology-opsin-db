{
 "cells": [
  {
   "cell_type": "code",
   "execution_count": 13,
   "metadata": {},
   "outputs": [
    {
     "name": "stdout",
     "output_type": "stream",
     "text": [
      "{'Count': '1265', 'RetMax': '1265', 'RetStart': '0', 'IdList': ['2512316970', '2512316968', '2512316966', '2447590709', '2441950478', '2441950476', '2441950474', '2441535910', '2441535908', '2441535906', '2441535902', '2441535900', '2441535898', '2441535896', '2441535894', '2441535892', '2441535890', '2441535888', '2441535886', '2441535884', '2441535882', '2441535880', '2441535878', '2441535876', '2441535874', '2441535872', '2441535870', '2441535868', '2441535866', '2441535864', '2441535862', '2441535860', '2441535858', '2441535856', '2441535854', '2441535852', '2441535850', '2441535848', '2423790201', '2423790199', '2423790197', '2423790195', '2397974055', '2397974045', '2397974037', '2397974028', '2397974018', '2397974009', '2397974000', '2397973992', '2397973983', '2397973973', '2397973964', '2397973953', '2397973944', '2397973935', '2397973926', '2397973915', '2397973905', '2397973895', '2397973886', '2397973876', '2397973868', '2397973859', '2397973850', '2397973840', '2397973831', '2397973821', '2397973812', '2397973802', '2397973793', '2397973782', '2288316757', '2288316755', '2288316753', '2288316751', '2288316749', '2288316747', '2288316745', '2288316743', '2288316740', '2288316738', '2286212102', '2286212100', '2286212098', '2230774426', '2206603074', '2075854866', '2075849951', '2055868145', '2055868141', '2055868139', '2055868137', '2055868135', '2055868133', '2055868131', '2055868129', '2055868123', '2055868121', '2055868119', '2055868117', '2055868115', '2055868113', '2055868111', '2055868109', '2055868107', '2055868105', '2055868103', '2055868099', '2055868097', '2055868093', '2055868091', '2055868089', '2055868087', '2055868083', '2055868081', '2055868079', '2055868077', '2055868073', '2055868071', '2055868069', '2055868067', '2055868065', '2055868061', '2055868059', '2055868055', '2055868045', '2055868043', '2055868039', '2055868037', '2055868033', '2055868031', '2055868029', '2055868027', '2055868025', '2055868023', '2055868021', '2055868019', '2055868017', '2055868015', '2055868013', '2055868007', '2055868005', '2055868003', '2055867999', '2055867995', '2055867993', '2055867991', '2055867989', '2055867987', '2055867985', '2055867983', '2055867981', '2055867979', '2055867977', '2055867975', '2055867973', '2055867971', '2055867961', '2055867959', '2055867957', '2055867955', '2055867953', '2055867951', '2055867947', '2055867945', '2055867943', '2055867941', '2055867937', '2055867935', '2055867933', '2055867929', '2055867927', '2055867925', '2055867923', '2055867921', '2055867919', '2055867917', '2055867915', '2055867913', '2055867909', '1868030830', '1868030828', '1868030826', '1868030824', '1868030822', '1976728595', '1976728541', '1976728389', '1976728246', '1976728137', '1976728035', '1976727920', '1976727782', '1976727155', '1976726303', '1976726188', '1976726072', '1934902436', '1934902434', '1914848952', '1914848914', '1870077501', '1796388298', '1796388296', '1811394783', '1811394781', '1811394779', '1811394777', '1796388302', '1796388300', '1796388294', '1772512064', '1772512060', '1764667990', '1764667988', '1764667986', '1764667984', '1709857396', '1709857164', '1708060995', '1477770107', '1597625662', '1597625651', '1597625649', '1597625647', '1597625636', '1597625634', '1135511483', '1135511481', '1135511477', '1135511475', '1135511471', '1135511469', '1135511467', '1135511463', '1135511461', '1135511459', '1135511455', '1135511453', '1135511451', '1135511449', '1135511447', '1135511445', '1135511443', '1135511441', '1135511439', '1135511437', '1135511431', '1135511429', '1135511427', '1135511425', '1135511423', '1135511421', '1135511419', '1135511417', '1135511415', '1135511413', '1135511411', '1135511409', '1135511407', '1135511405', '1135511403', '1135511399', '1135511397', '1135511395', '1135511393', '1135511389', '1135511387', '1135511385', '1135511383', '1135511381', '1135511379', '1135511377', '1135511375', '1135511367', '1135511363', '1135511359', '1135511357', '1135511355', '1135511353', '1135511351', '1135511345', '1135511343', '1135511339', '1135511335', '1135511331', '1135511329', '1135511327', '1135511323', '1135511321', '1135511319', '1135511317', '1135511315', '1135511313', '1135511311', '1135511307', '1135511303', '1135511301', '1135511297', '1135511295', '1135511287', '1135511285', '1135511283', '1135511281', '1135511279', '1135511277', '1135511275', '1135511273', '1135511271', '1135511269', '1135511267', '1135511259', '1135511257', '1135511255', '1135511251', '1135511249', '1135511247', '1135511245', '1135511243', '1135511241', '1135511239', '1135511237', '1135511235', '1135511231', '1135511229', '1135511227', '1135511225', '1135511221', '1135511219', '1135511217', '1135511215', '1135511213', '1135511211', '1135511209', '1135511207', '1135511205', '1135511203', '1135511201', '1135511199', '1135511197', '1135511195', '1135511193', '1135511191', '1135511189', '1135511187', '1135511185', '1135511183', '1135511181', '1135511177', '1135511175', '1135511173', '1135511171', '1135511169', '1135511167', '1135511165', '1135511163', '1135511161', '1135511159', '1135511149', '1135511141', '1135511139', '1135511137', '1135511131', '1135511129', '1135511127', '1135511125', '1135511121', '1135511115', '1135511111', '1135511105', '1135511103', '1135511101', '1135511099', '1135511435', '1135511433', '1566524364', '4417918', '4248648', '4247291', '4247238', '4201953', '4201291', '4200493', '3832851', '3627851', '3477919', '3476491', '3476417', '3339439', '3338960', '2864540', '2701878', '2701372', '2701052', '2700325', '2340255', '1196820300', '1196820298', '1196820296', '1196820294', '1196820290', '1196820288', '1196820286', '1196820284', '1196820282', '1196820280', '1196820278', '1196820276', '1196820274', '1196820272', '1196820270', '1196820268', '1196820266', '1196820264', '1196820262', '1196820260', '1196820258', '1196820256', '1196820254', '1196820252', '1196820246', '1196820244', '1196820242', '1196820240', '1196820238', '1196820236', '1196820234', '1196820232', '1196820230', '1196820228', '1196820224', '1196820222', '1196820220', '1196820218', '1196820216', '1196820212', '1196820210', '1196820208', '1196820204', '1196820202', '1196820200', '1196820196', '1196820194', '1196820192', '1196820190', '1196820188', '1196820186', '1196820184', '1196820182', '1196820180', '1196820178', '1196820176', '1196820174', '1196820172', '1196820170', '1196820168', '1196820166', '1196820164', '1196820162', '1196820160', '1196820158', '1196820156', '1196820154', '1196820152', '1196820150', '1196820146', '1196820144', '1196820142', '1196820140', '1196820138', '1196820136', '1196820134', '1196820132', '1196820128', '1196820126', '1196820124', '1196820122', '1196820120', '1196820118', '1196820116', '1196820114', '1196820110', '1196820108', '1196820106', '1196820104', '1196820102', '1196820100', '1196820098', '1196820096', '1196820094', '1196820092', '1196820090', '1196820088', '1196820086', '1196820084', '1196820082', '1196820080', '1196820078', '1196820076', '1196820074', '1196820072', '1196820070', '1196820068', '1196820066', '1196820064', '1196820061', '1196820059', '1196820057', '1196820055', '1196820053', '1196820051', '1196820049', '1196820047', '1196820045', '1196820043', '1196820041', '1196820039', '1196820037', '1196820035', '1196820033', '1196820031', '1196820029', '1196820027', '1196820025', '1196820023', '1196820021', '1196820019', '1196820017', '1196820015', '1196820013', '1196820011', '1196820009', '1196820007', '1196820005', '1196820003', '1196820001', '1196819999', '1196819997', '1196819995', '1196819993', '1196819991', '1196819989', '1196819987', '1196819985', '1196819983', '1196819981', '1196819979', '1196819977', '1196819975', '1196819973', '1196819971', '1196819969', '1196819967', '1196819965', '1196819963', '1196819961', '1196819959', '1196819957', '1196819955', '1196819953', '1196819951', '1196819949', '1196819947', '1196819945', '1196819943', '1196819941', '1196819939', '1196819937', '1196819935', '1196819933', '1196819931', '1196819929', '1196819927', '1196819925', '1196819923', '1196819921', '1196819919', '1196819917', '1196819915', '1196819913', '1196819911', '1196819909', '1196819907', '1196819905', '1196819903', '1196819901', '1196819899', '1196819897', '1196819895', '1196819893', '1196819891', '1196819889', '1196819887', '1196819883', '1196819881', '1196819879', '1196819877', '1196819875', '1196819873', '1196819871', '1196819869', '1196819867', '1196819865', '1196819863', '1196819861', '1196819859', '1196819857', '1196819855', '1196819853', '1196819851', '1196819849', '1196819847', '1391733006', '1391731207', '1391731205', '1391729722', '1391729720', '1391729718', '1391729716', '1391729714', '1391729712', '1391729710', '1039337583', '1039337579', '1039337577', '1039337575', '1039337573', '1039337571', '1039337569', '1039337567', '1039337565', '1039337563', '1039337561', '1039337559', '1039337557', '1039337555', '1039337553', '1039337547', '1039337545', '1039337543', '1039337541', '1039337537', '1039337535', '1039337533', '1039337531', '1039337529', '1039337527', '1039337525', '1039337523', '1039337521', '1039337519', '1039337517', '1039337515', '1039337513', '1039337511', '1036032532', '1036032528', '1015570590', '1015570588', '1015570586', '1015570584', '1009517727', '1009517719', '797932774', '797932770', '797932766', '936447389', '936447387', '936447385', '936447383', '936447381', '936447379', '936447377', '936447375', '936447373', '936447371', '936447369', '936447367', '936447363', '936447361', '936447359', '936447357', '936447355', '936447351', '936447349', '936447347', '936447345', '761599462', '761599454', '761599447', '761599440', '761599433', '761599426', '761599421', '761599414', '761599409', '761599403', '761599398', '761599390', '761599383', '761599371', '761599363', '761599356', '761599350', '761599345', '761599339', '761599333', '761599321', '761599317', '761599312', '761599309', '761599304', '761599293', '761599278', '761599270', '761599264', '761599258', '761599251', '761599247', '761599244', '761599239', '761599235', '761599232', '761599230', '761599225', '761599218', '761599210', '761599188', '761599180', '761599170', '761599162', '761599142', '761599132', '761599123', '761599115', '761599107', '761599100', '761599093', '761599086', '761599079', '761599072', '761599065', '761599058', '761599051', '761599045', '761599039', '761599032', '761599022', '761599003', '761598995', '761598988', '761598980', '761598972', '761598965', '761598959', '761598953', '761598946', '761598908', '761598906', '761598904', '761598902', '761598900', '761598898', '761598896', '761598894', '761598892', '761598890', '761598888', '761598886', '761598884', '761598882', '761598880', '761598878', '761598876', '761598874', '761598872', '761598870', '761598868', '761598866', '761598864', '761598862', '761598860', '761598858', '761598856', '761598854', '761598852', '761598850', '761598848', '761598846', '761598844', '761598842', '761598840', '761598838', '761598836', '761598834', '761598832', '761598828', '761598826', '761598822', '761598820', '761598818', '761598816', '761598814', '761598812', '761598810', '761598808', '761598806', '761598804', '761598802', '761598800', '761598798', '761598796', '761598794', '761598792', '761598784', '761598782', '761598780', '761598778', '761598776', '761598774', '761598772', '761598770', '761598768', '761598766', '761598764', '761598762', '761598760', '761598758', '761598756', '761598754', '761598750', '761598743', '761598741', '761598739', '761598737', '761598735', '761598733', '761598731', '761598728', '761598726', '761598724', '761598722', '761598720', '761598718', '761598716', '761598714', '761598712', '761598710', '761598708', '761598706', '761598704', '761598702', '761598700', '761598698', '761598696', '761598691', '761598689', '761598687', '761598685', '761598683', '761598681', '761598679', '761598677', '761598675', '761598673', '761598671', '761598669', '761598667', '761598665', '761598663', '761598661', '761598659', '761598657', '761598655', '761598653', '761598651', '761598649', '761598639', '761598637', '761598635', '761598633', '761598631', '761598625', '761598617', '761598607', '761598600', '761598591', '761598585', '761598577', '761598563', '761598554', '761598546', '761598538', '761598531', '761598513', '761598466', '761598454', '761598442', '761598434', '761598425', '761598416', '761598407', '761598399', '761598391', '761598382', '761598374', '761598367', '761598359', '761598351', '761598343', '761598334', '761598326', '761598318', '761598309', '761598300', '761598291', '761598280', '916486910', '916486404', '916370603', '856116596', '761600223', '761600213', '761600205', '761600197', '761600190', '761600181', '761600173', '761600166', '761600153', '761600139', '761600132', '761600124', '761600100', '761600094', '761600086', '761600077', '761600063', '725727661', '725727635', '726973326', '557356275', '557356273', '557356271', '557356269', '557356267', '557356265', '557356263', '557356261', '557356259', '557356257', '557356255', '557356253', '666669472', '662032346', '662032344', '662032342', '662032340', '662032338', '662032336', '662032334', '662032332', '662032330', '662032328', '662032326', '662032324', '662032322', '662032320', '662032318', '662032316', '662032314', '662032312', '662032310', '662032308', '662032306', '662032304', '662032302', '662032300', '662032298', '662032296', '662032294', '662032292', '662032290', '662032288', '662032286', '662032284', '662032282', '662032280', '662032278', '662032276', '662032274', '662032272', '662032270', '662032268', '662032266', '662032264', '662032262', '662032260', '587758525', '334690671', '334690669', '334690667', '557955936', '557955934', '557955932', '557955930', '557955928', '557955926', '557955924', '557955922', '557955920', '557955918', '557955916', '557955914', '557955912', '557955910', '557955908', '557955906', '557955904', '557955902', '557955900', '557955898', '557955896', '557955894', '557955892', '557955890', '557955888', '557955886', '557955884', '557955882', '557955880', '557955878', '557955876', '557955874', '557955872', '557955870', '557955868', '465828094', '465828049', '460988709', '460988687', '460988666', '460988643', '459213728', '459213726', '459213724', '459213722', '459213720', '459213718', '459213716', '422001816', '422001814', '422001812', '422001804', '422001802', '422001800', '422001798', '422001796', '422001788', '334363049', '334363047', '334363045', '334363043', '334690683', '334690681', '334690679', '334690677', '334690675', '334690673', '341833529', '320130495', '185479012', '46561743', '166202083', '308072136', '308072134', '308072132', '308072130', '3046383', '3046381', '307950009', '307950007', '307950005', '307950001', '307949999', '307949997', '307949995', '307949993', '307949991', '307949989', '307949987', '307949985', '307949983', '307949981', '307949979', '307949977', '307949975', '307949973', '307949971', '307949969', '307949967', '307949965', '307949963', '307949961', '307949959', '307949957', '307949955', '307949953', '307949951', '307949949', '158299', '158009', '158007', '165988821', '159798090', '159798088', '55846606', '51574111', '51574109', '50981732', '4210484', '4210482', '4210480', '1841520', '1765982', '156511', '2935335', '2935333', '193873561', '158512153', '31872031', '31872029', '31745684', '31745682', '31745678', '31745676', '10441607', '10441605', '4768608', '4768278', '1737450', '290463445', '289655553', '289655551', '289655549', '289655547', '289655545', '289655543', '289655541', '289655539', '289655537', '289655529', '289655527', '289655525', '289655523', '289655521', '289655519', '289655517', '227203903', '227203901', '227203899', '227203897', '197259976', '197259974', '197259972', '185479225', '166202089', '89213691', '89213689', '53760546', '51574113', '95020350', '224184719', '237862039', '185479279', '185479198', '185479169', '185479144', '185479116', '185479054', '185478990', '166202087', '166202085', '185479093', '185479072', '99079820', '99079818', '99079816', '99079814', '99079812', '99079810', '99079808', '99079806', '99079802', '99079800', '99079798', '62860653', '62860651', '62860647', '62860643', '62860635', '50981740', '226371534', '226371532', '219566008', '219566006', '219566004', '205825431', '188593534', '94469257', '31711452', '158512151', '62860649', '157502893', '115490649', '115490647', '115490641', '115490639', '115490627', '115490625', '50981746', '50981744', '31711456', '31711454', '31711450', '31711448', '31711446', '31711444', '31711442', '31711440', '31711438', '62860657', '124107289', '89213687', '89213685', '89213683', '89213681', '62860645', '62860639', '62860637', '50981742', '50981738', '50981736', '50981734', '62860665', '62860663', '62860659', '82546866', '82546864', '82546862', '82546860', '82546858', '82546856', '73661140', '73661138', '73661136', '60101245', '54633209', '51534943', '29420458', '15216298', '3327837', '3327835', '3327833'], 'TranslationSet': [], 'TranslationStack': [{'Term': 'txid50557[Organism:exp]', 'Field': 'Organism', 'Count': '41064703', 'Explode': 'Y'}, {'Term': 'opsin[All Fields]', 'Field': 'All Fields', 'Count': '37988', 'Explode': 'N'}, {'Term': 'complete[All Fields]', 'Field': 'All Fields', 'Count': '57111888', 'Explode': 'N'}, 'AND', {'Term': 'cds[All Fields]', 'Field': 'All Fields', 'Count': '168476869', 'Explode': 'N'}, 'AND', {'Term': 'voucher[All Fields]', 'Field': 'All Fields', 'Count': '11276500', 'Explode': 'N'}, 'NOT', 'GROUP', 'AND'], 'QueryTranslation': 'txid50557[Organism:exp] AND (opsin[All Fields] AND complete[All Fields] AND cds[All Fields] NOT voucher[All Fields])'}\n"
     ]
    }
   ],
   "source": [
    "from Bio import Entrez\n",
    "from Bio import SeqIO\n",
    "\n",
    "# test how to find the \n",
    "Entrez.email = \"wwyh.2017@gmail.com\"     # Always tell NCBI who you are\n",
    "handle = Entrez.esearch(db=\"nuccore\",\n",
    "                        term=\"txid50557[Organism:exp] AND (opsin[All Fields] AND complete[All Fields] AND cds[All Fields] NOT voucher)\", \n",
    "                        api_key = \"1efb120056e1cea873ba8d85d6692abd5d09\", # using api key allows 10 fetch per second\n",
    "                        retmax = 1300)\n",
    "record = Entrez.read(handle)\n",
    "\n",
    "print(record)"
   ]
  },
  {
   "cell_type": "code",
   "execution_count": 14,
   "metadata": {},
   "outputs": [
    {
     "data": {
      "text/plain": [
       "1265"
      ]
     },
     "execution_count": 14,
     "metadata": {},
     "output_type": "execute_result"
    }
   ],
   "source": [
    "q_list = record[\"IdList\"]\n",
    "len(q_list)"
   ]
  },
  {
   "cell_type": "code",
   "execution_count": 26,
   "metadata": {},
   "outputs": [
    {
     "name": "stdout",
     "output_type": "stream",
     "text": [
      "ID: LC710140.1\n",
      "Name: LC710140\n",
      "Description: Anopheles stephensi Asop9 mRNA for SWS visual opsin, complete cds\n",
      "Number of features: 3\n",
      "/molecule_type=mRNA\n",
      "/topology=linear\n",
      "/data_file_division=INV\n",
      "/date=30-MAY-2023\n",
      "/accessions=['LC710140']\n",
      "/sequence_version=1\n",
      "/keywords=['']\n",
      "/source=Anopheles stephensi (Asian malaria mosquito)\n",
      "/organism=Anopheles stephensi\n",
      "/taxonomy=['Eukaryota', 'Metazoa', 'Ecdysozoa', 'Arthropoda', 'Hexapoda', 'Insecta', 'Pterygota', 'Neoptera', 'Endopterygota', 'Diptera', 'Nematocera', 'Culicoidea', 'Culicidae', 'Anophelinae', 'Anopheles']\n",
      "/references=[Reference(title='Expression of a homologue of a vertebrate non-visual opsin Opn3 in the insect photoreceptors', ...), Reference(title='Direct Submission', ...)]\n",
      "Seq('ATGTTTCTGGTGAATGAAACCATGGCCGAGGGCGCCATGCTTTTGCCGATGGCG...TAA')\n"
     ]
    }
   ],
   "source": [
    "#test_fet = Entrez.efetch(db=\"nuccore\", id=q_list[0], rettype=\"fasta\")\n",
    "test_fet = Entrez.efetch(db=\"nuccore\", id=q_list[0], rettype=\"gb\", api_key = \"1efb120056e1cea873ba8d85d6692abd5d09\")\n",
    "#test_fet = Entrez.efetch(db=\"nuccore\", id=q_list[0], retmode=\"text\")\n",
    "\n",
    "seq_r = SeqIO.read(test_fet, \"genbank\")\n",
    "test_fet.close()\n",
    "print(seq_r)\n"
   ]
  },
  {
   "cell_type": "code",
   "execution_count": 44,
   "metadata": {},
   "outputs": [
    {
     "name": "stdout",
     "output_type": "stream",
     "text": [
      "LC710140\n",
      "ATGTTTCTGGTGAATGAAACCATGGCCGAGGGCGCCATGCTTTTGCCGATGGCGCGCACGGCCGGCGAAATGCCGAAGCTGCTGGGTTGGAATTTGCCGTCCGAGGAGCAGTACCTGGTGCACGATCACTGGAAGGGTTTCCCGGCACCGCCGTACTACATGCATCTGATGCTCGCCATGATCTACTTCGTGCTGATGAACACTTCCCTCATCGGCAATGGCATCGTGTTGTGGATCTTTGGCACCTCGAAATCACTTCGCAACGGCTCGAACATGTTCATCATCAATCTGGCCATCTTCGATCTGCTGATGATGTGCGAAATGCCCATGTTCCTGGTGAACTCGTTCTCGGAGCGATTGGTCGGGTACGGGCTGGGTTGCTCGGTGTACGCGGCCCTCGGCAGCATGTCCGGTATCGGTGGTGCCATCTCGAATGCCGTGATCGCGTTCGATCGCTACCGTACGATCTCGAACCCGCTGGACGGCCGGCTCAGTCGCGTGCAGGCAGCTCTGCTAATCTGTCTCACCTGGCTGTGGACGATGCCGTTCACACTGTTGCCGCTGTTCGAGATCTGGGGTCGCTACATCCCGGAAGGATACCTGACGACCTGCTCGTTCGACTATCTCACCGACGATCAGGACACGCGTGTGTTCGTGGGCTGCATCTTCACCTGGGCGTACGTCATTCCGATGATCTTCATTTGCTACTTCTACGCCCGGCTCTTTGGCCACGTGCGGCAGCACGAGCTGATGCTGAAGAATCAGGCGCGCAAGATGAACGTGGAGTCGCTCACGGCAAACCGCAACGAGAAGGCACAGGCCGTCGAGATGCGCATTGCCAAGGCCGCCTTCACCATCTTCTTCCTGTTCGTGTGTGCGTGGACACCGTACGCCATCGTCACCATGATCGGTGCGTTCGGTGACAGGACGATGCTGACACCGTTCGTCACGATGGTGCCGGCGGTTTGCTGCAAGATAGTGTCCTGTCTCGATCCGTGGGTGTACGCCATCAGCCACCCGAAGTACCGCCAGGAGCTGGAACGCCGGCTGCCCTGGATGGGTATCAAGGAGGCGGATGACAACGTCAGCACGACCGAAAGCAAAGCGACCGTCGTCGTGGATCAGCCCGCCGGTGGAGACAACGCCGCCAGCTAA\n",
      "Anopheles stephensi Asop9 mRNA for SWS visual opsin, complete cds\n",
      "LC710140.1\n"
     ]
    },
    {
     "data": {
      "text/plain": [
       "[SeqFeature(SimpleLocation(ExactPosition(0), ExactPosition(1155), strand=1), type='source', qualifiers=...),\n",
       " SeqFeature(SimpleLocation(ExactPosition(0), ExactPosition(1155), strand=1), type='gene', qualifiers=...),\n",
       " SeqFeature(SimpleLocation(ExactPosition(0), ExactPosition(1155), strand=1), type='CDS', qualifiers=...)]"
      ]
     },
     "execution_count": 44,
     "metadata": {},
     "output_type": "execute_result"
    }
   ],
   "source": [
    "print(seq_r.name)\n",
    "print(seq_r.seq)\n",
    "print(seq_r.description)\n",
    "print(seq_r.id)\n",
    "seq_r.annotations[\"organism\"]"
   ]
  },
  {
   "cell_type": "code",
   "execution_count": 49,
   "metadata": {},
   "outputs": [
    {
     "name": "stdout",
     "output_type": "stream",
     "text": [
      "type: CDS\n",
      "location: [0:1155](+)\n",
      "qualifiers:\n",
      "    Key: codon_start, Value: ['1']\n",
      "    Key: gene, Value: ['Asop9']\n",
      "    Key: product, Value: ['SWS visual opsin']\n",
      "    Key: protein_id, Value: ['BDI24346.1']\n",
      "    Key: translation, Value: ['MFLVNETMAEGAMLLPMARTAGEMPKLLGWNLPSEEQYLVHDHWKGFPAPPYYMHLMLAMIYFVLMNTSLIGNGIVLWIFGTSKSLRNGSNMFIINLAIFDLLMMCEMPMFLVNSFSERLVGYGLGCSVYAALGSMSGIGGAISNAVIAFDRYRTISNPLDGRLSRVQAALLICLTWLWTMPFTLLPLFEIWGRYIPEGYLTTCSFDYLTDDQDTRVFVGCIFTWAYVIPMIFICYFYARLFGHVRQHELMLKNQARKMNVESLTANRNEKAQAVEMRIAKAAFTIFFLFVCAWTPYAIVTMIGAFGDRTMLTPFVTMVPAVCCKIVSCLDPWVYAISHPKYRQELERRLPWMGIKEADDNVSTTESKATVVVDQPAGGDNAAS']\n",
      "\n"
     ]
    }
   ],
   "source": [
    "test_amseq = seq_r.features[2]\n",
    "print(test_amseq)"
   ]
  },
  {
   "cell_type": "code",
   "execution_count": 52,
   "metadata": {},
   "outputs": [
    {
     "data": {
      "text/plain": [
       "['MFLVNETMAEGAMLLPMARTAGEMPKLLGWNLPSEEQYLVHDHWKGFPAPPYYMHLMLAMIYFVLMNTSLIGNGIVLWIFGTSKSLRNGSNMFIINLAIFDLLMMCEMPMFLVNSFSERLVGYGLGCSVYAALGSMSGIGGAISNAVIAFDRYRTISNPLDGRLSRVQAALLICLTWLWTMPFTLLPLFEIWGRYIPEGYLTTCSFDYLTDDQDTRVFVGCIFTWAYVIPMIFICYFYARLFGHVRQHELMLKNQARKMNVESLTANRNEKAQAVEMRIAKAAFTIFFLFVCAWTPYAIVTMIGAFGDRTMLTPFVTMVPAVCCKIVSCLDPWVYAISHPKYRQELERRLPWMGIKEADDNVSTTESKATVVVDQPAGGDNAAS']"
      ]
     },
     "execution_count": 52,
     "metadata": {},
     "output_type": "execute_result"
    }
   ],
   "source": [
    "test_amseq.qualifiers[\"translation\"]"
   ]
  },
  {
   "cell_type": "code",
   "execution_count": 53,
   "metadata": {},
   "outputs": [
    {
     "name": "stdout",
     "output_type": "stream",
     "text": [
      "['MFLVNETMAEGAMLLPMARTAGEMPKLLGWNLPSEEQYLVHDHWKGFPAPPYYMHLMLAMIYFVLMNTSLIGNGIVLWIFGTSKSLRNGSNMFIINLAIFDLLMMCEMPMFLVNSFSERLVGYGLGCSVYAALGSMSGIGGAISNAVIAFDRYRTISNPLDGRLSRVQAALLICLTWLWTMPFTLLPLFEIWGRYIPEGYLTTCSFDYLTDDQDTRVFVGCIFTWAYVIPMIFICYFYARLFGHVRQHELMLKNQARKMNVESLTANRNEKAQAVEMRIAKAAFTIFFLFVCAWTPYAIVTMIGAFGDRTMLTPFVTMVPAVCCKIVSCLDPWVYAISHPKYRQELERRLPWMGIKEADDNVSTTESKATVVVDQPAGGDNAAS']\n"
     ]
    }
   ],
   "source": [
    "print(seq_r.features[2].qualifiers[\"translation\"])"
   ]
  },
  {
   "cell_type": "code",
   "execution_count": 6,
   "metadata": {},
   "outputs": [
    {
     "name": "stdout",
     "output_type": "stream",
     "text": [
      "['Anopheles', 'stephensi']\n"
     ]
    }
   ],
   "source": [
    "t = seq_r.annotations[\"organism\"]\n",
    "res = t.split()\n",
    "print(res)"
   ]
  },
  {
   "cell_type": "code",
   "execution_count": 54,
   "metadata": {},
   "outputs": [],
   "source": [
    "import time\n",
    "\n",
    "# create a list for all the sequence fetched from NCBI\n",
    "NCBI_seq =[]\n",
    "for x in q_list:\n",
    "    # fetch result from previous search\n",
    "    fet = Entrez.efetch(db=\"nuccore\", id=x, rettype=\"gb\")\n",
    "    seq = SeqIO.read(fet, \"genbank\")\n",
    "    fet.close()\n",
    "    \n",
    "    NCBI_seq.append(seq)\n",
    "\n",
    "    time.sleep(0.5)"
   ]
  },
  {
   "cell_type": "code",
   "execution_count": 39,
   "metadata": {},
   "outputs": [],
   "source": [
    "# create empty lists\n",
    "Accession = []\n",
    "DNA = []\n",
    "Genus = []\n",
    "Species = []\n",
    "gene_des = []\n",
    "version = []\n",
    "Protein = []\n",
    "\n",
    "# loop through the result list obtained from the NCBI search\n",
    "# may take over 10 minutes\n",
    "# took 16m 19.3s in 1st complete run\n",
    "for seq in NCBI_seq:\n",
    "    # get genus nd speceis name seperately\n",
    "    spe_name = seq.annotations[\"organism\"]\n",
    "    g_s_name = spe_name.split()\n",
    "\n",
    "    # get and append protein sequence\n",
    "    if seq.features:\n",
    "        for feature in seq.features:\n",
    "            if feature.type == \"CDS\":\n",
    "                if \"translation\" in feature.qualifiers.keys():\n",
    "                    pro_seq = feature.qualifiers['translation'][0]\n",
    "\n",
    "    # attached them to lists\n",
    "    Accession.append(seq.name)\n",
    "    DNA.append(seq.seq)\n",
    "    Genus.append(g_s_name[0])\n",
    "    Species.append(g_s_name[1])\n",
    "    gene_des.append(seq.description)\n",
    "    version.append(seq.id)\n"
   ]
  },
  {
   "cell_type": "code",
   "execution_count": 42,
   "metadata": {},
   "outputs": [
    {
     "data": {
      "text/html": [
       "<div>\n",
       "<style scoped>\n",
       "    .dataframe tbody tr th:only-of-type {\n",
       "        vertical-align: middle;\n",
       "    }\n",
       "\n",
       "    .dataframe tbody tr th {\n",
       "        vertical-align: top;\n",
       "    }\n",
       "\n",
       "    .dataframe thead th {\n",
       "        text-align: right;\n",
       "    }\n",
       "</style>\n",
       "<table border=\"1\" class=\"dataframe\">\n",
       "  <thead>\n",
       "    <tr style=\"text-align: right;\">\n",
       "      <th></th>\n",
       "      <th>Genus</th>\n",
       "      <th>Species</th>\n",
       "      <th>Accession</th>\n",
       "      <th>DNA</th>\n",
       "      <th>Protein</th>\n",
       "      <th>gene_des</th>\n",
       "      <th>version</th>\n",
       "    </tr>\n",
       "  </thead>\n",
       "  <tbody>\n",
       "    <tr>\n",
       "      <th>0</th>\n",
       "      <td>Anopheles</td>\n",
       "      <td>stephensi</td>\n",
       "      <td>LC710140</td>\n",
       "      <td>(A, T, G, T, T, T, C, T, G, G, T, G, A, A, T, ...</td>\n",
       "      <td>(M, F, L, V, N, E, T, M, A, E, G, A, M, L, L, ...</td>\n",
       "      <td>Anopheles stephensi Asop9 mRNA for SWS visual ...</td>\n",
       "      <td>LC710140.1</td>\n",
       "    </tr>\n",
       "    <tr>\n",
       "      <th>1</th>\n",
       "      <td>Anopheles</td>\n",
       "      <td>stephensi</td>\n",
       "      <td>LC710139</td>\n",
       "      <td>(A, T, G, G, G, T, A, T, T, G, T, C, C, A, G, ...</td>\n",
       "      <td>(M, G, I, V, Q, L, D, N, Q, T, A, Y, R, P, E, ...</td>\n",
       "      <td>Anopheles stephensi Asop8 mRNA for UV visual o...</td>\n",
       "      <td>LC710139.1</td>\n",
       "    </tr>\n",
       "    <tr>\n",
       "      <th>2</th>\n",
       "      <td>Anopheles</td>\n",
       "      <td>stephensi</td>\n",
       "      <td>LC710138</td>\n",
       "      <td>(A, T, G, G, C, A, G, C, C, T, T, C, G, T, T, ...</td>\n",
       "      <td>(M, A, A, F, V, E, P, H, F, D, A, W, T, Q, G, ...</td>\n",
       "      <td>Anopheles stephensi Asop1 mRNA for LWS visual ...</td>\n",
       "      <td>LC710138.1</td>\n",
       "    </tr>\n",
       "    <tr>\n",
       "      <th>3</th>\n",
       "      <td>Zeugodacus</td>\n",
       "      <td>cucurbitae</td>\n",
       "      <td>ON693226</td>\n",
       "      <td>(A, T, C, A, T, T, C, A, C, A, G, C, A, T, C, ...</td>\n",
       "      <td>(I, I, H, S, I, Q, S, I, A, G, N, F, K, T, M, ...</td>\n",
       "      <td>Zeugodacus cucurbitae opsin Rh4 mRNA, complete...</td>\n",
       "      <td>ON693226.1</td>\n",
       "    </tr>\n",
       "    <tr>\n",
       "      <th>4</th>\n",
       "      <td>Phauda</td>\n",
       "      <td>flammans</td>\n",
       "      <td>ON383210</td>\n",
       "      <td>(A, T, G, A, A, A, A, T, G, G, C, A, A, C, C, ...</td>\n",
       "      <td>(M, K, M, A, T, N, F, S, E, Y, G, I, G, P, V, ...</td>\n",
       "      <td>Phauda flammans opsin Blue mRNA, complete cds</td>\n",
       "      <td>ON383210.1</td>\n",
       "    </tr>\n",
       "    <tr>\n",
       "      <th>...</th>\n",
       "      <td>...</td>\n",
       "      <td>...</td>\n",
       "      <td>...</td>\n",
       "      <td>...</td>\n",
       "      <td>...</td>\n",
       "      <td>...</td>\n",
       "      <td>...</td>\n",
       "    </tr>\n",
       "    <tr>\n",
       "      <th>1260</th>\n",
       "      <td>Antheraea</td>\n",
       "      <td>pernyi</td>\n",
       "      <td>AB073299</td>\n",
       "      <td>(A, G, T, A, G, C, C, T, C, C, A, C, T, G, C, ...</td>\n",
       "      <td>(S, S, L, H, C, L, G, V, P, A, A, Q, *, D, W, ...</td>\n",
       "      <td>Antheraea pernyi mRNA for anceropsin, complete...</td>\n",
       "      <td>AB073299.1</td>\n",
       "    </tr>\n",
       "    <tr>\n",
       "      <th>1261</th>\n",
       "      <td>Bombyx</td>\n",
       "      <td>mori</td>\n",
       "      <td>AB064496</td>\n",
       "      <td>(A, G, T, A, G, C, C, T, C, C, A, C, T, G, C, ...</td>\n",
       "      <td>(S, S, L, H, C, L, G, N, P, A, T, P, R, T, T, ...</td>\n",
       "      <td>Bombyx mori mRNA for Boceropsin, complete cds</td>\n",
       "      <td>AB064496.1</td>\n",
       "    </tr>\n",
       "    <tr>\n",
       "      <th>1262</th>\n",
       "      <td>Papilio</td>\n",
       "      <td>xuthus</td>\n",
       "      <td>AB007425</td>\n",
       "      <td>(G, C, G, G, C, C, G, C, T, A, G, C, G, C, A, ...</td>\n",
       "      <td>(A, A, A, S, A, L, R, A, S, K, M, A, L, N, Y, ...</td>\n",
       "      <td>Papilio xuthus PxRh3 mRNA for opsin, complete cds</td>\n",
       "      <td>AB007425.1</td>\n",
       "    </tr>\n",
       "    <tr>\n",
       "      <th>1263</th>\n",
       "      <td>Papilio</td>\n",
       "      <td>xuthus</td>\n",
       "      <td>AB007424</td>\n",
       "      <td>(A, A, C, G, A, T, T, T, T, C, T, T, C, A, G, ...</td>\n",
       "      <td>(N, D, F, L, Q, Y, F, C, Y, *, P, S, Q, A, N, ...</td>\n",
       "      <td>Papilio xuthus PxRh2 mRNA for opsin, complete cds</td>\n",
       "      <td>AB007424.1</td>\n",
       "    </tr>\n",
       "    <tr>\n",
       "      <th>1264</th>\n",
       "      <td>Papilio</td>\n",
       "      <td>xuthus</td>\n",
       "      <td>AB007423</td>\n",
       "      <td>(C, T, G, C, T, T, C, C, A, A, C, T, T, G, T, ...</td>\n",
       "      <td>(L, L, P, T, C, N, S, Q, K, T, G, I, G, I, L, ...</td>\n",
       "      <td>Papilio xuthus PxRh1 mRNA for opsin, complete cds</td>\n",
       "      <td>AB007423.1</td>\n",
       "    </tr>\n",
       "  </tbody>\n",
       "</table>\n",
       "<p>1265 rows × 7 columns</p>\n",
       "</div>"
      ],
      "text/plain": [
       "           Genus     Species Accession  \\\n",
       "0      Anopheles   stephensi  LC710140   \n",
       "1      Anopheles   stephensi  LC710139   \n",
       "2      Anopheles   stephensi  LC710138   \n",
       "3     Zeugodacus  cucurbitae  ON693226   \n",
       "4         Phauda    flammans  ON383210   \n",
       "...          ...         ...       ...   \n",
       "1260   Antheraea      pernyi  AB073299   \n",
       "1261      Bombyx        mori  AB064496   \n",
       "1262     Papilio      xuthus  AB007425   \n",
       "1263     Papilio      xuthus  AB007424   \n",
       "1264     Papilio      xuthus  AB007423   \n",
       "\n",
       "                                                    DNA  \\\n",
       "0     (A, T, G, T, T, T, C, T, G, G, T, G, A, A, T, ...   \n",
       "1     (A, T, G, G, G, T, A, T, T, G, T, C, C, A, G, ...   \n",
       "2     (A, T, G, G, C, A, G, C, C, T, T, C, G, T, T, ...   \n",
       "3     (A, T, C, A, T, T, C, A, C, A, G, C, A, T, C, ...   \n",
       "4     (A, T, G, A, A, A, A, T, G, G, C, A, A, C, C, ...   \n",
       "...                                                 ...   \n",
       "1260  (A, G, T, A, G, C, C, T, C, C, A, C, T, G, C, ...   \n",
       "1261  (A, G, T, A, G, C, C, T, C, C, A, C, T, G, C, ...   \n",
       "1262  (G, C, G, G, C, C, G, C, T, A, G, C, G, C, A, ...   \n",
       "1263  (A, A, C, G, A, T, T, T, T, C, T, T, C, A, G, ...   \n",
       "1264  (C, T, G, C, T, T, C, C, A, A, C, T, T, G, T, ...   \n",
       "\n",
       "                                                Protein  \\\n",
       "0     (M, F, L, V, N, E, T, M, A, E, G, A, M, L, L, ...   \n",
       "1     (M, G, I, V, Q, L, D, N, Q, T, A, Y, R, P, E, ...   \n",
       "2     (M, A, A, F, V, E, P, H, F, D, A, W, T, Q, G, ...   \n",
       "3     (I, I, H, S, I, Q, S, I, A, G, N, F, K, T, M, ...   \n",
       "4     (M, K, M, A, T, N, F, S, E, Y, G, I, G, P, V, ...   \n",
       "...                                                 ...   \n",
       "1260  (S, S, L, H, C, L, G, V, P, A, A, Q, *, D, W, ...   \n",
       "1261  (S, S, L, H, C, L, G, N, P, A, T, P, R, T, T, ...   \n",
       "1262  (A, A, A, S, A, L, R, A, S, K, M, A, L, N, Y, ...   \n",
       "1263  (N, D, F, L, Q, Y, F, C, Y, *, P, S, Q, A, N, ...   \n",
       "1264  (L, L, P, T, C, N, S, Q, K, T, G, I, G, I, L, ...   \n",
       "\n",
       "                                               gene_des     version  \n",
       "0     Anopheles stephensi Asop9 mRNA for SWS visual ...  LC710140.1  \n",
       "1     Anopheles stephensi Asop8 mRNA for UV visual o...  LC710139.1  \n",
       "2     Anopheles stephensi Asop1 mRNA for LWS visual ...  LC710138.1  \n",
       "3     Zeugodacus cucurbitae opsin Rh4 mRNA, complete...  ON693226.1  \n",
       "4         Phauda flammans opsin Blue mRNA, complete cds  ON383210.1  \n",
       "...                                                 ...         ...  \n",
       "1260  Antheraea pernyi mRNA for anceropsin, complete...  AB073299.1  \n",
       "1261      Bombyx mori mRNA for Boceropsin, complete cds  AB064496.1  \n",
       "1262  Papilio xuthus PxRh3 mRNA for opsin, complete cds  AB007425.1  \n",
       "1263  Papilio xuthus PxRh2 mRNA for opsin, complete cds  AB007424.1  \n",
       "1264  Papilio xuthus PxRh1 mRNA for opsin, complete cds  AB007423.1  \n",
       "\n",
       "[1265 rows x 7 columns]"
      ]
     },
     "execution_count": 42,
     "metadata": {},
     "output_type": "execute_result"
    }
   ],
   "source": [
    "import pandas as pd\n",
    "\n",
    "# create a dataframe for the information\n",
    "ncbi_insecta_op = pd.DataFrame(\n",
    "    {'Genus': Genus,\n",
    "     'Species': Species,\n",
    "     'Accession': Accession,\n",
    "     'DNA': DNA,\n",
    "     'Protein': Protein,\n",
    "     'gene_des': gene_des,\n",
    "     'version': version\n",
    "    })\n",
    "\n",
    "ncbi_insecta_op"
   ]
  },
  {
   "cell_type": "code",
   "execution_count": 43,
   "metadata": {},
   "outputs": [],
   "source": [
    "# create a dataframe for further comparison\n",
    "ncbi_insecta_op.to_csv(\"ncbi_insecta_op.csv\", index=False)"
   ]
  },
  {
   "cell_type": "code",
   "execution_count": null,
   "metadata": {},
   "outputs": [],
   "source": [
    "# create a list of all species' full name appeared on the ncbi search\n",
    "f_name = []\n",
    "\n",
    "for seq in NCBI_seq:\n",
    "    # get species' names\n",
    "    spe_name = seq.annotations[\"organism\"]\n",
    "    \n",
    "    f_name.append(spe_name)\n",
    "\n",
    "# delete the replicated elements\n",
    "f_name = [*set(f_name)]\n",
    "len(f_name)"
   ]
  },
  {
   "cell_type": "code",
   "execution_count": null,
   "metadata": {},
   "outputs": [],
   "source": [
    "# create a function that output the species' NCBI popularity in a dataframe with species name \n",
    "\n",
    "def sp_pop(f_name, email, ncbi_db = \"nuccore\"):\n",
    "  # Classify the species into 3 levels based on the number of results: >=10,000, 1000-9999, 0-999\n",
    "  pop_level = []\n",
    "\n",
    "  for name in f_name:\n",
    "    \n",
    "    Entrez.email = email     # Always tell NCBI who you are\n",
    "\n",
    "    handle = Entrez.esearch(db = ncbi_db,\n",
    "                        term = name, \n",
    "                        api_key = \"1efb120056e1cea873ba8d85d6692abd5d09\" # using api key allows 10 fetch per second\n",
    "                        )\n",
    "    record = Entrez.read(handle)\n",
    "\n",
    "    if int(record[\"Count\"]) >= 10000:\n",
    "        pop_level.append(3)\n",
    "        \n",
    "    elif int(record[\"Count\"]) >= 1000:\n",
    "        pop_level.append(2)\n",
    "\n",
    "    else:\n",
    "        pop_level.append(1)\n",
    "\n",
    "  # combine the two lists to a df and return\n",
    "  sp_pop = pd.DataFrame(\n",
    "    {\"name\": f_name,\n",
    "     \"popularity\": pop_level\n",
    "    })\n",
    "  return sp_pop"
   ]
  },
  {
   "cell_type": "code",
   "execution_count": null,
   "metadata": {},
   "outputs": [],
   "source": [
    "# call the function to get the popularity of the insect species among the NCBI ranked by number of search result\n",
    "insect_pop = sp_pop(f_name, \"wwyh.2017@gmail.com\", \"nuccore\")"
   ]
  },
  {
   "cell_type": "code",
   "execution_count": null,
   "metadata": {},
   "outputs": [],
   "source": [
    "# select most popular species\n",
    "pop_3 = insect_pop.loc[insect_pop['popularity'] == 3]\n",
    "len(pop_3)\n",
    "pop_3"
   ]
  },
  {
   "cell_type": "code",
   "execution_count": null,
   "metadata": {},
   "outputs": [],
   "source": [
    "# export to a csv file\n",
    "pop_3.to_csv(\"hotspot_insect_species.csv\", index=False)"
   ]
  }
 ],
 "metadata": {
  "kernelspec": {
   "display_name": "Python 3",
   "language": "python",
   "name": "python3"
  },
  "language_info": {
   "codemirror_mode": {
    "name": "ipython",
    "version": 3
   },
   "file_extension": ".py",
   "mimetype": "text/x-python",
   "name": "python",
   "nbconvert_exporter": "python",
   "pygments_lexer": "ipython3",
   "version": "3.10.11"
  },
  "orig_nbformat": 4
 },
 "nbformat": 4,
 "nbformat_minor": 2
}
