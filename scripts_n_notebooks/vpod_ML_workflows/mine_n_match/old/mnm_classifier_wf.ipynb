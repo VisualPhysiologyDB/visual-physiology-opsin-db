{
 "cells": [
  {
   "cell_type": "markdown",
   "metadata": {},
   "source": [
    "MNM Classifier WF"
   ]
  },
  {
   "cell_type": "code",
   "execution_count": 6,
   "metadata": {},
   "outputs": [],
   "source": [
    "from mnm_scripts.mine_n_match_functions import get_random_protein_fasta\n",
    "import os"
   ]
  },
  {
   "cell_type": "code",
   "execution_count": null,
   "metadata": {},
   "outputs": [],
   "source": [
    "# Define the search query for opsins\n",
    "query = \"NOT (keyword:opsin OR keyword:rhodopsin OR keyword:OPS OR keyword:OPSB) AND reviewed:true\"\n",
    "max_outputs = 5000\n",
    "desired_seqs = 2000\n",
    "\n",
    "unique_sequences = get_random_protein_fasta(query=query, max_outputs=max_outputs, desired_seqs=desired_seqs, out='test_123.fasta')"
   ]
  },
  {
   "cell_type": "code",
   "execution_count": 4,
   "metadata": {},
   "outputs": [],
   "source": [
    "opsin_file = 'e:/safra/Documents/GitHub/visual-physiology-opsin-db/scripts_n_notebooks/vpod_ML_workflows/subtests/work_in_progress/esm_test/vpod_1.2_all/unique_opsins_vpod_1.2.fasta'\n",
    "rndm_prots_file = 'e:/safra/Documents/GitHub/visual-physiology-opsin-db/scripts_n_notebooks/vpod_ML_workflows/subtests/work_in_progress/esm_test/non_opsins_esm_v1/random_proteins_uniprot.fasta'\n",
    "opsin_folder = 'e:/safra/Documents/GitHub/visual-physiology-opsin-db/scripts_n_notebooks/vpod_ML_workflows/subtests/work_in_progress/esm_test/vpod_1.2_all'\n",
    "rndm_folder = 'e:/safra/Documents/GitHub/visual-physiology-opsin-db/scripts_n_notebooks/vpod_ML_workflows/subtests/work_in_progress/esm_test/non_opsins_esm_v1'\n",
    "\n",
    "\n",
    "is_ops_meta = 'e:/safra/Documents/GitHub/visual-physiology-opsin-db/scripts_n_notebooks/vpod_ML_workflows/subtests/work_in_progress/esm_test/classifier_data/is_prot_meta.tsv'"
   ]
  },
  {
   "cell_type": "code",
   "execution_count": 7,
   "metadata": {},
   "outputs": [],
   "source": [
    "with open(is_ops_meta,'w') as f:\n",
    "    f.write('id\\tis_opsin\\n')\n",
    "            \n",
    "    for filename in os.listdir(opsin_folder):\n",
    "        if filename.endswith(\".pt\"):\n",
    "            f.write(filename.replace('.pt',''))\n",
    "            f.write('\\topsin\\n')\n",
    "               \n",
    "    for filename in os.listdir(rndm_folder):\n",
    "        if filename.endswith(\".pt\"):\n",
    "            f.write(filename.replace('.pt',''))\n",
    "            f.write('\\tnot_opsin\\n')\n",
    "                "
   ]
  },
  {
   "cell_type": "code",
   "execution_count": null,
   "metadata": {},
   "outputs": [],
   "source": [
    "with open(is_ops_meta,'w') as f:\n",
    "    f.write('id\\tis_opsin\\n')\n",
    "    with open(opsin_file,'r') as ops:\n",
    "        lines = ops.readlines()\n",
    "        for line in lines:\n",
    "            if '>' in line:\n",
    "                f.write(line.replace('>','').replace('\\n',''))\n",
    "                f.write('\\topsin\\n')\n",
    "            else:\n",
    "                pass\n",
    "                \n",
    "    with open(rndm_prots_file,'r') as rnd:\n",
    "        lines = rnd.readlines()\n",
    "        for line in lines:\n",
    "            if '>' in line:\n",
    "                f.write(line.replace('>','').replace('\\n',''))\n",
    "                f.write('\\tnot_opsin\\n')\n",
    "            else:\n",
    "                pass"
   ]
  }
 ],
 "metadata": {
  "kernelspec": {
   "display_name": "deepBreaks",
   "language": "python",
   "name": "python3"
  },
  "language_info": {
   "codemirror_mode": {
    "name": "ipython",
    "version": 3
   },
   "file_extension": ".py",
   "mimetype": "text/x-python",
   "name": "python",
   "nbconvert_exporter": "python",
   "pygments_lexer": "ipython3",
   "version": "3.9.17"
  }
 },
 "nbformat": 4,
 "nbformat_minor": 2
}
