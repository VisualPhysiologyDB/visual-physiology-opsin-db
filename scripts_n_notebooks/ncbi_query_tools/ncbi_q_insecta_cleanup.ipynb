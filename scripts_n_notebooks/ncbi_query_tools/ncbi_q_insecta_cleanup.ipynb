{
 "cells": [
  {
   "cell_type": "code",
   "execution_count": 1,
   "metadata": {},
   "outputs": [],
   "source": [
    "import pandas as pd\n",
    "import numpy as np"
   ]
  },
  {
   "cell_type": "code",
   "execution_count": 2,
   "metadata": {},
   "outputs": [],
   "source": [
    "opDB = pd.read_csv('opDB.csv')\n",
    "insecta_op = pd.read_csv('ncbi_insecta_op.csv')"
   ]
  },
  {
   "cell_type": "code",
   "execution_count": 3,
   "metadata": {},
   "outputs": [
    {
     "data": {
      "text/plain": [
       "1249"
      ]
     },
     "execution_count": 3,
     "metadata": {},
     "output_type": "execute_result"
    }
   ],
   "source": [
    "# drop same accession\n",
    "isin_df = insecta_op.assign(InOPDB=insecta_op.Accession.isin(opDB.Accession).astype(int))\n",
    "isin_df\n",
    "insecta_op = isin_df.drop(isin_df[isin_df.InOPDB == 1].index)\n",
    "insecta_op = insecta_op.drop(columns=[\"InOPDB\"])\n",
    "len(insecta_op.index)"
   ]
  },
  {
   "cell_type": "code",
   "execution_count": 4,
   "metadata": {},
   "outputs": [
    {
     "data": {
      "text/plain": [
       "1220"
      ]
     },
     "execution_count": 4,
     "metadata": {},
     "output_type": "execute_result"
    }
   ],
   "source": [
    "# drop same version\n",
    "\n",
    "isin_df1 = insecta_op.assign(InOPDB=insecta_op.version.isin(opDB.Accession).astype(int))\n",
    "\n",
    "insecta_op = isin_df1.drop(isin_df1[isin_df1.InOPDB == 1].index)\n",
    "insecta_op = insecta_op.drop(columns=[\"InOPDB\"])\n",
    "len(insecta_op.index)"
   ]
  },
  {
   "cell_type": "code",
   "execution_count": 6,
   "metadata": {},
   "outputs": [
    {
     "data": {
      "text/plain": [
       "1220"
      ]
     },
     "execution_count": 6,
     "metadata": {},
     "output_type": "execute_result"
    }
   ],
   "source": [
    "# drop same species\n",
    "\n",
    "isin_df2 = insecta_op.assign(InOPDB1=insecta_op.Species.isin(opDB.Species).astype(int))\n",
    "len(isin_df2.index)\n"
   ]
  },
  {
   "cell_type": "code",
   "execution_count": 7,
   "metadata": {},
   "outputs": [
    {
     "data": {
      "text/plain": [
       "1220"
      ]
     },
     "execution_count": 7,
     "metadata": {},
     "output_type": "execute_result"
    }
   ],
   "source": [
    "isin_df3 = insecta_op.assign(InOPDB2=insecta_op.Genus.isin(opDB.Genus).astype(int))\n",
    "len(isin_df3.index)"
   ]
  },
  {
   "cell_type": "code",
   "execution_count": 8,
   "metadata": {},
   "outputs": [
    {
     "name": "stdout",
     "output_type": "stream",
     "text": [
      "            Genus          Species Accession  \\\n",
      "8       Notolioon              sp.  OP722953   \n",
      "9     Heterocerus      fenestratus  OP722952   \n",
      "15        Ptosima  undecimmaculata  OP722945   \n",
      "16        Ptosima  undecimmaculata  OP722944   \n",
      "17       Capnodis      tenebrionis  OP722943   \n",
      "...           ...              ...       ...   \n",
      "1258       Pieris            rapae  AB177984   \n",
      "1259       Pieris            rapae  AB188567   \n",
      "1260    Antheraea           pernyi  AB073299   \n",
      "1261       Bombyx             mori  AB064496   \n",
      "1263      Papilio           xuthus  AB007424   \n",
      "\n",
      "                                                    DNA  \\\n",
      "8     ATGTCTGTGATGGGTGAACCGAGCTTTGCTGCTTGGACAGCTCAAC...   \n",
      "9     ATGTCTGTGATGGGTGAACCGAGCTTCGCTGCATGGGTGGCGCAAC...   \n",
      "15    ATGTCTGTTTTGGGTGAACCTAATTATGCCGCTTGGACAGCCCAGA...   \n",
      "16    ATGACCCTGGTTGACGGACCGAGTTTTGCCCCATGGGCAGCGAAAA...   \n",
      "17    ATGTCTGTGATGGGTGAGCCCAGTTTCGCCGCCTGGTCAGCGCAGA...   \n",
      "...                                                 ...   \n",
      "1258  GGAGTAGTCTCCGCAACACAACCTCAGCACCCGCCGGAGATTGGTT...   \n",
      "1259  GGAGTAGTCTCCGCAACACAACCTCAGCACCCGCCGGAGATTGGTT...   \n",
      "1260  AGTAGCCTCCACTGCCTCGGCGTTCCTGCCGCACAATGAGATTGGT...   \n",
      "1261  AGTAGCCTCCACTGCCTCGGCAATCCTGCCACGCCACGCACCACGA...   \n",
      "1263  AACGATTTTCTTCAGTATTTTTGTTATTAACCATCTCAGGCTAACA...   \n",
      "\n",
      "                                                Protein  \\\n",
      "8     MSVMGEPSFAAWTAQRGASSGFGGNITVVDKVLPEMLYMVDAYWYQ...   \n",
      "9     MSVMGEPSFAAWVAQRATSGGFGGNITVVDKVPPEMLHLVDPYWYQ...   \n",
      "15    MSVLGEPNYAAWTAQRMMSGAFGSNLTVVDKVPPEMLYLVDHHWYQ...   \n",
      "16    MTLVDGPSFAPWAAKRIASGGYGGNISVVDKALPEMLQLIDPHWYQ...   \n",
      "17    MSVMGEPSFAAWSAQRIMSGAFGGNITVVDKVPPEMLYLVDHHWYQ...   \n",
      "...                                                 ...   \n",
      "1258  GVVSATQPQHPPEIG*TKDWSSSSSDFLQYFCF*LRNLKMAITNLD...   \n",
      "1259  GVVSATQPQHPPEIG*TKDWSSSSSDFLQYFCF*LRNLKMAITNLD...   \n",
      "1260  SSLHCLGVPAAQ*DWLCYTKDWSSS*NDFLQYFVITISECTSLPWI...   \n",
      "1261  SSLHCLGNPATPRTTRLVSYNKDWSSSLNDFLQYFVITILNTSFIP...   \n",
      "1263  NDFLQYFCY*PSQANIPFPFYFITFVKQWQLQTSSQGWERQKPGAA...   \n",
      "\n",
      "                                               gene_des     version  InOPDB1  \\\n",
      "8     Notolioon sp. CRS 2022 long wavelength sensiti...  OP722953.1        1   \n",
      "9     Heterocerus fenestratus long wavelength sensit...  OP722952.1        0   \n",
      "15    Ptosima undecimmaculata long wavelength sensit...  OP722945.1        0   \n",
      "16    Ptosima undecimmaculata long wavelength sensit...  OP722944.1        0   \n",
      "17    Capnodis tenebrionis long wavelength sensitive...  OP722943.1        0   \n",
      "...                                                 ...         ...      ...   \n",
      "1258      Pieris rapae PrL mRNA for opsin, complete cds  AB177984.1        1   \n",
      "1259      Pieris rapae PrL mRNA for opsin, complete cds  AB188567.1        1   \n",
      "1260  Antheraea pernyi mRNA for anceropsin, complete...  AB073299.1        0   \n",
      "1261      Bombyx mori mRNA for Boceropsin, complete cds  AB064496.1        0   \n",
      "1263  Papilio xuthus PxRh2 mRNA for opsin, complete cds  AB007424.1        1   \n",
      "\n",
      "      InOPDB2  \n",
      "8           0  \n",
      "9           0  \n",
      "15          0  \n",
      "16          0  \n",
      "17          0  \n",
      "...       ...  \n",
      "1258        0  \n",
      "1259        0  \n",
      "1260        0  \n",
      "1261        0  \n",
      "1263        0  \n",
      "\n",
      "[1220 rows x 9 columns]\n"
     ]
    }
   ],
   "source": [
    "insecta_op[\"InOPDB1\"] = isin_df2[\"InOPDB1\"]\n",
    "insecta_op[\"InOPDB2\"] = isin_df3[\"InOPDB2\"]\n",
    "#insecta_op.drop([\"InOPDB1\",\"InOPDB2\"], axis=1)\n",
    "print(insecta_op)"
   ]
  },
  {
   "cell_type": "code",
   "execution_count": 9,
   "metadata": {},
   "outputs": [
    {
     "name": "stdout",
     "output_type": "stream",
     "text": [
      "Index([  21,   22,   38,   39,   40,   41,  218,  220,  377,  378,  379,  380,\n",
      "        381,  382,  383,  384,  385,  386,  387,  388,  389,  390,  391,  392,\n",
      "        393,  394,  395,  396,  613,  614,  615,  616,  617,  618,  619,  620,\n",
      "        621,  622,  657,  664,  665,  666,  898,  899,  900,  901,  902,  903,\n",
      "        904,  905,  906,  907,  908,  910,  911,  913,  914,  915,  916,  917,\n",
      "       1007, 1037, 1113, 1118, 1121, 1122, 1123, 1141, 1171],\n",
      "      dtype='int64')\n"
     ]
    }
   ],
   "source": [
    "indexOP = insecta_op[(insecta_op['InOPDB1'] == 1) & (insecta_op['InOPDB2'] == 1) ].index\n",
    "print(indexOP)"
   ]
  },
  {
   "cell_type": "code",
   "execution_count": 10,
   "metadata": {},
   "outputs": [
    {
     "data": {
      "text/plain": [
       "1151"
      ]
     },
     "execution_count": 10,
     "metadata": {},
     "output_type": "execute_result"
    }
   ],
   "source": [
    "insecta_op.drop(indexOP , inplace=True)\n",
    "len(insecta_op.index)"
   ]
  },
  {
   "cell_type": "code",
   "execution_count": 11,
   "metadata": {},
   "outputs": [],
   "source": [
    "n_insecta_op = insecta_op"
   ]
  },
  {
   "cell_type": "code",
   "execution_count": 13,
   "metadata": {},
   "outputs": [],
   "source": [
    "# format the new dataframe in the same way as the database\n",
    "rows = len(n_insecta_op.index)\n",
    "# create new lists that match the name of the opsin database\n",
    "opsinid = list(range(1321,1321+rows))\n",
    "GeneFamily = [''] * rows\n",
    "GeneNames = [''] * rows\n",
    "Phylum = ['Arthropoda'] * rows\n",
    "Subphylum = ['Hexapoda'] * rows\n",
    "Class = ['Insecta'] * rows\n",
    "Database = [\"NCBI\"] * rows\n",
    "refid = [''] * rows\n",
    "\n",
    "\n",
    "# insert the lists to the new database\n",
    "n_insecta_op.insert(loc=0, column='Class', value=Class)\n",
    "n_insecta_op.insert(loc=0, column='Subphylum', value=Subphylum)\n",
    "n_insecta_op.insert(loc=0, column='Phylum', value=Phylum)\n",
    "n_insecta_op.insert(loc=0, column='GeneNames', value=GeneNames)\n",
    "n_insecta_op.insert(loc=0, column='GeneFamily', value=GeneFamily)\n",
    "n_insecta_op.insert(loc=0, column='opsinid', value=opsinid)\n",
    "n_insecta_op.insert(loc=8, column='Database', value=Database)\n",
    "n_insecta_op.insert(loc=12, column='refid', value=refid)\n"
   ]
  },
  {
   "cell_type": "code",
   "execution_count": 14,
   "metadata": {},
   "outputs": [
    {
     "name": "stdout",
     "output_type": "stream",
     "text": [
      "      opsinid GeneFamily GeneNames      Phylum Subphylum    Class  \\\n",
      "8        1321                       Arthropoda  Hexapoda  Insecta   \n",
      "9        1322                       Arthropoda  Hexapoda  Insecta   \n",
      "15       1323                       Arthropoda  Hexapoda  Insecta   \n",
      "16       1324                       Arthropoda  Hexapoda  Insecta   \n",
      "17       1325                       Arthropoda  Hexapoda  Insecta   \n",
      "...       ...        ...       ...         ...       ...      ...   \n",
      "1258     2467                       Arthropoda  Hexapoda  Insecta   \n",
      "1259     2468                       Arthropoda  Hexapoda  Insecta   \n",
      "1260     2469                       Arthropoda  Hexapoda  Insecta   \n",
      "1261     2470                       Arthropoda  Hexapoda  Insecta   \n",
      "1263     2471                       Arthropoda  Hexapoda  Insecta   \n",
      "\n",
      "            Genus          Species Database Accession  \\\n",
      "8       Notolioon              sp.     NCBI  OP722953   \n",
      "9     Heterocerus      fenestratus     NCBI  OP722952   \n",
      "15        Ptosima  undecimmaculata     NCBI  OP722945   \n",
      "16        Ptosima  undecimmaculata     NCBI  OP722944   \n",
      "17       Capnodis      tenebrionis     NCBI  OP722943   \n",
      "...           ...              ...      ...       ...   \n",
      "1258       Pieris            rapae     NCBI  AB177984   \n",
      "1259       Pieris            rapae     NCBI  AB188567   \n",
      "1260    Antheraea           pernyi     NCBI  AB073299   \n",
      "1261       Bombyx             mori     NCBI  AB064496   \n",
      "1263      Papilio           xuthus     NCBI  AB007424   \n",
      "\n",
      "                                                    DNA  \\\n",
      "8     ATGTCTGTGATGGGTGAACCGAGCTTTGCTGCTTGGACAGCTCAAC...   \n",
      "9     ATGTCTGTGATGGGTGAACCGAGCTTCGCTGCATGGGTGGCGCAAC...   \n",
      "15    ATGTCTGTTTTGGGTGAACCTAATTATGCCGCTTGGACAGCCCAGA...   \n",
      "16    ATGACCCTGGTTGACGGACCGAGTTTTGCCCCATGGGCAGCGAAAA...   \n",
      "17    ATGTCTGTGATGGGTGAGCCCAGTTTCGCCGCCTGGTCAGCGCAGA...   \n",
      "...                                                 ...   \n",
      "1258  GGAGTAGTCTCCGCAACACAACCTCAGCACCCGCCGGAGATTGGTT...   \n",
      "1259  GGAGTAGTCTCCGCAACACAACCTCAGCACCCGCCGGAGATTGGTT...   \n",
      "1260  AGTAGCCTCCACTGCCTCGGCGTTCCTGCCGCACAATGAGATTGGT...   \n",
      "1261  AGTAGCCTCCACTGCCTCGGCAATCCTGCCACGCCACGCACCACGA...   \n",
      "1263  AACGATTTTCTTCAGTATTTTTGTTATTAACCATCTCAGGCTAACA...   \n",
      "\n",
      "                                                Protein refid  \\\n",
      "8     MSVMGEPSFAAWTAQRGASSGFGGNITVVDKVLPEMLYMVDAYWYQ...         \n",
      "9     MSVMGEPSFAAWVAQRATSGGFGGNITVVDKVPPEMLHLVDPYWYQ...         \n",
      "15    MSVLGEPNYAAWTAQRMMSGAFGSNLTVVDKVPPEMLYLVDHHWYQ...         \n",
      "16    MTLVDGPSFAPWAAKRIASGGYGGNISVVDKALPEMLQLIDPHWYQ...         \n",
      "17    MSVMGEPSFAAWSAQRIMSGAFGGNITVVDKVPPEMLYLVDHHWYQ...         \n",
      "...                                                 ...   ...   \n",
      "1258  GVVSATQPQHPPEIG*TKDWSSSSSDFLQYFCF*LRNLKMAITNLD...         \n",
      "1259  GVVSATQPQHPPEIG*TKDWSSSSSDFLQYFCF*LRNLKMAITNLD...         \n",
      "1260  SSLHCLGVPAAQ*DWLCYTKDWSSS*NDFLQYFVITISECTSLPWI...         \n",
      "1261  SSLHCLGNPATPRTTRLVSYNKDWSSSLNDFLQYFVITILNTSFIP...         \n",
      "1263  NDFLQYFCY*PSQANIPFPFYFITFVKQWQLQTSSQGWERQKPGAA...         \n",
      "\n",
      "                                               gene_des     version  InOPDB1  \\\n",
      "8     Notolioon sp. CRS 2022 long wavelength sensiti...  OP722953.1        1   \n",
      "9     Heterocerus fenestratus long wavelength sensit...  OP722952.1        0   \n",
      "15    Ptosima undecimmaculata long wavelength sensit...  OP722945.1        0   \n",
      "16    Ptosima undecimmaculata long wavelength sensit...  OP722944.1        0   \n",
      "17    Capnodis tenebrionis long wavelength sensitive...  OP722943.1        0   \n",
      "...                                                 ...         ...      ...   \n",
      "1258      Pieris rapae PrL mRNA for opsin, complete cds  AB177984.1        1   \n",
      "1259      Pieris rapae PrL mRNA for opsin, complete cds  AB188567.1        1   \n",
      "1260  Antheraea pernyi mRNA for anceropsin, complete...  AB073299.1        0   \n",
      "1261      Bombyx mori mRNA for Boceropsin, complete cds  AB064496.1        0   \n",
      "1263  Papilio xuthus PxRh2 mRNA for opsin, complete cds  AB007424.1        1   \n",
      "\n",
      "      InOPDB2  \n",
      "8           0  \n",
      "9           0  \n",
      "15          0  \n",
      "16          0  \n",
      "17          0  \n",
      "...       ...  \n",
      "1258        0  \n",
      "1259        0  \n",
      "1260        0  \n",
      "1261        0  \n",
      "1263        0  \n",
      "\n",
      "[1151 rows x 17 columns]\n"
     ]
    }
   ],
   "source": [
    "print(n_insecta_op)"
   ]
  },
  {
   "cell_type": "code",
   "execution_count": 15,
   "metadata": {},
   "outputs": [],
   "source": [
    "n_insecta_op.to_csv(\"n_insecta_op.csv\", index=False)"
   ]
  }
 ],
 "metadata": {
  "kernelspec": {
   "display_name": "Python 3",
   "language": "python",
   "name": "python3"
  },
  "language_info": {
   "codemirror_mode": {
    "name": "ipython",
    "version": 3
   },
   "file_extension": ".py",
   "mimetype": "text/x-python",
   "name": "python",
   "nbconvert_exporter": "python",
   "pygments_lexer": "ipython3",
   "version": "3.10.11"
  },
  "orig_nbformat": 4
 },
 "nbformat": 4,
 "nbformat_minor": 2
}
