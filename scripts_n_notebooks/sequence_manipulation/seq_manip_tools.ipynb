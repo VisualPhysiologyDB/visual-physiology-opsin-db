{
 "cells": [
  {
   "cell_type": "code",
   "execution_count": 1,
   "metadata": {},
   "outputs": [],
   "source": [
    "import argparse\n",
    "import re #regular expressions\n",
    "from Bio import Entrez, SeqIO\n",
    "Entrez.email = 'sethfrazer.edu'\n",
    "from skbio import TabularMSA\n",
    "from skbio import Protein\n",
    "from skbio.alignment import global_pairwise_align_protein\n",
    "from Bio.Align import substitution_matrices\n"
   ]
  },
  {
   "cell_type": "code",
   "execution_count": null,
   "metadata": {},
   "outputs": [],
   "source": [
    "def getAcc(accession, check):\n",
    "    if accession == \"manual\":\n",
    "\n",
    "        if check == 0:\n",
    "            manual = input(\"Enter Reference Sequence: \")\n",
    "        else:\n",
    "            manual = input(\"Enter Target Sequence: \")\n",
    "\n",
    "        return(manual)\n",
    "    \n",
    "    handle = Entrez.efetch(db=\"nucleotide\", id=accession, rettype=\"gb\", retmode=\"text\")\n",
    "    record = SeqIO.read(handle, \"gb\")\n",
    "    handle.close()\n",
    "    for i,feature in enumerate(record.features):\n",
    "         if feature.type=='CDS':\n",
    "              aa = feature.qualifiers['translation'][0]\n",
    "    return(aa)\n"
   ]
  },
  {
   "cell_type": "code",
   "execution_count": null,
   "metadata": {},
   "outputs": [],
   "source": [
    "mutant_file = open('new_mutants.txt').readlines()\n",
    "output_file = 'mutant_seqs.fasta'\n",
    "mutation = ''\n",
    "accession  = ''\n",
    "raccession = 'NM_001014890'\n",
    "\n",
    "switch = int(0)"
   ]
  },
  {
   "cell_type": "code",
   "execution_count": null,
   "metadata": {},
   "outputs": [],
   "source": [
    "#calling reference sequence\n",
    "bovine = Protein(getAcc(raccession, switch))\n",
    "switch+=1"
   ]
  },
  {
   "cell_type": "code",
   "execution_count": null,
   "metadata": {},
   "outputs": [],
   "source": [
    "#Fetch sequences to manipulate and align\n",
    "for lines in mutant_file:     \n",
    "    accession = f'{lines.split(\"_\")[0]}_{lines.split(\"_\")[1]}'\n",
    "    mutation = lines.split('_')[2]\n",
    "\n",
    "    wt = Protein(getAcc(accession, switch))\n",
    "\n",
    "    substitution_matrix = substitution_matrices.load(\"BLOSUM45\")\n",
    "\n",
    "    ##Simple example for testing\n",
    "    #wt=Protein(\"ABCDEF\")\n",
    "    #bovine=Protein(\"ABCDEF\")\n",
    "\n",
    "    alignment, score, start_end_positions = global_pairwise_align_protein(bovine, wt, substitution_matrix=substitution_matrix)\n",
    "    dic = alignment.to_dict()\n",
    "    aligned_bovine = dic[0]\n",
    "    aligned_wt = dic[1]\n",
    "    print(aligned_wt)\n",
    "\n",
    "    #Check if single or multiple mutations entered\n",
    "    mutsuite = mutation\n",
    "    if \",\" in mutation :\n",
    "        mutations = mutation.split(\",\")\n",
    "    else :\n",
    "        #declare empty list and append single mutation so later can be used as list if only one mutation\n",
    "        mutations = []\n",
    "        mutations.append(mutation)\n",
    "\n",
    "    mutated = aligned_wt #need to copy original sequence and accumulate mutations\n",
    "    for mutation in mutations:\n",
    "\n",
    "        #check that mutation is formatted properly\n",
    "        MutationRegex = re.compile(r'([A-Z])(\\d+)([A-Z])')\n",
    "        if re.match(MutationRegex, mutation):\n",
    "            mu = MutationRegex.search(mutation)\n",
    "            old = mu.group(1)\n",
    "            mutsite = int(mu.group(2))\n",
    "            new = mu.group(3)\n",
    "        else :\n",
    "            print(\"ERROR: Expecting mutation name in the format of XaY where X=old amino acid a=number Y=new amino acid\")\n",
    "            quit()\n",
    "\n",
    "        #substract one to account for index starting at zero\n",
    "        mutsite = mutsite-1\n",
    "\n",
    "        #Count gaps to not count them when finding original site to change\n",
    "        gaps = aligned_bovine[:mutsite].count('-')\n",
    "\n",
    "        match = str(mutated[mutsite+gaps:mutsite+gaps+1])\n",
    "\n",
    "        if match != old :\n",
    "            raise Exception(\"ERROR: The mutation label does not match the sequence\")\n",
    "        else: \n",
    "            mutated = str(mutated[:mutsite+gaps]) + new + str(mutated[mutsite+gaps+1:]) \n",
    "\n",
    "    mutated = mutated.replace('-','')\n",
    "    newacc = accession + \"_\" + mutsuite\n",
    "\n",
    "    with open(output_file, 'a') as f:\n",
    "        f.write(f'>{newacc}')\n",
    "        f.write(f'{mutated}\\n')\n",
    "    print(newacc, end='\\t\\t')\n",
    "    print(mutated)"
   ]
  },
  {
   "cell_type": "code",
   "execution_count": 2,
   "metadata": {},
   "outputs": [],
   "source": []
  },
  {
   "cell_type": "code",
   "execution_count": null,
   "metadata": {},
   "outputs": [],
   "source": [
    "import os\n",
    "import subprocess\n",
    "from deepBreaks.utils import load_obj\n",
    "from deepBreaks.preprocessing import read_data\n",
    "import joblib\n",
    "import pandas as pd\n",
    "import itertools\n"
   ]
  },
  {
   "cell_type": "code",
   "execution_count": null,
   "metadata": {},
   "outputs": [],
   "source": [
    "#path to the mafft.bat file\n",
    "mafft_exe = 'C:/Users/safra/mafft-win/mafft.bat'\n",
    "#path to sequences we want to add to an existing alignment [the one we used to train the model] in FASTA format\n",
    "seq_add = 'mutant_seqs_rods.fasta'\n",
    "#path to the primary alignment used for training the model - if trying access a specific file later\n",
    "report_dir = './rod_aligned_db_fmt_Lambda_Max_2023-08-10_12-50-35/'\n",
    "seqFileName = f'{report_dir}rod_aligned_db_fmt.fasta' \n",
    "# path to the corresponding metadata file\n",
    "metaDataFileName = f'{report_dir}rod_meta.tsv' \n",
    "# name of the phenotype\n",
    "mt = 'Lambda_Max'\n",
    "# type of the sequences\n",
    "seq_type = 'aa'\n",
    "#if the proportion of gaps at position 'x' across the whole dataset are > threshold, drop this position\n",
    "gap_threshold = 0.6\n",
    "#path to the top performing model from model training\n",
    "#can use method below or enter path manually if coming back to notebook with no variables intialized\n",
    "top_per_mod = report_dir + 'BayesianRidge.pkl'\n",
    "load_top_mod = load_obj(top_per_mod)\n",
    "\n",
    "mut_ali = seqFileName[2:].split(\"/\")[1]\n",
    "mut_ali = f'{mut_ali.split(\".\")[0]}_mutant_aligned.fasta'\n",
    "print(mut_ali)\n",
    "cmd = [mafft_exe, '--add', seq_add, '--keeplength', seqFileName , '>', f'{report_dir}/{mut_ali}' ]\n",
    "aligner = subprocess.Popen(cmd, stdout=subprocess.PIPE, stderr=subprocess.PIPE)\n",
    "out_put = aligner.communicate()[0].decode('utf8')\n",
    "\n",
    "#print(out_put)\n",
    "mut_test = read_data( f'./{report_dir}{mut_ali}', seq_type = seq_type, is_main=True, gap_threshold=gap_threshold)\n",
    "ref_copy = read_data( seqFileName, seq_type = seq_type, is_main=True, gap_threshold=gap_threshold)\n",
    "last_seq = ref_copy.shape[0]\n",
    "print(ref_copy.shape)\n",
    "#print(last_seq)\n",
    "mut_test = mut_test.iloc[last_seq:].copy()\n",
    "print(mut_test)\n",
    "\n",
    "predictions = load_top_mod.predict(mut_test)\n",
    "print(predictions)\n",
    "mut_fin = pd.DataFrame(index=mut_test.index)\n",
    "mut_fin['Prediction'] = predictions\n",
    "mut_fin.to_csv(path_or_buf= f'{report_dir}/rods_mutant_predictions.csv',mode=\"w\")\n",
    "  "
   ]
  },
  {
   "cell_type": "markdown",
   "metadata": {},
   "source": [
    "Making Function for mutagenesis block... "
   ]
  },
  {
   "cell_type": "code",
   "execution_count": 3,
   "metadata": {},
   "outputs": [],
   "source": [
    "def getAcc(accession, check):\n",
    "    if accession == \"manual\":\n",
    "\n",
    "        if check == 0:\n",
    "            manual = input(\"Enter Reference Sequence: \")\n",
    "        else:\n",
    "            manual = input(\"Enter Target Sequence: \")\n",
    "\n",
    "        return(manual)\n",
    "    \n",
    "    handle = Entrez.efetch(db=\"nucleotide\", id=accession, rettype=\"gb\", retmode=\"text\")\n",
    "    record = SeqIO.read(handle, \"gb\")\n",
    "    handle.close()\n",
    "    for i,feature in enumerate(record.features):\n",
    "         if feature.type=='CDS':\n",
    "              aa = feature.qualifiers['translation'][0]\n",
    "    return(aa)"
   ]
  },
  {
   "cell_type": "code",
   "execution_count": 13,
   "metadata": {},
   "outputs": [],
   "source": [
    "def getCombos(mut_list, wt_seq, mut_acc_file):\n",
    "    wt_seq = f'{wt_seq}_'\n",
    "    x = 1\n",
    "    mut_combos = []\n",
    "    while x in range(len(mut_list)+1):\n",
    "        combinations = list(itertools.combinations(mut_list, x))\n",
    "\n",
    "        mut_accs = []\n",
    "        for combo in combinations:\n",
    "            acc = wt_seq\n",
    "\n",
    "            check = 1\n",
    "            for i in combo:\n",
    "                if check == x:    \n",
    "                    acc+=i\n",
    "                else:\n",
    "                    acc = f'{acc}{i},'\n",
    "                check+=1\n",
    "            print(acc)\n",
    "\n",
    "            mut_combos.append(acc)\n",
    "        x +=1\n",
    "    print(mut_combos)\n",
    "    print(len(mut_combos))\n",
    "\n",
    "    with open(mut_acc_file, 'w') as f:\n",
    "        for mut_acc in mut_combos:\n",
    "            f.write(f'{mut_acc}\\n')\n",
    "    \n",
    "    return(mut_combos)"
   ]
  },
  {
   "cell_type": "code",
   "execution_count": 5,
   "metadata": {},
   "outputs": [],
   "source": [
    "def getMut(mut_combos,raccession,output_file):\n",
    "    switch = 0\n",
    "    bovine = Protein(getAcc(raccession, switch))\n",
    "    switch+=1\n",
    "\n",
    "    try:\n",
    "        mut_combos = open(mut_combos).readlines()\n",
    "    except:\n",
    "        pass\n",
    "\n",
    "\n",
    "    #Fetch sequences to manipulate and align\n",
    "    for lines in mut_combos:     \n",
    "        accession = f'{lines.split(\"_\")[0]}_{lines.split(\"_\")[1]}'\n",
    "        mutation = lines.split('_')[2]\n",
    "\n",
    "        wt = Protein(getAcc(accession, switch))\n",
    "\n",
    "        substitution_matrix = substitution_matrices.load(\"BLOSUM45\")\n",
    "\n",
    "        ##Simple example for testing\n",
    "        #wt=Protein(\"ABCDEF\")\n",
    "        #bovine=Protein(\"ABCDEF\")\n",
    "\n",
    "        alignment, score, start_end_positions = global_pairwise_align_protein(bovine, wt, substitution_matrix=substitution_matrix)\n",
    "        dic = alignment.to_dict()\n",
    "        aligned_bovine = dic[0]\n",
    "        aligned_wt = dic[1]\n",
    "        print(aligned_wt)\n",
    "\n",
    "        #Check if single or multiple mutations entered\n",
    "        mutsuite = mutation\n",
    "        if \",\" in mutation :\n",
    "            mutations = mutation.split(\",\")\n",
    "        else :\n",
    "            #declare empty list and append single mutation so later can be used as list if only one mutation\n",
    "            mutations = []\n",
    "            mutations.append(mutation)\n",
    "\n",
    "        mutated = aligned_wt #need to copy original sequence and accumulate mutations\n",
    "        for mutation in mutations:\n",
    "\n",
    "            #check that mutation is formatted properly\n",
    "            MutationRegex = re.compile(r'([A-Z])(\\d+)([A-Z])')\n",
    "            if re.match(MutationRegex, mutation):\n",
    "                mu = MutationRegex.search(mutation)\n",
    "                old = mu.group(1)\n",
    "                mutsite = int(mu.group(2))\n",
    "                new = mu.group(3)\n",
    "            else :\n",
    "                print(\"ERROR: Expecting mutation name in the format of XaY where X=old amino acid a=number Y=new amino acid\")\n",
    "                quit()\n",
    "\n",
    "            #substract one to account for index starting at zero\n",
    "            mutsite = mutsite-1\n",
    "\n",
    "            #Count gaps to not count them when finding original site to change\n",
    "            gaps = aligned_bovine[:mutsite].count('-')\n",
    "\n",
    "            match = str(mutated[mutsite+gaps:mutsite+gaps+1])\n",
    "\n",
    "            if match != old :\n",
    "                raise Exception(\"ERROR: The mutation label does not match the sequence\")\n",
    "            else: \n",
    "                mutated = str(mutated[:mutsite+gaps]) + new + str(mutated[mutsite+gaps+1:]) \n",
    "\n",
    "        mutated = mutated.replace('-','')\n",
    "        newacc = accession + \"_\" + mutsuite\n",
    "\n",
    "        with open(output_file, 'a') as f:\n",
    "            f.write(f'>{newacc}\\n')\n",
    "            f.write(f'{mutated}\\n')\n",
    "        print(newacc, end='\\t\\t')\n",
    "        print(mutated)\n",
    "\n",
    "    return('All Done!')"
   ]
  },
  {
   "cell_type": "code",
   "execution_count": 14,
   "metadata": {},
   "outputs": [
    {
     "name": "stdout",
     "output_type": "stream",
     "text": [
      "NM_001014890_V87C\n",
      "NM_001014890_L165C\n",
      "NM_001014890_I256L\n",
      "NM_001014890_T62L\n",
      "NM_001014890_P215K\n",
      "NM_001014890_F283D\n",
      "NM_001014890_V87C,L165C\n",
      "NM_001014890_V87C,I256L\n",
      "NM_001014890_V87C,T62L\n",
      "NM_001014890_V87C,P215K\n",
      "NM_001014890_V87C,F283D\n",
      "NM_001014890_L165C,I256L\n",
      "NM_001014890_L165C,T62L\n",
      "NM_001014890_L165C,P215K\n",
      "NM_001014890_L165C,F283D\n",
      "NM_001014890_I256L,T62L\n",
      "NM_001014890_I256L,P215K\n",
      "NM_001014890_I256L,F283D\n",
      "NM_001014890_T62L,P215K\n",
      "NM_001014890_T62L,F283D\n",
      "NM_001014890_P215K,F283D\n",
      "NM_001014890_V87C,L165C,I256L\n",
      "NM_001014890_V87C,L165C,T62L\n",
      "NM_001014890_V87C,L165C,P215K\n",
      "NM_001014890_V87C,L165C,F283D\n",
      "NM_001014890_V87C,I256L,T62L\n",
      "NM_001014890_V87C,I256L,P215K\n",
      "NM_001014890_V87C,I256L,F283D\n",
      "NM_001014890_V87C,T62L,P215K\n",
      "NM_001014890_V87C,T62L,F283D\n",
      "NM_001014890_V87C,P215K,F283D\n",
      "NM_001014890_L165C,I256L,T62L\n",
      "NM_001014890_L165C,I256L,P215K\n",
      "NM_001014890_L165C,I256L,F283D\n",
      "NM_001014890_L165C,T62L,P215K\n",
      "NM_001014890_L165C,T62L,F283D\n",
      "NM_001014890_L165C,P215K,F283D\n",
      "NM_001014890_I256L,T62L,P215K\n",
      "NM_001014890_I256L,T62L,F283D\n",
      "NM_001014890_I256L,P215K,F283D\n",
      "NM_001014890_T62L,P215K,F283D\n",
      "NM_001014890_V87C,L165C,I256L,T62L\n",
      "NM_001014890_V87C,L165C,I256L,P215K\n",
      "NM_001014890_V87C,L165C,I256L,F283D\n",
      "NM_001014890_V87C,L165C,T62L,P215K\n",
      "NM_001014890_V87C,L165C,T62L,F283D\n",
      "NM_001014890_V87C,L165C,P215K,F283D\n",
      "NM_001014890_V87C,I256L,T62L,P215K\n",
      "NM_001014890_V87C,I256L,T62L,F283D\n",
      "NM_001014890_V87C,I256L,P215K,F283D\n",
      "NM_001014890_V87C,T62L,P215K,F283D\n",
      "NM_001014890_L165C,I256L,T62L,P215K\n",
      "NM_001014890_L165C,I256L,T62L,F283D\n",
      "NM_001014890_L165C,I256L,P215K,F283D\n",
      "NM_001014890_L165C,T62L,P215K,F283D\n",
      "NM_001014890_I256L,T62L,P215K,F283D\n",
      "NM_001014890_V87C,L165C,I256L,T62L,P215K\n",
      "NM_001014890_V87C,L165C,I256L,T62L,F283D\n",
      "NM_001014890_V87C,L165C,I256L,P215K,F283D\n",
      "NM_001014890_V87C,L165C,T62L,P215K,F283D\n",
      "NM_001014890_V87C,I256L,T62L,P215K,F283D\n",
      "NM_001014890_L165C,I256L,T62L,P215K,F283D\n",
      "NM_001014890_V87C,L165C,I256L,T62L,P215K,F283D\n",
      "['NM_001014890_V87C', 'NM_001014890_L165C', 'NM_001014890_I256L', 'NM_001014890_T62L', 'NM_001014890_P215K', 'NM_001014890_F283D', 'NM_001014890_V87C,L165C', 'NM_001014890_V87C,I256L', 'NM_001014890_V87C,T62L', 'NM_001014890_V87C,P215K', 'NM_001014890_V87C,F283D', 'NM_001014890_L165C,I256L', 'NM_001014890_L165C,T62L', 'NM_001014890_L165C,P215K', 'NM_001014890_L165C,F283D', 'NM_001014890_I256L,T62L', 'NM_001014890_I256L,P215K', 'NM_001014890_I256L,F283D', 'NM_001014890_T62L,P215K', 'NM_001014890_T62L,F283D', 'NM_001014890_P215K,F283D', 'NM_001014890_V87C,L165C,I256L', 'NM_001014890_V87C,L165C,T62L', 'NM_001014890_V87C,L165C,P215K', 'NM_001014890_V87C,L165C,F283D', 'NM_001014890_V87C,I256L,T62L', 'NM_001014890_V87C,I256L,P215K', 'NM_001014890_V87C,I256L,F283D', 'NM_001014890_V87C,T62L,P215K', 'NM_001014890_V87C,T62L,F283D', 'NM_001014890_V87C,P215K,F283D', 'NM_001014890_L165C,I256L,T62L', 'NM_001014890_L165C,I256L,P215K', 'NM_001014890_L165C,I256L,F283D', 'NM_001014890_L165C,T62L,P215K', 'NM_001014890_L165C,T62L,F283D', 'NM_001014890_L165C,P215K,F283D', 'NM_001014890_I256L,T62L,P215K', 'NM_001014890_I256L,T62L,F283D', 'NM_001014890_I256L,P215K,F283D', 'NM_001014890_T62L,P215K,F283D', 'NM_001014890_V87C,L165C,I256L,T62L', 'NM_001014890_V87C,L165C,I256L,P215K', 'NM_001014890_V87C,L165C,I256L,F283D', 'NM_001014890_V87C,L165C,T62L,P215K', 'NM_001014890_V87C,L165C,T62L,F283D', 'NM_001014890_V87C,L165C,P215K,F283D', 'NM_001014890_V87C,I256L,T62L,P215K', 'NM_001014890_V87C,I256L,T62L,F283D', 'NM_001014890_V87C,I256L,P215K,F283D', 'NM_001014890_V87C,T62L,P215K,F283D', 'NM_001014890_L165C,I256L,T62L,P215K', 'NM_001014890_L165C,I256L,T62L,F283D', 'NM_001014890_L165C,I256L,P215K,F283D', 'NM_001014890_L165C,T62L,P215K,F283D', 'NM_001014890_I256L,T62L,P215K,F283D', 'NM_001014890_V87C,L165C,I256L,T62L,P215K', 'NM_001014890_V87C,L165C,I256L,T62L,F283D', 'NM_001014890_V87C,L165C,I256L,P215K,F283D', 'NM_001014890_V87C,L165C,T62L,P215K,F283D', 'NM_001014890_V87C,I256L,T62L,P215K,F283D', 'NM_001014890_L165C,I256L,T62L,P215K,F283D', 'NM_001014890_V87C,L165C,I256L,T62L,P215K,F283D']\n",
      "63\n"
     ]
    },
    {
     "name": "stderr",
     "output_type": "stream",
     "text": [
      "c:\\Users\\safra\\anaconda3\\envs\\vizphizdb_tools\\Lib\\site-packages\\skbio\\alignment\\_pairwise.py:595: EfficiencyWarning: You're using skbio's python implementation of Needleman-Wunsch alignment. This is known to be very slow (e.g., thousands of times slower than a native C implementation). We'll be adding a faster version soon (see https://github.com/biocore/scikit-bio/issues/254 to track progress on this).\n",
      "  warn(\"You're using skbio's python implementation of Needleman-Wunsch \"\n"
     ]
    },
    {
     "name": "stdout",
     "output_type": "stream",
     "text": [
      "MNGTEGPNFYVPFSNKTGVVRSPFEAPQYYLAEPWQFSMLAAYMFLLIMLGFPINFLTLYVTVQHKKLRTPLNYILLNLAVADLFMVFGGFTTTLYTSLHGYFVFGPTGCNLEGFFATLGGEIALWSLVVLAIERYVVVCKPMSNFRFGENHAIMGVAFTWVMALACAAPPLVGWSRYIPEGMQCSCGIDYYTPHEETNNESFVIYMFVVHFIIPLIVIFFCYGQLVFTVKEAAAQQQESATTQKAEKEVTRMVIIMVIAFLICWLPYAGVAFYIFTHQGSDFGPIFMTIPAFFAKTSAVYNPVIYIMMNKQFRNCMVTTLCCGKNPLGDDEASTTVSKTETSQVAPA\n",
      "NM_001014890_V87C\t\tMNGTEGPNFYVPFSNKTGVVRSPFEAPQYYLAEPWQFSMLAAYMFLLIMLGFPINFLTLYVTVQHKKLRTPLNYILLNLAVADLFMCFGGFTTTLYTSLHGYFVFGPTGCNLEGFFATLGGEIALWSLVVLAIERYVVVCKPMSNFRFGENHAIMGVAFTWVMALACAAPPLVGWSRYIPEGMQCSCGIDYYTPHEETNNESFVIYMFVVHFIIPLIVIFFCYGQLVFTVKEAAAQQQESATTQKAEKEVTRMVIIMVIAFLICWLPYAGVAFYIFTHQGSDFGPIFMTIPAFFAKTSAVYNPVIYIMMNKQFRNCMVTTLCCGKNPLGDDEASTTVSKTETSQVAPA\n"
     ]
    },
    {
     "name": "stderr",
     "output_type": "stream",
     "text": [
      "c:\\Users\\safra\\anaconda3\\envs\\vizphizdb_tools\\Lib\\site-packages\\skbio\\alignment\\_pairwise.py:595: EfficiencyWarning: You're using skbio's python implementation of Needleman-Wunsch alignment. This is known to be very slow (e.g., thousands of times slower than a native C implementation). We'll be adding a faster version soon (see https://github.com/biocore/scikit-bio/issues/254 to track progress on this).\n",
      "  warn(\"You're using skbio's python implementation of Needleman-Wunsch \"\n"
     ]
    },
    {
     "name": "stdout",
     "output_type": "stream",
     "text": [
      "MNGTEGPNFYVPFSNKTGVVRSPFEAPQYYLAEPWQFSMLAAYMFLLIMLGFPINFLTLYVTVQHKKLRTPLNYILLNLAVADLFMVFGGFTTTLYTSLHGYFVFGPTGCNLEGFFATLGGEIALWSLVVLAIERYVVVCKPMSNFRFGENHAIMGVAFTWVMALACAAPPLVGWSRYIPEGMQCSCGIDYYTPHEETNNESFVIYMFVVHFIIPLIVIFFCYGQLVFTVKEAAAQQQESATTQKAEKEVTRMVIIMVIAFLICWLPYAGVAFYIFTHQGSDFGPIFMTIPAFFAKTSAVYNPVIYIMMNKQFRNCMVTTLCCGKNPLGDDEASTTVSKTETSQVAPA\n",
      "NM_001014890_L165C\t\tMNGTEGPNFYVPFSNKTGVVRSPFEAPQYYLAEPWQFSMLAAYMFLLIMLGFPINFLTLYVTVQHKKLRTPLNYILLNLAVADLFMVFGGFTTTLYTSLHGYFVFGPTGCNLEGFFATLGGEIALWSLVVLAIERYVVVCKPMSNFRFGENHAIMGVAFTWVMACACAAPPLVGWSRYIPEGMQCSCGIDYYTPHEETNNESFVIYMFVVHFIIPLIVIFFCYGQLVFTVKEAAAQQQESATTQKAEKEVTRMVIIMVIAFLICWLPYAGVAFYIFTHQGSDFGPIFMTIPAFFAKTSAVYNPVIYIMMNKQFRNCMVTTLCCGKNPLGDDEASTTVSKTETSQVAPA\n"
     ]
    },
    {
     "name": "stderr",
     "output_type": "stream",
     "text": [
      "c:\\Users\\safra\\anaconda3\\envs\\vizphizdb_tools\\Lib\\site-packages\\skbio\\alignment\\_pairwise.py:595: EfficiencyWarning: You're using skbio's python implementation of Needleman-Wunsch alignment. This is known to be very slow (e.g., thousands of times slower than a native C implementation). We'll be adding a faster version soon (see https://github.com/biocore/scikit-bio/issues/254 to track progress on this).\n",
      "  warn(\"You're using skbio's python implementation of Needleman-Wunsch \"\n"
     ]
    },
    {
     "name": "stdout",
     "output_type": "stream",
     "text": [
      "MNGTEGPNFYVPFSNKTGVVRSPFEAPQYYLAEPWQFSMLAAYMFLLIMLGFPINFLTLYVTVQHKKLRTPLNYILLNLAVADLFMVFGGFTTTLYTSLHGYFVFGPTGCNLEGFFATLGGEIALWSLVVLAIERYVVVCKPMSNFRFGENHAIMGVAFTWVMALACAAPPLVGWSRYIPEGMQCSCGIDYYTPHEETNNESFVIYMFVVHFIIPLIVIFFCYGQLVFTVKEAAAQQQESATTQKAEKEVTRMVIIMVIAFLICWLPYAGVAFYIFTHQGSDFGPIFMTIPAFFAKTSAVYNPVIYIMMNKQFRNCMVTTLCCGKNPLGDDEASTTVSKTETSQVAPA\n",
      "NM_001014890_I256L\t\tMNGTEGPNFYVPFSNKTGVVRSPFEAPQYYLAEPWQFSMLAAYMFLLIMLGFPINFLTLYVTVQHKKLRTPLNYILLNLAVADLFMVFGGFTTTLYTSLHGYFVFGPTGCNLEGFFATLGGEIALWSLVVLAIERYVVVCKPMSNFRFGENHAIMGVAFTWVMALACAAPPLVGWSRYIPEGMQCSCGIDYYTPHEETNNESFVIYMFVVHFIIPLIVIFFCYGQLVFTVKEAAAQQQESATTQKAEKEVTRMVILMVIAFLICWLPYAGVAFYIFTHQGSDFGPIFMTIPAFFAKTSAVYNPVIYIMMNKQFRNCMVTTLCCGKNPLGDDEASTTVSKTETSQVAPA\n"
     ]
    },
    {
     "name": "stderr",
     "output_type": "stream",
     "text": [
      "c:\\Users\\safra\\anaconda3\\envs\\vizphizdb_tools\\Lib\\site-packages\\skbio\\alignment\\_pairwise.py:595: EfficiencyWarning: You're using skbio's python implementation of Needleman-Wunsch alignment. This is known to be very slow (e.g., thousands of times slower than a native C implementation). We'll be adding a faster version soon (see https://github.com/biocore/scikit-bio/issues/254 to track progress on this).\n",
      "  warn(\"You're using skbio's python implementation of Needleman-Wunsch \"\n"
     ]
    },
    {
     "name": "stdout",
     "output_type": "stream",
     "text": [
      "MNGTEGPNFYVPFSNKTGVVRSPFEAPQYYLAEPWQFSMLAAYMFLLIMLGFPINFLTLYVTVQHKKLRTPLNYILLNLAVADLFMVFGGFTTTLYTSLHGYFVFGPTGCNLEGFFATLGGEIALWSLVVLAIERYVVVCKPMSNFRFGENHAIMGVAFTWVMALACAAPPLVGWSRYIPEGMQCSCGIDYYTPHEETNNESFVIYMFVVHFIIPLIVIFFCYGQLVFTVKEAAAQQQESATTQKAEKEVTRMVIIMVIAFLICWLPYAGVAFYIFTHQGSDFGPIFMTIPAFFAKTSAVYNPVIYIMMNKQFRNCMVTTLCCGKNPLGDDEASTTVSKTETSQVAPA\n",
      "NM_001014890_T62L\t\tMNGTEGPNFYVPFSNKTGVVRSPFEAPQYYLAEPWQFSMLAAYMFLLIMLGFPINFLTLYVLVQHKKLRTPLNYILLNLAVADLFMVFGGFTTTLYTSLHGYFVFGPTGCNLEGFFATLGGEIALWSLVVLAIERYVVVCKPMSNFRFGENHAIMGVAFTWVMALACAAPPLVGWSRYIPEGMQCSCGIDYYTPHEETNNESFVIYMFVVHFIIPLIVIFFCYGQLVFTVKEAAAQQQESATTQKAEKEVTRMVIIMVIAFLICWLPYAGVAFYIFTHQGSDFGPIFMTIPAFFAKTSAVYNPVIYIMMNKQFRNCMVTTLCCGKNPLGDDEASTTVSKTETSQVAPA\n"
     ]
    },
    {
     "name": "stderr",
     "output_type": "stream",
     "text": [
      "c:\\Users\\safra\\anaconda3\\envs\\vizphizdb_tools\\Lib\\site-packages\\skbio\\alignment\\_pairwise.py:595: EfficiencyWarning: You're using skbio's python implementation of Needleman-Wunsch alignment. This is known to be very slow (e.g., thousands of times slower than a native C implementation). We'll be adding a faster version soon (see https://github.com/biocore/scikit-bio/issues/254 to track progress on this).\n",
      "  warn(\"You're using skbio's python implementation of Needleman-Wunsch \"\n"
     ]
    },
    {
     "name": "stdout",
     "output_type": "stream",
     "text": [
      "MNGTEGPNFYVPFSNKTGVVRSPFEAPQYYLAEPWQFSMLAAYMFLLIMLGFPINFLTLYVTVQHKKLRTPLNYILLNLAVADLFMVFGGFTTTLYTSLHGYFVFGPTGCNLEGFFATLGGEIALWSLVVLAIERYVVVCKPMSNFRFGENHAIMGVAFTWVMALACAAPPLVGWSRYIPEGMQCSCGIDYYTPHEETNNESFVIYMFVVHFIIPLIVIFFCYGQLVFTVKEAAAQQQESATTQKAEKEVTRMVIIMVIAFLICWLPYAGVAFYIFTHQGSDFGPIFMTIPAFFAKTSAVYNPVIYIMMNKQFRNCMVTTLCCGKNPLGDDEASTTVSKTETSQVAPA\n",
      "NM_001014890_P215K\t\tMNGTEGPNFYVPFSNKTGVVRSPFEAPQYYLAEPWQFSMLAAYMFLLIMLGFPINFLTLYVTVQHKKLRTPLNYILLNLAVADLFMVFGGFTTTLYTSLHGYFVFGPTGCNLEGFFATLGGEIALWSLVVLAIERYVVVCKPMSNFRFGENHAIMGVAFTWVMALACAAPPLVGWSRYIPEGMQCSCGIDYYTPHEETNNESFVIYMFVVHFIIKLIVIFFCYGQLVFTVKEAAAQQQESATTQKAEKEVTRMVIIMVIAFLICWLPYAGVAFYIFTHQGSDFGPIFMTIPAFFAKTSAVYNPVIYIMMNKQFRNCMVTTLCCGKNPLGDDEASTTVSKTETSQVAPA\n"
     ]
    },
    {
     "name": "stderr",
     "output_type": "stream",
     "text": [
      "c:\\Users\\safra\\anaconda3\\envs\\vizphizdb_tools\\Lib\\site-packages\\skbio\\alignment\\_pairwise.py:595: EfficiencyWarning: You're using skbio's python implementation of Needleman-Wunsch alignment. This is known to be very slow (e.g., thousands of times slower than a native C implementation). We'll be adding a faster version soon (see https://github.com/biocore/scikit-bio/issues/254 to track progress on this).\n",
      "  warn(\"You're using skbio's python implementation of Needleman-Wunsch \"\n"
     ]
    },
    {
     "name": "stdout",
     "output_type": "stream",
     "text": [
      "MNGTEGPNFYVPFSNKTGVVRSPFEAPQYYLAEPWQFSMLAAYMFLLIMLGFPINFLTLYVTVQHKKLRTPLNYILLNLAVADLFMVFGGFTTTLYTSLHGYFVFGPTGCNLEGFFATLGGEIALWSLVVLAIERYVVVCKPMSNFRFGENHAIMGVAFTWVMALACAAPPLVGWSRYIPEGMQCSCGIDYYTPHEETNNESFVIYMFVVHFIIPLIVIFFCYGQLVFTVKEAAAQQQESATTQKAEKEVTRMVIIMVIAFLICWLPYAGVAFYIFTHQGSDFGPIFMTIPAFFAKTSAVYNPVIYIMMNKQFRNCMVTTLCCGKNPLGDDEASTTVSKTETSQVAPA\n",
      "NM_001014890_F283D\t\tMNGTEGPNFYVPFSNKTGVVRSPFEAPQYYLAEPWQFSMLAAYMFLLIMLGFPINFLTLYVTVQHKKLRTPLNYILLNLAVADLFMVFGGFTTTLYTSLHGYFVFGPTGCNLEGFFATLGGEIALWSLVVLAIERYVVVCKPMSNFRFGENHAIMGVAFTWVMALACAAPPLVGWSRYIPEGMQCSCGIDYYTPHEETNNESFVIYMFVVHFIIPLIVIFFCYGQLVFTVKEAAAQQQESATTQKAEKEVTRMVIIMVIAFLICWLPYAGVAFYIFTHQGSDDGPIFMTIPAFFAKTSAVYNPVIYIMMNKQFRNCMVTTLCCGKNPLGDDEASTTVSKTETSQVAPA\n"
     ]
    },
    {
     "name": "stderr",
     "output_type": "stream",
     "text": [
      "c:\\Users\\safra\\anaconda3\\envs\\vizphizdb_tools\\Lib\\site-packages\\skbio\\alignment\\_pairwise.py:595: EfficiencyWarning: You're using skbio's python implementation of Needleman-Wunsch alignment. This is known to be very slow (e.g., thousands of times slower than a native C implementation). We'll be adding a faster version soon (see https://github.com/biocore/scikit-bio/issues/254 to track progress on this).\n",
      "  warn(\"You're using skbio's python implementation of Needleman-Wunsch \"\n"
     ]
    },
    {
     "name": "stdout",
     "output_type": "stream",
     "text": [
      "MNGTEGPNFYVPFSNKTGVVRSPFEAPQYYLAEPWQFSMLAAYMFLLIMLGFPINFLTLYVTVQHKKLRTPLNYILLNLAVADLFMVFGGFTTTLYTSLHGYFVFGPTGCNLEGFFATLGGEIALWSLVVLAIERYVVVCKPMSNFRFGENHAIMGVAFTWVMALACAAPPLVGWSRYIPEGMQCSCGIDYYTPHEETNNESFVIYMFVVHFIIPLIVIFFCYGQLVFTVKEAAAQQQESATTQKAEKEVTRMVIIMVIAFLICWLPYAGVAFYIFTHQGSDFGPIFMTIPAFFAKTSAVYNPVIYIMMNKQFRNCMVTTLCCGKNPLGDDEASTTVSKTETSQVAPA\n",
      "NM_001014890_V87C,L165C\t\tMNGTEGPNFYVPFSNKTGVVRSPFEAPQYYLAEPWQFSMLAAYMFLLIMLGFPINFLTLYVTVQHKKLRTPLNYILLNLAVADLFMCFGGFTTTLYTSLHGYFVFGPTGCNLEGFFATLGGEIALWSLVVLAIERYVVVCKPMSNFRFGENHAIMGVAFTWVMACACAAPPLVGWSRYIPEGMQCSCGIDYYTPHEETNNESFVIYMFVVHFIIPLIVIFFCYGQLVFTVKEAAAQQQESATTQKAEKEVTRMVIIMVIAFLICWLPYAGVAFYIFTHQGSDFGPIFMTIPAFFAKTSAVYNPVIYIMMNKQFRNCMVTTLCCGKNPLGDDEASTTVSKTETSQVAPA\n"
     ]
    },
    {
     "name": "stderr",
     "output_type": "stream",
     "text": [
      "c:\\Users\\safra\\anaconda3\\envs\\vizphizdb_tools\\Lib\\site-packages\\skbio\\alignment\\_pairwise.py:595: EfficiencyWarning: You're using skbio's python implementation of Needleman-Wunsch alignment. This is known to be very slow (e.g., thousands of times slower than a native C implementation). We'll be adding a faster version soon (see https://github.com/biocore/scikit-bio/issues/254 to track progress on this).\n",
      "  warn(\"You're using skbio's python implementation of Needleman-Wunsch \"\n"
     ]
    },
    {
     "name": "stdout",
     "output_type": "stream",
     "text": [
      "MNGTEGPNFYVPFSNKTGVVRSPFEAPQYYLAEPWQFSMLAAYMFLLIMLGFPINFLTLYVTVQHKKLRTPLNYILLNLAVADLFMVFGGFTTTLYTSLHGYFVFGPTGCNLEGFFATLGGEIALWSLVVLAIERYVVVCKPMSNFRFGENHAIMGVAFTWVMALACAAPPLVGWSRYIPEGMQCSCGIDYYTPHEETNNESFVIYMFVVHFIIPLIVIFFCYGQLVFTVKEAAAQQQESATTQKAEKEVTRMVIIMVIAFLICWLPYAGVAFYIFTHQGSDFGPIFMTIPAFFAKTSAVYNPVIYIMMNKQFRNCMVTTLCCGKNPLGDDEASTTVSKTETSQVAPA\n",
      "NM_001014890_V87C,I256L\t\tMNGTEGPNFYVPFSNKTGVVRSPFEAPQYYLAEPWQFSMLAAYMFLLIMLGFPINFLTLYVTVQHKKLRTPLNYILLNLAVADLFMCFGGFTTTLYTSLHGYFVFGPTGCNLEGFFATLGGEIALWSLVVLAIERYVVVCKPMSNFRFGENHAIMGVAFTWVMALACAAPPLVGWSRYIPEGMQCSCGIDYYTPHEETNNESFVIYMFVVHFIIPLIVIFFCYGQLVFTVKEAAAQQQESATTQKAEKEVTRMVILMVIAFLICWLPYAGVAFYIFTHQGSDFGPIFMTIPAFFAKTSAVYNPVIYIMMNKQFRNCMVTTLCCGKNPLGDDEASTTVSKTETSQVAPA\n"
     ]
    },
    {
     "name": "stderr",
     "output_type": "stream",
     "text": [
      "c:\\Users\\safra\\anaconda3\\envs\\vizphizdb_tools\\Lib\\site-packages\\skbio\\alignment\\_pairwise.py:595: EfficiencyWarning: You're using skbio's python implementation of Needleman-Wunsch alignment. This is known to be very slow (e.g., thousands of times slower than a native C implementation). We'll be adding a faster version soon (see https://github.com/biocore/scikit-bio/issues/254 to track progress on this).\n",
      "  warn(\"You're using skbio's python implementation of Needleman-Wunsch \"\n"
     ]
    },
    {
     "name": "stdout",
     "output_type": "stream",
     "text": [
      "MNGTEGPNFYVPFSNKTGVVRSPFEAPQYYLAEPWQFSMLAAYMFLLIMLGFPINFLTLYVTVQHKKLRTPLNYILLNLAVADLFMVFGGFTTTLYTSLHGYFVFGPTGCNLEGFFATLGGEIALWSLVVLAIERYVVVCKPMSNFRFGENHAIMGVAFTWVMALACAAPPLVGWSRYIPEGMQCSCGIDYYTPHEETNNESFVIYMFVVHFIIPLIVIFFCYGQLVFTVKEAAAQQQESATTQKAEKEVTRMVIIMVIAFLICWLPYAGVAFYIFTHQGSDFGPIFMTIPAFFAKTSAVYNPVIYIMMNKQFRNCMVTTLCCGKNPLGDDEASTTVSKTETSQVAPA\n",
      "NM_001014890_V87C,T62L\t\tMNGTEGPNFYVPFSNKTGVVRSPFEAPQYYLAEPWQFSMLAAYMFLLIMLGFPINFLTLYVLVQHKKLRTPLNYILLNLAVADLFMCFGGFTTTLYTSLHGYFVFGPTGCNLEGFFATLGGEIALWSLVVLAIERYVVVCKPMSNFRFGENHAIMGVAFTWVMALACAAPPLVGWSRYIPEGMQCSCGIDYYTPHEETNNESFVIYMFVVHFIIPLIVIFFCYGQLVFTVKEAAAQQQESATTQKAEKEVTRMVIIMVIAFLICWLPYAGVAFYIFTHQGSDFGPIFMTIPAFFAKTSAVYNPVIYIMMNKQFRNCMVTTLCCGKNPLGDDEASTTVSKTETSQVAPA\n"
     ]
    },
    {
     "name": "stderr",
     "output_type": "stream",
     "text": [
      "c:\\Users\\safra\\anaconda3\\envs\\vizphizdb_tools\\Lib\\site-packages\\skbio\\alignment\\_pairwise.py:595: EfficiencyWarning: You're using skbio's python implementation of Needleman-Wunsch alignment. This is known to be very slow (e.g., thousands of times slower than a native C implementation). We'll be adding a faster version soon (see https://github.com/biocore/scikit-bio/issues/254 to track progress on this).\n",
      "  warn(\"You're using skbio's python implementation of Needleman-Wunsch \"\n"
     ]
    },
    {
     "name": "stdout",
     "output_type": "stream",
     "text": [
      "MNGTEGPNFYVPFSNKTGVVRSPFEAPQYYLAEPWQFSMLAAYMFLLIMLGFPINFLTLYVTVQHKKLRTPLNYILLNLAVADLFMVFGGFTTTLYTSLHGYFVFGPTGCNLEGFFATLGGEIALWSLVVLAIERYVVVCKPMSNFRFGENHAIMGVAFTWVMALACAAPPLVGWSRYIPEGMQCSCGIDYYTPHEETNNESFVIYMFVVHFIIPLIVIFFCYGQLVFTVKEAAAQQQESATTQKAEKEVTRMVIIMVIAFLICWLPYAGVAFYIFTHQGSDFGPIFMTIPAFFAKTSAVYNPVIYIMMNKQFRNCMVTTLCCGKNPLGDDEASTTVSKTETSQVAPA\n",
      "NM_001014890_V87C,P215K\t\tMNGTEGPNFYVPFSNKTGVVRSPFEAPQYYLAEPWQFSMLAAYMFLLIMLGFPINFLTLYVTVQHKKLRTPLNYILLNLAVADLFMCFGGFTTTLYTSLHGYFVFGPTGCNLEGFFATLGGEIALWSLVVLAIERYVVVCKPMSNFRFGENHAIMGVAFTWVMALACAAPPLVGWSRYIPEGMQCSCGIDYYTPHEETNNESFVIYMFVVHFIIKLIVIFFCYGQLVFTVKEAAAQQQESATTQKAEKEVTRMVIIMVIAFLICWLPYAGVAFYIFTHQGSDFGPIFMTIPAFFAKTSAVYNPVIYIMMNKQFRNCMVTTLCCGKNPLGDDEASTTVSKTETSQVAPA\n"
     ]
    },
    {
     "name": "stderr",
     "output_type": "stream",
     "text": [
      "c:\\Users\\safra\\anaconda3\\envs\\vizphizdb_tools\\Lib\\site-packages\\skbio\\alignment\\_pairwise.py:595: EfficiencyWarning: You're using skbio's python implementation of Needleman-Wunsch alignment. This is known to be very slow (e.g., thousands of times slower than a native C implementation). We'll be adding a faster version soon (see https://github.com/biocore/scikit-bio/issues/254 to track progress on this).\n",
      "  warn(\"You're using skbio's python implementation of Needleman-Wunsch \"\n"
     ]
    }
   ],
   "source": [
    "my_list = ['V87C', 'L165C', 'I256L', 'T62L', 'P215K', 'F283D']\n",
    "wt = 'NM_001014890'\n",
    "mut_acc_file = 'test_mut_acc.txt'\n",
    "raccession = 'NM_001014890'\n",
    "mutant_seq_file = 'test_mut_seqs.fasta'\n",
    "combos = getCombos(my_list, wt, mut_acc_file)\n",
    "getMut(combos,raccession,mutant_seq_file)"
   ]
  }
 ],
 "metadata": {
  "kernelspec": {
   "display_name": "deepBreaks",
   "language": "python",
   "name": "python3"
  },
  "language_info": {
   "codemirror_mode": {
    "name": "ipython",
    "version": 3
   },
   "file_extension": ".py",
   "mimetype": "text/x-python",
   "name": "python",
   "nbconvert_exporter": "python",
   "pygments_lexer": "ipython3",
   "version": "3.11.3"
  },
  "orig_nbformat": 4
 },
 "nbformat": 4,
 "nbformat_minor": 2
}
