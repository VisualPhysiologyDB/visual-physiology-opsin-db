{
 "cells": [
  {
   "cell_type": "code",
   "execution_count": null,
   "metadata": {},
   "outputs": [],
   "source": [
    "#packages for utilzing the mutagenesis code\n",
    "from Bio import Entrez\n",
    "Entrez.email = 'sethfrazer.edu'\n",
    "\n",
    "#functions for running mutagenesis\n",
    "from mutagenesis import get_mutant_seqs, get_mutant_combinations"
   ]
  },
  {
   "cell_type": "markdown",
   "metadata": {},
   "source": [
    "### Example 1: Using Mutagenesis to generate a set of mutants from a file of specified mutations"
   ]
  },
  {
   "cell_type": "code",
   "execution_count": null,
   "metadata": {},
   "outputs": [
    {
     "name": "stdout",
     "output_type": "stream",
     "text": [
      "Processing mutants from file './mutagenesis_results/dolphin_mutagenesis_accs.txt'.\n",
      "Fetching reference sequence 'NM_001014890'...\n",
      "Fetching 'NM_001014890' from NCBI...\n",
      "\n",
      "Processing mutations...\n",
      "Processing: NM_001280659.1_A132S\n",
      "Fetching 'NM_001280659.1' from NCBI...\n"
     ]
    },
    {
     "name": "stderr",
     "output_type": "stream",
     "text": [
      "c:\\Users\\safra\\anaconda3\\envs\\deepbreaks\\lib\\site-packages\\skbio\\alignment\\_pairwise.py:595: EfficiencyWarning: You're using skbio's python implementation of Needleman-Wunsch alignment. This is known to be very slow (e.g., thousands of times slower than a native C implementation). We'll be adding a faster version soon (see https://github.com/biocore/scikit-bio/issues/254 to track progress on this).\n",
      "  warn(\"You're using skbio's python implementation of Needleman-Wunsch \"\n"
     ]
    },
    {
     "name": "stdout",
     "output_type": "stream",
     "text": [
      "  -> Saved as NM_001280659.1_A132S\n",
      "Processing: NM_001280659.1_N151S\n",
      "Fetching 'NM_001280659.1' from NCBI...\n"
     ]
    },
    {
     "name": "stderr",
     "output_type": "stream",
     "text": [
      "c:\\Users\\safra\\anaconda3\\envs\\deepbreaks\\lib\\site-packages\\skbio\\alignment\\_pairwise.py:595: EfficiencyWarning: You're using skbio's python implementation of Needleman-Wunsch alignment. This is known to be very slow (e.g., thousands of times slower than a native C implementation). We'll be adding a faster version soon (see https://github.com/biocore/scikit-bio/issues/254 to track progress on this).\n",
      "  warn(\"You're using skbio's python implementation of Needleman-Wunsch \"\n"
     ]
    },
    {
     "name": "stdout",
     "output_type": "stream",
     "text": [
      "  -> Saved as NM_001280659.1_N151S\n",
      "Processing: NM_001280659.1_A132S,N151S\n",
      "Fetching 'NM_001280659.1' from NCBI...\n"
     ]
    },
    {
     "name": "stderr",
     "output_type": "stream",
     "text": [
      "c:\\Users\\safra\\anaconda3\\envs\\deepbreaks\\lib\\site-packages\\skbio\\alignment\\_pairwise.py:595: EfficiencyWarning: You're using skbio's python implementation of Needleman-Wunsch alignment. This is known to be very slow (e.g., thousands of times slower than a native C implementation). We'll be adding a faster version soon (see https://github.com/biocore/scikit-bio/issues/254 to track progress on this).\n",
      "  warn(\"You're using skbio's python implementation of Needleman-Wunsch \"\n"
     ]
    },
    {
     "name": "stdout",
     "output_type": "stream",
     "text": [
      "  -> Saved as NM_001280659.1_A132S,N151S\n",
      "\n",
      "Processing complete. Output saved to './mutagenesis_results/dolphin_mutagenesis.fasta'.\n"
     ]
    }
   ],
   "source": [
    "# Reference sequence for numbering - default is the bovine Rh1 (NM_001014890)\n",
    "raccession = 'NM_001014890'\n",
    "# Input and output file names. \n",
    "input_file = './mutagenesis_results/dolphin_mutagenesis_accs.txt'\n",
    "output_file = './mutagenesis_results/dolphin_mutagenesis.fasta'\n",
    "\n",
    "print(f\"Processing mutants from file '{input_file}'.\")\n",
    "with open(input_file, 'r') as f:\n",
    "    mutant_list = [line.strip() for line in f if line.strip()]\n",
    "\n",
    "# Function to generate mutants\n",
    "get_mutant_seqs(mutant_accessions=mutant_list, output_file=output_file, reference_accession=raccession, \n",
    "                output_format='fasta', allow_wt=True, email='sethfrazer@ucsb.edu')"
   ]
  },
  {
   "cell_type": "markdown",
   "metadata": {},
   "source": [
    "### Example 2: Using Mutagenesis to generate a combionatorial set of mutants from a list of specified mutations and a target wt sequence accession\n",
    "*Note - You can also provide a manual sequence by setting the 'wt' variable to 'manual'"
   ]
  },
  {
   "cell_type": "code",
   "execution_count": 3,
   "metadata": {},
   "outputs": [
    {
     "data": {
      "text/plain": [
       "['NM_001280659.1_A132S', 'NM_001280659.1_N151S', 'NM_001280659.1_A132S,N151S']"
      ]
     },
     "execution_count": 3,
     "metadata": {},
     "output_type": "execute_result"
    }
   ],
   "source": [
    "# Target sequence\n",
    "wt = 'NM_001280659.1'\n",
    "# Set of mutants to generate all possible combinations of\n",
    "mut_list = ['A132S', 'N151S']\n",
    "# Reference sequence for numbering - default is the bovine Rh1 (NM_001014890)\n",
    "raccession = 'NM_001014890.2'\n",
    "# Output file name for mutant sequences\n",
    "mutant_seq_file = './mutagenesis_results/dolphin_mut_seq_combos.fasta'\n",
    "out_format = 'fasta'\n",
    "\n",
    "# Function to generate mutant accession combos\n",
    "mutant_acc_combos = get_mutant_combinations(wt,mut_list)\n",
    "mutant_acc_combos"
   ]
  },
  {
   "cell_type": "code",
   "execution_count": null,
   "metadata": {},
   "outputs": [
    {
     "name": "stdout",
     "output_type": "stream",
     "text": [
      "Fetching reference sequence 'NM_001014890.2'...\n",
      "Fetching 'NM_001014890.2' from NCBI...\n",
      "\n",
      "Processing mutations...\n",
      "Processing: NM_001280659.1_A132S\n",
      "Fetching 'NM_001280659.1' from NCBI...\n"
     ]
    },
    {
     "name": "stderr",
     "output_type": "stream",
     "text": [
      "c:\\Users\\safra\\anaconda3\\envs\\deepbreaks\\lib\\site-packages\\skbio\\alignment\\_pairwise.py:595: EfficiencyWarning: You're using skbio's python implementation of Needleman-Wunsch alignment. This is known to be very slow (e.g., thousands of times slower than a native C implementation). We'll be adding a faster version soon (see https://github.com/biocore/scikit-bio/issues/254 to track progress on this).\n",
      "  warn(\"You're using skbio's python implementation of Needleman-Wunsch \"\n"
     ]
    },
    {
     "name": "stdout",
     "output_type": "stream",
     "text": [
      "  -> Saved as NM_001280659.1_A132S\n",
      "Processing: NM_001280659.1_N151S\n",
      "Fetching 'NM_001280659.1' from NCBI...\n"
     ]
    },
    {
     "name": "stderr",
     "output_type": "stream",
     "text": [
      "c:\\Users\\safra\\anaconda3\\envs\\deepbreaks\\lib\\site-packages\\skbio\\alignment\\_pairwise.py:595: EfficiencyWarning: You're using skbio's python implementation of Needleman-Wunsch alignment. This is known to be very slow (e.g., thousands of times slower than a native C implementation). We'll be adding a faster version soon (see https://github.com/biocore/scikit-bio/issues/254 to track progress on this).\n",
      "  warn(\"You're using skbio's python implementation of Needleman-Wunsch \"\n"
     ]
    },
    {
     "name": "stdout",
     "output_type": "stream",
     "text": [
      "  -> Saved as NM_001280659.1_N151S\n",
      "Processing: NM_001280659.1_A132S,N151S\n",
      "Fetching 'NM_001280659.1' from NCBI...\n"
     ]
    },
    {
     "name": "stderr",
     "output_type": "stream",
     "text": [
      "c:\\Users\\safra\\anaconda3\\envs\\deepbreaks\\lib\\site-packages\\skbio\\alignment\\_pairwise.py:595: EfficiencyWarning: You're using skbio's python implementation of Needleman-Wunsch alignment. This is known to be very slow (e.g., thousands of times slower than a native C implementation). We'll be adding a faster version soon (see https://github.com/biocore/scikit-bio/issues/254 to track progress on this).\n",
      "  warn(\"You're using skbio's python implementation of Needleman-Wunsch \"\n"
     ]
    },
    {
     "name": "stdout",
     "output_type": "stream",
     "text": [
      "  -> Saved as NM_001280659.1_A132S,N151S\n",
      "\n",
      "Processing complete. Output saved to './mutagenesis_results/dolphin_mut_seq_combos.fasta'.\n"
     ]
    }
   ],
   "source": [
    "# Function to generate mutants \n",
    "get_mutant_seqs(mutant_acc_combos, mutant_seq_file, raccession, out_format, allow_wt=True, \n",
    "                email='sethfrazer@ucsb.edu')\n"
   ]
  },
  {
   "cell_type": "markdown",
   "metadata": {},
   "source": [
    "### Example 3: Using in-silico DMS to generate all mutants for each site from a list of specified mutations and a target wt sequence accession"
   ]
  },
  {
   "cell_type": "code",
   "execution_count": 1,
   "metadata": {},
   "outputs": [],
   "source": [
    "from in_silico_dms import generate_dms_library"
   ]
  },
  {
   "cell_type": "code",
   "execution_count": 2,
   "metadata": {},
   "outputs": [
    {
     "name": "stdout",
     "output_type": "stream",
     "text": [
      "Fetching reference sequence 'NM_001014890.2'...\n",
      "Fetching 'NM_001014890.2' from NCBI Nucleotide DB...\n",
      "Fetching wild-type sequence 'NM_001280659.1'...\n",
      "Fetching 'NM_001280659.1' from NCBI Nucleotide DB...\n",
      "Aligning WT to reference to map coordinates...\n"
     ]
    },
    {
     "name": "stderr",
     "output_type": "stream",
     "text": [
      "c:\\Users\\safra\\anaconda3\\envs\\deepbreaks\\lib\\site-packages\\skbio\\alignment\\_pairwise.py:595: EfficiencyWarning: You're using skbio's python implementation of Needleman-Wunsch alignment. This is known to be very slow (e.g., thousands of times slower than a native C implementation). We'll be adding a faster version soon (see https://github.com/biocore/scikit-bio/issues/254 to track progress on this).\n",
      "  warn(\"You're using skbio's python implementation of Needleman-Wunsch \"\n"
     ]
    },
    {
     "name": "stdout",
     "output_type": "stream",
     "text": [
      "\n",
      "--- Generating Mutant Library ---\n",
      "Scanning site: A132 (Found 'A' at position 132)\n",
      "  -> Generated all mutants for site A132 and saved to './mutagenesis_results/dolphin_dms_example.fasta'.\n",
      "Scanning site: N151 (Found 'N' at position 151)\n",
      "  -> Generated all mutants for site N151 and saved to './mutagenesis_results/dolphin_dms_example.fasta'.\n",
      "\n",
      "Deep mutational scanning library generation complete.\n"
     ]
    }
   ],
   "source": [
    "# Target sequence\n",
    "wt = 'NM_001280659.1'\n",
    "# Set of mutants to generate all possible combinations of\n",
    "mut_list = ['A132', 'N151']\n",
    "# Reference sequence for numbering - default is the bovine Rh1 (NM_001014890)\n",
    "raccession = 'NM_001014890.2'\n",
    "# Output file name for mutant sequences\n",
    "mutant_seq_file = './mutagenesis_results/dolphin_dms_example.fasta'\n",
    "out_format = 'fasta'\n",
    "\n",
    "generate_dms_library(\n",
    "    wt, mut_list, mutant_seq_file, raccession,\n",
    "    email='sethfrazer@ucsb.edu')"
   ]
  },
  {
   "cell_type": "markdown",
   "metadata": {},
   "source": [
    "### Example 4: Using Reciprocal-Mutagensis to generate mutants for each site that differs between two aligned sequences, with site numbering relative to a reference sequence\n",
    "\n",
    "*Note* - This script/module requires that you submit a pre-aligned fasta file with three total sequences!\n",
    "- Sequence 1 is the 'reference' sequence used in the alignment - this can be a repeat of one of the two other sequences.\n",
    "- Sequence 2 and 3 are the two sequences we will generate reciprocal mutants for."
   ]
  },
  {
   "cell_type": "code",
   "execution_count": 2,
   "metadata": {},
   "outputs": [
    {
     "name": "stdout",
     "output_type": "stream",
     "text": [
      "Total sequences generated: 8\n",
      "\n",
      "Sequences saved to ./mutagenesis_results/reciprocal_test_mutants.fasta\n"
     ]
    }
   ],
   "source": [
    "# Import the necessary libraries and your new function\n",
    "from Bio import SeqIO\n",
    "from reciprocal_mutagenesis import generate_reciprocal_mutants\n",
    "\n",
    "# 1. Load your aligned sequences from a file\n",
    "input_fasta = \"./mutagenesis_results/reciprocal_test_seqs_aln.fasta\"\n",
    "aligned_records = list(SeqIO.parse(input_fasta, \"fasta\"))\n",
    "\n",
    "# 2. Call thid function to generate the mutants\n",
    "all_sequences = generate_reciprocal_mutants(aligned_records)\n",
    "\n",
    "print(f\"Total sequences generated: {len(all_sequences)-3}\")\n",
    "\n",
    "# 3. save them to a fasta file\n",
    "output_fasta = \"./mutagenesis_results/reciprocal_test_mutants.fasta\"\n",
    "SeqIO.write(all_sequences, output_fasta, \"fasta\")\n",
    "print(f\"\\nSequences saved to {output_fasta}\")"
   ]
  }
 ],
 "metadata": {
  "kernelspec": {
   "display_name": "deepbreaks",
   "language": "python",
   "name": "python3"
  },
  "language_info": {
   "codemirror_mode": {
    "name": "ipython",
    "version": 3
   },
   "file_extension": ".py",
   "mimetype": "text/x-python",
   "name": "python",
   "nbconvert_exporter": "python",
   "pygments_lexer": "ipython3",
   "version": "3.9.17"
  },
  "orig_nbformat": 4
 },
 "nbformat": 4,
 "nbformat_minor": 2
}
